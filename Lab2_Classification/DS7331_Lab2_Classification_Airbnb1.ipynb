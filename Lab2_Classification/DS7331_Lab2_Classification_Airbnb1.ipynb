{
 "cells": [
  {
   "cell_type": "markdown",
   "metadata": {},
   "source": [
    "Andy Nguyen, Michael Wolfe, Spencer Fogelman, & Joseph Caguioa\n",
    "\n",
    "DS 7331.407\n",
    "\n",
    "Thursday 6:30pm - 8:00pm"
   ]
  },
  {
   "cell_type": "markdown",
   "metadata": {},
   "source": [
    "# Introduction\n",
    "\n",
    "*Dataset Source: https://www.kaggle.com/rudymizrahi/airbnb-listings-in-major-us-cities-deloitte-ml*\n",
    "\n",
    "This Kaggle dataset contains data on Airbnb listings for six major U.S. cities. The competition's original goal was to use available attributes to predict listing price. However, the dataset can be adjusted to predict other variables as well.\n",
    "\n",
    "In this notebook, the dataset will be used for practicing classification/regression techniques.\n",
    "\n",
    "### Setup"
   ]
  },
  {
   "cell_type": "code",
   "execution_count": 25,
   "metadata": {},
   "outputs": [
    {
     "ename": "ModuleNotFoundError",
     "evalue": "No module named 'plotnine'",
     "output_type": "error",
     "traceback": [
      "\u001b[1;31m---------------------------------------------------------------------------\u001b[0m",
      "\u001b[1;31mModuleNotFoundError\u001b[0m                       Traceback (most recent call last)",
      "\u001b[1;32m<ipython-input-25-6290aba7ea0c>\u001b[0m in \u001b[0;36m<module>\u001b[1;34m\u001b[0m\n\u001b[0;32m      7\u001b[0m \u001b[1;32mimport\u001b[0m \u001b[0mplotly\u001b[0m\u001b[1;33m.\u001b[0m\u001b[0mgraph_objects\u001b[0m \u001b[1;32mas\u001b[0m \u001b[0mgo\u001b[0m\u001b[1;33m\u001b[0m\u001b[1;33m\u001b[0m\u001b[0m\n\u001b[0;32m      8\u001b[0m \u001b[1;32mimport\u001b[0m \u001b[0mwarnings\u001b[0m\u001b[1;33m\u001b[0m\u001b[1;33m\u001b[0m\u001b[0m\n\u001b[1;32m----> 9\u001b[1;33m \u001b[1;32mfrom\u001b[0m \u001b[0mplotnine\u001b[0m \u001b[1;32mimport\u001b[0m \u001b[1;33m*\u001b[0m\u001b[1;33m\u001b[0m\u001b[1;33m\u001b[0m\u001b[0m\n\u001b[0m\u001b[0;32m     10\u001b[0m \u001b[0mget_ipython\u001b[0m\u001b[1;33m(\u001b[0m\u001b[1;33m)\u001b[0m\u001b[1;33m.\u001b[0m\u001b[0mrun_line_magic\u001b[0m\u001b[1;33m(\u001b[0m\u001b[1;34m'matplotlib'\u001b[0m\u001b[1;33m,\u001b[0m \u001b[1;34m'inline'\u001b[0m\u001b[1;33m)\u001b[0m\u001b[1;33m\u001b[0m\u001b[1;33m\u001b[0m\u001b[0m\n\u001b[0;32m     11\u001b[0m \u001b[0mwarnings\u001b[0m\u001b[1;33m.\u001b[0m\u001b[0mfilterwarnings\u001b[0m\u001b[1;33m(\u001b[0m\u001b[1;34m'ignore'\u001b[0m\u001b[1;33m)\u001b[0m\u001b[1;33m\u001b[0m\u001b[1;33m\u001b[0m\u001b[0m\n",
      "\u001b[1;31mModuleNotFoundError\u001b[0m: No module named 'plotnine'"
     ]
    }
   ],
   "source": [
    "import pandas as pd\n",
    "import numpy as np\n",
    "import seaborn as sns\n",
    "import datetime\n",
    "import csv\n",
    "import matplotlib.pyplot as plt\n",
    "import plotly.graph_objects as go\n",
    "import warnings\n",
    "from plotnine import *\n",
    "%matplotlib inline\n",
    "warnings.filterwarnings('ignore')"
   ]
  },
  {
   "cell_type": "markdown",
   "metadata": {},
   "source": [
    "# Data Preparation Part 1\n",
    "\n",
    "<i><b>10 pts.</b> Define and prepare your class variables. Use proper variable representations (int, float, one-hot, etc.). Use pre-processing methods (as needed) for dimensionality reduction, scaling, etc. Remove variables that are not needed/useful for the analysis.</i>"
   ]
  },
  {
   "cell_type": "code",
   "execution_count": 2,
   "metadata": {},
   "outputs": [],
   "source": [
    "# Load dataset\n",
    "df = pd.read_csv('https://raw.githubusercontent.com/anguyen-07/DS7331-ML_Labs/master/data/airbnb_train.csv')"
   ]
  },
  {
   "cell_type": "code",
   "execution_count": 3,
   "metadata": {},
   "outputs": [
    {
     "data": {
      "text/html": [
       "<div>\n",
       "<style scoped>\n",
       "    .dataframe tbody tr th:only-of-type {\n",
       "        vertical-align: middle;\n",
       "    }\n",
       "\n",
       "    .dataframe tbody tr th {\n",
       "        vertical-align: top;\n",
       "    }\n",
       "\n",
       "    .dataframe thead th {\n",
       "        text-align: right;\n",
       "    }\n",
       "</style>\n",
       "<table border=\"1\" class=\"dataframe\">\n",
       "  <thead>\n",
       "    <tr style=\"text-align: right;\">\n",
       "      <th></th>\n",
       "      <th>id</th>\n",
       "      <th>log_price</th>\n",
       "      <th>property_type</th>\n",
       "      <th>room_type</th>\n",
       "      <th>amenities</th>\n",
       "      <th>accommodates</th>\n",
       "      <th>bathrooms</th>\n",
       "      <th>bed_type</th>\n",
       "      <th>cancellation_policy</th>\n",
       "      <th>cleaning_fee</th>\n",
       "      <th>city</th>\n",
       "      <th>description</th>\n",
       "      <th>first_review</th>\n",
       "      <th>host_has_profile_pic</th>\n",
       "      <th>host_identity_verified</th>\n",
       "      <th>host_response_rate</th>\n",
       "      <th>host_since</th>\n",
       "      <th>instant_bookable</th>\n",
       "      <th>last_review</th>\n",
       "      <th>latitude</th>\n",
       "      <th>longitude</th>\n",
       "      <th>name</th>\n",
       "      <th>neighbourhood</th>\n",
       "      <th>number_of_reviews</th>\n",
       "      <th>review_scores_rating</th>\n",
       "      <th>thumbnail_url</th>\n",
       "      <th>zipcode</th>\n",
       "      <th>bedrooms</th>\n",
       "      <th>beds</th>\n",
       "    </tr>\n",
       "  </thead>\n",
       "  <tbody>\n",
       "    <tr>\n",
       "      <td>0</td>\n",
       "      <td>6901257</td>\n",
       "      <td>5.010635</td>\n",
       "      <td>Apartment</td>\n",
       "      <td>Entire home/apt</td>\n",
       "      <td>{\"Wireless Internet\",\"Air conditioning\",Kitche...</td>\n",
       "      <td>3</td>\n",
       "      <td>1.0</td>\n",
       "      <td>Real Bed</td>\n",
       "      <td>strict</td>\n",
       "      <td>True</td>\n",
       "      <td>NYC</td>\n",
       "      <td>Beautiful, sunlit brownstone 1-bedroom in the ...</td>\n",
       "      <td>2016-06-18</td>\n",
       "      <td>t</td>\n",
       "      <td>t</td>\n",
       "      <td>NaN</td>\n",
       "      <td>2012-03-26</td>\n",
       "      <td>f</td>\n",
       "      <td>2016-07-18</td>\n",
       "      <td>40.696524</td>\n",
       "      <td>-73.991617</td>\n",
       "      <td>Beautiful brownstone 1-bedroom</td>\n",
       "      <td>Brooklyn Heights</td>\n",
       "      <td>2</td>\n",
       "      <td>100.0</td>\n",
       "      <td>https://a0.muscache.com/im/pictures/6d7cbbf7-c...</td>\n",
       "      <td>11201</td>\n",
       "      <td>1.0</td>\n",
       "      <td>1.0</td>\n",
       "    </tr>\n",
       "    <tr>\n",
       "      <td>1</td>\n",
       "      <td>6304928</td>\n",
       "      <td>5.129899</td>\n",
       "      <td>Apartment</td>\n",
       "      <td>Entire home/apt</td>\n",
       "      <td>{\"Wireless Internet\",\"Air conditioning\",Kitche...</td>\n",
       "      <td>7</td>\n",
       "      <td>1.0</td>\n",
       "      <td>Real Bed</td>\n",
       "      <td>strict</td>\n",
       "      <td>True</td>\n",
       "      <td>NYC</td>\n",
       "      <td>Enjoy travelling during your stay in Manhattan...</td>\n",
       "      <td>2017-08-05</td>\n",
       "      <td>t</td>\n",
       "      <td>f</td>\n",
       "      <td>100%</td>\n",
       "      <td>2017-06-19</td>\n",
       "      <td>t</td>\n",
       "      <td>2017-09-23</td>\n",
       "      <td>40.766115</td>\n",
       "      <td>-73.989040</td>\n",
       "      <td>Superb 3BR Apt Located Near Times Square</td>\n",
       "      <td>Hell's Kitchen</td>\n",
       "      <td>6</td>\n",
       "      <td>93.0</td>\n",
       "      <td>https://a0.muscache.com/im/pictures/348a55fe-4...</td>\n",
       "      <td>10019</td>\n",
       "      <td>3.0</td>\n",
       "      <td>3.0</td>\n",
       "    </tr>\n",
       "    <tr>\n",
       "      <td>2</td>\n",
       "      <td>7919400</td>\n",
       "      <td>4.976734</td>\n",
       "      <td>Apartment</td>\n",
       "      <td>Entire home/apt</td>\n",
       "      <td>{TV,\"Cable TV\",\"Wireless Internet\",\"Air condit...</td>\n",
       "      <td>5</td>\n",
       "      <td>1.0</td>\n",
       "      <td>Real Bed</td>\n",
       "      <td>moderate</td>\n",
       "      <td>True</td>\n",
       "      <td>NYC</td>\n",
       "      <td>The Oasis comes complete with a full backyard ...</td>\n",
       "      <td>2017-04-30</td>\n",
       "      <td>t</td>\n",
       "      <td>t</td>\n",
       "      <td>100%</td>\n",
       "      <td>2016-10-25</td>\n",
       "      <td>t</td>\n",
       "      <td>2017-09-14</td>\n",
       "      <td>40.808110</td>\n",
       "      <td>-73.943756</td>\n",
       "      <td>The Garden Oasis</td>\n",
       "      <td>Harlem</td>\n",
       "      <td>10</td>\n",
       "      <td>92.0</td>\n",
       "      <td>https://a0.muscache.com/im/pictures/6fae5362-9...</td>\n",
       "      <td>10027</td>\n",
       "      <td>1.0</td>\n",
       "      <td>3.0</td>\n",
       "    </tr>\n",
       "    <tr>\n",
       "      <td>3</td>\n",
       "      <td>13418779</td>\n",
       "      <td>6.620073</td>\n",
       "      <td>House</td>\n",
       "      <td>Entire home/apt</td>\n",
       "      <td>{TV,\"Cable TV\",Internet,\"Wireless Internet\",Ki...</td>\n",
       "      <td>4</td>\n",
       "      <td>1.0</td>\n",
       "      <td>Real Bed</td>\n",
       "      <td>flexible</td>\n",
       "      <td>True</td>\n",
       "      <td>SF</td>\n",
       "      <td>This light-filled home-away-from-home is super...</td>\n",
       "      <td>NaN</td>\n",
       "      <td>t</td>\n",
       "      <td>t</td>\n",
       "      <td>NaN</td>\n",
       "      <td>2015-04-19</td>\n",
       "      <td>f</td>\n",
       "      <td>NaN</td>\n",
       "      <td>37.772004</td>\n",
       "      <td>-122.431619</td>\n",
       "      <td>Beautiful Flat in the Heart of SF!</td>\n",
       "      <td>Lower Haight</td>\n",
       "      <td>0</td>\n",
       "      <td>NaN</td>\n",
       "      <td>https://a0.muscache.com/im/pictures/72208dad-9...</td>\n",
       "      <td>94117.0</td>\n",
       "      <td>2.0</td>\n",
       "      <td>2.0</td>\n",
       "    </tr>\n",
       "    <tr>\n",
       "      <td>4</td>\n",
       "      <td>3808709</td>\n",
       "      <td>4.744932</td>\n",
       "      <td>Apartment</td>\n",
       "      <td>Entire home/apt</td>\n",
       "      <td>{TV,Internet,\"Wireless Internet\",\"Air conditio...</td>\n",
       "      <td>2</td>\n",
       "      <td>1.0</td>\n",
       "      <td>Real Bed</td>\n",
       "      <td>moderate</td>\n",
       "      <td>True</td>\n",
       "      <td>DC</td>\n",
       "      <td>Cool, cozy, and comfortable studio located in ...</td>\n",
       "      <td>2015-05-12</td>\n",
       "      <td>t</td>\n",
       "      <td>t</td>\n",
       "      <td>100%</td>\n",
       "      <td>2015-03-01</td>\n",
       "      <td>t</td>\n",
       "      <td>2017-01-22</td>\n",
       "      <td>38.925627</td>\n",
       "      <td>-77.034596</td>\n",
       "      <td>Great studio in midtown DC</td>\n",
       "      <td>Columbia Heights</td>\n",
       "      <td>4</td>\n",
       "      <td>40.0</td>\n",
       "      <td>NaN</td>\n",
       "      <td>20009</td>\n",
       "      <td>0.0</td>\n",
       "      <td>1.0</td>\n",
       "    </tr>\n",
       "  </tbody>\n",
       "</table>\n",
       "</div>"
      ],
      "text/plain": [
       "         id  log_price property_type        room_type  \\\n",
       "0   6901257   5.010635     Apartment  Entire home/apt   \n",
       "1   6304928   5.129899     Apartment  Entire home/apt   \n",
       "2   7919400   4.976734     Apartment  Entire home/apt   \n",
       "3  13418779   6.620073         House  Entire home/apt   \n",
       "4   3808709   4.744932     Apartment  Entire home/apt   \n",
       "\n",
       "                                           amenities  accommodates  bathrooms  \\\n",
       "0  {\"Wireless Internet\",\"Air conditioning\",Kitche...             3        1.0   \n",
       "1  {\"Wireless Internet\",\"Air conditioning\",Kitche...             7        1.0   \n",
       "2  {TV,\"Cable TV\",\"Wireless Internet\",\"Air condit...             5        1.0   \n",
       "3  {TV,\"Cable TV\",Internet,\"Wireless Internet\",Ki...             4        1.0   \n",
       "4  {TV,Internet,\"Wireless Internet\",\"Air conditio...             2        1.0   \n",
       "\n",
       "   bed_type cancellation_policy  cleaning_fee city  \\\n",
       "0  Real Bed              strict          True  NYC   \n",
       "1  Real Bed              strict          True  NYC   \n",
       "2  Real Bed            moderate          True  NYC   \n",
       "3  Real Bed            flexible          True   SF   \n",
       "4  Real Bed            moderate          True   DC   \n",
       "\n",
       "                                         description first_review  \\\n",
       "0  Beautiful, sunlit brownstone 1-bedroom in the ...   2016-06-18   \n",
       "1  Enjoy travelling during your stay in Manhattan...   2017-08-05   \n",
       "2  The Oasis comes complete with a full backyard ...   2017-04-30   \n",
       "3  This light-filled home-away-from-home is super...          NaN   \n",
       "4  Cool, cozy, and comfortable studio located in ...   2015-05-12   \n",
       "\n",
       "  host_has_profile_pic host_identity_verified host_response_rate  host_since  \\\n",
       "0                    t                      t                NaN  2012-03-26   \n",
       "1                    t                      f               100%  2017-06-19   \n",
       "2                    t                      t               100%  2016-10-25   \n",
       "3                    t                      t                NaN  2015-04-19   \n",
       "4                    t                      t               100%  2015-03-01   \n",
       "\n",
       "  instant_bookable last_review   latitude   longitude  \\\n",
       "0                f  2016-07-18  40.696524  -73.991617   \n",
       "1                t  2017-09-23  40.766115  -73.989040   \n",
       "2                t  2017-09-14  40.808110  -73.943756   \n",
       "3                f         NaN  37.772004 -122.431619   \n",
       "4                t  2017-01-22  38.925627  -77.034596   \n",
       "\n",
       "                                       name     neighbourhood  \\\n",
       "0            Beautiful brownstone 1-bedroom  Brooklyn Heights   \n",
       "1  Superb 3BR Apt Located Near Times Square    Hell's Kitchen   \n",
       "2                          The Garden Oasis            Harlem   \n",
       "3        Beautiful Flat in the Heart of SF!      Lower Haight   \n",
       "4                Great studio in midtown DC  Columbia Heights   \n",
       "\n",
       "   number_of_reviews  review_scores_rating  \\\n",
       "0                  2                 100.0   \n",
       "1                  6                  93.0   \n",
       "2                 10                  92.0   \n",
       "3                  0                   NaN   \n",
       "4                  4                  40.0   \n",
       "\n",
       "                                       thumbnail_url  zipcode  bedrooms  beds  \n",
       "0  https://a0.muscache.com/im/pictures/6d7cbbf7-c...    11201       1.0   1.0  \n",
       "1  https://a0.muscache.com/im/pictures/348a55fe-4...    10019       3.0   3.0  \n",
       "2  https://a0.muscache.com/im/pictures/6fae5362-9...    10027       1.0   3.0  \n",
       "3  https://a0.muscache.com/im/pictures/72208dad-9...  94117.0       2.0   2.0  \n",
       "4                                                NaN    20009       0.0   1.0  "
      ]
     },
     "execution_count": 3,
     "metadata": {},
     "output_type": "execute_result"
    }
   ],
   "source": [
    "pd.set_option('display.max_columns', None)\n",
    "pd.set_option('display.max_rows', None)\n",
    "df.head()"
   ]
  },
  {
   "cell_type": "code",
   "execution_count": 4,
   "metadata": {},
   "outputs": [
    {
     "data": {
      "text/html": [
       "<div>\n",
       "<style scoped>\n",
       "    .dataframe tbody tr th:only-of-type {\n",
       "        vertical-align: middle;\n",
       "    }\n",
       "\n",
       "    .dataframe tbody tr th {\n",
       "        vertical-align: top;\n",
       "    }\n",
       "\n",
       "    .dataframe thead th {\n",
       "        text-align: right;\n",
       "    }\n",
       "</style>\n",
       "<table border=\"1\" class=\"dataframe\">\n",
       "  <thead>\n",
       "    <tr style=\"text-align: right;\">\n",
       "      <th></th>\n",
       "      <th>grade</th>\n",
       "      <th>review_scores_rating</th>\n",
       "    </tr>\n",
       "  </thead>\n",
       "  <tbody>\n",
       "    <tr>\n",
       "      <td>0</td>\n",
       "      <td>A</td>\n",
       "      <td>100.0</td>\n",
       "    </tr>\n",
       "    <tr>\n",
       "      <td>1</td>\n",
       "      <td>A</td>\n",
       "      <td>93.0</td>\n",
       "    </tr>\n",
       "    <tr>\n",
       "      <td>2</td>\n",
       "      <td>A</td>\n",
       "      <td>92.0</td>\n",
       "    </tr>\n",
       "    <tr>\n",
       "      <td>3</td>\n",
       "      <td>NaN</td>\n",
       "      <td>NaN</td>\n",
       "    </tr>\n",
       "    <tr>\n",
       "      <td>4</td>\n",
       "      <td>F</td>\n",
       "      <td>40.0</td>\n",
       "    </tr>\n",
       "  </tbody>\n",
       "</table>\n",
       "</div>"
      ],
      "text/plain": [
       "  grade  review_scores_rating\n",
       "0     A                 100.0\n",
       "1     A                  93.0\n",
       "2     A                  92.0\n",
       "3   NaN                   NaN\n",
       "4     F                  40.0"
      ]
     },
     "execution_count": 4,
     "metadata": {},
     "output_type": "execute_result"
    }
   ],
   "source": [
    "df['price'] = np.exp(df['log_price'])\n",
    "df['grade'] = pd.cut(df.review_scores_rating, [0,60,70,80,90,101], right=False, labels = ['F', 'D', 'C', 'B', 'A'])\n",
    "df[['grade', 'review_scores_rating']].head()"
   ]
  },
  {
   "cell_type": "code",
   "execution_count": 5,
   "metadata": {},
   "outputs": [],
   "source": [
    "# Clean up datatypes and duplicates\n",
    "df_ratings = df.dropna(subset=['review_scores_rating'])\n",
    "df_ratings.drop_duplicates(inplace=True)\n",
    "floats = ['log_price','bathrooms','latitude','longitude','review_scores_rating']\n",
    "df_ratings[floats] = df_ratings[floats].astype(np.float64)\n",
    "ints = ['id','accommodates','number_of_reviews','bedrooms','beds']\n",
    "df_ratings[\"host_response_rate\"] = df_ratings[\"host_response_rate\"].str.rstrip('%').astype(np.float64)/100\n",
    "date_time = ['first_review','host_since','last_review']\n",
    "df_ratings[date_time] = df_ratings[date_time].apply(pd.to_datetime)\n",
    "booleans = ['host_has_profile_pic','host_identity_verified','instant_bookable']\n",
    "df_ratings[booleans] = df_ratings[booleans].replace({'t':True,'f':False})\n",
    "df_ratings[booleans] = df_ratings[booleans].astype(np.bool)\n",
    "categorical = ['property_type','room_type','bed_type','cancellation_policy','city','neighbourhood','zipcode']\n",
    "df_ratings[categorical] = df_ratings[categorical].astype('category')\n",
    "df_ratings.drop_duplicates()\n",
    "df_ratings.host_since[df_ratings.host_since.isna()] = df_ratings.first_review[df_ratings.host_since.isna()]"
   ]
  },
  {
   "cell_type": "code",
   "execution_count": 6,
   "metadata": {},
   "outputs": [],
   "source": [
    "# Impute missing values\n",
    "df_imputed = df_ratings\n",
    "df_imputed[\"bathrooms\"] = df_imputed[\"bathrooms\"].fillna(df_imputed.groupby([\"property_type\",\"accommodates\"])[\"bathrooms\"].apply(lambda x : x.fillna(x.median())))\n",
    "df_imputed[\"bedrooms\"] = df_imputed[\"bedrooms\"].fillna(df_imputed.groupby([\"property_type\",\"accommodates\"])[\"bedrooms\"].apply(lambda x : x.fillna(x.median())))\n",
    "df_imputed[\"beds\"] = df_imputed[\"beds\"].fillna(df_imputed.groupby([\"property_type\",\"accommodates\"])[\"beds\"].apply(lambda x : x.fillna(x.median())))\n",
    "df_imputed[\"host_response_rate\"] = df_imputed[\"host_response_rate\"].fillna(df_imputed.groupby([\"number_of_reviews\"])[\"host_response_rate\"].apply(lambda x : x.fillna(x.mean())))\n",
    "# Impute Missing Value of for 100% Host Response Rate for Row 48194 - Private Room in Apartment\n",
    "df_imputed[\"host_response_rate\"][df_imputed[\"host_response_rate\"].isna()] = 1.0\n",
    "df_imputed[ints] = df_imputed[ints].astype(np.int64)"
   ]
  },
  {
   "cell_type": "code",
   "execution_count": 7,
   "metadata": {},
   "outputs": [],
   "source": [
    "import re\n",
    "#Create a new cleaned amenities column where all amenities are in list form\n",
    "df_imputed['amenities_new'] = df_imputed.apply(lambda row: re.sub(r'[{}\"\"]', '', row['amenities']), axis=1)\n",
    "df_imputed['amenities_new'] = df_imputed.apply(lambda row: row['amenities_new'].lower().split(','), axis=1)\n",
    "df_imputed = df_imputed.reset_index()\n",
    "df_imputed['length_amenities'] = df_imputed.apply(lambda row: len(row['amenities_new']), axis=1)\n",
    "\n",
    "# Create separate columns based on amenities\n",
    "df_imputed['internet'] = df_imputed.apply(lambda row: 'internet' in row.amenities.lower(), axis=1)\n",
    "df_imputed['TV'] = df_imputed.apply(lambda row: 'tv' in row.amenities.lower(), axis=1)\n",
    "df_imputed['air_conditioning'] = df_imputed.apply(lambda row: 'air conditioning' in row.amenities.lower(), axis=1)\n",
    "df_imputed['kitchen'] = df_imputed.apply(lambda row: 'kitchen' in row.amenities.lower(), axis=1)\n",
    "df_imputed['pool'] = df_imputed.apply(lambda row: 'pool' in row.amenities.lower(), axis=1)\n",
    "df_imputed['parking'] = df_imputed.apply(lambda row: 'parking' in row.amenities.lower(), axis=1)\n",
    "\n",
    "# Get information from description based on length in characters\n",
    "df_imputed['description_length'] = df_imputed['description'].apply(len)\n",
    "\n",
    "# Create the target variable superuser\n",
    "df_imputed['superuser'] = False\n",
    "df_imputed.loc[df.review_scores_rating >=96, 'superuser'] = True"
   ]
  },
  {
   "cell_type": "code",
   "execution_count": 8,
   "metadata": {},
   "outputs": [],
   "source": [
    "import datetime\n",
    "date_published = datetime.datetime(2018,3,14)\n",
    "df_imputed['host_since'] = pd.to_datetime(df_imputed['host_since'])\n",
    "df_imputed['host_since_days'] = df_imputed.apply(lambda row: (date_published - row['host_since']).days, axis=1)"
   ]
  },
  {
   "cell_type": "code",
   "execution_count": 9,
   "metadata": {},
   "outputs": [
    {
     "data": {
      "text/plain": [
       "0              A\n",
       "1              A\n",
       "2              A\n",
       "3    B and lower\n",
       "4              A\n",
       "5              A\n",
       "6              A\n",
       "7              A\n",
       "8              A\n",
       "9              A\n",
       "Name: grade, dtype: object"
      ]
     },
     "execution_count": 9,
     "metadata": {},
     "output_type": "execute_result"
    }
   ],
   "source": [
    "new_grades = {\n",
    "    'A':'A',\n",
    "    'B':'B and lower',\n",
    "    'C':'B and lower',\n",
    "    'D':'B and lower',\n",
    "    'F': 'B and lower'\n",
    "}\n",
    "\n",
    "df_imputed['grade'].map(new_grades).head(10)"
   ]
  },
  {
   "cell_type": "code",
   "execution_count": 10,
   "metadata": {},
   "outputs": [],
   "source": [
    "df_imputed['grade_grouped'] = df_imputed['grade'].map(new_grades)\n",
    "df_imputed['price'] = np.exp(df_imputed['log_price'])"
   ]
  },
  {
   "cell_type": "code",
   "execution_count": 11,
   "metadata": {},
   "outputs": [
    {
     "data": {
      "text/html": [
       "<div>\n",
       "<style scoped>\n",
       "    .dataframe tbody tr th:only-of-type {\n",
       "        vertical-align: middle;\n",
       "    }\n",
       "\n",
       "    .dataframe tbody tr th {\n",
       "        vertical-align: top;\n",
       "    }\n",
       "\n",
       "    .dataframe thead th {\n",
       "        text-align: right;\n",
       "    }\n",
       "</style>\n",
       "<table border=\"1\" class=\"dataframe\">\n",
       "  <thead>\n",
       "    <tr style=\"text-align: right;\">\n",
       "      <th></th>\n",
       "      <th>review_scores_rating</th>\n",
       "      <th>superuser</th>\n",
       "    </tr>\n",
       "  </thead>\n",
       "  <tbody>\n",
       "    <tr>\n",
       "      <td>0</td>\n",
       "      <td>100.0</td>\n",
       "      <td>True</td>\n",
       "    </tr>\n",
       "    <tr>\n",
       "      <td>1</td>\n",
       "      <td>93.0</td>\n",
       "      <td>False</td>\n",
       "    </tr>\n",
       "    <tr>\n",
       "      <td>2</td>\n",
       "      <td>92.0</td>\n",
       "      <td>False</td>\n",
       "    </tr>\n",
       "    <tr>\n",
       "      <td>3</td>\n",
       "      <td>40.0</td>\n",
       "      <td>False</td>\n",
       "    </tr>\n",
       "    <tr>\n",
       "      <td>4</td>\n",
       "      <td>100.0</td>\n",
       "      <td>False</td>\n",
       "    </tr>\n",
       "  </tbody>\n",
       "</table>\n",
       "</div>"
      ],
      "text/plain": [
       "   review_scores_rating  superuser\n",
       "0                 100.0       True\n",
       "1                  93.0      False\n",
       "2                  92.0      False\n",
       "3                  40.0      False\n",
       "4                 100.0      False"
      ]
     },
     "execution_count": 11,
     "metadata": {},
     "output_type": "execute_result"
    }
   ],
   "source": [
    "df_imputed['superuser'] = False\n",
    "df_imputed.loc[df.review_scores_rating >=96, 'superuser'] = True\n",
    "df_imputed[['review_scores_rating', 'superuser']].head()"
   ]
  },
  {
   "cell_type": "code",
   "execution_count": 12,
   "metadata": {},
   "outputs": [],
   "source": [
    "df_imputed['description_length'] = df_imputed['description'].apply(len)"
   ]
  },
  {
   "cell_type": "code",
   "execution_count": 13,
   "metadata": {},
   "outputs": [
    {
     "name": "stdout",
     "output_type": "stream",
     "text": [
      "<class 'pandas.core.frame.DataFrame'>\n",
      "RangeIndex: 57389 entries, 0 to 57388\n",
      "Data columns (total 44 columns):\n",
      "index                     57389 non-null int64\n",
      "id                        57389 non-null int64\n",
      "log_price                 57389 non-null float64\n",
      "property_type             57389 non-null category\n",
      "room_type                 57389 non-null category\n",
      "amenities                 57389 non-null object\n",
      "accommodates              57389 non-null int64\n",
      "bathrooms                 57389 non-null float64\n",
      "bed_type                  57389 non-null category\n",
      "cancellation_policy       57389 non-null category\n",
      "cleaning_fee              57389 non-null bool\n",
      "city                      57389 non-null category\n",
      "description               57389 non-null object\n",
      "first_review              57388 non-null datetime64[ns]\n",
      "host_has_profile_pic      57389 non-null bool\n",
      "host_identity_verified    57389 non-null bool\n",
      "host_response_rate        57389 non-null float64\n",
      "host_since                57389 non-null datetime64[ns]\n",
      "instant_bookable          57389 non-null bool\n",
      "last_review               57388 non-null datetime64[ns]\n",
      "latitude                  57389 non-null float64\n",
      "longitude                 57389 non-null float64\n",
      "name                      57389 non-null object\n",
      "neighbourhood             52343 non-null category\n",
      "number_of_reviews         57389 non-null int64\n",
      "review_scores_rating      57389 non-null float64\n",
      "thumbnail_url             51592 non-null object\n",
      "zipcode                   56712 non-null category\n",
      "bedrooms                  57389 non-null int64\n",
      "beds                      57389 non-null int64\n",
      "price                     57389 non-null float64\n",
      "grade                     57389 non-null category\n",
      "amenities_new             57389 non-null object\n",
      "length_amenities          57389 non-null int64\n",
      "internet                  57389 non-null bool\n",
      "TV                        57389 non-null bool\n",
      "air_conditioning          57389 non-null bool\n",
      "kitchen                   57389 non-null bool\n",
      "pool                      57389 non-null bool\n",
      "parking                   57389 non-null bool\n",
      "description_length        57389 non-null int64\n",
      "superuser                 57389 non-null bool\n",
      "host_since_days           57389 non-null int64\n",
      "grade_grouped             57389 non-null object\n",
      "dtypes: bool(11), category(8), datetime64[ns](3), float64(7), int64(9), object(6)\n",
      "memory usage: 12.1+ MB\n"
     ]
    }
   ],
   "source": [
    "df_imputed.info()"
   ]
  },
  {
   "cell_type": "markdown",
   "metadata": {},
   "source": [
    "# Data Preparation Part 2\n",
    "\n",
    "<i><b>5 pts.</b> Describe the final dataset that is used for classification/regression (include a description of any newly formed variables you created).</i>"
   ]
  },
  {
   "cell_type": "code",
   "execution_count": 14,
   "metadata": {},
   "outputs": [
    {
     "data": {
      "text/html": [
       "<div>\n",
       "<style scoped>\n",
       "    .dataframe tbody tr th:only-of-type {\n",
       "        vertical-align: middle;\n",
       "    }\n",
       "\n",
       "    .dataframe tbody tr th {\n",
       "        vertical-align: top;\n",
       "    }\n",
       "\n",
       "    .dataframe thead th {\n",
       "        text-align: right;\n",
       "    }\n",
       "</style>\n",
       "<table border=\"1\" class=\"dataframe\">\n",
       "  <thead>\n",
       "    <tr style=\"text-align: right;\">\n",
       "      <th></th>\n",
       "      <th>index</th>\n",
       "      <th>id</th>\n",
       "      <th>log_price</th>\n",
       "      <th>accommodates</th>\n",
       "      <th>bathrooms</th>\n",
       "      <th>host_response_rate</th>\n",
       "      <th>latitude</th>\n",
       "      <th>longitude</th>\n",
       "      <th>number_of_reviews</th>\n",
       "      <th>review_scores_rating</th>\n",
       "      <th>bedrooms</th>\n",
       "      <th>beds</th>\n",
       "      <th>price</th>\n",
       "      <th>length_amenities</th>\n",
       "      <th>description_length</th>\n",
       "      <th>host_since_days</th>\n",
       "    </tr>\n",
       "  </thead>\n",
       "  <tbody>\n",
       "    <tr>\n",
       "      <td>count</td>\n",
       "      <td>57389.000000</td>\n",
       "      <td>5.738900e+04</td>\n",
       "      <td>57389.000000</td>\n",
       "      <td>57389.000000</td>\n",
       "      <td>57389.000000</td>\n",
       "      <td>57389.000000</td>\n",
       "      <td>57389.000000</td>\n",
       "      <td>57389.000000</td>\n",
       "      <td>57389.000000</td>\n",
       "      <td>57389.000000</td>\n",
       "      <td>57389.000000</td>\n",
       "      <td>57389.000000</td>\n",
       "      <td>57389.000000</td>\n",
       "      <td>57389.000000</td>\n",
       "      <td>57389.000000</td>\n",
       "      <td>57389.000000</td>\n",
       "    </tr>\n",
       "    <tr>\n",
       "      <td>mean</td>\n",
       "      <td>37089.832616</td>\n",
       "      <td>1.125208e+07</td>\n",
       "      <td>4.749232</td>\n",
       "      <td>3.218247</td>\n",
       "      <td>1.225967</td>\n",
       "      <td>0.952633</td>\n",
       "      <td>38.485767</td>\n",
       "      <td>-92.352714</td>\n",
       "      <td>26.957326</td>\n",
       "      <td>94.067365</td>\n",
       "      <td>1.260904</td>\n",
       "      <td>1.737546</td>\n",
       "      <td>147.748297</td>\n",
       "      <td>18.357943</td>\n",
       "      <td>816.759780</td>\n",
       "      <td>1373.129380</td>\n",
       "    </tr>\n",
       "    <tr>\n",
       "      <td>std</td>\n",
       "      <td>21392.078145</td>\n",
       "      <td>6.082797e+06</td>\n",
       "      <td>0.668700</td>\n",
       "      <td>2.144154</td>\n",
       "      <td>0.561473</td>\n",
       "      <td>0.122000</td>\n",
       "      <td>3.085702</td>\n",
       "      <td>21.670682</td>\n",
       "      <td>41.043449</td>\n",
       "      <td>7.836556</td>\n",
       "      <td>0.841280</td>\n",
       "      <td>1.265311</td>\n",
       "      <td>134.512852</td>\n",
       "      <td>6.907464</td>\n",
       "      <td>286.309171</td>\n",
       "      <td>662.667741</td>\n",
       "    </tr>\n",
       "    <tr>\n",
       "      <td>min</td>\n",
       "      <td>0.000000</td>\n",
       "      <td>3.440000e+02</td>\n",
       "      <td>0.000000</td>\n",
       "      <td>1.000000</td>\n",
       "      <td>0.000000</td>\n",
       "      <td>0.000000</td>\n",
       "      <td>33.338905</td>\n",
       "      <td>-122.511500</td>\n",
       "      <td>1.000000</td>\n",
       "      <td>20.000000</td>\n",
       "      <td>0.000000</td>\n",
       "      <td>0.000000</td>\n",
       "      <td>1.000000</td>\n",
       "      <td>1.000000</td>\n",
       "      <td>1.000000</td>\n",
       "      <td>167.000000</td>\n",
       "    </tr>\n",
       "    <tr>\n",
       "      <td>25%</td>\n",
       "      <td>18508.000000</td>\n",
       "      <td>6.248838e+06</td>\n",
       "      <td>4.304065</td>\n",
       "      <td>2.000000</td>\n",
       "      <td>1.000000</td>\n",
       "      <td>0.940000</td>\n",
       "      <td>34.127760</td>\n",
       "      <td>-118.340924</td>\n",
       "      <td>3.000000</td>\n",
       "      <td>92.000000</td>\n",
       "      <td>1.000000</td>\n",
       "      <td>1.000000</td>\n",
       "      <td>74.000000</td>\n",
       "      <td>14.000000</td>\n",
       "      <td>640.000000</td>\n",
       "      <td>851.000000</td>\n",
       "    </tr>\n",
       "    <tr>\n",
       "      <td>50%</td>\n",
       "      <td>37076.000000</td>\n",
       "      <td>1.222387e+07</td>\n",
       "      <td>4.700480</td>\n",
       "      <td>2.000000</td>\n",
       "      <td>1.000000</td>\n",
       "      <td>1.000000</td>\n",
       "      <td>40.668884</td>\n",
       "      <td>-76.995077</td>\n",
       "      <td>11.000000</td>\n",
       "      <td>96.000000</td>\n",
       "      <td>1.000000</td>\n",
       "      <td>1.000000</td>\n",
       "      <td>110.000000</td>\n",
       "      <td>18.000000</td>\n",
       "      <td>1000.000000</td>\n",
       "      <td>1312.000000</td>\n",
       "    </tr>\n",
       "    <tr>\n",
       "      <td>75%</td>\n",
       "      <td>55662.000000</td>\n",
       "      <td>1.639709e+07</td>\n",
       "      <td>5.164786</td>\n",
       "      <td>4.000000</td>\n",
       "      <td>1.000000</td>\n",
       "      <td>1.000000</td>\n",
       "      <td>40.749182</td>\n",
       "      <td>-73.954325</td>\n",
       "      <td>33.000000</td>\n",
       "      <td>100.000000</td>\n",
       "      <td>1.000000</td>\n",
       "      <td>2.000000</td>\n",
       "      <td>175.000000</td>\n",
       "      <td>22.000000</td>\n",
       "      <td>1000.000000</td>\n",
       "      <td>1841.000000</td>\n",
       "    </tr>\n",
       "    <tr>\n",
       "      <td>max</td>\n",
       "      <td>74110.000000</td>\n",
       "      <td>2.123090e+07</td>\n",
       "      <td>7.600402</td>\n",
       "      <td>16.000000</td>\n",
       "      <td>8.000000</td>\n",
       "      <td>1.000000</td>\n",
       "      <td>42.390437</td>\n",
       "      <td>-71.000261</td>\n",
       "      <td>605.000000</td>\n",
       "      <td>100.000000</td>\n",
       "      <td>10.000000</td>\n",
       "      <td>18.000000</td>\n",
       "      <td>1999.000000</td>\n",
       "      <td>77.000000</td>\n",
       "      <td>1000.000000</td>\n",
       "      <td>3663.000000</td>\n",
       "    </tr>\n",
       "  </tbody>\n",
       "</table>\n",
       "</div>"
      ],
      "text/plain": [
       "              index            id     log_price  accommodates     bathrooms  \\\n",
       "count  57389.000000  5.738900e+04  57389.000000  57389.000000  57389.000000   \n",
       "mean   37089.832616  1.125208e+07      4.749232      3.218247      1.225967   \n",
       "std    21392.078145  6.082797e+06      0.668700      2.144154      0.561473   \n",
       "min        0.000000  3.440000e+02      0.000000      1.000000      0.000000   \n",
       "25%    18508.000000  6.248838e+06      4.304065      2.000000      1.000000   \n",
       "50%    37076.000000  1.222387e+07      4.700480      2.000000      1.000000   \n",
       "75%    55662.000000  1.639709e+07      5.164786      4.000000      1.000000   \n",
       "max    74110.000000  2.123090e+07      7.600402     16.000000      8.000000   \n",
       "\n",
       "       host_response_rate      latitude     longitude  number_of_reviews  \\\n",
       "count        57389.000000  57389.000000  57389.000000       57389.000000   \n",
       "mean             0.952633     38.485767    -92.352714          26.957326   \n",
       "std              0.122000      3.085702     21.670682          41.043449   \n",
       "min              0.000000     33.338905   -122.511500           1.000000   \n",
       "25%              0.940000     34.127760   -118.340924           3.000000   \n",
       "50%              1.000000     40.668884    -76.995077          11.000000   \n",
       "75%              1.000000     40.749182    -73.954325          33.000000   \n",
       "max              1.000000     42.390437    -71.000261         605.000000   \n",
       "\n",
       "       review_scores_rating      bedrooms          beds         price  \\\n",
       "count          57389.000000  57389.000000  57389.000000  57389.000000   \n",
       "mean              94.067365      1.260904      1.737546    147.748297   \n",
       "std                7.836556      0.841280      1.265311    134.512852   \n",
       "min               20.000000      0.000000      0.000000      1.000000   \n",
       "25%               92.000000      1.000000      1.000000     74.000000   \n",
       "50%               96.000000      1.000000      1.000000    110.000000   \n",
       "75%              100.000000      1.000000      2.000000    175.000000   \n",
       "max              100.000000     10.000000     18.000000   1999.000000   \n",
       "\n",
       "       length_amenities  description_length  host_since_days  \n",
       "count      57389.000000        57389.000000     57389.000000  \n",
       "mean          18.357943          816.759780      1373.129380  \n",
       "std            6.907464          286.309171       662.667741  \n",
       "min            1.000000            1.000000       167.000000  \n",
       "25%           14.000000          640.000000       851.000000  \n",
       "50%           18.000000         1000.000000      1312.000000  \n",
       "75%           22.000000         1000.000000      1841.000000  \n",
       "max           77.000000         1000.000000      3663.000000  "
      ]
     },
     "execution_count": 14,
     "metadata": {},
     "output_type": "execute_result"
    }
   ],
   "source": [
    "df_imputed.describe()"
   ]
  },
  {
   "cell_type": "markdown",
   "metadata": {},
   "source": [
    "For the purposes of regression we have created a number of new variables. First, we created log_price, a natural log of the price to amend distribution of the original price variable."
   ]
  },
  {
   "cell_type": "code",
   "execution_count": 15,
   "metadata": {},
   "outputs": [
    {
     "data": {
      "text/plain": [
       "array([[<matplotlib.axes._subplots.AxesSubplot object at 0x000002795B3E2388>]],\n",
       "      dtype=object)"
      ]
     },
     "execution_count": 15,
     "metadata": {},
     "output_type": "execute_result"
    },
    {
     "data": {
      "image/png": "[encoded data removed]",
      "text/plain": [
       "<Figure size 432x288 with 1 Axes>"
      ]
     },
     "metadata": {
      "needs_background": "light"
     },
     "output_type": "display_data"
    }
   ],
   "source": [
    "df_imputed.hist(column='log_price')"
   ]
  },
  {
   "cell_type": "markdown",
   "metadata": {},
   "source": [
    "As pictured above, the log price has a much more normal distribution. Another attribute we created is the host_since_days, a calculation of how many days a host has been active, defined as the days they became a host subtracted from the current date."
   ]
  },
  {
   "cell_type": "code",
   "execution_count": 16,
   "metadata": {},
   "outputs": [
    {
     "data": {
      "text/plain": [
       "<matplotlib.axes._subplots.AxesSubplot at 0x27955bf9f48>"
      ]
     },
     "execution_count": 16,
     "metadata": {},
     "output_type": "execute_result"
    },
    {
     "data": {
      "image/png": "[encoded data removed]",
      "text/plain": [
       "<Figure size 432x288 with 1 Axes>"
      ]
     },
     "metadata": {
      "needs_background": "light"
     },
     "output_type": "display_data"
    }
   ],
   "source": [
    "df_imputed.boxplot(column='host_since_days')"
   ]
  },
  {
   "cell_type": "markdown",
   "metadata": {},
   "source": [
    "This appears to be right-skewed, with a number of outliers. Some of the hosts look to have been active for a very long time. Another \"time-based\" variable we created is the length_amenities variable. Some listings have new amenities added, and we created length amenities to create a metric similar to host_since_days."
   ]
  },
  {
   "cell_type": "code",
   "execution_count": 17,
   "metadata": {},
   "outputs": [
    {
     "data": {
      "text/plain": [
       "<matplotlib.axes._subplots.AxesSubplot at 0x279528a1608>"
      ]
     },
     "execution_count": 17,
     "metadata": {},
     "output_type": "execute_result"
    },
    {
     "data": {
      "image/png": "[encoded data removed]",
      "text/plain": [
       "<Figure size 432x288 with 1 Axes>"
      ]
     },
     "metadata": {
      "needs_background": "light"
     },
     "output_type": "display_data"
    }
   ],
   "source": [
    "df_imputed.boxplot(column='length_amenities')"
   ]
  },
  {
   "cell_type": "code",
   "execution_count": 18,
   "metadata": {},
   "outputs": [
    {
     "data": {
      "text/plain": [
       "array([[<matplotlib.axes._subplots.AxesSubplot object at 0x0000027955D5EB08>]],\n",
       "      dtype=object)"
      ]
     },
     "execution_count": 18,
     "metadata": {},
     "output_type": "execute_result"
    },
    {
     "data": {
      "image/png": "[encoded data removed]",
      "text/plain": [
       "<Figure size 432x288 with 1 Axes>"
      ]
     },
     "metadata": {
      "needs_background": "light"
     },
     "output_type": "display_data"
    }
   ],
   "source": [
    "df_imputed.hist(column='length_amenities')"
   ]
  },
  {
   "cell_type": "markdown",
   "metadata": {},
   "source": [
    "Very heavy right skew. There are a number of amenities that are very new, which pushes the distribution low, but the large concentration of smaller values pushes the handful of older amenities into outlier territory."
   ]
  },
  {
   "cell_type": "markdown",
   "metadata": {},
   "source": [
    "# Modeling and Evaluation 1\n",
    "\n",
    "<i><b>10 pts.</b> Choose and explain your evaluation metrics that you will use (i.e., accuracy, precision, recall, F-measure, or any metric we have discussed). Why are the measure(s) appropriate for analyzing the results of your modeling? Give a detailed explanation backing up any assertions.</i>"
   ]
  },
  {
   "cell_type": "code",
   "execution_count": null,
   "metadata": {},
   "outputs": [],
   "source": [
    "#focus on precision with f measure"
   ]
  },
  {
   "cell_type": "markdown",
   "metadata": {},
   "source": [
    "# Modeling and Evaluation 2\n",
    "\n",
    "<i><b>10 pts.</b> Choose the method you will use for dividing your data into training and testing splits (i.e., are you using Stratified 10-fold cross validation? Why?). Explain why your chosen method is appropriate or use more than one method as appropriate. For example, if you are using time series data then you should be using continuous training and testing sets across time.</i>"
   ]
  },
  {
   "cell_type": "code",
   "execution_count": null,
   "metadata": {},
   "outputs": [],
   "source": [
    "#cross validation w test holdout"
   ]
  },
  {
   "cell_type": "markdown",
   "metadata": {},
   "source": [
    "# Modeling and Evaluation 3\n",
    "\n",
    "<i><b>20 pts.</b> Create three different classification/regression models for each task (e.g., random forest, KNN, and SVM for task one and the same or different algorithms for task two). Two modeling techniques must be new (but the third could be SVM or logistic regression). Adjust parameters as appropriate to increase generalization performance using your chosen metric. You must investigate different parameters of the algorithms!</i>"
   ]
  },
  {
   "cell_type": "code",
   "execution_count": null,
   "metadata": {},
   "outputs": [],
   "source": [
    "#RF, KNN regression, logistic regression"
   ]
  },
  {
   "cell_type": "markdown",
   "metadata": {},
   "source": [
    "# Logistic Regression"
   ]
  },
  {
   "cell_type": "code",
   "execution_count": 19,
   "metadata": {},
   "outputs": [
    {
     "data": {
      "text/plain": [
       "property_type          32\n",
       "room_type               3\n",
       "bed_type                5\n",
       "cancellation_policy     5\n",
       "city                    6\n",
       "dtype: int64"
      ]
     },
     "execution_count": 19,
     "metadata": {},
     "output_type": "execute_result"
    }
   ],
   "source": [
    "#logistic regression prep\n",
    "df_logistic = df_imputed.drop(['index', 'id', 'log_price', 'amenities', 'description', 'zipcode', 'description',\n",
    "                      'latitude', 'longitude', 'name', 'neighbourhood', 'review_scores_rating',\n",
    "                      'thumbnail_url', 'zipcode'], axis=1)\n",
    "categorical_vars = ['property_type', 'room_type', 'bed_type', 'cancellation_policy', 'city']\n",
    "df_logistic[categorical_vars].apply(lambda x: len(x.value_counts()), axis=0)"
   ]
  },
  {
   "cell_type": "code",
   "execution_count": 20,
   "metadata": {},
   "outputs": [
    {
     "data": {
      "text/plain": [
       "Apartment             49003\n",
       "House                 16511\n",
       "Condominium            2658\n",
       "Townhouse              1692\n",
       "Loft                   1244\n",
       "Other                   607\n",
       "Guesthouse              498\n",
       "Bed & Breakfast         462\n",
       "Bungalow                366\n",
       "Villa                   179\n",
       "Dorm                    142\n",
       "Guest suite             123\n",
       "Camper/RV                94\n",
       "Timeshare                77\n",
       "Cabin                    72\n",
       "In-law                   71\n",
       "Hostel                   70\n",
       "Boutique hotel           69\n",
       "Boat                     65\n",
       "Serviced apartment       21\n",
       "Tent                     18\n",
       "Castle                   13\n",
       "Vacation home            11\n",
       "Yurt                      9\n",
       "Hut                       8\n",
       "Treehouse                 7\n",
       "Chalet                    6\n",
       "Earth House               4\n",
       "Tipi                      3\n",
       "Cave                      2\n",
       "Train                     2\n",
       "Lighthouse                1\n",
       "Island                    1\n",
       "Parking Space             1\n",
       "Casa particular           1\n",
       "Name: property_type, dtype: int64"
      ]
     },
     "execution_count": 20,
     "metadata": {},
     "output_type": "execute_result"
    }
   ],
   "source": [
    "df.property_type.value_counts()"
   ]
  },
  {
   "cell_type": "code",
   "execution_count": 22,
   "metadata": {},
   "outputs": [
    {
     "ename": "KeyError",
     "evalue": "\"['property_type'] not found in axis\"",
     "output_type": "error",
     "traceback": [
      "\u001b[1;31m---------------------------------------------------------------------------\u001b[0m",
      "\u001b[1;31mKeyError\u001b[0m                                  Traceback (most recent call last)",
      "\u001b[1;32m<ipython-input-22-99d32b0c0570>\u001b[0m in \u001b[0;36m<module>\u001b[1;34m\u001b[0m\n\u001b[0;32m      1\u001b[0m \u001b[1;31m#delete property type because too many values\u001b[0m\u001b[1;33m\u001b[0m\u001b[1;33m\u001b[0m\u001b[1;33m\u001b[0m\u001b[0m\n\u001b[1;32m----> 2\u001b[1;33m \u001b[0mdf_logistic\u001b[0m\u001b[1;33m.\u001b[0m\u001b[0mdrop\u001b[0m\u001b[1;33m(\u001b[0m\u001b[1;33m[\u001b[0m\u001b[1;34m'property_type'\u001b[0m\u001b[1;33m]\u001b[0m\u001b[1;33m,\u001b[0m \u001b[0maxis\u001b[0m\u001b[1;33m=\u001b[0m\u001b[1;36m1\u001b[0m\u001b[1;33m,\u001b[0m \u001b[0minplace\u001b[0m\u001b[1;33m=\u001b[0m\u001b[1;32mTrue\u001b[0m\u001b[1;33m)\u001b[0m\u001b[1;33m\u001b[0m\u001b[1;33m\u001b[0m\u001b[0m\n\u001b[0m\u001b[0;32m      3\u001b[0m \u001b[0mdf_logistic\u001b[0m\u001b[1;33m.\u001b[0m\u001b[0minfo\u001b[0m\u001b[1;33m(\u001b[0m\u001b[1;33m)\u001b[0m\u001b[1;33m\u001b[0m\u001b[1;33m\u001b[0m\u001b[0m\n",
      "\u001b[1;32m~\\Anaconda3\\envs\\ML1_env\\lib\\site-packages\\pandas\\core\\frame.py\u001b[0m in \u001b[0;36mdrop\u001b[1;34m(self, labels, axis, index, columns, level, inplace, errors)\u001b[0m\n\u001b[0;32m   4100\u001b[0m             \u001b[0mlevel\u001b[0m\u001b[1;33m=\u001b[0m\u001b[0mlevel\u001b[0m\u001b[1;33m,\u001b[0m\u001b[1;33m\u001b[0m\u001b[1;33m\u001b[0m\u001b[0m\n\u001b[0;32m   4101\u001b[0m             \u001b[0minplace\u001b[0m\u001b[1;33m=\u001b[0m\u001b[0minplace\u001b[0m\u001b[1;33m,\u001b[0m\u001b[1;33m\u001b[0m\u001b[1;33m\u001b[0m\u001b[0m\n\u001b[1;32m-> 4102\u001b[1;33m             \u001b[0merrors\u001b[0m\u001b[1;33m=\u001b[0m\u001b[0merrors\u001b[0m\u001b[1;33m,\u001b[0m\u001b[1;33m\u001b[0m\u001b[1;33m\u001b[0m\u001b[0m\n\u001b[0m\u001b[0;32m   4103\u001b[0m         )\n\u001b[0;32m   4104\u001b[0m \u001b[1;33m\u001b[0m\u001b[0m\n",
      "\u001b[1;32m~\\Anaconda3\\envs\\ML1_env\\lib\\site-packages\\pandas\\core\\generic.py\u001b[0m in \u001b[0;36mdrop\u001b[1;34m(self, labels, axis, index, columns, level, inplace, errors)\u001b[0m\n\u001b[0;32m   3912\u001b[0m         \u001b[1;32mfor\u001b[0m \u001b[0maxis\u001b[0m\u001b[1;33m,\u001b[0m \u001b[0mlabels\u001b[0m \u001b[1;32min\u001b[0m \u001b[0maxes\u001b[0m\u001b[1;33m.\u001b[0m\u001b[0mitems\u001b[0m\u001b[1;33m(\u001b[0m\u001b[1;33m)\u001b[0m\u001b[1;33m:\u001b[0m\u001b[1;33m\u001b[0m\u001b[1;33m\u001b[0m\u001b[0m\n\u001b[0;32m   3913\u001b[0m             \u001b[1;32mif\u001b[0m \u001b[0mlabels\u001b[0m \u001b[1;32mis\u001b[0m \u001b[1;32mnot\u001b[0m \u001b[1;32mNone\u001b[0m\u001b[1;33m:\u001b[0m\u001b[1;33m\u001b[0m\u001b[1;33m\u001b[0m\u001b[0m\n\u001b[1;32m-> 3914\u001b[1;33m                 \u001b[0mobj\u001b[0m \u001b[1;33m=\u001b[0m \u001b[0mobj\u001b[0m\u001b[1;33m.\u001b[0m\u001b[0m_drop_axis\u001b[0m\u001b[1;33m(\u001b[0m\u001b[0mlabels\u001b[0m\u001b[1;33m,\u001b[0m \u001b[0maxis\u001b[0m\u001b[1;33m,\u001b[0m \u001b[0mlevel\u001b[0m\u001b[1;33m=\u001b[0m\u001b[0mlevel\u001b[0m\u001b[1;33m,\u001b[0m \u001b[0merrors\u001b[0m\u001b[1;33m=\u001b[0m\u001b[0merrors\u001b[0m\u001b[1;33m)\u001b[0m\u001b[1;33m\u001b[0m\u001b[1;33m\u001b[0m\u001b[0m\n\u001b[0m\u001b[0;32m   3915\u001b[0m \u001b[1;33m\u001b[0m\u001b[0m\n\u001b[0;32m   3916\u001b[0m         \u001b[1;32mif\u001b[0m \u001b[0minplace\u001b[0m\u001b[1;33m:\u001b[0m\u001b[1;33m\u001b[0m\u001b[1;33m\u001b[0m\u001b[0m\n",
      "\u001b[1;32m~\\Anaconda3\\envs\\ML1_env\\lib\\site-packages\\pandas\\core\\generic.py\u001b[0m in \u001b[0;36m_drop_axis\u001b[1;34m(self, labels, axis, level, errors)\u001b[0m\n\u001b[0;32m   3944\u001b[0m                 \u001b[0mnew_axis\u001b[0m \u001b[1;33m=\u001b[0m \u001b[0maxis\u001b[0m\u001b[1;33m.\u001b[0m\u001b[0mdrop\u001b[0m\u001b[1;33m(\u001b[0m\u001b[0mlabels\u001b[0m\u001b[1;33m,\u001b[0m \u001b[0mlevel\u001b[0m\u001b[1;33m=\u001b[0m\u001b[0mlevel\u001b[0m\u001b[1;33m,\u001b[0m \u001b[0merrors\u001b[0m\u001b[1;33m=\u001b[0m\u001b[0merrors\u001b[0m\u001b[1;33m)\u001b[0m\u001b[1;33m\u001b[0m\u001b[1;33m\u001b[0m\u001b[0m\n\u001b[0;32m   3945\u001b[0m             \u001b[1;32melse\u001b[0m\u001b[1;33m:\u001b[0m\u001b[1;33m\u001b[0m\u001b[1;33m\u001b[0m\u001b[0m\n\u001b[1;32m-> 3946\u001b[1;33m                 \u001b[0mnew_axis\u001b[0m \u001b[1;33m=\u001b[0m \u001b[0maxis\u001b[0m\u001b[1;33m.\u001b[0m\u001b[0mdrop\u001b[0m\u001b[1;33m(\u001b[0m\u001b[0mlabels\u001b[0m\u001b[1;33m,\u001b[0m \u001b[0merrors\u001b[0m\u001b[1;33m=\u001b[0m\u001b[0merrors\u001b[0m\u001b[1;33m)\u001b[0m\u001b[1;33m\u001b[0m\u001b[1;33m\u001b[0m\u001b[0m\n\u001b[0m\u001b[0;32m   3947\u001b[0m             \u001b[0mresult\u001b[0m \u001b[1;33m=\u001b[0m \u001b[0mself\u001b[0m\u001b[1;33m.\u001b[0m\u001b[0mreindex\u001b[0m\u001b[1;33m(\u001b[0m\u001b[1;33m**\u001b[0m\u001b[1;33m{\u001b[0m\u001b[0maxis_name\u001b[0m\u001b[1;33m:\u001b[0m \u001b[0mnew_axis\u001b[0m\u001b[1;33m}\u001b[0m\u001b[1;33m)\u001b[0m\u001b[1;33m\u001b[0m\u001b[1;33m\u001b[0m\u001b[0m\n\u001b[0;32m   3948\u001b[0m \u001b[1;33m\u001b[0m\u001b[0m\n",
      "\u001b[1;32m~\\Anaconda3\\envs\\ML1_env\\lib\\site-packages\\pandas\\core\\indexes\\base.py\u001b[0m in \u001b[0;36mdrop\u001b[1;34m(self, labels, errors)\u001b[0m\n\u001b[0;32m   5338\u001b[0m         \u001b[1;32mif\u001b[0m \u001b[0mmask\u001b[0m\u001b[1;33m.\u001b[0m\u001b[0many\u001b[0m\u001b[1;33m(\u001b[0m\u001b[1;33m)\u001b[0m\u001b[1;33m:\u001b[0m\u001b[1;33m\u001b[0m\u001b[1;33m\u001b[0m\u001b[0m\n\u001b[0;32m   5339\u001b[0m             \u001b[1;32mif\u001b[0m \u001b[0merrors\u001b[0m \u001b[1;33m!=\u001b[0m \u001b[1;34m\"ignore\"\u001b[0m\u001b[1;33m:\u001b[0m\u001b[1;33m\u001b[0m\u001b[1;33m\u001b[0m\u001b[0m\n\u001b[1;32m-> 5340\u001b[1;33m                 \u001b[1;32mraise\u001b[0m \u001b[0mKeyError\u001b[0m\u001b[1;33m(\u001b[0m\u001b[1;34m\"{} not found in axis\"\u001b[0m\u001b[1;33m.\u001b[0m\u001b[0mformat\u001b[0m\u001b[1;33m(\u001b[0m\u001b[0mlabels\u001b[0m\u001b[1;33m[\u001b[0m\u001b[0mmask\u001b[0m\u001b[1;33m]\u001b[0m\u001b[1;33m)\u001b[0m\u001b[1;33m)\u001b[0m\u001b[1;33m\u001b[0m\u001b[1;33m\u001b[0m\u001b[0m\n\u001b[0m\u001b[0;32m   5341\u001b[0m             \u001b[0mindexer\u001b[0m \u001b[1;33m=\u001b[0m \u001b[0mindexer\u001b[0m\u001b[1;33m[\u001b[0m\u001b[1;33m~\u001b[0m\u001b[0mmask\u001b[0m\u001b[1;33m]\u001b[0m\u001b[1;33m\u001b[0m\u001b[1;33m\u001b[0m\u001b[0m\n\u001b[0;32m   5342\u001b[0m         \u001b[1;32mreturn\u001b[0m \u001b[0mself\u001b[0m\u001b[1;33m.\u001b[0m\u001b[0mdelete\u001b[0m\u001b[1;33m(\u001b[0m\u001b[0mindexer\u001b[0m\u001b[1;33m)\u001b[0m\u001b[1;33m\u001b[0m\u001b[1;33m\u001b[0m\u001b[0m\n",
      "\u001b[1;31mKeyError\u001b[0m: \"['property_type'] not found in axis\""
     ]
    }
   ],
   "source": [
    "#delete property type because too many values \n",
    "df_logistic.drop(['property_type'], axis=1, inplace=True)\n",
    "df_logistic.info()"
   ]
  },
  {
   "cell_type": "code",
   "execution_count": 23,
   "metadata": {},
   "outputs": [],
   "source": [
    "df_logistic.dropna(inplace=True)"
   ]
  },
  {
   "cell_type": "code",
   "execution_count": 24,
   "metadata": {},
   "outputs": [
    {
     "data": {
      "text/plain": [
       "<matplotlib.axes._subplots.AxesSubplot at 0x2794f7ca3c8>"
      ]
     },
     "execution_count": 24,
     "metadata": {},
     "output_type": "execute_result"
    },
    {
     "data": {
      "image/png": "[encoded data removed]",
      "text/plain": [
       "<Figure size 432x288 with 1 Axes>"
      ]
     },
     "metadata": {
      "needs_background": "light"
     },
     "output_type": "display_data"
    }
   ],
   "source": [
    "sns.countplot(data=df_logistic, x='grade_grouped')"
   ]
  },
  {
   "cell_type": "code",
   "execution_count": 26,
   "metadata": {},
   "outputs": [
    {
     "ename": "NameError",
     "evalue": "name 'ggplot' is not defined",
     "output_type": "error",
     "traceback": [
      "\u001b[1;31m---------------------------------------------------------------------------\u001b[0m",
      "\u001b[1;31mNameError\u001b[0m                                 Traceback (most recent call last)",
      "\u001b[1;32m<ipython-input-26-471a9a91a88c>\u001b[0m in \u001b[0;36m<module>\u001b[1;34m\u001b[0m\n\u001b[0;32m      1\u001b[0m \u001b[1;31m#stacked bar chart of percentages\u001b[0m\u001b[1;33m\u001b[0m\u001b[1;33m\u001b[0m\u001b[1;33m\u001b[0m\u001b[0m\n\u001b[1;32m----> 2\u001b[1;33m (ggplot(df_logistic, aes('city', fill='grade_grouped'))\n\u001b[0m\u001b[0;32m      3\u001b[0m  \u001b[1;33m+\u001b[0m \u001b[0mgeom_bar\u001b[0m\u001b[1;33m(\u001b[0m \u001b[0mposition\u001b[0m\u001b[1;33m=\u001b[0m\u001b[1;34m'fill'\u001b[0m\u001b[1;33m)\u001b[0m\u001b[1;33m\u001b[0m\u001b[1;33m\u001b[0m\u001b[0m\n\u001b[0;32m      4\u001b[0m )\n",
      "\u001b[1;31mNameError\u001b[0m: name 'ggplot' is not defined"
     ]
    }
   ],
   "source": [
    "#stacked bar chart of percentages\n",
    "(ggplot(df_logistic, aes('city', fill='grade_grouped'))\n",
    " + geom_bar( position='fill')\n",
    ")\n"
   ]
  },
  {
   "cell_type": "code",
   "execution_count": null,
   "metadata": {},
   "outputs": [],
   "source": [
    "(ggplot(df_logistic, aes('parking', fill='grade_grouped'))\n",
    " + geom_bar( position='fill')\n",
    ")"
   ]
  },
  {
   "cell_type": "code",
   "execution_count": null,
   "metadata": {},
   "outputs": [],
   "source": [
    "(ggplot(df_logistic, aes('pool', fill='grade_grouped'))\n",
    " + geom_bar( position='fill')\n",
    ")"
   ]
  },
  {
   "cell_type": "code",
   "execution_count": null,
   "metadata": {},
   "outputs": [],
   "source": [
    "(ggplot(df_logistic, aes('kitchen', fill='grade_grouped'))\n",
    " + geom_bar( position='fill')\n",
    ")"
   ]
  },
  {
   "cell_type": "code",
   "execution_count": null,
   "metadata": {},
   "outputs": [],
   "source": [
    "(ggplot(df_logistic, aes('air_conditioning', fill='grade_grouped'))\n",
    " + geom_bar( position='fill')\n",
    ")"
   ]
  },
  {
   "cell_type": "code",
   "execution_count": null,
   "metadata": {},
   "outputs": [],
   "source": [
    "(ggplot(df_logistic, aes('TV', fill='grade_grouped'))\n",
    " + geom_bar( position='fill')\n",
    ")"
   ]
  },
  {
   "cell_type": "code",
   "execution_count": null,
   "metadata": {},
   "outputs": [],
   "source": [
    "(ggplot(df_logistic, aes('internet', fill='grade_grouped'))\n",
    " + geom_bar( position='fill')\n",
    ")"
   ]
  },
  {
   "cell_type": "code",
   "execution_count": null,
   "metadata": {},
   "outputs": [],
   "source": [
    "(ggplot(df_logistic, aes('instant_bookable', fill='grade_grouped'))\n",
    " + geom_bar( position='fill')\n",
    ")"
   ]
  },
  {
   "cell_type": "code",
   "execution_count": null,
   "metadata": {},
   "outputs": [],
   "source": [
    "(ggplot(df_logistic, aes('room_type', fill='grade_grouped'))\n",
    " + geom_bar( position='fill')\n",
    ")\n"
   ]
  },
  {
   "cell_type": "code",
   "execution_count": null,
   "metadata": {},
   "outputs": [],
   "source": [
    "(ggplot(df_logistic, aes('bed_type', fill='grade_grouped'))\n",
    " + geom_bar( position='fill')\n",
    ")"
   ]
  },
  {
   "cell_type": "code",
   "execution_count": null,
   "metadata": {},
   "outputs": [],
   "source": [
    "(ggplot(df_logistic, aes('cleaning_fee', fill='grade_grouped'))\n",
    " + geom_bar( position='fill')\n",
    ")"
   ]
  },
  {
   "cell_type": "code",
   "execution_count": null,
   "metadata": {},
   "outputs": [],
   "source": [
    "(ggplot(df_logistic, aes('host_has_profile_pic', fill='grade_grouped'))\n",
    " + geom_bar( position='fill')\n",
    ")"
   ]
  },
  {
   "cell_type": "code",
   "execution_count": null,
   "metadata": {},
   "outputs": [],
   "source": [
    "(ggplot(df_logistic, aes('host_identity_verified', fill='grade_grouped'))\n",
    " + geom_bar( position='fill')\n",
    ")"
   ]
  },
  {
   "cell_type": "code",
   "execution_count": null,
   "metadata": {},
   "outputs": [],
   "source": [
    "(ggplot(df_logistic, aes('cancellation_policy', fill='grade_grouped'))\n",
    " + geom_bar( position='fill')\n",
    ")\n"
   ]
  },
  {
   "cell_type": "code",
   "execution_count": 27,
   "metadata": {},
   "outputs": [
    {
     "name": "stdout",
     "output_type": "stream",
     "text": [
      "<class 'pandas.core.frame.DataFrame'>\n",
      "Int64Index: 57388 entries, 0 to 57388\n",
      "Data columns (total 31 columns):\n",
      "room_type                 57388 non-null category\n",
      "accommodates              57388 non-null int64\n",
      "bathrooms                 57388 non-null float64\n",
      "bed_type                  57388 non-null category\n",
      "cancellation_policy       57388 non-null category\n",
      "cleaning_fee              57388 non-null bool\n",
      "city                      57388 non-null category\n",
      "first_review              57388 non-null datetime64[ns]\n",
      "host_has_profile_pic      57388 non-null bool\n",
      "host_identity_verified    57388 non-null bool\n",
      "host_response_rate        57388 non-null float64\n",
      "host_since                57388 non-null datetime64[ns]\n",
      "instant_bookable          57388 non-null bool\n",
      "last_review               57388 non-null datetime64[ns]\n",
      "number_of_reviews         57388 non-null int64\n",
      "bedrooms                  57388 non-null int64\n",
      "beds                      57388 non-null int64\n",
      "price                     57388 non-null float64\n",
      "grade                     57388 non-null category\n",
      "amenities_new             57388 non-null object\n",
      "length_amenities          57388 non-null int64\n",
      "internet                  57388 non-null bool\n",
      "TV                        57388 non-null bool\n",
      "air_conditioning          57388 non-null bool\n",
      "kitchen                   57388 non-null bool\n",
      "pool                      57388 non-null bool\n",
      "parking                   57388 non-null bool\n",
      "description_length        57388 non-null int64\n",
      "superuser                 57388 non-null bool\n",
      "host_since_days           57388 non-null int64\n",
      "grade_grouped             57388 non-null object\n",
      "dtypes: bool(11), category(5), datetime64[ns](3), float64(3), int64(7), object(2)\n",
      "memory usage: 10.4+ MB\n"
     ]
    }
   ],
   "source": [
    "df_logistic.info()"
   ]
  },
  {
   "cell_type": "code",
   "execution_count": 28,
   "metadata": {},
   "outputs": [
    {
     "data": {
      "text/plain": [
       "<matplotlib.axes._subplots.AxesSubplot at 0x279512dc7c8>"
      ]
     },
     "execution_count": 28,
     "metadata": {},
     "output_type": "execute_result"
    },
    {
     "data": {
      "image/png": "[encoded data removed]",
      "text/plain": [
       "<Figure size 432x288 with 1 Axes>"
      ]
     },
     "metadata": {
      "needs_background": "light"
     },
     "output_type": "display_data"
    }
   ],
   "source": [
    "sns.boxplot(x='grade_grouped', y='host_since_days', data=df_logistic)"
   ]
  },
  {
   "cell_type": "code",
   "execution_count": 29,
   "metadata": {},
   "outputs": [
    {
     "data": {
      "text/plain": [
       "<matplotlib.axes._subplots.AxesSubplot at 0x27950e62448>"
      ]
     },
     "execution_count": 29,
     "metadata": {},
     "output_type": "execute_result"
    },
    {
     "data": {
      "image/png": "[encoded data removed]",
      "text/plain": [
       "<Figure size 432x288 with 1 Axes>"
      ]
     },
     "metadata": {
      "needs_background": "light"
     },
     "output_type": "display_data"
    }
   ],
   "source": [
    "sns.boxplot(x='grade_grouped', y='description_length', data=df_logistic)"
   ]
  },
  {
   "cell_type": "code",
   "execution_count": 30,
   "metadata": {},
   "outputs": [
    {
     "data": {
      "text/plain": [
       "<matplotlib.axes._subplots.AxesSubplot at 0x2795cbcf7c8>"
      ]
     },
     "execution_count": 30,
     "metadata": {},
     "output_type": "execute_result"
    },
    {
     "data": {
      "image/png": "[encoded data removed]",
      "text/plain": [
       "<Figure size 432x288 with 1 Axes>"
      ]
     },
     "metadata": {
      "needs_background": "light"
     },
     "output_type": "display_data"
    }
   ],
   "source": [
    "sns.boxplot(x='grade_grouped', y='length_amenities', data=df_logistic)"
   ]
  },
  {
   "cell_type": "code",
   "execution_count": 31,
   "metadata": {},
   "outputs": [
    {
     "data": {
      "text/plain": [
       "<matplotlib.axes._subplots.AxesSubplot at 0x2795223ce88>"
      ]
     },
     "execution_count": 31,
     "metadata": {},
     "output_type": "execute_result"
    },
    {
     "data": {
      "image/png": "[encoded data removed]",
      "text/plain": [
       "<Figure size 432x288 with 1 Axes>"
      ]
     },
     "metadata": {
      "needs_background": "light"
     },
     "output_type": "display_data"
    }
   ],
   "source": [
    "sns.boxplot(x='grade_grouped', y='price', data=df_logistic)"
   ]
  },
  {
   "cell_type": "code",
   "execution_count": 32,
   "metadata": {},
   "outputs": [
    {
     "data": {
      "text/plain": [
       "<matplotlib.axes._subplots.AxesSubplot at 0x279487e9588>"
      ]
     },
     "execution_count": 32,
     "metadata": {},
     "output_type": "execute_result"
    },
    {
     "data": {
      "image/png": "[encoded data removed]",
      "text/plain": [
       "<Figure size 432x288 with 1 Axes>"
      ]
     },
     "metadata": {
      "needs_background": "light"
     },
     "output_type": "display_data"
    }
   ],
   "source": [
    "sns.boxplot(x='grade_grouped', y='beds', data=df_logistic)"
   ]
  },
  {
   "cell_type": "code",
   "execution_count": 33,
   "metadata": {},
   "outputs": [
    {
     "data": {
      "text/plain": [
       "<matplotlib.axes._subplots.AxesSubplot at 0x279488d3708>"
      ]
     },
     "execution_count": 33,
     "metadata": {},
     "output_type": "execute_result"
    },
    {
     "data": {
      "image/png": "[encoded data removed]",
      "text/plain": [
       "<Figure size 432x288 with 1 Axes>"
      ]
     },
     "metadata": {
      "needs_background": "light"
     },
     "output_type": "display_data"
    }
   ],
   "source": [
    "sns.boxplot(x='grade_grouped', y='bedrooms', data=df_logistic)"
   ]
  },
  {
   "cell_type": "code",
   "execution_count": 34,
   "metadata": {},
   "outputs": [
    {
     "data": {
      "text/plain": [
       "<matplotlib.axes._subplots.AxesSubplot at 0x27949522b48>"
      ]
     },
     "execution_count": 34,
     "metadata": {},
     "output_type": "execute_result"
    },
    {
     "data": {
      "image/png": "[encoded data removed]",
      "text/plain": [
       "<Figure size 432x288 with 1 Axes>"
      ]
     },
     "metadata": {
      "needs_background": "light"
     },
     "output_type": "display_data"
    }
   ],
   "source": [
    "sns.boxplot(x='superuser', y='number_of_reviews', data=df_logistic)"
   ]
  },
  {
   "cell_type": "code",
   "execution_count": 35,
   "metadata": {},
   "outputs": [
    {
     "data": {
      "text/plain": [
       "<matplotlib.axes._subplots.AxesSubplot at 0x2794a058448>"
      ]
     },
     "execution_count": 35,
     "metadata": {},
     "output_type": "execute_result"
    },
    {
     "data": {
      "image/png": "[encoded data removed]",
      "text/plain": [
       "<Figure size 432x288 with 1 Axes>"
      ]
     },
     "metadata": {
      "needs_background": "light"
     },
     "output_type": "display_data"
    }
   ],
   "source": [
    "sns.boxplot(x='superuser', y='host_response_rate', data=df_logistic)"
   ]
  },
  {
   "cell_type": "code",
   "execution_count": 36,
   "metadata": {},
   "outputs": [
    {
     "data": {
      "text/plain": [
       "<matplotlib.axes._subplots.AxesSubplot at 0x2794a0bdb08>"
      ]
     },
     "execution_count": 36,
     "metadata": {},
     "output_type": "execute_result"
    },
    {
     "data": {
      "image/png": "[encoded data removed]",
      "text/plain": [
       "<Figure size 432x288 with 1 Axes>"
      ]
     },
     "metadata": {
      "needs_background": "light"
     },
     "output_type": "display_data"
    }
   ],
   "source": [
    "sns.boxplot(x='grade_grouped', y='bathrooms', data=df_logistic)"
   ]
  },
  {
   "cell_type": "code",
   "execution_count": 37,
   "metadata": {},
   "outputs": [
    {
     "data": {
      "text/plain": [
       "<matplotlib.axes._subplots.AxesSubplot at 0x2794e75e948>"
      ]
     },
     "execution_count": 37,
     "metadata": {},
     "output_type": "execute_result"
    },
    {
     "data": {
      "image/png": "[encoded data removed]",
      "text/plain": [
       "<Figure size 432x288 with 1 Axes>"
      ]
     },
     "metadata": {
      "needs_background": "light"
     },
     "output_type": "display_data"
    }
   ],
   "source": [
    "sns.boxplot(x='grade_grouped', y='accommodates', data=df_logistic)"
   ]
  },
  {
   "cell_type": "markdown",
   "metadata": {},
   "source": [
    "# Logistic Regression without Scaling"
   ]
  },
  {
   "cell_type": "code",
   "execution_count": 38,
   "metadata": {},
   "outputs": [
    {
     "data": {
      "text/html": [
       "<div>\n",
       "<style scoped>\n",
       "    .dataframe tbody tr th:only-of-type {\n",
       "        vertical-align: middle;\n",
       "    }\n",
       "\n",
       "    .dataframe tbody tr th {\n",
       "        vertical-align: top;\n",
       "    }\n",
       "\n",
       "    .dataframe thead th {\n",
       "        text-align: right;\n",
       "    }\n",
       "</style>\n",
       "<table border=\"1\" class=\"dataframe\">\n",
       "  <thead>\n",
       "    <tr style=\"text-align: right;\">\n",
       "      <th></th>\n",
       "      <th>room_type</th>\n",
       "      <th>accommodates</th>\n",
       "      <th>bathrooms</th>\n",
       "      <th>bed_type</th>\n",
       "      <th>cancellation_policy</th>\n",
       "      <th>cleaning_fee</th>\n",
       "      <th>city</th>\n",
       "      <th>first_review</th>\n",
       "      <th>host_has_profile_pic</th>\n",
       "      <th>host_identity_verified</th>\n",
       "      <th>host_response_rate</th>\n",
       "      <th>host_since</th>\n",
       "      <th>instant_bookable</th>\n",
       "      <th>last_review</th>\n",
       "      <th>number_of_reviews</th>\n",
       "      <th>bedrooms</th>\n",
       "      <th>beds</th>\n",
       "      <th>price</th>\n",
       "      <th>grade</th>\n",
       "      <th>amenities_new</th>\n",
       "      <th>length_amenities</th>\n",
       "      <th>internet</th>\n",
       "      <th>TV</th>\n",
       "      <th>air_conditioning</th>\n",
       "      <th>kitchen</th>\n",
       "      <th>pool</th>\n",
       "      <th>parking</th>\n",
       "      <th>description_length</th>\n",
       "      <th>superuser</th>\n",
       "      <th>host_since_days</th>\n",
       "      <th>grade_grouped</th>\n",
       "      <th>parking</th>\n",
       "      <th>pool</th>\n",
       "      <th>kitchen</th>\n",
       "      <th>air_conditioning</th>\n",
       "      <th>TV</th>\n",
       "      <th>internet</th>\n",
       "      <th>instant_bookable</th>\n",
       "      <th>host_identity_verified</th>\n",
       "      <th>host_has_profile_pic</th>\n",
       "      <th>cleaning_fee</th>\n",
       "      <th>city_Chicago</th>\n",
       "      <th>city_DC</th>\n",
       "      <th>city_LA</th>\n",
       "      <th>city_NYC</th>\n",
       "      <th>city_SF</th>\n",
       "      <th>cancellation_policy_moderate</th>\n",
       "      <th>cancellation_policy_strict</th>\n",
       "      <th>cancellation_policy_super_strict_30</th>\n",
       "      <th>cancellation_policy_super_strict_60</th>\n",
       "      <th>bed_type_Couch</th>\n",
       "      <th>bed_type_Futon</th>\n",
       "      <th>bed_type_Pull-out Sofa</th>\n",
       "      <th>bed_type_Real Bed</th>\n",
       "      <th>room_type_Private room</th>\n",
       "      <th>room_type_Shared room</th>\n",
       "    </tr>\n",
       "  </thead>\n",
       "  <tbody>\n",
       "    <tr>\n",
       "      <td>0</td>\n",
       "      <td>Entire home/apt</td>\n",
       "      <td>3</td>\n",
       "      <td>1.0</td>\n",
       "      <td>Real Bed</td>\n",
       "      <td>strict</td>\n",
       "      <td>True</td>\n",
       "      <td>NYC</td>\n",
       "      <td>2016-06-18</td>\n",
       "      <td>True</td>\n",
       "      <td>True</td>\n",
       "      <td>0.924026</td>\n",
       "      <td>2012-03-26</td>\n",
       "      <td>False</td>\n",
       "      <td>2016-07-18</td>\n",
       "      <td>2</td>\n",
       "      <td>1</td>\n",
       "      <td>1</td>\n",
       "      <td>150.0</td>\n",
       "      <td>A</td>\n",
       "      <td>[wireless internet, air conditioning, kitchen,...</td>\n",
       "      <td>9</td>\n",
       "      <td>True</td>\n",
       "      <td>False</td>\n",
       "      <td>True</td>\n",
       "      <td>True</td>\n",
       "      <td>False</td>\n",
       "      <td>False</td>\n",
       "      <td>211</td>\n",
       "      <td>True</td>\n",
       "      <td>2179</td>\n",
       "      <td>A</td>\n",
       "      <td>False</td>\n",
       "      <td>False</td>\n",
       "      <td>True</td>\n",
       "      <td>True</td>\n",
       "      <td>False</td>\n",
       "      <td>True</td>\n",
       "      <td>False</td>\n",
       "      <td>True</td>\n",
       "      <td>True</td>\n",
       "      <td>True</td>\n",
       "      <td>0</td>\n",
       "      <td>0</td>\n",
       "      <td>0</td>\n",
       "      <td>1</td>\n",
       "      <td>0</td>\n",
       "      <td>0</td>\n",
       "      <td>1</td>\n",
       "      <td>0</td>\n",
       "      <td>0</td>\n",
       "      <td>0</td>\n",
       "      <td>0</td>\n",
       "      <td>0</td>\n",
       "      <td>1</td>\n",
       "      <td>0</td>\n",
       "      <td>0</td>\n",
       "    </tr>\n",
       "    <tr>\n",
       "      <td>1</td>\n",
       "      <td>Entire home/apt</td>\n",
       "      <td>7</td>\n",
       "      <td>1.0</td>\n",
       "      <td>Real Bed</td>\n",
       "      <td>strict</td>\n",
       "      <td>True</td>\n",
       "      <td>NYC</td>\n",
       "      <td>2017-08-05</td>\n",
       "      <td>True</td>\n",
       "      <td>False</td>\n",
       "      <td>1.000000</td>\n",
       "      <td>2017-06-19</td>\n",
       "      <td>True</td>\n",
       "      <td>2017-09-23</td>\n",
       "      <td>6</td>\n",
       "      <td>3</td>\n",
       "      <td>3</td>\n",
       "      <td>169.0</td>\n",
       "      <td>A</td>\n",
       "      <td>[wireless internet, air conditioning, kitchen,...</td>\n",
       "      <td>15</td>\n",
       "      <td>True</td>\n",
       "      <td>False</td>\n",
       "      <td>True</td>\n",
       "      <td>True</td>\n",
       "      <td>False</td>\n",
       "      <td>False</td>\n",
       "      <td>1000</td>\n",
       "      <td>False</td>\n",
       "      <td>268</td>\n",
       "      <td>A</td>\n",
       "      <td>False</td>\n",
       "      <td>False</td>\n",
       "      <td>True</td>\n",
       "      <td>True</td>\n",
       "      <td>False</td>\n",
       "      <td>True</td>\n",
       "      <td>True</td>\n",
       "      <td>False</td>\n",
       "      <td>True</td>\n",
       "      <td>True</td>\n",
       "      <td>0</td>\n",
       "      <td>0</td>\n",
       "      <td>0</td>\n",
       "      <td>1</td>\n",
       "      <td>0</td>\n",
       "      <td>0</td>\n",
       "      <td>1</td>\n",
       "      <td>0</td>\n",
       "      <td>0</td>\n",
       "      <td>0</td>\n",
       "      <td>0</td>\n",
       "      <td>0</td>\n",
       "      <td>1</td>\n",
       "      <td>0</td>\n",
       "      <td>0</td>\n",
       "    </tr>\n",
       "    <tr>\n",
       "      <td>2</td>\n",
       "      <td>Entire home/apt</td>\n",
       "      <td>5</td>\n",
       "      <td>1.0</td>\n",
       "      <td>Real Bed</td>\n",
       "      <td>moderate</td>\n",
       "      <td>True</td>\n",
       "      <td>NYC</td>\n",
       "      <td>2017-04-30</td>\n",
       "      <td>True</td>\n",
       "      <td>True</td>\n",
       "      <td>1.000000</td>\n",
       "      <td>2016-10-25</td>\n",
       "      <td>True</td>\n",
       "      <td>2017-09-14</td>\n",
       "      <td>10</td>\n",
       "      <td>1</td>\n",
       "      <td>3</td>\n",
       "      <td>145.0</td>\n",
       "      <td>A</td>\n",
       "      <td>[tv, cable tv, wireless internet, air conditio...</td>\n",
       "      <td>19</td>\n",
       "      <td>True</td>\n",
       "      <td>True</td>\n",
       "      <td>True</td>\n",
       "      <td>True</td>\n",
       "      <td>False</td>\n",
       "      <td>False</td>\n",
       "      <td>1000</td>\n",
       "      <td>False</td>\n",
       "      <td>505</td>\n",
       "      <td>A</td>\n",
       "      <td>False</td>\n",
       "      <td>False</td>\n",
       "      <td>True</td>\n",
       "      <td>True</td>\n",
       "      <td>True</td>\n",
       "      <td>True</td>\n",
       "      <td>True</td>\n",
       "      <td>True</td>\n",
       "      <td>True</td>\n",
       "      <td>True</td>\n",
       "      <td>0</td>\n",
       "      <td>0</td>\n",
       "      <td>0</td>\n",
       "      <td>1</td>\n",
       "      <td>0</td>\n",
       "      <td>1</td>\n",
       "      <td>0</td>\n",
       "      <td>0</td>\n",
       "      <td>0</td>\n",
       "      <td>0</td>\n",
       "      <td>0</td>\n",
       "      <td>0</td>\n",
       "      <td>1</td>\n",
       "      <td>0</td>\n",
       "      <td>0</td>\n",
       "    </tr>\n",
       "    <tr>\n",
       "      <td>3</td>\n",
       "      <td>Entire home/apt</td>\n",
       "      <td>2</td>\n",
       "      <td>1.0</td>\n",
       "      <td>Real Bed</td>\n",
       "      <td>moderate</td>\n",
       "      <td>True</td>\n",
       "      <td>DC</td>\n",
       "      <td>2015-05-12</td>\n",
       "      <td>True</td>\n",
       "      <td>True</td>\n",
       "      <td>1.000000</td>\n",
       "      <td>2015-03-01</td>\n",
       "      <td>True</td>\n",
       "      <td>2017-01-22</td>\n",
       "      <td>4</td>\n",
       "      <td>0</td>\n",
       "      <td>1</td>\n",
       "      <td>115.0</td>\n",
       "      <td>F</td>\n",
       "      <td>[tv, internet, wireless internet, air conditio...</td>\n",
       "      <td>12</td>\n",
       "      <td>True</td>\n",
       "      <td>True</td>\n",
       "      <td>True</td>\n",
       "      <td>True</td>\n",
       "      <td>False</td>\n",
       "      <td>False</td>\n",
       "      <td>699</td>\n",
       "      <td>False</td>\n",
       "      <td>1109</td>\n",
       "      <td>B and lower</td>\n",
       "      <td>False</td>\n",
       "      <td>False</td>\n",
       "      <td>True</td>\n",
       "      <td>True</td>\n",
       "      <td>True</td>\n",
       "      <td>True</td>\n",
       "      <td>True</td>\n",
       "      <td>True</td>\n",
       "      <td>True</td>\n",
       "      <td>True</td>\n",
       "      <td>0</td>\n",
       "      <td>1</td>\n",
       "      <td>0</td>\n",
       "      <td>0</td>\n",
       "      <td>0</td>\n",
       "      <td>1</td>\n",
       "      <td>0</td>\n",
       "      <td>0</td>\n",
       "      <td>0</td>\n",
       "      <td>0</td>\n",
       "      <td>0</td>\n",
       "      <td>0</td>\n",
       "      <td>1</td>\n",
       "      <td>0</td>\n",
       "      <td>0</td>\n",
       "    </tr>\n",
       "    <tr>\n",
       "      <td>4</td>\n",
       "      <td>Private room</td>\n",
       "      <td>2</td>\n",
       "      <td>1.0</td>\n",
       "      <td>Real Bed</td>\n",
       "      <td>strict</td>\n",
       "      <td>True</td>\n",
       "      <td>SF</td>\n",
       "      <td>2017-08-27</td>\n",
       "      <td>True</td>\n",
       "      <td>True</td>\n",
       "      <td>1.000000</td>\n",
       "      <td>2017-06-07</td>\n",
       "      <td>True</td>\n",
       "      <td>2017-09-05</td>\n",
       "      <td>3</td>\n",
       "      <td>1</td>\n",
       "      <td>1</td>\n",
       "      <td>85.0</td>\n",
       "      <td>A</td>\n",
       "      <td>[tv, wireless internet, heating, smoke detecto...</td>\n",
       "      <td>10</td>\n",
       "      <td>True</td>\n",
       "      <td>True</td>\n",
       "      <td>False</td>\n",
       "      <td>False</td>\n",
       "      <td>False</td>\n",
       "      <td>False</td>\n",
       "      <td>1000</td>\n",
       "      <td>False</td>\n",
       "      <td>280</td>\n",
       "      <td>A</td>\n",
       "      <td>False</td>\n",
       "      <td>False</td>\n",
       "      <td>False</td>\n",
       "      <td>False</td>\n",
       "      <td>True</td>\n",
       "      <td>True</td>\n",
       "      <td>True</td>\n",
       "      <td>True</td>\n",
       "      <td>True</td>\n",
       "      <td>True</td>\n",
       "      <td>0</td>\n",
       "      <td>0</td>\n",
       "      <td>0</td>\n",
       "      <td>0</td>\n",
       "      <td>1</td>\n",
       "      <td>0</td>\n",
       "      <td>1</td>\n",
       "      <td>0</td>\n",
       "      <td>0</td>\n",
       "      <td>0</td>\n",
       "      <td>0</td>\n",
       "      <td>0</td>\n",
       "      <td>1</td>\n",
       "      <td>1</td>\n",
       "      <td>0</td>\n",
       "    </tr>\n",
       "  </tbody>\n",
       "</table>\n",
       "</div>"
      ],
      "text/plain": [
       "         room_type  accommodates  bathrooms  bed_type cancellation_policy  \\\n",
       "0  Entire home/apt             3        1.0  Real Bed              strict   \n",
       "1  Entire home/apt             7        1.0  Real Bed              strict   \n",
       "2  Entire home/apt             5        1.0  Real Bed            moderate   \n",
       "3  Entire home/apt             2        1.0  Real Bed            moderate   \n",
       "4     Private room             2        1.0  Real Bed              strict   \n",
       "\n",
       "   cleaning_fee city first_review  host_has_profile_pic  \\\n",
       "0          True  NYC   2016-06-18                  True   \n",
       "1          True  NYC   2017-08-05                  True   \n",
       "2          True  NYC   2017-04-30                  True   \n",
       "3          True   DC   2015-05-12                  True   \n",
       "4          True   SF   2017-08-27                  True   \n",
       "\n",
       "   host_identity_verified  host_response_rate host_since  instant_bookable  \\\n",
       "0                    True            0.924026 2012-03-26             False   \n",
       "1                   False            1.000000 2017-06-19              True   \n",
       "2                    True            1.000000 2016-10-25              True   \n",
       "3                    True            1.000000 2015-03-01              True   \n",
       "4                    True            1.000000 2017-06-07              True   \n",
       "\n",
       "  last_review  number_of_reviews  bedrooms  beds  price grade  \\\n",
       "0  2016-07-18                  2         1     1  150.0     A   \n",
       "1  2017-09-23                  6         3     3  169.0     A   \n",
       "2  2017-09-14                 10         1     3  145.0     A   \n",
       "3  2017-01-22                  4         0     1  115.0     F   \n",
       "4  2017-09-05                  3         1     1   85.0     A   \n",
       "\n",
       "                                       amenities_new  length_amenities  \\\n",
       "0  [wireless internet, air conditioning, kitchen,...                 9   \n",
       "1  [wireless internet, air conditioning, kitchen,...                15   \n",
       "2  [tv, cable tv, wireless internet, air conditio...                19   \n",
       "3  [tv, internet, wireless internet, air conditio...                12   \n",
       "4  [tv, wireless internet, heating, smoke detecto...                10   \n",
       "\n",
       "   internet     TV  air_conditioning  kitchen   pool  parking  \\\n",
       "0      True  False              True     True  False    False   \n",
       "1      True  False              True     True  False    False   \n",
       "2      True   True              True     True  False    False   \n",
       "3      True   True              True     True  False    False   \n",
       "4      True   True             False    False  False    False   \n",
       "\n",
       "   description_length  superuser  host_since_days grade_grouped  parking  \\\n",
       "0                 211       True             2179             A    False   \n",
       "1                1000      False              268             A    False   \n",
       "2                1000      False              505             A    False   \n",
       "3                 699      False             1109   B and lower    False   \n",
       "4                1000      False              280             A    False   \n",
       "\n",
       "    pool  kitchen  air_conditioning     TV  internet  instant_bookable  \\\n",
       "0  False     True              True  False      True             False   \n",
       "1  False     True              True  False      True              True   \n",
       "2  False     True              True   True      True              True   \n",
       "3  False     True              True   True      True              True   \n",
       "4  False    False             False   True      True              True   \n",
       "\n",
       "   host_identity_verified  host_has_profile_pic  cleaning_fee  city_Chicago  \\\n",
       "0                    True                  True          True             0   \n",
       "1                   False                  True          True             0   \n",
       "2                    True                  True          True             0   \n",
       "3                    True                  True          True             0   \n",
       "4                    True                  True          True             0   \n",
       "\n",
       "   city_DC  city_LA  city_NYC  city_SF  cancellation_policy_moderate  \\\n",
       "0        0        0         1        0                             0   \n",
       "1        0        0         1        0                             0   \n",
       "2        0        0         1        0                             1   \n",
       "3        1        0         0        0                             1   \n",
       "4        0        0         0        1                             0   \n",
       "\n",
       "   cancellation_policy_strict  cancellation_policy_super_strict_30  \\\n",
       "0                           1                                    0   \n",
       "1                           1                                    0   \n",
       "2                           0                                    0   \n",
       "3                           0                                    0   \n",
       "4                           1                                    0   \n",
       "\n",
       "   cancellation_policy_super_strict_60  bed_type_Couch  bed_type_Futon  \\\n",
       "0                                    0               0               0   \n",
       "1                                    0               0               0   \n",
       "2                                    0               0               0   \n",
       "3                                    0               0               0   \n",
       "4                                    0               0               0   \n",
       "\n",
       "   bed_type_Pull-out Sofa  bed_type_Real Bed  room_type_Private room  \\\n",
       "0                       0                  1                       0   \n",
       "1                       0                  1                       0   \n",
       "2                       0                  1                       0   \n",
       "3                       0                  1                       0   \n",
       "4                       0                  1                       1   \n",
       "\n",
       "   room_type_Shared room  \n",
       "0                      0  \n",
       "1                      0  \n",
       "2                      0  \n",
       "3                      0  \n",
       "4                      0  "
      ]
     },
     "execution_count": 38,
     "metadata": {},
     "output_type": "execute_result"
    }
   ],
   "source": [
    "# Create dummy variables\n",
    "categorical_vars = ['parking', 'pool', 'kitchen', 'air_conditioning', 'TV', 'internet', 'instant_bookable',\n",
    "                   'host_identity_verified', 'host_has_profile_pic', 'city', 'cleaning_fee', 'cancellation_policy',\n",
    "                   'bed_type', 'room_type']\n",
    "\n",
    "dummy_df = pd.get_dummies(df_logistic[categorical_vars], drop_first=True)\n",
    "\n",
    "df_logistic_dummy = pd.concat([df_logistic, dummy_df], axis=1)\n",
    "\n",
    "df_logistic_dummy.head()"
   ]
  },
  {
   "cell_type": "code",
   "execution_count": 39,
   "metadata": {},
   "outputs": [
    {
     "data": {
      "text/html": [
       "<div>\n",
       "<style scoped>\n",
       "    .dataframe tbody tr th:only-of-type {\n",
       "        vertical-align: middle;\n",
       "    }\n",
       "\n",
       "    .dataframe tbody tr th {\n",
       "        vertical-align: top;\n",
       "    }\n",
       "\n",
       "    .dataframe thead th {\n",
       "        text-align: right;\n",
       "    }\n",
       "</style>\n",
       "<table border=\"1\" class=\"dataframe\">\n",
       "  <thead>\n",
       "    <tr style=\"text-align: right;\">\n",
       "      <th></th>\n",
       "      <th>accommodates</th>\n",
       "      <th>bathrooms</th>\n",
       "      <th>first_review</th>\n",
       "      <th>host_response_rate</th>\n",
       "      <th>host_since</th>\n",
       "      <th>last_review</th>\n",
       "      <th>number_of_reviews</th>\n",
       "      <th>bedrooms</th>\n",
       "      <th>beds</th>\n",
       "      <th>price</th>\n",
       "      <th>grade</th>\n",
       "      <th>amenities_new</th>\n",
       "      <th>length_amenities</th>\n",
       "      <th>description_length</th>\n",
       "      <th>superuser</th>\n",
       "      <th>host_since_days</th>\n",
       "      <th>grade_grouped</th>\n",
       "      <th>city_Chicago</th>\n",
       "      <th>city_DC</th>\n",
       "      <th>city_LA</th>\n",
       "      <th>city_NYC</th>\n",
       "      <th>city_SF</th>\n",
       "      <th>cancellation_policy_moderate</th>\n",
       "      <th>cancellation_policy_strict</th>\n",
       "      <th>cancellation_policy_super_strict_30</th>\n",
       "      <th>cancellation_policy_super_strict_60</th>\n",
       "      <th>bed_type_Couch</th>\n",
       "      <th>bed_type_Futon</th>\n",
       "      <th>bed_type_Pull-out Sofa</th>\n",
       "      <th>bed_type_Real Bed</th>\n",
       "      <th>room_type_Private room</th>\n",
       "      <th>room_type_Shared room</th>\n",
       "    </tr>\n",
       "  </thead>\n",
       "  <tbody>\n",
       "    <tr>\n",
       "      <td>0</td>\n",
       "      <td>3</td>\n",
       "      <td>1.0</td>\n",
       "      <td>2016-06-18</td>\n",
       "      <td>0.924026</td>\n",
       "      <td>2012-03-26</td>\n",
       "      <td>2016-07-18</td>\n",
       "      <td>2</td>\n",
       "      <td>1</td>\n",
       "      <td>1</td>\n",
       "      <td>150.0</td>\n",
       "      <td>A</td>\n",
       "      <td>[wireless internet, air conditioning, kitchen,...</td>\n",
       "      <td>9</td>\n",
       "      <td>211</td>\n",
       "      <td>True</td>\n",
       "      <td>2179</td>\n",
       "      <td>A</td>\n",
       "      <td>0</td>\n",
       "      <td>0</td>\n",
       "      <td>0</td>\n",
       "      <td>1</td>\n",
       "      <td>0</td>\n",
       "      <td>0</td>\n",
       "      <td>1</td>\n",
       "      <td>0</td>\n",
       "      <td>0</td>\n",
       "      <td>0</td>\n",
       "      <td>0</td>\n",
       "      <td>0</td>\n",
       "      <td>1</td>\n",
       "      <td>0</td>\n",
       "      <td>0</td>\n",
       "    </tr>\n",
       "    <tr>\n",
       "      <td>1</td>\n",
       "      <td>7</td>\n",
       "      <td>1.0</td>\n",
       "      <td>2017-08-05</td>\n",
       "      <td>1.000000</td>\n",
       "      <td>2017-06-19</td>\n",
       "      <td>2017-09-23</td>\n",
       "      <td>6</td>\n",
       "      <td>3</td>\n",
       "      <td>3</td>\n",
       "      <td>169.0</td>\n",
       "      <td>A</td>\n",
       "      <td>[wireless internet, air conditioning, kitchen,...</td>\n",
       "      <td>15</td>\n",
       "      <td>1000</td>\n",
       "      <td>False</td>\n",
       "      <td>268</td>\n",
       "      <td>A</td>\n",
       "      <td>0</td>\n",
       "      <td>0</td>\n",
       "      <td>0</td>\n",
       "      <td>1</td>\n",
       "      <td>0</td>\n",
       "      <td>0</td>\n",
       "      <td>1</td>\n",
       "      <td>0</td>\n",
       "      <td>0</td>\n",
       "      <td>0</td>\n",
       "      <td>0</td>\n",
       "      <td>0</td>\n",
       "      <td>1</td>\n",
       "      <td>0</td>\n",
       "      <td>0</td>\n",
       "    </tr>\n",
       "    <tr>\n",
       "      <td>2</td>\n",
       "      <td>5</td>\n",
       "      <td>1.0</td>\n",
       "      <td>2017-04-30</td>\n",
       "      <td>1.000000</td>\n",
       "      <td>2016-10-25</td>\n",
       "      <td>2017-09-14</td>\n",
       "      <td>10</td>\n",
       "      <td>1</td>\n",
       "      <td>3</td>\n",
       "      <td>145.0</td>\n",
       "      <td>A</td>\n",
       "      <td>[tv, cable tv, wireless internet, air conditio...</td>\n",
       "      <td>19</td>\n",
       "      <td>1000</td>\n",
       "      <td>False</td>\n",
       "      <td>505</td>\n",
       "      <td>A</td>\n",
       "      <td>0</td>\n",
       "      <td>0</td>\n",
       "      <td>0</td>\n",
       "      <td>1</td>\n",
       "      <td>0</td>\n",
       "      <td>1</td>\n",
       "      <td>0</td>\n",
       "      <td>0</td>\n",
       "      <td>0</td>\n",
       "      <td>0</td>\n",
       "      <td>0</td>\n",
       "      <td>0</td>\n",
       "      <td>1</td>\n",
       "      <td>0</td>\n",
       "      <td>0</td>\n",
       "    </tr>\n",
       "    <tr>\n",
       "      <td>3</td>\n",
       "      <td>2</td>\n",
       "      <td>1.0</td>\n",
       "      <td>2015-05-12</td>\n",
       "      <td>1.000000</td>\n",
       "      <td>2015-03-01</td>\n",
       "      <td>2017-01-22</td>\n",
       "      <td>4</td>\n",
       "      <td>0</td>\n",
       "      <td>1</td>\n",
       "      <td>115.0</td>\n",
       "      <td>F</td>\n",
       "      <td>[tv, internet, wireless internet, air conditio...</td>\n",
       "      <td>12</td>\n",
       "      <td>699</td>\n",
       "      <td>False</td>\n",
       "      <td>1109</td>\n",
       "      <td>B and lower</td>\n",
       "      <td>0</td>\n",
       "      <td>1</td>\n",
       "      <td>0</td>\n",
       "      <td>0</td>\n",
       "      <td>0</td>\n",
       "      <td>1</td>\n",
       "      <td>0</td>\n",
       "      <td>0</td>\n",
       "      <td>0</td>\n",
       "      <td>0</td>\n",
       "      <td>0</td>\n",
       "      <td>0</td>\n",
       "      <td>1</td>\n",
       "      <td>0</td>\n",
       "      <td>0</td>\n",
       "    </tr>\n",
       "    <tr>\n",
       "      <td>4</td>\n",
       "      <td>2</td>\n",
       "      <td>1.0</td>\n",
       "      <td>2017-08-27</td>\n",
       "      <td>1.000000</td>\n",
       "      <td>2017-06-07</td>\n",
       "      <td>2017-09-05</td>\n",
       "      <td>3</td>\n",
       "      <td>1</td>\n",
       "      <td>1</td>\n",
       "      <td>85.0</td>\n",
       "      <td>A</td>\n",
       "      <td>[tv, wireless internet, heating, smoke detecto...</td>\n",
       "      <td>10</td>\n",
       "      <td>1000</td>\n",
       "      <td>False</td>\n",
       "      <td>280</td>\n",
       "      <td>A</td>\n",
       "      <td>0</td>\n",
       "      <td>0</td>\n",
       "      <td>0</td>\n",
       "      <td>0</td>\n",
       "      <td>1</td>\n",
       "      <td>0</td>\n",
       "      <td>1</td>\n",
       "      <td>0</td>\n",
       "      <td>0</td>\n",
       "      <td>0</td>\n",
       "      <td>0</td>\n",
       "      <td>0</td>\n",
       "      <td>1</td>\n",
       "      <td>1</td>\n",
       "      <td>0</td>\n",
       "    </tr>\n",
       "  </tbody>\n",
       "</table>\n",
       "</div>"
      ],
      "text/plain": [
       "   accommodates  bathrooms first_review  host_response_rate host_since  \\\n",
       "0             3        1.0   2016-06-18            0.924026 2012-03-26   \n",
       "1             7        1.0   2017-08-05            1.000000 2017-06-19   \n",
       "2             5        1.0   2017-04-30            1.000000 2016-10-25   \n",
       "3             2        1.0   2015-05-12            1.000000 2015-03-01   \n",
       "4             2        1.0   2017-08-27            1.000000 2017-06-07   \n",
       "\n",
       "  last_review  number_of_reviews  bedrooms  beds  price grade  \\\n",
       "0  2016-07-18                  2         1     1  150.0     A   \n",
       "1  2017-09-23                  6         3     3  169.0     A   \n",
       "2  2017-09-14                 10         1     3  145.0     A   \n",
       "3  2017-01-22                  4         0     1  115.0     F   \n",
       "4  2017-09-05                  3         1     1   85.0     A   \n",
       "\n",
       "                                       amenities_new  length_amenities  \\\n",
       "0  [wireless internet, air conditioning, kitchen,...                 9   \n",
       "1  [wireless internet, air conditioning, kitchen,...                15   \n",
       "2  [tv, cable tv, wireless internet, air conditio...                19   \n",
       "3  [tv, internet, wireless internet, air conditio...                12   \n",
       "4  [tv, wireless internet, heating, smoke detecto...                10   \n",
       "\n",
       "   description_length  superuser  host_since_days grade_grouped  city_Chicago  \\\n",
       "0                 211       True             2179             A             0   \n",
       "1                1000      False              268             A             0   \n",
       "2                1000      False              505             A             0   \n",
       "3                 699      False             1109   B and lower             0   \n",
       "4                1000      False              280             A             0   \n",
       "\n",
       "   city_DC  city_LA  city_NYC  city_SF  cancellation_policy_moderate  \\\n",
       "0        0        0         1        0                             0   \n",
       "1        0        0         1        0                             0   \n",
       "2        0        0         1        0                             1   \n",
       "3        1        0         0        0                             1   \n",
       "4        0        0         0        1                             0   \n",
       "\n",
       "   cancellation_policy_strict  cancellation_policy_super_strict_30  \\\n",
       "0                           1                                    0   \n",
       "1                           1                                    0   \n",
       "2                           0                                    0   \n",
       "3                           0                                    0   \n",
       "4                           1                                    0   \n",
       "\n",
       "   cancellation_policy_super_strict_60  bed_type_Couch  bed_type_Futon  \\\n",
       "0                                    0               0               0   \n",
       "1                                    0               0               0   \n",
       "2                                    0               0               0   \n",
       "3                                    0               0               0   \n",
       "4                                    0               0               0   \n",
       "\n",
       "   bed_type_Pull-out Sofa  bed_type_Real Bed  room_type_Private room  \\\n",
       "0                       0                  1                       0   \n",
       "1                       0                  1                       0   \n",
       "2                       0                  1                       0   \n",
       "3                       0                  1                       0   \n",
       "4                       0                  1                       1   \n",
       "\n",
       "   room_type_Shared room  \n",
       "0                      0  \n",
       "1                      0  \n",
       "2                      0  \n",
       "3                      0  \n",
       "4                      0  "
      ]
     },
     "execution_count": 39,
     "metadata": {},
     "output_type": "execute_result"
    }
   ],
   "source": [
    "#delete categorical variables\n",
    "for x in categorical_vars:\n",
    "    if x in df_logistic_dummy:\n",
    "        del df_logistic_dummy[x]\n",
    "\n",
    "df_logistic_dummy.head()"
   ]
  },
  {
   "cell_type": "code",
   "execution_count": 40,
   "metadata": {},
   "outputs": [
    {
     "name": "stdout",
     "output_type": "stream",
     "text": [
      "<class 'pandas.core.frame.DataFrame'>\n",
      "Int64Index: 57388 entries, 0 to 57388\n",
      "Data columns (total 31 columns):\n",
      "room_type                 57388 non-null category\n",
      "accommodates              57388 non-null int64\n",
      "bathrooms                 57388 non-null float64\n",
      "bed_type                  57388 non-null category\n",
      "cancellation_policy       57388 non-null category\n",
      "cleaning_fee              57388 non-null bool\n",
      "city                      57388 non-null category\n",
      "first_review              57388 non-null datetime64[ns]\n",
      "host_has_profile_pic      57388 non-null bool\n",
      "host_identity_verified    57388 non-null bool\n",
      "host_response_rate        57388 non-null float64\n",
      "host_since                57388 non-null datetime64[ns]\n",
      "instant_bookable          57388 non-null bool\n",
      "last_review               57388 non-null datetime64[ns]\n",
      "number_of_reviews         57388 non-null int64\n",
      "bedrooms                  57388 non-null int64\n",
      "beds                      57388 non-null int64\n",
      "price                     57388 non-null float64\n",
      "grade                     57388 non-null category\n",
      "amenities_new             57388 non-null object\n",
      "length_amenities          57388 non-null int64\n",
      "internet                  57388 non-null bool\n",
      "TV                        57388 non-null bool\n",
      "air_conditioning          57388 non-null bool\n",
      "kitchen                   57388 non-null bool\n",
      "pool                      57388 non-null bool\n",
      "parking                   57388 non-null bool\n",
      "description_length        57388 non-null int64\n",
      "superuser                 57388 non-null bool\n",
      "host_since_days           57388 non-null int64\n",
      "grade_grouped             57388 non-null object\n",
      "dtypes: bool(11), category(5), datetime64[ns](3), float64(3), int64(7), object(2)\n",
      "memory usage: 10.4+ MB\n"
     ]
    }
   ],
   "source": [
    "df_logistic.info()"
   ]
  },
  {
   "cell_type": "code",
   "execution_count": 41,
   "metadata": {},
   "outputs": [],
   "source": [
    "#delete amenities_new because used to create other variables\n",
    "del df_logistic_dummy['amenities_new']\n",
    "\n",
    "#delete host_since because used to create host_since_days\n",
    "del df_logistic_dummy['host_since']\n",
    "\n",
    "#delete grade and superuser because redundant with grouped_grade\n",
    "del df_logistic_dummy['grade']\n",
    "del df_logistic_dummy['superuser']"
   ]
  },
  {
   "cell_type": "code",
   "execution_count": 42,
   "metadata": {},
   "outputs": [
    {
     "data": {
      "text/html": [
       "<div>\n",
       "<style scoped>\n",
       "    .dataframe tbody tr th:only-of-type {\n",
       "        vertical-align: middle;\n",
       "    }\n",
       "\n",
       "    .dataframe tbody tr th {\n",
       "        vertical-align: top;\n",
       "    }\n",
       "\n",
       "    .dataframe thead th {\n",
       "        text-align: right;\n",
       "    }\n",
       "</style>\n",
       "<table border=\"1\" class=\"dataframe\">\n",
       "  <thead>\n",
       "    <tr style=\"text-align: right;\">\n",
       "      <th></th>\n",
       "      <th>accommodates</th>\n",
       "      <th>bathrooms</th>\n",
       "      <th>host_response_rate</th>\n",
       "      <th>number_of_reviews</th>\n",
       "      <th>bedrooms</th>\n",
       "      <th>beds</th>\n",
       "      <th>price</th>\n",
       "      <th>length_amenities</th>\n",
       "      <th>description_length</th>\n",
       "      <th>host_since_days</th>\n",
       "      <th>grade_grouped</th>\n",
       "      <th>city_Chicago</th>\n",
       "      <th>city_DC</th>\n",
       "      <th>city_LA</th>\n",
       "      <th>city_NYC</th>\n",
       "      <th>city_SF</th>\n",
       "      <th>cancellation_policy_moderate</th>\n",
       "      <th>cancellation_policy_strict</th>\n",
       "      <th>cancellation_policy_super_strict_30</th>\n",
       "      <th>cancellation_policy_super_strict_60</th>\n",
       "      <th>bed_type_Couch</th>\n",
       "      <th>bed_type_Futon</th>\n",
       "      <th>bed_type_Pull-out Sofa</th>\n",
       "      <th>bed_type_Real Bed</th>\n",
       "      <th>room_type_Private room</th>\n",
       "      <th>room_type_Shared room</th>\n",
       "    </tr>\n",
       "  </thead>\n",
       "  <tbody>\n",
       "    <tr>\n",
       "      <td>0</td>\n",
       "      <td>3</td>\n",
       "      <td>1.0</td>\n",
       "      <td>0.924026</td>\n",
       "      <td>2</td>\n",
       "      <td>1</td>\n",
       "      <td>1</td>\n",
       "      <td>150.0</td>\n",
       "      <td>9</td>\n",
       "      <td>211</td>\n",
       "      <td>2179</td>\n",
       "      <td>A</td>\n",
       "      <td>0</td>\n",
       "      <td>0</td>\n",
       "      <td>0</td>\n",
       "      <td>1</td>\n",
       "      <td>0</td>\n",
       "      <td>0</td>\n",
       "      <td>1</td>\n",
       "      <td>0</td>\n",
       "      <td>0</td>\n",
       "      <td>0</td>\n",
       "      <td>0</td>\n",
       "      <td>0</td>\n",
       "      <td>1</td>\n",
       "      <td>0</td>\n",
       "      <td>0</td>\n",
       "    </tr>\n",
       "    <tr>\n",
       "      <td>1</td>\n",
       "      <td>7</td>\n",
       "      <td>1.0</td>\n",
       "      <td>1.000000</td>\n",
       "      <td>6</td>\n",
       "      <td>3</td>\n",
       "      <td>3</td>\n",
       "      <td>169.0</td>\n",
       "      <td>15</td>\n",
       "      <td>1000</td>\n",
       "      <td>268</td>\n",
       "      <td>A</td>\n",
       "      <td>0</td>\n",
       "      <td>0</td>\n",
       "      <td>0</td>\n",
       "      <td>1</td>\n",
       "      <td>0</td>\n",
       "      <td>0</td>\n",
       "      <td>1</td>\n",
       "      <td>0</td>\n",
       "      <td>0</td>\n",
       "      <td>0</td>\n",
       "      <td>0</td>\n",
       "      <td>0</td>\n",
       "      <td>1</td>\n",
       "      <td>0</td>\n",
       "      <td>0</td>\n",
       "    </tr>\n",
       "    <tr>\n",
       "      <td>2</td>\n",
       "      <td>5</td>\n",
       "      <td>1.0</td>\n",
       "      <td>1.000000</td>\n",
       "      <td>10</td>\n",
       "      <td>1</td>\n",
       "      <td>3</td>\n",
       "      <td>145.0</td>\n",
       "      <td>19</td>\n",
       "      <td>1000</td>\n",
       "      <td>505</td>\n",
       "      <td>A</td>\n",
       "      <td>0</td>\n",
       "      <td>0</td>\n",
       "      <td>0</td>\n",
       "      <td>1</td>\n",
       "      <td>0</td>\n",
       "      <td>1</td>\n",
       "      <td>0</td>\n",
       "      <td>0</td>\n",
       "      <td>0</td>\n",
       "      <td>0</td>\n",
       "      <td>0</td>\n",
       "      <td>0</td>\n",
       "      <td>1</td>\n",
       "      <td>0</td>\n",
       "      <td>0</td>\n",
       "    </tr>\n",
       "    <tr>\n",
       "      <td>3</td>\n",
       "      <td>2</td>\n",
       "      <td>1.0</td>\n",
       "      <td>1.000000</td>\n",
       "      <td>4</td>\n",
       "      <td>0</td>\n",
       "      <td>1</td>\n",
       "      <td>115.0</td>\n",
       "      <td>12</td>\n",
       "      <td>699</td>\n",
       "      <td>1109</td>\n",
       "      <td>B and lower</td>\n",
       "      <td>0</td>\n",
       "      <td>1</td>\n",
       "      <td>0</td>\n",
       "      <td>0</td>\n",
       "      <td>0</td>\n",
       "      <td>1</td>\n",
       "      <td>0</td>\n",
       "      <td>0</td>\n",
       "      <td>0</td>\n",
       "      <td>0</td>\n",
       "      <td>0</td>\n",
       "      <td>0</td>\n",
       "      <td>1</td>\n",
       "      <td>0</td>\n",
       "      <td>0</td>\n",
       "    </tr>\n",
       "    <tr>\n",
       "      <td>4</td>\n",
       "      <td>2</td>\n",
       "      <td>1.0</td>\n",
       "      <td>1.000000</td>\n",
       "      <td>3</td>\n",
       "      <td>1</td>\n",
       "      <td>1</td>\n",
       "      <td>85.0</td>\n",
       "      <td>10</td>\n",
       "      <td>1000</td>\n",
       "      <td>280</td>\n",
       "      <td>A</td>\n",
       "      <td>0</td>\n",
       "      <td>0</td>\n",
       "      <td>0</td>\n",
       "      <td>0</td>\n",
       "      <td>1</td>\n",
       "      <td>0</td>\n",
       "      <td>1</td>\n",
       "      <td>0</td>\n",
       "      <td>0</td>\n",
       "      <td>0</td>\n",
       "      <td>0</td>\n",
       "      <td>0</td>\n",
       "      <td>1</td>\n",
       "      <td>1</td>\n",
       "      <td>0</td>\n",
       "    </tr>\n",
       "  </tbody>\n",
       "</table>\n",
       "</div>"
      ],
      "text/plain": [
       "   accommodates  bathrooms  host_response_rate  number_of_reviews  bedrooms  \\\n",
       "0             3        1.0            0.924026                  2         1   \n",
       "1             7        1.0            1.000000                  6         3   \n",
       "2             5        1.0            1.000000                 10         1   \n",
       "3             2        1.0            1.000000                  4         0   \n",
       "4             2        1.0            1.000000                  3         1   \n",
       "\n",
       "   beds  price  length_amenities  description_length  host_since_days  \\\n",
       "0     1  150.0                 9                 211             2179   \n",
       "1     3  169.0                15                1000              268   \n",
       "2     3  145.0                19                1000              505   \n",
       "3     1  115.0                12                 699             1109   \n",
       "4     1   85.0                10                1000              280   \n",
       "\n",
       "  grade_grouped  city_Chicago  city_DC  city_LA  city_NYC  city_SF  \\\n",
       "0             A             0        0        0         1        0   \n",
       "1             A             0        0        0         1        0   \n",
       "2             A             0        0        0         1        0   \n",
       "3   B and lower             0        1        0         0        0   \n",
       "4             A             0        0        0         0        1   \n",
       "\n",
       "   cancellation_policy_moderate  cancellation_policy_strict  \\\n",
       "0                             0                           1   \n",
       "1                             0                           1   \n",
       "2                             1                           0   \n",
       "3                             1                           0   \n",
       "4                             0                           1   \n",
       "\n",
       "   cancellation_policy_super_strict_30  cancellation_policy_super_strict_60  \\\n",
       "0                                    0                                    0   \n",
       "1                                    0                                    0   \n",
       "2                                    0                                    0   \n",
       "3                                    0                                    0   \n",
       "4                                    0                                    0   \n",
       "\n",
       "   bed_type_Couch  bed_type_Futon  bed_type_Pull-out Sofa  bed_type_Real Bed  \\\n",
       "0               0               0                       0                  1   \n",
       "1               0               0                       0                  1   \n",
       "2               0               0                       0                  1   \n",
       "3               0               0                       0                  1   \n",
       "4               0               0                       0                  1   \n",
       "\n",
       "   room_type_Private room  room_type_Shared room  \n",
       "0                       0                      0  \n",
       "1                       0                      0  \n",
       "2                       0                      0  \n",
       "3                       0                      0  \n",
       "4                       1                      0  "
      ]
     },
     "execution_count": 42,
     "metadata": {},
     "output_type": "execute_result"
    }
   ],
   "source": [
    "#remove timestamps\n",
    "del df_logistic_dummy['first_review']\n",
    "del df_logistic_dummy['last_review']\n",
    "\n",
    "df_logistic_dummy.head()"
   ]
  },
  {
   "cell_type": "code",
   "execution_count": 43,
   "metadata": {},
   "outputs": [
    {
     "data": {
      "text/plain": [
       "array([[3.        , 1.        , 0.92402581, ..., 1.        , 0.        ,\n",
       "        0.        ],\n",
       "       [7.        , 1.        , 1.        , ..., 1.        , 0.        ,\n",
       "        0.        ],\n",
       "       [5.        , 1.        , 1.        , ..., 1.        , 0.        ,\n",
       "        0.        ],\n",
       "       ...,\n",
       "       [4.        , 2.        , 1.        , ..., 1.        , 0.        ,\n",
       "        0.        ],\n",
       "       [5.        , 1.        , 1.        , ..., 1.        , 0.        ,\n",
       "        0.        ],\n",
       "       [4.        , 1.        , 1.        , ..., 1.        , 0.        ,\n",
       "        0.        ]])"
      ]
     },
     "execution_count": 43,
     "metadata": {},
     "output_type": "execute_result"
    }
   ],
   "source": [
    "#Creating training and testing data\n",
    "from sklearn.model_selection import ShuffleSplit\n",
    "X = df_logistic_dummy.drop(['grade_grouped'], axis=1).values\n",
    "X"
   ]
  },
  {
   "cell_type": "code",
   "execution_count": 44,
   "metadata": {},
   "outputs": [
    {
     "data": {
      "text/plain": [
       "array(['A', 'A', 'A', ..., 'A', 'A', 'A'], dtype=object)"
      ]
     },
     "execution_count": 44,
     "metadata": {},
     "output_type": "execute_result"
    }
   ],
   "source": [
    "y = df_logistic_dummy['grade_grouped'].values\n",
    "y"
   ]
  },
  {
   "cell_type": "code",
   "execution_count": 45,
   "metadata": {},
   "outputs": [
    {
     "data": {
      "text/plain": [
       "ShuffleSplit(n_splits=3, random_state=None, test_size=0.2, train_size=None)"
      ]
     },
     "execution_count": 45,
     "metadata": {},
     "output_type": "execute_result"
    }
   ],
   "source": [
    "#create cross validation object for 80/20 split\n",
    "num_cv_iterations = 3\n",
    "num_instances = len(y)\n",
    "cv_object = ShuffleSplit(n_splits=num_cv_iterations,\n",
    "                         test_size  = 0.2)\n",
    "cv_object"
   ]
  },
  {
   "cell_type": "code",
   "execution_count": 46,
   "metadata": {},
   "outputs": [
    {
     "data": {
      "text/plain": [
       "array([0.83176512, 0.83464018, 0.82915142])"
      ]
     },
     "execution_count": 46,
     "metadata": {},
     "output_type": "execute_result"
    }
   ],
   "source": [
    "from sklearn.linear_model import LogisticRegression\n",
    "from sklearn import metrics as mt\n",
    "from sklearn.model_selection import cross_val_score\n",
    "#create logistic regression object\n",
    "lr_clf = LogisticRegression(penalty='l2', C=1.0, class_weight=None, solver='liblinear' ) # get object\n",
    "accuracies = cross_val_score(lr_clf, X, y=y, cv=cv_object) # this also can help with parallelism\n",
    "accuracies"
   ]
  },
  {
   "cell_type": "markdown",
   "metadata": {},
   "source": [
    "# Random Forest"
   ]
  },
  {
   "cell_type": "code",
   "execution_count": 48,
   "metadata": {},
   "outputs": [
    {
     "data": {
      "text/plain": [
       "StratifiedShuffleSplit(n_splits=3, random_state=0, test_size=0.2,\n",
       "            train_size=0.8)"
      ]
     },
     "execution_count": 48,
     "metadata": {},
     "output_type": "execute_result"
    }
   ],
   "source": [
    "from sklearn.ensemble import RandomForestClassifier\n",
    "from sklearn.model_selection import StratifiedShuffleSplit\n",
    "cv_strat_obj = StratifiedShuffleSplit(n_splits = 3, test_size = 0.2, train_size=0.8, random_state=0)\n",
    "X_rf = df_imputed.drop(['grade_grouped'], axis=1).values\n",
    "y_rf = df_imputed['grade_grouped'].values\n",
    "cv_strat_obj.split(X_rf, y_rf)\n",
    "cv_strat_obj"
   ]
  },
  {
   "cell_type": "markdown",
   "metadata": {},
   "source": [
    "# Modeling and Evaluation 4\n",
    "\n",
    "<i><b>10 pts.</b> Analyze the results using your chosen method of evaluation. Use visualizations of the results to bolster the analysis. Explain any visuals and analyze why they are interesting to someone that might use this model.</i>"
   ]
  },
  {
   "cell_type": "code",
   "execution_count": null,
   "metadata": {},
   "outputs": [],
   "source": [
    "#Conf matrix, ROC curve, plotting feature importance/accuracy, MSE? Scree plot for K neighbors"
   ]
  },
  {
   "cell_type": "markdown",
   "metadata": {},
   "source": [
    "# Modeling and Evaluation 5\n",
    "\n",
    "<i><b>10 pts.</b> Discuss the advantages of each model for each classification task, if any. If there are not advantages, explain why. Is any model better than another? Is the difference significant with 95% confidence? Use proper statistical comparison methods. You must use statistical comparison techniques—be sure they are appropriate for your chosen method of validation as discussed in unit 7 of the course.</i>"
   ]
  },
  {
   "cell_type": "code",
   "execution_count": null,
   "metadata": {},
   "outputs": [],
   "source": [
    "#focus on precision with f measure, p test, check 7.17 module"
   ]
  },
  {
   "cell_type": "markdown",
   "metadata": {},
   "source": [
    "# Modeling and Evaluation 6\n",
    "\n",
    "<i><b>10 pts.</b> Which attributes from your analysis are most important? Use proper methods discussed in class to evaluate the importance of different attributes. Discuss the results and hypothesize about why certain attributes are more important than others for a given classification task.</i>"
   ]
  },
  {
   "cell_type": "code",
   "execution_count": null,
   "metadata": {},
   "outputs": [],
   "source": [
    "#feature importance from RF, iterate/optimize K neighbors, f test on regression"
   ]
  },
  {
   "cell_type": "markdown",
   "metadata": {},
   "source": [
    "# Deployment\n",
    "\n",
    "<i><b>5 pts.</b> How useful is your model for interested parties (i.e., the companies or organizations that might want to use it for prediction)? How would you measure the model's value if it was used by these parties? How would your deploy your model for interested parties? What other data should be collected? How often would the model need to be updated, etc.?</i>"
   ]
  },
  {
   "cell_type": "code",
   "execution_count": null,
   "metadata": {},
   "outputs": [],
   "source": [
    "#clarify in class, explaining profit to shareholders (superhosts provide more to Airbnb than regular hosts, we can identify users that meet those requirements and can actively recruit for the program)"
   ]
  },
  {
   "cell_type": "markdown",
   "metadata": {},
   "source": [
    "# Exceptional Work\n",
    "\n",
    "<i><b>10 pts.</b> You have free reign to provide additional analyses. One idea: grid search parameters in a parallelized fashion and visualize the performances across attributes. Which parameters are most significant for making a good model for each classification algorithm?</i>"
   ]
  },
  {
   "cell_type": "code",
   "execution_count": null,
   "metadata": {},
   "outputs": [],
   "source": [
    "#smoat, lasso/ridge"
   ]
  },
  {
   "cell_type": "code",
   "execution_count": null,
   "metadata": {},
   "outputs": [],
   "source": []
  }
 ],
 "metadata": {
  "kernelspec": {
   "display_name": "Python 3",
   "language": "python",
   "name": "python3"
  },
  "language_info": {
   "codemirror_mode": {
    "name": "ipython",
    "version": 3
   },
   "file_extension": ".py",
   "mimetype": "text/x-python",
   "name": "python",
   "nbconvert_exporter": "python",
   "pygments_lexer": "ipython3",
   "version": "3.7.4"
  }
 },
 "nbformat": 4,
 "nbformat_minor": 2
}
