{
 "cells": [
  {
   "cell_type": "markdown",
   "metadata": {},
   "source": [
    "Andy Nguyen, Michael Wolfe, Spencer Fogelman, & Joseph Caguioa\n",
    "\n",
    "DS 7331.407\n",
    "\n",
    "Thursday 6:30pm - 8:00pm"
   ]
  },
  {
   "cell_type": "markdown",
   "metadata": {},
   "source": [
    "# Introduction\n",
    "\n",
    "*Dataset Source: https://www.kaggle.com/rudymizrahi/airbnb-listings-in-major-us-cities-deloitte-ml*\n",
    "\n",
    "This Kaggle dataset contains data on Airbnb listings for six major U.S. cities. The competition's original goal was to use available attributes to predict listing price. However, the dataset can be adjusted to predict other variables as well.\n",
    "\n",
    "In this notebook, the dataset will be used for practicing classification techniques on two binned versions of the review_scores_rating variable explored previously.\n",
    "\n",
    "### Setup"
   ]
  },
  {
   "cell_type": "code",
   "execution_count": 1,
   "metadata": {},
   "outputs": [],
   "source": [
    "import pandas as pd\n",
    "import numpy as np\n",
    "import seaborn as sns\n",
    "import datetime\n",
    "import csv\n",
    "import matplotlib.pyplot as plt\n",
    "import plotly.graph_objects as go\n",
    "import warnings\n",
    "\n",
    "from plotnine import *\n",
    "%matplotlib inline\n",
    "warnings.filterwarnings('ignore')"
   ]
  },
  {
   "cell_type": "code",
   "execution_count": 2,
   "metadata": {},
   "outputs": [],
   "source": [
    "def EncodeCategory(col_to_encode):\n",
    "    distinct_cats = col_to_encode.unique()\n",
    "    encode_list = []\n",
    "    i = 1\n",
    "    for cat in distinct_cats:\n",
    "        encode_list.append([cat,i])    \n",
    "        i += 1\n",
    "    return(encode_list)"
   ]
  },
  {
   "cell_type": "markdown",
   "metadata": {},
   "source": [
    "***"
   ]
  },
  {
   "cell_type": "markdown",
   "metadata": {},
   "source": [
    "# Data Preparation Part 1\n",
    "\n",
    "<i><b>10 pts.</b> Define and prepare your class variables. Use proper variable representations (int, float, one-hot, etc.). Use pre-processing methods (as needed) for dimensionality reduction, scaling, etc. Remove variables that are not needed/useful for the analysis.</i>"
   ]
  },
  {
   "cell_type": "code",
   "execution_count": 3,
   "metadata": {},
   "outputs": [],
   "source": [
    "# Load dataset\n",
    "df = pd.read_csv('https://raw.githubusercontent.com/anguyen-07/DS7331-ML_Labs/master/data/airbnb_train.csv')"
   ]
  },
  {
   "cell_type": "code",
   "execution_count": 4,
   "metadata": {},
   "outputs": [
    {
     "data": {
      "text/html": [
       "<div>\n",
       "<style scoped>\n",
       "    .dataframe tbody tr th:only-of-type {\n",
       "        vertical-align: middle;\n",
       "    }\n",
       "\n",
       "    .dataframe tbody tr th {\n",
       "        vertical-align: top;\n",
       "    }\n",
       "\n",
       "    .dataframe thead th {\n",
       "        text-align: right;\n",
       "    }\n",
       "</style>\n",
       "<table border=\"1\" class=\"dataframe\">\n",
       "  <thead>\n",
       "    <tr style=\"text-align: right;\">\n",
       "      <th></th>\n",
       "      <th>id</th>\n",
       "      <th>log_price</th>\n",
       "      <th>property_type</th>\n",
       "      <th>room_type</th>\n",
       "      <th>amenities</th>\n",
       "      <th>accommodates</th>\n",
       "      <th>bathrooms</th>\n",
       "      <th>bed_type</th>\n",
       "      <th>cancellation_policy</th>\n",
       "      <th>cleaning_fee</th>\n",
       "      <th>city</th>\n",
       "      <th>description</th>\n",
       "      <th>first_review</th>\n",
       "      <th>host_has_profile_pic</th>\n",
       "      <th>host_identity_verified</th>\n",
       "      <th>host_response_rate</th>\n",
       "      <th>host_since</th>\n",
       "      <th>instant_bookable</th>\n",
       "      <th>last_review</th>\n",
       "      <th>latitude</th>\n",
       "      <th>longitude</th>\n",
       "      <th>name</th>\n",
       "      <th>neighbourhood</th>\n",
       "      <th>number_of_reviews</th>\n",
       "      <th>review_scores_rating</th>\n",
       "      <th>thumbnail_url</th>\n",
       "      <th>zipcode</th>\n",
       "      <th>bedrooms</th>\n",
       "      <th>beds</th>\n",
       "    </tr>\n",
       "  </thead>\n",
       "  <tbody>\n",
       "    <tr>\n",
       "      <td>0</td>\n",
       "      <td>6901257</td>\n",
       "      <td>5.010635</td>\n",
       "      <td>Apartment</td>\n",
       "      <td>Entire home/apt</td>\n",
       "      <td>{\"Wireless Internet\",\"Air conditioning\",Kitche...</td>\n",
       "      <td>3</td>\n",
       "      <td>1.0</td>\n",
       "      <td>Real Bed</td>\n",
       "      <td>strict</td>\n",
       "      <td>True</td>\n",
       "      <td>NYC</td>\n",
       "      <td>Beautiful, sunlit brownstone 1-bedroom in the ...</td>\n",
       "      <td>2016-06-18</td>\n",
       "      <td>t</td>\n",
       "      <td>t</td>\n",
       "      <td>NaN</td>\n",
       "      <td>2012-03-26</td>\n",
       "      <td>f</td>\n",
       "      <td>2016-07-18</td>\n",
       "      <td>40.696524</td>\n",
       "      <td>-73.991617</td>\n",
       "      <td>Beautiful brownstone 1-bedroom</td>\n",
       "      <td>Brooklyn Heights</td>\n",
       "      <td>2</td>\n",
       "      <td>100.0</td>\n",
       "      <td>https://a0.muscache.com/im/pictures/6d7cbbf7-c...</td>\n",
       "      <td>11201</td>\n",
       "      <td>1.0</td>\n",
       "      <td>1.0</td>\n",
       "    </tr>\n",
       "    <tr>\n",
       "      <td>1</td>\n",
       "      <td>6304928</td>\n",
       "      <td>5.129899</td>\n",
       "      <td>Apartment</td>\n",
       "      <td>Entire home/apt</td>\n",
       "      <td>{\"Wireless Internet\",\"Air conditioning\",Kitche...</td>\n",
       "      <td>7</td>\n",
       "      <td>1.0</td>\n",
       "      <td>Real Bed</td>\n",
       "      <td>strict</td>\n",
       "      <td>True</td>\n",
       "      <td>NYC</td>\n",
       "      <td>Enjoy travelling during your stay in Manhattan...</td>\n",
       "      <td>2017-08-05</td>\n",
       "      <td>t</td>\n",
       "      <td>f</td>\n",
       "      <td>100%</td>\n",
       "      <td>2017-06-19</td>\n",
       "      <td>t</td>\n",
       "      <td>2017-09-23</td>\n",
       "      <td>40.766115</td>\n",
       "      <td>-73.989040</td>\n",
       "      <td>Superb 3BR Apt Located Near Times Square</td>\n",
       "      <td>Hell's Kitchen</td>\n",
       "      <td>6</td>\n",
       "      <td>93.0</td>\n",
       "      <td>https://a0.muscache.com/im/pictures/348a55fe-4...</td>\n",
       "      <td>10019</td>\n",
       "      <td>3.0</td>\n",
       "      <td>3.0</td>\n",
       "    </tr>\n",
       "    <tr>\n",
       "      <td>2</td>\n",
       "      <td>7919400</td>\n",
       "      <td>4.976734</td>\n",
       "      <td>Apartment</td>\n",
       "      <td>Entire home/apt</td>\n",
       "      <td>{TV,\"Cable TV\",\"Wireless Internet\",\"Air condit...</td>\n",
       "      <td>5</td>\n",
       "      <td>1.0</td>\n",
       "      <td>Real Bed</td>\n",
       "      <td>moderate</td>\n",
       "      <td>True</td>\n",
       "      <td>NYC</td>\n",
       "      <td>The Oasis comes complete with a full backyard ...</td>\n",
       "      <td>2017-04-30</td>\n",
       "      <td>t</td>\n",
       "      <td>t</td>\n",
       "      <td>100%</td>\n",
       "      <td>2016-10-25</td>\n",
       "      <td>t</td>\n",
       "      <td>2017-09-14</td>\n",
       "      <td>40.808110</td>\n",
       "      <td>-73.943756</td>\n",
       "      <td>The Garden Oasis</td>\n",
       "      <td>Harlem</td>\n",
       "      <td>10</td>\n",
       "      <td>92.0</td>\n",
       "      <td>https://a0.muscache.com/im/pictures/6fae5362-9...</td>\n",
       "      <td>10027</td>\n",
       "      <td>1.0</td>\n",
       "      <td>3.0</td>\n",
       "    </tr>\n",
       "    <tr>\n",
       "      <td>3</td>\n",
       "      <td>13418779</td>\n",
       "      <td>6.620073</td>\n",
       "      <td>House</td>\n",
       "      <td>Entire home/apt</td>\n",
       "      <td>{TV,\"Cable TV\",Internet,\"Wireless Internet\",Ki...</td>\n",
       "      <td>4</td>\n",
       "      <td>1.0</td>\n",
       "      <td>Real Bed</td>\n",
       "      <td>flexible</td>\n",
       "      <td>True</td>\n",
       "      <td>SF</td>\n",
       "      <td>This light-filled home-away-from-home is super...</td>\n",
       "      <td>NaN</td>\n",
       "      <td>t</td>\n",
       "      <td>t</td>\n",
       "      <td>NaN</td>\n",
       "      <td>2015-04-19</td>\n",
       "      <td>f</td>\n",
       "      <td>NaN</td>\n",
       "      <td>37.772004</td>\n",
       "      <td>-122.431619</td>\n",
       "      <td>Beautiful Flat in the Heart of SF!</td>\n",
       "      <td>Lower Haight</td>\n",
       "      <td>0</td>\n",
       "      <td>NaN</td>\n",
       "      <td>https://a0.muscache.com/im/pictures/72208dad-9...</td>\n",
       "      <td>94117.0</td>\n",
       "      <td>2.0</td>\n",
       "      <td>2.0</td>\n",
       "    </tr>\n",
       "    <tr>\n",
       "      <td>4</td>\n",
       "      <td>3808709</td>\n",
       "      <td>4.744932</td>\n",
       "      <td>Apartment</td>\n",
       "      <td>Entire home/apt</td>\n",
       "      <td>{TV,Internet,\"Wireless Internet\",\"Air conditio...</td>\n",
       "      <td>2</td>\n",
       "      <td>1.0</td>\n",
       "      <td>Real Bed</td>\n",
       "      <td>moderate</td>\n",
       "      <td>True</td>\n",
       "      <td>DC</td>\n",
       "      <td>Cool, cozy, and comfortable studio located in ...</td>\n",
       "      <td>2015-05-12</td>\n",
       "      <td>t</td>\n",
       "      <td>t</td>\n",
       "      <td>100%</td>\n",
       "      <td>2015-03-01</td>\n",
       "      <td>t</td>\n",
       "      <td>2017-01-22</td>\n",
       "      <td>38.925627</td>\n",
       "      <td>-77.034596</td>\n",
       "      <td>Great studio in midtown DC</td>\n",
       "      <td>Columbia Heights</td>\n",
       "      <td>4</td>\n",
       "      <td>40.0</td>\n",
       "      <td>NaN</td>\n",
       "      <td>20009</td>\n",
       "      <td>0.0</td>\n",
       "      <td>1.0</td>\n",
       "    </tr>\n",
       "  </tbody>\n",
       "</table>\n",
       "</div>"
      ],
      "text/plain": [
       "         id  log_price property_type        room_type  \\\n",
       "0   6901257   5.010635     Apartment  Entire home/apt   \n",
       "1   6304928   5.129899     Apartment  Entire home/apt   \n",
       "2   7919400   4.976734     Apartment  Entire home/apt   \n",
       "3  13418779   6.620073         House  Entire home/apt   \n",
       "4   3808709   4.744932     Apartment  Entire home/apt   \n",
       "\n",
       "                                           amenities  accommodates  bathrooms  \\\n",
       "0  {\"Wireless Internet\",\"Air conditioning\",Kitche...             3        1.0   \n",
       "1  {\"Wireless Internet\",\"Air conditioning\",Kitche...             7        1.0   \n",
       "2  {TV,\"Cable TV\",\"Wireless Internet\",\"Air condit...             5        1.0   \n",
       "3  {TV,\"Cable TV\",Internet,\"Wireless Internet\",Ki...             4        1.0   \n",
       "4  {TV,Internet,\"Wireless Internet\",\"Air conditio...             2        1.0   \n",
       "\n",
       "   bed_type cancellation_policy  cleaning_fee city  \\\n",
       "0  Real Bed              strict          True  NYC   \n",
       "1  Real Bed              strict          True  NYC   \n",
       "2  Real Bed            moderate          True  NYC   \n",
       "3  Real Bed            flexible          True   SF   \n",
       "4  Real Bed            moderate          True   DC   \n",
       "\n",
       "                                         description first_review  \\\n",
       "0  Beautiful, sunlit brownstone 1-bedroom in the ...   2016-06-18   \n",
       "1  Enjoy travelling during your stay in Manhattan...   2017-08-05   \n",
       "2  The Oasis comes complete with a full backyard ...   2017-04-30   \n",
       "3  This light-filled home-away-from-home is super...          NaN   \n",
       "4  Cool, cozy, and comfortable studio located in ...   2015-05-12   \n",
       "\n",
       "  host_has_profile_pic host_identity_verified host_response_rate  host_since  \\\n",
       "0                    t                      t                NaN  2012-03-26   \n",
       "1                    t                      f               100%  2017-06-19   \n",
       "2                    t                      t               100%  2016-10-25   \n",
       "3                    t                      t                NaN  2015-04-19   \n",
       "4                    t                      t               100%  2015-03-01   \n",
       "\n",
       "  instant_bookable last_review   latitude   longitude  \\\n",
       "0                f  2016-07-18  40.696524  -73.991617   \n",
       "1                t  2017-09-23  40.766115  -73.989040   \n",
       "2                t  2017-09-14  40.808110  -73.943756   \n",
       "3                f         NaN  37.772004 -122.431619   \n",
       "4                t  2017-01-22  38.925627  -77.034596   \n",
       "\n",
       "                                       name     neighbourhood  \\\n",
       "0            Beautiful brownstone 1-bedroom  Brooklyn Heights   \n",
       "1  Superb 3BR Apt Located Near Times Square    Hell's Kitchen   \n",
       "2                          The Garden Oasis            Harlem   \n",
       "3        Beautiful Flat in the Heart of SF!      Lower Haight   \n",
       "4                Great studio in midtown DC  Columbia Heights   \n",
       "\n",
       "   number_of_reviews  review_scores_rating  \\\n",
       "0                  2                 100.0   \n",
       "1                  6                  93.0   \n",
       "2                 10                  92.0   \n",
       "3                  0                   NaN   \n",
       "4                  4                  40.0   \n",
       "\n",
       "                                       thumbnail_url  zipcode  bedrooms  beds  \n",
       "0  https://a0.muscache.com/im/pictures/6d7cbbf7-c...    11201       1.0   1.0  \n",
       "1  https://a0.muscache.com/im/pictures/348a55fe-4...    10019       3.0   3.0  \n",
       "2  https://a0.muscache.com/im/pictures/6fae5362-9...    10027       1.0   3.0  \n",
       "3  https://a0.muscache.com/im/pictures/72208dad-9...  94117.0       2.0   2.0  \n",
       "4                                                NaN    20009       0.0   1.0  "
      ]
     },
     "execution_count": 4,
     "metadata": {},
     "output_type": "execute_result"
    }
   ],
   "source": [
    "pd.set_option('display.max_columns', None)\n",
    "pd.set_option('display.max_rows', None)\n",
    "df.head()"
   ]
  },
  {
   "cell_type": "code",
   "execution_count": 5,
   "metadata": {},
   "outputs": [
    {
     "data": {
      "text/html": [
       "<div>\n",
       "<style scoped>\n",
       "    .dataframe tbody tr th:only-of-type {\n",
       "        vertical-align: middle;\n",
       "    }\n",
       "\n",
       "    .dataframe tbody tr th {\n",
       "        vertical-align: top;\n",
       "    }\n",
       "\n",
       "    .dataframe thead th {\n",
       "        text-align: right;\n",
       "    }\n",
       "</style>\n",
       "<table border=\"1\" class=\"dataframe\">\n",
       "  <thead>\n",
       "    <tr style=\"text-align: right;\">\n",
       "      <th></th>\n",
       "      <th>grade</th>\n",
       "      <th>review_scores_rating</th>\n",
       "    </tr>\n",
       "  </thead>\n",
       "  <tbody>\n",
       "    <tr>\n",
       "      <td>0</td>\n",
       "      <td>A</td>\n",
       "      <td>100.0</td>\n",
       "    </tr>\n",
       "    <tr>\n",
       "      <td>1</td>\n",
       "      <td>A</td>\n",
       "      <td>93.0</td>\n",
       "    </tr>\n",
       "    <tr>\n",
       "      <td>2</td>\n",
       "      <td>A</td>\n",
       "      <td>92.0</td>\n",
       "    </tr>\n",
       "    <tr>\n",
       "      <td>3</td>\n",
       "      <td>NaN</td>\n",
       "      <td>NaN</td>\n",
       "    </tr>\n",
       "    <tr>\n",
       "      <td>4</td>\n",
       "      <td>F</td>\n",
       "      <td>40.0</td>\n",
       "    </tr>\n",
       "  </tbody>\n",
       "</table>\n",
       "</div>"
      ],
      "text/plain": [
       "  grade  review_scores_rating\n",
       "0     A                 100.0\n",
       "1     A                  93.0\n",
       "2     A                  92.0\n",
       "3   NaN                   NaN\n",
       "4     F                  40.0"
      ]
     },
     "execution_count": 5,
     "metadata": {},
     "output_type": "execute_result"
    }
   ],
   "source": [
    "df['price'] = np.exp(df['log_price'])\n",
    "df['grade'] = pd.cut(df.review_scores_rating, [0,60,70,80,90,101], right=False, labels = ['F', 'D', 'C', 'B', 'A'])\n",
    "df[['grade', 'review_scores_rating']].head()"
   ]
  },
  {
   "cell_type": "code",
   "execution_count": 6,
   "metadata": {},
   "outputs": [],
   "source": [
    "# Clean up datatypes and duplicates\n",
    "df_ratings = df.dropna(subset=['review_scores_rating'])\n",
    "df_ratings.drop_duplicates(inplace=True)\n",
    "floats = ['log_price','bathrooms','latitude','longitude','review_scores_rating', 'price']\n",
    "df_ratings[floats] = df_ratings[floats].astype(np.float64)\n",
    "ints = ['id','accommodates','number_of_reviews','bedrooms','beds']\n",
    "df_ratings[\"host_response_rate\"] = df_ratings[\"host_response_rate\"].str.rstrip('%').astype(np.float64)/100\n",
    "date_time = ['first_review','host_since','last_review']\n",
    "df_ratings[date_time] = df_ratings[date_time].apply(pd.to_datetime)\n",
    "booleans = ['host_has_profile_pic','host_identity_verified','instant_bookable']\n",
    "df_ratings[booleans] = df_ratings[booleans].replace({'t':True,'f':False})\n",
    "df_ratings[booleans] = df_ratings[booleans].astype(np.bool)\n",
    "categorical = ['property_type','room_type','bed_type','cancellation_policy','city','neighbourhood','zipcode']\n",
    "df_ratings[categorical] = df_ratings[categorical].astype('category')\n",
    "df_ratings.drop_duplicates()\n",
    "df_ratings.host_since[df_ratings.host_since.isna()] = df_ratings.first_review[df_ratings.host_since.isna()]"
   ]
  },
  {
   "cell_type": "code",
   "execution_count": 7,
   "metadata": {},
   "outputs": [],
   "source": [
    "# Impute missing values\n",
    "df_imputed = df_ratings\n",
    "df_imputed[\"bathrooms\"] = df_imputed[\"bathrooms\"].fillna(df_imputed.groupby([\"property_type\",\"accommodates\"])[\"bathrooms\"].apply(lambda x : x.fillna(x.median())))\n",
    "df_imputed[\"bedrooms\"] = df_imputed[\"bedrooms\"].fillna(df_imputed.groupby([\"property_type\",\"accommodates\"])[\"bedrooms\"].apply(lambda x : x.fillna(x.median())))\n",
    "df_imputed[\"beds\"] = df_imputed[\"beds\"].fillna(df_imputed.groupby([\"property_type\",\"accommodates\"])[\"beds\"].apply(lambda x : x.fillna(x.median())))\n",
    "df_imputed[\"host_response_rate\"] = df_imputed[\"host_response_rate\"].fillna(df_imputed.groupby([\"number_of_reviews\"])[\"host_response_rate\"].apply(lambda x : x.fillna(x.mean())))\n",
    "# Impute Missing Value of for 100% Host Response Rate for Row 48194 - Private Room in Apartment\n",
    "df_imputed[\"host_response_rate\"][df_imputed[\"host_response_rate\"].isna()] = 1.0\n",
    "df_imputed[ints] = df_imputed[ints].astype(np.int64)"
   ]
  },
  {
   "cell_type": "code",
   "execution_count": 8,
   "metadata": {},
   "outputs": [],
   "source": [
    "import re\n",
    "#Create a new cleaned amenities column where all amenities are in list form\n",
    "df_imputed['amenities_new'] = df_imputed.apply(lambda row: re.sub(r'[{}\"\"]', '', row['amenities']), axis=1)\n",
    "df_imputed['amenities_new'] = df_imputed.apply(lambda row: row['amenities_new'].lower().split(','), axis=1)\n",
    "df_imputed = df_imputed.reset_index()\n",
    "df_imputed['length_amenities'] = df_imputed.apply(lambda row: len(row['amenities_new']), axis=1)\n",
    "\n",
    "# Create separate columns based on amenities\n",
    "df_imputed['internet'] = df_imputed.apply(lambda row: 'internet' in row.amenities.lower(), axis=1)\n",
    "df_imputed['TV'] = df_imputed.apply(lambda row: 'tv' in row.amenities.lower(), axis=1)\n",
    "df_imputed['air_conditioning'] = df_imputed.apply(lambda row: 'air conditioning' in row.amenities.lower(), axis=1)\n",
    "df_imputed['kitchen'] = df_imputed.apply(lambda row: 'kitchen' in row.amenities.lower(), axis=1)\n",
    "df_imputed['pool'] = df_imputed.apply(lambda row: 'pool' in row.amenities.lower(), axis=1)\n",
    "df_imputed['parking'] = df_imputed.apply(lambda row: 'parking' in row.amenities.lower(), axis=1)\n",
    "\n",
    "# Get information from description based on length in characters\n",
    "df_imputed['description_length'] = df_imputed['description'].apply(len)\n",
    "\n",
    "# Create the target variable superuser\n",
    "df_imputed['superuser'] = False\n",
    "df_imputed.loc[df.review_scores_rating >=96, 'superuser'] = True\n",
    "\n",
    "# Create altnerative target variable grade_grouped\n",
    "new_grades = {\n",
    "    'A':'A',\n",
    "    'B':'<A',\n",
    "    'C':'<A',\n",
    "    'D':'<A',\n",
    "    'F':'<A'\n",
    "}\n",
    "df_imputed['grade_grouped'] = df_imputed['grade'].map(new_grades)"
   ]
  },
  {
   "cell_type": "code",
   "execution_count": 9,
   "metadata": {},
   "outputs": [],
   "source": [
    "import datetime\n",
    "date_published = datetime.datetime(2018,3,14)\n",
    "df_imputed['host_since'] = pd.to_datetime(df_imputed['host_since'])\n",
    "df_imputed['host_since_days'] = df_imputed.apply(lambda row: (date_published - row['host_since']).days, axis=1)"
   ]
  },
  {
   "cell_type": "markdown",
   "metadata": {},
   "source": [
    "Removed columns that are not meaningful in a modeling context (i.e., index,id), redundant with newly engineered features (i.e., amenities, description), or are likenly not useful in predicting the target variable grade_grouped."
   ]
  },
  {
   "cell_type": "code",
   "execution_count": 10,
   "metadata": {},
   "outputs": [],
   "source": [
    "# delete useless columns\n",
    "df_logistic = df_imputed.drop(['index','id','amenities','description','zipcode','description_length',\n",
    "                               'latitude','longitude','name','neighbourhood','review_scores_rating','thumbnail_url',\n",
    "                               'zipcode'], axis=1)\n",
    "\n",
    "# delete other redundant variables\n",
    "del df_logistic['amenities_new']\n",
    "del df_logistic['host_since']\n",
    "# del df_logistic['grade']\n",
    "del df_logistic['first_review']\n",
    "del df_logistic['last_review']\n",
    "\n",
    "# Remove factor with unncessarily large number of levels\n",
    "df_logistic.drop(['property_type'], axis=1, inplace=True)"
   ]
  },
  {
   "cell_type": "markdown",
   "metadata": {},
   "source": [
    "One-Hot Encode Categorical Variables with multiple levels."
   ]
  },
  {
   "cell_type": "code",
   "execution_count": 11,
   "metadata": {},
   "outputs": [],
   "source": [
    "categorical_vars = ['room_type','bed_type','cancellation_policy','city']\n",
    "\n",
    "# Create Dummy Variables\n",
    "multiCategorical_vars = ['city','cancellation_policy','bed_type','room_type']\n",
    "\n",
    "dummy_df = pd.get_dummies(df_logistic[multiCategorical_vars], drop_first = True)\n",
    "df_final = pd.concat([df_logistic, dummy_df], axis=1)\n",
    "del df_final['grade']\n",
    "\n",
    "# Delete non-dummy categorical variables\n",
    "for x in categorical_vars:\n",
    "    if x in df_final:\n",
    "        del df_final[x]"
   ]
  },
  {
   "cell_type": "markdown",
   "metadata": {},
   "source": [
    "***"
   ]
  },
  {
   "cell_type": "markdown",
   "metadata": {},
   "source": [
    "# Data Preparation Part 2\n",
    "\n",
    "<i><b>5 pts.</b> Describe the final dataset that is used for classification/regression (include a description of any newly formed variables you created).</i>"
   ]
  },
  {
   "cell_type": "code",
   "execution_count": 12,
   "metadata": {},
   "outputs": [
    {
     "name": "stdout",
     "output_type": "stream",
     "text": [
      "<class 'pandas.core.frame.DataFrame'>\n",
      "RangeIndex: 57389 entries, 0 to 57388\n",
      "Data columns (total 37 columns):\n",
      "log_price                              57389 non-null float64\n",
      "accommodates                           57389 non-null int64\n",
      "bathrooms                              57389 non-null float64\n",
      "cleaning_fee                           57389 non-null bool\n",
      "host_has_profile_pic                   57389 non-null bool\n",
      "host_identity_verified                 57389 non-null bool\n",
      "host_response_rate                     57389 non-null float64\n",
      "instant_bookable                       57389 non-null bool\n",
      "number_of_reviews                      57389 non-null int64\n",
      "bedrooms                               57389 non-null int64\n",
      "beds                                   57389 non-null int64\n",
      "price                                  57389 non-null float64\n",
      "length_amenities                       57389 non-null int64\n",
      "internet                               57389 non-null bool\n",
      "TV                                     57389 non-null bool\n",
      "air_conditioning                       57389 non-null bool\n",
      "kitchen                                57389 non-null bool\n",
      "pool                                   57389 non-null bool\n",
      "parking                                57389 non-null bool\n",
      "superuser                              57389 non-null bool\n",
      "grade_grouped                          57389 non-null object\n",
      "host_since_days                        57389 non-null int64\n",
      "city_Chicago                           57389 non-null uint8\n",
      "city_DC                                57389 non-null uint8\n",
      "city_LA                                57389 non-null uint8\n",
      "city_NYC                               57389 non-null uint8\n",
      "city_SF                                57389 non-null uint8\n",
      "cancellation_policy_moderate           57389 non-null uint8\n",
      "cancellation_policy_strict             57389 non-null uint8\n",
      "cancellation_policy_super_strict_30    57389 non-null uint8\n",
      "cancellation_policy_super_strict_60    57389 non-null uint8\n",
      "bed_type_Couch                         57389 non-null uint8\n",
      "bed_type_Futon                         57389 non-null uint8\n",
      "bed_type_Pull-out Sofa                 57389 non-null uint8\n",
      "bed_type_Real Bed                      57389 non-null uint8\n",
      "room_type_Private room                 57389 non-null uint8\n",
      "room_type_Shared room                  57389 non-null uint8\n",
      "dtypes: bool(11), float64(4), int64(6), object(1), uint8(15)\n",
      "memory usage: 6.2+ MB\n"
     ]
    }
   ],
   "source": [
    "df_final.info()"
   ]
  },
  {
   "cell_type": "code",
   "execution_count": 13,
   "metadata": {},
   "outputs": [
    {
     "data": {
      "text/html": [
       "<div>\n",
       "<style scoped>\n",
       "    .dataframe tbody tr th:only-of-type {\n",
       "        vertical-align: middle;\n",
       "    }\n",
       "\n",
       "    .dataframe tbody tr th {\n",
       "        vertical-align: top;\n",
       "    }\n",
       "\n",
       "    .dataframe thead th {\n",
       "        text-align: right;\n",
       "    }\n",
       "</style>\n",
       "<table border=\"1\" class=\"dataframe\">\n",
       "  <thead>\n",
       "    <tr style=\"text-align: right;\">\n",
       "      <th></th>\n",
       "      <th>log_price</th>\n",
       "      <th>accommodates</th>\n",
       "      <th>bathrooms</th>\n",
       "      <th>host_response_rate</th>\n",
       "      <th>number_of_reviews</th>\n",
       "      <th>bedrooms</th>\n",
       "      <th>beds</th>\n",
       "      <th>price</th>\n",
       "      <th>length_amenities</th>\n",
       "      <th>host_since_days</th>\n",
       "      <th>city_Chicago</th>\n",
       "      <th>city_DC</th>\n",
       "      <th>city_LA</th>\n",
       "      <th>city_NYC</th>\n",
       "      <th>city_SF</th>\n",
       "      <th>cancellation_policy_moderate</th>\n",
       "      <th>cancellation_policy_strict</th>\n",
       "      <th>cancellation_policy_super_strict_30</th>\n",
       "      <th>cancellation_policy_super_strict_60</th>\n",
       "      <th>bed_type_Couch</th>\n",
       "      <th>bed_type_Futon</th>\n",
       "      <th>bed_type_Pull-out Sofa</th>\n",
       "      <th>bed_type_Real Bed</th>\n",
       "      <th>room_type_Private room</th>\n",
       "      <th>room_type_Shared room</th>\n",
       "    </tr>\n",
       "  </thead>\n",
       "  <tbody>\n",
       "    <tr>\n",
       "      <td>count</td>\n",
       "      <td>57389.000000</td>\n",
       "      <td>57389.000000</td>\n",
       "      <td>57389.000000</td>\n",
       "      <td>57389.000000</td>\n",
       "      <td>57389.000000</td>\n",
       "      <td>57389.000000</td>\n",
       "      <td>57389.000000</td>\n",
       "      <td>57389.000000</td>\n",
       "      <td>57389.000000</td>\n",
       "      <td>57389.000000</td>\n",
       "      <td>57389.000000</td>\n",
       "      <td>57389.000000</td>\n",
       "      <td>57389.000000</td>\n",
       "      <td>57389.000000</td>\n",
       "      <td>57389.000000</td>\n",
       "      <td>57389.000000</td>\n",
       "      <td>57389.000000</td>\n",
       "      <td>57389.000000</td>\n",
       "      <td>57389.000000</td>\n",
       "      <td>57389.000000</td>\n",
       "      <td>57389.000000</td>\n",
       "      <td>57389.000000</td>\n",
       "      <td>57389.000000</td>\n",
       "      <td>57389.000000</td>\n",
       "      <td>57389.000000</td>\n",
       "    </tr>\n",
       "    <tr>\n",
       "      <td>mean</td>\n",
       "      <td>4.749232</td>\n",
       "      <td>3.218247</td>\n",
       "      <td>1.225967</td>\n",
       "      <td>0.952633</td>\n",
       "      <td>26.957326</td>\n",
       "      <td>1.260904</td>\n",
       "      <td>1.737546</td>\n",
       "      <td>147.748297</td>\n",
       "      <td>18.357943</td>\n",
       "      <td>1373.129380</td>\n",
       "      <td>0.055899</td>\n",
       "      <td>0.071442</td>\n",
       "      <td>0.299465</td>\n",
       "      <td>0.436111</td>\n",
       "      <td>0.087944</td>\n",
       "      <td>0.287355</td>\n",
       "      <td>0.484884</td>\n",
       "      <td>0.001446</td>\n",
       "      <td>0.000174</td>\n",
       "      <td>0.002771</td>\n",
       "      <td>0.010560</td>\n",
       "      <td>0.008608</td>\n",
       "      <td>0.972068</td>\n",
       "      <td>0.399536</td>\n",
       "      <td>0.025144</td>\n",
       "    </tr>\n",
       "    <tr>\n",
       "      <td>std</td>\n",
       "      <td>0.668700</td>\n",
       "      <td>2.144154</td>\n",
       "      <td>0.561473</td>\n",
       "      <td>0.122000</td>\n",
       "      <td>41.043449</td>\n",
       "      <td>0.841280</td>\n",
       "      <td>1.265311</td>\n",
       "      <td>134.512852</td>\n",
       "      <td>6.907464</td>\n",
       "      <td>662.667741</td>\n",
       "      <td>0.229729</td>\n",
       "      <td>0.257564</td>\n",
       "      <td>0.458028</td>\n",
       "      <td>0.495906</td>\n",
       "      <td>0.283215</td>\n",
       "      <td>0.452532</td>\n",
       "      <td>0.499776</td>\n",
       "      <td>0.038003</td>\n",
       "      <td>0.013199</td>\n",
       "      <td>0.052564</td>\n",
       "      <td>0.102216</td>\n",
       "      <td>0.092380</td>\n",
       "      <td>0.164780</td>\n",
       "      <td>0.489807</td>\n",
       "      <td>0.156564</td>\n",
       "    </tr>\n",
       "    <tr>\n",
       "      <td>min</td>\n",
       "      <td>0.000000</td>\n",
       "      <td>1.000000</td>\n",
       "      <td>0.000000</td>\n",
       "      <td>0.000000</td>\n",
       "      <td>1.000000</td>\n",
       "      <td>0.000000</td>\n",
       "      <td>0.000000</td>\n",
       "      <td>1.000000</td>\n",
       "      <td>1.000000</td>\n",
       "      <td>167.000000</td>\n",
       "      <td>0.000000</td>\n",
       "      <td>0.000000</td>\n",
       "      <td>0.000000</td>\n",
       "      <td>0.000000</td>\n",
       "      <td>0.000000</td>\n",
       "      <td>0.000000</td>\n",
       "      <td>0.000000</td>\n",
       "      <td>0.000000</td>\n",
       "      <td>0.000000</td>\n",
       "      <td>0.000000</td>\n",
       "      <td>0.000000</td>\n",
       "      <td>0.000000</td>\n",
       "      <td>0.000000</td>\n",
       "      <td>0.000000</td>\n",
       "      <td>0.000000</td>\n",
       "    </tr>\n",
       "    <tr>\n",
       "      <td>25%</td>\n",
       "      <td>4.304065</td>\n",
       "      <td>2.000000</td>\n",
       "      <td>1.000000</td>\n",
       "      <td>0.940000</td>\n",
       "      <td>3.000000</td>\n",
       "      <td>1.000000</td>\n",
       "      <td>1.000000</td>\n",
       "      <td>74.000000</td>\n",
       "      <td>14.000000</td>\n",
       "      <td>851.000000</td>\n",
       "      <td>0.000000</td>\n",
       "      <td>0.000000</td>\n",
       "      <td>0.000000</td>\n",
       "      <td>0.000000</td>\n",
       "      <td>0.000000</td>\n",
       "      <td>0.000000</td>\n",
       "      <td>0.000000</td>\n",
       "      <td>0.000000</td>\n",
       "      <td>0.000000</td>\n",
       "      <td>0.000000</td>\n",
       "      <td>0.000000</td>\n",
       "      <td>0.000000</td>\n",
       "      <td>1.000000</td>\n",
       "      <td>0.000000</td>\n",
       "      <td>0.000000</td>\n",
       "    </tr>\n",
       "    <tr>\n",
       "      <td>50%</td>\n",
       "      <td>4.700480</td>\n",
       "      <td>2.000000</td>\n",
       "      <td>1.000000</td>\n",
       "      <td>1.000000</td>\n",
       "      <td>11.000000</td>\n",
       "      <td>1.000000</td>\n",
       "      <td>1.000000</td>\n",
       "      <td>110.000000</td>\n",
       "      <td>18.000000</td>\n",
       "      <td>1312.000000</td>\n",
       "      <td>0.000000</td>\n",
       "      <td>0.000000</td>\n",
       "      <td>0.000000</td>\n",
       "      <td>0.000000</td>\n",
       "      <td>0.000000</td>\n",
       "      <td>0.000000</td>\n",
       "      <td>0.000000</td>\n",
       "      <td>0.000000</td>\n",
       "      <td>0.000000</td>\n",
       "      <td>0.000000</td>\n",
       "      <td>0.000000</td>\n",
       "      <td>0.000000</td>\n",
       "      <td>1.000000</td>\n",
       "      <td>0.000000</td>\n",
       "      <td>0.000000</td>\n",
       "    </tr>\n",
       "    <tr>\n",
       "      <td>75%</td>\n",
       "      <td>5.164786</td>\n",
       "      <td>4.000000</td>\n",
       "      <td>1.000000</td>\n",
       "      <td>1.000000</td>\n",
       "      <td>33.000000</td>\n",
       "      <td>1.000000</td>\n",
       "      <td>2.000000</td>\n",
       "      <td>175.000000</td>\n",
       "      <td>22.000000</td>\n",
       "      <td>1841.000000</td>\n",
       "      <td>0.000000</td>\n",
       "      <td>0.000000</td>\n",
       "      <td>1.000000</td>\n",
       "      <td>1.000000</td>\n",
       "      <td>0.000000</td>\n",
       "      <td>1.000000</td>\n",
       "      <td>1.000000</td>\n",
       "      <td>0.000000</td>\n",
       "      <td>0.000000</td>\n",
       "      <td>0.000000</td>\n",
       "      <td>0.000000</td>\n",
       "      <td>0.000000</td>\n",
       "      <td>1.000000</td>\n",
       "      <td>1.000000</td>\n",
       "      <td>0.000000</td>\n",
       "    </tr>\n",
       "    <tr>\n",
       "      <td>max</td>\n",
       "      <td>7.600402</td>\n",
       "      <td>16.000000</td>\n",
       "      <td>8.000000</td>\n",
       "      <td>1.000000</td>\n",
       "      <td>605.000000</td>\n",
       "      <td>10.000000</td>\n",
       "      <td>18.000000</td>\n",
       "      <td>1999.000000</td>\n",
       "      <td>77.000000</td>\n",
       "      <td>3663.000000</td>\n",
       "      <td>1.000000</td>\n",
       "      <td>1.000000</td>\n",
       "      <td>1.000000</td>\n",
       "      <td>1.000000</td>\n",
       "      <td>1.000000</td>\n",
       "      <td>1.000000</td>\n",
       "      <td>1.000000</td>\n",
       "      <td>1.000000</td>\n",
       "      <td>1.000000</td>\n",
       "      <td>1.000000</td>\n",
       "      <td>1.000000</td>\n",
       "      <td>1.000000</td>\n",
       "      <td>1.000000</td>\n",
       "      <td>1.000000</td>\n",
       "      <td>1.000000</td>\n",
       "    </tr>\n",
       "  </tbody>\n",
       "</table>\n",
       "</div>"
      ],
      "text/plain": [
       "          log_price  accommodates     bathrooms  host_response_rate  \\\n",
       "count  57389.000000  57389.000000  57389.000000        57389.000000   \n",
       "mean       4.749232      3.218247      1.225967            0.952633   \n",
       "std        0.668700      2.144154      0.561473            0.122000   \n",
       "min        0.000000      1.000000      0.000000            0.000000   \n",
       "25%        4.304065      2.000000      1.000000            0.940000   \n",
       "50%        4.700480      2.000000      1.000000            1.000000   \n",
       "75%        5.164786      4.000000      1.000000            1.000000   \n",
       "max        7.600402     16.000000      8.000000            1.000000   \n",
       "\n",
       "       number_of_reviews      bedrooms          beds         price  \\\n",
       "count       57389.000000  57389.000000  57389.000000  57389.000000   \n",
       "mean           26.957326      1.260904      1.737546    147.748297   \n",
       "std            41.043449      0.841280      1.265311    134.512852   \n",
       "min             1.000000      0.000000      0.000000      1.000000   \n",
       "25%             3.000000      1.000000      1.000000     74.000000   \n",
       "50%            11.000000      1.000000      1.000000    110.000000   \n",
       "75%            33.000000      1.000000      2.000000    175.000000   \n",
       "max           605.000000     10.000000     18.000000   1999.000000   \n",
       "\n",
       "       length_amenities  host_since_days  city_Chicago       city_DC  \\\n",
       "count      57389.000000     57389.000000  57389.000000  57389.000000   \n",
       "mean          18.357943      1373.129380      0.055899      0.071442   \n",
       "std            6.907464       662.667741      0.229729      0.257564   \n",
       "min            1.000000       167.000000      0.000000      0.000000   \n",
       "25%           14.000000       851.000000      0.000000      0.000000   \n",
       "50%           18.000000      1312.000000      0.000000      0.000000   \n",
       "75%           22.000000      1841.000000      0.000000      0.000000   \n",
       "max           77.000000      3663.000000      1.000000      1.000000   \n",
       "\n",
       "            city_LA      city_NYC       city_SF  cancellation_policy_moderate  \\\n",
       "count  57389.000000  57389.000000  57389.000000                  57389.000000   \n",
       "mean       0.299465      0.436111      0.087944                      0.287355   \n",
       "std        0.458028      0.495906      0.283215                      0.452532   \n",
       "min        0.000000      0.000000      0.000000                      0.000000   \n",
       "25%        0.000000      0.000000      0.000000                      0.000000   \n",
       "50%        0.000000      0.000000      0.000000                      0.000000   \n",
       "75%        1.000000      1.000000      0.000000                      1.000000   \n",
       "max        1.000000      1.000000      1.000000                      1.000000   \n",
       "\n",
       "       cancellation_policy_strict  cancellation_policy_super_strict_30  \\\n",
       "count                57389.000000                         57389.000000   \n",
       "mean                     0.484884                             0.001446   \n",
       "std                      0.499776                             0.038003   \n",
       "min                      0.000000                             0.000000   \n",
       "25%                      0.000000                             0.000000   \n",
       "50%                      0.000000                             0.000000   \n",
       "75%                      1.000000                             0.000000   \n",
       "max                      1.000000                             1.000000   \n",
       "\n",
       "       cancellation_policy_super_strict_60  bed_type_Couch  bed_type_Futon  \\\n",
       "count                         57389.000000    57389.000000    57389.000000   \n",
       "mean                              0.000174        0.002771        0.010560   \n",
       "std                               0.013199        0.052564        0.102216   \n",
       "min                               0.000000        0.000000        0.000000   \n",
       "25%                               0.000000        0.000000        0.000000   \n",
       "50%                               0.000000        0.000000        0.000000   \n",
       "75%                               0.000000        0.000000        0.000000   \n",
       "max                               1.000000        1.000000        1.000000   \n",
       "\n",
       "       bed_type_Pull-out Sofa  bed_type_Real Bed  room_type_Private room  \\\n",
       "count            57389.000000       57389.000000            57389.000000   \n",
       "mean                 0.008608           0.972068                0.399536   \n",
       "std                  0.092380           0.164780                0.489807   \n",
       "min                  0.000000           0.000000                0.000000   \n",
       "25%                  0.000000           1.000000                0.000000   \n",
       "50%                  0.000000           1.000000                0.000000   \n",
       "75%                  0.000000           1.000000                1.000000   \n",
       "max                  1.000000           1.000000                1.000000   \n",
       "\n",
       "       room_type_Shared room  \n",
       "count           57389.000000  \n",
       "mean                0.025144  \n",
       "std                 0.156564  \n",
       "min                 0.000000  \n",
       "25%                 0.000000  \n",
       "50%                 0.000000  \n",
       "75%                 0.000000  \n",
       "max                 1.000000  "
      ]
     },
     "execution_count": 13,
     "metadata": {},
     "output_type": "execute_result"
    }
   ],
   "source": [
    "df_final.describe()"
   ]
  },
  {
   "cell_type": "markdown",
   "metadata": {},
   "source": [
    "The original variable price was not including in the model. Instead, there was log price, likely made to compress the outliers of price (for example, there was an entire island for rent). We exponentiated log price to get back the original price variable."
   ]
  },
  {
   "cell_type": "code",
   "execution_count": 14,
   "metadata": {},
   "outputs": [
    {
     "data": {
      "text/plain": [
       "array([[<matplotlib.axes._subplots.AxesSubplot object at 0x1c1e785e10>]],\n",
       "      dtype=object)"
      ]
     },
     "execution_count": 14,
     "metadata": {},
     "output_type": "execute_result"
    },
    {
     "data": {
      "image/png": "[encoded data removed]",
      "text/plain": [
       "<Figure size 432x288 with 1 Axes>"
      ]
     },
     "metadata": {
      "needs_background": "light"
     },
     "output_type": "display_data"
    }
   ],
   "source": [
    "df_final.hist(column='price')"
   ]
  },
  {
   "cell_type": "code",
   "execution_count": 15,
   "metadata": {},
   "outputs": [
    {
     "data": {
      "text/plain": [
       "array([[<matplotlib.axes._subplots.AxesSubplot object at 0x1c2bdcdb10>]],\n",
       "      dtype=object)"
      ]
     },
     "execution_count": 15,
     "metadata": {},
     "output_type": "execute_result"
    },
    {
     "data": {
      "image/png": "[encoded data removed]",
      "text/plain": [
       "<Figure size 432x288 with 1 Axes>"
      ]
     },
     "metadata": {
      "needs_background": "light"
     },
     "output_type": "display_data"
    }
   ],
   "source": [
    "df_final.hist(column='log_price')"
   ]
  },
  {
   "cell_type": "markdown",
   "metadata": {},
   "source": [
    "As pictured above, the log price has a much more normal distribution. Another attribute we created is the host_since_days, a calculation of how many days a host has been active, defined as the days they became a host subtracted from the date the dataset was made publcally available."
   ]
  },
  {
   "cell_type": "code",
   "execution_count": 16,
   "metadata": {},
   "outputs": [
    {
     "data": {
      "text/plain": [
       "<matplotlib.axes._subplots.AxesSubplot at 0x1c2f8e4590>"
      ]
     },
     "execution_count": 16,
     "metadata": {},
     "output_type": "execute_result"
    },
    {
     "data": {
      "image/png": "[encoded data removed]",
      "text/plain": [
       "<Figure size 432x288 with 1 Axes>"
      ]
     },
     "metadata": {
      "needs_background": "light"
     },
     "output_type": "display_data"
    }
   ],
   "source": [
    "df_final.boxplot(column='host_since_days')"
   ]
  },
  {
   "cell_type": "markdown",
   "metadata": {},
   "source": [
    "This appears to be right-skewed, with a number of outliers. Some of the hosts look to have been active for a very long time. "
   ]
  },
  {
   "cell_type": "markdown",
   "metadata": {},
   "source": [
    "We also created a variable called length_amenities. The original amenities variable was a list of all the reported amenties. We wanted to see if there was a correlation between the length of this list and the overall grade of the property."
   ]
  },
  {
   "cell_type": "code",
   "execution_count": 17,
   "metadata": {},
   "outputs": [
    {
     "data": {
      "text/plain": [
       "<matplotlib.axes._subplots.AxesSubplot at 0x1c2e32c2d0>"
      ]
     },
     "execution_count": 17,
     "metadata": {},
     "output_type": "execute_result"
    },
    {
     "data": {
      "image/png": "[encoded data removed]",
      "text/plain": [
       "<Figure size 432x288 with 1 Axes>"
      ]
     },
     "metadata": {
      "needs_background": "light"
     },
     "output_type": "display_data"
    }
   ],
   "source": [
    "df_final.boxplot(column='length_amenities')"
   ]
  },
  {
   "cell_type": "code",
   "execution_count": 18,
   "metadata": {},
   "outputs": [
    {
     "data": {
      "text/plain": [
       "array([[<matplotlib.axes._subplots.AxesSubplot object at 0x1c2db62d10>]],\n",
       "      dtype=object)"
      ]
     },
     "execution_count": 18,
     "metadata": {},
     "output_type": "execute_result"
    },
    {
     "data": {
      "image/png": "[encoded data removed]",
      "text/plain": [
       "<Figure size 432x288 with 1 Axes>"
      ]
     },
     "metadata": {
      "needs_background": "light"
     },
     "output_type": "display_data"
    }
   ],
   "source": [
    "df_final.hist(column='length_amenities')"
   ]
  },
  {
   "cell_type": "markdown",
   "metadata": {},
   "source": [
    "There is an apparent right skew. There are a number of people who have very long lists of amenities.\n",
    "**For the purpose of our first classification task**, we have created a grade_grouped target variable to identify potential hosts that may be targeted for AirBnb's superhost program if they have at least 90% for their rating review scores. We grouped all grades under an A as being less than an A because most people in the dataset have an A rating and we wanted to mitigate the class imbalance and create a binary variable to predict."
   ]
  },
  {
   "cell_type": "code",
   "execution_count": 19,
   "metadata": {},
   "outputs": [
    {
     "data": {
      "text/plain": [
       "A     47897\n",
       "<A     9492\n",
       "Name: grade_grouped, dtype: int64"
      ]
     },
     "execution_count": 19,
     "metadata": {},
     "output_type": "execute_result"
    },
    {
     "data": {
      "image/png": "[encoded data removed]",
      "text/plain": [
       "<Figure size 432x288 with 1 Axes>"
      ]
     },
     "metadata": {
      "needs_background": "light"
     },
     "output_type": "display_data"
    }
   ],
   "source": [
    "sns.countplot(data=df_final, x = 'grade_grouped')\n",
    "df_final['grade_grouped'].value_counts()"
   ]
  },
  {
   "cell_type": "markdown",
   "metadata": {},
   "source": [
    "For the grade_grouped target variable, there is a heavy imbalance of classes with 47,897 (83.5%) instances in the dataset reciving a rating review score of 90% or higher. On the other hand, only 9,492 instances recieved a rating review score lower than 90%. Although our EDA, shows a clear separation between the classes of A and <A compared to the 96% cutoff with the superuser variable. With this heavy imbalance, we will attempt to build our classification models using prior probabilities to optimize model performance and prediction accuracy."
   ]
  },
  {
   "cell_type": "markdown",
   "metadata": {},
   "source": [
    "**For the purpose of the second classification task**, we decided to subset our dataset based on all listing records that recieved an A or at least 90% on their review scores rating. From there we will use the superuser target variable to further investigate what separates good AirBnb listings (at least 90%) and exceptional listings (at least 96%, the minimum overall rating from reviews to be eligible for the Superhost program). This task will be performed with the dataset named df_superuser_subset."
   ]
  },
  {
   "cell_type": "code",
   "execution_count": 20,
   "metadata": {
    "scrolled": true
   },
   "outputs": [
    {
     "name": "stdout",
     "output_type": "stream",
     "text": [
      "<class 'pandas.core.frame.DataFrame'>\n",
      "RangeIndex: 47897 entries, 0 to 47896\n",
      "Data columns (total 38 columns):\n",
      "index                                  47897 non-null int64\n",
      "log_price                              47897 non-null float64\n",
      "accommodates                           47897 non-null int64\n",
      "bathrooms                              47897 non-null float64\n",
      "cleaning_fee                           47897 non-null bool\n",
      "host_has_profile_pic                   47897 non-null bool\n",
      "host_identity_verified                 47897 non-null bool\n",
      "host_response_rate                     47897 non-null float64\n",
      "instant_bookable                       47897 non-null bool\n",
      "number_of_reviews                      47897 non-null int64\n",
      "bedrooms                               47897 non-null int64\n",
      "beds                                   47897 non-null int64\n",
      "price                                  47897 non-null float64\n",
      "length_amenities                       47897 non-null int64\n",
      "internet                               47897 non-null bool\n",
      "TV                                     47897 non-null bool\n",
      "air_conditioning                       47897 non-null bool\n",
      "kitchen                                47897 non-null bool\n",
      "pool                                   47897 non-null bool\n",
      "parking                                47897 non-null bool\n",
      "superuser                              47897 non-null bool\n",
      "grade_grouped                          47897 non-null object\n",
      "host_since_days                        47897 non-null int64\n",
      "city_Chicago                           47897 non-null uint8\n",
      "city_DC                                47897 non-null uint8\n",
      "city_LA                                47897 non-null uint8\n",
      "city_NYC                               47897 non-null uint8\n",
      "city_SF                                47897 non-null uint8\n",
      "cancellation_policy_moderate           47897 non-null uint8\n",
      "cancellation_policy_strict             47897 non-null uint8\n",
      "cancellation_policy_super_strict_30    47897 non-null uint8\n",
      "cancellation_policy_super_strict_60    47897 non-null uint8\n",
      "bed_type_Couch                         47897 non-null uint8\n",
      "bed_type_Futon                         47897 non-null uint8\n",
      "bed_type_Pull-out Sofa                 47897 non-null uint8\n",
      "bed_type_Real Bed                      47897 non-null uint8\n",
      "room_type_Private room                 47897 non-null uint8\n",
      "room_type_Shared room                  47897 non-null uint8\n",
      "dtypes: bool(11), float64(4), int64(7), object(1), uint8(15)\n",
      "memory usage: 5.6+ MB\n"
     ]
    }
   ],
   "source": [
    "df_superuser_subset = df_final.loc[df_imputed['grade'] == 'A'].reset_index()\n",
    "df_superuser_subset.info()"
   ]
  },
  {
   "cell_type": "code",
   "execution_count": null,
   "metadata": {},
   "outputs": [],
   "source": []
  },
  {
   "cell_type": "code",
   "execution_count": 21,
   "metadata": {},
   "outputs": [
    {
     "data": {
      "text/plain": [
       "False    27558\n",
       "True     20339\n",
       "Name: superuser, dtype: int64"
      ]
     },
     "execution_count": 21,
     "metadata": {},
     "output_type": "execute_result"
    },
    {
     "data": {
      "image/png": "[encoded data removed]",
      "text/plain": [
       "<Figure size 432x288 with 1 Axes>"
      ]
     },
     "metadata": {
      "needs_background": "light"
     },
     "output_type": "display_data"
    }
   ],
   "source": [
    "sns.countplot(data=df_superuser_subset, x = 'superuser')\n",
    "df_superuser_subset['superuser'].value_counts()\n",
    "#adjust classification penalty against true, class weights, over/under sample"
   ]
  },
  {
   "cell_type": "markdown",
   "metadata": {},
   "source": [
    "For the superuser target variable in df_superuser_subset, there is a slight imbalance of classes with 27,558 (57.5%) instances in the dataset reciving a rating review score between 90-96%. On the other hand, there are 20,339 instances that recieved a rating review score of 96% and higher."
   ]
  },
  {
   "cell_type": "code",
   "execution_count": 22,
   "metadata": {},
   "outputs": [
    {
     "name": "stdout",
     "output_type": "stream",
     "text": [
      "<class 'pandas.core.frame.DataFrame'>\n",
      "RangeIndex: 57389 entries, 0 to 57388\n",
      "Data columns (total 37 columns):\n",
      "log_price                              57389 non-null float64\n",
      "accommodates                           57389 non-null int64\n",
      "bathrooms                              57389 non-null float64\n",
      "cleaning_fee                           57389 non-null bool\n",
      "host_has_profile_pic                   57389 non-null bool\n",
      "host_identity_verified                 57389 non-null bool\n",
      "host_response_rate                     57389 non-null float64\n",
      "instant_bookable                       57389 non-null bool\n",
      "number_of_reviews                      57389 non-null int64\n",
      "bedrooms                               57389 non-null int64\n",
      "beds                                   57389 non-null int64\n",
      "price                                  57389 non-null float64\n",
      "length_amenities                       57389 non-null int64\n",
      "internet                               57389 non-null bool\n",
      "TV                                     57389 non-null bool\n",
      "air_conditioning                       57389 non-null bool\n",
      "kitchen                                57389 non-null bool\n",
      "pool                                   57389 non-null bool\n",
      "parking                                57389 non-null bool\n",
      "superuser                              57389 non-null bool\n",
      "grade_grouped                          57389 non-null object\n",
      "host_since_days                        57389 non-null int64\n",
      "city_Chicago                           57389 non-null uint8\n",
      "city_DC                                57389 non-null uint8\n",
      "city_LA                                57389 non-null uint8\n",
      "city_NYC                               57389 non-null uint8\n",
      "city_SF                                57389 non-null uint8\n",
      "cancellation_policy_moderate           57389 non-null uint8\n",
      "cancellation_policy_strict             57389 non-null uint8\n",
      "cancellation_policy_super_strict_30    57389 non-null uint8\n",
      "cancellation_policy_super_strict_60    57389 non-null uint8\n",
      "bed_type_Couch                         57389 non-null uint8\n",
      "bed_type_Futon                         57389 non-null uint8\n",
      "bed_type_Pull-out Sofa                 57389 non-null uint8\n",
      "bed_type_Real Bed                      57389 non-null uint8\n",
      "room_type_Private room                 57389 non-null uint8\n",
      "room_type_Shared room                  57389 non-null uint8\n",
      "dtypes: bool(11), float64(4), int64(6), object(1), uint8(15)\n",
      "memory usage: 6.2+ MB\n"
     ]
    }
   ],
   "source": [
    "df_final.info()"
   ]
  },
  {
   "cell_type": "markdown",
   "metadata": {},
   "source": [
    "Finally we wanted to get valuable information from the amenities list and created boolean variables about whether or not a property had internet, TV, air conditioning, parking, or a kitchen."
   ]
  },
  {
   "cell_type": "code",
   "execution_count": 23,
   "metadata": {},
   "outputs": [
    {
     "data": {
      "text/plain": [
       "<matplotlib.axes._subplots.AxesSubplot at 0x1c2fe593d0>"
      ]
     },
     "execution_count": 23,
     "metadata": {},
     "output_type": "execute_result"
    },
    {
     "data": {
      "image/png": "[encoded data removed]",
      "text/plain": [
       "<Figure size 432x288 with 1 Axes>"
      ]
     },
     "metadata": {
      "needs_background": "light"
     },
     "output_type": "display_data"
    }
   ],
   "source": [
    "sns.countplot(df_final.internet)"
   ]
  },
  {
   "cell_type": "code",
   "execution_count": 24,
   "metadata": {},
   "outputs": [
    {
     "data": {
      "text/plain": [
       "<matplotlib.axes._subplots.AxesSubplot at 0x1c27d150d0>"
      ]
     },
     "execution_count": 24,
     "metadata": {},
     "output_type": "execute_result"
    },
    {
     "data": {
      "image/png": "[encoded data removed]",
      "text/plain": [
       "<Figure size 432x288 with 1 Axes>"
      ]
     },
     "metadata": {
      "needs_background": "light"
     },
     "output_type": "display_data"
    }
   ],
   "source": [
    "sns.countplot(df_final.TV)"
   ]
  },
  {
   "cell_type": "code",
   "execution_count": 25,
   "metadata": {},
   "outputs": [
    {
     "data": {
      "text/plain": [
       "<matplotlib.axes._subplots.AxesSubplot at 0x1c2994e550>"
      ]
     },
     "execution_count": 25,
     "metadata": {},
     "output_type": "execute_result"
    },
    {
     "data": {
      "image/png": "[encoded data removed]",
      "text/plain": [
       "<Figure size 432x288 with 1 Axes>"
      ]
     },
     "metadata": {
      "needs_background": "light"
     },
     "output_type": "display_data"
    }
   ],
   "source": [
    "sns.countplot(df_final.air_conditioning)"
   ]
  },
  {
   "cell_type": "code",
   "execution_count": 26,
   "metadata": {},
   "outputs": [
    {
     "data": {
      "text/plain": [
       "<matplotlib.axes._subplots.AxesSubplot at 0x1c1ffd7650>"
      ]
     },
     "execution_count": 26,
     "metadata": {},
     "output_type": "execute_result"
    },
    {
     "data": {
      "image/png": "[encoded data removed]",
      "text/plain": [
       "<Figure size 432x288 with 1 Axes>"
      ]
     },
     "metadata": {
      "needs_background": "light"
     },
     "output_type": "display_data"
    }
   ],
   "source": [
    "sns.countplot(df_final.parking)"
   ]
  },
  {
   "cell_type": "code",
   "execution_count": 27,
   "metadata": {},
   "outputs": [
    {
     "data": {
      "text/plain": [
       "<matplotlib.axes._subplots.AxesSubplot at 0x1c2f328f10>"
      ]
     },
     "execution_count": 27,
     "metadata": {},
     "output_type": "execute_result"
    },
    {
     "data": {
      "image/png": "[encoded data removed]",
      "text/plain": [
       "<Figure size 432x288 with 1 Axes>"
      ]
     },
     "metadata": {
      "needs_background": "light"
     },
     "output_type": "display_data"
    }
   ],
   "source": [
    "sns.countplot(df_final.kitchen)"
   ]
  },
  {
   "cell_type": "markdown",
   "metadata": {},
   "source": [
    "***"
   ]
  },
  {
   "cell_type": "markdown",
   "metadata": {},
   "source": [
    "# Modeling and Evaluation 1\n",
    "\n",
    "<i><b>10 pts.</b> Choose and explain your evaluation metrics that you will use (i.e., accuracy, precision, recall, F-measure, or any metric we have discussed). Why are the measure(s) appropriate for analyzing the results of your modeling? Give a detailed explanation backing up any assertions.</i>"
   ]
  },
  {
   "cell_type": "markdown",
   "metadata": {},
   "source": [
    "For our first classification task with the grade_grouped target responsible, we aim to investigate potential AirBnb hosts that should be targeted for the Superhost program. We will prioritize high precision for the grade_grouped target variable since there is a large majority for the class with an A grade for their ratings review score. With an abundance of instances for this class, we would like to minimize the false positives because we want to correctly determine which AirBnb hosts are ideal for the Superhost program. We also may want to evaluate our model with the F-measure to minimize the false negative predictions because we do not want to miss out on superb hosts that would benefit from the Superhost program. We want to penalize the misclassification of listings with an actual grade of less than A to A more than the misclassification of a listing with an actual grade of A to a grade less than A in the classification models for this first task.\n",
    "    \n",
    "For our second classification task with the superuser target variable in df_superuser_subset, we will look into overall classification accuracy since the penalty cost for false negatives and false positives are roughly the same since the classes are not heavily imbalanced. We may also want to investigate precision in the models for this task as well since we want to explore how Superhosts (>=96%) are differentiated from good AirBnb hosts (90-95%)."
   ]
  },
  {
   "cell_type": "code",
   "execution_count": 28,
   "metadata": {},
   "outputs": [],
   "source": [
    "from sklearn.metrics import precision_score\n",
    "from sklearn.metrics import f1_score\n",
    "from sklearn.metrics import accuracy_score\n",
    "from sklearn.metrics import roc_curve, auc"
   ]
  },
  {
   "cell_type": "markdown",
   "metadata": {},
   "source": [
    "***"
   ]
  },
  {
   "cell_type": "markdown",
   "metadata": {},
   "source": [
    "# Modeling and Evaluation 2\n",
    "\n",
    "<i><b>10 pts.</b> Choose the method you will use for dividing your data into training and testing splits (i.e., are you using Stratified 10-fold cross validation? Why?). Explain why your chosen method is appropriate or use more than one method as appropriate. For example, if you are using time series data then you should be using continuous training and testing sets across time.</i>"
   ]
  },
  {
   "cell_type": "markdown",
   "metadata": {},
   "source": [
    "The method we will use to divide the data into training and test splits will be stratified 5-fold cross validation due to our large class imbalance in the grade_grouped target response variable; it is an approximately 5:1 ratio on A vs everything B and lower. With stratified 5-fold cross validation, each fold will be approximately representative of the ratio of classes as the full dataset. In other words, each of the 5 splits of the complete dataset will contain roughly the same percentage of each class from our grade_grouped target response variable.\n",
    "\n",
    "With a stratified K-fold cross validation technique, we avoid high variance issues of a holdout method while benefiting from the bias and variance reduction of K-fold cross validation. The additional stratification of our data splits will address the class imbalance issue in our dataset. We will use this data split technique for both tasks since there is class imbalance present in both datasets, even though the second classification task on the superhost target response variable is only slighltly imbalanced, at an approximate 1.35:1 ratio on False vs True.\n",
    "\n",
    "##### Keep if we are going to do Stratified Shuffle Split, delete if we are just going to use Stratified Shuffle Split\n",
    "We will divide the data using a 90% training set and 10% test set since we want our models to be trained on as much data as possible in order to ensure the best possible accuracy. However, we may alter our approach to a 80%/20% training-test split if the model effiency and training times are poor."
   ]
  },
  {
   "cell_type": "markdown",
   "metadata": {},
   "source": [
    "### Task 1: grade_grouped target response"
   ]
  },
  {
   "cell_type": "code",
   "execution_count": 29,
   "metadata": {},
   "outputs": [],
   "source": [
    "from sklearn.model_selection import StratifiedKFold\n",
    "from sklearn.preprocessing import StandardScaler\n",
    "from sklearn import metrics as mt\n",
    "\n",
    "# Task 1: grade_grouped target response variable\n",
    "# separate response variable from training data\n",
    "X1 = df_final.drop(['superuser','grade_grouped'],axis=1)\n",
    "y1 = df_final['grade_grouped']\n",
    "\n",
    "yhat1 = np.zeros(y1.shape) # will be filled with the predictions\n",
    "y1 = y1.replace({'A':True, '<A':False})\n",
    "\n",
    "\n",
    "# Scale data\n",
    "scl = StandardScaler()\n",
    "X1 = scl.fit_transform(X1)\n",
    "\n",
    "# Create CV iterator\n",
    "cv = StratifiedKFold(n_splits=5)\n",
    "\n",
    "# Iterate through CV and get predictions\n",
    "#for train, test in cv.split(X1,y1):\n",
    "#    clf.fit(X1[train],y1[train])\n",
    "#    yhat1[test] = clf.predict(X1[test]) "
   ]
  },
  {
   "cell_type": "markdown",
   "metadata": {},
   "source": [
    "### Task 2: superuser target response"
   ]
  },
  {
   "cell_type": "code",
   "execution_count": 30,
   "metadata": {},
   "outputs": [],
   "source": [
    "# Task 2: superuser target response in df_superuser_subset\n",
    "# separate response variable from training data\n",
    "X2 = df_superuser_subset.drop(['superuser','grade_grouped'],axis=1)\n",
    "y2 = df_superuser_subset['superuser']\n",
    "yhat2 = np.zeros(y2.shape) # will be filled with the predictions\n",
    "\n",
    "# Scale data\n",
    "scl = StandardScaler()\n",
    "X2 = scl.fit_transform(X2)\n",
    "\n",
    "# Create CV iterator\n",
    "cv = StratifiedKFold(n_splits=5)\n",
    "\n",
    "# Iterate through CV and get predictions\n",
    "#for train, test in cv.split(X2,y2):\n",
    "#    clf.fit(X2[train],y2[train])\n",
    "#    yhat2[test] = clf.predict(X2[test]) "
   ]
  },
  {
   "cell_type": "markdown",
   "metadata": {},
   "source": [
    "***"
   ]
  },
  {
   "cell_type": "markdown",
   "metadata": {},
   "source": [
    "# Modeling and Evaluation 3\n",
    "\n",
    "<i><b>20 pts.</b> Create three different classification/regression models for each task (e.g., random forest, KNN, and SVM for task one and the same or different algorithms for task two). Two modeling techniques must be new (but the third could be SVM or logistic regression). Adjust parameters as appropriate to increase generalization performance using your chosen metric. You must investigate different parameters of the algorithms!</i>"
   ]
  },
  {
   "cell_type": "code",
   "execution_count": 30,
   "metadata": {},
   "outputs": [],
   "source": [
    "#RF, KNN regression, logistic regression\n",
    "\n",
    "from sklearn.pipeline import Pipeline\n",
    "from sklearn.linear_model import LogisticRegression\n",
    "from sklearn.ensemble import RandomForestClassifier\n",
    "from sklearn.neighbors import KNeighborsClassifier\n",
    "\n",
    "clf_pipe = Pipeline(\n",
    "           [\"LogisticRegression\", LogisticRegression(penalty = \"l2\", C = 1.0, class_weight = None, solver = 'liblinear', random_state = 0),\n",
    "            \"RandomForest\", RandomForestClassifier(n_estimators = 100, max_depth = 2, random_state = 0),\n",
    "            \"KNN\", KNeighborClassifier(n_neighbors = 5, weights = \"uniform\", metric = \"euclidean\")]\n",
    ")"
   ]
  },
  {
   "cell_type": "markdown",
   "metadata": {},
   "source": [
    "### Logistic Regression: grade_grouped (Task 1)"
   ]
  },
  {
   "cell_type": "markdown",
   "metadata": {},
   "source": [
    "##### Parameter Optimzation"
   ]
  },
  {
   "cell_type": "code",
   "execution_count": 123,
   "metadata": {},
   "outputs": [
    {
     "name": "stdout",
     "output_type": "stream",
     "text": [
      "The precision for Fold 1 with l1, {True: 0.835, False: 0.165} is 0.8346401812162397\n",
      "The F-measure for Fold 1 with l1, {True: 0.835, False: 0.165} is 0.9098679836641657\n",
      "The precision for Fold 2 with l1, {True: 0.835, False: 0.165} is 0.8345674710340621\n",
      "The F-measure for Fold 2 with l1, {True: 0.835, False: 0.165} is 0.9098247780046536\n",
      "The precision for Fold 3 with l1, {True: 0.835, False: 0.165} is 0.8346113628441966\n",
      "The F-measure for Fold 3 with l1, {True: 0.835, False: 0.165} is 0.909807646639753\n",
      "The precision for Fold 4 with l1, {True: 0.835, False: 0.165} is 0.8346985012199373\n",
      "The F-measure for Fold 4 with l1, {True: 0.835, False: 0.165} is 0.9099026359534552\n",
      "The precision for Fold 5 with l1, {True: 0.835, False: 0.165} is 0.8346113628441966\n",
      "The F-measure for Fold 5 with l1, {True: 0.835, False: 0.165} is 0.909807646639753\n",
      "The precision for Fold 1 with l1, balanced is 0.8968860164512339\n",
      "The F-measure for Fold 1 with l1, balanced is 0.7451793995606543\n",
      "The precision for Fold 2 with l1, balanced is 0.8959622752726201\n",
      "The F-measure for Fold 2 with l1, balanced is 0.743003788341684\n",
      "The precision for Fold 3 with l1, balanced is 0.8958488320190447\n",
      "The F-measure for Fold 3 with l1, balanced is 0.7387730061349693\n",
      "The precision for Fold 4 with l1, balanced is 0.8968616472668337\n",
      "The F-measure for Fold 4 with l1, balanced is 0.7438592203348406\n",
      "The precision for Fold 5 with l1, balanced is 0.8913519031646493\n",
      "The F-measure for Fold 5 with l1, balanced is 0.7437332684351424\n",
      "The precision for Fold 1 with l1, None is 0.8369030898876404\n",
      "The F-measure for Fold 1 with l1, None is 0.9092122830440587\n",
      "The precision for Fold 2 with l1, None is 0.8361646234676007\n",
      "The F-measure for Fold 2 with l1, None is 0.9094285714285715\n",
      "The precision for Fold 3 with l1, None is 0.8362152198718511\n",
      "The F-measure for Fold 3 with l1, None is 0.9085447263017357\n",
      "The precision for Fold 4 with l1, None is 0.8358731826939919\n",
      "The F-measure for Fold 4 with l1, None is 0.9090822498452159\n",
      "The precision for Fold 5 with l1, None is 0.8366523379243793\n",
      "The F-measure for Fold 5 with l1, None is 0.9092382495948135\n",
      "The precision for Fold 1 with l2, {True: 0.835, False: 0.165} is 0.8346401812162397\n",
      "The F-measure for Fold 1 with l2, {True: 0.835, False: 0.165} is 0.9098679836641657\n",
      "The precision for Fold 2 with l2, {True: 0.835, False: 0.165} is 0.8345674710340621\n",
      "The F-measure for Fold 2 with l2, {True: 0.835, False: 0.165} is 0.9098247780046536\n",
      "The precision for Fold 3 with l2, {True: 0.835, False: 0.165} is 0.8346113628441966\n",
      "The F-measure for Fold 3 with l2, {True: 0.835, False: 0.165} is 0.909807646639753\n",
      "The precision for Fold 4 with l2, {True: 0.835, False: 0.165} is 0.8347712418300653\n",
      "The F-measure for Fold 4 with l2, {True: 0.835, False: 0.165} is 0.9099458535195213\n",
      "The precision for Fold 5 with l2, {True: 0.835, False: 0.165} is 0.8346113628441966\n",
      "The F-measure for Fold 5 with l2, {True: 0.835, False: 0.165} is 0.909807646639753\n",
      "The precision for Fold 1 with l2, balanced is 0.8968860164512339\n",
      "The F-measure for Fold 1 with l2, balanced is 0.7451793995606543\n",
      "The precision for Fold 2 with l2, balanced is 0.8960082486375018\n",
      "The F-measure for Fold 2 with l2, balanced is 0.7432341621357444\n",
      "The precision for Fold 3 with l2, balanced is 0.8958643260934246\n",
      "The F-measure for Fold 3 with l2, balanced is 0.7388503772774676\n",
      "The precision for Fold 4 with l2, balanced is 0.8968768414849735\n",
      "The F-measure for Fold 4 with l2, balanced is 0.7439359687175413\n",
      "The precision for Fold 5 with l2, balanced is 0.8913677456984543\n",
      "The F-measure for Fold 5 with l2, balanced is 0.7438096976333881\n",
      "The precision for Fold 1 with l2, None is 0.8369765604424546\n",
      "The F-measure for Fold 1 with l2, None is 0.9092556387392112\n",
      "The precision for Fold 2 with l2, None is 0.8361646234676007\n",
      "The F-measure for Fold 2 with l2, None is 0.9094285714285715\n",
      "The precision for Fold 3 with l2, None is 0.8362152198718511\n",
      "The F-measure for Fold 3 with l2, None is 0.9085447263017357\n",
      "The precision for Fold 4 with l2, None is 0.8358731826939919\n",
      "The F-measure for Fold 4 with l2, None is 0.9090822498452159\n",
      "The precision for Fold 5 with l2, None is 0.8366380066678365\n",
      "The F-measure for Fold 5 with l2, None is 0.909186251608905\n"
     ]
    }
   ],
   "source": [
    "from sklearn.linear_model import LogisticRegression\n",
    "\n",
    "penalty = [\"l1\", \"l2\"]\n",
    "class_weight = [dict({True:0.835, False:0.165}), \"balanced\", None]\n",
    "\n",
    "# Iterate through model parameters to optimize Logistic Regression Model\n",
    "for i in penalty:\n",
    "    for j in class_weight:\n",
    "            LR_clf = LogisticRegression(penalty = i, C = 1.0, class_weight = j, solver = 'liblinear', random_state = 0)\n",
    "            # Iterate through CV and get predictions\n",
    "            fold = 0\n",
    "            for train, test in cv.split(X1,y1):\n",
    "                fold += 1\n",
    "                LR_clf.fit(X1[train],y1[train])\n",
    "                yhat1[test] = LR_clf.predict(X1[test])\n",
    "                print(\"The precision for Fold \" + str(fold) + \" with \" + str(i) + \", \" + str(j) +\n",
    "                      \" is \" + str(precision_score(y1[test], yhat1[test])))\n",
    "                print(\"The F-measure for Fold \" + str(fold) + \" with \" + str(i) + \", \" + str(j) +\n",
    "                      \" is \" + str(f1_score(y1[test], yhat1[test])))"
   ]
  },
  {
   "cell_type": "markdown",
   "metadata": {},
   "source": [
    "##### Optimized Model"
   ]
  },
  {
   "cell_type": "code",
   "execution_count": 81,
   "metadata": {},
   "outputs": [
    {
     "name": "stdout",
     "output_type": "stream",
     "text": [
      "The precision for Fold 1 is 0.8369765604424546\n",
      "The F-measure for Fold 1 is 0.9092556387392112\n",
      "The precision for Fold 2 is 0.8361646234676007\n",
      "The F-measure for Fold 2 is 0.9094285714285715\n",
      "The precision for Fold 3 is 0.8362152198718511\n",
      "The F-measure for Fold 3 is 0.9085447263017357\n",
      "The precision for Fold 4 is 0.8358731826939919\n",
      "The F-measure for Fold 4 is 0.9090822498452159\n",
      "The precision for Fold 5 is 0.8366380066678365\n",
      "The F-measure for Fold 5 is 0.909186251608905\n"
     ]
    }
   ],
   "source": [
    "LR_clf1 = LogisticRegression(penalty = \"l2\", C = 1.0, class_weight = None, solver = 'liblinear', random_state = 0)\n",
    "\n",
    "# Iterate through CV and get predictions\n",
    "fold = 0\n",
    "for train, test in cv.split(X1,y1):\n",
    "    fold += 1\n",
    "    LR_clf1.fit(X1[train],y1[train])\n",
    "    yhat1[test] = LR_clf1.predict(X1[test])\n",
    "    print(\"The precision for Fold \" + str(fold) + \" is \" + str(precision_score(y1[test], yhat1[test])))\n",
    "    print(\"The F-measure for Fold \" + str(fold) + \" is \" + str(f1_score(y1[test], yhat1[test])))"
   ]
  },
  {
   "cell_type": "markdown",
   "metadata": {},
   "source": [
    "### Logistic Regression: superhost (Task 2)"
   ]
  },
  {
   "cell_type": "markdown",
   "metadata": {},
   "source": [
    "##### Parameter Optimization"
   ]
  },
  {
   "cell_type": "code",
   "execution_count": 132,
   "metadata": {},
   "outputs": [
    {
     "name": "stdout",
     "output_type": "stream",
     "text": [
      "The overall classification accuracy for Fold 1 with l1, {True: 0.425, False: 0.575} is 0.5753653444676409\n",
      "The overall classification accuracy for Fold 2 with l1, {True: 0.425, False: 0.575} is 0.5754697286012526\n",
      "The overall classification accuracy for Fold 3 with l1, {True: 0.425, False: 0.575} is 0.5753653444676409\n",
      "The overall classification accuracy for Fold 4 with l1, {True: 0.425, False: 0.575} is 0.5753210147196993\n",
      "The overall classification accuracy for Fold 5 with l1, {True: 0.425, False: 0.575} is 0.5753810816454374\n",
      "The overall classification accuracy for Fold 1 with l1, balanced is 0.5083507306889353\n",
      "The overall classification accuracy for Fold 2 with l1, balanced is 0.5131524008350731\n",
      "The overall classification accuracy for Fold 3 with l1, balanced is 0.49937369519832986\n",
      "The overall classification accuracy for Fold 4 with l1, balanced is 0.5029752583777012\n",
      "The overall classification accuracy for Fold 5 with l1, balanced is 0.48600960534558363\n",
      "The overall classification accuracy for Fold 1 with l1, None is 0.5751565762004175\n",
      "The overall classification accuracy for Fold 2 with l1, None is 0.5752609603340292\n",
      "The overall classification accuracy for Fold 3 with l1, None is 0.5750521920668058\n",
      "The overall classification accuracy for Fold 4 with l1, None is 0.5752166196889028\n",
      "The overall classification accuracy for Fold 5 with l1, None is 0.5754854875756943\n",
      "The overall classification accuracy for Fold 1 with l2, {True: 0.425, False: 0.575} is 0.5753653444676409\n",
      "The overall classification accuracy for Fold 2 with l2, {True: 0.425, False: 0.575} is 0.5754697286012526\n",
      "The overall classification accuracy for Fold 3 with l2, {True: 0.425, False: 0.575} is 0.5753653444676409\n",
      "The overall classification accuracy for Fold 4 with l2, {True: 0.425, False: 0.575} is 0.5753210147196993\n",
      "The overall classification accuracy for Fold 5 with l2, {True: 0.425, False: 0.575} is 0.5753810816454374\n",
      "The overall classification accuracy for Fold 1 with l2, balanced is 0.5085594989561587\n",
      "The overall classification accuracy for Fold 2 with l2, balanced is 0.5136743215031315\n",
      "The overall classification accuracy for Fold 3 with l2, balanced is 0.5010438413361169\n",
      "The overall classification accuracy for Fold 4 with l2, balanced is 0.5024532832237185\n",
      "The overall classification accuracy for Fold 5 with l2, balanced is 0.48600960534558363\n",
      "The overall classification accuracy for Fold 1 with l2, None is 0.5751565762004175\n",
      "The overall classification accuracy for Fold 2 with l2, None is 0.5752609603340292\n",
      "The overall classification accuracy for Fold 3 with l2, None is 0.5750521920668058\n",
      "The overall classification accuracy for Fold 4 with l2, None is 0.5752166196889028\n",
      "The overall classification accuracy for Fold 5 with l2, None is 0.5754854875756943\n"
     ]
    }
   ],
   "source": [
    "penalty = [\"l1\", \"l2\"]\n",
    "class_weight = [dict({True:0.425, False:0.575}), \"balanced\", None]\n",
    "\n",
    "# Iterate through model parameters to optimize Logistic Regression Model\n",
    "for i in penalty:\n",
    "    for j in class_weight:\n",
    "            LR_clf = LogisticRegression(penalty = i, C = 1.0, class_weight = j, solver = 'liblinear', random_state = 0)\n",
    "            # Iterate through CV and get predictions\n",
    "            fold = 0\n",
    "            for train, test in cv.split(X2,y2):\n",
    "                fold += 1\n",
    "                LR_clf.fit(X2[train],y2[train])\n",
    "                yhat2[test] = LR_clf.predict(X2[test])\n",
    "                print(\"The overall classification accuracy for Fold \" + str(fold) + \" with \" + str(i) + \", \" + str(j) +\n",
    "                      \" is \" + str(accuracy_score(y2[test], yhat2[test])))\n",
    "                # Warning: Precision is ill-defined and being set to 0.0 due to no predicted samples\n",
    "                #print(\"The precision for Fold \" + str(fold) + \" with \" + str(i) + \", \" + str(j) +\n",
    "                #      \" is \" + str(precision_score(y2[test], yhat2[test])))"
   ]
  },
  {
   "cell_type": "markdown",
   "metadata": {},
   "source": [
    "##### Optimized Model"
   ]
  },
  {
   "cell_type": "code",
   "execution_count": 82,
   "metadata": {},
   "outputs": [
    {
     "name": "stdout",
     "output_type": "stream",
     "text": [
      "The overall classification accuracy for Fold 1 is 0.5751565762004175\n",
      "The precision for Fold 1 is 0.45454545454545453\n",
      "The overall classification accuracy for Fold 2 is 0.5752609603340292\n",
      "The precision for Fold 2 is 0.48\n",
      "The overall classification accuracy for Fold 3 is 0.5750521920668058\n",
      "The precision for Fold 3 is 0.42857142857142855\n",
      "The overall classification accuracy for Fold 4 is 0.5752166196889028\n",
      "The precision for Fold 4 is 0.4782608695652174\n",
      "The overall classification accuracy for Fold 5 is 0.5754854875756943\n",
      "The precision for Fold 5 is 0.5185185185185185\n"
     ]
    }
   ],
   "source": [
    "LR_clf2 = LogisticRegression(penalty = \"l2\", C = 1.0, class_weight = None, solver = 'liblinear', random_state = 0)\n",
    "\n",
    "# Iterate through CV and get predictions\n",
    "fold = 0\n",
    "for train, test in cv.split(X2,y2):\n",
    "    fold += 1\n",
    "    LR_clf2.fit(X2[train],y2[train])\n",
    "    yhat2[test] = LR_clf2.predict(X2[test])\n",
    "    print(\"The overall classification accuracy for Fold \" + str(fold) + \" is \" + str(accuracy_score(y2[test], yhat2[test])))\n",
    "    print(\"The precision for Fold \" + str(fold) + \" is \" + str(precision_score(y2[test], yhat2[test])))"
   ]
  },
  {
   "cell_type": "markdown",
   "metadata": {},
   "source": [
    "### Random Forest: grade_grouped (Task 1)"
   ]
  },
  {
   "cell_type": "markdown",
   "metadata": {},
   "source": [
    "##### Parameter Optimization"
   ]
  },
  {
   "cell_type": "code",
   "execution_count": 134,
   "metadata": {},
   "outputs": [
    {
     "name": "stdout",
     "output_type": "stream",
     "text": [
      "The precision for Fold 1 with 10, None, gini is 0.8493610670646395\n",
      "The F-measure for Fold 1 with 10, None, gini is 0.8970986650903896\n",
      "The precision for Fold 2 with 10, None, gini is 0.8492513717102204\n",
      "The F-measure for Fold 2 with 10, None, gini is 0.8982442335120248\n",
      "The precision for Fold 3 with 10, None, gini is 0.8478119483415405\n",
      "The F-measure for Fold 3 with 10, None, gini is 0.8971585881427588\n",
      "The precision for Fold 4 with 10, None, gini is 0.8501392757660167\n",
      "The F-measure for Fold 4 with 10, None, gini is 0.8998968008255933\n",
      "The precision for Fold 5 with 10, None, gini is 0.8495095749649696\n",
      "The F-measure for Fold 5 with 10, None, gini is 0.8966673239992111\n",
      "The precision for Fold 1 with 10, None, entropy is 0.8500510346107452\n",
      "The F-measure for Fold 1 with 10, None, entropy is 0.900034386206219\n",
      "The precision for Fold 2 with 10, None, entropy is 0.8486281053021876\n",
      "The F-measure for Fold 2 with 10, None, entropy is 0.8989591516103692\n",
      "The precision for Fold 3 with 10, None, entropy is 0.8472595752573495\n",
      "The F-measure for Fold 3 with 10, None, entropy is 0.8973578233965229\n",
      "The precision for Fold 4 with 10, None, entropy is 0.8481036077705828\n",
      "The F-measure for Fold 4 with 10, None, entropy is 0.8993084506351465\n",
      "The precision for Fold 5 with 10, None, entropy is 0.8513350079077123\n",
      "The F-measure for Fold 5 with 10, None, entropy is 0.9003345139708776\n",
      "The precision for Fold 1 with 10, 1, gini is 0.8345674710340621\n",
      "The F-measure for Fold 1 with 10, 1, gini is 0.9098247780046536\n",
      "The precision for Fold 2 with 10, 1, gini is 0.8345674710340621\n",
      "The F-measure for Fold 2 with 10, 1, gini is 0.9098247780046536\n",
      "The precision for Fold 3 with 10, 1, gini is 0.8346257732857019\n",
      "The F-measure for Fold 3 with 10, 1, gini is 0.9098594224924013\n",
      "The precision for Fold 4 with 10, 1, gini is 0.8346257732857019\n",
      "The F-measure for Fold 4 with 10, 1, gini is 0.9098594224924013\n",
      "The precision for Fold 5 with 10, 1, gini is 0.8346257732857019\n",
      "The F-measure for Fold 5 with 10, 1, gini is 0.9098594224924013\n",
      "The precision for Fold 1 with 10, 1, entropy is 0.8345674710340621\n",
      "The F-measure for Fold 1 with 10, 1, entropy is 0.9098247780046536\n",
      "The precision for Fold 2 with 10, 1, entropy is 0.8345674710340621\n",
      "The F-measure for Fold 2 with 10, 1, entropy is 0.9098247780046536\n",
      "The precision for Fold 3 with 10, 1, entropy is 0.8346257732857019\n",
      "The F-measure for Fold 3 with 10, 1, entropy is 0.9098594224924013\n",
      "The precision for Fold 4 with 10, 1, entropy is 0.8346257732857019\n",
      "The F-measure for Fold 4 with 10, 1, entropy is 0.9098594224924013\n",
      "The precision for Fold 5 with 10, 1, entropy is 0.8346257732857019\n",
      "The F-measure for Fold 5 with 10, 1, entropy is 0.9098594224924013\n",
      "The precision for Fold 1 with 10, 2, gini is 0.8345674710340621\n",
      "The F-measure for Fold 1 with 10, 2, gini is 0.9098247780046536\n",
      "The precision for Fold 2 with 10, 2, gini is 0.8345674710340621\n",
      "The F-measure for Fold 2 with 10, 2, gini is 0.9098247780046536\n",
      "The precision for Fold 3 with 10, 2, gini is 0.8346257732857019\n",
      "The F-measure for Fold 3 with 10, 2, gini is 0.9098594224924013\n",
      "The precision for Fold 4 with 10, 2, gini is 0.8346257732857019\n",
      "The F-measure for Fold 4 with 10, 2, gini is 0.9098594224924013\n",
      "The precision for Fold 5 with 10, 2, gini is 0.8346257732857019\n",
      "The F-measure for Fold 5 with 10, 2, gini is 0.9098594224924013\n",
      "The precision for Fold 1 with 10, 2, entropy is 0.8345674710340621\n",
      "The F-measure for Fold 1 with 10, 2, entropy is 0.9098247780046536\n",
      "The precision for Fold 2 with 10, 2, entropy is 0.8345674710340621\n",
      "The F-measure for Fold 2 with 10, 2, entropy is 0.9098247780046536\n",
      "The precision for Fold 3 with 10, 2, entropy is 0.8346257732857019\n",
      "The F-measure for Fold 3 with 10, 2, entropy is 0.9098594224924013\n",
      "The precision for Fold 4 with 10, 2, entropy is 0.8346257732857019\n",
      "The F-measure for Fold 4 with 10, 2, entropy is 0.9098594224924013\n",
      "The precision for Fold 5 with 10, 2, entropy is 0.8346257732857019\n",
      "The F-measure for Fold 5 with 10, 2, entropy is 0.9098594224924013\n",
      "The precision for Fold 1 with 10, 3, gini is 0.8345674710340621\n",
      "The F-measure for Fold 1 with 10, 3, gini is 0.9098247780046536\n",
      "The precision for Fold 2 with 10, 3, gini is 0.8345674710340621\n",
      "The F-measure for Fold 2 with 10, 3, gini is 0.9098247780046536\n",
      "The precision for Fold 3 with 10, 3, gini is 0.8346257732857019\n",
      "The F-measure for Fold 3 with 10, 3, gini is 0.9098594224924013\n",
      "The precision for Fold 4 with 10, 3, gini is 0.8346257732857019\n",
      "The F-measure for Fold 4 with 10, 3, gini is 0.9098594224924013\n",
      "The precision for Fold 5 with 10, 3, gini is 0.8346257732857019\n",
      "The F-measure for Fold 5 with 10, 3, gini is 0.9098594224924013\n",
      "The precision for Fold 1 with 10, 3, entropy is 0.8345674710340621\n",
      "The F-measure for Fold 1 with 10, 3, entropy is 0.9098247780046536\n",
      "The precision for Fold 2 with 10, 3, entropy is 0.8345674710340621\n",
      "The F-measure for Fold 2 with 10, 3, entropy is 0.9098247780046536\n",
      "The precision for Fold 3 with 10, 3, entropy is 0.8346257732857019\n",
      "The F-measure for Fold 3 with 10, 3, entropy is 0.9098594224924013\n",
      "The precision for Fold 4 with 10, 3, entropy is 0.8346257732857019\n",
      "The F-measure for Fold 4 with 10, 3, entropy is 0.9098594224924013\n",
      "The precision for Fold 5 with 10, 3, entropy is 0.8346257732857019\n",
      "The F-measure for Fold 5 with 10, 3, entropy is 0.9098594224924013\n",
      "The precision for Fold 1 with 10, 4, gini is 0.8345674710340621\n",
      "The F-measure for Fold 1 with 10, 4, gini is 0.9098247780046536\n",
      "The precision for Fold 2 with 10, 4, gini is 0.8345674710340621\n",
      "The F-measure for Fold 2 with 10, 4, gini is 0.9098247780046536\n",
      "The precision for Fold 3 with 10, 4, gini is 0.8346257732857019\n",
      "The F-measure for Fold 3 with 10, 4, gini is 0.9098594224924013\n",
      "The precision for Fold 4 with 10, 4, gini is 0.8346257732857019\n",
      "The F-measure for Fold 4 with 10, 4, gini is 0.9098594224924013\n",
      "The precision for Fold 5 with 10, 4, gini is 0.8346257732857019\n",
      "The F-measure for Fold 5 with 10, 4, gini is 0.9098594224924013\n",
      "The precision for Fold 1 with 10, 4, entropy is 0.8345674710340621\n",
      "The F-measure for Fold 1 with 10, 4, entropy is 0.9098247780046536\n",
      "The precision for Fold 2 with 10, 4, entropy is 0.8345674710340621\n",
      "The F-measure for Fold 2 with 10, 4, entropy is 0.9098247780046536\n",
      "The precision for Fold 3 with 10, 4, entropy is 0.8346257732857019\n",
      "The F-measure for Fold 3 with 10, 4, entropy is 0.9098594224924013\n",
      "The precision for Fold 4 with 10, 4, entropy is 0.8346257732857019\n",
      "The F-measure for Fold 4 with 10, 4, entropy is 0.9098594224924013\n",
      "The precision for Fold 5 with 10, 4, entropy is 0.8346257732857019\n",
      "The F-measure for Fold 5 with 10, 4, entropy is 0.9098594224924013\n",
      "The precision for Fold 1 with 10, 5, gini is 0.8347136256647197\n",
      "The F-measure for Fold 1 with 10, 5, gini is 0.9096955014013587\n",
      "The precision for Fold 2 with 10, 5, gini is 0.8348439951194003\n",
      "The F-measure for Fold 2 with 10, 5, gini is 0.9099458535195213\n",
      "The precision for Fold 3 with 10, 5, gini is 0.8349167610912578\n",
      "The F-measure for Fold 3 with 10, 5, gini is 0.9100323009690291\n",
      "The precision for Fold 4 with 10, 5, gini is 0.8349023709902371\n",
      "The F-measure for Fold 4 with 10, 5, gini is 0.9099805234905706\n",
      "The precision for Fold 5 with 10, 5, gini is 0.8348439951194003\n",
      "The F-measure for Fold 5 with 10, 5, gini is 0.9099890751911841\n",
      "The precision for Fold 1 with 10, 5, entropy is 0.8347424387692844\n",
      "The F-measure for Fold 1 with 10, 5, entropy is 0.909799078516126\n",
      "The precision for Fold 2 with 10, 5, entropy is 0.8348439951194003\n",
      "The F-measure for Fold 2 with 10, 5, entropy is 0.9099458535195213\n",
      "The precision for Fold 3 with 10, 5, entropy is 0.8348439951194003\n",
      "The F-measure for Fold 3 with 10, 5, entropy is 0.9099890751911841\n",
      "The precision for Fold 4 with 10, 5, entropy is 0.8349167610912578\n",
      "The F-measure for Fold 4 with 10, 5, entropy is 0.9100323009690291\n",
      "The precision for Fold 5 with 10, 5, entropy is 0.8347712418300653\n",
      "The F-measure for Fold 5 with 10, 5, entropy is 0.9099458535195213\n",
      "The precision for Fold 1 with 50, None, gini is 0.8448768297036773\n",
      "The F-measure for Fold 1 with 50, None, gini is 0.9108929946112395\n",
      "The precision for Fold 2 with 50, None, gini is 0.8433885032924008\n",
      "The F-measure for Fold 2 with 50, None, gini is 0.9105581708137189\n",
      "The precision for Fold 3 with 50, None, gini is 0.8433048433048433\n",
      "The F-measure for Fold 3 with 50, None, gini is 0.910287828552208\n"
     ]
    },
    {
     "name": "stdout",
     "output_type": "stream",
     "text": [
      "The precision for Fold 4 with 50, None, gini is 0.8435386258454967\n",
      "The F-measure for Fold 4 with 50, None, gini is 0.9106894066778766\n",
      "The precision for Fold 5 with 50, None, gini is 0.8457413531146661\n",
      "The F-measure for Fold 5 with 50, None, gini is 0.9113058551617872\n",
      "The precision for Fold 1 with 50, None, entropy is 0.8441315390785135\n",
      "The F-measure for Fold 1 with 50, None, entropy is 0.9107254458920244\n",
      "The precision for Fold 2 with 50, None, entropy is 0.842858412585548\n",
      "The F-measure for Fold 2 with 50, None, entropy is 0.9104699726369353\n",
      "The precision for Fold 3 with 50, None, entropy is 0.8426427493117841\n",
      "The F-measure for Fold 3 with 50, None, entropy is 0.9106525911708254\n",
      "The precision for Fold 4 with 50, None, entropy is 0.8429054054054054\n",
      "The F-measure for Fold 4 with 50, None, entropy is 0.9104527776444039\n",
      "The precision for Fold 5 with 50, None, entropy is 0.8459887308827475\n",
      "The F-measure for Fold 5 with 50, None, entropy is 0.9112716763005779\n",
      "The precision for Fold 1 with 50, 1, gini is 0.8345674710340621\n",
      "The F-measure for Fold 1 with 50, 1, gini is 0.9098247780046536\n",
      "The precision for Fold 2 with 50, 1, gini is 0.8345674710340621\n",
      "The F-measure for Fold 2 with 50, 1, gini is 0.9098247780046536\n",
      "The precision for Fold 3 with 50, 1, gini is 0.8346257732857019\n",
      "The F-measure for Fold 3 with 50, 1, gini is 0.9098594224924013\n",
      "The precision for Fold 4 with 50, 1, gini is 0.8346257732857019\n",
      "The F-measure for Fold 4 with 50, 1, gini is 0.9098594224924013\n",
      "The precision for Fold 5 with 50, 1, gini is 0.8346257732857019\n",
      "The F-measure for Fold 5 with 50, 1, gini is 0.9098594224924013\n",
      "The precision for Fold 1 with 50, 1, entropy is 0.8345674710340621\n",
      "The F-measure for Fold 1 with 50, 1, entropy is 0.9098247780046536\n",
      "The precision for Fold 2 with 50, 1, entropy is 0.8345674710340621\n",
      "The F-measure for Fold 2 with 50, 1, entropy is 0.9098247780046536\n",
      "The precision for Fold 3 with 50, 1, entropy is 0.8346257732857019\n",
      "The F-measure for Fold 3 with 50, 1, entropy is 0.9098594224924013\n",
      "The precision for Fold 4 with 50, 1, entropy is 0.8346257732857019\n",
      "The F-measure for Fold 4 with 50, 1, entropy is 0.9098594224924013\n",
      "The precision for Fold 5 with 50, 1, entropy is 0.8346257732857019\n",
      "The F-measure for Fold 5 with 50, 1, entropy is 0.9098594224924013\n",
      "The precision for Fold 1 with 50, 2, gini is 0.8345674710340621\n",
      "The F-measure for Fold 1 with 50, 2, gini is 0.9098247780046536\n",
      "The precision for Fold 2 with 50, 2, gini is 0.8345674710340621\n",
      "The F-measure for Fold 2 with 50, 2, gini is 0.9098247780046536\n",
      "The precision for Fold 3 with 50, 2, gini is 0.8346257732857019\n",
      "The F-measure for Fold 3 with 50, 2, gini is 0.9098594224924013\n",
      "The precision for Fold 4 with 50, 2, gini is 0.8346257732857019\n",
      "The F-measure for Fold 4 with 50, 2, gini is 0.9098594224924013\n",
      "The precision for Fold 5 with 50, 2, gini is 0.8346257732857019\n",
      "The F-measure for Fold 5 with 50, 2, gini is 0.9098594224924013\n",
      "The precision for Fold 1 with 50, 2, entropy is 0.8345674710340621\n",
      "The F-measure for Fold 1 with 50, 2, entropy is 0.9098247780046536\n",
      "The precision for Fold 2 with 50, 2, entropy is 0.8345674710340621\n",
      "The F-measure for Fold 2 with 50, 2, entropy is 0.9098247780046536\n",
      "The precision for Fold 3 with 50, 2, entropy is 0.8346257732857019\n",
      "The F-measure for Fold 3 with 50, 2, entropy is 0.9098594224924013\n",
      "The precision for Fold 4 with 50, 2, entropy is 0.8346257732857019\n",
      "The F-measure for Fold 4 with 50, 2, entropy is 0.9098594224924013\n",
      "The precision for Fold 5 with 50, 2, entropy is 0.8346257732857019\n",
      "The F-measure for Fold 5 with 50, 2, entropy is 0.9098594224924013\n",
      "The precision for Fold 1 with 50, 3, gini is 0.8345674710340621\n",
      "The F-measure for Fold 1 with 50, 3, gini is 0.9098247780046536\n",
      "The precision for Fold 2 with 50, 3, gini is 0.8345674710340621\n",
      "The F-measure for Fold 2 with 50, 3, gini is 0.9098247780046536\n",
      "The precision for Fold 3 with 50, 3, gini is 0.8346257732857019\n",
      "The F-measure for Fold 3 with 50, 3, gini is 0.9098594224924013\n",
      "The precision for Fold 4 with 50, 3, gini is 0.8346257732857019\n",
      "The F-measure for Fold 4 with 50, 3, gini is 0.9098594224924013\n",
      "The precision for Fold 5 with 50, 3, gini is 0.8346257732857019\n",
      "The F-measure for Fold 5 with 50, 3, gini is 0.9098594224924013\n",
      "The precision for Fold 1 with 50, 3, entropy is 0.8345674710340621\n",
      "The F-measure for Fold 1 with 50, 3, entropy is 0.9098247780046536\n",
      "The precision for Fold 2 with 50, 3, entropy is 0.8345674710340621\n",
      "The F-measure for Fold 2 with 50, 3, entropy is 0.9098247780046536\n",
      "The precision for Fold 3 with 50, 3, entropy is 0.8346257732857019\n",
      "The F-measure for Fold 3 with 50, 3, entropy is 0.9098594224924013\n",
      "The precision for Fold 4 with 50, 3, entropy is 0.8346257732857019\n",
      "The F-measure for Fold 4 with 50, 3, entropy is 0.9098594224924013\n",
      "The precision for Fold 5 with 50, 3, entropy is 0.8346257732857019\n",
      "The F-measure for Fold 5 with 50, 3, entropy is 0.9098594224924013\n",
      "The precision for Fold 1 with 50, 4, gini is 0.8345674710340621\n",
      "The F-measure for Fold 1 with 50, 4, gini is 0.9098247780046536\n",
      "The precision for Fold 2 with 50, 4, gini is 0.8345674710340621\n",
      "The F-measure for Fold 2 with 50, 4, gini is 0.9098247780046536\n",
      "The precision for Fold 3 with 50, 4, gini is 0.8346257732857019\n",
      "The F-measure for Fold 3 with 50, 4, gini is 0.9098594224924013\n",
      "The precision for Fold 4 with 50, 4, gini is 0.8346257732857019\n",
      "The F-measure for Fold 4 with 50, 4, gini is 0.9098594224924013\n",
      "The precision for Fold 5 with 50, 4, gini is 0.8346257732857019\n",
      "The F-measure for Fold 5 with 50, 4, gini is 0.9098594224924013\n",
      "The precision for Fold 1 with 50, 4, entropy is 0.8345674710340621\n",
      "The F-measure for Fold 1 with 50, 4, entropy is 0.9098247780046536\n",
      "The precision for Fold 2 with 50, 4, entropy is 0.8345674710340621\n",
      "The F-measure for Fold 2 with 50, 4, entropy is 0.9098247780046536\n",
      "The precision for Fold 3 with 50, 4, entropy is 0.8346257732857019\n",
      "The F-measure for Fold 3 with 50, 4, entropy is 0.9098594224924013\n",
      "The precision for Fold 4 with 50, 4, entropy is 0.8346257732857019\n",
      "The F-measure for Fold 4 with 50, 4, entropy is 0.9098594224924013\n",
      "The precision for Fold 5 with 50, 4, entropy is 0.8346257732857019\n",
      "The F-measure for Fold 5 with 50, 4, entropy is 0.9098594224924013\n",
      "The precision for Fold 1 with 50, 5, gini is 0.8347129040690076\n",
      "The F-measure for Fold 1 with 50, 5, gini is 0.9099111934273638\n",
      "The precision for Fold 2 with 50, 5, gini is 0.8347712418300653\n",
      "The F-measure for Fold 2 with 50, 5, gini is 0.9099026359534552\n",
      "The precision for Fold 3 with 50, 5, gini is 0.8347712418300653\n",
      "The F-measure for Fold 3 with 50, 5, gini is 0.9099458535195213\n",
      "The precision for Fold 4 with 50, 5, gini is 0.8349167610912578\n",
      "The F-measure for Fold 4 with 50, 5, gini is 0.9100323009690291\n",
      "The precision for Fold 5 with 50, 5, gini is 0.8348439951194003\n",
      "The F-measure for Fold 5 with 50, 5, gini is 0.9099890751911841\n",
      "The precision for Fold 1 with 50, 5, entropy is 0.8347129040690076\n",
      "The F-measure for Fold 1 with 50, 5, entropy is 0.9099111934273638\n",
      "The precision for Fold 2 with 50, 5, entropy is 0.8347712418300653\n",
      "The F-measure for Fold 2 with 50, 5, entropy is 0.9099026359534552\n",
      "The precision for Fold 3 with 50, 5, entropy is 0.8347712418300653\n",
      "The F-measure for Fold 3 with 50, 5, entropy is 0.9099458535195213\n",
      "The precision for Fold 4 with 50, 5, entropy is 0.8348439951194003\n",
      "The F-measure for Fold 4 with 50, 5, entropy is 0.9099890751911841\n",
      "The precision for Fold 5 with 50, 5, entropy is 0.8347712418300653\n",
      "The F-measure for Fold 5 with 50, 5, entropy is 0.9099458535195213\n",
      "The precision for Fold 1 with 100, None, gini is 0.8443337484433375\n",
      "The F-measure for Fold 1 with 100, None, gini is 0.9117279800211316\n",
      "The precision for Fold 2 with 100, None, gini is 0.8424833702882484\n",
      "The F-measure for Fold 2 with 100, None, gini is 0.910956605130664\n",
      "The precision for Fold 3 with 100, None, gini is 0.8417176825481324\n",
      "The F-measure for Fold 3 with 100, None, gini is 0.9100239808153477\n",
      "The precision for Fold 4 with 100, None, gini is 0.8430640718030747\n",
      "The F-measure for Fold 4 with 100, None, gini is 0.910810291858679\n",
      "The precision for Fold 5 with 100, None, gini is 0.8448844884488449\n",
      "The F-measure for Fold 5 with 100, None, gini is 0.9112073112073111\n"
     ]
    },
    {
     "name": "stdout",
     "output_type": "stream",
     "text": [
      "The precision for Fold 1 with 100, None, entropy is 0.8442528224731087\n",
      "The F-measure for Fold 1 with 100, None, entropy is 0.9119016755485141\n",
      "The precision for Fold 2 with 100, None, entropy is 0.8419606452756604\n",
      "The F-measure for Fold 2 with 100, None, entropy is 0.9106509443006423\n",
      "The precision for Fold 3 with 100, None, entropy is 0.8412951167728238\n",
      "The F-measure for Fold 3 with 100, None, entropy is 0.9107886797873868\n",
      "The precision for Fold 4 with 100, None, entropy is 0.841778329931671\n",
      "The F-measure for Fold 4 with 100, None, entropy is 0.9100153491941674\n",
      "The precision for Fold 5 with 100, None, entropy is 0.844735435595938\n",
      "The F-measure for Fold 5 with 100, None, entropy is 0.9116077865897622\n",
      "The precision for Fold 1 with 100, 1, gini is 0.8345674710340621\n",
      "The F-measure for Fold 1 with 100, 1, gini is 0.9098247780046536\n",
      "The precision for Fold 2 with 100, 1, gini is 0.8345674710340621\n",
      "The F-measure for Fold 2 with 100, 1, gini is 0.9098247780046536\n",
      "The precision for Fold 3 with 100, 1, gini is 0.8346257732857019\n",
      "The F-measure for Fold 3 with 100, 1, gini is 0.9098594224924013\n",
      "The precision for Fold 4 with 100, 1, gini is 0.8346257732857019\n",
      "The F-measure for Fold 4 with 100, 1, gini is 0.9098594224924013\n",
      "The precision for Fold 5 with 100, 1, gini is 0.8346257732857019\n",
      "The F-measure for Fold 5 with 100, 1, gini is 0.9098594224924013\n",
      "The precision for Fold 1 with 100, 1, entropy is 0.8345674710340621\n",
      "The F-measure for Fold 1 with 100, 1, entropy is 0.9098247780046536\n",
      "The precision for Fold 2 with 100, 1, entropy is 0.8345674710340621\n",
      "The F-measure for Fold 2 with 100, 1, entropy is 0.9098247780046536\n",
      "The precision for Fold 3 with 100, 1, entropy is 0.8346257732857019\n",
      "The F-measure for Fold 3 with 100, 1, entropy is 0.9098594224924013\n",
      "The precision for Fold 4 with 100, 1, entropy is 0.8346257732857019\n",
      "The F-measure for Fold 4 with 100, 1, entropy is 0.9098594224924013\n",
      "The precision for Fold 5 with 100, 1, entropy is 0.8346257732857019\n",
      "The F-measure for Fold 5 with 100, 1, entropy is 0.9098594224924013\n",
      "The precision for Fold 1 with 100, 2, gini is 0.8345674710340621\n",
      "The F-measure for Fold 1 with 100, 2, gini is 0.9098247780046536\n",
      "The precision for Fold 2 with 100, 2, gini is 0.8345674710340621\n",
      "The F-measure for Fold 2 with 100, 2, gini is 0.9098247780046536\n",
      "The precision for Fold 3 with 100, 2, gini is 0.8346257732857019\n",
      "The F-measure for Fold 3 with 100, 2, gini is 0.9098594224924013\n",
      "The precision for Fold 4 with 100, 2, gini is 0.8346257732857019\n",
      "The F-measure for Fold 4 with 100, 2, gini is 0.9098594224924013\n",
      "The precision for Fold 5 with 100, 2, gini is 0.8346257732857019\n",
      "The F-measure for Fold 5 with 100, 2, gini is 0.9098594224924013\n",
      "The precision for Fold 1 with 100, 2, entropy is 0.8345674710340621\n",
      "The F-measure for Fold 1 with 100, 2, entropy is 0.9098247780046536\n",
      "The precision for Fold 2 with 100, 2, entropy is 0.8345674710340621\n",
      "The F-measure for Fold 2 with 100, 2, entropy is 0.9098247780046536\n",
      "The precision for Fold 3 with 100, 2, entropy is 0.8346257732857019\n",
      "The F-measure for Fold 3 with 100, 2, entropy is 0.9098594224924013\n",
      "The precision for Fold 4 with 100, 2, entropy is 0.8346257732857019\n",
      "The F-measure for Fold 4 with 100, 2, entropy is 0.9098594224924013\n",
      "The precision for Fold 5 with 100, 2, entropy is 0.8346257732857019\n",
      "The F-measure for Fold 5 with 100, 2, entropy is 0.9098594224924013\n",
      "The precision for Fold 1 with 100, 3, gini is 0.8345674710340621\n",
      "The F-measure for Fold 1 with 100, 3, gini is 0.9098247780046536\n",
      "The precision for Fold 2 with 100, 3, gini is 0.8345674710340621\n",
      "The F-measure for Fold 2 with 100, 3, gini is 0.9098247780046536\n",
      "The precision for Fold 3 with 100, 3, gini is 0.8346257732857019\n",
      "The F-measure for Fold 3 with 100, 3, gini is 0.9098594224924013\n",
      "The precision for Fold 4 with 100, 3, gini is 0.8346257732857019\n",
      "The F-measure for Fold 4 with 100, 3, gini is 0.9098594224924013\n",
      "The precision for Fold 5 with 100, 3, gini is 0.8346257732857019\n",
      "The F-measure for Fold 5 with 100, 3, gini is 0.9098594224924013\n",
      "The precision for Fold 1 with 100, 3, entropy is 0.8345674710340621\n",
      "The F-measure for Fold 1 with 100, 3, entropy is 0.9098247780046536\n",
      "The precision for Fold 2 with 100, 3, entropy is 0.8345674710340621\n",
      "The F-measure for Fold 2 with 100, 3, entropy is 0.9098247780046536\n",
      "The precision for Fold 3 with 100, 3, entropy is 0.8346257732857019\n",
      "The F-measure for Fold 3 with 100, 3, entropy is 0.9098594224924013\n",
      "The precision for Fold 4 with 100, 3, entropy is 0.8346257732857019\n",
      "The F-measure for Fold 4 with 100, 3, entropy is 0.9098594224924013\n",
      "The precision for Fold 5 with 100, 3, entropy is 0.8346257732857019\n",
      "The F-measure for Fold 5 with 100, 3, entropy is 0.9098594224924013\n",
      "The precision for Fold 1 with 100, 4, gini is 0.8345674710340621\n",
      "The F-measure for Fold 1 with 100, 4, gini is 0.9098247780046536\n",
      "The precision for Fold 2 with 100, 4, gini is 0.8345674710340621\n",
      "The F-measure for Fold 2 with 100, 4, gini is 0.9098247780046536\n",
      "The precision for Fold 3 with 100, 4, gini is 0.8346257732857019\n",
      "The F-measure for Fold 3 with 100, 4, gini is 0.9098594224924013\n",
      "The precision for Fold 4 with 100, 4, gini is 0.8346257732857019\n",
      "The F-measure for Fold 4 with 100, 4, gini is 0.9098594224924013\n",
      "The precision for Fold 5 with 100, 4, gini is 0.8346257732857019\n",
      "The F-measure for Fold 5 with 100, 4, gini is 0.9098594224924013\n",
      "The precision for Fold 1 with 100, 4, entropy is 0.8345674710340621\n",
      "The F-measure for Fold 1 with 100, 4, entropy is 0.9098247780046536\n",
      "The precision for Fold 2 with 100, 4, entropy is 0.8345674710340621\n",
      "The F-measure for Fold 2 with 100, 4, entropy is 0.9098247780046536\n",
      "The precision for Fold 3 with 100, 4, entropy is 0.8346257732857019\n",
      "The F-measure for Fold 3 with 100, 4, entropy is 0.9098594224924013\n",
      "The precision for Fold 4 with 100, 4, entropy is 0.8346257732857019\n",
      "The F-measure for Fold 4 with 100, 4, entropy is 0.9098594224924013\n",
      "The precision for Fold 5 with 100, 4, entropy is 0.8346257732857019\n",
      "The F-measure for Fold 5 with 100, 4, entropy is 0.9098594224924013\n",
      "The precision for Fold 1 with 100, 5, gini is 0.8347129040690076\n",
      "The F-measure for Fold 1 with 100, 5, gini is 0.9099111934273638\n",
      "The precision for Fold 2 with 100, 5, gini is 0.8347712418300653\n",
      "The F-measure for Fold 2 with 100, 5, gini is 0.9099026359534552\n",
      "The precision for Fold 3 with 100, 5, gini is 0.8347712418300653\n",
      "The F-measure for Fold 3 with 100, 5, gini is 0.9099458535195213\n",
      "The precision for Fold 4 with 100, 5, gini is 0.8348439951194003\n",
      "The F-measure for Fold 4 with 100, 5, gini is 0.9099890751911841\n",
      "The precision for Fold 5 with 100, 5, gini is 0.8348439951194003\n",
      "The F-measure for Fold 5 with 100, 5, gini is 0.9099890751911841\n",
      "The precision for Fold 1 with 100, 5, entropy is 0.8347129040690076\n",
      "The F-measure for Fold 1 with 100, 5, entropy is 0.9099111934273638\n",
      "The precision for Fold 2 with 100, 5, entropy is 0.8346985012199373\n",
      "The F-measure for Fold 2 with 100, 5, entropy is 0.9098594224924011\n",
      "The precision for Fold 3 with 100, 5, entropy is 0.8347712418300653\n",
      "The F-measure for Fold 3 with 100, 5, entropy is 0.9099458535195213\n",
      "The precision for Fold 4 with 100, 5, entropy is 0.8348439951194003\n",
      "The F-measure for Fold 4 with 100, 5, entropy is 0.9099890751911841\n",
      "The precision for Fold 5 with 100, 5, entropy is 0.8346985012199373\n",
      "The F-measure for Fold 5 with 100, 5, entropy is 0.9099026359534552\n",
      "The precision for Fold 1 with 150, None, gini is 0.8441916274108968\n",
      "The F-measure for Fold 1 with 150, None, gini is 0.9119101339350008\n",
      "The precision for Fold 2 with 150, None, gini is 0.8418489329673249\n",
      "The F-measure for Fold 2 with 150, None, gini is 0.9109375748574714\n",
      "The precision for Fold 3 with 150, None, gini is 0.8418069087688219\n",
      "The F-measure for Fold 3 with 150, None, gini is 0.9108246681680963\n",
      "The precision for Fold 4 with 150, None, gini is 0.8423667169342677\n",
      "The F-measure for Fold 4 with 150, None, gini is 0.9107999232687511\n",
      "The precision for Fold 5 with 150, None, gini is 0.845030281439259\n",
      "The F-measure for Fold 5 with 150, None, gini is 0.9120007689719806\n",
      "The precision for Fold 1 with 150, None, entropy is 0.8437777383277117\n",
      "The F-measure for Fold 1 with 150, None, entropy is 0.9120214909335125\n",
      "The precision for Fold 2 with 150, None, entropy is 0.8422497785651019\n",
      "The F-measure for Fold 2 with 150, None, entropy is 0.9112601820795401\n"
     ]
    },
    {
     "name": "stdout",
     "output_type": "stream",
     "text": [
      "The precision for Fold 3 with 150, None, entropy is 0.8415745245466608\n",
      "The F-measure for Fold 3 with 150, None, entropy is 0.9111281363723425\n",
      "The precision for Fold 4 with 150, None, entropy is 0.8419277536167569\n",
      "The F-measure for Fold 4 with 150, None, entropy is 0.9101026575841887\n",
      "The precision for Fold 5 with 150, None, entropy is 0.8445729537366548\n",
      "The F-measure for Fold 5 with 150, None, entropy is 0.9119554253326287\n",
      "The precision for Fold 1 with 150, 1, gini is 0.8345674710340621\n",
      "The F-measure for Fold 1 with 150, 1, gini is 0.9098247780046536\n",
      "The precision for Fold 2 with 150, 1, gini is 0.8345674710340621\n",
      "The F-measure for Fold 2 with 150, 1, gini is 0.9098247780046536\n",
      "The precision for Fold 3 with 150, 1, gini is 0.8346257732857019\n",
      "The F-measure for Fold 3 with 150, 1, gini is 0.9098594224924013\n",
      "The precision for Fold 4 with 150, 1, gini is 0.8346257732857019\n",
      "The F-measure for Fold 4 with 150, 1, gini is 0.9098594224924013\n",
      "The precision for Fold 5 with 150, 1, gini is 0.8346257732857019\n",
      "The F-measure for Fold 5 with 150, 1, gini is 0.9098594224924013\n",
      "The precision for Fold 1 with 150, 1, entropy is 0.8345674710340621\n",
      "The F-measure for Fold 1 with 150, 1, entropy is 0.9098247780046536\n",
      "The precision for Fold 2 with 150, 1, entropy is 0.8345674710340621\n",
      "The F-measure for Fold 2 with 150, 1, entropy is 0.9098247780046536\n",
      "The precision for Fold 3 with 150, 1, entropy is 0.8346257732857019\n",
      "The F-measure for Fold 3 with 150, 1, entropy is 0.9098594224924013\n",
      "The precision for Fold 4 with 150, 1, entropy is 0.8346257732857019\n",
      "The F-measure for Fold 4 with 150, 1, entropy is 0.9098594224924013\n",
      "The precision for Fold 5 with 150, 1, entropy is 0.8346257732857019\n",
      "The F-measure for Fold 5 with 150, 1, entropy is 0.9098594224924013\n",
      "The precision for Fold 1 with 150, 2, gini is 0.8345674710340621\n",
      "The F-measure for Fold 1 with 150, 2, gini is 0.9098247780046536\n",
      "The precision for Fold 2 with 150, 2, gini is 0.8345674710340621\n",
      "The F-measure for Fold 2 with 150, 2, gini is 0.9098247780046536\n",
      "The precision for Fold 3 with 150, 2, gini is 0.8346257732857019\n",
      "The F-measure for Fold 3 with 150, 2, gini is 0.9098594224924013\n",
      "The precision for Fold 4 with 150, 2, gini is 0.8346257732857019\n",
      "The F-measure for Fold 4 with 150, 2, gini is 0.9098594224924013\n",
      "The precision for Fold 5 with 150, 2, gini is 0.8346257732857019\n",
      "The F-measure for Fold 5 with 150, 2, gini is 0.9098594224924013\n",
      "The precision for Fold 1 with 150, 2, entropy is 0.8345674710340621\n",
      "The F-measure for Fold 1 with 150, 2, entropy is 0.9098247780046536\n",
      "The precision for Fold 2 with 150, 2, entropy is 0.8345674710340621\n",
      "The F-measure for Fold 2 with 150, 2, entropy is 0.9098247780046536\n",
      "The precision for Fold 3 with 150, 2, entropy is 0.8346257732857019\n",
      "The F-measure for Fold 3 with 150, 2, entropy is 0.9098594224924013\n",
      "The precision for Fold 4 with 150, 2, entropy is 0.8346257732857019\n",
      "The F-measure for Fold 4 with 150, 2, entropy is 0.9098594224924013\n",
      "The precision for Fold 5 with 150, 2, entropy is 0.8346257732857019\n",
      "The F-measure for Fold 5 with 150, 2, entropy is 0.9098594224924013\n",
      "The precision for Fold 1 with 150, 3, gini is 0.8345674710340621\n",
      "The F-measure for Fold 1 with 150, 3, gini is 0.9098247780046536\n",
      "The precision for Fold 2 with 150, 3, gini is 0.8345674710340621\n",
      "The F-measure for Fold 2 with 150, 3, gini is 0.9098247780046536\n",
      "The precision for Fold 3 with 150, 3, gini is 0.8346257732857019\n",
      "The F-measure for Fold 3 with 150, 3, gini is 0.9098594224924013\n",
      "The precision for Fold 4 with 150, 3, gini is 0.8346257732857019\n",
      "The F-measure for Fold 4 with 150, 3, gini is 0.9098594224924013\n",
      "The precision for Fold 5 with 150, 3, gini is 0.8346257732857019\n",
      "The F-measure for Fold 5 with 150, 3, gini is 0.9098594224924013\n",
      "The precision for Fold 1 with 150, 3, entropy is 0.8345674710340621\n",
      "The F-measure for Fold 1 with 150, 3, entropy is 0.9098247780046536\n",
      "The precision for Fold 2 with 150, 3, entropy is 0.8345674710340621\n",
      "The F-measure for Fold 2 with 150, 3, entropy is 0.9098247780046536\n",
      "The precision for Fold 3 with 150, 3, entropy is 0.8346257732857019\n",
      "The F-measure for Fold 3 with 150, 3, entropy is 0.9098594224924013\n",
      "The precision for Fold 4 with 150, 3, entropy is 0.8346257732857019\n",
      "The F-measure for Fold 4 with 150, 3, entropy is 0.9098594224924013\n",
      "The precision for Fold 5 with 150, 3, entropy is 0.8346257732857019\n",
      "The F-measure for Fold 5 with 150, 3, entropy is 0.9098594224924013\n",
      "The precision for Fold 1 with 150, 4, gini is 0.8345674710340621\n",
      "The F-measure for Fold 1 with 150, 4, gini is 0.9098247780046536\n",
      "The precision for Fold 2 with 150, 4, gini is 0.8345674710340621\n",
      "The F-measure for Fold 2 with 150, 4, gini is 0.9098247780046536\n",
      "The precision for Fold 3 with 150, 4, gini is 0.8346257732857019\n",
      "The F-measure for Fold 3 with 150, 4, gini is 0.9098594224924013\n",
      "The precision for Fold 4 with 150, 4, gini is 0.8346257732857019\n",
      "The F-measure for Fold 4 with 150, 4, gini is 0.9098594224924013\n",
      "The precision for Fold 5 with 150, 4, gini is 0.8346257732857019\n",
      "The F-measure for Fold 5 with 150, 4, gini is 0.9098594224924013\n",
      "The precision for Fold 1 with 150, 4, entropy is 0.8345674710340621\n",
      "The F-measure for Fold 1 with 150, 4, entropy is 0.9098247780046536\n",
      "The precision for Fold 2 with 150, 4, entropy is 0.8345674710340621\n",
      "The F-measure for Fold 2 with 150, 4, entropy is 0.9098247780046536\n",
      "The precision for Fold 3 with 150, 4, entropy is 0.8346257732857019\n",
      "The F-measure for Fold 3 with 150, 4, entropy is 0.9098594224924013\n",
      "The precision for Fold 4 with 150, 4, entropy is 0.8346257732857019\n",
      "The F-measure for Fold 4 with 150, 4, entropy is 0.9098594224924013\n",
      "The precision for Fold 5 with 150, 4, entropy is 0.8346257732857019\n",
      "The F-measure for Fold 5 with 150, 4, entropy is 0.9098594224924013\n",
      "The precision for Fold 1 with 150, 5, gini is 0.834785639595678\n",
      "The F-measure for Fold 1 with 150, 5, gini is 0.9099544072948329\n",
      "The precision for Fold 2 with 150, 5, gini is 0.8347712418300653\n",
      "The F-measure for Fold 2 with 150, 5, gini is 0.9099026359534552\n",
      "The precision for Fold 3 with 150, 5, gini is 0.8347712418300653\n",
      "The F-measure for Fold 3 with 150, 5, gini is 0.9099458535195213\n",
      "The precision for Fold 4 with 150, 5, gini is 0.8348439951194003\n",
      "The F-measure for Fold 4 with 150, 5, gini is 0.9099890751911841\n",
      "The precision for Fold 5 with 150, 5, gini is 0.8348439951194003\n",
      "The F-measure for Fold 5 with 150, 5, gini is 0.9099890751911841\n",
      "The precision for Fold 1 with 150, 5, entropy is 0.8347129040690076\n",
      "The F-measure for Fold 1 with 150, 5, entropy is 0.9099111934273638\n",
      "The precision for Fold 2 with 150, 5, entropy is 0.8346985012199373\n",
      "The F-measure for Fold 2 with 150, 5, entropy is 0.9098594224924011\n",
      "The precision for Fold 3 with 150, 5, entropy is 0.8347712418300653\n",
      "The F-measure for Fold 3 with 150, 5, entropy is 0.9099458535195213\n",
      "The precision for Fold 4 with 150, 5, entropy is 0.8348439951194003\n",
      "The F-measure for Fold 4 with 150, 5, entropy is 0.9099890751911841\n",
      "The precision for Fold 5 with 150, 5, entropy is 0.8346257732857019\n",
      "The F-measure for Fold 5 with 150, 5, entropy is 0.9098594224924013\n",
      "The precision for Fold 1 with 200, None, gini is 0.8437638703950289\n",
      "The F-measure for Fold 1 with 200, None, gini is 0.9119692971935716\n",
      "The precision for Fold 2 with 200, None, gini is 0.841979461756374\n",
      "The F-measure for Fold 2 with 200, None, gini is 0.9111898831193715\n",
      "The precision for Fold 3 with 200, None, gini is 0.8414763674986724\n",
      "The F-measure for Fold 3 with 200, None, gini is 0.9107630406667625\n",
      "The precision for Fold 4 with 200, None, gini is 0.8422125698076411\n",
      "The F-measure for Fold 4 with 200, None, gini is 0.9109300095877276\n",
      "The precision for Fold 5 with 200, None, gini is 0.8444899412497775\n",
      "The F-measure for Fold 5 with 200, None, gini is 0.9116417623600634\n",
      "The precision for Fold 1 with 200, None, entropy is 0.8437583178067607\n",
      "The F-measure for Fold 1 with 200, None, entropy is 0.9121864658769362\n",
      "The precision for Fold 2 with 200, None, entropy is 0.8415184496947172\n",
      "The F-measure for Fold 2 with 200, None, entropy is 0.9108759159044106\n",
      "The precision for Fold 3 with 200, None, entropy is 0.84160254709472\n",
      "The F-measure for Fold 3 with 200, None, entropy is 0.9112324044814708\n",
      "The precision for Fold 4 with 200, None, entropy is 0.8421005943404595\n",
      "The F-measure for Fold 4 with 200, None, entropy is 0.9105121810857472\n"
     ]
    },
    {
     "name": "stdout",
     "output_type": "stream",
     "text": [
      "The precision for Fold 5 with 200, None, entropy is 0.8440277284038393\n",
      "The F-measure for Fold 5 with 200, None, entropy is 0.9118141231817963\n",
      "The precision for Fold 1 with 200, 1, gini is 0.8345674710340621\n",
      "The F-measure for Fold 1 with 200, 1, gini is 0.9098247780046536\n",
      "The precision for Fold 2 with 200, 1, gini is 0.8345674710340621\n",
      "The F-measure for Fold 2 with 200, 1, gini is 0.9098247780046536\n",
      "The precision for Fold 3 with 200, 1, gini is 0.8346257732857019\n",
      "The F-measure for Fold 3 with 200, 1, gini is 0.9098594224924013\n",
      "The precision for Fold 4 with 200, 1, gini is 0.8346257732857019\n",
      "The F-measure for Fold 4 with 200, 1, gini is 0.9098594224924013\n",
      "The precision for Fold 5 with 200, 1, gini is 0.8346257732857019\n",
      "The F-measure for Fold 5 with 200, 1, gini is 0.9098594224924013\n",
      "The precision for Fold 1 with 200, 1, entropy is 0.8345674710340621\n",
      "The F-measure for Fold 1 with 200, 1, entropy is 0.9098247780046536\n",
      "The precision for Fold 2 with 200, 1, entropy is 0.8345674710340621\n",
      "The F-measure for Fold 2 with 200, 1, entropy is 0.9098247780046536\n",
      "The precision for Fold 3 with 200, 1, entropy is 0.8346257732857019\n",
      "The F-measure for Fold 3 with 200, 1, entropy is 0.9098594224924013\n",
      "The precision for Fold 4 with 200, 1, entropy is 0.8346257732857019\n",
      "The F-measure for Fold 4 with 200, 1, entropy is 0.9098594224924013\n",
      "The precision for Fold 5 with 200, 1, entropy is 0.8346257732857019\n",
      "The F-measure for Fold 5 with 200, 1, entropy is 0.9098594224924013\n",
      "The precision for Fold 1 with 200, 2, gini is 0.8345674710340621\n",
      "The F-measure for Fold 1 with 200, 2, gini is 0.9098247780046536\n",
      "The precision for Fold 2 with 200, 2, gini is 0.8345674710340621\n",
      "The F-measure for Fold 2 with 200, 2, gini is 0.9098247780046536\n",
      "The precision for Fold 3 with 200, 2, gini is 0.8346257732857019\n",
      "The F-measure for Fold 3 with 200, 2, gini is 0.9098594224924013\n",
      "The precision for Fold 4 with 200, 2, gini is 0.8346257732857019\n",
      "The F-measure for Fold 4 with 200, 2, gini is 0.9098594224924013\n",
      "The precision for Fold 5 with 200, 2, gini is 0.8346257732857019\n",
      "The F-measure for Fold 5 with 200, 2, gini is 0.9098594224924013\n",
      "The precision for Fold 1 with 200, 2, entropy is 0.8345674710340621\n",
      "The F-measure for Fold 1 with 200, 2, entropy is 0.9098247780046536\n",
      "The precision for Fold 2 with 200, 2, entropy is 0.8345674710340621\n",
      "The F-measure for Fold 2 with 200, 2, entropy is 0.9098247780046536\n",
      "The precision for Fold 3 with 200, 2, entropy is 0.8346257732857019\n",
      "The F-measure for Fold 3 with 200, 2, entropy is 0.9098594224924013\n",
      "The precision for Fold 4 with 200, 2, entropy is 0.8346257732857019\n",
      "The F-measure for Fold 4 with 200, 2, entropy is 0.9098594224924013\n",
      "The precision for Fold 5 with 200, 2, entropy is 0.8346257732857019\n",
      "The F-measure for Fold 5 with 200, 2, entropy is 0.9098594224924013\n",
      "The precision for Fold 1 with 200, 3, gini is 0.8345674710340621\n",
      "The F-measure for Fold 1 with 200, 3, gini is 0.9098247780046536\n",
      "The precision for Fold 2 with 200, 3, gini is 0.8345674710340621\n",
      "The F-measure for Fold 2 with 200, 3, gini is 0.9098247780046536\n",
      "The precision for Fold 3 with 200, 3, gini is 0.8346257732857019\n",
      "The F-measure for Fold 3 with 200, 3, gini is 0.9098594224924013\n",
      "The precision for Fold 4 with 200, 3, gini is 0.8346257732857019\n",
      "The F-measure for Fold 4 with 200, 3, gini is 0.9098594224924013\n",
      "The precision for Fold 5 with 200, 3, gini is 0.8346257732857019\n",
      "The F-measure for Fold 5 with 200, 3, gini is 0.9098594224924013\n",
      "The precision for Fold 1 with 200, 3, entropy is 0.8345674710340621\n",
      "The F-measure for Fold 1 with 200, 3, entropy is 0.9098247780046536\n",
      "The precision for Fold 2 with 200, 3, entropy is 0.8345674710340621\n",
      "The F-measure for Fold 2 with 200, 3, entropy is 0.9098247780046536\n",
      "The precision for Fold 3 with 200, 3, entropy is 0.8346257732857019\n",
      "The F-measure for Fold 3 with 200, 3, entropy is 0.9098594224924013\n",
      "The precision for Fold 4 with 200, 3, entropy is 0.8346257732857019\n",
      "The F-measure for Fold 4 with 200, 3, entropy is 0.9098594224924013\n",
      "The precision for Fold 5 with 200, 3, entropy is 0.8346257732857019\n",
      "The F-measure for Fold 5 with 200, 3, entropy is 0.9098594224924013\n",
      "The precision for Fold 1 with 200, 4, gini is 0.8345674710340621\n",
      "The F-measure for Fold 1 with 200, 4, gini is 0.9098247780046536\n",
      "The precision for Fold 2 with 200, 4, gini is 0.8345674710340621\n",
      "The F-measure for Fold 2 with 200, 4, gini is 0.9098247780046536\n",
      "The precision for Fold 3 with 200, 4, gini is 0.8346257732857019\n",
      "The F-measure for Fold 3 with 200, 4, gini is 0.9098594224924013\n",
      "The precision for Fold 4 with 200, 4, gini is 0.8346257732857019\n",
      "The F-measure for Fold 4 with 200, 4, gini is 0.9098594224924013\n",
      "The precision for Fold 5 with 200, 4, gini is 0.8346257732857019\n",
      "The F-measure for Fold 5 with 200, 4, gini is 0.9098594224924013\n",
      "The precision for Fold 1 with 200, 4, entropy is 0.8345674710340621\n",
      "The F-measure for Fold 1 with 200, 4, entropy is 0.9098247780046536\n",
      "The precision for Fold 2 with 200, 4, entropy is 0.8345674710340621\n",
      "The F-measure for Fold 2 with 200, 4, entropy is 0.9098247780046536\n",
      "The precision for Fold 3 with 200, 4, entropy is 0.8346257732857019\n",
      "The F-measure for Fold 3 with 200, 4, entropy is 0.9098594224924013\n",
      "The precision for Fold 4 with 200, 4, entropy is 0.8346257732857019\n",
      "The F-measure for Fold 4 with 200, 4, entropy is 0.9098594224924013\n",
      "The precision for Fold 5 with 200, 4, entropy is 0.8346257732857019\n",
      "The F-measure for Fold 5 with 200, 4, entropy is 0.9098594224924013\n",
      "The precision for Fold 1 with 200, 5, gini is 0.834785639595678\n",
      "The F-measure for Fold 1 with 200, 5, gini is 0.9099544072948329\n",
      "The precision for Fold 2 with 200, 5, gini is 0.8347712418300653\n",
      "The F-measure for Fold 2 with 200, 5, gini is 0.9099026359534552\n",
      "The precision for Fold 3 with 200, 5, gini is 0.8347712418300653\n",
      "The F-measure for Fold 3 with 200, 5, gini is 0.9099458535195213\n",
      "The precision for Fold 4 with 200, 5, gini is 0.8348439951194003\n",
      "The F-measure for Fold 4 with 200, 5, gini is 0.9099890751911841\n",
      "The precision for Fold 5 with 200, 5, gini is 0.8348439951194003\n",
      "The F-measure for Fold 5 with 200, 5, gini is 0.9099890751911841\n",
      "The precision for Fold 1 with 200, 5, entropy is 0.834785639595678\n",
      "The F-measure for Fold 1 with 200, 5, entropy is 0.9099544072948329\n",
      "The precision for Fold 2 with 200, 5, entropy is 0.8346985012199373\n",
      "The F-measure for Fold 2 with 200, 5, entropy is 0.9098594224924011\n",
      "The precision for Fold 3 with 200, 5, entropy is 0.8347712418300653\n",
      "The F-measure for Fold 3 with 200, 5, entropy is 0.9099458535195213\n",
      "The precision for Fold 4 with 200, 5, entropy is 0.8347712418300653\n",
      "The F-measure for Fold 4 with 200, 5, entropy is 0.9099458535195213\n",
      "The precision for Fold 5 with 200, 5, entropy is 0.8346257732857019\n",
      "The F-measure for Fold 5 with 200, 5, entropy is 0.9098594224924013\n"
     ]
    }
   ],
   "source": [
    "from sklearn.ensemble import RandomForestClassifier\n",
    "\n",
    "n_estimators = [10, 50, 100, 150, 200]\n",
    "max_depth = [None, 1, 2, 3, 4, 5]\n",
    "criterion = [\"gini\", \"entropy\"]\n",
    "\n",
    "# Iterate through model parameters to optimize Logistic Regression Model\n",
    "for i in n_estimators:\n",
    "    for j in max_depth:\n",
    "        for k in criterion:\n",
    "            RF_clf = RandomForestClassifier(n_estimators = i, max_depth = j, criterion = k, random_state = 0)\n",
    "            # Iterate through CV and get predictions\n",
    "            fold = 0\n",
    "            for train, test in cv.split(X1,y1):\n",
    "                fold += 1\n",
    "                RF_clf.fit(X1[train],y1[train])\n",
    "                yhat1[test] = RF_clf.predict(X1[test])\n",
    "                print(\"The precision for Fold \" + str(fold) + \" with \" + str(i) + \", \" + str(j) + \", \" + str(k) +\n",
    "                      \" is \" + str(precision_score(y1[test], yhat1[test])))\n",
    "                print(\"The F-measure for Fold \" + str(fold) + \" with \" + str(i) + \", \" + str(j) + \", \" + str(k) +\n",
    "                      \" is \" + str(f1_score(y1[test], yhat1[test])))"
   ]
  },
  {
   "cell_type": "markdown",
   "metadata": {},
   "source": [
    "##### Optimized Model"
   ]
  },
  {
   "cell_type": "code",
   "execution_count": 83,
   "metadata": {},
   "outputs": [
    {
     "name": "stdout",
     "output_type": "stream",
     "text": [
      "The precision for Fold 1 is 0.8345674710340621\n",
      "The F-measure for Fold 1 is 0.9098247780046536\n",
      "The precision for Fold 2 is 0.8345674710340621\n",
      "The F-measure for Fold 2 is 0.9098247780046536\n",
      "The precision for Fold 3 is 0.8346257732857019\n",
      "The F-measure for Fold 3 is 0.9098594224924013\n",
      "The precision for Fold 4 is 0.8346257732857019\n",
      "The F-measure for Fold 4 is 0.9098594224924013\n",
      "The precision for Fold 5 is 0.8346257732857019\n",
      "The F-measure for Fold 5 is 0.9098594224924013\n"
     ]
    }
   ],
   "source": [
    "from sklearn.ensemble import RandomForestClassifier\n",
    "\n",
    "RF_clf1 = RandomForestClassifier(n_estimators = 100, max_depth = 2, random_state = 0)\n",
    "\n",
    "# Iterate through CV and get predictions\n",
    "fold = 0\n",
    "for train, test in cv.split(X1,y1):\n",
    "    fold += 1\n",
    "    RF_clf1.fit(X1[train],y1[train])\n",
    "    yhat1[test] = RF_clf1.predict(X1[test])\n",
    "    print(\"The precision for Fold \" + str(fold) + \" is \" + str(precision_score(y1[test], yhat1[test])))\n",
    "    print(\"The F-measure for Fold \" + str(fold) + \" is \" + str(f1_score(y1[test], yhat1[test])))"
   ]
  },
  {
   "cell_type": "code",
   "execution_count": 84,
   "metadata": {},
   "outputs": [
    {
     "name": "stdout",
     "output_type": "stream",
     "text": [
      "[0.09259126 0.00570926 0.00137632 0.00140535 0.         0.02168021\n",
      " 0.15537798 0.0771999  0.04264933 0.00026981 0.00853225 0.11952547\n",
      " 0.18919537 0.02175126 0.08165027 0.00125189 0.00083886 0.\n",
      " 0.01132231 0.03533879 0.00506512 0.         0.00045196 0.05383559\n",
      " 0.00135749 0.04355591 0.01809568 0.00313986 0.         0.\n",
      " 0.         0.         0.         0.00040729 0.00642521]\n"
     ]
    }
   ],
   "source": [
    "print(RF_clf1.feature_importances_)"
   ]
  },
  {
   "cell_type": "code",
   "execution_count": 85,
   "metadata": {},
   "outputs": [
    {
     "data": {
      "text/plain": [
       "array([ True,  True,  True, ...,  True,  True,  True])"
      ]
     },
     "execution_count": 85,
     "metadata": {},
     "output_type": "execute_result"
    }
   ],
   "source": [
    "RF_clf1.predict(X1[test])"
   ]
  },
  {
   "cell_type": "markdown",
   "metadata": {},
   "source": [
    "### Random Forest: superhost (Task 2)"
   ]
  },
  {
   "cell_type": "markdown",
   "metadata": {},
   "source": [
    "##### Parameter Optimization"
   ]
  },
  {
   "cell_type": "code",
   "execution_count": 139,
   "metadata": {},
   "outputs": [
    {
     "name": "stdout",
     "output_type": "stream",
     "text": [
      "The overall classification accuracy for Fold 1 with 10, None, gini is 0.527035490605428\n",
      "The overall classification accuracy for Fold 2 with 10, None, gini is 0.5397703549060543\n",
      "The overall classification accuracy for Fold 3 with 10, None, gini is 0.5409185803757829\n",
      "The overall classification accuracy for Fold 4 with 10, None, gini is 0.5350245328322372\n",
      "The overall classification accuracy for Fold 5 with 10, None, gini is 0.4247233242848194\n",
      "The overall classification accuracy for Fold 1 with 10, None, entropy is 0.5008350730688935\n",
      "The overall classification accuracy for Fold 2 with 10, None, entropy is 0.5434237995824635\n",
      "The overall classification accuracy for Fold 3 with 10, None, entropy is 0.537160751565762\n",
      "The overall classification accuracy for Fold 4 with 10, None, entropy is 0.5318926819083412\n",
      "The overall classification accuracy for Fold 5 with 10, None, entropy is 0.42493213614533304\n",
      "The overall classification accuracy for Fold 1 with 10, 1, gini is 0.5753653444676409\n",
      "The overall classification accuracy for Fold 2 with 10, 1, gini is 0.5753653444676409\n",
      "The overall classification accuracy for Fold 3 with 10, 1, gini is 0.5753653444676409\n",
      "The overall classification accuracy for Fold 4 with 10, 1, gini is 0.5753210147196993\n",
      "The overall classification accuracy for Fold 5 with 10, 1, gini is 0.4247233242848194\n",
      "The overall classification accuracy for Fold 1 with 10, 1, entropy is 0.5753653444676409\n",
      "The overall classification accuracy for Fold 2 with 10, 1, entropy is 0.5753653444676409\n",
      "The overall classification accuracy for Fold 3 with 10, 1, entropy is 0.5753653444676409\n",
      "The overall classification accuracy for Fold 4 with 10, 1, entropy is 0.5753210147196993\n",
      "The overall classification accuracy for Fold 5 with 10, 1, entropy is 0.4250365420755899\n",
      "The overall classification accuracy for Fold 1 with 10, 2, gini is 0.5752609603340292\n",
      "The overall classification accuracy for Fold 2 with 10, 2, gini is 0.5753653444676409\n",
      "The overall classification accuracy for Fold 3 with 10, 2, gini is 0.5753653444676409\n",
      "The overall classification accuracy for Fold 4 with 10, 2, gini is 0.5752166196889028\n",
      "The overall classification accuracy for Fold 5 with 10, 2, gini is 0.42461891835456256\n",
      "The overall classification accuracy for Fold 1 with 10, 2, entropy is 0.5752609603340292\n",
      "The overall classification accuracy for Fold 2 with 10, 2, entropy is 0.5753653444676409\n",
      "The overall classification accuracy for Fold 3 with 10, 2, entropy is 0.5753653444676409\n",
      "The overall classification accuracy for Fold 4 with 10, 2, entropy is 0.5752166196889028\n",
      "The overall classification accuracy for Fold 5 with 10, 2, entropy is 0.4247233242848194\n",
      "The overall classification accuracy for Fold 1 with 10, 3, gini is 0.5753653444676409\n",
      "The overall classification accuracy for Fold 2 with 10, 3, gini is 0.5750521920668058\n",
      "The overall classification accuracy for Fold 3 with 10, 3, gini is 0.5753653444676409\n",
      "The overall classification accuracy for Fold 4 with 10, 3, gini is 0.5754254097504958\n",
      "The overall classification accuracy for Fold 5 with 10, 3, gini is 0.4255585717268741\n",
      "The overall classification accuracy for Fold 1 with 10, 3, entropy is 0.5752609603340292\n",
      "The overall classification accuracy for Fold 2 with 10, 3, entropy is 0.5753653444676409\n",
      "The overall classification accuracy for Fold 3 with 10, 3, entropy is 0.5753653444676409\n",
      "The overall classification accuracy for Fold 4 with 10, 3, entropy is 0.5753210147196993\n",
      "The overall classification accuracy for Fold 5 with 10, 3, entropy is 0.42493213614533304\n",
      "The overall classification accuracy for Fold 1 with 10, 4, gini is 0.5737995824634655\n",
      "The overall classification accuracy for Fold 2 with 10, 4, gini is 0.5747390396659707\n",
      "The overall classification accuracy for Fold 3 with 10, 4, gini is 0.5753653444676409\n",
      "The overall classification accuracy for Fold 4 with 10, 4, gini is 0.5753210147196993\n",
      "The overall classification accuracy for Fold 5 with 10, 4, gini is 0.42461891835456256\n",
      "The overall classification accuracy for Fold 1 with 10, 4, entropy is 0.5751565762004175\n",
      "The overall classification accuracy for Fold 2 with 10, 4, entropy is 0.5753653444676409\n",
      "The overall classification accuracy for Fold 3 with 10, 4, entropy is 0.5753653444676409\n",
      "The overall classification accuracy for Fold 4 with 10, 4, entropy is 0.5751122246581063\n",
      "The overall classification accuracy for Fold 5 with 10, 4, entropy is 0.4248277302150762\n",
      "The overall classification accuracy for Fold 1 with 10, 5, gini is 0.5752609603340292\n",
      "The overall classification accuracy for Fold 2 with 10, 5, gini is 0.5756784968684759\n",
      "The overall classification accuracy for Fold 3 with 10, 5, gini is 0.5753653444676409\n",
      "The overall classification accuracy for Fold 4 with 10, 5, gini is 0.5754254097504958\n",
      "The overall classification accuracy for Fold 5 with 10, 5, gini is 0.42461891835456256\n",
      "The overall classification accuracy for Fold 1 with 10, 5, entropy is 0.572964509394572\n",
      "The overall classification accuracy for Fold 2 with 10, 5, entropy is 0.5757828810020876\n",
      "The overall classification accuracy for Fold 3 with 10, 5, entropy is 0.5753653444676409\n",
      "The overall classification accuracy for Fold 4 with 10, 5, entropy is 0.5753210147196993\n",
      "The overall classification accuracy for Fold 5 with 10, 5, entropy is 0.42461891835456256\n",
      "The overall classification accuracy for Fold 1 with 50, None, gini is 0.5332985386221294\n",
      "The overall classification accuracy for Fold 2 with 50, None, gini is 0.5475991649269311\n",
      "The overall classification accuracy for Fold 3 with 50, None, gini is 0.5531315240083508\n",
      "The overall classification accuracy for Fold 4 with 50, None, gini is 0.5505793924209208\n",
      "The overall classification accuracy for Fold 5 with 50, None, gini is 0.42461891835456256\n",
      "The overall classification accuracy for Fold 1 with 50, None, entropy is 0.5247390396659708\n",
      "The overall classification accuracy for Fold 2 with 50, None, entropy is 0.5508350730688936\n",
      "The overall classification accuracy for Fold 3 with 50, None, entropy is 0.5525052192066806\n",
      "The overall classification accuracy for Fold 4 with 50, None, entropy is 0.5504749973901242\n",
      "The overall classification accuracy for Fold 5 with 50, None, entropy is 0.42461891835456256\n",
      "The overall classification accuracy for Fold 1 with 50, 1, gini is 0.5753653444676409\n",
      "The overall classification accuracy for Fold 2 with 50, 1, gini is 0.5753653444676409\n",
      "The overall classification accuracy for Fold 3 with 50, 1, gini is 0.5753653444676409\n",
      "The overall classification accuracy for Fold 4 with 50, 1, gini is 0.5753210147196993\n",
      "The overall classification accuracy for Fold 5 with 50, 1, gini is 0.4247233242848194\n",
      "The overall classification accuracy for Fold 1 with 50, 1, entropy is 0.5753653444676409\n",
      "The overall classification accuracy for Fold 2 with 50, 1, entropy is 0.5753653444676409\n",
      "The overall classification accuracy for Fold 3 with 50, 1, entropy is 0.5753653444676409\n",
      "The overall classification accuracy for Fold 4 with 50, 1, entropy is 0.5753210147196993\n",
      "The overall classification accuracy for Fold 5 with 50, 1, entropy is 0.4247233242848194\n",
      "The overall classification accuracy for Fold 1 with 50, 2, gini is 0.5753653444676409\n",
      "The overall classification accuracy for Fold 2 with 50, 2, gini is 0.5753653444676409\n",
      "The overall classification accuracy for Fold 3 with 50, 2, gini is 0.5753653444676409\n",
      "The overall classification accuracy for Fold 4 with 50, 2, gini is 0.5753210147196993\n",
      "The overall classification accuracy for Fold 5 with 50, 2, gini is 0.4250365420755899\n",
      "The overall classification accuracy for Fold 1 with 50, 2, entropy is 0.5753653444676409\n",
      "The overall classification accuracy for Fold 2 with 50, 2, entropy is 0.5753653444676409\n",
      "The overall classification accuracy for Fold 3 with 50, 2, entropy is 0.5753653444676409\n",
      "The overall classification accuracy for Fold 4 with 50, 2, entropy is 0.5753210147196993\n",
      "The overall classification accuracy for Fold 5 with 50, 2, entropy is 0.4250365420755899\n",
      "The overall classification accuracy for Fold 1 with 50, 3, gini is 0.5753653444676409\n",
      "The overall classification accuracy for Fold 2 with 50, 3, gini is 0.5753653444676409\n",
      "The overall classification accuracy for Fold 3 with 50, 3, gini is 0.5753653444676409\n"
     ]
    },
    {
     "name": "stdout",
     "output_type": "stream",
     "text": [
      "The overall classification accuracy for Fold 4 with 50, 3, gini is 0.5752166196889028\n",
      "The overall classification accuracy for Fold 5 with 50, 3, gini is 0.4247233242848194\n",
      "The overall classification accuracy for Fold 1 with 50, 3, entropy is 0.5753653444676409\n",
      "The overall classification accuracy for Fold 2 with 50, 3, entropy is 0.5753653444676409\n",
      "The overall classification accuracy for Fold 3 with 50, 3, entropy is 0.5753653444676409\n",
      "The overall classification accuracy for Fold 4 with 50, 3, entropy is 0.5752166196889028\n",
      "The overall classification accuracy for Fold 5 with 50, 3, entropy is 0.42493213614533304\n",
      "The overall classification accuracy for Fold 1 with 50, 4, gini is 0.5753653444676409\n",
      "The overall classification accuracy for Fold 2 with 50, 4, gini is 0.5753653444676409\n",
      "The overall classification accuracy for Fold 3 with 50, 4, gini is 0.5753653444676409\n",
      "The overall classification accuracy for Fold 4 with 50, 4, gini is 0.5752166196889028\n",
      "The overall classification accuracy for Fold 5 with 50, 4, gini is 0.42461891835456256\n",
      "The overall classification accuracy for Fold 1 with 50, 4, entropy is 0.5753653444676409\n",
      "The overall classification accuracy for Fold 2 with 50, 4, entropy is 0.5753653444676409\n",
      "The overall classification accuracy for Fold 3 with 50, 4, entropy is 0.5753653444676409\n",
      "The overall classification accuracy for Fold 4 with 50, 4, entropy is 0.5752166196889028\n",
      "The overall classification accuracy for Fold 5 with 50, 4, entropy is 0.42461891835456256\n",
      "The overall classification accuracy for Fold 1 with 50, 5, gini is 0.5756784968684759\n",
      "The overall classification accuracy for Fold 2 with 50, 5, gini is 0.5751565762004175\n",
      "The overall classification accuracy for Fold 3 with 50, 5, gini is 0.5753653444676409\n",
      "The overall classification accuracy for Fold 4 with 50, 5, gini is 0.5753210147196993\n",
      "The overall classification accuracy for Fold 5 with 50, 5, gini is 0.42461891835456256\n",
      "The overall classification accuracy for Fold 1 with 50, 5, entropy is 0.5754697286012526\n",
      "The overall classification accuracy for Fold 2 with 50, 5, entropy is 0.5751565762004175\n",
      "The overall classification accuracy for Fold 3 with 50, 5, entropy is 0.5753653444676409\n",
      "The overall classification accuracy for Fold 4 with 50, 5, entropy is 0.5752166196889028\n",
      "The overall classification accuracy for Fold 5 with 50, 5, entropy is 0.42461891835456256\n",
      "The overall classification accuracy for Fold 1 with 100, None, gini is 0.5400835073068894\n",
      "The overall classification accuracy for Fold 2 with 100, None, gini is 0.5512526096033403\n",
      "The overall classification accuracy for Fold 3 with 100, None, gini is 0.5539665970772443\n",
      "The overall classification accuracy for Fold 4 with 100, None, gini is 0.5554859588683578\n",
      "The overall classification accuracy for Fold 5 with 100, None, gini is 0.42461891835456256\n",
      "The overall classification accuracy for Fold 1 with 100, None, entropy is 0.5386221294363257\n",
      "The overall classification accuracy for Fold 2 with 100, None, entropy is 0.552713987473904\n",
      "The overall classification accuracy for Fold 3 with 100, None, entropy is 0.5586638830897703\n",
      "The overall classification accuracy for Fold 4 with 100, None, entropy is 0.5561123290531371\n",
      "The overall classification accuracy for Fold 5 with 100, None, entropy is 0.42461891835456256\n",
      "The overall classification accuracy for Fold 1 with 100, 1, gini is 0.5753653444676409\n",
      "The overall classification accuracy for Fold 2 with 100, 1, gini is 0.5753653444676409\n",
      "The overall classification accuracy for Fold 3 with 100, 1, gini is 0.5753653444676409\n",
      "The overall classification accuracy for Fold 4 with 100, 1, gini is 0.5753210147196993\n",
      "The overall classification accuracy for Fold 5 with 100, 1, gini is 0.4250365420755899\n",
      "The overall classification accuracy for Fold 1 with 100, 1, entropy is 0.5753653444676409\n",
      "The overall classification accuracy for Fold 2 with 100, 1, entropy is 0.5753653444676409\n",
      "The overall classification accuracy for Fold 3 with 100, 1, entropy is 0.5753653444676409\n",
      "The overall classification accuracy for Fold 4 with 100, 1, entropy is 0.5753210147196993\n",
      "The overall classification accuracy for Fold 5 with 100, 1, entropy is 0.4250365420755899\n",
      "The overall classification accuracy for Fold 1 with 100, 2, gini is 0.5753653444676409\n",
      "The overall classification accuracy for Fold 2 with 100, 2, gini is 0.5753653444676409\n",
      "The overall classification accuracy for Fold 3 with 100, 2, gini is 0.5753653444676409\n",
      "The overall classification accuracy for Fold 4 with 100, 2, gini is 0.5753210147196993\n",
      "The overall classification accuracy for Fold 5 with 100, 2, gini is 0.42493213614533304\n",
      "The overall classification accuracy for Fold 1 with 100, 2, entropy is 0.5753653444676409\n",
      "The overall classification accuracy for Fold 2 with 100, 2, entropy is 0.5753653444676409\n",
      "The overall classification accuracy for Fold 3 with 100, 2, entropy is 0.5753653444676409\n",
      "The overall classification accuracy for Fold 4 with 100, 2, entropy is 0.5753210147196993\n",
      "The overall classification accuracy for Fold 5 with 100, 2, entropy is 0.4250365420755899\n",
      "The overall classification accuracy for Fold 1 with 100, 3, gini is 0.5753653444676409\n",
      "The overall classification accuracy for Fold 2 with 100, 3, gini is 0.5753653444676409\n",
      "The overall classification accuracy for Fold 3 with 100, 3, gini is 0.5753653444676409\n",
      "The overall classification accuracy for Fold 4 with 100, 3, gini is 0.5753210147196993\n",
      "The overall classification accuracy for Fold 5 with 100, 3, gini is 0.4248277302150762\n",
      "The overall classification accuracy for Fold 1 with 100, 3, entropy is 0.5753653444676409\n",
      "The overall classification accuracy for Fold 2 with 100, 3, entropy is 0.5753653444676409\n",
      "The overall classification accuracy for Fold 3 with 100, 3, entropy is 0.5753653444676409\n",
      "The overall classification accuracy for Fold 4 with 100, 3, entropy is 0.5753210147196993\n",
      "The overall classification accuracy for Fold 5 with 100, 3, entropy is 0.42493213614533304\n",
      "The overall classification accuracy for Fold 1 with 100, 4, gini is 0.5753653444676409\n",
      "The overall classification accuracy for Fold 2 with 100, 4, gini is 0.5753653444676409\n",
      "The overall classification accuracy for Fold 3 with 100, 4, gini is 0.5753653444676409\n",
      "The overall classification accuracy for Fold 4 with 100, 4, gini is 0.5753210147196993\n",
      "The overall classification accuracy for Fold 5 with 100, 4, gini is 0.42461891835456256\n",
      "The overall classification accuracy for Fold 1 with 100, 4, entropy is 0.5753653444676409\n",
      "The overall classification accuracy for Fold 2 with 100, 4, entropy is 0.5753653444676409\n",
      "The overall classification accuracy for Fold 3 with 100, 4, entropy is 0.5753653444676409\n",
      "The overall classification accuracy for Fold 4 with 100, 4, entropy is 0.5753210147196993\n",
      "The overall classification accuracy for Fold 5 with 100, 4, entropy is 0.42461891835456256\n",
      "The overall classification accuracy for Fold 1 with 100, 5, gini is 0.5752609603340292\n",
      "The overall classification accuracy for Fold 2 with 100, 5, gini is 0.5753653444676409\n",
      "The overall classification accuracy for Fold 3 with 100, 5, gini is 0.5753653444676409\n",
      "The overall classification accuracy for Fold 4 with 100, 5, gini is 0.5753210147196993\n",
      "The overall classification accuracy for Fold 5 with 100, 5, gini is 0.42461891835456256\n",
      "The overall classification accuracy for Fold 1 with 100, 5, entropy is 0.5753653444676409\n",
      "The overall classification accuracy for Fold 2 with 100, 5, entropy is 0.5753653444676409\n",
      "The overall classification accuracy for Fold 3 with 100, 5, entropy is 0.5753653444676409\n",
      "The overall classification accuracy for Fold 4 with 100, 5, entropy is 0.5753210147196993\n",
      "The overall classification accuracy for Fold 5 with 100, 5, entropy is 0.42461891835456256\n",
      "The overall classification accuracy for Fold 1 with 150, None, gini is 0.5406054279749478\n",
      "The overall classification accuracy for Fold 2 with 150, None, gini is 0.552713987473904\n",
      "The overall classification accuracy for Fold 3 with 150, None, gini is 0.5561586638830898\n",
      "The overall classification accuracy for Fold 4 with 150, None, gini is 0.5570518843303058\n",
      "The overall classification accuracy for Fold 5 with 150, None, gini is 0.42461891835456256\n",
      "The overall classification accuracy for Fold 1 with 150, None, entropy is 0.5405010438413361\n"
     ]
    },
    {
     "name": "stdout",
     "output_type": "stream",
     "text": [
      "The overall classification accuracy for Fold 2 with 150, None, entropy is 0.5514613778705637\n",
      "The overall classification accuracy for Fold 3 with 150, None, entropy is 0.5597077244258872\n",
      "The overall classification accuracy for Fold 4 with 150, None, entropy is 0.554128823468003\n",
      "The overall classification accuracy for Fold 5 with 150, None, entropy is 0.42461891835456256\n",
      "The overall classification accuracy for Fold 1 with 150, 1, gini is 0.5753653444676409\n",
      "The overall classification accuracy for Fold 2 with 150, 1, gini is 0.5753653444676409\n",
      "The overall classification accuracy for Fold 3 with 150, 1, gini is 0.5753653444676409\n",
      "The overall classification accuracy for Fold 4 with 150, 1, gini is 0.5753210147196993\n",
      "The overall classification accuracy for Fold 5 with 150, 1, gini is 0.4250365420755899\n",
      "The overall classification accuracy for Fold 1 with 150, 1, entropy is 0.5753653444676409\n",
      "The overall classification accuracy for Fold 2 with 150, 1, entropy is 0.5753653444676409\n",
      "The overall classification accuracy for Fold 3 with 150, 1, entropy is 0.5753653444676409\n",
      "The overall classification accuracy for Fold 4 with 150, 1, entropy is 0.5753210147196993\n",
      "The overall classification accuracy for Fold 5 with 150, 1, entropy is 0.4250365420755899\n",
      "The overall classification accuracy for Fold 1 with 150, 2, gini is 0.5753653444676409\n",
      "The overall classification accuracy for Fold 2 with 150, 2, gini is 0.5753653444676409\n",
      "The overall classification accuracy for Fold 3 with 150, 2, gini is 0.5753653444676409\n",
      "The overall classification accuracy for Fold 4 with 150, 2, gini is 0.5753210147196993\n",
      "The overall classification accuracy for Fold 5 with 150, 2, gini is 0.42461891835456256\n",
      "The overall classification accuracy for Fold 1 with 150, 2, entropy is 0.5753653444676409\n",
      "The overall classification accuracy for Fold 2 with 150, 2, entropy is 0.5753653444676409\n",
      "The overall classification accuracy for Fold 3 with 150, 2, entropy is 0.5753653444676409\n",
      "The overall classification accuracy for Fold 4 with 150, 2, entropy is 0.5753210147196993\n",
      "The overall classification accuracy for Fold 5 with 150, 2, entropy is 0.42493213614533304\n",
      "The overall classification accuracy for Fold 1 with 150, 3, gini is 0.5753653444676409\n",
      "The overall classification accuracy for Fold 2 with 150, 3, gini is 0.5753653444676409\n",
      "The overall classification accuracy for Fold 3 with 150, 3, gini is 0.5753653444676409\n",
      "The overall classification accuracy for Fold 4 with 150, 3, gini is 0.5753210147196993\n",
      "The overall classification accuracy for Fold 5 with 150, 3, gini is 0.42461891835456256\n",
      "The overall classification accuracy for Fold 1 with 150, 3, entropy is 0.5753653444676409\n",
      "The overall classification accuracy for Fold 2 with 150, 3, entropy is 0.5753653444676409\n",
      "The overall classification accuracy for Fold 3 with 150, 3, entropy is 0.5753653444676409\n",
      "The overall classification accuracy for Fold 4 with 150, 3, entropy is 0.5753210147196993\n",
      "The overall classification accuracy for Fold 5 with 150, 3, entropy is 0.4248277302150762\n",
      "The overall classification accuracy for Fold 1 with 150, 4, gini is 0.5753653444676409\n",
      "The overall classification accuracy for Fold 2 with 150, 4, gini is 0.5753653444676409\n",
      "The overall classification accuracy for Fold 3 with 150, 4, gini is 0.5753653444676409\n",
      "The overall classification accuracy for Fold 4 with 150, 4, gini is 0.5753210147196993\n",
      "The overall classification accuracy for Fold 5 with 150, 4, gini is 0.42461891835456256\n",
      "The overall classification accuracy for Fold 1 with 150, 4, entropy is 0.5753653444676409\n",
      "The overall classification accuracy for Fold 2 with 150, 4, entropy is 0.5753653444676409\n",
      "The overall classification accuracy for Fold 3 with 150, 4, entropy is 0.5753653444676409\n",
      "The overall classification accuracy for Fold 4 with 150, 4, entropy is 0.5753210147196993\n",
      "The overall classification accuracy for Fold 5 with 150, 4, entropy is 0.42461891835456256\n",
      "The overall classification accuracy for Fold 1 with 150, 5, gini is 0.5753653444676409\n",
      "The overall classification accuracy for Fold 2 with 150, 5, gini is 0.5753653444676409\n",
      "The overall classification accuracy for Fold 3 with 150, 5, gini is 0.5753653444676409\n",
      "The overall classification accuracy for Fold 4 with 150, 5, gini is 0.5753210147196993\n",
      "The overall classification accuracy for Fold 5 with 150, 5, gini is 0.42461891835456256\n",
      "The overall classification accuracy for Fold 1 with 150, 5, entropy is 0.5753653444676409\n",
      "The overall classification accuracy for Fold 2 with 150, 5, entropy is 0.5753653444676409\n",
      "The overall classification accuracy for Fold 3 with 150, 5, entropy is 0.5753653444676409\n",
      "The overall classification accuracy for Fold 4 with 150, 5, entropy is 0.5753210147196993\n",
      "The overall classification accuracy for Fold 5 with 150, 5, entropy is 0.42461891835456256\n",
      "The overall classification accuracy for Fold 1 with 200, None, gini is 0.5393528183716075\n",
      "The overall classification accuracy for Fold 2 with 200, None, gini is 0.5550104384133612\n",
      "The overall classification accuracy for Fold 3 with 200, None, gini is 0.5577244258872651\n",
      "The overall classification accuracy for Fold 4 with 200, None, gini is 0.5571562793611025\n",
      "The overall classification accuracy for Fold 5 with 200, None, gini is 0.42461891835456256\n",
      "The overall classification accuracy for Fold 1 with 200, None, entropy is 0.5401878914405011\n",
      "The overall classification accuracy for Fold 2 with 200, None, entropy is 0.5539665970772443\n",
      "The overall classification accuracy for Fold 3 with 200, None, entropy is 0.5624217118997912\n",
      "The overall classification accuracy for Fold 4 with 200, None, entropy is 0.5561123290531371\n",
      "The overall classification accuracy for Fold 5 with 200, None, entropy is 0.42461891835456256\n",
      "The overall classification accuracy for Fold 1 with 200, 1, gini is 0.5753653444676409\n",
      "The overall classification accuracy for Fold 2 with 200, 1, gini is 0.5753653444676409\n",
      "The overall classification accuracy for Fold 3 with 200, 1, gini is 0.5753653444676409\n",
      "The overall classification accuracy for Fold 4 with 200, 1, gini is 0.5753210147196993\n",
      "The overall classification accuracy for Fold 5 with 200, 1, gini is 0.4247233242848194\n",
      "The overall classification accuracy for Fold 1 with 200, 1, entropy is 0.5753653444676409\n",
      "The overall classification accuracy for Fold 2 with 200, 1, entropy is 0.5753653444676409\n",
      "The overall classification accuracy for Fold 3 with 200, 1, entropy is 0.5753653444676409\n",
      "The overall classification accuracy for Fold 4 with 200, 1, entropy is 0.5753210147196993\n",
      "The overall classification accuracy for Fold 5 with 200, 1, entropy is 0.4250365420755899\n",
      "The overall classification accuracy for Fold 1 with 200, 2, gini is 0.5753653444676409\n",
      "The overall classification accuracy for Fold 2 with 200, 2, gini is 0.5753653444676409\n",
      "The overall classification accuracy for Fold 3 with 200, 2, gini is 0.5753653444676409\n",
      "The overall classification accuracy for Fold 4 with 200, 2, gini is 0.5753210147196993\n",
      "The overall classification accuracy for Fold 5 with 200, 2, gini is 0.42461891835456256\n",
      "The overall classification accuracy for Fold 1 with 200, 2, entropy is 0.5753653444676409\n",
      "The overall classification accuracy for Fold 2 with 200, 2, entropy is 0.5753653444676409\n",
      "The overall classification accuracy for Fold 3 with 200, 2, entropy is 0.5753653444676409\n",
      "The overall classification accuracy for Fold 4 with 200, 2, entropy is 0.5753210147196993\n",
      "The overall classification accuracy for Fold 5 with 200, 2, entropy is 0.4248277302150762\n",
      "The overall classification accuracy for Fold 1 with 200, 3, gini is 0.5753653444676409\n",
      "The overall classification accuracy for Fold 2 with 200, 3, gini is 0.5753653444676409\n",
      "The overall classification accuracy for Fold 3 with 200, 3, gini is 0.5753653444676409\n",
      "The overall classification accuracy for Fold 4 with 200, 3, gini is 0.5753210147196993\n",
      "The overall classification accuracy for Fold 5 with 200, 3, gini is 0.42461891835456256\n",
      "The overall classification accuracy for Fold 1 with 200, 3, entropy is 0.5753653444676409\n",
      "The overall classification accuracy for Fold 2 with 200, 3, entropy is 0.5753653444676409\n",
      "The overall classification accuracy for Fold 3 with 200, 3, entropy is 0.5753653444676409\n"
     ]
    },
    {
     "name": "stdout",
     "output_type": "stream",
     "text": [
      "The overall classification accuracy for Fold 4 with 200, 3, entropy is 0.5753210147196993\n",
      "The overall classification accuracy for Fold 5 with 200, 3, entropy is 0.42461891835456256\n",
      "The overall classification accuracy for Fold 1 with 200, 4, gini is 0.5753653444676409\n",
      "The overall classification accuracy for Fold 2 with 200, 4, gini is 0.5753653444676409\n",
      "The overall classification accuracy for Fold 3 with 200, 4, gini is 0.5753653444676409\n",
      "The overall classification accuracy for Fold 4 with 200, 4, gini is 0.5753210147196993\n",
      "The overall classification accuracy for Fold 5 with 200, 4, gini is 0.42461891835456256\n",
      "The overall classification accuracy for Fold 1 with 200, 4, entropy is 0.5753653444676409\n",
      "The overall classification accuracy for Fold 2 with 200, 4, entropy is 0.5753653444676409\n",
      "The overall classification accuracy for Fold 3 with 200, 4, entropy is 0.5753653444676409\n",
      "The overall classification accuracy for Fold 4 with 200, 4, entropy is 0.5753210147196993\n",
      "The overall classification accuracy for Fold 5 with 200, 4, entropy is 0.42461891835456256\n",
      "The overall classification accuracy for Fold 1 with 200, 5, gini is 0.5753653444676409\n",
      "The overall classification accuracy for Fold 2 with 200, 5, gini is 0.5753653444676409\n",
      "The overall classification accuracy for Fold 3 with 200, 5, gini is 0.5753653444676409\n",
      "The overall classification accuracy for Fold 4 with 200, 5, gini is 0.5753210147196993\n",
      "The overall classification accuracy for Fold 5 with 200, 5, gini is 0.42461891835456256\n",
      "The overall classification accuracy for Fold 1 with 200, 5, entropy is 0.5753653444676409\n",
      "The overall classification accuracy for Fold 2 with 200, 5, entropy is 0.5753653444676409\n",
      "The overall classification accuracy for Fold 3 with 200, 5, entropy is 0.5753653444676409\n",
      "The overall classification accuracy for Fold 4 with 200, 5, entropy is 0.5753210147196993\n",
      "The overall classification accuracy for Fold 5 with 200, 5, entropy is 0.42461891835456256\n"
     ]
    }
   ],
   "source": [
    "n_estimators = [10, 50, 100, 150, 200]\n",
    "max_depth = [None, 1, 2, 3, 4, 5]\n",
    "criterion = [\"gini\", \"entropy\"]\n",
    "\n",
    "# Iterate through model parameters to optimize Logistic Regression Model\n",
    "for i in n_estimators:\n",
    "    for j in max_depth:\n",
    "        for k in criterion:\n",
    "            RF_clf = RandomForestClassifier(n_estimators = i, max_depth = j, criterion = k, random_state = 0)\n",
    "            # Iterate through CV and get predictions\n",
    "            fold = 0\n",
    "            for train, test in cv.split(X2,y2):\n",
    "                fold += 1\n",
    "                RF_clf.fit(X2[train],y2[train])\n",
    "                yhat2[test] = RF_clf.predict(X2[test])\n",
    "                print(\"The overall classification accuracy for Fold \" + str(fold) + \" with \" + \n",
    "                      str(i) + \", \" + str(j) + \", \" + str(k) + \" is \" + str(accuracy_score(y2[test], yhat2[test])))\n",
    "                # Warning: Precision is ill-defined and being set to 0.0 due to no predicted samples\n",
    "                #print(\"The precision for Fold \" + str(fold) + \" with \" + str(i) + \", \" + str(j) + \", \" + str(k) +\n",
    "                #      \" is \" + str(precision_score(y2[test], yhat2[test])))"
   ]
  },
  {
   "cell_type": "markdown",
   "metadata": {},
   "source": [
    "##### Optimized Model"
   ]
  },
  {
   "cell_type": "code",
   "execution_count": 86,
   "metadata": {},
   "outputs": [
    {
     "name": "stdout",
     "output_type": "stream",
     "text": [
      "The overall classification accuracy for Fold 1 is 0.5753653444676409\n",
      "The overall classification accuracy for Fold 2 is 0.5753653444676409\n",
      "The overall classification accuracy for Fold 3 is 0.5753653444676409\n",
      "The overall classification accuracy for Fold 4 is 0.5753210147196993\n",
      "The overall classification accuracy for Fold 5 is 0.42493213614533304\n"
     ]
    }
   ],
   "source": [
    "RF_clf2 = RandomForestClassifier(n_estimators = 100, max_depth = 2, random_state = 0)\n",
    "\n",
    "# Iterate through CV and get predictions\n",
    "fold = 0\n",
    "for train, test in cv.split(X2,y2):\n",
    "    fold += 1\n",
    "    RF_clf2.fit(X2[train],y2[train])\n",
    "    yhat2[test] = RF_clf2.predict(X2[test])\n",
    "    print(\"The overall classification accuracy for Fold \" + str(fold) + \" is \" + str(accuracy_score(y2[test], yhat2[test])))\n",
    "    # Warning: Precision is ill-defined and being set to 0.0 due to no predicted samples\n",
    "    #print(\"The precision for Fold \" + str(fold) + \" is \" + str(precision_score(y2[test], yhat2[test])))"
   ]
  },
  {
   "cell_type": "code",
   "execution_count": 87,
   "metadata": {},
   "outputs": [
    {
     "name": "stdout",
     "output_type": "stream",
     "text": [
      "[0.30903954 0.12147091 0.03066159 0.06907786 0.00345345 0.0039459\n",
      " 0.00434737 0.02084052 0.00246207 0.07643407 0.02643278 0.01847841\n",
      " 0.05293882 0.08138135 0.00878693 0.         0.         0.00324824\n",
      " 0.         0.0065457  0.06726876 0.00662331 0.00682127 0.0026652\n",
      " 0.00552403 0.01486251 0.01391477 0.00477855 0.00381416 0.\n",
      " 0.01731389 0.         0.         0.0043037  0.00670587 0.00585846]\n"
     ]
    }
   ],
   "source": [
    " print(RF_clf2.feature_importances_)"
   ]
  },
  {
   "cell_type": "code",
   "execution_count": 89,
   "metadata": {},
   "outputs": [
    {
     "data": {
      "text/plain": [
       "array([False,  True,  True, ...,  True,  True,  True])"
      ]
     },
     "execution_count": 89,
     "metadata": {},
     "output_type": "execute_result"
    }
   ],
   "source": [
    "RF_clf2.predict(X2[test])"
   ]
  },
  {
   "cell_type": "markdown",
   "metadata": {},
   "source": [
    "### KNN: grade_grouped (Task 1)"
   ]
  },
  {
   "cell_type": "markdown",
   "metadata": {},
   "source": [
    "##### Parameter Optimization"
   ]
  },
  {
   "cell_type": "code",
   "execution_count": 34,
   "metadata": {},
   "outputs": [
    {
     "name": "stdout",
     "output_type": "stream",
     "text": [
      "The overall classification accuracy for Fold 1 with 1, uniform, auto is 0.7577315097133897\n",
      "The overall classification accuracy for Fold 2 with 1, uniform, auto is 0.7542468856172141\n",
      "The overall classification accuracy for Fold 3 with 1, uniform, auto is 0.7582120763265662\n",
      "The overall classification accuracy for Fold 4 with 1, uniform, auto is 0.7595190380761523\n",
      "The overall classification accuracy for Fold 5 with 1, uniform, auto is 0.7634399233249107\n",
      "The overall classification accuracy for Fold 1 with 1, uniform, ball_tree is 0.7577315097133897\n",
      "The overall classification accuracy for Fold 2 with 1, uniform, ball_tree is 0.7542468856172141\n",
      "The overall classification accuracy for Fold 3 with 1, uniform, ball_tree is 0.7582120763265662\n",
      "The overall classification accuracy for Fold 4 with 1, uniform, ball_tree is 0.7595190380761523\n",
      "The overall classification accuracy for Fold 5 with 1, uniform, ball_tree is 0.7634399233249107\n",
      "The overall classification accuracy for Fold 1 with 1, uniform, kd_tree is 0.7577315097133897\n",
      "The overall classification accuracy for Fold 2 with 1, uniform, kd_tree is 0.7542468856172141\n",
      "The overall classification accuracy for Fold 3 with 1, uniform, kd_tree is 0.7582120763265662\n",
      "The overall classification accuracy for Fold 4 with 1, uniform, kd_tree is 0.7595190380761523\n",
      "The overall classification accuracy for Fold 5 with 1, uniform, kd_tree is 0.7634399233249107\n",
      "The overall classification accuracy for Fold 1 with 1, uniform, brute is 0.7577315097133897\n"
     ]
    },
    {
     "ename": "KeyboardInterrupt",
     "evalue": "",
     "output_type": "error",
     "traceback": [
      "\u001b[0;31m---------------------------------------------------------------------------\u001b[0m",
      "\u001b[0;31mKeyboardInterrupt\u001b[0m                         Traceback (most recent call last)",
      "\u001b[0;32m<ipython-input-34-e13fa77181f1>\u001b[0m in \u001b[0;36m<module>\u001b[0;34m\u001b[0m\n\u001b[1;32m     14\u001b[0m                 \u001b[0mfold\u001b[0m \u001b[0;34m+=\u001b[0m \u001b[0;36m1\u001b[0m\u001b[0;34m\u001b[0m\u001b[0;34m\u001b[0m\u001b[0m\n\u001b[1;32m     15\u001b[0m                 \u001b[0mKNN_clf\u001b[0m\u001b[0;34m.\u001b[0m\u001b[0mfit\u001b[0m\u001b[0;34m(\u001b[0m\u001b[0mX1\u001b[0m\u001b[0;34m[\u001b[0m\u001b[0mtrain\u001b[0m\u001b[0;34m]\u001b[0m\u001b[0;34m,\u001b[0m\u001b[0my1\u001b[0m\u001b[0;34m[\u001b[0m\u001b[0mtrain\u001b[0m\u001b[0;34m]\u001b[0m\u001b[0;34m)\u001b[0m\u001b[0;34m\u001b[0m\u001b[0;34m\u001b[0m\u001b[0m\n\u001b[0;32m---> 16\u001b[0;31m                 \u001b[0myhat1\u001b[0m\u001b[0;34m[\u001b[0m\u001b[0mtest\u001b[0m\u001b[0;34m]\u001b[0m \u001b[0;34m=\u001b[0m \u001b[0mKNN_clf\u001b[0m\u001b[0;34m.\u001b[0m\u001b[0mpredict\u001b[0m\u001b[0;34m(\u001b[0m\u001b[0mX1\u001b[0m\u001b[0;34m[\u001b[0m\u001b[0mtest\u001b[0m\u001b[0;34m]\u001b[0m\u001b[0;34m)\u001b[0m\u001b[0;34m\u001b[0m\u001b[0;34m\u001b[0m\u001b[0m\n\u001b[0m\u001b[1;32m     17\u001b[0m                 print(\"The overall classification accuracy for Fold \" + str(fold) + \" with \" + \n\u001b[1;32m     18\u001b[0m                       str(i) + \", \" + str(j) + \", \" + str(k) + \" is \" + str(accuracy_score(y1[test], yhat1[test])))\n",
      "\u001b[0;32m~/opt/anaconda3/lib/python3.7/site-packages/sklearn/neighbors/classification.py\u001b[0m in \u001b[0;36mpredict\u001b[0;34m(self, X)\u001b[0m\n\u001b[1;32m    147\u001b[0m         \u001b[0mX\u001b[0m \u001b[0;34m=\u001b[0m \u001b[0mcheck_array\u001b[0m\u001b[0;34m(\u001b[0m\u001b[0mX\u001b[0m\u001b[0;34m,\u001b[0m \u001b[0maccept_sparse\u001b[0m\u001b[0;34m=\u001b[0m\u001b[0;34m'csr'\u001b[0m\u001b[0;34m)\u001b[0m\u001b[0;34m\u001b[0m\u001b[0;34m\u001b[0m\u001b[0m\n\u001b[1;32m    148\u001b[0m \u001b[0;34m\u001b[0m\u001b[0m\n\u001b[0;32m--> 149\u001b[0;31m         \u001b[0mneigh_dist\u001b[0m\u001b[0;34m,\u001b[0m \u001b[0mneigh_ind\u001b[0m \u001b[0;34m=\u001b[0m \u001b[0mself\u001b[0m\u001b[0;34m.\u001b[0m\u001b[0mkneighbors\u001b[0m\u001b[0;34m(\u001b[0m\u001b[0mX\u001b[0m\u001b[0;34m)\u001b[0m\u001b[0;34m\u001b[0m\u001b[0;34m\u001b[0m\u001b[0m\n\u001b[0m\u001b[1;32m    150\u001b[0m         \u001b[0mclasses_\u001b[0m \u001b[0;34m=\u001b[0m \u001b[0mself\u001b[0m\u001b[0;34m.\u001b[0m\u001b[0mclasses_\u001b[0m\u001b[0;34m\u001b[0m\u001b[0;34m\u001b[0m\u001b[0m\n\u001b[1;32m    151\u001b[0m         \u001b[0m_y\u001b[0m \u001b[0;34m=\u001b[0m \u001b[0mself\u001b[0m\u001b[0;34m.\u001b[0m\u001b[0m_y\u001b[0m\u001b[0;34m\u001b[0m\u001b[0;34m\u001b[0m\u001b[0m\n",
      "\u001b[0;32m~/opt/anaconda3/lib/python3.7/site-packages/sklearn/neighbors/base.py\u001b[0m in \u001b[0;36mkneighbors\u001b[0;34m(self, X, n_neighbors, return_distance)\u001b[0m\n\u001b[1;32m    432\u001b[0m                 \u001b[0mX\u001b[0m\u001b[0;34m,\u001b[0m \u001b[0mself\u001b[0m\u001b[0;34m.\u001b[0m\u001b[0m_fit_X\u001b[0m\u001b[0;34m,\u001b[0m \u001b[0mreduce_func\u001b[0m\u001b[0;34m=\u001b[0m\u001b[0mreduce_func\u001b[0m\u001b[0;34m,\u001b[0m\u001b[0;34m\u001b[0m\u001b[0;34m\u001b[0m\u001b[0m\n\u001b[1;32m    433\u001b[0m                 \u001b[0mmetric\u001b[0m\u001b[0;34m=\u001b[0m\u001b[0mself\u001b[0m\u001b[0;34m.\u001b[0m\u001b[0meffective_metric_\u001b[0m\u001b[0;34m,\u001b[0m \u001b[0mn_jobs\u001b[0m\u001b[0;34m=\u001b[0m\u001b[0mn_jobs\u001b[0m\u001b[0;34m,\u001b[0m\u001b[0;34m\u001b[0m\u001b[0;34m\u001b[0m\u001b[0m\n\u001b[0;32m--> 434\u001b[0;31m                 **kwds))\n\u001b[0m\u001b[1;32m    435\u001b[0m \u001b[0;34m\u001b[0m\u001b[0m\n\u001b[1;32m    436\u001b[0m         \u001b[0;32melif\u001b[0m \u001b[0mself\u001b[0m\u001b[0;34m.\u001b[0m\u001b[0m_fit_method\u001b[0m \u001b[0;32min\u001b[0m \u001b[0;34m[\u001b[0m\u001b[0;34m'ball_tree'\u001b[0m\u001b[0;34m,\u001b[0m \u001b[0;34m'kd_tree'\u001b[0m\u001b[0;34m]\u001b[0m\u001b[0;34m:\u001b[0m\u001b[0;34m\u001b[0m\u001b[0;34m\u001b[0m\u001b[0m\n",
      "\u001b[0;32m~/opt/anaconda3/lib/python3.7/site-packages/sklearn/metrics/pairwise.py\u001b[0m in \u001b[0;36mpairwise_distances_chunked\u001b[0;34m(X, Y, reduce_func, metric, n_jobs, working_memory, **kwds)\u001b[0m\n\u001b[1;32m   1446\u001b[0m             \u001b[0mX_chunk\u001b[0m \u001b[0;34m=\u001b[0m \u001b[0mX\u001b[0m\u001b[0;34m[\u001b[0m\u001b[0msl\u001b[0m\u001b[0;34m]\u001b[0m\u001b[0;34m\u001b[0m\u001b[0;34m\u001b[0m\u001b[0m\n\u001b[1;32m   1447\u001b[0m         D_chunk = pairwise_distances(X_chunk, Y, metric=metric,\n\u001b[0;32m-> 1448\u001b[0;31m                                      n_jobs=n_jobs, **kwds)\n\u001b[0m\u001b[1;32m   1449\u001b[0m         if ((X is Y or Y is None)\n\u001b[1;32m   1450\u001b[0m                 \u001b[0;32mand\u001b[0m \u001b[0mPAIRWISE_DISTANCE_FUNCTIONS\u001b[0m\u001b[0;34m.\u001b[0m\u001b[0mget\u001b[0m\u001b[0;34m(\u001b[0m\u001b[0mmetric\u001b[0m\u001b[0;34m,\u001b[0m \u001b[0;32mNone\u001b[0m\u001b[0;34m)\u001b[0m\u001b[0;34m\u001b[0m\u001b[0;34m\u001b[0m\u001b[0m\n",
      "\u001b[0;32m~/opt/anaconda3/lib/python3.7/site-packages/sklearn/metrics/pairwise.py\u001b[0m in \u001b[0;36mpairwise_distances\u001b[0;34m(X, Y, metric, n_jobs, **kwds)\u001b[0m\n\u001b[1;32m   1586\u001b[0m         \u001b[0mfunc\u001b[0m \u001b[0;34m=\u001b[0m \u001b[0mpartial\u001b[0m\u001b[0;34m(\u001b[0m\u001b[0mdistance\u001b[0m\u001b[0;34m.\u001b[0m\u001b[0mcdist\u001b[0m\u001b[0;34m,\u001b[0m \u001b[0mmetric\u001b[0m\u001b[0;34m=\u001b[0m\u001b[0mmetric\u001b[0m\u001b[0;34m,\u001b[0m \u001b[0;34m**\u001b[0m\u001b[0mkwds\u001b[0m\u001b[0;34m)\u001b[0m\u001b[0;34m\u001b[0m\u001b[0;34m\u001b[0m\u001b[0m\n\u001b[1;32m   1587\u001b[0m \u001b[0;34m\u001b[0m\u001b[0m\n\u001b[0;32m-> 1588\u001b[0;31m     \u001b[0;32mreturn\u001b[0m \u001b[0m_parallel_pairwise\u001b[0m\u001b[0;34m(\u001b[0m\u001b[0mX\u001b[0m\u001b[0;34m,\u001b[0m \u001b[0mY\u001b[0m\u001b[0;34m,\u001b[0m \u001b[0mfunc\u001b[0m\u001b[0;34m,\u001b[0m \u001b[0mn_jobs\u001b[0m\u001b[0;34m,\u001b[0m \u001b[0;34m**\u001b[0m\u001b[0mkwds\u001b[0m\u001b[0;34m)\u001b[0m\u001b[0;34m\u001b[0m\u001b[0;34m\u001b[0m\u001b[0m\n\u001b[0m\u001b[1;32m   1589\u001b[0m \u001b[0;34m\u001b[0m\u001b[0m\n\u001b[1;32m   1590\u001b[0m \u001b[0;34m\u001b[0m\u001b[0m\n",
      "\u001b[0;32m~/opt/anaconda3/lib/python3.7/site-packages/sklearn/metrics/pairwise.py\u001b[0m in \u001b[0;36m_parallel_pairwise\u001b[0;34m(X, Y, func, n_jobs, **kwds)\u001b[0m\n\u001b[1;32m   1204\u001b[0m \u001b[0;34m\u001b[0m\u001b[0m\n\u001b[1;32m   1205\u001b[0m     \u001b[0;32mif\u001b[0m \u001b[0meffective_n_jobs\u001b[0m\u001b[0;34m(\u001b[0m\u001b[0mn_jobs\u001b[0m\u001b[0;34m)\u001b[0m \u001b[0;34m==\u001b[0m \u001b[0;36m1\u001b[0m\u001b[0;34m:\u001b[0m\u001b[0;34m\u001b[0m\u001b[0;34m\u001b[0m\u001b[0m\n\u001b[0;32m-> 1206\u001b[0;31m         \u001b[0;32mreturn\u001b[0m \u001b[0mfunc\u001b[0m\u001b[0;34m(\u001b[0m\u001b[0mX\u001b[0m\u001b[0;34m,\u001b[0m \u001b[0mY\u001b[0m\u001b[0;34m,\u001b[0m \u001b[0;34m**\u001b[0m\u001b[0mkwds\u001b[0m\u001b[0;34m)\u001b[0m\u001b[0;34m\u001b[0m\u001b[0;34m\u001b[0m\u001b[0m\n\u001b[0m\u001b[1;32m   1207\u001b[0m \u001b[0;34m\u001b[0m\u001b[0m\n\u001b[1;32m   1208\u001b[0m     \u001b[0;31m# enforce a threading backend to prevent data communication overhead\u001b[0m\u001b[0;34m\u001b[0m\u001b[0;34m\u001b[0m\u001b[0;34m\u001b[0m\u001b[0m\n",
      "\u001b[0;32m~/opt/anaconda3/lib/python3.7/site-packages/sklearn/metrics/pairwise.py\u001b[0m in \u001b[0;36meuclidean_distances\u001b[0;34m(X, Y, Y_norm_squared, squared, X_norm_squared)\u001b[0m\n\u001b[1;32m    271\u001b[0m     \u001b[0;32melse\u001b[0m\u001b[0;34m:\u001b[0m\u001b[0;34m\u001b[0m\u001b[0;34m\u001b[0m\u001b[0m\n\u001b[1;32m    272\u001b[0m         \u001b[0;31m# if dtype is already float64, no need to chunk and upcast\u001b[0m\u001b[0;34m\u001b[0m\u001b[0;34m\u001b[0m\u001b[0;34m\u001b[0m\u001b[0m\n\u001b[0;32m--> 273\u001b[0;31m         \u001b[0mdistances\u001b[0m \u001b[0;34m=\u001b[0m \u001b[0;34m-\u001b[0m \u001b[0;36m2\u001b[0m \u001b[0;34m*\u001b[0m \u001b[0msafe_sparse_dot\u001b[0m\u001b[0;34m(\u001b[0m\u001b[0mX\u001b[0m\u001b[0;34m,\u001b[0m \u001b[0mY\u001b[0m\u001b[0;34m.\u001b[0m\u001b[0mT\u001b[0m\u001b[0;34m,\u001b[0m \u001b[0mdense_output\u001b[0m\u001b[0;34m=\u001b[0m\u001b[0;32mTrue\u001b[0m\u001b[0;34m)\u001b[0m\u001b[0;34m\u001b[0m\u001b[0;34m\u001b[0m\u001b[0m\n\u001b[0m\u001b[1;32m    274\u001b[0m         \u001b[0mdistances\u001b[0m \u001b[0;34m+=\u001b[0m \u001b[0mXX\u001b[0m\u001b[0;34m\u001b[0m\u001b[0;34m\u001b[0m\u001b[0m\n\u001b[1;32m    275\u001b[0m         \u001b[0mdistances\u001b[0m \u001b[0;34m+=\u001b[0m \u001b[0mYY\u001b[0m\u001b[0;34m\u001b[0m\u001b[0;34m\u001b[0m\u001b[0m\n",
      "\u001b[0;32m~/opt/anaconda3/lib/python3.7/site-packages/sklearn/utils/extmath.py\u001b[0m in \u001b[0;36msafe_sparse_dot\u001b[0;34m(a, b, dense_output)\u001b[0m\n\u001b[1;32m    140\u001b[0m         \u001b[0;32mreturn\u001b[0m \u001b[0mret\u001b[0m\u001b[0;34m\u001b[0m\u001b[0;34m\u001b[0m\u001b[0m\n\u001b[1;32m    141\u001b[0m     \u001b[0;32melse\u001b[0m\u001b[0;34m:\u001b[0m\u001b[0;34m\u001b[0m\u001b[0;34m\u001b[0m\u001b[0m\n\u001b[0;32m--> 142\u001b[0;31m         \u001b[0;32mreturn\u001b[0m \u001b[0mnp\u001b[0m\u001b[0;34m.\u001b[0m\u001b[0mdot\u001b[0m\u001b[0;34m(\u001b[0m\u001b[0ma\u001b[0m\u001b[0;34m,\u001b[0m \u001b[0mb\u001b[0m\u001b[0;34m)\u001b[0m\u001b[0;34m\u001b[0m\u001b[0;34m\u001b[0m\u001b[0m\n\u001b[0m\u001b[1;32m    143\u001b[0m \u001b[0;34m\u001b[0m\u001b[0m\n\u001b[1;32m    144\u001b[0m \u001b[0;34m\u001b[0m\u001b[0m\n",
      "\u001b[0;32m<__array_function__ internals>\u001b[0m in \u001b[0;36mdot\u001b[0;34m(*args, **kwargs)\u001b[0m\n",
      "\u001b[0;31mKeyboardInterrupt\u001b[0m: "
     ]
    }
   ],
   "source": [
    "from sklearn.neighbors import KNeighborsClassifier\n",
    "\n",
    "n_neighbors = [1,3,5,7,9]\n",
    "weights = ['uniform', 'distance']\n",
    "algorithm = ['auto', 'kd_tree']\n",
    "\n",
    "# Iterate through model parameters to optimize KNN model\n",
    "for i in n_neighbors:\n",
    "    for j in weights:\n",
    "        for k in algorithm:\n",
    "            KNN_clf = KNeighborsClassifier(n_neighbors = i, weights = j, algorithm = k, metric = \"euclidean\")\n",
    "            # Iterate through CV and get predictions\n",
    "            fold = 0\n",
    "            for train, test in cv.split(X1,y1):\n",
    "                fold += 1\n",
    "                KNN_clf.fit(X1[train],y1[train])\n",
    "                yhat1[test] = KNN_clf.predict(X1[test])\n",
    "                print(\"The overall classification accuracy for Fold \" + str(fold) + \" with \" + \n",
    "                      str(i) + \", \" + str(j) + \", \" + str(k) + \" is \" + str(accuracy_score(y1[test], yhat1[test])))"
   ]
  },
  {
   "cell_type": "markdown",
   "metadata": {},
   "source": [
    "##### Optimized Model"
   ]
  },
  {
   "cell_type": "code",
   "execution_count": null,
   "metadata": {},
   "outputs": [],
   "source": [
    "#KNN_clf1 = KNeighborsClassifier(n_neighbors = i, weights = j, algorithm = k, metric = \"euclidean\", random_state = 0)\n",
    "\n",
    "# Iterate through CV and get predictions\n",
    "fold = 0\n",
    "for train, test in cv.split(X1,y1):\n",
    "    fold += 1\n",
    "    KNN_clf1.fit(X1[train],y1[train])\n",
    "    yhat1[test] = KNN_clf1.predict(X1[test])\n",
    "    print(\"The precision for Fold \" + str(fold) + \" is \" + str(precision_score(y1[test], yhat1[test])))\n",
    "    print(\"The F-measure for Fold \" + str(fold) + \" is \" + str(f1_score(y1[test], yhat1[test])))"
   ]
  },
  {
   "cell_type": "markdown",
   "metadata": {},
   "source": [
    "### KNN: Superhost (Task 2)"
   ]
  },
  {
   "cell_type": "markdown",
   "metadata": {},
   "source": [
    "##### Parameter Optimization"
   ]
  },
  {
   "cell_type": "code",
   "execution_count": null,
   "metadata": {},
   "outputs": [],
   "source": [
    "n_neighbors = [1,3,5,7,9]\n",
    "weights = ['uniform', 'distance']\n",
    "algorithm = ['auto', 'kd_tree']\n",
    "\n",
    "# Iterate through model parameters to optimize KNN model\n",
    "for i in n_neighbors:\n",
    "    for j in weights:\n",
    "        for k in algorithm:\n",
    "            KNN_clf = KNeighborsClassifier(n_neighbors = i, weights = j, algorithm = k, metric = \"euclidean\", random_state = 0)\n",
    "            # Iterate through CV and get predictions\n",
    "            fold = 0\n",
    "            for train, test in cv.split(X2,y2):\n",
    "                fold += 1\n",
    "                KNN_clf.fit(X2[train],y2[train])\n",
    "                yhat2[test] = KNN_clf.predict(X2[test])\n",
    "                print(\"The overall classification accuracy for Fold \" + str(fold) + \" with \" + \n",
    "                      str(i) + \", \" + str(j) + \", \" + str(k) + \" is \" + str(accuracy_score(y2[test], yhat2[test])))"
   ]
  },
  {
   "cell_type": "markdown",
   "metadata": {},
   "source": [
    "##### Optimized Model"
   ]
  },
  {
   "cell_type": "code",
   "execution_count": null,
   "metadata": {},
   "outputs": [],
   "source": [
    "#KNN_clf2 = KNeighborsClassifier(n_neighbors = i, weights = j, algorithm = k, metric = \"euclidean\", random_state = 0)\n",
    "\n",
    "# Iterate through CV and get predictions\n",
    "fold = 0\n",
    "for train, test in cv.split(X2,y2):\n",
    "    fold += 1\n",
    "    KNN_clf2.fit(X2[train],y2[train])\n",
    "    yhat2[test] = KNN_clf2.predict(X2[test])\n",
    "    print(\"The overall classification accuracy for Fold \" + str(fold) + \" is \" + str(accuracy_score(y2[test], yhat2[test])))\n",
    "\n"
   ]
  },
  {
   "cell_type": "markdown",
   "metadata": {},
   "source": [
    "***"
   ]
  },
  {
   "cell_type": "markdown",
   "metadata": {},
   "source": [
    "# Modeling and Evaluation 4\n",
    "\n",
    "<i><b>10 pts.</b> Analyze the results using your chosen method of evaluation. Use visualizations of the results to bolster the analysis. Explain any visuals and analyze why they are interesting to someone that might use this model.</i>"
   ]
  },
  {
   "cell_type": "markdown",
   "metadata": {},
   "source": [
    "# Random Forest Evaluation"
   ]
  },
  {
   "cell_type": "markdown",
   "metadata": {},
   "source": [
    "Let's first check the accuracy of our random forest model for task one - this random forest permutates a number of decisions that could lead to a host receiving an A grade. "
   ]
  },
  {
   "cell_type": "code",
   "execution_count": 103,
   "metadata": {},
   "outputs": [
    {
     "data": {
      "text/plain": [
       "0.8346401812162397"
      ]
     },
     "execution_count": 103,
     "metadata": {},
     "output_type": "execute_result"
    }
   ],
   "source": [
    "rfc.score(X_testrf, y_testrf)"
   ]
  },
  {
   "cell_type": "markdown",
   "metadata": {},
   "source": [
    "This model generates an accuracy of 83.464%; however, this is not the only important metric from this model. Since this is an imbalanced classification, we should examine metrics that are insenstive to such imbalances. An ROC curve and AUC will suffice to demonstract if the accuracy belies an undesirable false positive rate, which would indicate poor precision."
   ]
  },
  {
   "cell_type": "code",
   "execution_count": 104,
   "metadata": {
    "scrolled": true
   },
   "outputs": [
    {
     "data": {
      "image/png": "[encoded data removed]",
      "text/plain": [
       "<Figure size 432x288 with 1 Axes>"
      ]
     },
     "metadata": {
      "needs_background": "light"
     },
     "output_type": "display_data"
    }
   ],
   "source": [
    "from sklearn.metrics import roc_curve, auc\n",
    "\n",
    "\n",
    "y_preds_proba = rfc.predict_proba(X=X_testrf)\n",
    "fpr, tpr, thresholds = roc_curve(y_testrf, y_preds_proba[:,1], pos_label='A')\n",
    "xx = np.arange(101) / float(100)\n",
    "rfc_auc = auc(fpr,tpr)\n",
    "\n",
    "plt.xlim(0, 1.0)\n",
    "plt.ylim(0, 1.25)\n",
    "plt.plot([0.0, 0.0], [0.0, 1.0], color='green', linewidth=8)\n",
    "plt.plot([0.0, 1.0], [1.0, 1.0], color='green', label='Perfect Model', linewidth=4)\n",
    "plt.plot(xx,xx, color='blue', label='Random Model')\n",
    "plt.plot(fpr,tpr, color='red', label='User Model')\n",
    "plt.title(\"ROC Curve - AUC value =\"+str(rfc_auc))\n",
    "plt.xlabel('% false positives')\n",
    "plt.ylabel('% true positives')\n",
    "plt.legend()\n",
    "plt.show()"
   ]
  },
  {
   "cell_type": "markdown",
   "metadata": {},
   "source": [
    "With an AUC of 0.6646, it appears our model has some capacity for class separation but not an extraordinary amount. In particular, higher accuracy generates higher false positive values, something to keep in mind if this model is taken to production. Finally, let's plot our feature importances."
   ]
  },
  {
   "cell_type": "code",
   "execution_count": 105,
   "metadata": {},
   "outputs": [
    {
     "data": {
      "text/plain": [
       "0.5753653444676409"
      ]
     },
     "execution_count": 105,
     "metadata": {},
     "output_type": "execute_result"
    }
   ],
   "source": [
    "rfc2.score(X_testrf2, y_testrf2)"
   ]
  },
  {
   "cell_type": "markdown",
   "metadata": {},
   "source": [
    "Much less accurate model at 57.537% accuracy. Again, this is not the complete picture - the ROC curve and AUC score will indicate if there is a precision tradeoff."
   ]
  },
  {
   "cell_type": "code",
   "execution_count": 106,
   "metadata": {},
   "outputs": [
    {
     "data": {
      "image/png": "[encoded data removed]",
      "text/plain": [
       "<Figure size 432x288 with 1 Axes>"
      ]
     },
     "metadata": {
      "needs_background": "light"
     },
     "output_type": "display_data"
    }
   ],
   "source": [
    "y_preds_proba2 = rfc2.predict_proba(X=X_testrf2)\n",
    "fpr2, tpr2, thresholds = roc_curve(y_testrf2, y_preds_proba2[:,1], pos_label=True)\n",
    "xx = np.arange(101) / float(100)\n",
    "rfc_auc2 = auc(fpr2,tpr2)\n",
    "\n",
    "plt.xlim(0, 1.0)\n",
    "plt.ylim(0, 1.25)\n",
    "plt.plot([0.0, 0.0], [0.0, 1.0], color='green', linewidth=8)\n",
    "plt.plot([0.0, 1.0], [1.0, 1.0], color='green', label='Perfect Model', linewidth=4)\n",
    "plt.plot(xx,xx, color='blue', label='Random Model')\n",
    "plt.plot(fpr2,tpr2, color='red', label='User Model')\n",
    "plt.title(\"ROC Curve - AUC value =\"+str(rfc_auc2))\n",
    "plt.xlabel('% false positives')\n",
    "plt.ylabel('% true positives')\n",
    "plt.legend()\n",
    "plt.show()"
   ]
  },
  {
   "cell_type": "markdown",
   "metadata": {},
   "source": [
    "With an AUC score very close to .5, this model has almost no capacity to distinguish positive classes. In other words, this random forest method behaves similar to a random state, and generates nearly as many false positives as true positives. Some insights into feature importance could indicate the reason for this. "
   ]
  },
  {
   "cell_type": "markdown",
   "metadata": {},
   "source": [
    "## KNN"
   ]
  },
  {
   "cell_type": "code",
   "execution_count": 107,
   "metadata": {
    "scrolled": true
   },
   "outputs": [
    {
     "data": {
      "text/html": [
       "<div>\n",
       "<style scoped>\n",
       "    .dataframe tbody tr th:only-of-type {\n",
       "        vertical-align: middle;\n",
       "    }\n",
       "\n",
       "    .dataframe tbody tr th {\n",
       "        vertical-align: top;\n",
       "    }\n",
       "\n",
       "    .dataframe thead th {\n",
       "        text-align: right;\n",
       "    }\n",
       "</style>\n",
       "<table border=\"1\" class=\"dataframe\">\n",
       "  <thead>\n",
       "    <tr style=\"text-align: right;\">\n",
       "      <th></th>\n",
       "      <th>Parameter Set</th>\n",
       "      <th>Mean Test Score</th>\n",
       "      <th>STD Test Score</th>\n",
       "      <th>Rank</th>\n",
       "    </tr>\n",
       "  </thead>\n",
       "  <tbody>\n",
       "    <tr>\n",
       "      <td>0</td>\n",
       "      <td>{'algorithm': 'auto', 'n_neighbors': 1, 'weigh...</td>\n",
       "      <td>0.853064</td>\n",
       "      <td>0.002655</td>\n",
       "      <td>1</td>\n",
       "    </tr>\n",
       "    <tr>\n",
       "      <td>1</td>\n",
       "      <td>{'algorithm': 'auto', 'n_neighbors': 1, 'weigh...</td>\n",
       "      <td>0.853064</td>\n",
       "      <td>0.002655</td>\n",
       "      <td>1</td>\n",
       "    </tr>\n",
       "    <tr>\n",
       "      <td>21</td>\n",
       "      <td>{'algorithm': 'kd_tree', 'n_neighbors': 1, 'we...</td>\n",
       "      <td>0.853064</td>\n",
       "      <td>0.002655</td>\n",
       "      <td>1</td>\n",
       "    </tr>\n",
       "    <tr>\n",
       "      <td>20</td>\n",
       "      <td>{'algorithm': 'kd_tree', 'n_neighbors': 1, 'we...</td>\n",
       "      <td>0.853064</td>\n",
       "      <td>0.002655</td>\n",
       "      <td>1</td>\n",
       "    </tr>\n",
       "    <tr>\n",
       "      <td>11</td>\n",
       "      <td>{'algorithm': 'ball_tree', 'n_neighbors': 1, '...</td>\n",
       "      <td>0.853064</td>\n",
       "      <td>0.002655</td>\n",
       "      <td>1</td>\n",
       "    </tr>\n",
       "    <tr>\n",
       "      <td>10</td>\n",
       "      <td>{'algorithm': 'ball_tree', 'n_neighbors': 1, '...</td>\n",
       "      <td>0.853064</td>\n",
       "      <td>0.002655</td>\n",
       "      <td>1</td>\n",
       "    </tr>\n",
       "    <tr>\n",
       "      <td>31</td>\n",
       "      <td>{'algorithm': 'brute', 'n_neighbors': 1, 'weig...</td>\n",
       "      <td>0.853046</td>\n",
       "      <td>0.002668</td>\n",
       "      <td>7</td>\n",
       "    </tr>\n",
       "    <tr>\n",
       "      <td>30</td>\n",
       "      <td>{'algorithm': 'brute', 'n_neighbors': 1, 'weig...</td>\n",
       "      <td>0.853046</td>\n",
       "      <td>0.002668</td>\n",
       "      <td>7</td>\n",
       "    </tr>\n",
       "    <tr>\n",
       "      <td>23</td>\n",
       "      <td>{'algorithm': 'kd_tree', 'n_neighbors': 3, 'we...</td>\n",
       "      <td>0.850668</td>\n",
       "      <td>0.002248</td>\n",
       "      <td>9</td>\n",
       "    </tr>\n",
       "    <tr>\n",
       "      <td>33</td>\n",
       "      <td>{'algorithm': 'brute', 'n_neighbors': 3, 'weig...</td>\n",
       "      <td>0.850668</td>\n",
       "      <td>0.002248</td>\n",
       "      <td>9</td>\n",
       "    </tr>\n",
       "  </tbody>\n",
       "</table>\n",
       "</div>"
      ],
      "text/plain": [
       "                                        Parameter Set  Mean Test Score  \\\n",
       "0   {'algorithm': 'auto', 'n_neighbors': 1, 'weigh...         0.853064   \n",
       "1   {'algorithm': 'auto', 'n_neighbors': 1, 'weigh...         0.853064   \n",
       "21  {'algorithm': 'kd_tree', 'n_neighbors': 1, 'we...         0.853064   \n",
       "20  {'algorithm': 'kd_tree', 'n_neighbors': 1, 'we...         0.853064   \n",
       "11  {'algorithm': 'ball_tree', 'n_neighbors': 1, '...         0.853064   \n",
       "10  {'algorithm': 'ball_tree', 'n_neighbors': 1, '...         0.853064   \n",
       "31  {'algorithm': 'brute', 'n_neighbors': 1, 'weig...         0.853046   \n",
       "30  {'algorithm': 'brute', 'n_neighbors': 1, 'weig...         0.853046   \n",
       "23  {'algorithm': 'kd_tree', 'n_neighbors': 3, 'we...         0.850668   \n",
       "33  {'algorithm': 'brute', 'n_neighbors': 3, 'weig...         0.850668   \n",
       "\n",
       "    STD Test Score  Rank  \n",
       "0         0.002655     1  \n",
       "1         0.002655     1  \n",
       "21        0.002655     1  \n",
       "20        0.002655     1  \n",
       "11        0.002655     1  \n",
       "10        0.002655     1  \n",
       "31        0.002668     7  \n",
       "30        0.002668     7  \n",
       "23        0.002248     9  \n",
       "33        0.002248     9  "
      ]
     },
     "execution_count": 107,
     "metadata": {},
     "output_type": "execute_result"
    }
   ],
   "source": [
    "# Task 1: Grade grouping\n",
    "knn_scores_list = list(zip(grid_knn.cv_results_['params'], grid_knn.cv_results_['mean_test_score'],\n",
    "                          grid_knn.cv_results_['std_test_score'], grid_knn.cv_results_['rank_test_score'])) \n",
    "\n",
    "knn_scores_pd = pd.DataFrame(knn_scores_list, columns = ['Parameter Set', 'Mean Test Score',\n",
    "                                                        'STD Test Score', 'Rank'])\n",
    "knn_scores_pd.sort_values(by=['Rank']).head(10)"
   ]
  },
  {
   "cell_type": "code",
   "execution_count": 108,
   "metadata": {},
   "outputs": [
    {
     "data": {
      "text/html": [
       "<div>\n",
       "<style scoped>\n",
       "    .dataframe tbody tr th:only-of-type {\n",
       "        vertical-align: middle;\n",
       "    }\n",
       "\n",
       "    .dataframe tbody tr th {\n",
       "        vertical-align: top;\n",
       "    }\n",
       "\n",
       "    .dataframe thead th {\n",
       "        text-align: right;\n",
       "    }\n",
       "</style>\n",
       "<table border=\"1\" class=\"dataframe\">\n",
       "  <thead>\n",
       "    <tr style=\"text-align: right;\">\n",
       "      <th></th>\n",
       "      <th>Parameter Set</th>\n",
       "      <th>Mean Test Score</th>\n",
       "      <th>STD Test Score</th>\n",
       "      <th>Rank</th>\n",
       "    </tr>\n",
       "  </thead>\n",
       "  <tbody>\n",
       "    <tr>\n",
       "      <td>23</td>\n",
       "      <td>{'algorithm': 'kd_tree', 'n_neighbors': 3, 'we...</td>\n",
       "      <td>0.431503</td>\n",
       "      <td>0.006819</td>\n",
       "      <td>1</td>\n",
       "    </tr>\n",
       "    <tr>\n",
       "      <td>13</td>\n",
       "      <td>{'algorithm': 'ball_tree', 'n_neighbors': 3, '...</td>\n",
       "      <td>0.431503</td>\n",
       "      <td>0.006819</td>\n",
       "      <td>1</td>\n",
       "    </tr>\n",
       "    <tr>\n",
       "      <td>3</td>\n",
       "      <td>{'algorithm': 'auto', 'n_neighbors': 3, 'weigh...</td>\n",
       "      <td>0.431503</td>\n",
       "      <td>0.006819</td>\n",
       "      <td>1</td>\n",
       "    </tr>\n",
       "    <tr>\n",
       "      <td>33</td>\n",
       "      <td>{'algorithm': 'brute', 'n_neighbors': 3, 'weig...</td>\n",
       "      <td>0.431448</td>\n",
       "      <td>0.006825</td>\n",
       "      <td>4</td>\n",
       "    </tr>\n",
       "    <tr>\n",
       "      <td>12</td>\n",
       "      <td>{'algorithm': 'ball_tree', 'n_neighbors': 3, '...</td>\n",
       "      <td>0.430571</td>\n",
       "      <td>0.007790</td>\n",
       "      <td>5</td>\n",
       "    </tr>\n",
       "    <tr>\n",
       "      <td>2</td>\n",
       "      <td>{'algorithm': 'auto', 'n_neighbors': 3, 'weigh...</td>\n",
       "      <td>0.430571</td>\n",
       "      <td>0.007790</td>\n",
       "      <td>5</td>\n",
       "    </tr>\n",
       "    <tr>\n",
       "      <td>22</td>\n",
       "      <td>{'algorithm': 'kd_tree', 'n_neighbors': 3, 'we...</td>\n",
       "      <td>0.430571</td>\n",
       "      <td>0.007790</td>\n",
       "      <td>5</td>\n",
       "    </tr>\n",
       "    <tr>\n",
       "      <td>32</td>\n",
       "      <td>{'algorithm': 'brute', 'n_neighbors': 3, 'weig...</td>\n",
       "      <td>0.430516</td>\n",
       "      <td>0.007802</td>\n",
       "      <td>8</td>\n",
       "    </tr>\n",
       "    <tr>\n",
       "      <td>36</td>\n",
       "      <td>{'algorithm': 'brute', 'n_neighbors': 7, 'weig...</td>\n",
       "      <td>0.430348</td>\n",
       "      <td>0.008684</td>\n",
       "      <td>9</td>\n",
       "    </tr>\n",
       "    <tr>\n",
       "      <td>16</td>\n",
       "      <td>{'algorithm': 'ball_tree', 'n_neighbors': 7, '...</td>\n",
       "      <td>0.430321</td>\n",
       "      <td>0.008643</td>\n",
       "      <td>10</td>\n",
       "    </tr>\n",
       "  </tbody>\n",
       "</table>\n",
       "</div>"
      ],
      "text/plain": [
       "                                        Parameter Set  Mean Test Score  \\\n",
       "23  {'algorithm': 'kd_tree', 'n_neighbors': 3, 'we...         0.431503   \n",
       "13  {'algorithm': 'ball_tree', 'n_neighbors': 3, '...         0.431503   \n",
       "3   {'algorithm': 'auto', 'n_neighbors': 3, 'weigh...         0.431503   \n",
       "33  {'algorithm': 'brute', 'n_neighbors': 3, 'weig...         0.431448   \n",
       "12  {'algorithm': 'ball_tree', 'n_neighbors': 3, '...         0.430571   \n",
       "2   {'algorithm': 'auto', 'n_neighbors': 3, 'weigh...         0.430571   \n",
       "22  {'algorithm': 'kd_tree', 'n_neighbors': 3, 'we...         0.430571   \n",
       "32  {'algorithm': 'brute', 'n_neighbors': 3, 'weig...         0.430516   \n",
       "36  {'algorithm': 'brute', 'n_neighbors': 7, 'weig...         0.430348   \n",
       "16  {'algorithm': 'ball_tree', 'n_neighbors': 7, '...         0.430321   \n",
       "\n",
       "    STD Test Score  Rank  \n",
       "23        0.006819     1  \n",
       "13        0.006819     1  \n",
       "3         0.006819     1  \n",
       "33        0.006825     4  \n",
       "12        0.007790     5  \n",
       "2         0.007790     5  \n",
       "22        0.007790     5  \n",
       "32        0.007802     8  \n",
       "36        0.008684     9  \n",
       "16        0.008643    10  "
      ]
     },
     "execution_count": 108,
     "metadata": {},
     "output_type": "execute_result"
    }
   ],
   "source": [
    "# Task 2: Superhost\n",
    "knn_scores_super_list = list(zip(grid_knn_super.cv_results_['params'], grid_knn_super.cv_results_['mean_test_score'],\n",
    "                          grid_knn_super.cv_results_['std_test_score'], grid_knn_super.cv_results_['rank_test_score'])) \n",
    "\n",
    "knn_scores_super_pd = pd.DataFrame(knn_scores_super_list, columns = ['Parameter Set', 'Mean Test Score',\n",
    "                                                        'STD Test Score', 'Rank'])\n",
    "knn_scores_super_pd.sort_values(by=['Rank']).head(10)"
   ]
  },
  {
   "cell_type": "code",
   "execution_count": 109,
   "metadata": {},
   "outputs": [
    {
     "data": {
      "image/png": "[encoded data removed]",
      "text/plain": [
       "<Figure size 432x288 with 1 Axes>"
      ]
     },
     "metadata": {
      "needs_background": "light"
     },
     "output_type": "display_data"
    }
   ],
   "source": [
    "plt.bar(range(len(grid_knn.cv_results_['params'])), grid_knn.cv_results_['mean_test_score'])\n",
    "plt.title('KNN Task 1: 10-Fold CV Scores')\n",
    "plt.xlabel('Parameter Set Index')\n",
    "plt.ylabel('Mean Precision')\n",
    "plt.show()"
   ]
  },
  {
   "cell_type": "code",
   "execution_count": 110,
   "metadata": {},
   "outputs": [
    {
     "data": {
      "image/png": "[encoded data removed]",
      "text/plain": [
       "<Figure size 432x288 with 1 Axes>"
      ]
     },
     "metadata": {
      "needs_background": "light"
     },
     "output_type": "display_data"
    }
   ],
   "source": [
    "plt.bar(range(len(grid_knn_super.cv_results_['params'])), grid_knn_super.cv_results_['mean_test_score'])\n",
    "plt.title('KNN Task 2: 10-Fold CV Scores')\n",
    "plt.xlabel('Parameter Set Index')\n",
    "plt.ylabel('Mean Precision')\n",
    "plt.show()"
   ]
  },
  {
   "cell_type": "markdown",
   "metadata": {},
   "source": [
    "GridSearch for KNN resulted in a best mean precision of 0.85318 for Task 1 and 0.431041 for Task 2. Despite the graphs above having similar shapes, the y-axis ranges reveal that KNN performed rather poorly on Task 2 for some reason. It's notable that the bar heights within each chart are relatively similar. Tuning the parameters within each model by changing things such as the algorithm or value of K resulted in very minor increases of predictive power on the test folds. \n",
    "\n",
    "In lieu of a scree plot on K alone, the top rows in the GridSearch tables tell the story that, even with other parameters in the sets changing, certain values of K seemed to be most optimal for each task. In particular, all eight sets using K=1 swept the highest mean precision scores for Task 1, meaning that those models only considered the closest neighbor to make a classification decision. Meanwhile, Task 2 had its highest mean precision scores with K=3."
   ]
  },
  {
   "cell_type": "markdown",
   "metadata": {},
   "source": [
    "***"
   ]
  },
  {
   "cell_type": "markdown",
   "metadata": {},
   "source": [
    "# Modeling and Evaluation 5\n",
    "\n",
    "<i><b>10 pts.</b> Discuss the advantages of each model for each classification task, if any. If there are not advantages, explain why. Is any model better than another? Is the difference significant with 95% confidence? Use proper statistical comparison methods. You must use statistical comparison techniques—be sure they are appropriate for your chosen method of validation as discussed in unit 7 of the course.</i>"
   ]
  },
  {
   "cell_type": "markdown",
   "metadata": {},
   "source": [
    "Most advantages and disadvantages of the random forest model are the same as found in this method in general - it could easily be re-trained on any sample. If we were to localize the sample to a different city or type of listing this model would translate well; however, the accuracy and precision would be about the same regardless of the data. As we saw, the precision was not great, especially on task 2 (close to random state with AUC of ~.5). So while this method would be computationally efficient and easy to scale, it would also generate very imprecise responses, especially where superhosts are concerned."
   ]
  },
  {
   "cell_type": "markdown",
   "metadata": {},
   "source": [
    "<font color='red'>Logistic Regression has the advantage of giving coefficients, which can be interpretted as log odds and also give probabilities for a certain combination of variables. However, even though all our coefficients were significant in the logistic regression model, our overall model did a terrible job of predicting the below A class due to the class imbalance. </font>\n",
    "\n",
    "For KNN, predictive performance for the grade classification task was approximately on par with logistic regression; the best mean precision on a 10-fold cross-validation given the grid of available parameters was 0.85317. However, performance on the superhost classification task was distinctly worse, with the best mean precision being only 0.43104."
   ]
  },
  {
   "cell_type": "code",
   "execution_count": 112,
   "metadata": {},
   "outputs": [
    {
     "name": "stdout",
     "output_type": "stream",
     "text": [
      "Mean accuracy of Random Forest for task 1 is  0.8346024541652115\n",
      "Mean accuracy of Logistic Regression for task 1 is  0.8338531734553796\n",
      "Mean accuracy of KNN for task 1 is  0.8192510681646945\n"
     ]
    },
    {
     "data": {
      "image/png": "[encoded data removed]",
      "text/plain": [
       "<Figure size 432x288 with 1 Axes>"
      ]
     },
     "metadata": {
      "needs_background": "light"
     },
     "output_type": "display_data"
    }
   ],
   "source": [
    "#task 1\n",
    "from sklearn.model_selection import cross_val_score\n",
    "from sklearn.metrics import confusion_matrix\n",
    "\n",
    "cv=StratifiedKFold(n_splits=10)\n",
    "models_and_accuracy = []\n",
    "acc1 = cross_val_score(rfc, X1, y=y1, cv=cv)\n",
    "acc2 = cross_val_score(lr_clf, X1, y=y1, cv=cv)\n",
    "acc3 = cross_val_score(clf, X1, y=y1, cv=cv)\n",
    "\n",
    "#=================================\n",
    "\n",
    "print ('Mean accuracy of Random Forest for task 1 is ',np.mean(acc1))\n",
    "print ('Mean accuracy of Logistic Regression for task 1 is ',np.mean(acc2))\n",
    "print ('Mean accuracy of KNN for task 1 is ',np.mean(acc3))\n",
    "\n",
    "#===============================\n",
    "cm = confusion_matrix(y1, yhat1)\n",
    "cm_normalized = cm.astype('float') / cm.sum(axis=1)[:, np.newaxis]\n",
    "plt.imshow(cm_normalized,cmap=plt.get_cmap('Reds'),aspect='auto')\n",
    "plt.grid(False)"
   ]
  },
  {
   "cell_type": "code",
   "execution_count": 135,
   "metadata": {},
   "outputs": [
    {
     "name": "stdout",
     "output_type": "stream",
     "text": [
      "CI for Random Forest/Logistic Regression Comparison, Task 1: [-2.99672307e-05 -4.47503765e-04 -4.47503765e-04 -2.38735498e-04\n",
      " -2.99672307e-05 -1.07380857e-03 -2.38735498e-04 -4.47503765e-04\n",
      "  1.78888223e-04 -2.98800259e-05] [ 4.47503765e-04  2.99672307e-05  2.99672307e-05  2.38735498e-04\n",
      "  4.47503765e-04 -5.96337571e-04  2.38735498e-04  2.99672307e-05\n",
      "  6.56359219e-04  4.47590970e-04]\n",
      "CI for Logistic Regression/KNN Comparison, Task 1: [-0.05113357 -0.05677031 -0.06031937 -0.05113357 -0.05906676 -0.04382668\n",
      " -0.05530893 -0.0594843  -0.04968183 -0.05303315] [-0.04406476 -0.0497015  -0.05325056 -0.04406476 -0.05199796 -0.03675787\n",
      " -0.04824013 -0.05241549 -0.04261302 -0.04596434]\n",
      "CI for Random Forest/KNN Comparison, Task 1: [-0.05087622 -0.0569305  -0.06047956 -0.05108498 -0.05880941 -0.04461317\n",
      " -0.05526035 -0.05964448 -0.04921562 -0.05277571] [-0.04390458 -0.04995886 -0.05350792 -0.04411335 -0.05183777 -0.03764153\n",
      " -0.04828871 -0.05267284 -0.04224398 -0.04580407]\n"
     ]
    }
   ],
   "source": [
    "#Confidence intervals for task 1\n",
    "\n",
    "t = 2.26 / np.sqrt(10)\n",
    "\n",
    "e1 = (1-acc1)-(1-acc2)\n",
    "e2 = (1-acc2)-(1-acc3)\n",
    "e3 = (1-acc1)-(1-acc3)\n",
    "\n",
    "stdtot1 = np.std(e1)\n",
    "stdtot2 = np.std(e2)\n",
    "stdtot3 = np.std(e3)\n",
    "\n",
    "# dbar = np.mean(e)\n",
    "print ('CI for Random Forest/Logistic Regression Comparison, Task 1:', e1-t*stdtot1,e1+t*stdtot1 )\n",
    "print ('CI for Logistic Regression/KNN Comparison, Task 1:', e2-t*stdtot2,e2+t*stdtot2 )\n",
    "print ('CI for Random Forest/KNN Comparison, Task 1:', e3-t*stdtot3,e3+t*stdtot3)"
   ]
  },
  {
   "cell_type": "markdown",
   "metadata": {},
   "source": [
    "As we had mentioned before, we are using 10 fold stratified cross validation on these models to account for the imbalanced classifications. With accuracies between 81 and 83% for each model, it would appear that each of these models performs similarly across each fold. Confidence intervals confirm this, which each comparison being very narrow and containing 0."
   ]
  },
  {
   "cell_type": "code",
   "execution_count": 116,
   "metadata": {},
   "outputs": [
    {
     "name": "stdout",
     "output_type": "stream",
     "text": [
      "Mean accuracy of Random Forest for task 2 is  0.5753596256853133\n",
      "Mean accuracy of Logistic Regression for task 2 is  0.5753178894710056\n",
      "Mean accuracy of KNN for task 2 is  0.5248764459445985\n"
     ]
    },
    {
     "data": {
      "image/png": "[encoded data removed]",
      "text/plain": [
       "<Figure size 432x288 with 1 Axes>"
      ]
     },
     "metadata": {
      "needs_background": "light"
     },
     "output_type": "display_data"
    }
   ],
   "source": [
    "lr_clf = LogisticRegression(penalty='l2', C=1.0, class_weight=None, solver='liblinear' ) \n",
    "lr_clf.fit(X_train, y_train)\n",
    "#confidence intervals for task 2\n",
    "cv=StratifiedKFold(n_splits=10)\n",
    "acc1 = cross_val_score(rfc2, X2, y=y2, cv=cv)\n",
    "acc2 = cross_val_score(lr_clf, X2, y=y2, cv=cv)\n",
    "acc3 = cross_val_score(knn, X2, y=y2, cv=cv)\n",
    "\n",
    "#=================================\n",
    "\n",
    "print ('Mean accuracy of Random Forest for task 2 is ',np.mean(acc1))\n",
    "print ('Mean accuracy of Logistic Regression for task 2 is ',np.mean(acc2))\n",
    "print ('Mean accuracy of KNN for task 2 is ',np.mean(acc3))\n",
    "\n",
    "#===============================\n",
    "cm = confusion_matrix(y2, yhat2)\n",
    "cm_normalized = cm.astype('float') / cm.sum(axis=1)[:, np.newaxis]\n",
    "plt.imshow(cm_normalized,cmap=plt.get_cmap('Reds'),aspect='auto')\n",
    "plt.grid(False)"
   ]
  },
  {
   "cell_type": "code",
   "execution_count": 134,
   "metadata": {},
   "outputs": [
    {
     "name": "stdout",
     "output_type": "stream",
     "text": [
      "CI for Random Forest/Logistic Regression Comparison, Task 2: [-2.99672307e-05 -4.47503765e-04 -4.47503765e-04 -2.38735498e-04\n",
      " -2.99672307e-05 -1.07380857e-03 -2.38735498e-04 -4.47503765e-04\n",
      "  1.78888223e-04 -2.98800259e-05] [ 4.47503765e-04  2.99672307e-05  2.99672307e-05  2.38735498e-04\n",
      "  4.47503765e-04 -5.96337571e-04  2.38735498e-04  2.99672307e-05\n",
      "  6.56359219e-04  4.47590970e-04]\n",
      "CI for Logistic Regression/KNN Comparison, Task 2: [-0.05113357 -0.05677031 -0.06031937 -0.05113357 -0.05906676 -0.04382668\n",
      " -0.05530893 -0.0594843  -0.04968183 -0.05303315] [-0.04406476 -0.0497015  -0.05325056 -0.04406476 -0.05199796 -0.03675787\n",
      " -0.04824013 -0.05241549 -0.04261302 -0.04596434]\n",
      "CI for Random Forest/KNN Comparison, Task 2: [-0.05087622 -0.0569305  -0.06047956 -0.05108498 -0.05880941 -0.04461317\n",
      " -0.05526035 -0.05964448 -0.04921562 -0.05277571] [-0.04390458 -0.04995886 -0.05350792 -0.04411335 -0.05183777 -0.03764153\n",
      " -0.04828871 -0.05267284 -0.04224398 -0.04580407]\n"
     ]
    }
   ],
   "source": [
    "t = 2.26 / np.sqrt(10)\n",
    "\n",
    "e1 = (1-acc1)-(1-acc2)\n",
    "e2 = (1-acc2)-(1-acc3)\n",
    "e3 = (1-acc1)-(1-acc3)\n",
    "\n",
    "stdtot1 = np.std(e1)\n",
    "stdtot2 = np.std(e2)\n",
    "stdtot3 = np.std(e3)\n",
    "\n",
    "# dbar = np.mean(e)\n",
    "print ('CI for Random Forest/Logistic Regression Comparison, Task 2:', e1-t*stdtot1,e1+t*stdtot1 )\n",
    "print ('CI for Logistic Regression/KNN Comparison, Task 2:', e2-t*stdtot2,e2+t*stdtot2 )\n",
    "print ('CI for Random Forest/KNN Comparison, Task 2:', e3-t*stdtot3,e3+t*stdtot3)"
   ]
  },
  {
   "cell_type": "markdown",
   "metadata": {},
   "source": [
    "We see a similar case in task 2. While there appears to be a larger discrepancy in performance when comparing KNN to the rest of the models, it is not large enough to be statistically significant, as both CI's contain 0 when compared to the other two models."
   ]
  },
  {
   "cell_type": "markdown",
   "metadata": {},
   "source": [
    "***"
   ]
  },
  {
   "cell_type": "markdown",
   "metadata": {},
   "source": [
    "# Modeling and Evaluation 6\n",
    "\n",
    "<i><b>10 pts.</b> Which attributes from your analysis are most important? Use proper methods discussed in class to evaluate the importance of different attributes. Discuss the results and hypothesize about why certain attributes are more important than others for a given classification task.</i>"
   ]
  },
  {
   "cell_type": "code",
   "execution_count": 117,
   "metadata": {},
   "outputs": [
    {
     "name": "stdout",
     "output_type": "stream",
     "text": [
      "Feature ranking:\n",
      "1. feature 6 (0.232093)\n",
      "2. feature 12 (0.189276)\n",
      "3. feature 11 (0.116710)\n",
      "4. feature 0 (0.110756)\n",
      "5. feature 7 (0.083437)\n",
      "6. feature 14 (0.052620)\n",
      "7. feature 8 (0.048413)\n",
      "8. feature 24 (0.040697)\n",
      "9. feature 26 (0.033344)\n",
      "10. feature 20 (0.020878)\n",
      "11. feature 13 (0.016026)\n",
      "12. feature 5 (0.011226)\n",
      "13. feature 1 (0.009463)\n",
      "14. feature 18 (0.008711)\n",
      "15. feature 27 (0.007706)\n",
      "16. feature 10 (0.004844)\n",
      "17. feature 35 (0.004298)\n",
      "18. feature 25 (0.003184)\n",
      "19. feature 2 (0.003104)\n",
      "20. feature 3 (0.001826)\n",
      "21. feature 28 (0.001387)\n",
      "22. feature 19 (0.000000)\n",
      "23. feature 30 (0.000000)\n",
      "24. feature 33 (0.000000)\n",
      "25. feature 4 (0.000000)\n",
      "26. feature 32 (0.000000)\n",
      "27. feature 31 (0.000000)\n",
      "28. feature 9 (0.000000)\n",
      "29. feature 29 (0.000000)\n",
      "30. feature 34 (0.000000)\n",
      "31. feature 23 (0.000000)\n",
      "32. feature 22 (0.000000)\n",
      "33. feature 21 (0.000000)\n",
      "34. feature 15 (0.000000)\n",
      "35. feature 16 (0.000000)\n",
      "36. feature 17 (0.000000)\n"
     ]
    },
    {
     "data": {
      "image/png": "[encoded data removed]",
      "text/plain": [
       "<Figure size 432x288 with 1 Axes>"
      ]
     },
     "metadata": {
      "needs_background": "light"
     },
     "output_type": "display_data"
    },
    {
     "name": "stdout",
     "output_type": "stream",
     "text": [
      "host_response_rate                     0.232093\n",
      "length_amenities                       0.189276\n",
      "price                                  0.116710\n",
      "log_price                              0.110756\n",
      "instant_bookable                       0.083437\n",
      "TV                                     0.052620\n",
      "number_of_reviews                      0.048413\n",
      "city_NYC                               0.040697\n",
      "cancellation_policy_moderate           0.033344\n",
      "host_since_days                        0.020878\n",
      "internet                               0.016026\n",
      "host_identity_verified                 0.011226\n",
      "accommodates                           0.009463\n",
      "parking                                0.008711\n",
      "cancellation_policy_strict             0.007706\n",
      "beds                                   0.004844\n",
      "room_type_Shared room                  0.004298\n",
      "city_SF                                0.003184\n",
      "bathrooms                              0.003104\n",
      "cleaning_fee                           0.001826\n",
      "cancellation_policy_super_strict_30    0.001387\n",
      "superuser                              0.000000\n",
      "bed_type_Couch                         0.000000\n",
      "bed_type_Real Bed                      0.000000\n",
      "host_has_profile_pic                   0.000000\n",
      "bed_type_Pull-out Sofa                 0.000000\n",
      "bed_type_Futon                         0.000000\n",
      "bedrooms                               0.000000\n",
      "cancellation_policy_super_strict_60    0.000000\n",
      "room_type_Private room                 0.000000\n",
      "city_LA                                0.000000\n",
      "city_DC                                0.000000\n",
      "city_Chicago                           0.000000\n",
      "air_conditioning                       0.000000\n",
      "kitchen                                0.000000\n",
      "pool                                   0.000000\n",
      "dtype: float64\n"
     ]
    }
   ],
   "source": [
    "importances = rfc.feature_importances_\n",
    "std = np.std([tree.feature_importances_ for tree in rfc.estimators_],\n",
    "             axis=0)\n",
    "indices = np.argsort(importances)[::-1]\n",
    "\n",
    "print(\"Feature ranking:\")\n",
    "\n",
    "for f in range(X_testrf.shape[1]):\n",
    "    print(\"%d. feature %d (%f)\" % (f + 1, indices[f], importances[indices[f]]))\n",
    "\n",
    "# Plot the feature importances of the forest\n",
    "plt.figure()\n",
    "plt.title(\"Feature importances\")\n",
    "plt.bar(range(X_testrf.shape[1]), importances[indices],\n",
    "       color=\"r\", yerr=std[indices], align=\"center\")\n",
    "plt.xticks(range(X_testrf.shape[1]), indices)\n",
    "plt.xlim([-1, X_testrf.shape[1]])\n",
    "plt.show()\n",
    "\n",
    "feature_df = df_final.drop(['grade_grouped'],axis=1)\n",
    "important_features = pd.Series(data=rfc.feature_importances_,index=feature_df.columns)\n",
    "important_features.sort_values(ascending=False,inplace=True)\n",
    "print(important_features)"
   ]
  },
  {
   "cell_type": "markdown",
   "metadata": {},
   "source": [
    "It appears that four of our features such as the description of amenities, responsiveness of the host, and of course the price, are informative of the model, while the rest are less so. Let's examine the other model. Task 2 involves subsetting the A grade and determining the probability a user will become a superuser (grade 96 or higher). We used the same type of model, so let's gather similar metrics."
   ]
  },
  {
   "cell_type": "code",
   "execution_count": 118,
   "metadata": {},
   "outputs": [
    {
     "name": "stdout",
     "output_type": "stream",
     "text": [
      "Feature ranking:\n",
      "1. feature 0 (0.128049)\n",
      "2. feature 11 (0.121119)\n",
      "3. feature 19 (0.110104)\n",
      "4. feature 8 (0.095137)\n",
      "5. feature 12 (0.094657)\n",
      "6. feature 2 (0.062310)\n",
      "7. feature 6 (0.055745)\n",
      "8. feature 1 (0.051875)\n",
      "9. feature 10 (0.050816)\n",
      "10. feature 9 (0.048609)\n",
      "11. feature 23 (0.016702)\n",
      "12. feature 5 (0.014231)\n",
      "13. feature 25 (0.014079)\n",
      "14. feature 18 (0.013367)\n",
      "15. feature 27 (0.012039)\n",
      "16. feature 33 (0.011788)\n",
      "17. feature 24 (0.010266)\n",
      "18. feature 34 (0.010191)\n",
      "19. feature 29 (0.009780)\n",
      "20. feature 13 (0.009104)\n",
      "21. feature 4 (0.008601)\n",
      "22. feature 15 (0.007952)\n",
      "23. feature 26 (0.007130)\n",
      "24. feature 21 (0.006813)\n",
      "25. feature 3 (0.006599)\n",
      "26. feature 28 (0.004571)\n",
      "27. feature 14 (0.004350)\n",
      "28. feature 22 (0.003552)\n",
      "29. feature 7 (0.003518)\n",
      "30. feature 31 (0.003257)\n",
      "31. feature 30 (0.002843)\n",
      "32. feature 32 (0.000847)\n",
      "33. feature 16 (0.000000)\n",
      "34. feature 20 (0.000000)\n",
      "35. feature 17 (0.000000)\n"
     ]
    },
    {
     "data": {
      "image/png": "[encoded data removed]",
      "text/plain": [
       "<Figure size 432x288 with 1 Axes>"
      ]
     },
     "metadata": {
      "needs_background": "light"
     },
     "output_type": "display_data"
    },
    {
     "name": "stdout",
     "output_type": "stream",
     "text": [
      "log_price                              0.128049\n",
      "price                                  0.121119\n",
      "host_since_days                        0.110104\n",
      "number_of_reviews                      0.095137\n",
      "length_amenities                       0.094657\n",
      "bathrooms                              0.062310\n",
      "host_response_rate                     0.055745\n",
      "accommodates                           0.051875\n",
      "beds                                   0.050816\n",
      "bedrooms                               0.048609\n",
      "city_NYC                               0.016702\n",
      "host_identity_verified                 0.014231\n",
      "cancellation_policy_moderate           0.014079\n",
      "parking                                0.013367\n",
      "cancellation_policy_super_strict_30    0.012039\n",
      "room_type_Private room                 0.011788\n",
      "city_SF                                0.010266\n",
      "room_type_Shared room                  0.010191\n",
      "bed_type_Couch                         0.009780\n",
      "internet                               0.009104\n",
      "host_has_profile_pic                   0.008601\n",
      "air_conditioning                       0.007952\n",
      "cancellation_policy_strict             0.007130\n",
      "city_DC                                0.006813\n",
      "cleaning_fee                           0.006599\n",
      "cancellation_policy_super_strict_60    0.004571\n",
      "TV                                     0.004350\n",
      "city_LA                                0.003552\n",
      "instant_bookable                       0.003518\n",
      "bed_type_Pull-out Sofa                 0.003257\n",
      "bed_type_Futon                         0.002843\n",
      "bed_type_Real Bed                      0.000847\n",
      "kitchen                                0.000000\n",
      "city_Chicago                           0.000000\n",
      "pool                                   0.000000\n",
      "dtype: float64\n"
     ]
    }
   ],
   "source": [
    "importances = rfc2.feature_importances_\n",
    "std = np.std([tree.feature_importances_ for tree in rfc2.estimators_],\n",
    "             axis=0)\n",
    "indices = np.argsort(importances)[::-1]\n",
    "\n",
    "print(\"Feature ranking:\")\n",
    "\n",
    "for f in range(X_testrf2.shape[1]):\n",
    "    print(\"%d. feature %d (%f)\" % (f + 1, indices[f], importances[indices[f]]))\n",
    "\n",
    "# Plot the feature importances of the forest\n",
    "plt.figure()\n",
    "plt.title(\"Feature importances\")\n",
    "plt.bar(range(X_testrf2.shape[1]), importances[indices],\n",
    "       color=\"r\", yerr=std[indices], align=\"center\")\n",
    "plt.xticks(range(X_testrf2.shape[1]), indices)\n",
    "plt.xlim([-1, X_testrf2.shape[1]])\n",
    "plt.show()\n",
    "\n",
    "feature_df = df_final.drop(['superuser','grade_grouped'],axis=1)\n",
    "important_features = pd.Series(data=rfc2.feature_importances_,index=feature_df.columns)\n",
    "important_features.sort_values(ascending=False,inplace=True)\n",
    "print(important_features)"
   ]
  },
  {
   "cell_type": "markdown",
   "metadata": {},
   "source": [
    "Feature 0, confirmed to be log_price has considerable leverage, with several features such as bathrooms and number of accommodations, as well as the hosts length of activity and number of reviews having roughly even importances. With this many features with roughly even mean accuracy decreases, it's hard to say if any one feature could influence the model. Given all this information, using random forest to predict superuser status may not be feasible."
   ]
  },
  {
   "cell_type": "code",
   "execution_count": null,
   "metadata": {},
   "outputs": [],
   "source": [
    "#feature importance from RF, iterate/optimize K neighbors, f test on regression"
   ]
  },
  {
   "cell_type": "markdown",
   "metadata": {},
   "source": [
    "<font color='red'>Logistic regression does not have explicit feature importance. A feature is considered importnat if its coefficient is significant in the logistic regression model.</font>\n",
    "\n",
    "A downside to KNN is that the algorithm does not directly provide a way to determine feature importance. When considering distances in multidimensional space, one would need to somehow calculate which attributes have the strongest influence in similarly classified data points being located near each other. The number of neighbors to consider is very important in this regard, and using GridSearch helped identify optimal k to eke out increased predictive power. The grade task ended up with multiple optimally performing parameter sets, but their shared feature was that they all used K = 1. The superhost task, which KNN performed poorly on, landed on K = 3."
   ]
  },
  {
   "cell_type": "code",
   "execution_count": null,
   "metadata": {},
   "outputs": [],
   "source": [
    "# Hold space for code"
   ]
  },
  {
   "cell_type": "markdown",
   "metadata": {},
   "source": [
    "***"
   ]
  },
  {
   "cell_type": "markdown",
   "metadata": {},
   "source": [
    "# Deployment\n",
    "\n",
    "<i><b>5 pts.</b> How useful is your model for interested parties (i.e., the companies or organizations that might want to use it for prediction)? How would you measure the model's value if it was used by these parties? How would you deploy your model for interested parties? What other data should be collected? How often would the model need to be updated, etc.?</i>"
   ]
  },
  {
   "cell_type": "code",
   "execution_count": null,
   "metadata": {},
   "outputs": [],
   "source": [
    "#clarify in class, explaining profit to shareholders (superhosts provide more to Airbnb than regular hosts, we can identify users that meet those requirements and can actively recruit for the program)"
   ]
  },
  {
   "cell_type": "markdown",
   "metadata": {},
   "source": [
    "The main beneficiary for this classification exercise (particularly for the stricter superhost category, as opposed to the bucketed A grade) would likely be Airbnb itself. With their track record for exemplary service, superhosts are trusted hosts who are likely to provide guests with a great experience, thus maintaining \n",
    "\n",
    "Assuming that feature importance can parse out specifics, if Airbnb shared which attributes are likely predictors for superhosts (aside from those already required to earn the designation, such as maintaining a high average rating and response rate), this could also benefit hosts striving for that status by suggesting what could be improved to increase the likelihood of receiving good reviews. Potential guests would likely include superhost itself as a criterion in their search. If superhosts in their needed location are unavailable, perhaps knowing other strong predictors for a good experience, aside from rating, could give them better confidence in making a choice.\n",
    "\n",
    "Specific feature importance revealed factors such as price, amenities, and host responsiveness to be key in a host's success on the platform. Airbnb could invest in a hosting toolkit for dedicated users, including things like determining price based on the features and amenities of the listing, and easier ways for hosts and guests to communicate. If these result in higher trustworthiness, and by extension revenue for the hosts and the company, this could be a strong return on investment for these models.\n",
    "\n",
    "Only six particular US cities are considered in the original data. Training data from other cities, or potentially even for other countries in which Airbnb operates, should be implemented before generalizing any predictions outside of these six cities. Since the main superhost component affected by guest input is average rating, sentiment or keyword analysis on review text itself could be useful at indicating what hosts are doing right or wrong, giving them additional opportunity to improve in order to attain superhost status or avoid losing it.\n",
    "\n",
    "Given the nature of this data, the model would likely need infrequent updates after being attuned. What constitutes a good guest experience is unlikely to change over time. The main deployment cost would likely be upfront, both with cleaning and implementing data for new locations Airbnb wants to predict on, as well as training the models. Tuning the model parameters is important for increasing predictive power, but it comes at a high potential computational cost. For instance, using GridSearch to find the optimal parameter set can take hours."
   ]
  },
  {
   "cell_type": "markdown",
   "metadata": {},
   "source": [
    "***"
   ]
  },
  {
   "cell_type": "markdown",
   "metadata": {},
   "source": [
    "# Exceptional Work\n",
    "\n",
    "<i><b>10 pts.</b> You have free reign to provide additional analyses. One idea: grid search parameters in a parallelized fashion and visualize the performances across attributes. Which parameters are most significant for making a good model for each classification algorithm?</i>"
   ]
  },
  {
   "cell_type": "markdown",
   "metadata": {},
   "source": [
    "From the work in the regular sections outlined above, we'd like to propose the following items for consideration as exceptional work:\n",
    "\n",
    "* Using GridSearch for KNN parameter tuning.\n",
    "\n",
    "In addition, some experimentation with models not explicitly covered by class materials is shown below. Unless stated, these are done for the grouped grade task (using X1 and y1) only."
   ]
  },
  {
   "cell_type": "markdown",
   "metadata": {},
   "source": [
    "## XGBoost"
   ]
  },
  {
   "cell_type": "code",
   "execution_count": 119,
   "metadata": {},
   "outputs": [],
   "source": [
    "from xgboost import XGBClassifier"
   ]
  },
  {
   "cell_type": "code",
   "execution_count": 120,
   "metadata": {
    "scrolled": true
   },
   "outputs": [
    {
     "name": "stdout",
     "output_type": "stream",
     "text": [
      "              precision    recall  f1-score   support\n",
      "\n",
      "       False       0.57      0.03      0.05       950\n",
      "        True       0.84      1.00      0.91      4790\n",
      "\n",
      "    accuracy                           0.84      5740\n",
      "   macro avg       0.70      0.51      0.48      5740\n",
      "weighted avg       0.79      0.84      0.77      5740\n",
      "\n",
      "              precision    recall  f1-score   support\n",
      "\n",
      "       False       0.68      0.03      0.05       950\n",
      "        True       0.84      1.00      0.91      4790\n",
      "\n",
      "    accuracy                           0.84      5740\n",
      "   macro avg       0.76      0.51      0.48      5740\n",
      "weighted avg       0.81      0.84      0.77      5740\n",
      "\n",
      "              precision    recall  f1-score   support\n",
      "\n",
      "       False       0.63      0.02      0.03       949\n",
      "        True       0.84      1.00      0.91      4790\n",
      "\n",
      "    accuracy                           0.84      5739\n",
      "   macro avg       0.73      0.51      0.47      5739\n",
      "weighted avg       0.80      0.84      0.77      5739\n",
      "\n",
      "              precision    recall  f1-score   support\n",
      "\n",
      "       False       0.59      0.02      0.04       949\n",
      "        True       0.84      1.00      0.91      4790\n",
      "\n",
      "    accuracy                           0.84      5739\n",
      "   macro avg       0.72      0.51      0.47      5739\n",
      "weighted avg       0.80      0.84      0.77      5739\n",
      "\n",
      "              precision    recall  f1-score   support\n",
      "\n",
      "       False       0.51      0.02      0.04       949\n",
      "        True       0.84      1.00      0.91      4790\n",
      "\n",
      "    accuracy                           0.83      5739\n",
      "   macro avg       0.68      0.51      0.47      5739\n",
      "weighted avg       0.78      0.83      0.77      5739\n",
      "\n",
      "              precision    recall  f1-score   support\n",
      "\n",
      "       False       0.71      0.03      0.05       949\n",
      "        True       0.84      1.00      0.91      4790\n",
      "\n",
      "    accuracy                           0.84      5739\n",
      "   macro avg       0.77      0.51      0.48      5739\n",
      "weighted avg       0.82      0.84      0.77      5739\n",
      "\n",
      "              precision    recall  f1-score   support\n",
      "\n",
      "       False       0.55      0.02      0.04       949\n",
      "        True       0.84      1.00      0.91      4790\n",
      "\n",
      "    accuracy                           0.84      5739\n",
      "   macro avg       0.69      0.51      0.48      5739\n",
      "weighted avg       0.79      0.84      0.77      5739\n",
      "\n",
      "              precision    recall  f1-score   support\n",
      "\n",
      "       False       0.67      0.02      0.03       949\n",
      "        True       0.84      1.00      0.91      4789\n",
      "\n",
      "    accuracy                           0.84      5738\n",
      "   macro avg       0.75      0.51      0.47      5738\n",
      "weighted avg       0.81      0.84      0.77      5738\n",
      "\n",
      "              precision    recall  f1-score   support\n",
      "\n",
      "       False       0.70      0.02      0.04       949\n",
      "        True       0.84      1.00      0.91      4789\n",
      "\n",
      "    accuracy                           0.84      5738\n",
      "   macro avg       0.77      0.51      0.48      5738\n",
      "weighted avg       0.81      0.84      0.77      5738\n",
      "\n",
      "              precision    recall  f1-score   support\n",
      "\n",
      "       False       0.67      0.02      0.04       949\n",
      "        True       0.84      1.00      0.91      4789\n",
      "\n",
      "    accuracy                           0.84      5738\n",
      "   macro avg       0.75      0.51      0.48      5738\n",
      "weighted avg       0.81      0.84      0.77      5738\n",
      "\n"
     ]
    }
   ],
   "source": [
    "\n",
    "\n",
    "xgb_precisions = []\n",
    "\n",
    "# XGBoost on 10-fold CV\n",
    "for train, test in cv.split(X1,y1):\n",
    "    clf_xgb = XGBClassifier()\n",
    "    clf_xgb.fit(X1[train],y1[train])\n",
    "    yhat1[test] = clf_xgb.predict(X1[test])\n",
    "    xgb_precisions.append(precision_score(y1[test], yhat1[test]))\n",
    "    print(classification_report(y1[test], yhat1[test]))"
   ]
  },
  {
   "cell_type": "code",
   "execution_count": 121,
   "metadata": {},
   "outputs": [
    {
     "data": {
      "text/plain": [
       "0.8373212496238891"
      ]
     },
     "execution_count": 121,
     "metadata": {},
     "output_type": "execute_result"
    }
   ],
   "source": [
    "xgb_precisions_np = np.asarray(xgb_precisions)\n",
    "xgb_precisions_np.mean()"
   ]
  },
  {
   "cell_type": "markdown",
   "metadata": {},
   "source": [
    "Using a similar stratified K-fold cross validator as shown above, an untuned XGBoost model returned comparable average precision. \n",
    "\n",
    "Shown below is a graph of relative feature importance, which indicates that features with indices 11, 7, and 6 seemed to be the top three most important. These correspond to amenities length, being instant bookable, and host response rate, respectively. Considering that having a high grade (related to this classification task, A or <A) is a prerequisite for the superhost designation, it's not surprising that response rate, another prerequisite, also gets included. For number one, the length of the amenities a site has, this makes sense as well. Having available features useful to guests, such as Wi-Fi, air conditioning, or laundry, increases the likelihood that guests will have good experiences and will then leave good reviews."
   ]
  },
  {
   "cell_type": "code",
   "execution_count": 122,
   "metadata": {},
   "outputs": [
    {
     "data": {
      "image/png": "[encoded data removed]",
      "text/plain": [
       "<Figure size 432x288 with 1 Axes>"
      ]
     },
     "metadata": {
      "needs_background": "light"
     },
     "output_type": "display_data"
    }
   ],
   "source": [
    "plt.bar(range(len(clf_xgb.feature_importances_)), clf_xgb.feature_importances_)\n",
    "plt.show()"
   ]
  },
  {
   "cell_type": "markdown",
   "metadata": {},
   "source": [
    "## Neural Networks"
   ]
  },
  {
   "cell_type": "code",
   "execution_count": 123,
   "metadata": {},
   "outputs": [],
   "source": [
    "from sklearn.model_selection import KFold\n",
    "from sklearn.linear_model import Perceptron\n",
    "from sklearn.neural_network import MLPClassifier"
   ]
  },
  {
   "cell_type": "code",
   "execution_count": 124,
   "metadata": {
    "scrolled": true
   },
   "outputs": [
    {
     "name": "stdout",
     "output_type": "stream",
     "text": [
      "              precision    recall  f1-score   support\n",
      "\n",
      "       False       0.20      0.37      0.26       951\n",
      "        True       0.85      0.70      0.77      4788\n",
      "\n",
      "    accuracy                           0.65      5739\n",
      "   macro avg       0.52      0.54      0.51      5739\n",
      "weighted avg       0.74      0.65      0.68      5739\n",
      "\n",
      "              precision    recall  f1-score   support\n",
      "\n",
      "       False       0.22      0.27      0.24       955\n",
      "        True       0.85      0.81      0.83      4784\n",
      "\n",
      "    accuracy                           0.72      5739\n",
      "   macro avg       0.53      0.54      0.53      5739\n",
      "weighted avg       0.74      0.72      0.73      5739\n",
      "\n",
      "              precision    recall  f1-score   support\n",
      "\n",
      "       False       0.28      0.17      0.21       932\n",
      "        True       0.85      0.92      0.88      4807\n",
      "\n",
      "    accuracy                           0.79      5739\n",
      "   macro avg       0.56      0.54      0.54      5739\n",
      "weighted avg       0.76      0.79      0.77      5739\n",
      "\n",
      "              precision    recall  f1-score   support\n",
      "\n",
      "       False       0.23      0.17      0.20       939\n",
      "        True       0.85      0.88      0.86      4800\n",
      "\n",
      "    accuracy                           0.77      5739\n",
      "   macro avg       0.54      0.53      0.53      5739\n",
      "weighted avg       0.74      0.77      0.76      5739\n",
      "\n",
      "              precision    recall  f1-score   support\n",
      "\n",
      "       False       0.22      0.14      0.17       923\n",
      "        True       0.85      0.90      0.87      4816\n",
      "\n",
      "    accuracy                           0.78      5739\n",
      "   macro avg       0.53      0.52      0.52      5739\n",
      "weighted avg       0.74      0.78      0.76      5739\n",
      "\n",
      "              precision    recall  f1-score   support\n",
      "\n",
      "       False       0.21      0.24      0.23       978\n",
      "        True       0.84      0.82      0.83      4761\n",
      "\n",
      "    accuracy                           0.72      5739\n",
      "   macro avg       0.53      0.53      0.53      5739\n",
      "weighted avg       0.73      0.72      0.73      5739\n",
      "\n",
      "              precision    recall  f1-score   support\n",
      "\n",
      "       False       0.22      0.24      0.23       965\n",
      "        True       0.84      0.83      0.84      4774\n",
      "\n",
      "    accuracy                           0.73      5739\n",
      "   macro avg       0.53      0.53      0.53      5739\n",
      "weighted avg       0.74      0.73      0.73      5739\n",
      "\n",
      "              precision    recall  f1-score   support\n",
      "\n",
      "       False       0.20      0.21      0.20       920\n",
      "        True       0.85      0.83      0.84      4819\n",
      "\n",
      "    accuracy                           0.73      5739\n",
      "   macro avg       0.52      0.52      0.52      5739\n",
      "weighted avg       0.74      0.73      0.74      5739\n",
      "\n",
      "              precision    recall  f1-score   support\n",
      "\n",
      "       False       0.21      0.27      0.24       951\n",
      "        True       0.85      0.80      0.82      4788\n",
      "\n",
      "    accuracy                           0.71      5739\n",
      "   macro avg       0.53      0.53      0.53      5739\n",
      "weighted avg       0.74      0.71      0.72      5739\n",
      "\n",
      "              precision    recall  f1-score   support\n",
      "\n",
      "       False       0.22      0.11      0.15       978\n",
      "        True       0.83      0.92      0.87      4760\n",
      "\n",
      "    accuracy                           0.78      5738\n",
      "   macro avg       0.53      0.51      0.51      5738\n",
      "weighted avg       0.73      0.78      0.75      5738\n",
      "\n"
     ]
    }
   ],
   "source": [
    "\n",
    "percep_precisions = []\n",
    "kf = KFold(n_splits=10)\n",
    "\n",
    "for train, test in kf.split(X1):\n",
    "    clf_per = Perceptron(tol=1e-3, random_state=0)\n",
    "    clf_per.fit(X1[train], y1[train])\n",
    "    yhat1[test] = clf_per.predict(X1[test])\n",
    "    percep_precisions.append(precision_score(y1[test], yhat1[test]))\n",
    "    print(classification_report(y1[test], yhat1[test]))"
   ]
  },
  {
   "cell_type": "code",
   "execution_count": 125,
   "metadata": {},
   "outputs": [
    {
     "data": {
      "text/plain": [
       "0.8446571709982162"
      ]
     },
     "execution_count": 125,
     "metadata": {},
     "output_type": "execute_result"
    }
   ],
   "source": [
    "percep_precisions_np = np.asarray(percep_precisions)\n",
    "percep_precisions_np.mean()"
   ]
  },
  {
   "cell_type": "markdown",
   "metadata": {},
   "source": [
    "Using a similar stratified K-fold cross validator as those implemented in the main section, a single-layer perceptron without much tuning was able to post a comparable mean precision score with a blisteringly fast time."
   ]
  },
  {
   "cell_type": "code",
   "execution_count": 126,
   "metadata": {
    "scrolled": true
   },
   "outputs": [
    {
     "name": "stdout",
     "output_type": "stream",
     "text": [
      "              precision    recall  f1-score   support\n",
      "\n",
      "       False       0.00      0.00      0.00       951\n",
      "        True       0.83      1.00      0.91      4788\n",
      "\n",
      "    accuracy                           0.83      5739\n",
      "   macro avg       0.42      0.50      0.45      5739\n",
      "weighted avg       0.70      0.83      0.76      5739\n",
      "\n",
      "              precision    recall  f1-score   support\n",
      "\n",
      "       False       0.59      0.04      0.08       955\n",
      "        True       0.84      0.99      0.91      4784\n",
      "\n",
      "    accuracy                           0.84      5739\n",
      "   macro avg       0.72      0.52      0.50      5739\n",
      "weighted avg       0.80      0.84      0.77      5739\n",
      "\n",
      "              precision    recall  f1-score   support\n",
      "\n",
      "       False       0.44      0.03      0.05       932\n",
      "        True       0.84      0.99      0.91      4807\n",
      "\n",
      "    accuracy                           0.84      5739\n",
      "   macro avg       0.64      0.51      0.48      5739\n",
      "weighted avg       0.78      0.84      0.77      5739\n",
      "\n",
      "              precision    recall  f1-score   support\n",
      "\n",
      "       False       0.60      0.04      0.07       939\n",
      "        True       0.84      1.00      0.91      4800\n",
      "\n",
      "    accuracy                           0.84      5739\n",
      "   macro avg       0.72      0.52      0.49      5739\n",
      "weighted avg       0.80      0.84      0.77      5739\n",
      "\n",
      "              precision    recall  f1-score   support\n",
      "\n",
      "       False       0.53      0.04      0.08       923\n",
      "        True       0.84      0.99      0.91      4816\n",
      "\n",
      "    accuracy                           0.84      5739\n",
      "   macro avg       0.69      0.52      0.50      5739\n",
      "weighted avg       0.79      0.84      0.78      5739\n",
      "\n",
      "              precision    recall  f1-score   support\n",
      "\n",
      "       False       0.55      0.04      0.07       978\n",
      "        True       0.83      0.99      0.91      4761\n",
      "\n",
      "    accuracy                           0.83      5739\n",
      "   macro avg       0.69      0.51      0.49      5739\n",
      "weighted avg       0.78      0.83      0.76      5739\n",
      "\n",
      "              precision    recall  f1-score   support\n",
      "\n",
      "       False       1.00      0.00      0.00       965\n",
      "        True       0.83      1.00      0.91      4774\n",
      "\n",
      "    accuracy                           0.83      5739\n",
      "   macro avg       0.92      0.50      0.46      5739\n",
      "weighted avg       0.86      0.83      0.76      5739\n",
      "\n",
      "              precision    recall  f1-score   support\n",
      "\n",
      "       False       0.54      0.04      0.07       920\n",
      "        True       0.84      0.99      0.91      4819\n",
      "\n",
      "    accuracy                           0.84      5739\n",
      "   macro avg       0.69      0.52      0.49      5739\n",
      "weighted avg       0.80      0.84      0.78      5739\n",
      "\n",
      "              precision    recall  f1-score   support\n",
      "\n",
      "       False       0.67      0.02      0.04       951\n",
      "        True       0.84      1.00      0.91      4788\n",
      "\n",
      "    accuracy                           0.84      5739\n",
      "   macro avg       0.75      0.51      0.47      5739\n",
      "weighted avg       0.81      0.84      0.77      5739\n",
      "\n",
      "              precision    recall  f1-score   support\n",
      "\n",
      "       False       0.66      0.03      0.06       978\n",
      "        True       0.83      1.00      0.91      4760\n",
      "\n",
      "    accuracy                           0.83      5738\n",
      "   macro avg       0.75      0.51      0.48      5738\n",
      "weighted avg       0.80      0.83      0.76      5738\n",
      "\n"
     ]
    }
   ],
   "source": [
    "\n",
    "# Backpropagation neural network\n",
    "# Code adapted from https://stackoverflow.com/questions/44683197/implement-k-fold-cross-validation-in-mlpclassification-python\n",
    "bpnn_precisions = []\n",
    "\n",
    "clf_mlp = MLPClassifier(solver='lbfgs', alpha=1e-5, hidden_layer_sizes=(5,5,2),\n",
    "                   random_state=1)\n",
    "for train, test in kf.split(X1):\n",
    "    clf_mlp.fit(X1[train], y1[train])\n",
    "    yhat1[test] = clf_mlp.predict(X1[test])\n",
    "    bpnn_precisions.append(precision_score(y1[test], yhat1[test]))\n",
    "    print(classification_report(y1[test], yhat1[test]))"
   ]
  },
  {
   "cell_type": "code",
   "execution_count": 127,
   "metadata": {},
   "outputs": [
    {
     "data": {
      "text/plain": [
       "0.8378454208380063"
      ]
     },
     "execution_count": 127,
     "metadata": {},
     "output_type": "execute_result"
    }
   ],
   "source": [
    "bpnn_precisions_np = np.asarray(bpnn_precisions)\n",
    "bpnn_precisions_np.mean()"
   ]
  },
  {
   "cell_type": "markdown",
   "metadata": {},
   "source": [
    "An attempt at a neural network using an ordinary backpropagation learning algorithm returns a similar, though slightly lower average precision. This could likely be improved with dedicated parameter tuning."
   ]
  },
  {
   "cell_type": "markdown",
   "metadata": {},
   "source": [
    "## Naive Bayes"
   ]
  },
  {
   "cell_type": "code",
   "execution_count": 128,
   "metadata": {},
   "outputs": [],
   "source": [
    "from sklearn.naive_bayes import GaussianNB, MultinomialNB, BernoulliNB"
   ]
  },
  {
   "cell_type": "code",
   "execution_count": 129,
   "metadata": {},
   "outputs": [],
   "source": [
    "clf_gnb = GaussianNB()\n",
    "clf_mnb = MultinomialNB(alpha=0.001)\n",
    "clf_bnb = BernoulliNB(alpha=0.001)\n",
    "\n",
    "gnb_precisions = []\n",
    "mnb_precisions = []\n",
    "bnb_precisions = []\n",
    "\n",
    "# GaussianNB\n",
    "for train, test in kf.split(X1):\n",
    "    clf_gnb.fit(X1[train], y1[train])\n",
    "    yhat1[test] = clf_gnb.predict(X1[test])\n",
    "    gnb_precisions.append(precision_score(y1[test], yhat1[test]))\n",
    "\n",
    "# MultinomialNB results in error due to a negative value in X1?\n",
    "# for train, test in kf.split(X1):\n",
    "#     clf_mnb.fit(X1[train], y1[train])\n",
    "#     yhat1[test] = clf_mnb.predict(X1[test])\n",
    "#     mnb_precisions.append(precision_score(y1[test], yhat1[test]))\n",
    "\n",
    "# BernoulliNB\n",
    "for train, test in kf.split(X1):\n",
    "    clf_bnb.fit(X1[train], y1[train])\n",
    "    yhat1[test] = clf_bnb.predict(X1[test])\n",
    "    bnb_precisions.append(precision_score(y1[test], yhat1[test]))"
   ]
  },
  {
   "cell_type": "code",
   "execution_count": 130,
   "metadata": {},
   "outputs": [
    {
     "data": {
      "text/plain": [
       "0.8436432971912474"
      ]
     },
     "execution_count": 130,
     "metadata": {},
     "output_type": "execute_result"
    }
   ],
   "source": [
    "gnb_precisions_np = np.asarray(gnb_precisions)\n",
    "gnb_precisions_np.mean()"
   ]
  },
  {
   "cell_type": "code",
   "execution_count": 131,
   "metadata": {},
   "outputs": [
    {
     "data": {
      "text/plain": [
       "0.8411019018587643"
      ]
     },
     "execution_count": 131,
     "metadata": {},
     "output_type": "execute_result"
    }
   ],
   "source": [
    "bnb_precisions_np = np.asarray(bnb_precisions)\n",
    "bnb_precisions_np.mean()"
   ]
  },
  {
   "cell_type": "markdown",
   "metadata": {},
   "source": [
    "Gaussian Naive Bayes and Bernoulli Naive Bayes also produced similar mean precisions, at approximately 0.84."
   ]
  },
  {
   "cell_type": "markdown",
   "metadata": {},
   "source": [
    "# Appendix"
   ]
  },
  {
   "cell_type": "markdown",
   "metadata": {},
   "source": [
    "## Categorical Variable Exploration"
   ]
  },
  {
   "cell_type": "markdown",
   "metadata": {},
   "source": [
    "* City influences a property's probability of getting an A. For example, you are more likely to get an A in San Francisco and Chicago and less likely to get an A in New York and Boston\n",
    "* Instant bookable properties were significantly more likely to not get an A. Maybe this is because they do not put as much effort into preparation\n",
    "* Having an entire property to yourself gave you a better chance at getting an A rating, followed by having a private room, and then having a shared room significantly decreased your probabilities of getting an A\n",
    "* Having a real bed weirdly seems to be associated with less likelihood of an A. Maybe this is because the expectations are higher\n",
    "* People with the most strict cancellation policies had the lowest probabilities of getting an A. Maybe this is due to the fact that people can still leave reviews after they cancel and still pay a deposit, or maybe it shows that the host was too strict in other areas \n",
    "* Having a cleaning fee is weirdly associated with an increased probability of getting an A. Maybe guests do not like cleaning up after themselves\n",
    "* Having a profile pic and having your identity verified increases your probability of getting an A\n",
    "* Based on EDA we can see that the following amenities make a property more likely to get an A:\n",
    "    * having parking\n",
    "    * having a pool\n",
    "    * having a kitchen\n",
    "    * having air conditioning\n",
    "    * having a TV \n",
    "    * having internet "
   ]
  },
  {
   "cell_type": "code",
   "execution_count": null,
   "metadata": {},
   "outputs": [],
   "source": [
    "sns.countplot(data=df_logistic, x='grade_grouped')\n",
    "\n",
    "(ggplot(df_logistic, aes('parking', fill='grade_grouped'))\n",
    " + geom_bar( position='fill')\n",
    ")\n",
    "\n",
    "(ggplot(df_logistic, aes('pool', fill='grade_grouped'))\n",
    " + geom_bar( position='fill')\n",
    ")\n",
    "\n",
    "(ggplot(df_logistic, aes('kitchen', fill='grade_grouped'))\n",
    " + geom_bar( position='fill')\n",
    ")\n",
    "\n",
    "(ggplot(df_logistic, aes('air_conditioning', fill='grade_grouped'))\n",
    " + geom_bar( position='fill')\n",
    ")\n",
    "\n",
    "(ggplot(df_logistic, aes('TV', fill='grade_grouped'))\n",
    " + geom_bar( position='fill')\n",
    ")\n",
    "\n",
    "(ggplot(df_logistic, aes('internet', fill='grade_grouped'))\n",
    " + geom_bar( position='fill')\n",
    ")\n",
    "\n",
    "(ggplot(df_logistic, aes('instant_bookable', fill='grade_grouped'))\n",
    " + geom_bar( position='fill')\n",
    ")\n",
    "\n",
    "(ggplot(df_logistic, aes('room_type', fill='grade_grouped'))\n",
    " + geom_bar( position='fill')\n",
    ")\n",
    "\n",
    "(ggplot(df_logistic, aes('bed_type', fill='grade_grouped'))\n",
    " + geom_bar( position='fill')\n",
    ")\n",
    "\n",
    "(ggplot(df_logistic, aes('cleaning_fee', fill='grade_grouped'))\n",
    " + geom_bar( position='fill')\n",
    ")\n",
    "\n",
    "(ggplot(df_logistic, aes('host_has_profile_pic', fill='grade_grouped'))\n",
    " + geom_bar( position='fill')\n",
    ")\n",
    "\n",
    "(ggplot(df_logistic, aes('host_identity_verified', fill='grade_grouped'))\n",
    " + geom_bar( position='fill')\n",
    ")\n",
    "\n",
    "(ggplot(df_logistic, aes('cancellation_policy', fill='grade_grouped'))\n",
    " + geom_bar( position='fill')\n",
    ")"
   ]
  },
  {
   "cell_type": "markdown",
   "metadata": {},
   "source": [
    "# Numerical Variable Exploration\n",
    "* The following variables were associated with higher probabilities of getting an A:\n",
    "    * being a host for longer\n",
    "    * having longer descriptions\n",
    "    * having more amenities\n",
    "* The size of the property does not seem to really influence the probability of getting an A. We can see this because there are similar distributions for price, number beds, number bedrooms, number of bathrooms, and number of people the place can accomodate\n",
    "* Surprisingly, the number of reviews and the host response rate do not seem to influence the probability of getting an A"
   ]
  },
  {
   "cell_type": "code",
   "execution_count": null,
   "metadata": {},
   "outputs": [],
   "source": [
    "sns.boxplot(x='grade_grouped', y='host_since_days', data=df_logistic)\n",
    "\n",
    "sns.boxplot(x='grade_grouped', y='description_length', data=df_logistic)\n",
    "\n",
    "sns.boxplot(x='grade_grouped', y='length_amenities', data=df_logistic)\n",
    "\n",
    "sns.boxplot(x='grade_grouped', y='price', data=df_logistic)\n",
    "\n",
    "sns.boxplot(x='grade_grouped', y='beds', data=df_logistic)\n",
    "\n",
    "sns.boxplot(x='grade_grouped', y='bedrooms', data=df_logistic)\n",
    "\n",
    "sns.boxplot(x='superuser', y='number_of_reviews', data=df_logistic)\n",
    "\n",
    "sns.boxplot(x='superuser', y='host_response_rate', data=df_logistic)\n",
    "\n",
    "sns.boxplot(x='grade_grouped', y='bathrooms', data=df_logistic)\n",
    "\n",
    "sns.boxplot(x='grade_grouped', y='accommodates', data=df_logistic)\n",
    "\n",
    "#stacked bar chart of percentages\n",
    "(ggplot(df_logistic, aes('city', fill='grade_grouped'))\n",
    " + geom_bar( position='fill')\n",
    ")"
   ]
  },
  {
   "cell_type": "markdown",
   "metadata": {},
   "source": [
    "# Look at collinearity"
   ]
  },
  {
   "cell_type": "code",
   "execution_count": 60,
   "metadata": {},
   "outputs": [
    {
     "data": {
      "text/html": [
       "<div>\n",
       "<style scoped>\n",
       "    .dataframe tbody tr th:only-of-type {\n",
       "        vertical-align: middle;\n",
       "    }\n",
       "\n",
       "    .dataframe tbody tr th {\n",
       "        vertical-align: top;\n",
       "    }\n",
       "\n",
       "    .dataframe thead th {\n",
       "        text-align: right;\n",
       "    }\n",
       "</style>\n",
       "<table border=\"1\" class=\"dataframe\">\n",
       "  <thead>\n",
       "    <tr style=\"text-align: right;\">\n",
       "      <th></th>\n",
       "      <th>accommodates</th>\n",
       "      <th>bathrooms</th>\n",
       "      <th>host_response_rate</th>\n",
       "      <th>number_of_reviews</th>\n",
       "      <th>bedrooms</th>\n",
       "      <th>beds</th>\n",
       "      <th>price</th>\n",
       "      <th>length_amenities</th>\n",
       "      <th>description_length</th>\n",
       "      <th>host_since_days</th>\n",
       "    </tr>\n",
       "  </thead>\n",
       "  <tbody>\n",
       "    <tr>\n",
       "      <td>0</td>\n",
       "      <td>3</td>\n",
       "      <td>1.0</td>\n",
       "      <td>0.924026</td>\n",
       "      <td>2</td>\n",
       "      <td>1</td>\n",
       "      <td>1</td>\n",
       "      <td>150.0</td>\n",
       "      <td>9</td>\n",
       "      <td>211</td>\n",
       "      <td>2179</td>\n",
       "    </tr>\n",
       "    <tr>\n",
       "      <td>1</td>\n",
       "      <td>7</td>\n",
       "      <td>1.0</td>\n",
       "      <td>1.000000</td>\n",
       "      <td>6</td>\n",
       "      <td>3</td>\n",
       "      <td>3</td>\n",
       "      <td>169.0</td>\n",
       "      <td>15</td>\n",
       "      <td>1000</td>\n",
       "      <td>268</td>\n",
       "    </tr>\n",
       "    <tr>\n",
       "      <td>2</td>\n",
       "      <td>5</td>\n",
       "      <td>1.0</td>\n",
       "      <td>1.000000</td>\n",
       "      <td>10</td>\n",
       "      <td>1</td>\n",
       "      <td>3</td>\n",
       "      <td>145.0</td>\n",
       "      <td>19</td>\n",
       "      <td>1000</td>\n",
       "      <td>505</td>\n",
       "    </tr>\n",
       "    <tr>\n",
       "      <td>3</td>\n",
       "      <td>2</td>\n",
       "      <td>1.0</td>\n",
       "      <td>1.000000</td>\n",
       "      <td>4</td>\n",
       "      <td>0</td>\n",
       "      <td>1</td>\n",
       "      <td>115.0</td>\n",
       "      <td>12</td>\n",
       "      <td>699</td>\n",
       "      <td>1109</td>\n",
       "    </tr>\n",
       "    <tr>\n",
       "      <td>4</td>\n",
       "      <td>2</td>\n",
       "      <td>1.0</td>\n",
       "      <td>1.000000</td>\n",
       "      <td>3</td>\n",
       "      <td>1</td>\n",
       "      <td>1</td>\n",
       "      <td>85.0</td>\n",
       "      <td>10</td>\n",
       "      <td>1000</td>\n",
       "      <td>280</td>\n",
       "    </tr>\n",
       "  </tbody>\n",
       "</table>\n",
       "</div>"
      ],
      "text/plain": [
       "   accommodates  bathrooms  host_response_rate  number_of_reviews  bedrooms  \\\n",
       "0             3        1.0            0.924026                  2         1   \n",
       "1             7        1.0            1.000000                  6         3   \n",
       "2             5        1.0            1.000000                 10         1   \n",
       "3             2        1.0            1.000000                  4         0   \n",
       "4             2        1.0            1.000000                  3         1   \n",
       "\n",
       "   beds  price  length_amenities  description_length  host_since_days  \n",
       "0     1  150.0                 9                 211             2179  \n",
       "1     3  169.0                15                1000              268  \n",
       "2     3  145.0                19                1000              505  \n",
       "3     1  115.0                12                 699             1109  \n",
       "4     1   85.0                10                1000              280  "
      ]
     },
     "execution_count": 60,
     "metadata": {},
     "output_type": "execute_result"
    }
   ],
   "source": [
    "numerics = ['int64', 'float64']\n",
    "df_corr = df_logistic.select_dtypes(include=numerics)\n",
    "df_corr.head()"
   ]
  },
  {
   "cell_type": "code",
   "execution_count": 61,
   "metadata": {},
   "outputs": [
    {
     "data": {
      "text/html": [
       "<div>\n",
       "<style scoped>\n",
       "    .dataframe tbody tr th:only-of-type {\n",
       "        vertical-align: middle;\n",
       "    }\n",
       "\n",
       "    .dataframe tbody tr th {\n",
       "        vertical-align: top;\n",
       "    }\n",
       "\n",
       "    .dataframe thead th {\n",
       "        text-align: right;\n",
       "    }\n",
       "</style>\n",
       "<table border=\"1\" class=\"dataframe\">\n",
       "  <thead>\n",
       "    <tr style=\"text-align: right;\">\n",
       "      <th></th>\n",
       "      <th>accommodates</th>\n",
       "      <th>bathrooms</th>\n",
       "      <th>host_response_rate</th>\n",
       "      <th>number_of_reviews</th>\n",
       "      <th>bedrooms</th>\n",
       "      <th>beds</th>\n",
       "      <th>price</th>\n",
       "      <th>length_amenities</th>\n",
       "      <th>description_length</th>\n",
       "      <th>host_since_days</th>\n",
       "    </tr>\n",
       "  </thead>\n",
       "  <tbody>\n",
       "    <tr>\n",
       "      <td>accommodates</td>\n",
       "      <td>1.000000</td>\n",
       "      <td>0.498232</td>\n",
       "      <td>0.047379</td>\n",
       "      <td>0.031000</td>\n",
       "      <td>0.720385</td>\n",
       "      <td>0.824703</td>\n",
       "      <td>0.579029</td>\n",
       "      <td>0.258958</td>\n",
       "      <td>0.116491</td>\n",
       "      <td>-0.018579</td>\n",
       "    </tr>\n",
       "    <tr>\n",
       "      <td>bathrooms</td>\n",
       "      <td>0.498232</td>\n",
       "      <td>1.000000</td>\n",
       "      <td>0.018456</td>\n",
       "      <td>-0.040912</td>\n",
       "      <td>0.574308</td>\n",
       "      <td>0.513076</td>\n",
       "      <td>0.490656</td>\n",
       "      <td>0.161037</td>\n",
       "      <td>0.044418</td>\n",
       "      <td>-0.006523</td>\n",
       "    </tr>\n",
       "    <tr>\n",
       "      <td>host_response_rate</td>\n",
       "      <td>0.047379</td>\n",
       "      <td>0.018456</td>\n",
       "      <td>1.000000</td>\n",
       "      <td>0.117379</td>\n",
       "      <td>0.027709</td>\n",
       "      <td>0.047577</td>\n",
       "      <td>0.001935</td>\n",
       "      <td>0.131337</td>\n",
       "      <td>0.099819</td>\n",
       "      <td>-0.019037</td>\n",
       "    </tr>\n",
       "    <tr>\n",
       "      <td>number_of_reviews</td>\n",
       "      <td>0.031000</td>\n",
       "      <td>-0.040912</td>\n",
       "      <td>0.117379</td>\n",
       "      <td>1.000000</td>\n",
       "      <td>-0.038597</td>\n",
       "      <td>0.022787</td>\n",
       "      <td>-0.044057</td>\n",
       "      <td>0.144332</td>\n",
       "      <td>0.227540</td>\n",
       "      <td>0.201491</td>\n",
       "    </tr>\n",
       "    <tr>\n",
       "      <td>bedrooms</td>\n",
       "      <td>0.720385</td>\n",
       "      <td>0.574308</td>\n",
       "      <td>0.027709</td>\n",
       "      <td>-0.038597</td>\n",
       "      <td>1.000000</td>\n",
       "      <td>0.704858</td>\n",
       "      <td>0.551253</td>\n",
       "      <td>0.182850</td>\n",
       "      <td>0.082153</td>\n",
       "      <td>0.015285</td>\n",
       "    </tr>\n",
       "    <tr>\n",
       "      <td>beds</td>\n",
       "      <td>0.824703</td>\n",
       "      <td>0.513076</td>\n",
       "      <td>0.047577</td>\n",
       "      <td>0.022787</td>\n",
       "      <td>0.704858</td>\n",
       "      <td>1.000000</td>\n",
       "      <td>0.491563</td>\n",
       "      <td>0.229713</td>\n",
       "      <td>0.092062</td>\n",
       "      <td>-0.031468</td>\n",
       "    </tr>\n",
       "    <tr>\n",
       "      <td>price</td>\n",
       "      <td>0.579029</td>\n",
       "      <td>0.490656</td>\n",
       "      <td>0.001935</td>\n",
       "      <td>-0.044057</td>\n",
       "      <td>0.551253</td>\n",
       "      <td>0.491563</td>\n",
       "      <td>1.000000</td>\n",
       "      <td>0.191038</td>\n",
       "      <td>0.062491</td>\n",
       "      <td>0.051808</td>\n",
       "    </tr>\n",
       "    <tr>\n",
       "      <td>length_amenities</td>\n",
       "      <td>0.258958</td>\n",
       "      <td>0.161037</td>\n",
       "      <td>0.131337</td>\n",
       "      <td>0.144332</td>\n",
       "      <td>0.182850</td>\n",
       "      <td>0.229713</td>\n",
       "      <td>0.191038</td>\n",
       "      <td>1.000000</td>\n",
       "      <td>0.269240</td>\n",
       "      <td>-0.038405</td>\n",
       "    </tr>\n",
       "    <tr>\n",
       "      <td>description_length</td>\n",
       "      <td>0.116491</td>\n",
       "      <td>0.044418</td>\n",
       "      <td>0.099819</td>\n",
       "      <td>0.227540</td>\n",
       "      <td>0.082153</td>\n",
       "      <td>0.092062</td>\n",
       "      <td>0.062491</td>\n",
       "      <td>0.269240</td>\n",
       "      <td>1.000000</td>\n",
       "      <td>0.185753</td>\n",
       "    </tr>\n",
       "    <tr>\n",
       "      <td>host_since_days</td>\n",
       "      <td>-0.018579</td>\n",
       "      <td>-0.006523</td>\n",
       "      <td>-0.019037</td>\n",
       "      <td>0.201491</td>\n",
       "      <td>0.015285</td>\n",
       "      <td>-0.031468</td>\n",
       "      <td>0.051808</td>\n",
       "      <td>-0.038405</td>\n",
       "      <td>0.185753</td>\n",
       "      <td>1.000000</td>\n",
       "    </tr>\n",
       "  </tbody>\n",
       "</table>\n",
       "</div>"
      ],
      "text/plain": [
       "                    accommodates  bathrooms  host_response_rate  \\\n",
       "accommodates            1.000000   0.498232            0.047379   \n",
       "bathrooms               0.498232   1.000000            0.018456   \n",
       "host_response_rate      0.047379   0.018456            1.000000   \n",
       "number_of_reviews       0.031000  -0.040912            0.117379   \n",
       "bedrooms                0.720385   0.574308            0.027709   \n",
       "beds                    0.824703   0.513076            0.047577   \n",
       "price                   0.579029   0.490656            0.001935   \n",
       "length_amenities        0.258958   0.161037            0.131337   \n",
       "description_length      0.116491   0.044418            0.099819   \n",
       "host_since_days        -0.018579  -0.006523           -0.019037   \n",
       "\n",
       "                    number_of_reviews  bedrooms      beds     price  \\\n",
       "accommodates                 0.031000  0.720385  0.824703  0.579029   \n",
       "bathrooms                   -0.040912  0.574308  0.513076  0.490656   \n",
       "host_response_rate           0.117379  0.027709  0.047577  0.001935   \n",
       "number_of_reviews            1.000000 -0.038597  0.022787 -0.044057   \n",
       "bedrooms                    -0.038597  1.000000  0.704858  0.551253   \n",
       "beds                         0.022787  0.704858  1.000000  0.491563   \n",
       "price                       -0.044057  0.551253  0.491563  1.000000   \n",
       "length_amenities             0.144332  0.182850  0.229713  0.191038   \n",
       "description_length           0.227540  0.082153  0.092062  0.062491   \n",
       "host_since_days              0.201491  0.015285 -0.031468  0.051808   \n",
       "\n",
       "                    length_amenities  description_length  host_since_days  \n",
       "accommodates                0.258958            0.116491        -0.018579  \n",
       "bathrooms                   0.161037            0.044418        -0.006523  \n",
       "host_response_rate          0.131337            0.099819        -0.019037  \n",
       "number_of_reviews           0.144332            0.227540         0.201491  \n",
       "bedrooms                    0.182850            0.082153         0.015285  \n",
       "beds                        0.229713            0.092062        -0.031468  \n",
       "price                       0.191038            0.062491         0.051808  \n",
       "length_amenities            1.000000            0.269240        -0.038405  \n",
       "description_length          0.269240            1.000000         0.185753  \n",
       "host_since_days            -0.038405            0.185753         1.000000  "
      ]
     },
     "execution_count": 61,
     "metadata": {},
     "output_type": "execute_result"
    }
   ],
   "source": [
    "df_corr.corr()"
   ]
  },
  {
   "cell_type": "code",
   "execution_count": 62,
   "metadata": {},
   "outputs": [
    {
     "data": {
      "image/png": "[encoded data removed]",
      "text/plain": [
       "<Figure size 432x288 with 2 Axes>"
      ]
     },
     "metadata": {
      "needs_background": "light"
     },
     "output_type": "display_data"
    }
   ],
   "source": [
    "# no strong correlations between numerical variables\n",
    "# rule of thumnb: correlation above 0.9 is problematic\n",
    "sns.heatmap(df_corr.corr())\n",
    "plt.show()"
   ]
  },
  {
   "cell_type": "markdown",
   "metadata": {},
   "source": [
    "# Correlations between categorical variables and Numeric Variables\n",
    "* will use ANOVA"
   ]
  },
  {
   "cell_type": "code",
   "execution_count": 63,
   "metadata": {},
   "outputs": [
    {
     "name": "stdout",
     "output_type": "stream",
     "text": [
      "['accommodates', 'bathrooms', 'host_response_rate', 'number_of_reviews', 'bedrooms', 'beds', 'price', 'length_amenities', 'description_length', 'host_since_days']\n",
      "['room_type', 'bed_type', 'cancellation_policy', 'cleaning_fee', 'city', 'host_has_profile_pic', 'host_identity_verified', 'instant_bookable', 'grade', 'internet', 'TV', 'air_conditioning', 'kitchen', 'pool', 'parking', 'superuser']\n"
     ]
    }
   ],
   "source": [
    "import scipy.stats as stats\n",
    "\n",
    "numerical_vars = list(df_logistic.select_dtypes(include=numerics).columns)\n",
    "print(numerical_vars)\n",
    "\n",
    "categorical_vars = list(df_logistic.select_dtypes(include=['category', 'bool']).columns)\n",
    "\n",
    "print(categorical_vars)"
   ]
  },
  {
   "cell_type": "markdown",
   "metadata": {},
   "source": [
    "#### Room type"
   ]
  },
  {
   "cell_type": "code",
   "execution_count": 64,
   "metadata": {},
   "outputs": [
    {
     "name": "stdout",
     "output_type": "stream",
     "text": [
      "accommodates : \n",
      "F_onewayResult(statistic=8311.260477381162, pvalue=0.0)\n",
      "\n",
      "bathrooms : \n",
      "F_onewayResult(statistic=533.6824644984207, pvalue=2.2584378027609e-230)\n",
      "\n",
      "host_response_rate : \n",
      "F_onewayResult(statistic=9.872934792213272, pvalue=5.163883408700995e-05)\n",
      "\n",
      "number_of_reviews : \n",
      "F_onewayResult(statistic=25.88832682111481, pvalue=5.779784393585306e-12)\n",
      "\n",
      "bedrooms : \n",
      "F_onewayResult(statistic=1791.7812374495722, pvalue=0.0)\n",
      "\n",
      "beds : \n",
      "F_onewayResult(statistic=4317.176705064991, pvalue=0.0)\n",
      "\n",
      "price : \n",
      "F_onewayResult(statistic=6820.273716593953, pvalue=0.0)\n",
      "\n",
      "length_amenities : \n",
      "F_onewayResult(statistic=699.812004414434, pvalue=5.280719624892653e-301)\n",
      "\n",
      "description_length : \n",
      "F_onewayResult(statistic=200.5409063304744, pvalue=1.6186136413727302e-87)\n",
      "\n",
      "host_since_days : \n",
      "F_onewayResult(statistic=143.9161079301942, pvalue=4.51081762544199e-63)\n",
      "\n"
     ]
    }
   ],
   "source": [
    "#room_type is redundant\n",
    "for var in numerical_vars:\n",
    "    print(var, ': ')\n",
    "    print(stats.f_oneway(df_logistic[var][df_logistic.room_type == 'Entire home/apt'], \n",
    "               df_logistic[var][df_logistic.room_type == 'Private room'],\n",
    "               df_logistic[var][df_logistic.room_type == 'Shared room']))\n",
    "    print()"
   ]
  },
  {
   "cell_type": "markdown",
   "metadata": {},
   "source": [
    "#### Bed_type"
   ]
  },
  {
   "cell_type": "code",
   "execution_count": 65,
   "metadata": {},
   "outputs": [
    {
     "name": "stdout",
     "output_type": "stream",
     "text": [
      "accommodates : \n",
      "F_onewayResult(statistic=102.04947044326022, pvalue=9.630281590057128e-87)\n",
      "\n",
      "bathrooms : \n",
      "F_onewayResult(statistic=27.904042696251405, pvalue=3.467200673340659e-23)\n",
      "\n",
      "host_response_rate : \n",
      "F_onewayResult(statistic=2.353563913070348, pvalue=0.05155216075667624)\n",
      "\n",
      "number_of_reviews : \n",
      "F_onewayResult(statistic=8.51600176921841, pvalue=7.262564854627648e-07)\n",
      "\n",
      "bedrooms : \n",
      "F_onewayResult(statistic=60.372615039866616, pvalue=5.684462709636918e-51)\n",
      "\n",
      "beds : \n",
      "F_onewayResult(statistic=74.1156356502596, pvalue=9.148265945184976e-63)\n",
      "\n",
      "price : \n",
      "F_onewayResult(statistic=71.49261792865688, pvalue=1.6319097372406637e-60)\n",
      "\n",
      "length_amenities : \n",
      "F_onewayResult(statistic=20.4191984055442, pvalue=7.901181515252077e-17)\n",
      "\n",
      "description_length : \n",
      "F_onewayResult(statistic=10.248095157947763, pvalue=2.7155721454553722e-08)\n",
      "\n",
      "host_since_days : \n",
      "F_onewayResult(statistic=14.19936597869075, pvalue=1.3822950226623125e-11)\n",
      "\n"
     ]
    }
   ],
   "source": [
    "for var in numerical_vars:\n",
    "    print(var, ': ')\n",
    "    print(stats.f_oneway(df_logistic[var][df_logistic.bed_type == 'Real Bed'], \n",
    "               df_logistic[var][df_logistic.bed_type == 'Futon'],\n",
    "               df_logistic[var][df_logistic.bed_type == 'Pull-out Sofa'],\n",
    "              df_logistic[var][df_logistic.bed_type == 'Couch'],\n",
    "              df_logistic[var][df_logistic.bed_type == 'Airbed']))\n",
    "    print()\n",
    "    "
   ]
  },
  {
   "cell_type": "markdown",
   "metadata": {},
   "source": [
    "#### Cancellation policy"
   ]
  },
  {
   "cell_type": "code",
   "execution_count": 66,
   "metadata": {},
   "outputs": [
    {
     "name": "stdout",
     "output_type": "stream",
     "text": [
      "accommodates : \n",
      "F_onewayResult(statistic=625.362058848526, pvalue=0.0)\n",
      "\n",
      "bathrooms : \n",
      "F_onewayResult(statistic=163.58453704084602, pvalue=1.688385471521771e-139)\n",
      "\n",
      "host_response_rate : \n",
      "F_onewayResult(statistic=127.82475818932434, pvalue=7.413989514035901e-109)\n",
      "\n",
      "number_of_reviews : \n",
      "F_onewayResult(statistic=388.6685401492283, pvalue=0.0)\n",
      "\n",
      "bedrooms : \n",
      "F_onewayResult(statistic=303.0969869499843, pvalue=1.7788969602946338e-258)\n",
      "\n",
      "beds : \n",
      "F_onewayResult(statistic=483.00142177331134, pvalue=0.0)\n",
      "\n",
      "price : \n",
      "F_onewayResult(statistic=458.6254579107413, pvalue=0.0)\n",
      "\n",
      "length_amenities : \n",
      "F_onewayResult(statistic=517.9927741542882, pvalue=0.0)\n",
      "\n",
      "description_length : \n",
      "F_onewayResult(statistic=944.3057366911261, pvalue=0.0)\n",
      "\n",
      "host_since_days : \n",
      "F_onewayResult(statistic=280.14155062709756, pvalue=5.731773057493463e-239)\n",
      "\n"
     ]
    }
   ],
   "source": [
    "for var in numerical_vars:\n",
    "    print(var, ': ')\n",
    "    print(stats.f_oneway(df_logistic[var][df_logistic.cancellation_policy == 'strict'], \n",
    "               df_logistic[var][df_logistic.cancellation_policy == 'moderate'],\n",
    "               df_logistic[var][df_logistic.cancellation_policy == 'flexible'],\n",
    "              df_logistic[var][df_logistic.cancellation_policy == 'super_strict_30'],\n",
    "              df_logistic[var][df_logistic.cancellation_policy == 'super_strict_60']))\n",
    "    print()\n",
    "    "
   ]
  },
  {
   "cell_type": "markdown",
   "metadata": {},
   "source": [
    "Anova seems to be overly sensitive to finding correlations. I will stop here"
   ]
  },
  {
   "cell_type": "markdown",
   "metadata": {},
   "source": [
    "# Correlations between categorical variables\n",
    "* Use Cramers V for correlation between categorical variables. It ranges from 0 (no association) to 1 (strong association)"
   ]
  },
  {
   "cell_type": "code",
   "execution_count": 67,
   "metadata": {},
   "outputs": [],
   "source": [
    "import scipy.stats as ss"
   ]
  },
  {
   "cell_type": "code",
   "execution_count": 68,
   "metadata": {},
   "outputs": [],
   "source": [
    "categorical_vars = ['room_type', 'bed_type', 'cancellation_policy', 'cleaning_fee', 'city', 'host_has_profile_pic',\n",
    "                   'host_identity_verified', 'instant_bookable', 'internet', 'TV', 'air_conditioning',\n",
    "                   'kitchen', 'pool', 'parking']\n",
    "\n",
    "df_logistic_correlation = df_logistic[categorical_vars]"
   ]
  },
  {
   "cell_type": "code",
   "execution_count": 69,
   "metadata": {},
   "outputs": [],
   "source": [
    "def cramers_v(x, y):\n",
    "    confusion_matrix = pd.crosstab(x,y)\n",
    "    chi2 = ss.chi2_contingency(confusion_matrix)[0]\n",
    "    n = confusion_matrix.sum().sum()\n",
    "    phi2 = chi2/n\n",
    "    r,k = confusion_matrix.shape\n",
    "    phi2corr = max(0, phi2-((k-1)*(r-1))/(n-1))\n",
    "    rcorr = r-((r-1)**2)/(n-1)\n",
    "    kcorr = k-((k-1)**2)/(n-1)\n",
    "    return np.sqrt(phi2corr/min((kcorr-1),(rcorr-1)))"
   ]
  },
  {
   "cell_type": "code",
   "execution_count": 70,
   "metadata": {},
   "outputs": [
    {
     "name": "stdout",
     "output_type": "stream",
     "text": [
      "The association of room_type with the following variables is\n",
      "room_type :  1.0\n",
      "bed_type :  0.1793748065380461\n",
      "cancellation_policy :  0.1220019589589836\n",
      "cleaning_fee :  0.21826793323473284\n",
      "city :  0.08172005270469712\n",
      "host_has_profile_pic :  0.0\n",
      "host_identity_verified :  0.05153835232246948\n",
      "instant_bookable :  0.032603183603628745\n",
      "internet :  0.05601238730062045\n",
      "TV :  0.2599952029891558\n",
      "air_conditioning :  0.08250167983345934\n",
      "kitchen :  0.15153203675520513\n",
      "pool :  0.05287497280484075\n",
      "parking :  0.05222894743329889\n",
      "\n",
      "The association of bed_type with the following variables is\n",
      "room_type :  0.1793748065380461\n",
      "bed_type :  1.0\n",
      "cancellation_policy :  0.020333596740673206\n",
      "cleaning_fee :  0.029661826563628393\n",
      "city :  0.015766381325537843\n",
      "host_has_profile_pic :  0.0\n",
      "host_identity_verified :  0.012197281200082339\n",
      "instant_bookable :  0.024833155023125213\n",
      "internet :  0.023856576997351546\n",
      "TV :  0.061251044773271084\n",
      "air_conditioning :  0.037473028945249565\n",
      "kitchen :  0.019682040308467517\n",
      "pool :  0.014132852532502184\n",
      "parking :  0.007808682911145754\n",
      "\n",
      "The association of cancellation_policy with the following variables is\n",
      "room_type :  0.12200195895898358\n",
      "bed_type :  0.020333596740673206\n",
      "cancellation_policy :  0.9999999999999999\n",
      "cleaning_fee :  0.27604746552051085\n",
      "city :  0.05484383813389983\n",
      "host_has_profile_pic :  0.013181637639615383\n",
      "host_identity_verified :  0.11291024369393174\n",
      "instant_bookable :  0.031035570395550646\n",
      "internet :  0.08508475045671414\n",
      "TV :  0.0701999975641904\n",
      "air_conditioning :  0.05657838921649254\n",
      "kitchen :  0.034347048975317686\n",
      "pool :  0.030510054058400564\n",
      "parking :  0.03996212167811979\n",
      "\n",
      "The association of cleaning_fee with the following variables is\n",
      "room_type :  0.21826793323473284\n",
      "bed_type :  0.029661826563628393\n",
      "cancellation_policy :  0.2760474655205109\n",
      "cleaning_fee :  0.9999466952074902\n",
      "city :  0.08265710074479864\n",
      "host_has_profile_pic :  0.0020971566746834465\n",
      "host_identity_verified :  0.10697388368015638\n",
      "instant_bookable :  0.017096674447525915\n",
      "internet :  0.07836754655975511\n",
      "TV :  0.09581238263965769\n",
      "air_conditioning :  0.03992755074780698\n",
      "kitchen :  0.056256970337655775\n",
      "pool :  0.03305413677137714\n",
      "parking :  0.06755464267175955\n",
      "\n",
      "The association of city with the following variables is\n",
      "room_type :  0.08172005270469712\n",
      "bed_type :  0.01576638132553784\n",
      "cancellation_policy :  0.054843838133899814\n",
      "cleaning_fee :  0.08265710074479864\n",
      "city :  1.0\n",
      "host_has_profile_pic :  0.00211428598776476\n",
      "host_identity_verified :  0.09466779665390972\n",
      "instant_bookable :  0.051334944422746526\n",
      "internet :  0.02304553601390388\n",
      "TV :  0.1435044580598475\n",
      "air_conditioning :  0.5122701341366646\n",
      "kitchen :  0.07901625747576355\n",
      "pool :  0.32494615608740374\n",
      "parking :  0.5186475260178524\n",
      "\n",
      "The association of host_has_profile_pic with the following variables is\n",
      "room_type :  0.0\n",
      "bed_type :  0.0\n",
      "cancellation_policy :  0.013181637639615383\n",
      "cleaning_fee :  0.0020971566746834465\n",
      "city :  0.0021142859877647632\n",
      "host_has_profile_pic :  0.9946148350554986\n",
      "host_identity_verified :  0.058685217166449824\n",
      "instant_bookable :  0.00489324062719711\n",
      "internet :  0.002179414850677651\n",
      "TV :  0.0\n",
      "air_conditioning :  0.006911869917583111\n",
      "kitchen :  0.0\n",
      "pool :  0.0031014504103737774\n",
      "parking :  0.005934282455257069\n",
      "\n",
      "The association of host_identity_verified with the following variables is\n",
      "room_type :  0.05153835232246948\n",
      "bed_type :  0.012197281200082339\n",
      "cancellation_policy :  0.11291024369393174\n",
      "cleaning_fee :  0.10697388368015638\n",
      "city :  0.09466779665390972\n",
      "host_has_profile_pic :  0.058685217166449824\n",
      "host_identity_verified :  0.9999558565448171\n",
      "instant_bookable :  0.09375125154932894\n",
      "internet :  0.05900399509698854\n",
      "TV :  0.03625391000909531\n",
      "air_conditioning :  0.014979768767467911\n",
      "kitchen :  0.03993391713847937\n",
      "pool :  0.01814491609961254\n",
      "parking :  0.052935104725848545\n",
      "\n",
      "The association of instant_bookable with the following variables is\n",
      "room_type :  0.032603183603628745\n",
      "bed_type :  0.024833155023125213\n",
      "cancellation_policy :  0.031035570395550646\n",
      "cleaning_fee :  0.017096674447525915\n",
      "city :  0.051334944422746526\n",
      "host_has_profile_pic :  0.004893240627197111\n",
      "host_identity_verified :  0.09375125154932894\n",
      "instant_bookable :  0.9999555869783726\n",
      "internet :  0.012201145602963674\n",
      "TV :  0.0\n",
      "air_conditioning :  0.029101115847988236\n",
      "kitchen :  0.021203021220146303\n",
      "pool :  0.022496172246141085\n",
      "parking :  0.03354310834405657\n",
      "\n",
      "The association of internet with the following variables is\n",
      "room_type :  0.05601238730062045\n",
      "bed_type :  0.023856576997351546\n",
      "cancellation_policy :  0.08508475045671414\n",
      "cleaning_fee :  0.07836754655975511\n",
      "city :  0.02304553601390388\n",
      "host_has_profile_pic :  0.002179414850677651\n",
      "host_identity_verified :  0.05900399509698854\n",
      "instant_bookable :  0.012201145602963674\n",
      "internet :  0.9995744272186844\n",
      "TV :  0.1501327801130321\n",
      "air_conditioning :  0.12956788789307663\n",
      "kitchen :  0.19105610641262846\n",
      "pool :  0.018763521913372078\n",
      "parking :  0.047646913234610636\n",
      "\n",
      "The association of TV with the following variables is\n",
      "room_type :  0.2599952029891558\n",
      "bed_type :  0.061251044773271084\n",
      "cancellation_policy :  0.0701999975641904\n",
      "cleaning_fee :  0.09581238263965769\n",
      "city :  0.1435044580598475\n",
      "host_has_profile_pic :  0.0\n",
      "host_identity_verified :  0.03625391000909531\n",
      "instant_bookable :  0.0\n",
      "internet :  0.1501327801130321\n",
      "TV :  0.99995516392982\n",
      "air_conditioning :  0.13631429650201668\n",
      "kitchen :  0.137426013499677\n",
      "pool :  0.0897015520986736\n",
      "parking :  0.13305623193266952\n",
      "\n",
      "The association of air_conditioning with the following variables is\n",
      "room_type :  0.08250167983345934\n",
      "bed_type :  0.037473028945249565\n",
      "cancellation_policy :  0.056578389216492546\n",
      "cleaning_fee :  0.03992755074780698\n",
      "city :  0.5122701341366646\n",
      "host_has_profile_pic :  0.006911869917583112\n",
      "host_identity_verified :  0.014979768767467911\n",
      "instant_bookable :  0.029101115847988236\n",
      "internet :  0.12956788789307663\n",
      "TV :  0.13631429650201668\n",
      "air_conditioning :  0.9999525165771755\n",
      "kitchen :  0.11514825397207809\n",
      "pool :  0.095728507153489\n",
      "parking :  0.013161537571619104\n",
      "\n",
      "The association of kitchen with the following variables is\n",
      "room_type :  0.15153203675520513\n",
      "bed_type :  0.019682040308467517\n",
      "cancellation_policy :  0.03434704897531768\n",
      "cleaning_fee :  0.056256970337655775\n",
      "city :  0.07901625747576353\n",
      "host_has_profile_pic :  0.0\n",
      "host_identity_verified :  0.03993391713847937\n",
      "instant_bookable :  0.021203021220146306\n",
      "internet :  0.19105610641262843\n",
      "TV :  0.137426013499677\n",
      "air_conditioning :  0.11514825397207809\n",
      "kitchen :  0.9998851700172008\n",
      "pool :  0.03292805055930545\n",
      "parking :  0.011660835917397087\n",
      "\n",
      "The association of pool with the following variables is\n",
      "room_type :  0.05287497280484075\n",
      "bed_type :  0.014132852532502184\n",
      "cancellation_policy :  0.030510054058400564\n",
      "cleaning_fee :  0.03305413677137714\n",
      "city :  0.32494615608740374\n",
      "host_has_profile_pic :  0.003101450410373778\n",
      "host_identity_verified :  0.01814491609961254\n",
      "instant_bookable :  0.022496172246141085\n",
      "internet :  0.018763521913372078\n",
      "TV :  0.0897015520986736\n",
      "air_conditioning :  0.095728507153489\n",
      "kitchen :  0.03292805055930545\n",
      "pool :  0.9998791871668319\n",
      "parking :  0.2129464435073594\n",
      "\n",
      "The association of parking with the following variables is\n",
      "room_type :  0.05222894743329889\n",
      "bed_type :  0.0078086829111457525\n",
      "cancellation_policy :  0.03996212167811979\n",
      "cleaning_fee :  0.06755464267175955\n",
      "city :  0.5186475260178524\n",
      "host_has_profile_pic :  0.005934282455257069\n",
      "host_identity_verified :  0.052935104725848545\n",
      "instant_bookable :  0.03354310834405657\n",
      "internet :  0.047646913234610636\n",
      "TV :  0.13305623193266952\n",
      "air_conditioning :  0.013161537571619104\n",
      "kitchen :  0.011660835917397088\n",
      "pool :  0.2129464435073594\n",
      "parking :  0.9999603702344636\n",
      "\n"
     ]
    }
   ],
   "source": [
    "for var in categorical_vars:\n",
    "    print('The association of {} with the following variables is'.format(var))\n",
    "    for var2 in categorical_vars:\n",
    "        confusion_matrix = pd.crosstab(df_logistic_correlation[var], df_logistic_correlation[var2]).as_matrix()\n",
    "        print(var2, ': ', cramers_v(df_logistic[var], df_logistic[var2]))\n",
    "    print()"
   ]
  },
  {
   "cell_type": "markdown",
   "metadata": {},
   "source": [
    "* Room type, bed type, cancellation policy, cleaning fee, having a profile pic, having your identity verified, being instant bookable,and having internet do not seem to have an any strong correlations with other variables\n",
    "* City has moderate correlations with having parking, a pool, and air conditioning"
   ]
  },
  {
   "cell_type": "code",
   "execution_count": 71,
   "metadata": {},
   "outputs": [
    {
     "data": {
      "image/png": "[encoded data removed]",
      "text/plain": [
       "<Figure size 640x480 with 1 Axes>"
      ]
     },
     "metadata": {},
     "output_type": "display_data"
    },
    {
     "data": {
      "text/plain": [
       "<ggplot: (7572398975)>"
      ]
     },
     "execution_count": 71,
     "metadata": {},
     "output_type": "execute_result"
    }
   ],
   "source": [
    "(ggplot(df_logistic, aes('city', fill='parking'))\n",
    " + geom_bar( position='fill')\n",
    ")"
   ]
  },
  {
   "cell_type": "markdown",
   "metadata": {},
   "source": [
    "Here we see that LA is the most likely to have parking, while NYC is the least likely to have parking"
   ]
  },
  {
   "cell_type": "code",
   "execution_count": 72,
   "metadata": {},
   "outputs": [
    {
     "data": {
      "image/png": "[encoded data removed]",
      "text/plain": [
       "<Figure size 640x480 with 1 Axes>"
      ]
     },
     "metadata": {},
     "output_type": "display_data"
    },
    {
     "data": {
      "text/plain": [
       "<ggplot: (-9223372029298036294)>"
      ]
     },
     "execution_count": 72,
     "metadata": {},
     "output_type": "execute_result"
    }
   ],
   "source": [
    "(ggplot(df_logistic, aes('city', fill='pool'))\n",
    " + geom_bar( position='fill')\n",
    ")"
   ]
  },
  {
   "cell_type": "markdown",
   "metadata": {},
   "source": [
    "Here we see that an LA property is the most likely to have a pool."
   ]
  },
  {
   "cell_type": "code",
   "execution_count": 73,
   "metadata": {},
   "outputs": [
    {
     "data": {
      "image/png": "[encoded data removed]",
      "text/plain": [
       "<Figure size 640x480 with 1 Axes>"
      ]
     },
     "metadata": {},
     "output_type": "display_data"
    },
    {
     "data": {
      "text/plain": [
       "<ggplot: (7570176418)>"
      ]
     },
     "execution_count": 73,
     "metadata": {},
     "output_type": "execute_result"
    }
   ],
   "source": [
    "(ggplot(df_logistic, aes('city', fill='air_conditioning'))\n",
    " + geom_bar( position='fill')\n",
    ")"
   ]
  },
  {
   "cell_type": "markdown",
   "metadata": {},
   "source": [
    "Here we see that having AC is common in all the cities except San Francisco, where it is uncommon."
   ]
  }
 ],
 "metadata": {
  "kernelspec": {
   "display_name": "Python 3",
   "language": "python",
   "name": "python3"
  },
  "language_info": {
   "codemirror_mode": {
    "name": "ipython",
    "version": 3
   },
   "file_extension": ".py",
   "mimetype": "text/x-python",
   "name": "python",
   "nbconvert_exporter": "python",
   "pygments_lexer": "ipython3",
   "version": "3.7.4"
  }
 },
 "nbformat": 4,
 "nbformat_minor": 2
}
