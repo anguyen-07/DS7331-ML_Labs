{
 "cells": [
  {
   "cell_type": "markdown",
   "metadata": {},
   "source": [
    "Andy Nguyen, Michael Wolfe, Spencer Fogelman, & Joseph Caguioa\n",
    "\n",
    "DS 7331.407\n",
    "\n",
    "Thursday 6:30pm - 8:00pm"
   ]
  },
  {
   "cell_type": "markdown",
   "metadata": {},
   "source": [
    "# Introduction\n",
    "\n",
    "*Dataset Source: https://www.kaggle.com/rudymizrahi/airbnb-listings-in-major-us-cities-deloitte-ml*\n",
    "\n",
    "This Kaggle dataset contains data on Airbnb listings for six major U.S. cities. The competition's original goal was to use available attributes to predict listing price. However, the dataset can be adjusted to predict other variables as well.\n",
    "\n",
    "In this notebook, the dataset will be used for practicing classification techniques on two binned versions of the review_scores_rating variable explored previously.\n",
    "\n",
    "### Setup"
   ]
  },
  {
   "cell_type": "code",
   "execution_count": 1,
   "metadata": {},
   "outputs": [],
   "source": [
    "import pandas as pd\n",
    "import numpy as np\n",
    "import seaborn as sns\n",
    "import datetime\n",
    "import csv\n",
    "import matplotlib.pyplot as plt\n",
    "import plotly.graph_objects as go\n",
    "import warnings\n",
    "\n",
    "from plotnine import *\n",
    "%matplotlib inline\n",
    "warnings.filterwarnings('ignore')"
   ]
  },
  {
   "cell_type": "code",
   "execution_count": 2,
   "metadata": {},
   "outputs": [],
   "source": [
    "def EncodeCategory(col_to_encode):\n",
    "    distinct_cats = col_to_encode.unique()\n",
    "    encode_list = []\n",
    "    i = 1\n",
    "    for cat in distinct_cats:\n",
    "        encode_list.append([cat,i])    \n",
    "        i += 1\n",
    "    return(encode_list)"
   ]
  },
  {
   "cell_type": "markdown",
   "metadata": {},
   "source": [
    "***"
   ]
  },
  {
   "cell_type": "markdown",
   "metadata": {},
   "source": [
    "# Data Preparation Part 1\n",
    "\n",
    "<i><b>10 pts.</b> Define and prepare your class variables. Use proper variable representations (int, float, one-hot, etc.). Use pre-processing methods (as needed) for dimensionality reduction, scaling, etc. Remove variables that are not needed/useful for the analysis.</i>"
   ]
  },
  {
   "cell_type": "code",
   "execution_count": 3,
   "metadata": {},
   "outputs": [],
   "source": [
    "# Load dataset\n",
    "df = pd.read_csv('https://raw.githubusercontent.com/anguyen-07/DS7331-ML_Labs/master/data/airbnb_train.csv')"
   ]
  },
  {
   "cell_type": "code",
   "execution_count": 4,
   "metadata": {},
   "outputs": [
    {
     "data": {
      "text/html": [
       "<div>\n",
       "<style scoped>\n",
       "    .dataframe tbody tr th:only-of-type {\n",
       "        vertical-align: middle;\n",
       "    }\n",
       "\n",
       "    .dataframe tbody tr th {\n",
       "        vertical-align: top;\n",
       "    }\n",
       "\n",
       "    .dataframe thead th {\n",
       "        text-align: right;\n",
       "    }\n",
       "</style>\n",
       "<table border=\"1\" class=\"dataframe\">\n",
       "  <thead>\n",
       "    <tr style=\"text-align: right;\">\n",
       "      <th></th>\n",
       "      <th>id</th>\n",
       "      <th>log_price</th>\n",
       "      <th>property_type</th>\n",
       "      <th>room_type</th>\n",
       "      <th>amenities</th>\n",
       "      <th>accommodates</th>\n",
       "      <th>bathrooms</th>\n",
       "      <th>bed_type</th>\n",
       "      <th>cancellation_policy</th>\n",
       "      <th>cleaning_fee</th>\n",
       "      <th>city</th>\n",
       "      <th>description</th>\n",
       "      <th>first_review</th>\n",
       "      <th>host_has_profile_pic</th>\n",
       "      <th>host_identity_verified</th>\n",
       "      <th>host_response_rate</th>\n",
       "      <th>host_since</th>\n",
       "      <th>instant_bookable</th>\n",
       "      <th>last_review</th>\n",
       "      <th>latitude</th>\n",
       "      <th>longitude</th>\n",
       "      <th>name</th>\n",
       "      <th>neighbourhood</th>\n",
       "      <th>number_of_reviews</th>\n",
       "      <th>review_scores_rating</th>\n",
       "      <th>thumbnail_url</th>\n",
       "      <th>zipcode</th>\n",
       "      <th>bedrooms</th>\n",
       "      <th>beds</th>\n",
       "    </tr>\n",
       "  </thead>\n",
       "  <tbody>\n",
       "    <tr>\n",
       "      <td>0</td>\n",
       "      <td>6901257</td>\n",
       "      <td>5.010635</td>\n",
       "      <td>Apartment</td>\n",
       "      <td>Entire home/apt</td>\n",
       "      <td>{\"Wireless Internet\",\"Air conditioning\",Kitche...</td>\n",
       "      <td>3</td>\n",
       "      <td>1.0</td>\n",
       "      <td>Real Bed</td>\n",
       "      <td>strict</td>\n",
       "      <td>True</td>\n",
       "      <td>NYC</td>\n",
       "      <td>Beautiful, sunlit brownstone 1-bedroom in the ...</td>\n",
       "      <td>2016-06-18</td>\n",
       "      <td>t</td>\n",
       "      <td>t</td>\n",
       "      <td>NaN</td>\n",
       "      <td>2012-03-26</td>\n",
       "      <td>f</td>\n",
       "      <td>2016-07-18</td>\n",
       "      <td>40.696524</td>\n",
       "      <td>-73.991617</td>\n",
       "      <td>Beautiful brownstone 1-bedroom</td>\n",
       "      <td>Brooklyn Heights</td>\n",
       "      <td>2</td>\n",
       "      <td>100.0</td>\n",
       "      <td>https://a0.muscache.com/im/pictures/6d7cbbf7-c...</td>\n",
       "      <td>11201</td>\n",
       "      <td>1.0</td>\n",
       "      <td>1.0</td>\n",
       "    </tr>\n",
       "    <tr>\n",
       "      <td>1</td>\n",
       "      <td>6304928</td>\n",
       "      <td>5.129899</td>\n",
       "      <td>Apartment</td>\n",
       "      <td>Entire home/apt</td>\n",
       "      <td>{\"Wireless Internet\",\"Air conditioning\",Kitche...</td>\n",
       "      <td>7</td>\n",
       "      <td>1.0</td>\n",
       "      <td>Real Bed</td>\n",
       "      <td>strict</td>\n",
       "      <td>True</td>\n",
       "      <td>NYC</td>\n",
       "      <td>Enjoy travelling during your stay in Manhattan...</td>\n",
       "      <td>2017-08-05</td>\n",
       "      <td>t</td>\n",
       "      <td>f</td>\n",
       "      <td>100%</td>\n",
       "      <td>2017-06-19</td>\n",
       "      <td>t</td>\n",
       "      <td>2017-09-23</td>\n",
       "      <td>40.766115</td>\n",
       "      <td>-73.989040</td>\n",
       "      <td>Superb 3BR Apt Located Near Times Square</td>\n",
       "      <td>Hell's Kitchen</td>\n",
       "      <td>6</td>\n",
       "      <td>93.0</td>\n",
       "      <td>https://a0.muscache.com/im/pictures/348a55fe-4...</td>\n",
       "      <td>10019</td>\n",
       "      <td>3.0</td>\n",
       "      <td>3.0</td>\n",
       "    </tr>\n",
       "    <tr>\n",
       "      <td>2</td>\n",
       "      <td>7919400</td>\n",
       "      <td>4.976734</td>\n",
       "      <td>Apartment</td>\n",
       "      <td>Entire home/apt</td>\n",
       "      <td>{TV,\"Cable TV\",\"Wireless Internet\",\"Air condit...</td>\n",
       "      <td>5</td>\n",
       "      <td>1.0</td>\n",
       "      <td>Real Bed</td>\n",
       "      <td>moderate</td>\n",
       "      <td>True</td>\n",
       "      <td>NYC</td>\n",
       "      <td>The Oasis comes complete with a full backyard ...</td>\n",
       "      <td>2017-04-30</td>\n",
       "      <td>t</td>\n",
       "      <td>t</td>\n",
       "      <td>100%</td>\n",
       "      <td>2016-10-25</td>\n",
       "      <td>t</td>\n",
       "      <td>2017-09-14</td>\n",
       "      <td>40.808110</td>\n",
       "      <td>-73.943756</td>\n",
       "      <td>The Garden Oasis</td>\n",
       "      <td>Harlem</td>\n",
       "      <td>10</td>\n",
       "      <td>92.0</td>\n",
       "      <td>https://a0.muscache.com/im/pictures/6fae5362-9...</td>\n",
       "      <td>10027</td>\n",
       "      <td>1.0</td>\n",
       "      <td>3.0</td>\n",
       "    </tr>\n",
       "    <tr>\n",
       "      <td>3</td>\n",
       "      <td>13418779</td>\n",
       "      <td>6.620073</td>\n",
       "      <td>House</td>\n",
       "      <td>Entire home/apt</td>\n",
       "      <td>{TV,\"Cable TV\",Internet,\"Wireless Internet\",Ki...</td>\n",
       "      <td>4</td>\n",
       "      <td>1.0</td>\n",
       "      <td>Real Bed</td>\n",
       "      <td>flexible</td>\n",
       "      <td>True</td>\n",
       "      <td>SF</td>\n",
       "      <td>This light-filled home-away-from-home is super...</td>\n",
       "      <td>NaN</td>\n",
       "      <td>t</td>\n",
       "      <td>t</td>\n",
       "      <td>NaN</td>\n",
       "      <td>2015-04-19</td>\n",
       "      <td>f</td>\n",
       "      <td>NaN</td>\n",
       "      <td>37.772004</td>\n",
       "      <td>-122.431619</td>\n",
       "      <td>Beautiful Flat in the Heart of SF!</td>\n",
       "      <td>Lower Haight</td>\n",
       "      <td>0</td>\n",
       "      <td>NaN</td>\n",
       "      <td>https://a0.muscache.com/im/pictures/72208dad-9...</td>\n",
       "      <td>94117.0</td>\n",
       "      <td>2.0</td>\n",
       "      <td>2.0</td>\n",
       "    </tr>\n",
       "    <tr>\n",
       "      <td>4</td>\n",
       "      <td>3808709</td>\n",
       "      <td>4.744932</td>\n",
       "      <td>Apartment</td>\n",
       "      <td>Entire home/apt</td>\n",
       "      <td>{TV,Internet,\"Wireless Internet\",\"Air conditio...</td>\n",
       "      <td>2</td>\n",
       "      <td>1.0</td>\n",
       "      <td>Real Bed</td>\n",
       "      <td>moderate</td>\n",
       "      <td>True</td>\n",
       "      <td>DC</td>\n",
       "      <td>Cool, cozy, and comfortable studio located in ...</td>\n",
       "      <td>2015-05-12</td>\n",
       "      <td>t</td>\n",
       "      <td>t</td>\n",
       "      <td>100%</td>\n",
       "      <td>2015-03-01</td>\n",
       "      <td>t</td>\n",
       "      <td>2017-01-22</td>\n",
       "      <td>38.925627</td>\n",
       "      <td>-77.034596</td>\n",
       "      <td>Great studio in midtown DC</td>\n",
       "      <td>Columbia Heights</td>\n",
       "      <td>4</td>\n",
       "      <td>40.0</td>\n",
       "      <td>NaN</td>\n",
       "      <td>20009</td>\n",
       "      <td>0.0</td>\n",
       "      <td>1.0</td>\n",
       "    </tr>\n",
       "  </tbody>\n",
       "</table>\n",
       "</div>"
      ],
      "text/plain": [
       "         id  log_price property_type        room_type  \\\n",
       "0   6901257   5.010635     Apartment  Entire home/apt   \n",
       "1   6304928   5.129899     Apartment  Entire home/apt   \n",
       "2   7919400   4.976734     Apartment  Entire home/apt   \n",
       "3  13418779   6.620073         House  Entire home/apt   \n",
       "4   3808709   4.744932     Apartment  Entire home/apt   \n",
       "\n",
       "                                           amenities  accommodates  bathrooms  \\\n",
       "0  {\"Wireless Internet\",\"Air conditioning\",Kitche...             3        1.0   \n",
       "1  {\"Wireless Internet\",\"Air conditioning\",Kitche...             7        1.0   \n",
       "2  {TV,\"Cable TV\",\"Wireless Internet\",\"Air condit...             5        1.0   \n",
       "3  {TV,\"Cable TV\",Internet,\"Wireless Internet\",Ki...             4        1.0   \n",
       "4  {TV,Internet,\"Wireless Internet\",\"Air conditio...             2        1.0   \n",
       "\n",
       "   bed_type cancellation_policy  cleaning_fee city  \\\n",
       "0  Real Bed              strict          True  NYC   \n",
       "1  Real Bed              strict          True  NYC   \n",
       "2  Real Bed            moderate          True  NYC   \n",
       "3  Real Bed            flexible          True   SF   \n",
       "4  Real Bed            moderate          True   DC   \n",
       "\n",
       "                                         description first_review  \\\n",
       "0  Beautiful, sunlit brownstone 1-bedroom in the ...   2016-06-18   \n",
       "1  Enjoy travelling during your stay in Manhattan...   2017-08-05   \n",
       "2  The Oasis comes complete with a full backyard ...   2017-04-30   \n",
       "3  This light-filled home-away-from-home is super...          NaN   \n",
       "4  Cool, cozy, and comfortable studio located in ...   2015-05-12   \n",
       "\n",
       "  host_has_profile_pic host_identity_verified host_response_rate  host_since  \\\n",
       "0                    t                      t                NaN  2012-03-26   \n",
       "1                    t                      f               100%  2017-06-19   \n",
       "2                    t                      t               100%  2016-10-25   \n",
       "3                    t                      t                NaN  2015-04-19   \n",
       "4                    t                      t               100%  2015-03-01   \n",
       "\n",
       "  instant_bookable last_review   latitude   longitude  \\\n",
       "0                f  2016-07-18  40.696524  -73.991617   \n",
       "1                t  2017-09-23  40.766115  -73.989040   \n",
       "2                t  2017-09-14  40.808110  -73.943756   \n",
       "3                f         NaN  37.772004 -122.431619   \n",
       "4                t  2017-01-22  38.925627  -77.034596   \n",
       "\n",
       "                                       name     neighbourhood  \\\n",
       "0            Beautiful brownstone 1-bedroom  Brooklyn Heights   \n",
       "1  Superb 3BR Apt Located Near Times Square    Hell's Kitchen   \n",
       "2                          The Garden Oasis            Harlem   \n",
       "3        Beautiful Flat in the Heart of SF!      Lower Haight   \n",
       "4                Great studio in midtown DC  Columbia Heights   \n",
       "\n",
       "   number_of_reviews  review_scores_rating  \\\n",
       "0                  2                 100.0   \n",
       "1                  6                  93.0   \n",
       "2                 10                  92.0   \n",
       "3                  0                   NaN   \n",
       "4                  4                  40.0   \n",
       "\n",
       "                                       thumbnail_url  zipcode  bedrooms  beds  \n",
       "0  https://a0.muscache.com/im/pictures/6d7cbbf7-c...    11201       1.0   1.0  \n",
       "1  https://a0.muscache.com/im/pictures/348a55fe-4...    10019       3.0   3.0  \n",
       "2  https://a0.muscache.com/im/pictures/6fae5362-9...    10027       1.0   3.0  \n",
       "3  https://a0.muscache.com/im/pictures/72208dad-9...  94117.0       2.0   2.0  \n",
       "4                                                NaN    20009       0.0   1.0  "
      ]
     },
     "execution_count": 4,
     "metadata": {},
     "output_type": "execute_result"
    }
   ],
   "source": [
    "pd.set_option('display.max_columns', None)\n",
    "pd.set_option('display.max_rows', None)\n",
    "df.head()"
   ]
  },
  {
   "cell_type": "code",
   "execution_count": 5,
   "metadata": {},
   "outputs": [
    {
     "data": {
      "text/html": [
       "<div>\n",
       "<style scoped>\n",
       "    .dataframe tbody tr th:only-of-type {\n",
       "        vertical-align: middle;\n",
       "    }\n",
       "\n",
       "    .dataframe tbody tr th {\n",
       "        vertical-align: top;\n",
       "    }\n",
       "\n",
       "    .dataframe thead th {\n",
       "        text-align: right;\n",
       "    }\n",
       "</style>\n",
       "<table border=\"1\" class=\"dataframe\">\n",
       "  <thead>\n",
       "    <tr style=\"text-align: right;\">\n",
       "      <th></th>\n",
       "      <th>grade</th>\n",
       "      <th>review_scores_rating</th>\n",
       "    </tr>\n",
       "  </thead>\n",
       "  <tbody>\n",
       "    <tr>\n",
       "      <td>0</td>\n",
       "      <td>A</td>\n",
       "      <td>100.0</td>\n",
       "    </tr>\n",
       "    <tr>\n",
       "      <td>1</td>\n",
       "      <td>A</td>\n",
       "      <td>93.0</td>\n",
       "    </tr>\n",
       "    <tr>\n",
       "      <td>2</td>\n",
       "      <td>A</td>\n",
       "      <td>92.0</td>\n",
       "    </tr>\n",
       "    <tr>\n",
       "      <td>3</td>\n",
       "      <td>NaN</td>\n",
       "      <td>NaN</td>\n",
       "    </tr>\n",
       "    <tr>\n",
       "      <td>4</td>\n",
       "      <td>F</td>\n",
       "      <td>40.0</td>\n",
       "    </tr>\n",
       "  </tbody>\n",
       "</table>\n",
       "</div>"
      ],
      "text/plain": [
       "  grade  review_scores_rating\n",
       "0     A                 100.0\n",
       "1     A                  93.0\n",
       "2     A                  92.0\n",
       "3   NaN                   NaN\n",
       "4     F                  40.0"
      ]
     },
     "execution_count": 5,
     "metadata": {},
     "output_type": "execute_result"
    }
   ],
   "source": [
    "df['price'] = np.exp(df['log_price'])\n",
    "df['grade'] = pd.cut(df.review_scores_rating, [0,60,70,80,90,101], right=False, labels = ['F', 'D', 'C', 'B', 'A'])\n",
    "df[['grade', 'review_scores_rating']].head()"
   ]
  },
  {
   "cell_type": "code",
   "execution_count": 14,
   "metadata": {},
   "outputs": [],
   "source": [
    "# Clean up datatypes and duplicates\n",
    "df_ratings = df.dropna(subset=['review_scores_rating'])\n",
    "df_ratings.drop_duplicates(inplace=True)\n",
    "floats = ['log_price','bathrooms','latitude','longitude','review_scores_rating', 'price']\n",
    "df_ratings[floats] = df_ratings[floats].astype(np.float64)\n",
    "ints = ['id','accommodates','number_of_reviews','bedrooms','beds']\n",
    "df_ratings[\"host_response_rate\"] = df_ratings[\"host_response_rate\"].str.rstrip('%').astype(np.float64)/100\n",
    "date_time = ['first_review','host_since','last_review']\n",
    "df_ratings[date_time] = df_ratings[date_time].apply(pd.to_datetime)\n",
    "booleans = ['host_has_profile_pic','host_identity_verified','instant_bookable']\n",
    "df_ratings[booleans] = df_ratings[booleans].replace({'t':True,'f':False})\n",
    "df_ratings[booleans] = df_ratings[booleans].astype(np.bool)\n",
    "categorical = ['property_type','room_type','bed_type','cancellation_policy','city','neighbourhood','zipcode']\n",
    "df_ratings[categorical] = df_ratings[categorical].astype('category')\n",
    "df_ratings.drop_duplicates()\n",
    "df_ratings.host_since[df_ratings.host_since.isna()] = df_ratings.first_review[df_ratings.host_since.isna()]"
   ]
  },
  {
   "cell_type": "code",
   "execution_count": 7,
   "metadata": {},
   "outputs": [],
   "source": [
    "# Impute missing values\n",
    "df_imputed = df_ratings\n",
    "df_imputed[\"bathrooms\"] = df_imputed[\"bathrooms\"].fillna(df_imputed.groupby([\"property_type\",\"accommodates\"])[\"bathrooms\"].apply(lambda x : x.fillna(x.median())))\n",
    "df_imputed[\"bedrooms\"] = df_imputed[\"bedrooms\"].fillna(df_imputed.groupby([\"property_type\",\"accommodates\"])[\"bedrooms\"].apply(lambda x : x.fillna(x.median())))\n",
    "df_imputed[\"beds\"] = df_imputed[\"beds\"].fillna(df_imputed.groupby([\"property_type\",\"accommodates\"])[\"beds\"].apply(lambda x : x.fillna(x.median())))\n",
    "df_imputed[\"host_response_rate\"] = df_imputed[\"host_response_rate\"].fillna(df_imputed.groupby([\"number_of_reviews\"])[\"host_response_rate\"].apply(lambda x : x.fillna(x.mean())))\n",
    "# Impute Missing Value of for 100% Host Response Rate for Row 48194 - Private Room in Apartment\n",
    "df_imputed[\"host_response_rate\"][df_imputed[\"host_response_rate\"].isna()] = 1.0\n",
    "df_imputed[ints] = df_imputed[ints].astype(np.int64)"
   ]
  },
  {
   "cell_type": "code",
   "execution_count": 8,
   "metadata": {},
   "outputs": [],
   "source": [
    "import re\n",
    "#Create a new cleaned amenities column where all amenities are in list form\n",
    "df_imputed['amenities_new'] = df_imputed.apply(lambda row: re.sub(r'[{}\"\"]', '', row['amenities']), axis=1)\n",
    "df_imputed['amenities_new'] = df_imputed.apply(lambda row: row['amenities_new'].lower().split(','), axis=1)\n",
    "df_imputed = df_imputed.reset_index()\n",
    "df_imputed['length_amenities'] = df_imputed.apply(lambda row: len(row['amenities_new']), axis=1)\n",
    "\n",
    "# Create separate columns based on amenities\n",
    "df_imputed['internet'] = df_imputed.apply(lambda row: 'internet' in row.amenities.lower(), axis=1)\n",
    "df_imputed['TV'] = df_imputed.apply(lambda row: 'tv' in row.amenities.lower(), axis=1)\n",
    "df_imputed['air_conditioning'] = df_imputed.apply(lambda row: 'air conditioning' in row.amenities.lower(), axis=1)\n",
    "df_imputed['kitchen'] = df_imputed.apply(lambda row: 'kitchen' in row.amenities.lower(), axis=1)\n",
    "df_imputed['pool'] = df_imputed.apply(lambda row: 'pool' in row.amenities.lower(), axis=1)\n",
    "df_imputed['parking'] = df_imputed.apply(lambda row: 'parking' in row.amenities.lower(), axis=1)\n",
    "\n",
    "# Get information from description based on length in characters\n",
    "df_imputed['description_length'] = df_imputed['description'].apply(len)\n",
    "\n",
    "# Create the target variable superuser\n",
    "df_imputed['superuser'] = False\n",
    "df_imputed.loc[df.review_scores_rating >=96, 'superuser'] = True\n",
    "\n",
    "# Create altnerative target variable grade_grouped\n",
    "new_grades = {\n",
    "    'A':'A',\n",
    "    'B':'<A',\n",
    "    'C':'<A',\n",
    "    'D':'<A',\n",
    "    'F':'<A'\n",
    "}\n",
    "df_imputed['grade_grouped'] = df_imputed['grade'].map(new_grades)"
   ]
  },
  {
   "cell_type": "code",
   "execution_count": 9,
   "metadata": {},
   "outputs": [],
   "source": [
    "import datetime\n",
    "date_published = datetime.datetime(2018,3,14)\n",
    "df_imputed['host_since'] = pd.to_datetime(df_imputed['host_since'])\n",
    "df_imputed['host_since_days'] = df_imputed.apply(lambda row: (date_published - row['host_since']).days, axis=1)"
   ]
  },
  {
   "cell_type": "markdown",
   "metadata": {},
   "source": [
    "Removed columns that are not meaningful in a modeling context (i.e., index,id), redundant with newly engineered features (i.e., amenities, description), or are likenly not useful in predicting the target variable grade_grouped."
   ]
  },
  {
   "cell_type": "code",
   "execution_count": 16,
   "metadata": {},
   "outputs": [],
   "source": [
    "# delete useless columns\n",
    "df_logistic = df_imputed.drop(['index','id','amenities','description','zipcode','description_length',\n",
    "                               'latitude','longitude','name','neighbourhood','review_scores_rating','thumbnail_url',\n",
    "                               'zipcode'], axis=1)\n",
    "\n",
    "# delete other redundant variables\n",
    "del df_logistic['amenities_new']\n",
    "del df_logistic['host_since']\n",
    "del df_logistic['grade']\n",
    "del df_logistic['first_review']\n",
    "del df_logistic['last_review']\n",
    "\n",
    "# Remove factor with unncessarily large number of levels\n",
    "df_logistic.drop(['property_type'], axis=1, inplace=True)"
   ]
  },
  {
   "cell_type": "markdown",
   "metadata": {},
   "source": [
    "One-Hot Encode Categorical Variables with multiple levels."
   ]
  },
  {
   "cell_type": "code",
   "execution_count": 17,
   "metadata": {},
   "outputs": [],
   "source": [
    "categorical_vars = ['room_type','bed_type','cancellation_policy','city']\n",
    "\n",
    "# Create Dummy Variables\n",
    "multiCategorical_vars = ['city','cancellation_policy','bed_type','room_type']\n",
    "\n",
    "dummy_df = pd.get_dummies(df_logistic[multiCategorical_vars], drop_first = True)\n",
    "df_final = pd.concat([df_logistic, dummy_df], axis=1)\n",
    "\n",
    "# Delete non-dummy categorical variables\n",
    "for x in categorical_vars:\n",
    "    if x in df_final:\n",
    "        del df_final[x]"
   ]
  },
  {
   "cell_type": "markdown",
   "metadata": {},
   "source": [
    "***"
   ]
  },
  {
   "cell_type": "markdown",
   "metadata": {},
   "source": [
    "# Data Preparation Part 2\n",
    "\n",
    "<i><b>5 pts.</b> Describe the final dataset that is used for classification/regression (include a description of any newly formed variables you created).</i>"
   ]
  },
  {
   "cell_type": "code",
   "execution_count": 18,
   "metadata": {},
   "outputs": [
    {
     "name": "stdout",
     "output_type": "stream",
     "text": [
      "<class 'pandas.core.frame.DataFrame'>\n",
      "RangeIndex: 57389 entries, 0 to 57388\n",
      "Data columns (total 37 columns):\n",
      "log_price                              57389 non-null float64\n",
      "accommodates                           57389 non-null int64\n",
      "bathrooms                              57389 non-null float64\n",
      "cleaning_fee                           57389 non-null bool\n",
      "host_has_profile_pic                   57389 non-null bool\n",
      "host_identity_verified                 57389 non-null bool\n",
      "host_response_rate                     57389 non-null float64\n",
      "instant_bookable                       57389 non-null bool\n",
      "number_of_reviews                      57389 non-null int64\n",
      "bedrooms                               57389 non-null int64\n",
      "beds                                   57389 non-null int64\n",
      "price                                  57389 non-null float64\n",
      "length_amenities                       57389 non-null int64\n",
      "internet                               57389 non-null bool\n",
      "TV                                     57389 non-null bool\n",
      "air_conditioning                       57389 non-null bool\n",
      "kitchen                                57389 non-null bool\n",
      "pool                                   57389 non-null bool\n",
      "parking                                57389 non-null bool\n",
      "superuser                              57389 non-null bool\n",
      "grade_grouped                          57389 non-null object\n",
      "host_since_days                        57389 non-null int64\n",
      "city_Chicago                           57389 non-null uint8\n",
      "city_DC                                57389 non-null uint8\n",
      "city_LA                                57389 non-null uint8\n",
      "city_NYC                               57389 non-null uint8\n",
      "city_SF                                57389 non-null uint8\n",
      "cancellation_policy_moderate           57389 non-null uint8\n",
      "cancellation_policy_strict             57389 non-null uint8\n",
      "cancellation_policy_super_strict_30    57389 non-null uint8\n",
      "cancellation_policy_super_strict_60    57389 non-null uint8\n",
      "bed_type_Couch                         57389 non-null uint8\n",
      "bed_type_Futon                         57389 non-null uint8\n",
      "bed_type_Pull-out Sofa                 57389 non-null uint8\n",
      "bed_type_Real Bed                      57389 non-null uint8\n",
      "room_type_Private room                 57389 non-null uint8\n",
      "room_type_Shared room                  57389 non-null uint8\n",
      "dtypes: bool(11), float64(4), int64(6), object(1), uint8(15)\n",
      "memory usage: 6.2+ MB\n"
     ]
    }
   ],
   "source": [
    "df_final.info()"
   ]
  },
  {
   "cell_type": "code",
   "execution_count": 14,
   "metadata": {},
   "outputs": [
    {
     "data": {
      "text/html": [
       "<div>\n",
       "<style scoped>\n",
       "    .dataframe tbody tr th:only-of-type {\n",
       "        vertical-align: middle;\n",
       "    }\n",
       "\n",
       "    .dataframe tbody tr th {\n",
       "        vertical-align: top;\n",
       "    }\n",
       "\n",
       "    .dataframe thead th {\n",
       "        text-align: right;\n",
       "    }\n",
       "</style>\n",
       "<table border=\"1\" class=\"dataframe\">\n",
       "  <thead>\n",
       "    <tr style=\"text-align: right;\">\n",
       "      <th></th>\n",
       "      <th>log_price</th>\n",
       "      <th>accommodates</th>\n",
       "      <th>bathrooms</th>\n",
       "      <th>host_response_rate</th>\n",
       "      <th>number_of_reviews</th>\n",
       "      <th>bedrooms</th>\n",
       "      <th>beds</th>\n",
       "      <th>length_amenities</th>\n",
       "      <th>host_since_days</th>\n",
       "      <th>city_Chicago</th>\n",
       "      <th>city_DC</th>\n",
       "      <th>city_LA</th>\n",
       "      <th>city_NYC</th>\n",
       "      <th>city_SF</th>\n",
       "      <th>cancellation_policy_moderate</th>\n",
       "      <th>cancellation_policy_strict</th>\n",
       "      <th>cancellation_policy_super_strict_30</th>\n",
       "      <th>cancellation_policy_super_strict_60</th>\n",
       "      <th>bed_type_Couch</th>\n",
       "      <th>bed_type_Futon</th>\n",
       "      <th>bed_type_Pull-out Sofa</th>\n",
       "      <th>bed_type_Real Bed</th>\n",
       "      <th>room_type_Private room</th>\n",
       "      <th>room_type_Shared room</th>\n",
       "    </tr>\n",
       "  </thead>\n",
       "  <tbody>\n",
       "    <tr>\n",
       "      <th>count</th>\n",
       "      <td>57389.000000</td>\n",
       "      <td>57389.000000</td>\n",
       "      <td>57389.000000</td>\n",
       "      <td>57389.000000</td>\n",
       "      <td>57389.000000</td>\n",
       "      <td>57389.000000</td>\n",
       "      <td>57389.000000</td>\n",
       "      <td>57389.000000</td>\n",
       "      <td>57389.000000</td>\n",
       "      <td>57389.000000</td>\n",
       "      <td>57389.000000</td>\n",
       "      <td>57389.000000</td>\n",
       "      <td>57389.000000</td>\n",
       "      <td>57389.000000</td>\n",
       "      <td>57389.000000</td>\n",
       "      <td>57389.000000</td>\n",
       "      <td>57389.000000</td>\n",
       "      <td>57389.000000</td>\n",
       "      <td>57389.000000</td>\n",
       "      <td>57389.000000</td>\n",
       "      <td>57389.000000</td>\n",
       "      <td>57389.000000</td>\n",
       "      <td>57389.000000</td>\n",
       "      <td>57389.000000</td>\n",
       "    </tr>\n",
       "    <tr>\n",
       "      <th>mean</th>\n",
       "      <td>4.749232</td>\n",
       "      <td>3.218247</td>\n",
       "      <td>1.225967</td>\n",
       "      <td>0.952633</td>\n",
       "      <td>26.957326</td>\n",
       "      <td>1.260904</td>\n",
       "      <td>1.737546</td>\n",
       "      <td>18.357943</td>\n",
       "      <td>1373.129380</td>\n",
       "      <td>0.055899</td>\n",
       "      <td>0.071442</td>\n",
       "      <td>0.299465</td>\n",
       "      <td>0.436111</td>\n",
       "      <td>0.087944</td>\n",
       "      <td>0.287355</td>\n",
       "      <td>0.484884</td>\n",
       "      <td>0.001446</td>\n",
       "      <td>0.000174</td>\n",
       "      <td>0.002771</td>\n",
       "      <td>0.010560</td>\n",
       "      <td>0.008608</td>\n",
       "      <td>0.972068</td>\n",
       "      <td>0.399536</td>\n",
       "      <td>0.025144</td>\n",
       "    </tr>\n",
       "    <tr>\n",
       "      <th>std</th>\n",
       "      <td>0.668700</td>\n",
       "      <td>2.144154</td>\n",
       "      <td>0.561473</td>\n",
       "      <td>0.122000</td>\n",
       "      <td>41.043449</td>\n",
       "      <td>0.841280</td>\n",
       "      <td>1.265311</td>\n",
       "      <td>6.907464</td>\n",
       "      <td>662.667741</td>\n",
       "      <td>0.229729</td>\n",
       "      <td>0.257564</td>\n",
       "      <td>0.458028</td>\n",
       "      <td>0.495906</td>\n",
       "      <td>0.283215</td>\n",
       "      <td>0.452532</td>\n",
       "      <td>0.499776</td>\n",
       "      <td>0.038003</td>\n",
       "      <td>0.013199</td>\n",
       "      <td>0.052564</td>\n",
       "      <td>0.102216</td>\n",
       "      <td>0.092380</td>\n",
       "      <td>0.164780</td>\n",
       "      <td>0.489807</td>\n",
       "      <td>0.156564</td>\n",
       "    </tr>\n",
       "    <tr>\n",
       "      <th>min</th>\n",
       "      <td>0.000000</td>\n",
       "      <td>1.000000</td>\n",
       "      <td>0.000000</td>\n",
       "      <td>0.000000</td>\n",
       "      <td>1.000000</td>\n",
       "      <td>0.000000</td>\n",
       "      <td>0.000000</td>\n",
       "      <td>1.000000</td>\n",
       "      <td>167.000000</td>\n",
       "      <td>0.000000</td>\n",
       "      <td>0.000000</td>\n",
       "      <td>0.000000</td>\n",
       "      <td>0.000000</td>\n",
       "      <td>0.000000</td>\n",
       "      <td>0.000000</td>\n",
       "      <td>0.000000</td>\n",
       "      <td>0.000000</td>\n",
       "      <td>0.000000</td>\n",
       "      <td>0.000000</td>\n",
       "      <td>0.000000</td>\n",
       "      <td>0.000000</td>\n",
       "      <td>0.000000</td>\n",
       "      <td>0.000000</td>\n",
       "      <td>0.000000</td>\n",
       "    </tr>\n",
       "    <tr>\n",
       "      <th>25%</th>\n",
       "      <td>4.304065</td>\n",
       "      <td>2.000000</td>\n",
       "      <td>1.000000</td>\n",
       "      <td>0.940000</td>\n",
       "      <td>3.000000</td>\n",
       "      <td>1.000000</td>\n",
       "      <td>1.000000</td>\n",
       "      <td>14.000000</td>\n",
       "      <td>851.000000</td>\n",
       "      <td>0.000000</td>\n",
       "      <td>0.000000</td>\n",
       "      <td>0.000000</td>\n",
       "      <td>0.000000</td>\n",
       "      <td>0.000000</td>\n",
       "      <td>0.000000</td>\n",
       "      <td>0.000000</td>\n",
       "      <td>0.000000</td>\n",
       "      <td>0.000000</td>\n",
       "      <td>0.000000</td>\n",
       "      <td>0.000000</td>\n",
       "      <td>0.000000</td>\n",
       "      <td>1.000000</td>\n",
       "      <td>0.000000</td>\n",
       "      <td>0.000000</td>\n",
       "    </tr>\n",
       "    <tr>\n",
       "      <th>50%</th>\n",
       "      <td>4.700480</td>\n",
       "      <td>2.000000</td>\n",
       "      <td>1.000000</td>\n",
       "      <td>1.000000</td>\n",
       "      <td>11.000000</td>\n",
       "      <td>1.000000</td>\n",
       "      <td>1.000000</td>\n",
       "      <td>18.000000</td>\n",
       "      <td>1312.000000</td>\n",
       "      <td>0.000000</td>\n",
       "      <td>0.000000</td>\n",
       "      <td>0.000000</td>\n",
       "      <td>0.000000</td>\n",
       "      <td>0.000000</td>\n",
       "      <td>0.000000</td>\n",
       "      <td>0.000000</td>\n",
       "      <td>0.000000</td>\n",
       "      <td>0.000000</td>\n",
       "      <td>0.000000</td>\n",
       "      <td>0.000000</td>\n",
       "      <td>0.000000</td>\n",
       "      <td>1.000000</td>\n",
       "      <td>0.000000</td>\n",
       "      <td>0.000000</td>\n",
       "    </tr>\n",
       "    <tr>\n",
       "      <th>75%</th>\n",
       "      <td>5.164786</td>\n",
       "      <td>4.000000</td>\n",
       "      <td>1.000000</td>\n",
       "      <td>1.000000</td>\n",
       "      <td>33.000000</td>\n",
       "      <td>1.000000</td>\n",
       "      <td>2.000000</td>\n",
       "      <td>22.000000</td>\n",
       "      <td>1841.000000</td>\n",
       "      <td>0.000000</td>\n",
       "      <td>0.000000</td>\n",
       "      <td>1.000000</td>\n",
       "      <td>1.000000</td>\n",
       "      <td>0.000000</td>\n",
       "      <td>1.000000</td>\n",
       "      <td>1.000000</td>\n",
       "      <td>0.000000</td>\n",
       "      <td>0.000000</td>\n",
       "      <td>0.000000</td>\n",
       "      <td>0.000000</td>\n",
       "      <td>0.000000</td>\n",
       "      <td>1.000000</td>\n",
       "      <td>1.000000</td>\n",
       "      <td>0.000000</td>\n",
       "    </tr>\n",
       "    <tr>\n",
       "      <th>max</th>\n",
       "      <td>7.600402</td>\n",
       "      <td>16.000000</td>\n",
       "      <td>8.000000</td>\n",
       "      <td>1.000000</td>\n",
       "      <td>605.000000</td>\n",
       "      <td>10.000000</td>\n",
       "      <td>18.000000</td>\n",
       "      <td>77.000000</td>\n",
       "      <td>3663.000000</td>\n",
       "      <td>1.000000</td>\n",
       "      <td>1.000000</td>\n",
       "      <td>1.000000</td>\n",
       "      <td>1.000000</td>\n",
       "      <td>1.000000</td>\n",
       "      <td>1.000000</td>\n",
       "      <td>1.000000</td>\n",
       "      <td>1.000000</td>\n",
       "      <td>1.000000</td>\n",
       "      <td>1.000000</td>\n",
       "      <td>1.000000</td>\n",
       "      <td>1.000000</td>\n",
       "      <td>1.000000</td>\n",
       "      <td>1.000000</td>\n",
       "      <td>1.000000</td>\n",
       "    </tr>\n",
       "  </tbody>\n",
       "</table>\n",
       "</div>"
      ],
      "text/plain": [
       "          log_price  accommodates     bathrooms  host_response_rate  \\\n",
       "count  57389.000000  57389.000000  57389.000000        57389.000000   \n",
       "mean       4.749232      3.218247      1.225967            0.952633   \n",
       "std        0.668700      2.144154      0.561473            0.122000   \n",
       "min        0.000000      1.000000      0.000000            0.000000   \n",
       "25%        4.304065      2.000000      1.000000            0.940000   \n",
       "50%        4.700480      2.000000      1.000000            1.000000   \n",
       "75%        5.164786      4.000000      1.000000            1.000000   \n",
       "max        7.600402     16.000000      8.000000            1.000000   \n",
       "\n",
       "       number_of_reviews      bedrooms          beds  length_amenities  \\\n",
       "count       57389.000000  57389.000000  57389.000000      57389.000000   \n",
       "mean           26.957326      1.260904      1.737546         18.357943   \n",
       "std            41.043449      0.841280      1.265311          6.907464   \n",
       "min             1.000000      0.000000      0.000000          1.000000   \n",
       "25%             3.000000      1.000000      1.000000         14.000000   \n",
       "50%            11.000000      1.000000      1.000000         18.000000   \n",
       "75%            33.000000      1.000000      2.000000         22.000000   \n",
       "max           605.000000     10.000000     18.000000         77.000000   \n",
       "\n",
       "       host_since_days  city_Chicago       city_DC       city_LA  \\\n",
       "count     57389.000000  57389.000000  57389.000000  57389.000000   \n",
       "mean       1373.129380      0.055899      0.071442      0.299465   \n",
       "std         662.667741      0.229729      0.257564      0.458028   \n",
       "min         167.000000      0.000000      0.000000      0.000000   \n",
       "25%         851.000000      0.000000      0.000000      0.000000   \n",
       "50%        1312.000000      0.000000      0.000000      0.000000   \n",
       "75%        1841.000000      0.000000      0.000000      1.000000   \n",
       "max        3663.000000      1.000000      1.000000      1.000000   \n",
       "\n",
       "           city_NYC       city_SF  cancellation_policy_moderate  \\\n",
       "count  57389.000000  57389.000000                  57389.000000   \n",
       "mean       0.436111      0.087944                      0.287355   \n",
       "std        0.495906      0.283215                      0.452532   \n",
       "min        0.000000      0.000000                      0.000000   \n",
       "25%        0.000000      0.000000                      0.000000   \n",
       "50%        0.000000      0.000000                      0.000000   \n",
       "75%        1.000000      0.000000                      1.000000   \n",
       "max        1.000000      1.000000                      1.000000   \n",
       "\n",
       "       cancellation_policy_strict  cancellation_policy_super_strict_30  \\\n",
       "count                57389.000000                         57389.000000   \n",
       "mean                     0.484884                             0.001446   \n",
       "std                      0.499776                             0.038003   \n",
       "min                      0.000000                             0.000000   \n",
       "25%                      0.000000                             0.000000   \n",
       "50%                      0.000000                             0.000000   \n",
       "75%                      1.000000                             0.000000   \n",
       "max                      1.000000                             1.000000   \n",
       "\n",
       "       cancellation_policy_super_strict_60  bed_type_Couch  bed_type_Futon  \\\n",
       "count                         57389.000000    57389.000000    57389.000000   \n",
       "mean                              0.000174        0.002771        0.010560   \n",
       "std                               0.013199        0.052564        0.102216   \n",
       "min                               0.000000        0.000000        0.000000   \n",
       "25%                               0.000000        0.000000        0.000000   \n",
       "50%                               0.000000        0.000000        0.000000   \n",
       "75%                               0.000000        0.000000        0.000000   \n",
       "max                               1.000000        1.000000        1.000000   \n",
       "\n",
       "       bed_type_Pull-out Sofa  bed_type_Real Bed  room_type_Private room  \\\n",
       "count            57389.000000       57389.000000            57389.000000   \n",
       "mean                 0.008608           0.972068                0.399536   \n",
       "std                  0.092380           0.164780                0.489807   \n",
       "min                  0.000000           0.000000                0.000000   \n",
       "25%                  0.000000           1.000000                0.000000   \n",
       "50%                  0.000000           1.000000                0.000000   \n",
       "75%                  0.000000           1.000000                1.000000   \n",
       "max                  1.000000           1.000000                1.000000   \n",
       "\n",
       "       room_type_Shared room  \n",
       "count           57389.000000  \n",
       "mean                0.025144  \n",
       "std                 0.156564  \n",
       "min                 0.000000  \n",
       "25%                 0.000000  \n",
       "50%                 0.000000  \n",
       "75%                 0.000000  \n",
       "max                 1.000000  "
      ]
     },
     "execution_count": 14,
     "metadata": {},
     "output_type": "execute_result"
    }
   ],
   "source": [
    "df_final.describe()"
   ]
  },
  {
   "cell_type": "markdown",
   "metadata": {},
   "source": [
    "The original variable price was not including in the model. Instead, there was log price, likely made to compress the outliers of price (for example, there was an entire island for rent). We exponentiated log price to get back the original price variable."
   ]
  },
  {
   "cell_type": "code",
   "execution_count": 20,
   "metadata": {},
   "outputs": [
    {
     "data": {
      "text/plain": [
       "array([[<matplotlib.axes._subplots.AxesSubplot object at 0x1c28b122b0>]],\n",
       "      dtype=object)"
      ]
     },
     "execution_count": 20,
     "metadata": {},
     "output_type": "execute_result"
    },
    {
     "data": {
      "image/png": "[encoded data removed]",
      "text/plain": [
       "<Figure size 432x288 with 1 Axes>"
      ]
     },
     "metadata": {
      "needs_background": "light"
     },
     "output_type": "display_data"
    }
   ],
   "source": [
    "df_final.hist(column='price')"
   ]
  },
  {
   "cell_type": "code",
   "execution_count": 15,
   "metadata": {},
   "outputs": [
    {
     "data": {
      "text/plain": [
       "array([[<matplotlib.axes._subplots.AxesSubplot object at 0x000001F0E2BB77C8>]],\n",
       "      dtype=object)"
      ]
     },
     "execution_count": 15,
     "metadata": {},
     "output_type": "execute_result"
    },
    {
     "data": {
      "image/png": "[encoded data removed]",
      "text/plain": [
       "<Figure size 432x288 with 1 Axes>"
      ]
     },
     "metadata": {
      "needs_background": "light"
     },
     "output_type": "display_data"
    }
   ],
   "source": [
    "df_final.hist(column='log_price')"
   ]
  },
  {
   "cell_type": "markdown",
   "metadata": {},
   "source": [
    "As pictured above, the log price has a much more normal distribution. Another attribute we created is the host_since_days, a calculation of how many days a host has been active, defined as the days they became a host subtracted from the date the dataset was made publcally available."
   ]
  },
  {
   "cell_type": "code",
   "execution_count": 21,
   "metadata": {},
   "outputs": [
    {
     "data": {
      "text/plain": [
       "<matplotlib.axes._subplots.AxesSubplot at 0x1c2a6a2ef0>"
      ]
     },
     "execution_count": 21,
     "metadata": {},
     "output_type": "execute_result"
    },
    {
     "data": {
      "image/png": "[encoded data removed]",
      "text/plain": [
       "<Figure size 432x288 with 1 Axes>"
      ]
     },
     "metadata": {
      "needs_background": "light"
     },
     "output_type": "display_data"
    }
   ],
   "source": [
    "df_final.boxplot(column='host_since_days')"
   ]
  },
  {
   "cell_type": "markdown",
   "metadata": {},
   "source": [
    "This appears to be right-skewed, with a number of outliers. Some of the hosts look to have been active for a very long time. "
   ]
  },
  {
   "cell_type": "markdown",
   "metadata": {},
   "source": [
    "We also created a variable called length_amenities. The original amenities variable was a list of all the reported amenties. We wanted to see if there was a correlation between the length of this list and the overall grade of the property."
   ]
  },
  {
   "cell_type": "code",
   "execution_count": 22,
   "metadata": {},
   "outputs": [
    {
     "data": {
      "text/plain": [
       "<matplotlib.axes._subplots.AxesSubplot at 0x1c30cfb9b0>"
      ]
     },
     "execution_count": 22,
     "metadata": {},
     "output_type": "execute_result"
    },
    {
     "data": {
      "image/png": "[encoded data removed]",
      "text/plain": [
       "<Figure size 432x288 with 1 Axes>"
      ]
     },
     "metadata": {
      "needs_background": "light"
     },
     "output_type": "display_data"
    }
   ],
   "source": [
    "df_final.boxplot(column='length_amenities')"
   ]
  },
  {
   "cell_type": "code",
   "execution_count": 23,
   "metadata": {},
   "outputs": [
    {
     "data": {
      "text/plain": [
       "array([[<matplotlib.axes._subplots.AxesSubplot object at 0x1c2a0af198>]],\n",
       "      dtype=object)"
      ]
     },
     "execution_count": 23,
     "metadata": {},
     "output_type": "execute_result"
    },
    {
     "data": {
      "image/png": "[encoded data removed]",
      "text/plain": [
       "<Figure size 432x288 with 1 Axes>"
      ]
     },
     "metadata": {
      "needs_background": "light"
     },
     "output_type": "display_data"
    }
   ],
   "source": [
    "df_final.hist(column='length_amenities')"
   ]
  },
  {
   "cell_type": "markdown",
   "metadata": {},
   "source": [
    "There is an apparent right skew. There are a number of people who have very long lists of amenities.\n",
    "**For the purpose of our first classification task**, we have created a grade_grouped target variable to identify potential hosts that may be targeted for AirBnb's superhost program if they have at least 90% for their rating review scores. We grouped all grades under an A as being less than an A because most people in the dataset have an A rating and we wanted to mitigate the class imbalance and create a binary variable to predict."
   ]
  },
  {
   "cell_type": "code",
   "execution_count": 24,
   "metadata": {},
   "outputs": [
    {
     "data": {
      "text/plain": [
       "<matplotlib.axes._subplots.AxesSubplot at 0x1c36ace828>"
      ]
     },
     "execution_count": 24,
     "metadata": {},
     "output_type": "execute_result"
    },
    {
     "data": {
      "image/png": "[encoded data removed]",
      "text/plain": [
       "<Figure size 432x288 with 1 Axes>"
      ]
     },
     "metadata": {
      "needs_background": "light"
     },
     "output_type": "display_data"
    }
   ],
   "source": [
    "sns.countplot(data=df_imputed, x = 'grade_grouped')"
   ]
  },
  {
   "cell_type": "markdown",
   "metadata": {},
   "source": [
    "For the grade_grouped target variable, there is a heavy imbalance of classes with 47,897 (83.5%) instances in the dataset reciving a rating review score of 90% or higher. On the other hand, only 9,492 instances recieved a rating review score lower than 90%. Although our EDA, shows a clear separation between the classes of A and <A compared to the 96% cutoff with the superuser variable. With this heavy imbalance, we will attempt to build our classification models using prior probabilities to optimize model performance and prediction accuracy."
   ]
  },
  {
   "cell_type": "markdown",
   "metadata": {},
   "source": [
    "**For the purpose of the second classification task**, we decided to subset our dataset based on all listing records that recieved an A or at least 90% on their review scores rating. From there we will use the superuser target variable to further investigate what separates good AirBnb listings (at least 90%) and exceptional listings (at least 96%, the minimum overall rating from reviews to be eligible for the Superhost program). This task will be performed with the dataset named df_superuser_subset."
   ]
  },
  {
   "cell_type": "code",
   "execution_count": 25,
   "metadata": {
    "scrolled": true
   },
   "outputs": [
    {
     "name": "stdout",
     "output_type": "stream",
     "text": [
      "<class 'pandas.core.frame.DataFrame'>\n",
      "Int64Index: 47897 entries, 0 to 57388\n",
      "Data columns (total 37 columns):\n",
      "log_price                              47897 non-null float64\n",
      "accommodates                           47897 non-null int64\n",
      "bathrooms                              47897 non-null float64\n",
      "cleaning_fee                           47897 non-null bool\n",
      "host_has_profile_pic                   47897 non-null bool\n",
      "host_identity_verified                 47897 non-null bool\n",
      "host_response_rate                     47897 non-null float64\n",
      "instant_bookable                       47897 non-null bool\n",
      "number_of_reviews                      47897 non-null int64\n",
      "bedrooms                               47897 non-null int64\n",
      "beds                                   47897 non-null int64\n",
      "price                                  47897 non-null float64\n",
      "length_amenities                       47897 non-null int64\n",
      "internet                               47897 non-null bool\n",
      "TV                                     47897 non-null bool\n",
      "air_conditioning                       47897 non-null bool\n",
      "kitchen                                47897 non-null bool\n",
      "pool                                   47897 non-null bool\n",
      "parking                                47897 non-null bool\n",
      "superuser                              47897 non-null bool\n",
      "grade_grouped                          47897 non-null object\n",
      "host_since_days                        47897 non-null int64\n",
      "city_Chicago                           47897 non-null uint8\n",
      "city_DC                                47897 non-null uint8\n",
      "city_LA                                47897 non-null uint8\n",
      "city_NYC                               47897 non-null uint8\n",
      "city_SF                                47897 non-null uint8\n",
      "cancellation_policy_moderate           47897 non-null uint8\n",
      "cancellation_policy_strict             47897 non-null uint8\n",
      "cancellation_policy_super_strict_30    47897 non-null uint8\n",
      "cancellation_policy_super_strict_60    47897 non-null uint8\n",
      "bed_type_Couch                         47897 non-null uint8\n",
      "bed_type_Futon                         47897 non-null uint8\n",
      "bed_type_Pull-out Sofa                 47897 non-null uint8\n",
      "bed_type_Real Bed                      47897 non-null uint8\n",
      "room_type_Private room                 47897 non-null uint8\n",
      "room_type_Shared room                  47897 non-null uint8\n",
      "dtypes: bool(11), float64(4), int64(6), object(1), uint8(15)\n",
      "memory usage: 5.6+ MB\n"
     ]
    }
   ],
   "source": [
    "df_superuser_subset = df_final.loc[df_imputed['grade'] == 'A']\n",
    "df_superuser_subset.info()"
   ]
  },
  {
   "cell_type": "code",
   "execution_count": 26,
   "metadata": {},
   "outputs": [
    {
     "data": {
      "text/plain": [
       "False    27558\n",
       "True     20339\n",
       "Name: superuser, dtype: int64"
      ]
     },
     "execution_count": 26,
     "metadata": {},
     "output_type": "execute_result"
    },
    {
     "data": {
      "image/png": "[encoded data removed]",
      "text/plain": [
       "<Figure size 432x288 with 1 Axes>"
      ]
     },
     "metadata": {
      "needs_background": "light"
     },
     "output_type": "display_data"
    }
   ],
   "source": [
    "sns.countplot(data=df_superuser_subset, x = 'superuser')\n",
    "df_superuser_subset['superuser'].value_counts()\n",
    "#adjust classification penalty against true, class weights, over/under sample"
   ]
  },
  {
   "cell_type": "markdown",
   "metadata": {},
   "source": [
    "For the superuser target variable in df_superuser_subset, there is a slight imbalance of classes with 27,558 (57.5%) instances in the dataset reciving a rating review score between 90-96%. On the other hand, there are 20,339 instances that recieved a rating review score of 96% and higher."
   ]
  },
  {
   "cell_type": "code",
   "execution_count": 27,
   "metadata": {},
   "outputs": [
    {
     "name": "stdout",
     "output_type": "stream",
     "text": [
      "<class 'pandas.core.frame.DataFrame'>\n",
      "RangeIndex: 57389 entries, 0 to 57388\n",
      "Data columns (total 37 columns):\n",
      "log_price                              57389 non-null float64\n",
      "accommodates                           57389 non-null int64\n",
      "bathrooms                              57389 non-null float64\n",
      "cleaning_fee                           57389 non-null bool\n",
      "host_has_profile_pic                   57389 non-null bool\n",
      "host_identity_verified                 57389 non-null bool\n",
      "host_response_rate                     57389 non-null float64\n",
      "instant_bookable                       57389 non-null bool\n",
      "number_of_reviews                      57389 non-null int64\n",
      "bedrooms                               57389 non-null int64\n",
      "beds                                   57389 non-null int64\n",
      "price                                  57389 non-null float64\n",
      "length_amenities                       57389 non-null int64\n",
      "internet                               57389 non-null bool\n",
      "TV                                     57389 non-null bool\n",
      "air_conditioning                       57389 non-null bool\n",
      "kitchen                                57389 non-null bool\n",
      "pool                                   57389 non-null bool\n",
      "parking                                57389 non-null bool\n",
      "superuser                              57389 non-null bool\n",
      "grade_grouped                          57389 non-null object\n",
      "host_since_days                        57389 non-null int64\n",
      "city_Chicago                           57389 non-null uint8\n",
      "city_DC                                57389 non-null uint8\n",
      "city_LA                                57389 non-null uint8\n",
      "city_NYC                               57389 non-null uint8\n",
      "city_SF                                57389 non-null uint8\n",
      "cancellation_policy_moderate           57389 non-null uint8\n",
      "cancellation_policy_strict             57389 non-null uint8\n",
      "cancellation_policy_super_strict_30    57389 non-null uint8\n",
      "cancellation_policy_super_strict_60    57389 non-null uint8\n",
      "bed_type_Couch                         57389 non-null uint8\n",
      "bed_type_Futon                         57389 non-null uint8\n",
      "bed_type_Pull-out Sofa                 57389 non-null uint8\n",
      "bed_type_Real Bed                      57389 non-null uint8\n",
      "room_type_Private room                 57389 non-null uint8\n",
      "room_type_Shared room                  57389 non-null uint8\n",
      "dtypes: bool(11), float64(4), int64(6), object(1), uint8(15)\n",
      "memory usage: 6.2+ MB\n"
     ]
    }
   ],
   "source": [
    "df_final.info()"
   ]
  },
  {
   "cell_type": "markdown",
   "metadata": {},
   "source": [
    "Finally we wanted to get valuable information from the amenities list and created boolean variables about whether or not a property had internet, TV, air conditioning, parking, or a kitchen."
   ]
  },
  {
   "cell_type": "code",
   "execution_count": 29,
   "metadata": {},
   "outputs": [
    {
     "data": {
      "text/plain": [
       "<matplotlib.axes._subplots.AxesSubplot at 0x1c37265438>"
      ]
     },
     "execution_count": 29,
     "metadata": {},
     "output_type": "execute_result"
    },
    {
     "data": {
      "image/png": "[encoded data removed]",
      "text/plain": [
       "<Figure size 432x288 with 1 Axes>"
      ]
     },
     "metadata": {
      "needs_background": "light"
     },
     "output_type": "display_data"
    }
   ],
   "source": [
    "sns.countplot(df_final.internet)"
   ]
  },
  {
   "cell_type": "code",
   "execution_count": 30,
   "metadata": {},
   "outputs": [
    {
     "data": {
      "text/plain": [
       "<matplotlib.axes._subplots.AxesSubplot at 0x1c345636a0>"
      ]
     },
     "execution_count": 30,
     "metadata": {},
     "output_type": "execute_result"
    },
    {
     "data": {
      "image/png": "[encoded data removed]",
      "text/plain": [
       "<Figure size 432x288 with 1 Axes>"
      ]
     },
     "metadata": {
      "needs_background": "light"
     },
     "output_type": "display_data"
    }
   ],
   "source": [
    "sns.countplot(df_final.TV)"
   ]
  },
  {
   "cell_type": "code",
   "execution_count": 31,
   "metadata": {},
   "outputs": [
    {
     "data": {
      "text/plain": [
       "<matplotlib.axes._subplots.AxesSubplot at 0x1c31ec8f28>"
      ]
     },
     "execution_count": 31,
     "metadata": {},
     "output_type": "execute_result"
    },
    {
     "data": {
      "image/png": "[encoded data removed]",
      "text/plain": [
       "<Figure size 432x288 with 1 Axes>"
      ]
     },
     "metadata": {
      "needs_background": "light"
     },
     "output_type": "display_data"
    }
   ],
   "source": [
    "sns.countplot(df_final.air_conditioning)"
   ]
  },
  {
   "cell_type": "code",
   "execution_count": 32,
   "metadata": {},
   "outputs": [
    {
     "data": {
      "text/plain": [
       "<matplotlib.axes._subplots.AxesSubplot at 0x1c345b9d68>"
      ]
     },
     "execution_count": 32,
     "metadata": {},
     "output_type": "execute_result"
    },
    {
     "data": {
      "image/png": "[encoded data removed]",
      "text/plain": [
       "<Figure size 432x288 with 1 Axes>"
      ]
     },
     "metadata": {
      "needs_background": "light"
     },
     "output_type": "display_data"
    }
   ],
   "source": [
    "sns.countplot(df_final.parking)"
   ]
  },
  {
   "cell_type": "code",
   "execution_count": 33,
   "metadata": {},
   "outputs": [
    {
     "data": {
      "text/plain": [
       "<matplotlib.axes._subplots.AxesSubplot at 0x1c2615ea20>"
      ]
     },
     "execution_count": 33,
     "metadata": {},
     "output_type": "execute_result"
    },
    {
     "data": {
      "image/png": "[encoded data removed]",
      "text/plain": [
       "<Figure size 432x288 with 1 Axes>"
      ]
     },
     "metadata": {
      "needs_background": "light"
     },
     "output_type": "display_data"
    }
   ],
   "source": [
    "sns.countplot(df_final.kitchen)"
   ]
  },
  {
   "cell_type": "markdown",
   "metadata": {},
   "source": [
    "***"
   ]
  },
  {
   "cell_type": "markdown",
   "metadata": {},
   "source": [
    "# Modeling and Evaluation 1\n",
    "\n",
    "<i><b>10 pts.</b> Choose and explain your evaluation metrics that you will use (i.e., accuracy, precision, recall, F-measure, or any metric we have discussed). Why are the measure(s) appropriate for analyzing the results of your modeling? Give a detailed explanation backing up any assertions.</i>"
   ]
  },
  {
   "cell_type": "markdown",
   "metadata": {},
   "source": [
    "For our first classification task with the grade_grouped target responsible, we aim to investigate potential AirBnb hosts that should be targeted for the Superhost program. We will prioritize high precision for the grade_grouped target variable since there is a large majority for the class with an A grade for their ratings review score. With an abundance of instances for this class, we would like to minimize the false positives because we want to correctly determine which AirBnb hosts are ideal for the Superhost program. We also may want to evaluate our model with the F-measure to minimize the false negative predictions because we do not want to miss out on superb hosts that would benefit from the Superhost program. We want to penalize the misclassification of listings with an actual grade of less than A to A more than the misclassification of a listing with an actual grade of A to a grade less than A in the classification models for this first task.\n",
    "    \n",
    "For our second classification task with the superuser target variable in df_superuser_subset, we will look into overall classification accuracy since the penalty cost for false negatives and false positives are roughly the same since the classes are not heavily imbalanced. We may also want to investigate precision in the models for this task as well since we want to explore how Superhosts (>=96%) are differentiated from good AirBnb hosts (90-95%)."
   ]
  },
  {
   "cell_type": "markdown",
   "metadata": {},
   "source": [
    "***"
   ]
  },
  {
   "cell_type": "markdown",
   "metadata": {},
   "source": [
    "# Modeling and Evaluation 2\n",
    "\n",
    "<i><b>10 pts.</b> Choose the method you will use for dividing your data into training and testing splits (i.e., are you using Stratified 10-fold cross validation? Why?). Explain why your chosen method is appropriate or use more than one method as appropriate. For example, if you are using time series data then you should be using continuous training and testing sets across time.</i>"
   ]
  },
  {
   "cell_type": "markdown",
   "metadata": {},
   "source": [
    "The method we will use to divide the data into training and test splits will be stratified 10-fold cross validation due to our large class imbalance in the grade_grouped target response variable; it is an approximately 5:1 ratio on A vs everything B and lower. With stratified 10-fold cross validation, each fold will be approximately representative of the ratio of classes as the full dataset. In other words, each of the 10 splits of the complete dataset will contain roughly the same percentage of each class from our grade_grouped target response variable.\n",
    "\n",
    "With a stratified K-fold cross validation technique, we avoid high variance issues of a holdout method while benefiting from the bias and variance reduction of K-fold cross validation. The additional stratification of our data splits will address the class imbalance issue in our dataset. We will use this data split technique for both tasks since there is class imbalance present in both datasets, even though the second classification task on the superhost target response variable is only slighltly imbalanced, at an approximate 1.35:1 ratio on False vs True."
   ]
  },
  {
   "cell_type": "markdown",
   "metadata": {},
   "source": [
    "### Task 1: grade_grouped target response"
   ]
  },
  {
   "cell_type": "code",
   "execution_count": 22,
   "metadata": {},
   "outputs": [],
   "source": [
    "from sklearn.model_selection import StratifiedKFold\n",
    "from sklearn.preprocessing import StandardScaler\n",
    "from sklearn import metrics as mt\n",
    "\n",
    "# Task 1: grade_grouped target response variable\n",
    "# separate response variable from training data\n",
    "X1 = df_final.drop(['superuser','grade_grouped'],axis=1)\n",
    "y1 = df_final['grade_grouped']\n",
    "\n",
    "yhat1 = np.zeros(y1.shape) # will be filled with the predictions\n",
    "y1 = y1.replace({'A':True, '<A':False})\n",
    "\n",
    "\n",
    "# Scale data\n",
    "scl = StandardScaler()\n",
    "X1 = scl.fit_transform(X1)\n",
    "\n",
    "# Create CV iterator\n",
    "cv = StratifiedKFold(n_splits=10)\n",
    "\n",
    "# Iterate through CV and get predictions\n",
    "#for train, test in cv.split(X1,y1):\n",
    "#    clf.fit(X1[train],y1[train])\n",
    "#    yhat1[test] = clf.predict(X1[test]) "
   ]
  },
  {
   "cell_type": "markdown",
   "metadata": {},
   "source": [
    "### Task 2: superuser target response"
   ]
  },
  {
   "cell_type": "code",
   "execution_count": 23,
   "metadata": {},
   "outputs": [],
   "source": [
    "# Task 2: superuser target response in df_superuser_subset\n",
    "# separate response variable from training data\n",
    "X2 = df_superuser_subset.drop(['superuser','grade_grouped'],axis=1)\n",
    "y2 = df_superuser_subset['superuser']\n",
    "yhat2 = np.zeros(y2.shape) # will be filled with the predictions\n",
    "\n",
    "# Scale data\n",
    "scl = StandardScaler()\n",
    "X2 = scl.fit_transform(X2)\n",
    "\n",
    "# Create CV iterator\n",
    "cv = StratifiedKFold(n_splits=10)\n",
    "\n",
    "# Iterate through CV and get predictions\n",
    "#for train, test in cv.split(X2,y2):\n",
    "#    clf.fit(X2[train],y2[train])\n",
    "#    yhat2[test] = clf.predict(X2[test]) "
   ]
  },
  {
   "cell_type": "markdown",
   "metadata": {},
   "source": [
    "***"
   ]
  },
  {
   "cell_type": "markdown",
   "metadata": {},
   "source": [
    "# Modeling and Evaluation 3\n",
    "\n",
    "<i><b>20 pts.</b> Create three different classification/regression models for each task (e.g., random forest, KNN, and SVM for task one and the same or different algorithms for task two). Two modeling techniques must be new (but the third could be SVM or logistic regression). Adjust parameters as appropriate to increase generalization performance using your chosen metric. You must investigate different parameters of the algorithms!</i>"
   ]
  },
  {
   "cell_type": "code",
   "execution_count": 24,
   "metadata": {},
   "outputs": [],
   "source": [
    "#RF, KNN regression, logistic regression"
   ]
  },
  {
   "cell_type": "markdown",
   "metadata": {},
   "source": [
    "## Logistic Regression"
   ]
  },
  {
   "cell_type": "code",
   "execution_count": 34,
   "metadata": {},
   "outputs": [
    {
     "data": {
      "text/plain": [
       "property_type          32\n",
       "room_type               3\n",
       "bed_type                5\n",
       "cancellation_policy     5\n",
       "city                    6\n",
       "dtype: int64"
      ]
     },
     "execution_count": 34,
     "metadata": {},
     "output_type": "execute_result"
    }
   ],
   "source": [
    "#logistic regression prep\n",
    "df_logistic = df_imputed.drop(['index', 'id', 'log_price', 'amenities', 'description', 'zipcode', 'description',\n",
    "                      'latitude', 'longitude', 'name', 'neighbourhood', 'review_scores_rating',\n",
    "                      'thumbnail_url', 'zipcode'], axis=1)\n",
    "categorical_vars = ['property_type', 'room_type', 'bed_type', 'cancellation_policy', 'city']\n",
    "df_logistic[categorical_vars].apply(lambda x: len(x.value_counts()), axis=0)"
   ]
  },
  {
   "cell_type": "code",
   "execution_count": 35,
   "metadata": {},
   "outputs": [
    {
     "data": {
      "text/plain": [
       "Apartment             49003\n",
       "House                 16511\n",
       "Condominium            2658\n",
       "Townhouse              1692\n",
       "Loft                   1244\n",
       "Other                   607\n",
       "Guesthouse              498\n",
       "Bed & Breakfast         462\n",
       "Bungalow                366\n",
       "Villa                   179\n",
       "Dorm                    142\n",
       "Guest suite             123\n",
       "Camper/RV                94\n",
       "Timeshare                77\n",
       "Cabin                    72\n",
       "In-law                   71\n",
       "Hostel                   70\n",
       "Boutique hotel           69\n",
       "Boat                     65\n",
       "Serviced apartment       21\n",
       "Tent                     18\n",
       "Castle                   13\n",
       "Vacation home            11\n",
       "Yurt                      9\n",
       "Hut                       8\n",
       "Treehouse                 7\n",
       "Chalet                    6\n",
       "Earth House               4\n",
       "Tipi                      3\n",
       "Train                     2\n",
       "Cave                      2\n",
       "Parking Space             1\n",
       "Island                    1\n",
       "Lighthouse                1\n",
       "Casa particular           1\n",
       "Name: property_type, dtype: int64"
      ]
     },
     "execution_count": 35,
     "metadata": {},
     "output_type": "execute_result"
    }
   ],
   "source": [
    "df.property_type.value_counts()"
   ]
  },
  {
   "cell_type": "code",
   "execution_count": 36,
   "metadata": {},
   "outputs": [
    {
     "name": "stdout",
     "output_type": "stream",
     "text": [
      "<class 'pandas.core.frame.DataFrame'>\n",
      "RangeIndex: 57389 entries, 0 to 57388\n",
      "Data columns (total 31 columns):\n",
      "room_type                 57389 non-null category\n",
      "accommodates              57389 non-null int64\n",
      "bathrooms                 57389 non-null float64\n",
      "bed_type                  57389 non-null category\n",
      "cancellation_policy       57389 non-null category\n",
      "cleaning_fee              57389 non-null bool\n",
      "city                      57389 non-null category\n",
      "first_review              57388 non-null datetime64[ns]\n",
      "host_has_profile_pic      57389 non-null bool\n",
      "host_identity_verified    57389 non-null bool\n",
      "host_response_rate        57389 non-null float64\n",
      "host_since                57389 non-null datetime64[ns]\n",
      "instant_bookable          57389 non-null bool\n",
      "last_review               57388 non-null datetime64[ns]\n",
      "number_of_reviews         57389 non-null int64\n",
      "bedrooms                  57389 non-null int64\n",
      "beds                      57389 non-null int64\n",
      "price                     57389 non-null float64\n",
      "grade                     57389 non-null category\n",
      "amenities_new             57389 non-null object\n",
      "length_amenities          57389 non-null int64\n",
      "internet                  57389 non-null bool\n",
      "TV                        57389 non-null bool\n",
      "air_conditioning          57389 non-null bool\n",
      "kitchen                   57389 non-null bool\n",
      "pool                      57389 non-null bool\n",
      "parking                   57389 non-null bool\n",
      "description_length        57389 non-null int64\n",
      "superuser                 57389 non-null bool\n",
      "grade_grouped             57389 non-null object\n",
      "host_since_days           57389 non-null int64\n",
      "dtypes: bool(11), category(5), datetime64[ns](3), float64(3), int64(7), object(2)\n",
      "memory usage: 7.4+ MB\n"
     ]
    }
   ],
   "source": [
    "#delete property type because too many values \n",
    "df_logistic.drop(['property_type'], axis=1, inplace=True)\n",
    "df_logistic.info()"
   ]
  },
  {
   "cell_type": "code",
   "execution_count": 37,
   "metadata": {},
   "outputs": [],
   "source": [
    "df_logistic.dropna(inplace=True)"
   ]
  },
  {
   "cell_type": "code",
   "execution_count": 38,
   "metadata": {
    "scrolled": true
   },
   "outputs": [
    {
     "data": {
      "text/plain": [
       "<matplotlib.axes._subplots.AxesSubplot at 0x1c2a796470>"
      ]
     },
     "execution_count": 38,
     "metadata": {},
     "output_type": "execute_result"
    },
    {
     "data": {
      "image/png": "[encoded data removed]",
      "text/plain": [
       "<Figure size 432x288 with 1 Axes>"
      ]
     },
     "metadata": {
      "needs_background": "light"
     },
     "output_type": "display_data"
    }
   ],
   "source": [
    "sns.countplot(data=df_logistic, x='grade_grouped')"
   ]
  },
  {
   "cell_type": "markdown",
   "metadata": {},
   "source": [
    "## Categorical Variable Exploration"
   ]
  },
  {
   "cell_type": "markdown",
   "metadata": {},
   "source": [
    "* City influences a property's probability of getting an A. For example, you are more likely to get an A in San Francisco and Chicago and less likely to get an A in New York and Boston\n",
    "* Instant bookable properties were significantly more likely to not get an A. Maybe this is because they do not put as much effort into preparation\n",
    "* Having an entire property to yourself gave you a better chance at getting an A rating, followed by having a private room, and then having a shared room significantly decreased your probabilities of getting an A\n",
    "* Having a real bed weirdly seems to be associated with less likelihood of an A. Maybe this is because the expectations are higher\n",
    "* People with the most strict cancellation policies had the lowest probabilities of getting an A. Maybe this is due to the fact that people can still leave reviews after they cancel and still pay a deposit, or maybe it shows that the host was too strict in other areas \n",
    "* Having a cleaning fee is weirdly associated with an increased probability of getting an A. Maybe guests do not like cleaning up after themselves\n",
    "* Having a profile pic and having your identity verified increases your probability of getting an A\n",
    "* Based on EDA we can see that the following amenities make a property more likely to get an A:\n",
    "    * having parking\n",
    "    * having a pool\n",
    "    * having a kitchen\n",
    "    * having air conditioning\n",
    "    * having a TV \n",
    "    * having internet "
   ]
  },
  {
   "cell_type": "code",
   "execution_count": 30,
   "metadata": {},
   "outputs": [
    {
     "data": {
      "image/png": "[encoded data removed]",
      "text/plain": [
       "<Figure size 640x480 with 1 Axes>"
      ]
     },
     "metadata": {},
     "output_type": "display_data"
    },
    {
     "data": {
      "text/plain": [
       "<ggplot: (-9223371903474850160)>"
      ]
     },
     "execution_count": 30,
     "metadata": {},
     "output_type": "execute_result"
    }
   ],
   "source": [
    "#stacked bar chart of percentages\n",
    "(ggplot(df_logistic, aes('city', fill='grade_grouped'))\n",
    " + geom_bar( position='fill')\n",
    ")\n"
   ]
  },
  {
   "cell_type": "code",
   "execution_count": 31,
   "metadata": {},
   "outputs": [
    {
     "data": {
      "image/png": "[encoded data removed]",
      "text/plain": [
       "<Figure size 640x480 with 1 Axes>"
      ]
     },
     "metadata": {},
     "output_type": "display_data"
    },
    {
     "data": {
      "text/plain": [
       "<ggplot: (-9223371903474218140)>"
      ]
     },
     "execution_count": 31,
     "metadata": {},
     "output_type": "execute_result"
    }
   ],
   "source": [
    "(ggplot(df_logistic, aes('parking', fill='grade_grouped'))\n",
    " + geom_bar( position='fill')\n",
    ")"
   ]
  },
  {
   "cell_type": "code",
   "execution_count": 32,
   "metadata": {},
   "outputs": [
    {
     "data": {
      "image/png": "[encoded data removed]",
      "text/plain": [
       "<Figure size 640x480 with 1 Axes>"
      ]
     },
     "metadata": {},
     "output_type": "display_data"
    },
    {
     "data": {
      "text/plain": [
       "<ggplot: (-9223371903473431872)>"
      ]
     },
     "execution_count": 32,
     "metadata": {},
     "output_type": "execute_result"
    }
   ],
   "source": [
    "(ggplot(df_logistic, aes('pool', fill='grade_grouped'))\n",
    " + geom_bar( position='fill')\n",
    ")"
   ]
  },
  {
   "cell_type": "code",
   "execution_count": 33,
   "metadata": {},
   "outputs": [
    {
     "data": {
      "image/png": "[encoded data removed]",
      "text/plain": [
       "<Figure size 640x480 with 1 Axes>"
      ]
     },
     "metadata": {},
     "output_type": "display_data"
    },
    {
     "data": {
      "text/plain": [
       "<ggplot: (-9223371903473202404)>"
      ]
     },
     "execution_count": 33,
     "metadata": {},
     "output_type": "execute_result"
    }
   ],
   "source": [
    "(ggplot(df_logistic, aes('kitchen', fill='grade_grouped'))\n",
    " + geom_bar( position='fill')\n",
    ")"
   ]
  },
  {
   "cell_type": "code",
   "execution_count": 34,
   "metadata": {},
   "outputs": [
    {
     "data": {
      "image/png": "[encoded data removed]",
      "text/plain": [
       "<Figure size 640x480 with 1 Axes>"
      ]
     },
     "metadata": {},
     "output_type": "display_data"
    },
    {
     "data": {
      "text/plain": [
       "<ggplot: (-9223371903474205568)>"
      ]
     },
     "execution_count": 34,
     "metadata": {},
     "output_type": "execute_result"
    }
   ],
   "source": [
    "(ggplot(df_logistic, aes('air_conditioning', fill='grade_grouped'))\n",
    " + geom_bar( position='fill')\n",
    ")"
   ]
  },
  {
   "cell_type": "code",
   "execution_count": 35,
   "metadata": {},
   "outputs": [
    {
     "data": {
      "image/png": "[encoded data removed]",
      "text/plain": [
       "<Figure size 640x480 with 1 Axes>"
      ]
     },
     "metadata": {},
     "output_type": "display_data"
    },
    {
     "data": {
      "text/plain": [
       "<ggplot: (-9223371903473447084)>"
      ]
     },
     "execution_count": 35,
     "metadata": {},
     "output_type": "execute_result"
    }
   ],
   "source": [
    "(ggplot(df_logistic, aes('TV', fill='grade_grouped'))\n",
    " + geom_bar( position='fill')\n",
    ")"
   ]
  },
  {
   "cell_type": "code",
   "execution_count": 36,
   "metadata": {},
   "outputs": [
    {
     "data": {
      "image/png": "[encoded data removed]",
      "text/plain": [
       "<Figure size 640x480 with 1 Axes>"
      ]
     },
     "metadata": {},
     "output_type": "display_data"
    },
    {
     "data": {
      "text/plain": [
       "<ggplot: (-9223371903484310468)>"
      ]
     },
     "execution_count": 36,
     "metadata": {},
     "output_type": "execute_result"
    }
   ],
   "source": [
    "(ggplot(df_logistic, aes('internet', fill='grade_grouped'))\n",
    " + geom_bar( position='fill')\n",
    ")"
   ]
  },
  {
   "cell_type": "code",
   "execution_count": 37,
   "metadata": {},
   "outputs": [
    {
     "data": {
      "image/png": "[encoded data removed]",
      "text/plain": [
       "<Figure size 640x480 with 1 Axes>"
      ]
     },
     "metadata": {},
     "output_type": "display_data"
    },
    {
     "data": {
      "text/plain": [
       "<ggplot: (-9223371903473502552)>"
      ]
     },
     "execution_count": 37,
     "metadata": {},
     "output_type": "execute_result"
    }
   ],
   "source": [
    "(ggplot(df_logistic, aes('instant_bookable', fill='grade_grouped'))\n",
    " + geom_bar( position='fill')\n",
    ")"
   ]
  },
  {
   "cell_type": "code",
   "execution_count": 38,
   "metadata": {},
   "outputs": [
    {
     "data": {
      "image/png": "[encoded data removed]",
      "text/plain": [
       "<Figure size 640x480 with 1 Axes>"
      ]
     },
     "metadata": {},
     "output_type": "display_data"
    },
    {
     "data": {
      "text/plain": [
       "<ggplot: (-9223371903474880672)>"
      ]
     },
     "execution_count": 38,
     "metadata": {},
     "output_type": "execute_result"
    }
   ],
   "source": [
    "(ggplot(df_logistic, aes('room_type', fill='grade_grouped'))\n",
    " + geom_bar( position='fill')\n",
    ")\n"
   ]
  },
  {
   "cell_type": "code",
   "execution_count": 39,
   "metadata": {},
   "outputs": [
    {
     "data": {
      "image/png": "[encoded data removed]",
      "text/plain": [
       "<Figure size 640x480 with 1 Axes>"
      ]
     },
     "metadata": {},
     "output_type": "display_data"
    },
    {
     "data": {
      "text/plain": [
       "<ggplot: (-9223371903474496296)>"
      ]
     },
     "execution_count": 39,
     "metadata": {},
     "output_type": "execute_result"
    }
   ],
   "source": [
    "(ggplot(df_logistic, aes('bed_type', fill='grade_grouped'))\n",
    " + geom_bar( position='fill')\n",
    ")"
   ]
  },
  {
   "cell_type": "code",
   "execution_count": 40,
   "metadata": {},
   "outputs": [
    {
     "data": {
      "image/png": "[encoded data removed]",
      "text/plain": [
       "<Figure size 640x480 with 1 Axes>"
      ]
     },
     "metadata": {},
     "output_type": "display_data"
    },
    {
     "data": {
      "text/plain": [
       "<ggplot: (-9223371903474539024)>"
      ]
     },
     "execution_count": 40,
     "metadata": {},
     "output_type": "execute_result"
    }
   ],
   "source": [
    "(ggplot(df_logistic, aes('cleaning_fee', fill='grade_grouped'))\n",
    " + geom_bar( position='fill')\n",
    ")"
   ]
  },
  {
   "cell_type": "code",
   "execution_count": 41,
   "metadata": {},
   "outputs": [
    {
     "data": {
      "image/png": "[encoded data removed]",
      "text/plain": [
       "<Figure size 640x480 with 1 Axes>"
      ]
     },
     "metadata": {},
     "output_type": "display_data"
    },
    {
     "data": {
      "text/plain": [
       "<ggplot: (-9223371903483525884)>"
      ]
     },
     "execution_count": 41,
     "metadata": {},
     "output_type": "execute_result"
    }
   ],
   "source": [
    "(ggplot(df_logistic, aes('host_has_profile_pic', fill='grade_grouped'))\n",
    " + geom_bar( position='fill')\n",
    ")"
   ]
  },
  {
   "cell_type": "code",
   "execution_count": 42,
   "metadata": {},
   "outputs": [
    {
     "data": {
      "image/png": "[encoded data removed]",
      "text/plain": [
       "<Figure size 640x480 with 1 Axes>"
      ]
     },
     "metadata": {},
     "output_type": "display_data"
    },
    {
     "data": {
      "text/plain": [
       "<ggplot: (-9223371903483496776)>"
      ]
     },
     "execution_count": 42,
     "metadata": {},
     "output_type": "execute_result"
    }
   ],
   "source": [
    "(ggplot(df_logistic, aes('host_identity_verified', fill='grade_grouped'))\n",
    " + geom_bar( position='fill')\n",
    ")"
   ]
  },
  {
   "cell_type": "code",
   "execution_count": 43,
   "metadata": {},
   "outputs": [
    {
     "data": {
      "image/png": "[encoded data removed]",
      "text/plain": [
       "<Figure size 640x480 with 1 Axes>"
      ]
     },
     "metadata": {},
     "output_type": "display_data"
    },
    {
     "data": {
      "text/plain": [
       "<ggplot: (-9223371903482204968)>"
      ]
     },
     "execution_count": 43,
     "metadata": {},
     "output_type": "execute_result"
    }
   ],
   "source": [
    "(ggplot(df_logistic, aes('cancellation_policy', fill='grade_grouped'))\n",
    " + geom_bar( position='fill')\n",
    ")\n"
   ]
  },
  {
   "cell_type": "markdown",
   "metadata": {},
   "source": [
    "# Numerical Variable Exploration\n",
    "* The following variables were associated with higher probabilities of getting an A:\n",
    "    * being a host for longer\n",
    "    * having longer descriptions\n",
    "    * having more amenities\n",
    "* The size of the property does not seem to really influence the probability of getting an A. We can see this because there are similar distributions for price, number beds, number bedrooms, number of bathrooms, and number of people the place can accomodate\n",
    "* Surprisingly, the number of reviews and the host response rate do not seem to influence the probability of getting an A"
   ]
  },
  {
   "cell_type": "code",
   "execution_count": 45,
   "metadata": {},
   "outputs": [
    {
     "data": {
      "text/plain": [
       "<matplotlib.axes._subplots.AxesSubplot at 0x1f0d9494a08>"
      ]
     },
     "execution_count": 45,
     "metadata": {},
     "output_type": "execute_result"
    },
    {
     "data": {
      "image/png": "[encoded data removed]",
      "text/plain": [
       "<Figure size 432x288 with 1 Axes>"
      ]
     },
     "metadata": {
      "needs_background": "light"
     },
     "output_type": "display_data"
    }
   ],
   "source": [
    "sns.boxplot(x='grade_grouped', y='host_since_days', data=df_logistic)"
   ]
  },
  {
   "cell_type": "code",
   "execution_count": 46,
   "metadata": {},
   "outputs": [
    {
     "data": {
      "text/plain": [
       "<matplotlib.axes._subplots.AxesSubplot at 0x1f0decb1f08>"
      ]
     },
     "execution_count": 46,
     "metadata": {},
     "output_type": "execute_result"
    },
    {
     "data": {
      "image/png": "[encoded data removed]",
      "text/plain": [
       "<Figure size 432x288 with 1 Axes>"
      ]
     },
     "metadata": {
      "needs_background": "light"
     },
     "output_type": "display_data"
    }
   ],
   "source": [
    "sns.boxplot(x='grade_grouped', y='description_length', data=df_logistic)"
   ]
  },
  {
   "cell_type": "code",
   "execution_count": 47,
   "metadata": {},
   "outputs": [
    {
     "data": {
      "text/plain": [
       "<matplotlib.axes._subplots.AxesSubplot at 0x1f0ded35948>"
      ]
     },
     "execution_count": 47,
     "metadata": {},
     "output_type": "execute_result"
    },
    {
     "data": {
      "image/png": "[encoded data removed]",
      "text/plain": [
       "<Figure size 432x288 with 1 Axes>"
      ]
     },
     "metadata": {
      "needs_background": "light"
     },
     "output_type": "display_data"
    }
   ],
   "source": [
    "sns.boxplot(x='grade_grouped', y='length_amenities', data=df_logistic)"
   ]
  },
  {
   "cell_type": "code",
   "execution_count": 48,
   "metadata": {},
   "outputs": [
    {
     "data": {
      "text/plain": [
       "<matplotlib.axes._subplots.AxesSubplot at 0x1f0d876f108>"
      ]
     },
     "execution_count": 48,
     "metadata": {},
     "output_type": "execute_result"
    },
    {
     "data": {
      "image/png": "[encoded data removed]",
      "text/plain": [
       "<Figure size 432x288 with 1 Axes>"
      ]
     },
     "metadata": {
      "needs_background": "light"
     },
     "output_type": "display_data"
    }
   ],
   "source": [
    "sns.boxplot(x='grade_grouped', y='price', data=df_logistic)"
   ]
  },
  {
   "cell_type": "code",
   "execution_count": 49,
   "metadata": {},
   "outputs": [
    {
     "data": {
      "text/plain": [
       "<matplotlib.axes._subplots.AxesSubplot at 0x1f0dfe0f548>"
      ]
     },
     "execution_count": 49,
     "metadata": {},
     "output_type": "execute_result"
    },
    {
     "data": {
      "image/png": "[encoded data removed]",
      "text/plain": [
       "<Figure size 432x288 with 1 Axes>"
      ]
     },
     "metadata": {
      "needs_background": "light"
     },
     "output_type": "display_data"
    }
   ],
   "source": [
    "sns.boxplot(x='grade_grouped', y='beds', data=df_logistic)"
   ]
  },
  {
   "cell_type": "code",
   "execution_count": 50,
   "metadata": {},
   "outputs": [
    {
     "data": {
      "text/plain": [
       "<matplotlib.axes._subplots.AxesSubplot at 0x1f0e0eb6b08>"
      ]
     },
     "execution_count": 50,
     "metadata": {},
     "output_type": "execute_result"
    },
    {
     "data": {
      "image/png": "[encoded data removed]",
      "text/plain": [
       "<Figure size 432x288 with 1 Axes>"
      ]
     },
     "metadata": {
      "needs_background": "light"
     },
     "output_type": "display_data"
    }
   ],
   "source": [
    "sns.boxplot(x='grade_grouped', y='bedrooms', data=df_logistic)"
   ]
  },
  {
   "cell_type": "code",
   "execution_count": 51,
   "metadata": {},
   "outputs": [
    {
     "data": {
      "text/plain": [
       "<matplotlib.axes._subplots.AxesSubplot at 0x1f0e0f33248>"
      ]
     },
     "execution_count": 51,
     "metadata": {},
     "output_type": "execute_result"
    },
    {
     "data": {
      "image/png": "[encoded data removed]",
      "text/plain": [
       "<Figure size 432x288 with 1 Axes>"
      ]
     },
     "metadata": {
      "needs_background": "light"
     },
     "output_type": "display_data"
    }
   ],
   "source": [
    "sns.boxplot(x='superuser', y='number_of_reviews', data=df_logistic)"
   ]
  },
  {
   "cell_type": "code",
   "execution_count": 52,
   "metadata": {},
   "outputs": [
    {
     "data": {
      "text/plain": [
       "<matplotlib.axes._subplots.AxesSubplot at 0x1f0e0fe6dc8>"
      ]
     },
     "execution_count": 52,
     "metadata": {},
     "output_type": "execute_result"
    },
    {
     "data": {
      "image/png": "[encoded data removed]",
      "text/plain": [
       "<Figure size 432x288 with 1 Axes>"
      ]
     },
     "metadata": {
      "needs_background": "light"
     },
     "output_type": "display_data"
    }
   ],
   "source": [
    "sns.boxplot(x='superuser', y='host_response_rate', data=df_logistic)"
   ]
  },
  {
   "cell_type": "code",
   "execution_count": 53,
   "metadata": {},
   "outputs": [
    {
     "data": {
      "text/plain": [
       "<matplotlib.axes._subplots.AxesSubplot at 0x1f0e13aa108>"
      ]
     },
     "execution_count": 53,
     "metadata": {},
     "output_type": "execute_result"
    },
    {
     "data": {
      "image/png": "[encoded data removed]",
      "text/plain": [
       "<Figure size 432x288 with 1 Axes>"
      ]
     },
     "metadata": {
      "needs_background": "light"
     },
     "output_type": "display_data"
    }
   ],
   "source": [
    "sns.boxplot(x='grade_grouped', y='bathrooms', data=df_logistic)"
   ]
  },
  {
   "cell_type": "code",
   "execution_count": 54,
   "metadata": {},
   "outputs": [
    {
     "data": {
      "text/plain": [
       "<matplotlib.axes._subplots.AxesSubplot at 0x1f0e1422408>"
      ]
     },
     "execution_count": 54,
     "metadata": {},
     "output_type": "execute_result"
    },
    {
     "data": {
      "image/png": "[encoded data removed]",
      "text/plain": [
       "<Figure size 432x288 with 1 Axes>"
      ]
     },
     "metadata": {
      "needs_background": "light"
     },
     "output_type": "display_data"
    }
   ],
   "source": [
    "sns.boxplot(x='grade_grouped', y='accommodates', data=df_logistic)"
   ]
  },
  {
   "cell_type": "markdown",
   "metadata": {},
   "source": [
    "# Look at collinearity"
   ]
  },
  {
   "cell_type": "code",
   "execution_count": 40,
   "metadata": {},
   "outputs": [
    {
     "data": {
      "text/html": [
       "<div>\n",
       "<style scoped>\n",
       "    .dataframe tbody tr th:only-of-type {\n",
       "        vertical-align: middle;\n",
       "    }\n",
       "\n",
       "    .dataframe tbody tr th {\n",
       "        vertical-align: top;\n",
       "    }\n",
       "\n",
       "    .dataframe thead th {\n",
       "        text-align: right;\n",
       "    }\n",
       "</style>\n",
       "<table border=\"1\" class=\"dataframe\">\n",
       "  <thead>\n",
       "    <tr style=\"text-align: right;\">\n",
       "      <th></th>\n",
       "      <th>accommodates</th>\n",
       "      <th>bathrooms</th>\n",
       "      <th>host_response_rate</th>\n",
       "      <th>number_of_reviews</th>\n",
       "      <th>bedrooms</th>\n",
       "      <th>beds</th>\n",
       "      <th>price</th>\n",
       "      <th>length_amenities</th>\n",
       "      <th>description_length</th>\n",
       "      <th>host_since_days</th>\n",
       "    </tr>\n",
       "  </thead>\n",
       "  <tbody>\n",
       "    <tr>\n",
       "      <td>0</td>\n",
       "      <td>3</td>\n",
       "      <td>1.0</td>\n",
       "      <td>0.924026</td>\n",
       "      <td>2</td>\n",
       "      <td>1</td>\n",
       "      <td>1</td>\n",
       "      <td>150.0</td>\n",
       "      <td>9</td>\n",
       "      <td>211</td>\n",
       "      <td>2179</td>\n",
       "    </tr>\n",
       "    <tr>\n",
       "      <td>1</td>\n",
       "      <td>7</td>\n",
       "      <td>1.0</td>\n",
       "      <td>1.000000</td>\n",
       "      <td>6</td>\n",
       "      <td>3</td>\n",
       "      <td>3</td>\n",
       "      <td>169.0</td>\n",
       "      <td>15</td>\n",
       "      <td>1000</td>\n",
       "      <td>268</td>\n",
       "    </tr>\n",
       "    <tr>\n",
       "      <td>2</td>\n",
       "      <td>5</td>\n",
       "      <td>1.0</td>\n",
       "      <td>1.000000</td>\n",
       "      <td>10</td>\n",
       "      <td>1</td>\n",
       "      <td>3</td>\n",
       "      <td>145.0</td>\n",
       "      <td>19</td>\n",
       "      <td>1000</td>\n",
       "      <td>505</td>\n",
       "    </tr>\n",
       "    <tr>\n",
       "      <td>3</td>\n",
       "      <td>2</td>\n",
       "      <td>1.0</td>\n",
       "      <td>1.000000</td>\n",
       "      <td>4</td>\n",
       "      <td>0</td>\n",
       "      <td>1</td>\n",
       "      <td>115.0</td>\n",
       "      <td>12</td>\n",
       "      <td>699</td>\n",
       "      <td>1109</td>\n",
       "    </tr>\n",
       "    <tr>\n",
       "      <td>4</td>\n",
       "      <td>2</td>\n",
       "      <td>1.0</td>\n",
       "      <td>1.000000</td>\n",
       "      <td>3</td>\n",
       "      <td>1</td>\n",
       "      <td>1</td>\n",
       "      <td>85.0</td>\n",
       "      <td>10</td>\n",
       "      <td>1000</td>\n",
       "      <td>280</td>\n",
       "    </tr>\n",
       "  </tbody>\n",
       "</table>\n",
       "</div>"
      ],
      "text/plain": [
       "   accommodates  bathrooms  host_response_rate  number_of_reviews  bedrooms  \\\n",
       "0             3        1.0            0.924026                  2         1   \n",
       "1             7        1.0            1.000000                  6         3   \n",
       "2             5        1.0            1.000000                 10         1   \n",
       "3             2        1.0            1.000000                  4         0   \n",
       "4             2        1.0            1.000000                  3         1   \n",
       "\n",
       "   beds  price  length_amenities  description_length  host_since_days  \n",
       "0     1  150.0                 9                 211             2179  \n",
       "1     3  169.0                15                1000              268  \n",
       "2     3  145.0                19                1000              505  \n",
       "3     1  115.0                12                 699             1109  \n",
       "4     1   85.0                10                1000              280  "
      ]
     },
     "execution_count": 40,
     "metadata": {},
     "output_type": "execute_result"
    }
   ],
   "source": [
    "numerics = ['int64', 'float64']\n",
    "df_corr = df_logistic.select_dtypes(include=numerics)\n",
    "df_corr.head()"
   ]
  },
  {
   "cell_type": "code",
   "execution_count": 41,
   "metadata": {},
   "outputs": [
    {
     "data": {
      "text/html": [
       "<div>\n",
       "<style scoped>\n",
       "    .dataframe tbody tr th:only-of-type {\n",
       "        vertical-align: middle;\n",
       "    }\n",
       "\n",
       "    .dataframe tbody tr th {\n",
       "        vertical-align: top;\n",
       "    }\n",
       "\n",
       "    .dataframe thead th {\n",
       "        text-align: right;\n",
       "    }\n",
       "</style>\n",
       "<table border=\"1\" class=\"dataframe\">\n",
       "  <thead>\n",
       "    <tr style=\"text-align: right;\">\n",
       "      <th></th>\n",
       "      <th>accommodates</th>\n",
       "      <th>bathrooms</th>\n",
       "      <th>host_response_rate</th>\n",
       "      <th>number_of_reviews</th>\n",
       "      <th>bedrooms</th>\n",
       "      <th>beds</th>\n",
       "      <th>price</th>\n",
       "      <th>length_amenities</th>\n",
       "      <th>description_length</th>\n",
       "      <th>host_since_days</th>\n",
       "    </tr>\n",
       "  </thead>\n",
       "  <tbody>\n",
       "    <tr>\n",
       "      <td>accommodates</td>\n",
       "      <td>1.000000</td>\n",
       "      <td>0.498232</td>\n",
       "      <td>0.047379</td>\n",
       "      <td>0.031000</td>\n",
       "      <td>0.720385</td>\n",
       "      <td>0.824703</td>\n",
       "      <td>0.579029</td>\n",
       "      <td>0.258958</td>\n",
       "      <td>0.116491</td>\n",
       "      <td>-0.018579</td>\n",
       "    </tr>\n",
       "    <tr>\n",
       "      <td>bathrooms</td>\n",
       "      <td>0.498232</td>\n",
       "      <td>1.000000</td>\n",
       "      <td>0.018456</td>\n",
       "      <td>-0.040912</td>\n",
       "      <td>0.574308</td>\n",
       "      <td>0.513076</td>\n",
       "      <td>0.490656</td>\n",
       "      <td>0.161037</td>\n",
       "      <td>0.044418</td>\n",
       "      <td>-0.006523</td>\n",
       "    </tr>\n",
       "    <tr>\n",
       "      <td>host_response_rate</td>\n",
       "      <td>0.047379</td>\n",
       "      <td>0.018456</td>\n",
       "      <td>1.000000</td>\n",
       "      <td>0.117379</td>\n",
       "      <td>0.027709</td>\n",
       "      <td>0.047577</td>\n",
       "      <td>0.001935</td>\n",
       "      <td>0.131337</td>\n",
       "      <td>0.099819</td>\n",
       "      <td>-0.019037</td>\n",
       "    </tr>\n",
       "    <tr>\n",
       "      <td>number_of_reviews</td>\n",
       "      <td>0.031000</td>\n",
       "      <td>-0.040912</td>\n",
       "      <td>0.117379</td>\n",
       "      <td>1.000000</td>\n",
       "      <td>-0.038597</td>\n",
       "      <td>0.022787</td>\n",
       "      <td>-0.044057</td>\n",
       "      <td>0.144332</td>\n",
       "      <td>0.227540</td>\n",
       "      <td>0.201491</td>\n",
       "    </tr>\n",
       "    <tr>\n",
       "      <td>bedrooms</td>\n",
       "      <td>0.720385</td>\n",
       "      <td>0.574308</td>\n",
       "      <td>0.027709</td>\n",
       "      <td>-0.038597</td>\n",
       "      <td>1.000000</td>\n",
       "      <td>0.704858</td>\n",
       "      <td>0.551253</td>\n",
       "      <td>0.182850</td>\n",
       "      <td>0.082153</td>\n",
       "      <td>0.015285</td>\n",
       "    </tr>\n",
       "    <tr>\n",
       "      <td>beds</td>\n",
       "      <td>0.824703</td>\n",
       "      <td>0.513076</td>\n",
       "      <td>0.047577</td>\n",
       "      <td>0.022787</td>\n",
       "      <td>0.704858</td>\n",
       "      <td>1.000000</td>\n",
       "      <td>0.491563</td>\n",
       "      <td>0.229713</td>\n",
       "      <td>0.092062</td>\n",
       "      <td>-0.031468</td>\n",
       "    </tr>\n",
       "    <tr>\n",
       "      <td>price</td>\n",
       "      <td>0.579029</td>\n",
       "      <td>0.490656</td>\n",
       "      <td>0.001935</td>\n",
       "      <td>-0.044057</td>\n",
       "      <td>0.551253</td>\n",
       "      <td>0.491563</td>\n",
       "      <td>1.000000</td>\n",
       "      <td>0.191038</td>\n",
       "      <td>0.062491</td>\n",
       "      <td>0.051808</td>\n",
       "    </tr>\n",
       "    <tr>\n",
       "      <td>length_amenities</td>\n",
       "      <td>0.258958</td>\n",
       "      <td>0.161037</td>\n",
       "      <td>0.131337</td>\n",
       "      <td>0.144332</td>\n",
       "      <td>0.182850</td>\n",
       "      <td>0.229713</td>\n",
       "      <td>0.191038</td>\n",
       "      <td>1.000000</td>\n",
       "      <td>0.269240</td>\n",
       "      <td>-0.038405</td>\n",
       "    </tr>\n",
       "    <tr>\n",
       "      <td>description_length</td>\n",
       "      <td>0.116491</td>\n",
       "      <td>0.044418</td>\n",
       "      <td>0.099819</td>\n",
       "      <td>0.227540</td>\n",
       "      <td>0.082153</td>\n",
       "      <td>0.092062</td>\n",
       "      <td>0.062491</td>\n",
       "      <td>0.269240</td>\n",
       "      <td>1.000000</td>\n",
       "      <td>0.185753</td>\n",
       "    </tr>\n",
       "    <tr>\n",
       "      <td>host_since_days</td>\n",
       "      <td>-0.018579</td>\n",
       "      <td>-0.006523</td>\n",
       "      <td>-0.019037</td>\n",
       "      <td>0.201491</td>\n",
       "      <td>0.015285</td>\n",
       "      <td>-0.031468</td>\n",
       "      <td>0.051808</td>\n",
       "      <td>-0.038405</td>\n",
       "      <td>0.185753</td>\n",
       "      <td>1.000000</td>\n",
       "    </tr>\n",
       "  </tbody>\n",
       "</table>\n",
       "</div>"
      ],
      "text/plain": [
       "                    accommodates  bathrooms  host_response_rate  \\\n",
       "accommodates            1.000000   0.498232            0.047379   \n",
       "bathrooms               0.498232   1.000000            0.018456   \n",
       "host_response_rate      0.047379   0.018456            1.000000   \n",
       "number_of_reviews       0.031000  -0.040912            0.117379   \n",
       "bedrooms                0.720385   0.574308            0.027709   \n",
       "beds                    0.824703   0.513076            0.047577   \n",
       "price                   0.579029   0.490656            0.001935   \n",
       "length_amenities        0.258958   0.161037            0.131337   \n",
       "description_length      0.116491   0.044418            0.099819   \n",
       "host_since_days        -0.018579  -0.006523           -0.019037   \n",
       "\n",
       "                    number_of_reviews  bedrooms      beds     price  \\\n",
       "accommodates                 0.031000  0.720385  0.824703  0.579029   \n",
       "bathrooms                   -0.040912  0.574308  0.513076  0.490656   \n",
       "host_response_rate           0.117379  0.027709  0.047577  0.001935   \n",
       "number_of_reviews            1.000000 -0.038597  0.022787 -0.044057   \n",
       "bedrooms                    -0.038597  1.000000  0.704858  0.551253   \n",
       "beds                         0.022787  0.704858  1.000000  0.491563   \n",
       "price                       -0.044057  0.551253  0.491563  1.000000   \n",
       "length_amenities             0.144332  0.182850  0.229713  0.191038   \n",
       "description_length           0.227540  0.082153  0.092062  0.062491   \n",
       "host_since_days              0.201491  0.015285 -0.031468  0.051808   \n",
       "\n",
       "                    length_amenities  description_length  host_since_days  \n",
       "accommodates                0.258958            0.116491        -0.018579  \n",
       "bathrooms                   0.161037            0.044418        -0.006523  \n",
       "host_response_rate          0.131337            0.099819        -0.019037  \n",
       "number_of_reviews           0.144332            0.227540         0.201491  \n",
       "bedrooms                    0.182850            0.082153         0.015285  \n",
       "beds                        0.229713            0.092062        -0.031468  \n",
       "price                       0.191038            0.062491         0.051808  \n",
       "length_amenities            1.000000            0.269240        -0.038405  \n",
       "description_length          0.269240            1.000000         0.185753  \n",
       "host_since_days            -0.038405            0.185753         1.000000  "
      ]
     },
     "execution_count": 41,
     "metadata": {},
     "output_type": "execute_result"
    }
   ],
   "source": [
    "df_corr.corr()"
   ]
  },
  {
   "cell_type": "code",
   "execution_count": 42,
   "metadata": {},
   "outputs": [
    {
     "data": {
      "image/png": "[encoded data removed]",
      "text/plain": [
       "<Figure size 432x288 with 2 Axes>"
      ]
     },
     "metadata": {
      "needs_background": "light"
     },
     "output_type": "display_data"
    }
   ],
   "source": [
    "# no strong correlations between numerical variables\n",
    "# rule of thumnb: correlation above 0.9 is problematic\n",
    "sns.heatmap(df_corr.corr())\n",
    "plt.show()"
   ]
  },
  {
   "cell_type": "markdown",
   "metadata": {},
   "source": [
    "# Correlations between categorical variables and Numeric Variables\n",
    "* will use ANOVA"
   ]
  },
  {
   "cell_type": "code",
   "execution_count": 43,
   "metadata": {},
   "outputs": [
    {
     "name": "stdout",
     "output_type": "stream",
     "text": [
      "['accommodates', 'bathrooms', 'host_response_rate', 'number_of_reviews', 'bedrooms', 'beds', 'price', 'length_amenities', 'description_length', 'host_since_days']\n",
      "['room_type', 'bed_type', 'cancellation_policy', 'cleaning_fee', 'city', 'host_has_profile_pic', 'host_identity_verified', 'instant_bookable', 'grade', 'internet', 'TV', 'air_conditioning', 'kitchen', 'pool', 'parking', 'superuser']\n"
     ]
    }
   ],
   "source": [
    "import scipy.stats as stats\n",
    "\n",
    "numerical_vars = list(df_logistic.select_dtypes(include=numerics).columns)\n",
    "print(numerical_vars)\n",
    "\n",
    "categorical_vars = list(df_logistic.select_dtypes(include=['category', 'bool']).columns)\n",
    "\n",
    "print(categorical_vars)"
   ]
  },
  {
   "cell_type": "markdown",
   "metadata": {},
   "source": [
    "#### Room type"
   ]
  },
  {
   "cell_type": "code",
   "execution_count": 44,
   "metadata": {},
   "outputs": [
    {
     "name": "stdout",
     "output_type": "stream",
     "text": [
      "accommodates : \n",
      "F_onewayResult(statistic=8311.260477381162, pvalue=0.0)\n",
      "\n",
      "bathrooms : \n",
      "F_onewayResult(statistic=533.6824644984207, pvalue=2.2584378027609e-230)\n",
      "\n",
      "host_response_rate : \n",
      "F_onewayResult(statistic=9.872934792213272, pvalue=5.163883408700995e-05)\n",
      "\n",
      "number_of_reviews : \n",
      "F_onewayResult(statistic=25.88832682111481, pvalue=5.779784393585306e-12)\n",
      "\n",
      "bedrooms : \n",
      "F_onewayResult(statistic=1791.7812374495722, pvalue=0.0)\n",
      "\n",
      "beds : \n",
      "F_onewayResult(statistic=4317.176705064991, pvalue=0.0)\n",
      "\n",
      "price : \n",
      "F_onewayResult(statistic=6820.273716593953, pvalue=0.0)\n",
      "\n",
      "length_amenities : \n",
      "F_onewayResult(statistic=699.812004414434, pvalue=5.280719624892653e-301)\n",
      "\n",
      "description_length : \n",
      "F_onewayResult(statistic=200.5409063304744, pvalue=1.6186136413727302e-87)\n",
      "\n",
      "host_since_days : \n",
      "F_onewayResult(statistic=143.9161079301942, pvalue=4.51081762544199e-63)\n",
      "\n"
     ]
    }
   ],
   "source": [
    "#room_type is redundant\n",
    "for var in numerical_vars:\n",
    "    print(var, ': ')\n",
    "    print(stats.f_oneway(df_logistic[var][df_logistic.room_type == 'Entire home/apt'], \n",
    "               df_logistic[var][df_logistic.room_type == 'Private room'],\n",
    "               df_logistic[var][df_logistic.room_type == 'Shared room']))\n",
    "    print()"
   ]
  },
  {
   "cell_type": "markdown",
   "metadata": {},
   "source": [
    "#### Bed_type"
   ]
  },
  {
   "cell_type": "code",
   "execution_count": 45,
   "metadata": {},
   "outputs": [
    {
     "name": "stdout",
     "output_type": "stream",
     "text": [
      "accommodates : \n",
      "F_onewayResult(statistic=102.04947044326022, pvalue=9.630281590057128e-87)\n",
      "\n",
      "bathrooms : \n",
      "F_onewayResult(statistic=27.904042696251405, pvalue=3.467200673340659e-23)\n",
      "\n",
      "host_response_rate : \n",
      "F_onewayResult(statistic=2.353563913070348, pvalue=0.05155216075667624)\n",
      "\n",
      "number_of_reviews : \n",
      "F_onewayResult(statistic=8.51600176921841, pvalue=7.262564854627648e-07)\n",
      "\n",
      "bedrooms : \n",
      "F_onewayResult(statistic=60.372615039866616, pvalue=5.684462709636918e-51)\n",
      "\n",
      "beds : \n",
      "F_onewayResult(statistic=74.1156356502596, pvalue=9.148265945184976e-63)\n",
      "\n",
      "price : \n",
      "F_onewayResult(statistic=71.49261792865688, pvalue=1.6319097372406637e-60)\n",
      "\n",
      "length_amenities : \n",
      "F_onewayResult(statistic=20.4191984055442, pvalue=7.901181515252077e-17)\n",
      "\n",
      "description_length : \n",
      "F_onewayResult(statistic=10.248095157947763, pvalue=2.7155721454553722e-08)\n",
      "\n",
      "host_since_days : \n",
      "F_onewayResult(statistic=14.19936597869075, pvalue=1.3822950226623125e-11)\n",
      "\n"
     ]
    }
   ],
   "source": [
    "for var in numerical_vars:\n",
    "    print(var, ': ')\n",
    "    print(stats.f_oneway(df_logistic[var][df_logistic.bed_type == 'Real Bed'], \n",
    "               df_logistic[var][df_logistic.bed_type == 'Futon'],\n",
    "               df_logistic[var][df_logistic.bed_type == 'Pull-out Sofa'],\n",
    "              df_logistic[var][df_logistic.bed_type == 'Couch'],\n",
    "              df_logistic[var][df_logistic.bed_type == 'Airbed']))\n",
    "    print()\n",
    "    "
   ]
  },
  {
   "cell_type": "markdown",
   "metadata": {},
   "source": [
    "#### Cancellation policy"
   ]
  },
  {
   "cell_type": "code",
   "execution_count": 46,
   "metadata": {},
   "outputs": [
    {
     "name": "stdout",
     "output_type": "stream",
     "text": [
      "accommodates : \n",
      "F_onewayResult(statistic=625.362058848526, pvalue=0.0)\n",
      "\n",
      "bathrooms : \n",
      "F_onewayResult(statistic=163.58453704084602, pvalue=1.688385471521771e-139)\n",
      "\n",
      "host_response_rate : \n",
      "F_onewayResult(statistic=127.82475818932434, pvalue=7.413989514035901e-109)\n",
      "\n",
      "number_of_reviews : \n",
      "F_onewayResult(statistic=388.6685401492283, pvalue=0.0)\n",
      "\n",
      "bedrooms : \n",
      "F_onewayResult(statistic=303.0969869499843, pvalue=1.7788969602946338e-258)\n",
      "\n",
      "beds : \n",
      "F_onewayResult(statistic=483.00142177331134, pvalue=0.0)\n",
      "\n",
      "price : \n",
      "F_onewayResult(statistic=458.6254579107413, pvalue=0.0)\n",
      "\n",
      "length_amenities : \n",
      "F_onewayResult(statistic=517.9927741542882, pvalue=0.0)\n",
      "\n",
      "description_length : \n",
      "F_onewayResult(statistic=944.3057366911261, pvalue=0.0)\n",
      "\n",
      "host_since_days : \n",
      "F_onewayResult(statistic=280.14155062709756, pvalue=5.731773057493463e-239)\n",
      "\n"
     ]
    }
   ],
   "source": [
    "for var in numerical_vars:\n",
    "    print(var, ': ')\n",
    "    print(stats.f_oneway(df_logistic[var][df_logistic.cancellation_policy == 'strict'], \n",
    "               df_logistic[var][df_logistic.cancellation_policy == 'moderate'],\n",
    "               df_logistic[var][df_logistic.cancellation_policy == 'flexible'],\n",
    "              df_logistic[var][df_logistic.cancellation_policy == 'super_strict_30'],\n",
    "              df_logistic[var][df_logistic.cancellation_policy == 'super_strict_60']))\n",
    "    print()\n",
    "    "
   ]
  },
  {
   "cell_type": "markdown",
   "metadata": {},
   "source": [
    "Anova seems to be overly sensitive to finding correlations. I will stop here"
   ]
  },
  {
   "cell_type": "markdown",
   "metadata": {},
   "source": [
    "# Correlations between categorical variables\n",
    "* Use Cramers V for correlation between categorical variables. It ranges from 0 (no association) to 1 (strong association)"
   ]
  },
  {
   "cell_type": "code",
   "execution_count": 54,
   "metadata": {},
   "outputs": [],
   "source": [
    "import scipy.stats as ss"
   ]
  },
  {
   "cell_type": "code",
   "execution_count": 55,
   "metadata": {},
   "outputs": [],
   "source": [
    "categorical_vars = ['room_type', 'bed_type', 'cancellation_policy', 'cleaning_fee', 'city', 'host_has_profile_pic',\n",
    "                   'host_identity_verified', 'instant_bookable', 'internet', 'TV', 'air_conditioning',\n",
    "                   'kitchen', 'pool', 'parking']\n",
    "\n",
    "df_logistic_correlation = df_logistic[categorical_vars]"
   ]
  },
  {
   "cell_type": "code",
   "execution_count": 56,
   "metadata": {},
   "outputs": [],
   "source": [
    "def cramers_v(x, y):\n",
    "    confusion_matrix = pd.crosstab(x,y)\n",
    "    chi2 = ss.chi2_contingency(confusion_matrix)[0]\n",
    "    n = confusion_matrix.sum().sum()\n",
    "    phi2 = chi2/n\n",
    "    r,k = confusion_matrix.shape\n",
    "    phi2corr = max(0, phi2-((k-1)*(r-1))/(n-1))\n",
    "    rcorr = r-((r-1)**2)/(n-1)\n",
    "    kcorr = k-((k-1)**2)/(n-1)\n",
    "    return np.sqrt(phi2corr/min((kcorr-1),(rcorr-1)))"
   ]
  },
  {
   "cell_type": "code",
   "execution_count": 57,
   "metadata": {},
   "outputs": [
    {
     "name": "stdout",
     "output_type": "stream",
     "text": [
      "The association of room_type with the following variables is\n",
      "room_type :  1.0\n",
      "bed_type :  0.1793748065380461\n",
      "cancellation_policy :  0.1220019589589836\n",
      "cleaning_fee :  0.21826793323473284\n",
      "city :  0.08172005270469712\n",
      "host_has_profile_pic :  0.0\n",
      "host_identity_verified :  0.05153835232246948\n",
      "instant_bookable :  0.032603183603628745\n",
      "internet :  0.05601238730062045\n",
      "TV :  0.2599952029891558\n",
      "air_conditioning :  0.08250167983345934\n",
      "kitchen :  0.15153203675520513\n",
      "pool :  0.05287497280484075\n",
      "parking :  0.05222894743329889\n",
      "\n",
      "The association of bed_type with the following variables is\n",
      "room_type :  0.1793748065380461\n",
      "bed_type :  1.0\n",
      "cancellation_policy :  0.020333596740673206\n",
      "cleaning_fee :  0.029661826563628393\n",
      "city :  0.015766381325537843\n",
      "host_has_profile_pic :  0.0\n",
      "host_identity_verified :  0.012197281200082339\n",
      "instant_bookable :  0.024833155023125213\n",
      "internet :  0.023856576997351546\n",
      "TV :  0.061251044773271084\n",
      "air_conditioning :  0.037473028945249565\n",
      "kitchen :  0.019682040308467517\n",
      "pool :  0.014132852532502184\n",
      "parking :  0.007808682911145754\n",
      "\n",
      "The association of cancellation_policy with the following variables is\n",
      "room_type :  0.12200195895898358\n",
      "bed_type :  0.020333596740673206\n",
      "cancellation_policy :  0.9999999999999999\n",
      "cleaning_fee :  0.27604746552051085\n",
      "city :  0.05484383813389983\n",
      "host_has_profile_pic :  0.013181637639615383\n",
      "host_identity_verified :  0.11291024369393174\n",
      "instant_bookable :  0.031035570395550646\n",
      "internet :  0.08508475045671414\n",
      "TV :  0.0701999975641904\n",
      "air_conditioning :  0.05657838921649254\n",
      "kitchen :  0.034347048975317686\n",
      "pool :  0.030510054058400564\n",
      "parking :  0.03996212167811979\n",
      "\n",
      "The association of cleaning_fee with the following variables is\n",
      "room_type :  0.21826793323473284\n",
      "bed_type :  0.029661826563628393\n",
      "cancellation_policy :  0.2760474655205109\n",
      "cleaning_fee :  0.9999466952074902\n",
      "city :  0.08265710074479864\n",
      "host_has_profile_pic :  0.0020971566746834465\n",
      "host_identity_verified :  0.10697388368015638\n",
      "instant_bookable :  0.017096674447525915\n",
      "internet :  0.07836754655975511\n",
      "TV :  0.09581238263965769\n",
      "air_conditioning :  0.03992755074780698\n",
      "kitchen :  0.056256970337655775\n",
      "pool :  0.03305413677137714\n",
      "parking :  0.06755464267175955\n",
      "\n",
      "The association of city with the following variables is\n",
      "room_type :  0.08172005270469712\n",
      "bed_type :  0.01576638132553784\n",
      "cancellation_policy :  0.054843838133899814\n",
      "cleaning_fee :  0.08265710074479864\n",
      "city :  1.0\n",
      "host_has_profile_pic :  0.00211428598776476\n",
      "host_identity_verified :  0.09466779665390972\n",
      "instant_bookable :  0.051334944422746526\n",
      "internet :  0.02304553601390388\n",
      "TV :  0.1435044580598475\n",
      "air_conditioning :  0.5122701341366646\n",
      "kitchen :  0.07901625747576355\n",
      "pool :  0.32494615608740374\n",
      "parking :  0.5186475260178524\n",
      "\n",
      "The association of host_has_profile_pic with the following variables is\n",
      "room_type :  0.0\n",
      "bed_type :  0.0\n",
      "cancellation_policy :  0.013181637639615383\n",
      "cleaning_fee :  0.0020971566746834465\n",
      "city :  0.0021142859877647632\n",
      "host_has_profile_pic :  0.9946148350554986\n",
      "host_identity_verified :  0.058685217166449824\n",
      "instant_bookable :  0.00489324062719711\n",
      "internet :  0.002179414850677651\n",
      "TV :  0.0\n",
      "air_conditioning :  0.006911869917583111\n",
      "kitchen :  0.0\n",
      "pool :  0.0031014504103737774\n",
      "parking :  0.005934282455257069\n",
      "\n",
      "The association of host_identity_verified with the following variables is\n",
      "room_type :  0.05153835232246948\n",
      "bed_type :  0.012197281200082339\n",
      "cancellation_policy :  0.11291024369393174\n",
      "cleaning_fee :  0.10697388368015638\n",
      "city :  0.09466779665390972\n",
      "host_has_profile_pic :  0.058685217166449824\n",
      "host_identity_verified :  0.9999558565448171\n",
      "instant_bookable :  0.09375125154932894\n",
      "internet :  0.05900399509698854\n",
      "TV :  0.03625391000909531\n",
      "air_conditioning :  0.014979768767467911\n",
      "kitchen :  0.03993391713847937\n",
      "pool :  0.01814491609961254\n",
      "parking :  0.052935104725848545\n",
      "\n",
      "The association of instant_bookable with the following variables is\n",
      "room_type :  0.032603183603628745\n",
      "bed_type :  0.024833155023125213\n",
      "cancellation_policy :  0.031035570395550646\n",
      "cleaning_fee :  0.017096674447525915\n",
      "city :  0.051334944422746526\n",
      "host_has_profile_pic :  0.004893240627197111\n",
      "host_identity_verified :  0.09375125154932894\n",
      "instant_bookable :  0.9999555869783726\n",
      "internet :  0.012201145602963674\n",
      "TV :  0.0\n",
      "air_conditioning :  0.029101115847988236\n",
      "kitchen :  0.021203021220146303\n",
      "pool :  0.022496172246141085\n",
      "parking :  0.03354310834405657\n",
      "\n",
      "The association of internet with the following variables is\n",
      "room_type :  0.05601238730062045\n",
      "bed_type :  0.023856576997351546\n",
      "cancellation_policy :  0.08508475045671414\n",
      "cleaning_fee :  0.07836754655975511\n",
      "city :  0.02304553601390388\n",
      "host_has_profile_pic :  0.002179414850677651\n",
      "host_identity_verified :  0.05900399509698854\n",
      "instant_bookable :  0.012201145602963674\n",
      "internet :  0.9995744272186844\n",
      "TV :  0.1501327801130321\n",
      "air_conditioning :  0.12956788789307663\n",
      "kitchen :  0.19105610641262846\n",
      "pool :  0.018763521913372078\n",
      "parking :  0.047646913234610636\n",
      "\n",
      "The association of TV with the following variables is\n",
      "room_type :  0.2599952029891558\n",
      "bed_type :  0.061251044773271084\n",
      "cancellation_policy :  0.0701999975641904\n",
      "cleaning_fee :  0.09581238263965769\n",
      "city :  0.1435044580598475\n",
      "host_has_profile_pic :  0.0\n",
      "host_identity_verified :  0.03625391000909531\n",
      "instant_bookable :  0.0\n",
      "internet :  0.1501327801130321\n",
      "TV :  0.99995516392982\n",
      "air_conditioning :  0.13631429650201668\n",
      "kitchen :  0.137426013499677\n",
      "pool :  0.0897015520986736\n",
      "parking :  0.13305623193266952\n",
      "\n",
      "The association of air_conditioning with the following variables is\n",
      "room_type :  0.08250167983345934\n",
      "bed_type :  0.037473028945249565\n",
      "cancellation_policy :  0.056578389216492546\n",
      "cleaning_fee :  0.03992755074780698\n",
      "city :  0.5122701341366646\n",
      "host_has_profile_pic :  0.006911869917583112\n",
      "host_identity_verified :  0.014979768767467911\n",
      "instant_bookable :  0.029101115847988236\n",
      "internet :  0.12956788789307663\n",
      "TV :  0.13631429650201668\n",
      "air_conditioning :  0.9999525165771755\n",
      "kitchen :  0.11514825397207809\n",
      "pool :  0.095728507153489\n",
      "parking :  0.013161537571619104\n",
      "\n",
      "The association of kitchen with the following variables is\n",
      "room_type :  0.15153203675520513\n",
      "bed_type :  0.019682040308467517\n",
      "cancellation_policy :  0.03434704897531768\n",
      "cleaning_fee :  0.056256970337655775\n",
      "city :  0.07901625747576353\n",
      "host_has_profile_pic :  0.0\n",
      "host_identity_verified :  0.03993391713847937\n",
      "instant_bookable :  0.021203021220146306\n",
      "internet :  0.19105610641262843\n",
      "TV :  0.137426013499677\n",
      "air_conditioning :  0.11514825397207809\n",
      "kitchen :  0.9998851700172008\n",
      "pool :  0.03292805055930545\n",
      "parking :  0.011660835917397087\n",
      "\n",
      "The association of pool with the following variables is\n",
      "room_type :  0.05287497280484075\n",
      "bed_type :  0.014132852532502184\n",
      "cancellation_policy :  0.030510054058400564\n",
      "cleaning_fee :  0.03305413677137714\n",
      "city :  0.32494615608740374\n",
      "host_has_profile_pic :  0.003101450410373778\n",
      "host_identity_verified :  0.01814491609961254\n",
      "instant_bookable :  0.022496172246141085\n",
      "internet :  0.018763521913372078\n",
      "TV :  0.0897015520986736\n",
      "air_conditioning :  0.095728507153489\n",
      "kitchen :  0.03292805055930545\n",
      "pool :  0.9998791871668319\n",
      "parking :  0.2129464435073594\n",
      "\n",
      "The association of parking with the following variables is\n",
      "room_type :  0.05222894743329889\n",
      "bed_type :  0.0078086829111457525\n",
      "cancellation_policy :  0.03996212167811979\n",
      "cleaning_fee :  0.06755464267175955\n",
      "city :  0.5186475260178524\n",
      "host_has_profile_pic :  0.005934282455257069\n",
      "host_identity_verified :  0.052935104725848545\n",
      "instant_bookable :  0.03354310834405657\n",
      "internet :  0.047646913234610636\n",
      "TV :  0.13305623193266952\n",
      "air_conditioning :  0.013161537571619104\n",
      "kitchen :  0.011660835917397088\n",
      "pool :  0.2129464435073594\n",
      "parking :  0.9999603702344636\n",
      "\n"
     ]
    }
   ],
   "source": [
    "for var in categorical_vars:\n",
    "    print('The association of {} with the following variables is'.format(var))\n",
    "    for var2 in categorical_vars:\n",
    "        confusion_matrix = pd.crosstab(df_logistic_correlation[var], df_logistic_correlation[var2]).as_matrix()\n",
    "        print(var2, ': ', cramers_v(df_logistic[var], df_logistic[var2]))\n",
    "    print()"
   ]
  },
  {
   "cell_type": "markdown",
   "metadata": {},
   "source": [
    "* Room type, bed type, cancellation policy, cleaning fee, having a profile pic, having your identity verified, being instant bookable,and having internet do not seem to have an any strong correlations with other variables\n",
    "* City has moderate correlations with having parking, a pool, and air conditioning"
   ]
  },
  {
   "cell_type": "code",
   "execution_count": 58,
   "metadata": {},
   "outputs": [
    {
     "data": {
      "image/png": "[encoded data removed]",
      "text/plain": [
       "<Figure size 640x480 with 1 Axes>"
      ]
     },
     "metadata": {},
     "output_type": "display_data"
    },
    {
     "data": {
      "text/plain": [
       "<ggplot: (7560511927)>"
      ]
     },
     "execution_count": 58,
     "metadata": {},
     "output_type": "execute_result"
    }
   ],
   "source": [
    "(ggplot(df_logistic, aes('city', fill='parking'))\n",
    " + geom_bar( position='fill')\n",
    ")"
   ]
  },
  {
   "cell_type": "markdown",
   "metadata": {},
   "source": [
    "Here we see that LA is the most likely to have parking, while NYC is the least likely to have parking"
   ]
  },
  {
   "cell_type": "code",
   "execution_count": 59,
   "metadata": {},
   "outputs": [
    {
     "data": {
      "image/png": "[encoded data removed]",
      "text/plain": [
       "<Figure size 640x480 with 1 Axes>"
      ]
     },
     "metadata": {},
     "output_type": "display_data"
    },
    {
     "data": {
      "text/plain": [
       "<ggplot: (7555923818)>"
      ]
     },
     "execution_count": 59,
     "metadata": {},
     "output_type": "execute_result"
    }
   ],
   "source": [
    "(ggplot(df_logistic, aes('city', fill='pool'))\n",
    " + geom_bar( position='fill')\n",
    ")"
   ]
  },
  {
   "cell_type": "markdown",
   "metadata": {},
   "source": [
    "Here we see that an LA property is the most likely to have a pool."
   ]
  },
  {
   "cell_type": "code",
   "execution_count": 61,
   "metadata": {},
   "outputs": [
    {
     "data": {
      "image/png": "[encoded data removed]",
      "text/plain": [
       "<Figure size 640x480 with 1 Axes>"
      ]
     },
     "metadata": {},
     "output_type": "display_data"
    },
    {
     "data": {
      "text/plain": [
       "<ggplot: (7554978147)>"
      ]
     },
     "execution_count": 61,
     "metadata": {},
     "output_type": "execute_result"
    }
   ],
   "source": [
    "(ggplot(df_logistic, aes('city', fill='air_conditioning'))\n",
    " + geom_bar( position='fill')\n",
    ")"
   ]
  },
  {
   "cell_type": "markdown",
   "metadata": {},
   "source": [
    "Here we see that having AC is common in all the cities except San Francisco, where it is uncommon."
   ]
  },
  {
   "cell_type": "markdown",
   "metadata": {},
   "source": [
    "## Logistic Regression (Ridge, Scaling)"
   ]
  },
  {
   "cell_type": "code",
   "execution_count": 65,
   "metadata": {},
   "outputs": [
    {
     "data": {
      "text/html": [
       "<div>\n",
       "<style scoped>\n",
       "    .dataframe tbody tr th:only-of-type {\n",
       "        vertical-align: middle;\n",
       "    }\n",
       "\n",
       "    .dataframe tbody tr th {\n",
       "        vertical-align: top;\n",
       "    }\n",
       "\n",
       "    .dataframe thead th {\n",
       "        text-align: right;\n",
       "    }\n",
       "</style>\n",
       "<table border=\"1\" class=\"dataframe\">\n",
       "  <thead>\n",
       "    <tr style=\"text-align: right;\">\n",
       "      <th></th>\n",
       "      <th>room_type</th>\n",
       "      <th>accommodates</th>\n",
       "      <th>bathrooms</th>\n",
       "      <th>bed_type</th>\n",
       "      <th>cancellation_policy</th>\n",
       "      <th>cleaning_fee</th>\n",
       "      <th>city</th>\n",
       "      <th>first_review</th>\n",
       "      <th>host_has_profile_pic</th>\n",
       "      <th>host_identity_verified</th>\n",
       "      <th>host_response_rate</th>\n",
       "      <th>host_since</th>\n",
       "      <th>instant_bookable</th>\n",
       "      <th>last_review</th>\n",
       "      <th>number_of_reviews</th>\n",
       "      <th>bedrooms</th>\n",
       "      <th>beds</th>\n",
       "      <th>price</th>\n",
       "      <th>grade</th>\n",
       "      <th>amenities_new</th>\n",
       "      <th>length_amenities</th>\n",
       "      <th>internet</th>\n",
       "      <th>TV</th>\n",
       "      <th>air_conditioning</th>\n",
       "      <th>kitchen</th>\n",
       "      <th>pool</th>\n",
       "      <th>parking</th>\n",
       "      <th>description_length</th>\n",
       "      <th>superuser</th>\n",
       "      <th>grade_grouped</th>\n",
       "      <th>host_since_days</th>\n",
       "      <th>parking</th>\n",
       "      <th>pool</th>\n",
       "      <th>kitchen</th>\n",
       "      <th>air_conditioning</th>\n",
       "      <th>TV</th>\n",
       "      <th>internet</th>\n",
       "      <th>instant_bookable</th>\n",
       "      <th>host_identity_verified</th>\n",
       "      <th>host_has_profile_pic</th>\n",
       "      <th>cleaning_fee</th>\n",
       "      <th>city_Chicago</th>\n",
       "      <th>city_DC</th>\n",
       "      <th>city_LA</th>\n",
       "      <th>city_NYC</th>\n",
       "      <th>city_SF</th>\n",
       "      <th>cancellation_policy_moderate</th>\n",
       "      <th>cancellation_policy_strict</th>\n",
       "      <th>cancellation_policy_super_strict_30</th>\n",
       "      <th>cancellation_policy_super_strict_60</th>\n",
       "      <th>bed_type_Couch</th>\n",
       "      <th>bed_type_Futon</th>\n",
       "      <th>bed_type_Pull-out Sofa</th>\n",
       "      <th>bed_type_Real Bed</th>\n",
       "      <th>room_type_Private room</th>\n",
       "      <th>room_type_Shared room</th>\n",
       "    </tr>\n",
       "  </thead>\n",
       "  <tbody>\n",
       "    <tr>\n",
       "      <td>0</td>\n",
       "      <td>Entire home/apt</td>\n",
       "      <td>3</td>\n",
       "      <td>1.0</td>\n",
       "      <td>Real Bed</td>\n",
       "      <td>strict</td>\n",
       "      <td>True</td>\n",
       "      <td>NYC</td>\n",
       "      <td>2016-06-18</td>\n",
       "      <td>True</td>\n",
       "      <td>True</td>\n",
       "      <td>0.924026</td>\n",
       "      <td>2012-03-26</td>\n",
       "      <td>False</td>\n",
       "      <td>2016-07-18</td>\n",
       "      <td>2</td>\n",
       "      <td>1</td>\n",
       "      <td>1</td>\n",
       "      <td>150.0</td>\n",
       "      <td>A</td>\n",
       "      <td>[wireless internet, air conditioning, kitchen,...</td>\n",
       "      <td>9</td>\n",
       "      <td>True</td>\n",
       "      <td>False</td>\n",
       "      <td>True</td>\n",
       "      <td>True</td>\n",
       "      <td>False</td>\n",
       "      <td>False</td>\n",
       "      <td>211</td>\n",
       "      <td>True</td>\n",
       "      <td>A</td>\n",
       "      <td>2179</td>\n",
       "      <td>False</td>\n",
       "      <td>False</td>\n",
       "      <td>True</td>\n",
       "      <td>True</td>\n",
       "      <td>False</td>\n",
       "      <td>True</td>\n",
       "      <td>False</td>\n",
       "      <td>True</td>\n",
       "      <td>True</td>\n",
       "      <td>True</td>\n",
       "      <td>0</td>\n",
       "      <td>0</td>\n",
       "      <td>0</td>\n",
       "      <td>1</td>\n",
       "      <td>0</td>\n",
       "      <td>0</td>\n",
       "      <td>1</td>\n",
       "      <td>0</td>\n",
       "      <td>0</td>\n",
       "      <td>0</td>\n",
       "      <td>0</td>\n",
       "      <td>0</td>\n",
       "      <td>1</td>\n",
       "      <td>0</td>\n",
       "      <td>0</td>\n",
       "    </tr>\n",
       "    <tr>\n",
       "      <td>1</td>\n",
       "      <td>Entire home/apt</td>\n",
       "      <td>7</td>\n",
       "      <td>1.0</td>\n",
       "      <td>Real Bed</td>\n",
       "      <td>strict</td>\n",
       "      <td>True</td>\n",
       "      <td>NYC</td>\n",
       "      <td>2017-08-05</td>\n",
       "      <td>True</td>\n",
       "      <td>False</td>\n",
       "      <td>1.000000</td>\n",
       "      <td>2017-06-19</td>\n",
       "      <td>True</td>\n",
       "      <td>2017-09-23</td>\n",
       "      <td>6</td>\n",
       "      <td>3</td>\n",
       "      <td>3</td>\n",
       "      <td>169.0</td>\n",
       "      <td>A</td>\n",
       "      <td>[wireless internet, air conditioning, kitchen,...</td>\n",
       "      <td>15</td>\n",
       "      <td>True</td>\n",
       "      <td>False</td>\n",
       "      <td>True</td>\n",
       "      <td>True</td>\n",
       "      <td>False</td>\n",
       "      <td>False</td>\n",
       "      <td>1000</td>\n",
       "      <td>False</td>\n",
       "      <td>A</td>\n",
       "      <td>268</td>\n",
       "      <td>False</td>\n",
       "      <td>False</td>\n",
       "      <td>True</td>\n",
       "      <td>True</td>\n",
       "      <td>False</td>\n",
       "      <td>True</td>\n",
       "      <td>True</td>\n",
       "      <td>False</td>\n",
       "      <td>True</td>\n",
       "      <td>True</td>\n",
       "      <td>0</td>\n",
       "      <td>0</td>\n",
       "      <td>0</td>\n",
       "      <td>1</td>\n",
       "      <td>0</td>\n",
       "      <td>0</td>\n",
       "      <td>1</td>\n",
       "      <td>0</td>\n",
       "      <td>0</td>\n",
       "      <td>0</td>\n",
       "      <td>0</td>\n",
       "      <td>0</td>\n",
       "      <td>1</td>\n",
       "      <td>0</td>\n",
       "      <td>0</td>\n",
       "    </tr>\n",
       "    <tr>\n",
       "      <td>2</td>\n",
       "      <td>Entire home/apt</td>\n",
       "      <td>5</td>\n",
       "      <td>1.0</td>\n",
       "      <td>Real Bed</td>\n",
       "      <td>moderate</td>\n",
       "      <td>True</td>\n",
       "      <td>NYC</td>\n",
       "      <td>2017-04-30</td>\n",
       "      <td>True</td>\n",
       "      <td>True</td>\n",
       "      <td>1.000000</td>\n",
       "      <td>2016-10-25</td>\n",
       "      <td>True</td>\n",
       "      <td>2017-09-14</td>\n",
       "      <td>10</td>\n",
       "      <td>1</td>\n",
       "      <td>3</td>\n",
       "      <td>145.0</td>\n",
       "      <td>A</td>\n",
       "      <td>[tv, cable tv, wireless internet, air conditio...</td>\n",
       "      <td>19</td>\n",
       "      <td>True</td>\n",
       "      <td>True</td>\n",
       "      <td>True</td>\n",
       "      <td>True</td>\n",
       "      <td>False</td>\n",
       "      <td>False</td>\n",
       "      <td>1000</td>\n",
       "      <td>False</td>\n",
       "      <td>A</td>\n",
       "      <td>505</td>\n",
       "      <td>False</td>\n",
       "      <td>False</td>\n",
       "      <td>True</td>\n",
       "      <td>True</td>\n",
       "      <td>True</td>\n",
       "      <td>True</td>\n",
       "      <td>True</td>\n",
       "      <td>True</td>\n",
       "      <td>True</td>\n",
       "      <td>True</td>\n",
       "      <td>0</td>\n",
       "      <td>0</td>\n",
       "      <td>0</td>\n",
       "      <td>1</td>\n",
       "      <td>0</td>\n",
       "      <td>1</td>\n",
       "      <td>0</td>\n",
       "      <td>0</td>\n",
       "      <td>0</td>\n",
       "      <td>0</td>\n",
       "      <td>0</td>\n",
       "      <td>0</td>\n",
       "      <td>1</td>\n",
       "      <td>0</td>\n",
       "      <td>0</td>\n",
       "    </tr>\n",
       "    <tr>\n",
       "      <td>3</td>\n",
       "      <td>Entire home/apt</td>\n",
       "      <td>2</td>\n",
       "      <td>1.0</td>\n",
       "      <td>Real Bed</td>\n",
       "      <td>moderate</td>\n",
       "      <td>True</td>\n",
       "      <td>DC</td>\n",
       "      <td>2015-05-12</td>\n",
       "      <td>True</td>\n",
       "      <td>True</td>\n",
       "      <td>1.000000</td>\n",
       "      <td>2015-03-01</td>\n",
       "      <td>True</td>\n",
       "      <td>2017-01-22</td>\n",
       "      <td>4</td>\n",
       "      <td>0</td>\n",
       "      <td>1</td>\n",
       "      <td>115.0</td>\n",
       "      <td>F</td>\n",
       "      <td>[tv, internet, wireless internet, air conditio...</td>\n",
       "      <td>12</td>\n",
       "      <td>True</td>\n",
       "      <td>True</td>\n",
       "      <td>True</td>\n",
       "      <td>True</td>\n",
       "      <td>False</td>\n",
       "      <td>False</td>\n",
       "      <td>699</td>\n",
       "      <td>False</td>\n",
       "      <td>&lt;A</td>\n",
       "      <td>1109</td>\n",
       "      <td>False</td>\n",
       "      <td>False</td>\n",
       "      <td>True</td>\n",
       "      <td>True</td>\n",
       "      <td>True</td>\n",
       "      <td>True</td>\n",
       "      <td>True</td>\n",
       "      <td>True</td>\n",
       "      <td>True</td>\n",
       "      <td>True</td>\n",
       "      <td>0</td>\n",
       "      <td>1</td>\n",
       "      <td>0</td>\n",
       "      <td>0</td>\n",
       "      <td>0</td>\n",
       "      <td>1</td>\n",
       "      <td>0</td>\n",
       "      <td>0</td>\n",
       "      <td>0</td>\n",
       "      <td>0</td>\n",
       "      <td>0</td>\n",
       "      <td>0</td>\n",
       "      <td>1</td>\n",
       "      <td>0</td>\n",
       "      <td>0</td>\n",
       "    </tr>\n",
       "    <tr>\n",
       "      <td>4</td>\n",
       "      <td>Private room</td>\n",
       "      <td>2</td>\n",
       "      <td>1.0</td>\n",
       "      <td>Real Bed</td>\n",
       "      <td>strict</td>\n",
       "      <td>True</td>\n",
       "      <td>SF</td>\n",
       "      <td>2017-08-27</td>\n",
       "      <td>True</td>\n",
       "      <td>True</td>\n",
       "      <td>1.000000</td>\n",
       "      <td>2017-06-07</td>\n",
       "      <td>True</td>\n",
       "      <td>2017-09-05</td>\n",
       "      <td>3</td>\n",
       "      <td>1</td>\n",
       "      <td>1</td>\n",
       "      <td>85.0</td>\n",
       "      <td>A</td>\n",
       "      <td>[tv, wireless internet, heating, smoke detecto...</td>\n",
       "      <td>10</td>\n",
       "      <td>True</td>\n",
       "      <td>True</td>\n",
       "      <td>False</td>\n",
       "      <td>False</td>\n",
       "      <td>False</td>\n",
       "      <td>False</td>\n",
       "      <td>1000</td>\n",
       "      <td>False</td>\n",
       "      <td>A</td>\n",
       "      <td>280</td>\n",
       "      <td>False</td>\n",
       "      <td>False</td>\n",
       "      <td>False</td>\n",
       "      <td>False</td>\n",
       "      <td>True</td>\n",
       "      <td>True</td>\n",
       "      <td>True</td>\n",
       "      <td>True</td>\n",
       "      <td>True</td>\n",
       "      <td>True</td>\n",
       "      <td>0</td>\n",
       "      <td>0</td>\n",
       "      <td>0</td>\n",
       "      <td>0</td>\n",
       "      <td>1</td>\n",
       "      <td>0</td>\n",
       "      <td>1</td>\n",
       "      <td>0</td>\n",
       "      <td>0</td>\n",
       "      <td>0</td>\n",
       "      <td>0</td>\n",
       "      <td>0</td>\n",
       "      <td>1</td>\n",
       "      <td>1</td>\n",
       "      <td>0</td>\n",
       "    </tr>\n",
       "  </tbody>\n",
       "</table>\n",
       "</div>"
      ],
      "text/plain": [
       "         room_type  accommodates  bathrooms  bed_type cancellation_policy  \\\n",
       "0  Entire home/apt             3        1.0  Real Bed              strict   \n",
       "1  Entire home/apt             7        1.0  Real Bed              strict   \n",
       "2  Entire home/apt             5        1.0  Real Bed            moderate   \n",
       "3  Entire home/apt             2        1.0  Real Bed            moderate   \n",
       "4     Private room             2        1.0  Real Bed              strict   \n",
       "\n",
       "   cleaning_fee city first_review  host_has_profile_pic  \\\n",
       "0          True  NYC   2016-06-18                  True   \n",
       "1          True  NYC   2017-08-05                  True   \n",
       "2          True  NYC   2017-04-30                  True   \n",
       "3          True   DC   2015-05-12                  True   \n",
       "4          True   SF   2017-08-27                  True   \n",
       "\n",
       "   host_identity_verified  host_response_rate host_since  instant_bookable  \\\n",
       "0                    True            0.924026 2012-03-26             False   \n",
       "1                   False            1.000000 2017-06-19              True   \n",
       "2                    True            1.000000 2016-10-25              True   \n",
       "3                    True            1.000000 2015-03-01              True   \n",
       "4                    True            1.000000 2017-06-07              True   \n",
       "\n",
       "  last_review  number_of_reviews  bedrooms  beds  price grade  \\\n",
       "0  2016-07-18                  2         1     1  150.0     A   \n",
       "1  2017-09-23                  6         3     3  169.0     A   \n",
       "2  2017-09-14                 10         1     3  145.0     A   \n",
       "3  2017-01-22                  4         0     1  115.0     F   \n",
       "4  2017-09-05                  3         1     1   85.0     A   \n",
       "\n",
       "                                       amenities_new  length_amenities  \\\n",
       "0  [wireless internet, air conditioning, kitchen,...                 9   \n",
       "1  [wireless internet, air conditioning, kitchen,...                15   \n",
       "2  [tv, cable tv, wireless internet, air conditio...                19   \n",
       "3  [tv, internet, wireless internet, air conditio...                12   \n",
       "4  [tv, wireless internet, heating, smoke detecto...                10   \n",
       "\n",
       "   internet     TV  air_conditioning  kitchen   pool  parking  \\\n",
       "0      True  False              True     True  False    False   \n",
       "1      True  False              True     True  False    False   \n",
       "2      True   True              True     True  False    False   \n",
       "3      True   True              True     True  False    False   \n",
       "4      True   True             False    False  False    False   \n",
       "\n",
       "   description_length  superuser grade_grouped  host_since_days  parking  \\\n",
       "0                 211       True             A             2179    False   \n",
       "1                1000      False             A              268    False   \n",
       "2                1000      False             A              505    False   \n",
       "3                 699      False            <A             1109    False   \n",
       "4                1000      False             A              280    False   \n",
       "\n",
       "    pool  kitchen  air_conditioning     TV  internet  instant_bookable  \\\n",
       "0  False     True              True  False      True             False   \n",
       "1  False     True              True  False      True              True   \n",
       "2  False     True              True   True      True              True   \n",
       "3  False     True              True   True      True              True   \n",
       "4  False    False             False   True      True              True   \n",
       "\n",
       "   host_identity_verified  host_has_profile_pic  cleaning_fee  city_Chicago  \\\n",
       "0                    True                  True          True             0   \n",
       "1                   False                  True          True             0   \n",
       "2                    True                  True          True             0   \n",
       "3                    True                  True          True             0   \n",
       "4                    True                  True          True             0   \n",
       "\n",
       "   city_DC  city_LA  city_NYC  city_SF  cancellation_policy_moderate  \\\n",
       "0        0        0         1        0                             0   \n",
       "1        0        0         1        0                             0   \n",
       "2        0        0         1        0                             1   \n",
       "3        1        0         0        0                             1   \n",
       "4        0        0         0        1                             0   \n",
       "\n",
       "   cancellation_policy_strict  cancellation_policy_super_strict_30  \\\n",
       "0                           1                                    0   \n",
       "1                           1                                    0   \n",
       "2                           0                                    0   \n",
       "3                           0                                    0   \n",
       "4                           1                                    0   \n",
       "\n",
       "   cancellation_policy_super_strict_60  bed_type_Couch  bed_type_Futon  \\\n",
       "0                                    0               0               0   \n",
       "1                                    0               0               0   \n",
       "2                                    0               0               0   \n",
       "3                                    0               0               0   \n",
       "4                                    0               0               0   \n",
       "\n",
       "   bed_type_Pull-out Sofa  bed_type_Real Bed  room_type_Private room  \\\n",
       "0                       0                  1                       0   \n",
       "1                       0                  1                       0   \n",
       "2                       0                  1                       0   \n",
       "3                       0                  1                       0   \n",
       "4                       0                  1                       1   \n",
       "\n",
       "   room_type_Shared room  \n",
       "0                      0  \n",
       "1                      0  \n",
       "2                      0  \n",
       "3                      0  \n",
       "4                      0  "
      ]
     },
     "execution_count": 65,
     "metadata": {},
     "output_type": "execute_result"
    }
   ],
   "source": [
    "# Create dummy variables\n",
    "categorical_vars = ['parking', 'pool', 'kitchen', 'air_conditioning', 'TV', 'internet', 'instant_bookable',\n",
    "                   'host_identity_verified', 'host_has_profile_pic', 'city', 'cleaning_fee', 'cancellation_policy',\n",
    "                   'bed_type', 'room_type']\n",
    "\n",
    "dummy_df = pd.get_dummies(df_logistic[categorical_vars], drop_first=True)\n",
    "\n",
    "df_logistic_dummy = pd.concat([df_logistic, dummy_df], axis=1)\n",
    "\n",
    "df_logistic_dummy.head()"
   ]
  },
  {
   "cell_type": "code",
   "execution_count": 66,
   "metadata": {},
   "outputs": [
    {
     "data": {
      "text/html": [
       "<div>\n",
       "<style scoped>\n",
       "    .dataframe tbody tr th:only-of-type {\n",
       "        vertical-align: middle;\n",
       "    }\n",
       "\n",
       "    .dataframe tbody tr th {\n",
       "        vertical-align: top;\n",
       "    }\n",
       "\n",
       "    .dataframe thead th {\n",
       "        text-align: right;\n",
       "    }\n",
       "</style>\n",
       "<table border=\"1\" class=\"dataframe\">\n",
       "  <thead>\n",
       "    <tr style=\"text-align: right;\">\n",
       "      <th></th>\n",
       "      <th>accommodates</th>\n",
       "      <th>bathrooms</th>\n",
       "      <th>first_review</th>\n",
       "      <th>host_response_rate</th>\n",
       "      <th>host_since</th>\n",
       "      <th>last_review</th>\n",
       "      <th>number_of_reviews</th>\n",
       "      <th>bedrooms</th>\n",
       "      <th>beds</th>\n",
       "      <th>price</th>\n",
       "      <th>grade</th>\n",
       "      <th>amenities_new</th>\n",
       "      <th>length_amenities</th>\n",
       "      <th>description_length</th>\n",
       "      <th>superuser</th>\n",
       "      <th>grade_grouped</th>\n",
       "      <th>host_since_days</th>\n",
       "      <th>city_Chicago</th>\n",
       "      <th>city_DC</th>\n",
       "      <th>city_LA</th>\n",
       "      <th>city_NYC</th>\n",
       "      <th>city_SF</th>\n",
       "      <th>cancellation_policy_moderate</th>\n",
       "      <th>cancellation_policy_strict</th>\n",
       "      <th>cancellation_policy_super_strict_30</th>\n",
       "      <th>cancellation_policy_super_strict_60</th>\n",
       "      <th>bed_type_Couch</th>\n",
       "      <th>bed_type_Futon</th>\n",
       "      <th>bed_type_Pull-out Sofa</th>\n",
       "      <th>bed_type_Real Bed</th>\n",
       "      <th>room_type_Private room</th>\n",
       "      <th>room_type_Shared room</th>\n",
       "    </tr>\n",
       "  </thead>\n",
       "  <tbody>\n",
       "    <tr>\n",
       "      <td>0</td>\n",
       "      <td>3</td>\n",
       "      <td>1.0</td>\n",
       "      <td>2016-06-18</td>\n",
       "      <td>0.924026</td>\n",
       "      <td>2012-03-26</td>\n",
       "      <td>2016-07-18</td>\n",
       "      <td>2</td>\n",
       "      <td>1</td>\n",
       "      <td>1</td>\n",
       "      <td>150.0</td>\n",
       "      <td>A</td>\n",
       "      <td>[wireless internet, air conditioning, kitchen,...</td>\n",
       "      <td>9</td>\n",
       "      <td>211</td>\n",
       "      <td>True</td>\n",
       "      <td>A</td>\n",
       "      <td>2179</td>\n",
       "      <td>0</td>\n",
       "      <td>0</td>\n",
       "      <td>0</td>\n",
       "      <td>1</td>\n",
       "      <td>0</td>\n",
       "      <td>0</td>\n",
       "      <td>1</td>\n",
       "      <td>0</td>\n",
       "      <td>0</td>\n",
       "      <td>0</td>\n",
       "      <td>0</td>\n",
       "      <td>0</td>\n",
       "      <td>1</td>\n",
       "      <td>0</td>\n",
       "      <td>0</td>\n",
       "    </tr>\n",
       "    <tr>\n",
       "      <td>1</td>\n",
       "      <td>7</td>\n",
       "      <td>1.0</td>\n",
       "      <td>2017-08-05</td>\n",
       "      <td>1.000000</td>\n",
       "      <td>2017-06-19</td>\n",
       "      <td>2017-09-23</td>\n",
       "      <td>6</td>\n",
       "      <td>3</td>\n",
       "      <td>3</td>\n",
       "      <td>169.0</td>\n",
       "      <td>A</td>\n",
       "      <td>[wireless internet, air conditioning, kitchen,...</td>\n",
       "      <td>15</td>\n",
       "      <td>1000</td>\n",
       "      <td>False</td>\n",
       "      <td>A</td>\n",
       "      <td>268</td>\n",
       "      <td>0</td>\n",
       "      <td>0</td>\n",
       "      <td>0</td>\n",
       "      <td>1</td>\n",
       "      <td>0</td>\n",
       "      <td>0</td>\n",
       "      <td>1</td>\n",
       "      <td>0</td>\n",
       "      <td>0</td>\n",
       "      <td>0</td>\n",
       "      <td>0</td>\n",
       "      <td>0</td>\n",
       "      <td>1</td>\n",
       "      <td>0</td>\n",
       "      <td>0</td>\n",
       "    </tr>\n",
       "    <tr>\n",
       "      <td>2</td>\n",
       "      <td>5</td>\n",
       "      <td>1.0</td>\n",
       "      <td>2017-04-30</td>\n",
       "      <td>1.000000</td>\n",
       "      <td>2016-10-25</td>\n",
       "      <td>2017-09-14</td>\n",
       "      <td>10</td>\n",
       "      <td>1</td>\n",
       "      <td>3</td>\n",
       "      <td>145.0</td>\n",
       "      <td>A</td>\n",
       "      <td>[tv, cable tv, wireless internet, air conditio...</td>\n",
       "      <td>19</td>\n",
       "      <td>1000</td>\n",
       "      <td>False</td>\n",
       "      <td>A</td>\n",
       "      <td>505</td>\n",
       "      <td>0</td>\n",
       "      <td>0</td>\n",
       "      <td>0</td>\n",
       "      <td>1</td>\n",
       "      <td>0</td>\n",
       "      <td>1</td>\n",
       "      <td>0</td>\n",
       "      <td>0</td>\n",
       "      <td>0</td>\n",
       "      <td>0</td>\n",
       "      <td>0</td>\n",
       "      <td>0</td>\n",
       "      <td>1</td>\n",
       "      <td>0</td>\n",
       "      <td>0</td>\n",
       "    </tr>\n",
       "    <tr>\n",
       "      <td>3</td>\n",
       "      <td>2</td>\n",
       "      <td>1.0</td>\n",
       "      <td>2015-05-12</td>\n",
       "      <td>1.000000</td>\n",
       "      <td>2015-03-01</td>\n",
       "      <td>2017-01-22</td>\n",
       "      <td>4</td>\n",
       "      <td>0</td>\n",
       "      <td>1</td>\n",
       "      <td>115.0</td>\n",
       "      <td>F</td>\n",
       "      <td>[tv, internet, wireless internet, air conditio...</td>\n",
       "      <td>12</td>\n",
       "      <td>699</td>\n",
       "      <td>False</td>\n",
       "      <td>&lt;A</td>\n",
       "      <td>1109</td>\n",
       "      <td>0</td>\n",
       "      <td>1</td>\n",
       "      <td>0</td>\n",
       "      <td>0</td>\n",
       "      <td>0</td>\n",
       "      <td>1</td>\n",
       "      <td>0</td>\n",
       "      <td>0</td>\n",
       "      <td>0</td>\n",
       "      <td>0</td>\n",
       "      <td>0</td>\n",
       "      <td>0</td>\n",
       "      <td>1</td>\n",
       "      <td>0</td>\n",
       "      <td>0</td>\n",
       "    </tr>\n",
       "    <tr>\n",
       "      <td>4</td>\n",
       "      <td>2</td>\n",
       "      <td>1.0</td>\n",
       "      <td>2017-08-27</td>\n",
       "      <td>1.000000</td>\n",
       "      <td>2017-06-07</td>\n",
       "      <td>2017-09-05</td>\n",
       "      <td>3</td>\n",
       "      <td>1</td>\n",
       "      <td>1</td>\n",
       "      <td>85.0</td>\n",
       "      <td>A</td>\n",
       "      <td>[tv, wireless internet, heating, smoke detecto...</td>\n",
       "      <td>10</td>\n",
       "      <td>1000</td>\n",
       "      <td>False</td>\n",
       "      <td>A</td>\n",
       "      <td>280</td>\n",
       "      <td>0</td>\n",
       "      <td>0</td>\n",
       "      <td>0</td>\n",
       "      <td>0</td>\n",
       "      <td>1</td>\n",
       "      <td>0</td>\n",
       "      <td>1</td>\n",
       "      <td>0</td>\n",
       "      <td>0</td>\n",
       "      <td>0</td>\n",
       "      <td>0</td>\n",
       "      <td>0</td>\n",
       "      <td>1</td>\n",
       "      <td>1</td>\n",
       "      <td>0</td>\n",
       "    </tr>\n",
       "  </tbody>\n",
       "</table>\n",
       "</div>"
      ],
      "text/plain": [
       "   accommodates  bathrooms first_review  host_response_rate host_since  \\\n",
       "0             3        1.0   2016-06-18            0.924026 2012-03-26   \n",
       "1             7        1.0   2017-08-05            1.000000 2017-06-19   \n",
       "2             5        1.0   2017-04-30            1.000000 2016-10-25   \n",
       "3             2        1.0   2015-05-12            1.000000 2015-03-01   \n",
       "4             2        1.0   2017-08-27            1.000000 2017-06-07   \n",
       "\n",
       "  last_review  number_of_reviews  bedrooms  beds  price grade  \\\n",
       "0  2016-07-18                  2         1     1  150.0     A   \n",
       "1  2017-09-23                  6         3     3  169.0     A   \n",
       "2  2017-09-14                 10         1     3  145.0     A   \n",
       "3  2017-01-22                  4         0     1  115.0     F   \n",
       "4  2017-09-05                  3         1     1   85.0     A   \n",
       "\n",
       "                                       amenities_new  length_amenities  \\\n",
       "0  [wireless internet, air conditioning, kitchen,...                 9   \n",
       "1  [wireless internet, air conditioning, kitchen,...                15   \n",
       "2  [tv, cable tv, wireless internet, air conditio...                19   \n",
       "3  [tv, internet, wireless internet, air conditio...                12   \n",
       "4  [tv, wireless internet, heating, smoke detecto...                10   \n",
       "\n",
       "   description_length  superuser grade_grouped  host_since_days  city_Chicago  \\\n",
       "0                 211       True             A             2179             0   \n",
       "1                1000      False             A              268             0   \n",
       "2                1000      False             A              505             0   \n",
       "3                 699      False            <A             1109             0   \n",
       "4                1000      False             A              280             0   \n",
       "\n",
       "   city_DC  city_LA  city_NYC  city_SF  cancellation_policy_moderate  \\\n",
       "0        0        0         1        0                             0   \n",
       "1        0        0         1        0                             0   \n",
       "2        0        0         1        0                             1   \n",
       "3        1        0         0        0                             1   \n",
       "4        0        0         0        1                             0   \n",
       "\n",
       "   cancellation_policy_strict  cancellation_policy_super_strict_30  \\\n",
       "0                           1                                    0   \n",
       "1                           1                                    0   \n",
       "2                           0                                    0   \n",
       "3                           0                                    0   \n",
       "4                           1                                    0   \n",
       "\n",
       "   cancellation_policy_super_strict_60  bed_type_Couch  bed_type_Futon  \\\n",
       "0                                    0               0               0   \n",
       "1                                    0               0               0   \n",
       "2                                    0               0               0   \n",
       "3                                    0               0               0   \n",
       "4                                    0               0               0   \n",
       "\n",
       "   bed_type_Pull-out Sofa  bed_type_Real Bed  room_type_Private room  \\\n",
       "0                       0                  1                       0   \n",
       "1                       0                  1                       0   \n",
       "2                       0                  1                       0   \n",
       "3                       0                  1                       0   \n",
       "4                       0                  1                       1   \n",
       "\n",
       "   room_type_Shared room  \n",
       "0                      0  \n",
       "1                      0  \n",
       "2                      0  \n",
       "3                      0  \n",
       "4                      0  "
      ]
     },
     "execution_count": 66,
     "metadata": {},
     "output_type": "execute_result"
    }
   ],
   "source": [
    "#delete categorical variables\n",
    "for x in categorical_vars:\n",
    "    if x in df_logistic_dummy:\n",
    "        del df_logistic_dummy[x]\n",
    "\n",
    "df_logistic_dummy.head()"
   ]
  },
  {
   "cell_type": "code",
   "execution_count": 67,
   "metadata": {},
   "outputs": [
    {
     "name": "stdout",
     "output_type": "stream",
     "text": [
      "<class 'pandas.core.frame.DataFrame'>\n",
      "Int64Index: 57388 entries, 0 to 57388\n",
      "Data columns (total 31 columns):\n",
      "room_type                 57388 non-null category\n",
      "accommodates              57388 non-null int64\n",
      "bathrooms                 57388 non-null float64\n",
      "bed_type                  57388 non-null category\n",
      "cancellation_policy       57388 non-null category\n",
      "cleaning_fee              57388 non-null bool\n",
      "city                      57388 non-null category\n",
      "first_review              57388 non-null datetime64[ns]\n",
      "host_has_profile_pic      57388 non-null bool\n",
      "host_identity_verified    57388 non-null bool\n",
      "host_response_rate        57388 non-null float64\n",
      "host_since                57388 non-null datetime64[ns]\n",
      "instant_bookable          57388 non-null bool\n",
      "last_review               57388 non-null datetime64[ns]\n",
      "number_of_reviews         57388 non-null int64\n",
      "bedrooms                  57388 non-null int64\n",
      "beds                      57388 non-null int64\n",
      "price                     57388 non-null float64\n",
      "grade                     57388 non-null category\n",
      "amenities_new             57388 non-null object\n",
      "length_amenities          57388 non-null int64\n",
      "internet                  57388 non-null bool\n",
      "TV                        57388 non-null bool\n",
      "air_conditioning          57388 non-null bool\n",
      "kitchen                   57388 non-null bool\n",
      "pool                      57388 non-null bool\n",
      "parking                   57388 non-null bool\n",
      "description_length        57388 non-null int64\n",
      "superuser                 57388 non-null bool\n",
      "grade_grouped             57388 non-null object\n",
      "host_since_days           57388 non-null int64\n",
      "dtypes: bool(11), category(5), datetime64[ns](3), float64(3), int64(7), object(2)\n",
      "memory usage: 10.4+ MB\n"
     ]
    }
   ],
   "source": [
    "df_logistic.info()"
   ]
  },
  {
   "cell_type": "code",
   "execution_count": 68,
   "metadata": {},
   "outputs": [],
   "source": [
    "#delete amenities_new because used to create other variables\n",
    "del df_logistic_dummy['amenities_new']\n",
    "\n",
    "#delete host_since because used to create host_since_days\n",
    "del df_logistic_dummy['host_since']\n",
    "\n",
    "#delete grade and superuser because redundant with grouped_grade\n",
    "del df_logistic_dummy['grade']\n",
    "del df_logistic_dummy['superuser']"
   ]
  },
  {
   "cell_type": "code",
   "execution_count": 69,
   "metadata": {},
   "outputs": [
    {
     "data": {
      "text/html": [
       "<div>\n",
       "<style scoped>\n",
       "    .dataframe tbody tr th:only-of-type {\n",
       "        vertical-align: middle;\n",
       "    }\n",
       "\n",
       "    .dataframe tbody tr th {\n",
       "        vertical-align: top;\n",
       "    }\n",
       "\n",
       "    .dataframe thead th {\n",
       "        text-align: right;\n",
       "    }\n",
       "</style>\n",
       "<table border=\"1\" class=\"dataframe\">\n",
       "  <thead>\n",
       "    <tr style=\"text-align: right;\">\n",
       "      <th></th>\n",
       "      <th>accommodates</th>\n",
       "      <th>bathrooms</th>\n",
       "      <th>host_response_rate</th>\n",
       "      <th>number_of_reviews</th>\n",
       "      <th>bedrooms</th>\n",
       "      <th>beds</th>\n",
       "      <th>price</th>\n",
       "      <th>length_amenities</th>\n",
       "      <th>description_length</th>\n",
       "      <th>grade_grouped</th>\n",
       "      <th>host_since_days</th>\n",
       "      <th>city_Chicago</th>\n",
       "      <th>city_DC</th>\n",
       "      <th>city_LA</th>\n",
       "      <th>city_NYC</th>\n",
       "      <th>city_SF</th>\n",
       "      <th>cancellation_policy_moderate</th>\n",
       "      <th>cancellation_policy_strict</th>\n",
       "      <th>cancellation_policy_super_strict_30</th>\n",
       "      <th>cancellation_policy_super_strict_60</th>\n",
       "      <th>bed_type_Couch</th>\n",
       "      <th>bed_type_Futon</th>\n",
       "      <th>bed_type_Pull-out Sofa</th>\n",
       "      <th>bed_type_Real Bed</th>\n",
       "      <th>room_type_Private room</th>\n",
       "      <th>room_type_Shared room</th>\n",
       "    </tr>\n",
       "  </thead>\n",
       "  <tbody>\n",
       "    <tr>\n",
       "      <td>0</td>\n",
       "      <td>3</td>\n",
       "      <td>1.0</td>\n",
       "      <td>0.924026</td>\n",
       "      <td>2</td>\n",
       "      <td>1</td>\n",
       "      <td>1</td>\n",
       "      <td>150.0</td>\n",
       "      <td>9</td>\n",
       "      <td>211</td>\n",
       "      <td>A</td>\n",
       "      <td>2179</td>\n",
       "      <td>0</td>\n",
       "      <td>0</td>\n",
       "      <td>0</td>\n",
       "      <td>1</td>\n",
       "      <td>0</td>\n",
       "      <td>0</td>\n",
       "      <td>1</td>\n",
       "      <td>0</td>\n",
       "      <td>0</td>\n",
       "      <td>0</td>\n",
       "      <td>0</td>\n",
       "      <td>0</td>\n",
       "      <td>1</td>\n",
       "      <td>0</td>\n",
       "      <td>0</td>\n",
       "    </tr>\n",
       "    <tr>\n",
       "      <td>1</td>\n",
       "      <td>7</td>\n",
       "      <td>1.0</td>\n",
       "      <td>1.000000</td>\n",
       "      <td>6</td>\n",
       "      <td>3</td>\n",
       "      <td>3</td>\n",
       "      <td>169.0</td>\n",
       "      <td>15</td>\n",
       "      <td>1000</td>\n",
       "      <td>A</td>\n",
       "      <td>268</td>\n",
       "      <td>0</td>\n",
       "      <td>0</td>\n",
       "      <td>0</td>\n",
       "      <td>1</td>\n",
       "      <td>0</td>\n",
       "      <td>0</td>\n",
       "      <td>1</td>\n",
       "      <td>0</td>\n",
       "      <td>0</td>\n",
       "      <td>0</td>\n",
       "      <td>0</td>\n",
       "      <td>0</td>\n",
       "      <td>1</td>\n",
       "      <td>0</td>\n",
       "      <td>0</td>\n",
       "    </tr>\n",
       "    <tr>\n",
       "      <td>2</td>\n",
       "      <td>5</td>\n",
       "      <td>1.0</td>\n",
       "      <td>1.000000</td>\n",
       "      <td>10</td>\n",
       "      <td>1</td>\n",
       "      <td>3</td>\n",
       "      <td>145.0</td>\n",
       "      <td>19</td>\n",
       "      <td>1000</td>\n",
       "      <td>A</td>\n",
       "      <td>505</td>\n",
       "      <td>0</td>\n",
       "      <td>0</td>\n",
       "      <td>0</td>\n",
       "      <td>1</td>\n",
       "      <td>0</td>\n",
       "      <td>1</td>\n",
       "      <td>0</td>\n",
       "      <td>0</td>\n",
       "      <td>0</td>\n",
       "      <td>0</td>\n",
       "      <td>0</td>\n",
       "      <td>0</td>\n",
       "      <td>1</td>\n",
       "      <td>0</td>\n",
       "      <td>0</td>\n",
       "    </tr>\n",
       "    <tr>\n",
       "      <td>3</td>\n",
       "      <td>2</td>\n",
       "      <td>1.0</td>\n",
       "      <td>1.000000</td>\n",
       "      <td>4</td>\n",
       "      <td>0</td>\n",
       "      <td>1</td>\n",
       "      <td>115.0</td>\n",
       "      <td>12</td>\n",
       "      <td>699</td>\n",
       "      <td>&lt;A</td>\n",
       "      <td>1109</td>\n",
       "      <td>0</td>\n",
       "      <td>1</td>\n",
       "      <td>0</td>\n",
       "      <td>0</td>\n",
       "      <td>0</td>\n",
       "      <td>1</td>\n",
       "      <td>0</td>\n",
       "      <td>0</td>\n",
       "      <td>0</td>\n",
       "      <td>0</td>\n",
       "      <td>0</td>\n",
       "      <td>0</td>\n",
       "      <td>1</td>\n",
       "      <td>0</td>\n",
       "      <td>0</td>\n",
       "    </tr>\n",
       "    <tr>\n",
       "      <td>4</td>\n",
       "      <td>2</td>\n",
       "      <td>1.0</td>\n",
       "      <td>1.000000</td>\n",
       "      <td>3</td>\n",
       "      <td>1</td>\n",
       "      <td>1</td>\n",
       "      <td>85.0</td>\n",
       "      <td>10</td>\n",
       "      <td>1000</td>\n",
       "      <td>A</td>\n",
       "      <td>280</td>\n",
       "      <td>0</td>\n",
       "      <td>0</td>\n",
       "      <td>0</td>\n",
       "      <td>0</td>\n",
       "      <td>1</td>\n",
       "      <td>0</td>\n",
       "      <td>1</td>\n",
       "      <td>0</td>\n",
       "      <td>0</td>\n",
       "      <td>0</td>\n",
       "      <td>0</td>\n",
       "      <td>0</td>\n",
       "      <td>1</td>\n",
       "      <td>1</td>\n",
       "      <td>0</td>\n",
       "    </tr>\n",
       "  </tbody>\n",
       "</table>\n",
       "</div>"
      ],
      "text/plain": [
       "   accommodates  bathrooms  host_response_rate  number_of_reviews  bedrooms  \\\n",
       "0             3        1.0            0.924026                  2         1   \n",
       "1             7        1.0            1.000000                  6         3   \n",
       "2             5        1.0            1.000000                 10         1   \n",
       "3             2        1.0            1.000000                  4         0   \n",
       "4             2        1.0            1.000000                  3         1   \n",
       "\n",
       "   beds  price  length_amenities  description_length grade_grouped  \\\n",
       "0     1  150.0                 9                 211             A   \n",
       "1     3  169.0                15                1000             A   \n",
       "2     3  145.0                19                1000             A   \n",
       "3     1  115.0                12                 699            <A   \n",
       "4     1   85.0                10                1000             A   \n",
       "\n",
       "   host_since_days  city_Chicago  city_DC  city_LA  city_NYC  city_SF  \\\n",
       "0             2179             0        0        0         1        0   \n",
       "1              268             0        0        0         1        0   \n",
       "2              505             0        0        0         1        0   \n",
       "3             1109             0        1        0         0        0   \n",
       "4              280             0        0        0         0        1   \n",
       "\n",
       "   cancellation_policy_moderate  cancellation_policy_strict  \\\n",
       "0                             0                           1   \n",
       "1                             0                           1   \n",
       "2                             1                           0   \n",
       "3                             1                           0   \n",
       "4                             0                           1   \n",
       "\n",
       "   cancellation_policy_super_strict_30  cancellation_policy_super_strict_60  \\\n",
       "0                                    0                                    0   \n",
       "1                                    0                                    0   \n",
       "2                                    0                                    0   \n",
       "3                                    0                                    0   \n",
       "4                                    0                                    0   \n",
       "\n",
       "   bed_type_Couch  bed_type_Futon  bed_type_Pull-out Sofa  bed_type_Real Bed  \\\n",
       "0               0               0                       0                  1   \n",
       "1               0               0                       0                  1   \n",
       "2               0               0                       0                  1   \n",
       "3               0               0                       0                  1   \n",
       "4               0               0                       0                  1   \n",
       "\n",
       "   room_type_Private room  room_type_Shared room  \n",
       "0                       0                      0  \n",
       "1                       0                      0  \n",
       "2                       0                      0  \n",
       "3                       0                      0  \n",
       "4                       1                      0  "
      ]
     },
     "execution_count": 69,
     "metadata": {},
     "output_type": "execute_result"
    }
   ],
   "source": [
    "#remove timestamps\n",
    "del df_logistic_dummy['first_review']\n",
    "del df_logistic_dummy['last_review']\n",
    "\n",
    "df_logistic_dummy.head()"
   ]
  },
  {
   "cell_type": "code",
   "execution_count": 70,
   "metadata": {},
   "outputs": [
    {
     "name": "stdout",
     "output_type": "stream",
     "text": [
      "0.8328570432843103\n",
      "col_0    <A      A\n",
      "row_0             \n",
      "<A       27     52\n",
      "A      2346  11922\n"
     ]
    }
   ],
   "source": [
    "X = df_logistic_dummy.drop(['grade_grouped'], axis=1).values\n",
    "y = df_logistic_dummy['grade_grouped'].values\n",
    "\n",
    "from sklearn.model_selection import StratifiedKFold\n",
    "from sklearn.preprocessing import StandardScaler\n",
    "from sklearn import metrics as mt\n",
    "from sklearn.model_selection import train_test_split\n",
    "\n",
    "# Scale data\n",
    "scl = StandardScaler()\n",
    "logistic_scaled = scl.fit_transform(X)\n",
    "\n",
    "#split the data, stratifying on grade\n",
    "X_train, X_test, y_train, y_test = train_test_split(logistic_scaled, y,\n",
    "                                                    stratify=y, \n",
    "                                                    test_size=0.25, random_state=0)\n",
    "\n",
    "\n",
    "#Ridge lasso regression\n",
    "from sklearn.linear_model import LogisticRegression\n",
    "clf = LogisticRegression(penalty='l2', C=1.0, class_weight=None, solver='liblinear' ) \n",
    "clf.fit(X_train, y_train)\n",
    "\n",
    "#accuracy\n",
    "print(clf.score(X_test, y_test))\n",
    "\n",
    "predictions = clf.predict(X_test)\n",
    "\n",
    "#columns is the actual value, while rows are the predicted category\n",
    "#there are alot of times where A was predicted but the actual value was B and lower \n",
    "print(pd.crosstab(predictions, y_test))"
   ]
  },
  {
   "cell_type": "markdown",
   "metadata": {},
   "source": [
    "Here we can see that out accuracy is high (83.3%), but it is overly inflated due to the class imbalance. The model is not good at predicting a property that will let lower than A. The model has a lot of false negatives, where it should have predicted <A, but instead predicted an A."
   ]
  },
  {
   "cell_type": "markdown",
   "metadata": {},
   "source": [
    "# Look at coefficients"
   ]
  },
  {
   "cell_type": "code",
   "execution_count": 74,
   "metadata": {},
   "outputs": [
    {
     "name": "stdout",
     "output_type": "stream",
     "text": [
      "Optimization terminated successfully.\n",
      "         Current function value: 0.424002\n",
      "         Iterations 6\n",
      "                           Logit Regression Results                           \n",
      "==============================================================================\n",
      "Dep. Variable:                      y   No. Observations:                45910\n",
      "Model:                          Logit   Df Residuals:                    45884\n",
      "Method:                           MLE   Df Model:                           25\n",
      "Date:                Sun, 27 Oct 2019   Pseudo R-squ.:                 0.05654\n",
      "Time:                        20:49:51   Log-Likelihood:                -19466.\n",
      "converged:                       True   LL-Null:                       -20633.\n",
      "Covariance Type:            nonrobust   LLR p-value:                     0.000\n",
      "=======================================================================================================\n",
      "                                          coef    std err          z      P>|z|      [0.025      0.975]\n",
      "-------------------------------------------------------------------------------------------------------\n",
      "const                                  -0.6825      0.203     -3.370      0.001      -1.079      -0.286\n",
      "accommodates                           -0.1638      0.012    -14.183      0.000      -0.186      -0.141\n",
      "bathrooms                              -0.0778      0.030     -2.619      0.009      -0.136      -0.020\n",
      "host_response_rate                      0.9176      0.091     10.127      0.000       0.740       1.095\n",
      "number_of_reviews                       0.0011      0.000      2.952      0.003       0.000       0.002\n",
      "bedrooms                                0.1112      0.024      4.552      0.000       0.063       0.159\n",
      "beds                                   -0.0519      0.018     -2.966      0.003      -0.086      -0.018\n",
      "price                                   0.0029      0.000     15.484      0.000       0.002       0.003\n",
      "length_amenities                        0.0589      0.002     25.398      0.000       0.054       0.063\n",
      "description_length                      0.0004   4.61e-05      9.046      0.000       0.000       0.001\n",
      "host_since_days                         0.0002   2.09e-05      9.674      0.000       0.000       0.000\n",
      "city_Chicago                            0.6119      0.084      7.288      0.000       0.447       0.776\n",
      "city_DC                                 0.4069      0.076      5.328      0.000       0.257       0.557\n",
      "city_LA                                 0.3647      0.061      5.935      0.000       0.244       0.485\n",
      "city_NYC                                0.1322      0.060      2.220      0.026       0.015       0.249\n",
      "city_SF                                 0.3495      0.076      4.628      0.000       0.202       0.498\n",
      "cancellation_policy_moderate            0.0938      0.039      2.429      0.015       0.018       0.169\n",
      "cancellation_policy_strict             -0.3483      0.034    -10.211      0.000      -0.415      -0.281\n",
      "cancellation_policy_super_strict_30    -1.9375      0.259     -7.492      0.000      -2.444      -1.431\n",
      "cancellation_policy_super_strict_60    -1.1253      0.917     -1.227      0.220      -2.923       0.672\n",
      "bed_type_Couch                          0.0648      0.292      0.222      0.824      -0.508       0.637\n",
      "bed_type_Futon                         -0.0621      0.209     -0.297      0.766      -0.472       0.347\n",
      "bed_type_Pull-out Sofa                  0.0079      0.222      0.035      0.972      -0.427       0.443\n",
      "bed_type_Real Bed                      -0.1209      0.166     -0.727      0.467      -0.447       0.205\n",
      "room_type_Private room                 -0.0385      0.033     -1.166      0.244      -0.103       0.026\n",
      "room_type_Shared room                  -0.3399      0.079     -4.295      0.000      -0.495      -0.185\n",
      "=======================================================================================================\n"
     ]
    }
   ],
   "source": [
    "# Look at coefficients\n",
    "\n",
    "import statsmodels.api as sm\n",
    "\n",
    "y_sm = pd.Series(y).map({'A':1, '<A':0})\n",
    "\n",
    "X_sm = pd.DataFrame(X, columns = df_logistic_dummy.drop(['grade_grouped'], axis=1).columns)\n",
    "X_sm = sm.add_constant(X_sm)\n",
    "\n",
    "X_sm_train, X_sm_test, y_sm_train, y_sm_test = train_test_split(X_sm, y_sm, train_size = 0.8, random_state=0)\n",
    "\n",
    "logit = sm.Logit(y_sm_train, X_sm_train)\n",
    "\n",
    "result = logit.fit()\n",
    "\n",
    "#bed type not significant\n",
    "print(result.summary())"
   ]
  },
  {
   "cell_type": "code",
   "execution_count": 76,
   "metadata": {},
   "outputs": [
    {
     "name": "stdout",
     "output_type": "stream",
     "text": [
      "Optimization terminated successfully.\n",
      "         Current function value: 0.423927\n",
      "         Iterations 6\n",
      "                           Logit Regression Results                           \n",
      "==============================================================================\n",
      "Dep. Variable:          grade_grouped   No. Observations:                57388\n",
      "Model:                          Logit   Df Residuals:                    57366\n",
      "Method:                           MLE   Df Model:                           21\n",
      "Date:                Sun, 27 Oct 2019   Pseudo R-squ.:                 0.05477\n",
      "Time:                        20:50:44   Log-Likelihood:                -24328.\n",
      "converged:                       True   LL-Null:                       -25738.\n",
      "Covariance Type:            nonrobust   LLR p-value:                     0.000\n",
      "=======================================================================================================\n",
      "                                          coef    std err          z      P>|z|      [0.025      0.975]\n",
      "-------------------------------------------------------------------------------------------------------\n",
      "const                                  -0.7600      0.105     -7.230      0.000      -0.966      -0.554\n",
      "accommodates                           -0.1524      0.010    -14.559      0.000      -0.173      -0.132\n",
      "bathrooms                              -0.0911      0.026     -3.463      0.001      -0.143      -0.040\n",
      "host_response_rate                      0.9296      0.081     11.464      0.000       0.771       1.089\n",
      "number_of_reviews                       0.0011      0.000      3.137      0.002       0.000       0.002\n",
      "bedrooms                                0.1083      0.022      4.955      0.000       0.065       0.151\n",
      "beds                                   -0.0665      0.016     -4.256      0.000      -0.097      -0.036\n",
      "price                                   0.0028      0.000     16.940      0.000       0.002       0.003\n",
      "length_amenities                        0.0584      0.002     28.193      0.000       0.054       0.062\n",
      "description_length                      0.0004   4.12e-05     10.714      0.000       0.000       0.001\n",
      "host_since_days                         0.0002   1.87e-05      9.086      0.000       0.000       0.000\n",
      "city_Chicago                            0.6179      0.075      8.239      0.000       0.471       0.765\n",
      "city_DC                                 0.4139      0.068      6.047      0.000       0.280       0.548\n",
      "city_LA                                 0.3739      0.055      6.806      0.000       0.266       0.482\n",
      "city_NYC                                0.1412      0.053      2.654      0.008       0.037       0.246\n",
      "city_SF                                 0.3560      0.067      5.291      0.000       0.224       0.488\n",
      "cancellation_policy_moderate            0.0786      0.035      2.269      0.023       0.011       0.146\n",
      "cancellation_policy_strict             -0.3527      0.031    -11.534      0.000      -0.413      -0.293\n",
      "cancellation_policy_super_strict_30    -1.9411      0.236     -8.232      0.000      -2.403      -1.479\n",
      "cancellation_policy_super_strict_60    -0.9825      0.877     -1.121      0.262      -2.701       0.736\n",
      "room_type_Private room                 -0.0291      0.030     -0.986      0.324      -0.087       0.029\n",
      "room_type_Shared room                  -0.3085      0.069     -4.479      0.000      -0.443      -0.173\n",
      "=======================================================================================================\n"
     ]
    }
   ],
   "source": [
    "y_sm = df_logistic_dummy['grade_grouped'].map({'A':1, '<A':0})\n",
    "X_sm = df_logistic_dummy.drop(['grade_grouped', 'bed_type_Couch', 'bed_type_Futon',\n",
    "                                                        'bed_type_Pull-out Sofa', 'bed_type_Real Bed'], axis=1)\n",
    "X_sm = sm.add_constant(X_sm)\n",
    "\n",
    "X_sm_train, X_sm_test, y_sm_train, y_sm_test = train_test_split(X_sm, y_sm, train_size = 0.8, random_state=0)\n",
    "\n",
    "logit = sm.Logit(y_sm, X_sm)\n",
    "result = logit.fit()\n",
    "print(result.summary())"
   ]
  },
  {
   "cell_type": "markdown",
   "metadata": {},
   "source": [
    "All the coefficients are now significant. However, the pseudo R squared is extremely low, meaning that this is not a very good model."
   ]
  },
  {
   "cell_type": "code",
   "execution_count": 77,
   "metadata": {},
   "outputs": [
    {
     "name": "stdout",
     "output_type": "stream",
     "text": [
      "const                                  0.467669\n",
      "accommodates                           0.858665\n",
      "bathrooms                              0.912909\n",
      "host_response_rate                     2.533500\n",
      "number_of_reviews                      1.001058\n",
      "bedrooms                               1.114343\n",
      "beds                                   0.935683\n",
      "price                                  1.002768\n",
      "length_amenities                       1.060102\n",
      "description_length                     1.000441\n",
      "host_since_days                        1.000170\n",
      "city_Chicago                           1.855096\n",
      "city_DC                                1.512701\n",
      "city_LA                                1.453395\n",
      "city_NYC                               1.151677\n",
      "city_SF                                1.427590\n",
      "cancellation_policy_moderate           1.081758\n",
      "cancellation_policy_strict             0.702804\n",
      "cancellation_policy_super_strict_30    0.143548\n",
      "cancellation_policy_super_strict_60    0.374382\n",
      "room_type_Private room                 0.971293\n",
      "room_type_Shared room                  0.734576\n",
      "dtype: float64\n"
     ]
    }
   ],
   "source": [
    "#log likelihoods\n",
    "print(np.exp(result.params))"
   ]
  },
  {
   "cell_type": "markdown",
   "metadata": {},
   "source": [
    "# Logistic Regression with SMOTE"
   ]
  },
  {
   "cell_type": "code",
   "execution_count": 79,
   "metadata": {},
   "outputs": [
    {
     "name": "stdout",
     "output_type": "stream",
     "text": [
      "0.6163657907576496\n"
     ]
    },
    {
     "data": {
      "text/html": [
       "<div>\n",
       "<style scoped>\n",
       "    .dataframe tbody tr th:only-of-type {\n",
       "        vertical-align: middle;\n",
       "    }\n",
       "\n",
       "    .dataframe tbody tr th {\n",
       "        vertical-align: top;\n",
       "    }\n",
       "\n",
       "    .dataframe thead th {\n",
       "        text-align: right;\n",
       "    }\n",
       "</style>\n",
       "<table border=\"1\" class=\"dataframe\">\n",
       "  <thead>\n",
       "    <tr style=\"text-align: right;\">\n",
       "      <th>col_0</th>\n",
       "      <th>&lt;A</th>\n",
       "      <th>A</th>\n",
       "    </tr>\n",
       "    <tr>\n",
       "      <th>row_0</th>\n",
       "      <th></th>\n",
       "      <th></th>\n",
       "    </tr>\n",
       "  </thead>\n",
       "  <tbody>\n",
       "    <tr>\n",
       "      <td>&lt;A</td>\n",
       "      <td>1491</td>\n",
       "      <td>4622</td>\n",
       "    </tr>\n",
       "    <tr>\n",
       "      <td>A</td>\n",
       "      <td>882</td>\n",
       "      <td>7352</td>\n",
       "    </tr>\n",
       "  </tbody>\n",
       "</table>\n",
       "</div>"
      ],
      "text/plain": [
       "col_0    <A     A\n",
       "row_0            \n",
       "<A     1491  4622\n",
       "A       882  7352"
      ]
     },
     "execution_count": 79,
     "metadata": {},
     "output_type": "execute_result"
    }
   ],
   "source": [
    "X = df_logistic_dummy.drop(['grade_grouped'], axis=1).values\n",
    "y = df_logistic_dummy['grade_grouped'].values\n",
    "\n",
    "#SMOTE: will oversample the smaller class\n",
    "from imblearn.over_sampling import SMOTE\n",
    "\n",
    "smt = SMOTE()\n",
    "X_train, y_train = smt.fit_sample(X_train, y_train)\n",
    "\n",
    "#equal counts now\n",
    "pd.Series(y_train).value_counts()\n",
    "\n",
    "clf = LogisticRegression(penalty='l2', C=1.0, class_weight=None, solver='liblinear' )\n",
    "lr_clf = LogisticRegression(penalty='l2', C=1.0, class_weight=None, solver='liblinear' )\n",
    "clf.fit(X_train, y_train)\n",
    "\n",
    "print(clf.score(X_test, y_test))\n",
    "\n",
    "predictions = clf.predict(X_test)\n",
    "\n",
    "#columns is the actual value, while rows are the predicted category\n",
    "#there are alot of times where we predicted a B, but it was actually an A\n",
    "pd.crosstab(predictions, y_test)"
   ]
  },
  {
   "cell_type": "markdown",
   "metadata": {},
   "source": [
    "With SMOTE, our overall accuracy decreased. However, we were better able to predict the below A class."
   ]
  },
  {
   "cell_type": "markdown",
   "metadata": {},
   "source": [
    "## Random Forest Task 1"
   ]
  },
  {
   "cell_type": "code",
   "execution_count": 64,
   "metadata": {},
   "outputs": [
    {
     "data": {
      "text/plain": [
       "StratifiedShuffleSplit(n_splits=3, random_state=0, test_size=0.2,\n",
       "            train_size=0.8)"
      ]
     },
     "execution_count": 64,
     "metadata": {},
     "output_type": "execute_result"
    }
   ],
   "source": [
    "from sklearn.ensemble import RandomForestClassifier\n",
    "from sklearn.model_selection import StratifiedShuffleSplit\n",
    "\n",
    "cv_strat_obj = StratifiedShuffleSplit(n_splits = 3, test_size = 0.2, train_size=0.8, random_state=0)\n",
    "X_rf = df_final.drop(['grade_grouped'], axis=1).values\n",
    "y_rf = df_final['grade_grouped'].values\n",
    "cv_strat_obj.split(X_rf, y_rf)\n",
    "cv_strat_obj"
   ]
  },
  {
   "cell_type": "code",
   "execution_count": 65,
   "metadata": {},
   "outputs": [],
   "source": [
    "rfc = RandomForestClassifier(n_estimators=100, max_depth=2,random_state=0)\n",
    "for train_index, test_index in cv_strat_obj.split(X_rf, y_rf):\n",
    "    X_trainrf, X_testrf = X_rf[train_index], X_rf[test_index]\n",
    "    y_trainrf, y_testrf = y_rf[train_index], y_rf[test_index]"
   ]
  },
  {
   "cell_type": "code",
   "execution_count": 66,
   "metadata": {},
   "outputs": [
    {
     "name": "stdout",
     "output_type": "stream",
     "text": [
      "[1.23133589e-01 9.36012797e-03 1.45407923e-03 1.03862193e-02\n",
      " 0.00000000e+00 1.92208474e-02 1.63135059e-01 1.08392510e-01\n",
      " 5.24478382e-02 1.25728834e-03 1.29083704e-02 2.03365927e-01\n",
      " 3.93355484e-02 5.89690109e-02 1.83634347e-03 1.71036042e-04\n",
      " 3.02387941e-03 6.88594045e-03 4.03822204e-04 3.97605338e-02\n",
      " 1.29948558e-03 0.00000000e+00 2.22716635e-03 5.08033287e-02\n",
      " 2.65804388e-03 5.36703678e-02 2.10485000e-02 1.37758506e-03\n",
      " 0.00000000e+00 1.20852178e-04 0.00000000e+00 0.00000000e+00\n",
      " 9.57405276e-04 0.00000000e+00 1.03892950e-02]\n"
     ]
    }
   ],
   "source": [
    "rfc.fit(X_trainrf, y_trainrf) \n",
    "print(rfc.feature_importances_)"
   ]
  },
  {
   "cell_type": "code",
   "execution_count": 67,
   "metadata": {},
   "outputs": [
    {
     "data": {
      "text/plain": [
       "array(['A', 'A', 'A', ..., 'A', 'A', 'A'], dtype=object)"
      ]
     },
     "execution_count": 67,
     "metadata": {},
     "output_type": "execute_result"
    }
   ],
   "source": [
    "rfc.predict(X_testrf)"
   ]
  },
  {
   "cell_type": "markdown",
   "metadata": {},
   "source": [
    "## Random Forest Task 2"
   ]
  },
  {
   "cell_type": "code",
   "execution_count": 68,
   "metadata": {},
   "outputs": [],
   "source": [
    "X_rf2 = df_superuser_subset.drop(['superuser','grade_grouped'], axis=1).values\n",
    "y_rf2 = df_superuser_subset['superuser'].values\n",
    "rfc2 = RandomForestClassifier(n_estimators=100, max_depth=2,random_state=0)\n",
    "cv_strat_obj.split(X_rf2, y_rf2)\n",
    "\n",
    "for train_index, test_index in cv_strat_obj.split(X_rf2, y_rf2):\n",
    "    X_trainrf2, X_testrf2 = X_rf2[train_index], X_rf2[test_index]\n",
    "    y_trainrf2, y_testrf2 = y_rf2[train_index], y_rf2[test_index]"
   ]
  },
  {
   "cell_type": "code",
   "execution_count": 69,
   "metadata": {},
   "outputs": [
    {
     "name": "stdout",
     "output_type": "stream",
     "text": [
      "[0.14841263 0.10615858 0.11092478 0.00874375 0.01023436 0.00295108\n",
      " 0.04847912 0.00326429 0.09201499 0.03641447 0.04211186 0.07982609\n",
      " 0.0088096  0.0009307  0.01736351 0.00134093 0.00448196 0.02229056\n",
      " 0.10322721 0.00462568 0.01188354 0.         0.01906244 0.01972843\n",
      " 0.01486755 0.00448454 0.00726635 0.00229371 0.02176232 0.00969008\n",
      " 0.00448594 0.00838277 0.0093121  0.01417409]\n"
     ]
    }
   ],
   "source": [
    "rfc2.fit(X_trainrf2, y_trainrf2) \n",
    "print(rfc2.feature_importances_)"
   ]
  },
  {
   "cell_type": "code",
   "execution_count": 70,
   "metadata": {},
   "outputs": [
    {
     "data": {
      "text/plain": [
       "array([False, False, False, ..., False, False, False])"
      ]
     },
     "execution_count": 70,
     "metadata": {},
     "output_type": "execute_result"
    }
   ],
   "source": [
    "rfc2.predict(X_testrf2)"
   ]
  },
  {
   "cell_type": "markdown",
   "metadata": {},
   "source": [
    "## K Nearest Neighbors\n",
    "\n",
    "The K nearest neighbors (KNN) algorithm uses some defined distance metric to compare an unknown record to known training data and produce a classification label. Therefore, any numeric (int or float) variables are usable. Boolean attributes translate cleanly and are easily usable as well. Conversely, certain categoric variables (such as room type or city) cannot have number assignments because they would incorrectly imply order. These should be omitted or modified into boolean attributes.\n",
    "\n",
    "Additionally, because distance is used to compare and classify data points, it's important that the attributes are on similar scales to prevent any attributes with bigger ranges from dominating. For example, the ranges for number_of_reviews and host_since_days far eclipses any boolean variables or a percentage like host_response_rate. This was taken care of in a prior processing step by scaling all numbers between 0 and 1."
   ]
  },
  {
   "cell_type": "code",
   "execution_count": 71,
   "metadata": {},
   "outputs": [],
   "source": [
    "from sklearn.neighbors import KNeighborsClassifier\n",
    "#from sklearn.preprocessing import MinMaxScaler\n",
    "from sklearn.metrics import precision_score\n",
    "from sklearn.model_selection import GridSearchCV\n",
    "from sklearn.metrics import classification_report"
   ]
  },
  {
   "cell_type": "markdown",
   "metadata": {},
   "source": [
    "### Task 1: KNN Grade Grouping"
   ]
  },
  {
   "cell_type": "code",
   "execution_count": 72,
   "metadata": {},
   "outputs": [
    {
     "name": "stdout",
     "output_type": "stream",
     "text": [
      "0.8471043895241608\n",
      "0.8441225013753897\n",
      "0.8456289192180008\n",
      "0.8454680534918276\n",
      "0.8440721649484536\n",
      "0.8474043968224645\n",
      "0.8449669360764144\n",
      "0.8422985129429044\n",
      "0.8475262093066029\n",
      "0.8483900643974241\n",
      "Wall time: 7min 27s\n"
     ]
    }
   ],
   "source": [
    "%%time\n",
    "for train, test in cv.split(X1,y1):\n",
    "    clf = KNeighborsClassifier(n_neighbors=5, weights='uniform', \n",
    "                               metric='euclidean')\n",
    "    clf.fit(X1[train],y1[train])\n",
    "    yhat1[test] = clf.predict(X1[test])\n",
    "    print(precision_score(y1[test], yhat1[test]))"
   ]
  },
  {
   "cell_type": "code",
   "execution_count": 78,
   "metadata": {},
   "outputs": [
    {
     "name": "stdout",
     "output_type": "stream",
     "text": [
      "Wall time: 0 ns\n"
     ]
    }
   ],
   "source": [
    "%%time\n",
    "\n",
    "# Attempt at GridSearch\n",
    "# Code adapted from https://scikit-learn.org/stable/auto_examples/model_selection/plot_grid_search_digits.html\n",
    "\n",
    "knn = KNeighborsClassifier()\n",
    "parameters = {\n",
    "    'n_neighbors': [1,3,5,7,9],\n",
    "    'weights': ['uniform', 'distance'],\n",
    "    'algorithm': ['auto', 'ball_tree', 'kd_tree', 'brute']\n",
    "}\n",
    "\n",
    "# cv argument should perform stratified kfold\n",
    "grid_knn = GridSearchCV(knn, param_grid = parameters, scoring = 'precision',\n",
    "                       cv = 10, refit = 'precision')\n",
    "grid_knn.fit(X1, y1)\n",
    "\n",
    "print(\"Best parameter set found for traininge data:\")\n",
    "print(grid_knn.best_params_)"
   ]
  },
  {
   "cell_type": "code",
   "execution_count": 74,
   "metadata": {},
   "outputs": [
    {
     "ename": "AttributeError",
     "evalue": "'GridSearchCV' object has no attribute 'best_index_'",
     "output_type": "error",
     "traceback": [
      "\u001b[1;31m---------------------------------------------------------------------------\u001b[0m",
      "\u001b[1;31mAttributeError\u001b[0m                            Traceback (most recent call last)",
      "\u001b[1;32m<ipython-input-74-34b455d7db4e>\u001b[0m in \u001b[0;36m<module>\u001b[1;34m\u001b[0m\n\u001b[1;32m----> 1\u001b[1;33m \u001b[0mgrid_knn\u001b[0m\u001b[1;33m.\u001b[0m\u001b[0mbest_index_\u001b[0m\u001b[1;33m\u001b[0m\u001b[1;33m\u001b[0m\u001b[0m\n\u001b[0m",
      "\u001b[1;31mAttributeError\u001b[0m: 'GridSearchCV' object has no attribute 'best_index_'"
     ]
    }
   ],
   "source": [
    "grid_knn.best_index_"
   ]
  },
  {
   "cell_type": "code",
   "execution_count": null,
   "metadata": {},
   "outputs": [],
   "source": [
    "grid_knn.cv_results_"
   ]
  },
  {
   "cell_type": "markdown",
   "metadata": {},
   "source": [
    "### Task 2: KNN Superhost"
   ]
  },
  {
   "cell_type": "code",
   "execution_count": 79,
   "metadata": {},
   "outputs": [
    {
     "name": "stdout",
     "output_type": "stream",
     "text": [
      "Wall time: 0 ns\n"
     ]
    }
   ],
   "source": [
    "%%time\n",
    "\n",
    "knn = KNeighborsClassifier()\n",
    "parameters_knn_super = {\n",
    "    'n_neighbors': [1,3,5,7,9],\n",
    "    'weights': ['uniform', 'distance'],\n",
    "    'algorithm': ['auto', 'ball_tree', 'kd_tree', 'brute'],\n",
    "}\n",
    "\n",
    "# cv argument should perform stratified kfold\n",
    "grid_knn_super = GridSearchCV(knn, param_grid = parameters_knn_super, scoring = 'precision',\n",
    "                      cv = 10, refit = 'precision')\n",
    "grid_knn_super.fit(X2, y2)\n",
    "\n",
    "print(\"Best parameter set found for training data:\")\n",
    "print(grid_knn_super.best_params_)"
   ]
  },
  {
   "cell_type": "code",
   "execution_count": null,
   "metadata": {},
   "outputs": [],
   "source": [
    "grid_knn_super.best_index_"
   ]
  },
  {
   "cell_type": "code",
   "execution_count": null,
   "metadata": {
    "scrolled": true
   },
   "outputs": [],
   "source": [
    "grid_knn_super.cv_results_"
   ]
  },
  {
   "cell_type": "markdown",
   "metadata": {},
   "source": [
    "***"
   ]
  },
  {
   "cell_type": "markdown",
   "metadata": {},
   "source": [
    "# Modeling and Evaluation 4\n",
    "\n",
    "<i><b>10 pts.</b> Analyze the results using your chosen method of evaluation. Use visualizations of the results to bolster the analysis. Explain any visuals and analyze why they are interesting to someone that might use this model.</i>"
   ]
  },
  {
   "cell_type": "markdown",
   "metadata": {},
   "source": [
    "# Random Forest Evaluation"
   ]
  },
  {
   "cell_type": "markdown",
   "metadata": {},
   "source": [
    "Let's first check the accuracy of our random forest model for task one - this random forest permutates a number of decisions that could lead to a host receiving an A grade. "
   ]
  },
  {
   "cell_type": "code",
   "execution_count": 80,
   "metadata": {},
   "outputs": [
    {
     "data": {
      "text/plain": [
       "0.8346401812162397"
      ]
     },
     "execution_count": 80,
     "metadata": {},
     "output_type": "execute_result"
    }
   ],
   "source": [
    "rfc.score(X_testrf, y_testrf)"
   ]
  },
  {
   "cell_type": "markdown",
   "metadata": {},
   "source": [
    "This model generates an accuracy of 83.464%; however, this is not the only important metric from this model. Since this is an imbalanced classification, we should examine metrics that are insenstive to such imbalances. An ROC curve and AUC will suffice to demonstract if the accuracy belies an undesirable false positive rate, which would indicate poor precision."
   ]
  },
  {
   "cell_type": "code",
   "execution_count": 81,
   "metadata": {
    "scrolled": true
   },
   "outputs": [
    {
     "data": {
      "image/png": "[encoded data removed]",
      "text/plain": [
       "<Figure size 432x288 with 1 Axes>"
      ]
     },
     "metadata": {
      "needs_background": "light"
     },
     "output_type": "display_data"
    }
   ],
   "source": [
    "from sklearn.metrics import roc_curve, auc\n",
    "\n",
    "\n",
    "y_preds_proba = rfc.predict_proba(X=X_testrf)\n",
    "fpr, tpr, thresholds = roc_curve(y_testrf, y_preds_proba[:,1], pos_label='A')\n",
    "xx = np.arange(101) / float(100)\n",
    "rfc_auc = auc(fpr,tpr)\n",
    "\n",
    "plt.xlim(0, 1.0)\n",
    "plt.ylim(0, 1.25)\n",
    "plt.plot([0.0, 0.0], [0.0, 1.0], color='green', linewidth=8)\n",
    "plt.plot([0.0, 1.0], [1.0, 1.0], color='green', label='Perfect Model', linewidth=4)\n",
    "plt.plot(xx,xx, color='blue', label='Random Model')\n",
    "plt.plot(fpr,tpr, color='red', label='User Model')\n",
    "plt.title(\"ROC Curve - AUC value =\"+str(rfc_auc))\n",
    "plt.xlabel('% false positives')\n",
    "plt.ylabel('% true positives')\n",
    "plt.legend()\n",
    "plt.show()"
   ]
  },
  {
   "cell_type": "markdown",
   "metadata": {},
   "source": [
    "With an AUC of 0.6646, it appears our model has some capacity for class separation but not an extraordinary amount. In particular, higher accuracy generates higher false positive values, something to keep in mind if this model is taken to production. Finally, let's plot our feature importances."
   ]
  },
  {
   "cell_type": "code",
   "execution_count": 82,
   "metadata": {},
   "outputs": [
    {
     "data": {
      "text/plain": [
       "0.5753653444676409"
      ]
     },
     "execution_count": 82,
     "metadata": {},
     "output_type": "execute_result"
    }
   ],
   "source": [
    "rfc2.score(X_testrf2, y_testrf2)"
   ]
  },
  {
   "cell_type": "markdown",
   "metadata": {},
   "source": [
    "Much less accurate model at 57.537% accuracy. Again, this is not the complete picture - the ROC curve and AUC score will indicate if there is a precision tradeoff."
   ]
  },
  {
   "cell_type": "code",
   "execution_count": 83,
   "metadata": {},
   "outputs": [
    {
     "data": {
      "image/png": "[encoded data removed]",
      "text/plain": [
       "<Figure size 432x288 with 1 Axes>"
      ]
     },
     "metadata": {
      "needs_background": "light"
     },
     "output_type": "display_data"
    }
   ],
   "source": [
    "y_preds_proba2 = rfc2.predict_proba(X=X_testrf2)\n",
    "fpr2, tpr2, thresholds = roc_curve(y_testrf2, y_preds_proba2[:,1], pos_label=True)\n",
    "xx = np.arange(101) / float(100)\n",
    "rfc_auc2 = auc(fpr2,tpr2)\n",
    "\n",
    "plt.xlim(0, 1.0)\n",
    "plt.ylim(0, 1.25)\n",
    "plt.plot([0.0, 0.0], [0.0, 1.0], color='green', linewidth=8)\n",
    "plt.plot([0.0, 1.0], [1.0, 1.0], color='green', label='Perfect Model', linewidth=4)\n",
    "plt.plot(xx,xx, color='blue', label='Random Model')\n",
    "plt.plot(fpr2,tpr2, color='red', label='User Model')\n",
    "plt.title(\"ROC Curve - AUC value =\"+str(rfc_auc2))\n",
    "plt.xlabel('% false positives')\n",
    "plt.ylabel('% true positives')\n",
    "plt.legend()\n",
    "plt.show()"
   ]
  },
  {
   "cell_type": "markdown",
   "metadata": {},
   "source": [
    "With an AUC score very close to .5, this model has almost no capacity to distinguish positive classes. In other words, this random forest method behaves similar to a random state, and generates nearly as many false positives as true positives. Some insights into feature importance could indicate the reason for this. "
   ]
  },
  {
   "cell_type": "markdown",
   "metadata": {},
   "source": [
    "## KNN"
   ]
  },
  {
   "cell_type": "code",
   "execution_count": 84,
   "metadata": {
    "scrolled": true
   },
   "outputs": [
    {
     "ename": "AttributeError",
     "evalue": "'GridSearchCV' object has no attribute 'cv_results_'",
     "output_type": "error",
     "traceback": [
      "\u001b[1;31m---------------------------------------------------------------------------\u001b[0m",
      "\u001b[1;31mAttributeError\u001b[0m                            Traceback (most recent call last)",
      "\u001b[1;32m<ipython-input-84-ddbda72aab1e>\u001b[0m in \u001b[0;36m<module>\u001b[1;34m\u001b[0m\n\u001b[0;32m      1\u001b[0m \u001b[1;31m# Task 1: Grade grouping\u001b[0m\u001b[1;33m\u001b[0m\u001b[1;33m\u001b[0m\u001b[1;33m\u001b[0m\u001b[0m\n\u001b[1;32m----> 2\u001b[1;33m knn_scores_list = list(zip(grid_knn.cv_results_['params'], grid_knn.cv_results_['mean_test_score'],\n\u001b[0m\u001b[0;32m      3\u001b[0m                           grid_knn.cv_results_['std_test_score'], grid_knn.cv_results_['rank_test_score'])) \n\u001b[0;32m      4\u001b[0m \u001b[1;33m\u001b[0m\u001b[0m\n\u001b[0;32m      5\u001b[0m knn_scores_pd = pd.DataFrame(knn_scores_list, columns = ['Parameter Set', 'Mean Test Score',\n",
      "\u001b[1;31mAttributeError\u001b[0m: 'GridSearchCV' object has no attribute 'cv_results_'"
     ]
    }
   ],
   "source": [
    "# Task 1: Grade grouping\n",
    "knn_scores_list = list(zip(grid_knn.cv_results_['params'], grid_knn.cv_results_['mean_test_score'],\n",
    "                          grid_knn.cv_results_['std_test_score'], grid_knn.cv_results_['rank_test_score'])) \n",
    "\n",
    "knn_scores_pd = pd.DataFrame(knn_scores_list, columns = ['Parameter Set', 'Mean Test Score',\n",
    "                                                        'STD Test Score', 'Rank'])\n",
    "knn_scores_pd.sort_values(by=['Rank']).head(10)"
   ]
  },
  {
   "cell_type": "code",
   "execution_count": 85,
   "metadata": {},
   "outputs": [
    {
     "ename": "NameError",
     "evalue": "name 'grid_knn_super' is not defined",
     "output_type": "error",
     "traceback": [
      "\u001b[1;31m---------------------------------------------------------------------------\u001b[0m",
      "\u001b[1;31mNameError\u001b[0m                                 Traceback (most recent call last)",
      "\u001b[1;32m<ipython-input-85-c50e77ebd0e4>\u001b[0m in \u001b[0;36m<module>\u001b[1;34m\u001b[0m\n\u001b[0;32m      1\u001b[0m \u001b[1;31m# Task 2: Superhost\u001b[0m\u001b[1;33m\u001b[0m\u001b[1;33m\u001b[0m\u001b[1;33m\u001b[0m\u001b[0m\n\u001b[1;32m----> 2\u001b[1;33m knn_scores_super_list = list(zip(grid_knn_super.cv_results_['params'], grid_knn_super.cv_results_['mean_test_score'],\n\u001b[0m\u001b[0;32m      3\u001b[0m                           grid_knn_super.cv_results_['std_test_score'], grid_knn_super.cv_results_['rank_test_score'])) \n\u001b[0;32m      4\u001b[0m \u001b[1;33m\u001b[0m\u001b[0m\n\u001b[0;32m      5\u001b[0m knn_scores_super_pd = pd.DataFrame(knn_scores_super_list, columns = ['Parameter Set', 'Mean Test Score',\n",
      "\u001b[1;31mNameError\u001b[0m: name 'grid_knn_super' is not defined"
     ]
    }
   ],
   "source": [
    "# Task 2: Superhost\n",
    "knn_scores_super_list = list(zip(grid_knn_super.cv_results_['params'], grid_knn_super.cv_results_['mean_test_score'],\n",
    "                          grid_knn_super.cv_results_['std_test_score'], grid_knn_super.cv_results_['rank_test_score'])) \n",
    "\n",
    "knn_scores_super_pd = pd.DataFrame(knn_scores_super_list, columns = ['Parameter Set', 'Mean Test Score',\n",
    "                                                        'STD Test Score', 'Rank'])\n",
    "knn_scores_super_pd.sort_values(by=['Rank']).head(10)"
   ]
  },
  {
   "cell_type": "code",
   "execution_count": null,
   "metadata": {},
   "outputs": [],
   "source": [
    "plt.bar(range(len(grid_knn.cv_results_['params'])), grid_knn.cv_results_['mean_test_score'])\n",
    "plt.title('KNN Task 1: 10-Fold CV Scores')\n",
    "plt.xlabel('Parameter Set Index')\n",
    "plt.ylabel('Mean Precision')\n",
    "plt.show()"
   ]
  },
  {
   "cell_type": "code",
   "execution_count": null,
   "metadata": {},
   "outputs": [],
   "source": [
    "plt.bar(range(len(grid_knn_super.cv_results_['params'])), grid_knn_super.cv_results_['mean_test_score'])\n",
    "plt.title('KNN Task 2: 10-Fold CV Scores')\n",
    "plt.xlabel('Parameter Set Index')\n",
    "plt.ylabel('Mean Precision')\n",
    "plt.show()"
   ]
  },
  {
   "cell_type": "markdown",
   "metadata": {},
   "source": [
    "GridSearch for KNN resulted in a best mean precision of 0.85318 for Task 1 and 0.431041 for Task 2. Despite the graphs above having similar shapes, the y-axis ranges reveal that KNN performed rather poorly on Task 2 for some reason. It's notable that the bar heights within each chart are relatively similar. Tuning the parameters within each model by changing things such as the algorithm or value of K resulted in very minor increases of predictive power on the test folds. \n",
    "\n",
    "In lieu of a scree plot on K alone, the top rows in the GridSearch tables tell the story that, even with other parameters in the sets changing, certain values of K seemed to be most optimal for each task. In particular, all eight sets using K=1 swept the highest mean precision scores for Task 1, meaning that those models only considered the closest neighbor to make a classification decision. Meanwhile, Task 2 had its highest mean precision scores with K=3."
   ]
  },
  {
   "cell_type": "markdown",
   "metadata": {},
   "source": [
    "***"
   ]
  },
  {
   "cell_type": "markdown",
   "metadata": {},
   "source": [
    "# Modeling and Evaluation 5\n",
    "\n",
    "<i><b>10 pts.</b> Discuss the advantages of each model for each classification task, if any. If there are not advantages, explain why. Is any model better than another? Is the difference significant with 95% confidence? Use proper statistical comparison methods. You must use statistical comparison techniques—be sure they are appropriate for your chosen method of validation as discussed in unit 7 of the course.</i>"
   ]
  },
  {
   "cell_type": "markdown",
   "metadata": {},
   "source": [
    "Most advantages and disadvantages of the random forest model are the same as found in this method in general - it could easily be re-trained on any sample. If we were to localize the sample to a different city or type of listing this model would translate well; however, the accuracy and precision would be about the same regardless of the data. As we saw, the precision was not great, especially on task 2 (close to random state with AUC of ~.5). So while this method would be computationally efficient and easy to scale, it would also generate very imprecise responses, especially where superhosts are concerned."
   ]
  },
  {
   "cell_type": "code",
   "execution_count": null,
   "metadata": {},
   "outputs": [],
   "source": [
    "#focus on precision with f measure, p test, check 7.17 module"
   ]
  },
  {
   "cell_type": "markdown",
   "metadata": {},
   "source": [
    "<font color='red'>Logistic Regression has the advantage of giving coefficients, which can be interpretted as log odds and also give probabilities for a certain combination of variables. However, even though all our coefficients were significant in the logistic regression model, our overall model did a terrible job of predicting the below A class due to the class imbalance. </font>\n",
    "\n",
    "For KNN, predictive performance for the grade classification task was approximately on par with logistic regression; the best mean precision on a 10-fold cross-validation given the grid of available parameters was 0.85317. However, performance on the superhost classification task was distinctly worse, with the best mean precision being only 0.43104."
   ]
  },
  {
   "cell_type": "code",
   "execution_count": 90,
   "metadata": {},
   "outputs": [
    {
     "name": "stdout",
     "output_type": "stream",
     "text": [
      "Mean accuracy of Random Forest for task 1 is  0.8346024541652115\n",
      "Mean accuracy of Logistic Regression for task 1 is  0.8338880136253032\n",
      "Mean accuracy of KNN for task 1 is  0.819442830275047\n"
     ]
    },
    {
     "data": {
      "image/png": "[encoded data removed]",
      "text/plain": [
       "<Figure size 432x288 with 1 Axes>"
      ]
     },
     "metadata": {
      "needs_background": "light"
     },
     "output_type": "display_data"
    }
   ],
   "source": [
    "#task 1\n",
    "from sklearn.model_selection import cross_val_score\n",
    "from sklearn.metrics import confusion_matrix\n",
    "\n",
    "cv=StratifiedKFold(n_splits=10)\n",
    "models_and_accuracy = []\n",
    "acc1 = cross_val_score(rfc, X1, y=y1, cv=cv)\n",
    "acc2 = cross_val_score(lr_clf, X1, y=y1, cv=cv)\n",
    "acc3 = cross_val_score(clf, X1, y=y1, cv=cv)\n",
    "\n",
    "#=================================\n",
    "\n",
    "print ('Mean accuracy of Random Forest for task 1 is ',np.mean(acc1))\n",
    "print ('Mean accuracy of Logistic Regression for task 1 is ',np.mean(acc2))\n",
    "print ('Mean accuracy of KNN for task 1 is ',np.mean(acc3))\n",
    "\n",
    "#===============================\n",
    "cm = confusion_matrix(y1, yhat1)\n",
    "cm_normalized = cm.astype('float') / cm.sum(axis=1)[:, np.newaxis]\n",
    "plt.imshow(cm_normalized,cmap=plt.get_cmap('Reds'),aspect='auto')\n",
    "plt.grid(False)"
   ]
  },
  {
   "cell_type": "code",
   "execution_count": 91,
   "metadata": {},
   "outputs": [
    {
     "name": "stdout",
     "output_type": "stream",
     "text": [
      "CI for Random Forest/Logistic Regression Comparison, Task 1: -0.0008739483631222995 0.0007069599089596686\n",
      "CI for Logistic Regression/KNN Comparison, Task 1: -0.0027891838595965612 0.0026221954054339303\n",
      "CI for Random Forest/KNN Comparison, Task 1: -0.002583418696721687 0.002416430242559056\n"
     ]
    }
   ],
   "source": [
    "#Confidence intervals for task 1\n",
    "\n",
    "t = 2.26 / np.sqrt(10)\n",
    "\n",
    "e1 = (1-acc1)-(1-acc2)\n",
    "e2 = (1-acc2)-(1-acc3)\n",
    "e3 = (1-acc1)-(1-acc3)\n",
    "\n",
    "stdtot1 = np.std(e1)\n",
    "stdtot2 = np.std(e2)\n",
    "stdtot3 = np.std(e3)\n",
    "\n",
    "dbar = np.mean(e)\n",
    "print ('CI for Random Forest/Logistic Regression Comparison, Task 1:', dbar-t*stdtot1,dbar+t*stdtot1 )\n",
    "print ('CI for Logistic Regression/KNN Comparison, Task 1:', dbar-t*stdtot2,dbar+t*stdtot2 )\n",
    "print ('CI for Random Forest/KNN Comparison, Task 1:', dbar-t*stdtot3,dbar+t*stdtot3)"
   ]
  },
  {
   "cell_type": "markdown",
   "metadata": {},
   "source": [
    "As we had mentioned before, we are using 10 fold stratified cross validation on these models to account for the imbalanced classifications. With accuracies between 81 and 83% for each model, it would appear that each of these models performs similarly across each fold. Confidence intervals confirm this, which each comparison being very narrow and containing 0."
   ]
  },
  {
   "cell_type": "code",
   "execution_count": 92,
   "metadata": {},
   "outputs": [
    {
     "name": "stdout",
     "output_type": "stream",
     "text": [
      "Mean accuracy of Random Forest for task 2 is  0.5753596256853133\n",
      "Mean accuracy of Logistic Regression for task 2 is  0.575276131458232\n",
      "Mean accuracy of KNN for task 2 is  0.5252313781238965\n"
     ]
    },
    {
     "data": {
      "image/png": "[encoded data removed]",
      "text/plain": [
       "<Figure size 432x288 with 1 Axes>"
      ]
     },
     "metadata": {
      "needs_background": "light"
     },
     "output_type": "display_data"
    }
   ],
   "source": [
    "#confidence intervals for task 2\n",
    "cv=StratifiedKFold(n_splits=10)\n",
    "acc1 = cross_val_score(rfc2, X2, y=y2, cv=cv)\n",
    "acc2 = cross_val_score(lr_clf, X2, y=y2, cv=cv)\n",
    "acc3 = cross_val_score(knn, X2, y=y2, cv=cv)\n",
    "\n",
    "#=================================\n",
    "\n",
    "print ('Mean accuracy of Random Forest for task 2 is ',np.mean(acc1))\n",
    "print ('Mean accuracy of Logistic Regression for task 2 is ',np.mean(acc2))\n",
    "print ('Mean accuracy of KNN for task 2 is ',np.mean(acc3))\n",
    "\n",
    "#===============================\n",
    "cm = confusion_matrix(y2, yhat2)\n",
    "cm_normalized = cm.astype('float') / cm.sum(axis=1)[:, np.newaxis]\n",
    "plt.imshow(cm_normalized,cmap=plt.get_cmap('Reds'),aspect='auto')\n",
    "plt.grid(False)"
   ]
  },
  {
   "cell_type": "code",
   "execution_count": 93,
   "metadata": {},
   "outputs": [
    {
     "name": "stdout",
     "output_type": "stream",
     "text": [
      "CI for Random Forest/Logistic Regression Comparison, Task 2: -0.0003259258782750585 0.00015893742411242752\n",
      "CI for Logistic Regression/KNN Comparison, Task 2: -0.004214691647287848 0.004047703193125217\n",
      "CI for Random Forest/KNN Comparison, Task 2: -0.004207252107936817 0.004040263653774186\n"
     ]
    }
   ],
   "source": [
    "t = 2.26 / np.sqrt(10)\n",
    "\n",
    "e1 = (1-acc1)-(1-acc2)\n",
    "e2 = (1-acc2)-(1-acc3)\n",
    "e3 = (1-acc1)-(1-acc3)\n",
    "\n",
    "stdtot1 = np.std(e1)\n",
    "stdtot2 = np.std(e2)\n",
    "stdtot3 = np.std(e3)\n",
    "\n",
    "dbar = np.mean(e)\n",
    "print ('CI for Random Forest/Logistic Regression Comparison, Task 2:', dbar-t*stdtot1,dbar+t*stdtot1 )\n",
    "print ('CI for Logistic Regression/KNN Comparison, Task 2:', dbar-t*stdtot2,dbar+t*stdtot2 )\n",
    "print ('CI for Random Forest/KNN Comparison, Task 2:', dbar-t*stdtot3,dbar+t*stdtot3)"
   ]
  },
  {
   "cell_type": "markdown",
   "metadata": {},
   "source": [
    "We see a similar case in task 2. While there appears to be a larger discrepancy in performance when comparing KNN to the rest of the models, it is not large enough to be statistically significant, as both CI's contain 0 when compared to the other two models."
   ]
  },
  {
   "cell_type": "markdown",
   "metadata": {},
   "source": [
    "***"
   ]
  },
  {
   "cell_type": "markdown",
   "metadata": {},
   "source": [
    "# Modeling and Evaluation 6\n",
    "\n",
    "<i><b>10 pts.</b> Which attributes from your analysis are most important? Use proper methods discussed in class to evaluate the importance of different attributes. Discuss the results and hypothesize about why certain attributes are more important than others for a given classification task.</i>"
   ]
  },
  {
   "cell_type": "code",
   "execution_count": null,
   "metadata": {},
   "outputs": [],
   "source": [
    "importances = rfc.feature_importances_\n",
    "std = np.std([tree.feature_importances_ for tree in rfc.estimators_],\n",
    "             axis=0)\n",
    "indices = np.argsort(importances)[::-1]\n",
    "\n",
    "print(\"Feature ranking:\")\n",
    "\n",
    "for f in range(X_testrf.shape[1]):\n",
    "    print(\"%d. feature %d (%f)\" % (f + 1, indices[f], importances[indices[f]]))\n",
    "\n",
    "# Plot the feature importances of the forest\n",
    "plt.figure()\n",
    "plt.title(\"Feature importances\")\n",
    "plt.bar(range(X_testrf.shape[1]), importances[indices],\n",
    "       color=\"r\", yerr=std[indices], align=\"center\")\n",
    "plt.xticks(range(X_testrf.shape[1]), indices)\n",
    "plt.xlim([-1, X_testrf.shape[1]])\n",
    "plt.show()\n",
    "\n",
    "feature_df = df_final.drop(['grade_grouped'],axis=1)\n",
    "important_features = pd.Series(data=rfc.feature_importances_,index=feature_df.columns)\n",
    "important_features.sort_values(ascending=False,inplace=True)\n",
    "print(important_features)"
   ]
  },
  {
   "cell_type": "markdown",
   "metadata": {},
   "source": [
    "It appears that four of our features such as the description of amenities, responsiveness of the host, and of course the price, are informative of the model, while the rest are less so. Let's examine the other model. Task 2 involves subsetting the A grade and determining the probability a user will become a superuser (grade 96 or higher). We used the same type of model, so let's gather similar metrics."
   ]
  },
  {
   "cell_type": "code",
   "execution_count": null,
   "metadata": {},
   "outputs": [],
   "source": [
    "importances = rfc2.feature_importances_\n",
    "std = np.std([tree.feature_importances_ for tree in rfc2.estimators_],\n",
    "             axis=0)\n",
    "indices = np.argsort(importances)[::-1]\n",
    "\n",
    "print(\"Feature ranking:\")\n",
    "\n",
    "for f in range(X_testrf2.shape[1]):\n",
    "    print(\"%d. feature %d (%f)\" % (f + 1, indices[f], importances[indices[f]]))\n",
    "\n",
    "# Plot the feature importances of the forest\n",
    "plt.figure()\n",
    "plt.title(\"Feature importances\")\n",
    "plt.bar(range(X_testrf2.shape[1]), importances[indices],\n",
    "       color=\"r\", yerr=std[indices], align=\"center\")\n",
    "plt.xticks(range(X_testrf2.shape[1]), indices)\n",
    "plt.xlim([-1, X_testrf2.shape[1]])\n",
    "plt.show()\n",
    "\n",
    "feature_df = df_final.drop(['superuser','grade_grouped'],axis=1)\n",
    "important_features = pd.Series(data=rfc2.feature_importances_,index=feature_df.columns)\n",
    "important_features.sort_values(ascending=False,inplace=True)\n",
    "print(important_features)"
   ]
  },
  {
   "cell_type": "markdown",
   "metadata": {},
   "source": [
    "Feature 0, confirmed to be log_price has considerable leverage, with several features such as bathrooms and number of accommodations, as well as the hosts length of activity and number of reviews having roughly even importances. With this many features with roughly even mean accuracy decreases, it's hard to say if any one feature could influence the model. Given all this information, using random forest to predict superuser status may not be feasible."
   ]
  },
  {
   "cell_type": "code",
   "execution_count": null,
   "metadata": {},
   "outputs": [],
   "source": [
    "#feature importance from RF, iterate/optimize K neighbors, f test on regression"
   ]
  },
  {
   "cell_type": "markdown",
   "metadata": {},
   "source": [
    "<font color='red'>Logistic regression does not have explicit feature importance. A feature is considered importnat if its coefficient is significant in the logistic regression model.</font>\n",
    "\n",
    "A downside to KNN is that the algorithm does not directly provide a way to determine feature importance. When considering distances in multidimensional space, one would need to somehow calculate which attributes have the strongest influence in similarly classified data points being located near each other. The number of neighbors to consider is very important in this regard, and using GridSearch helped identify optimal k to eke out increased predictive power. The grade task ended up with multiple optimally performing parameter sets, but their shared feature was that they all used K = 1. The superhost task, which KNN performed poorly on, landed on K = 3."
   ]
  },
  {
   "cell_type": "code",
   "execution_count": null,
   "metadata": {},
   "outputs": [],
   "source": [
    "# Hold space for code"
   ]
  },
  {
   "cell_type": "markdown",
   "metadata": {},
   "source": [
    "***"
   ]
  },
  {
   "cell_type": "markdown",
   "metadata": {},
   "source": [
    "# Deployment\n",
    "\n",
    "<i><b>5 pts.</b> How useful is your model for interested parties (i.e., the companies or organizations that might want to use it for prediction)? How would you measure the model's value if it was used by these parties? How would you deploy your model for interested parties? What other data should be collected? How often would the model need to be updated, etc.?</i>"
   ]
  },
  {
   "cell_type": "code",
   "execution_count": null,
   "metadata": {},
   "outputs": [],
   "source": [
    "#clarify in class, explaining profit to shareholders (superhosts provide more to Airbnb than regular hosts, we can identify users that meet those requirements and can actively recruit for the program)"
   ]
  },
  {
   "cell_type": "markdown",
   "metadata": {},
   "source": [
    "The main beneficiary for this classification exercise (particularly for the stricter superhost category, as opposed to the bucketed A grade) would likely be Airbnb itself. With their track record for exemplary service, superhosts are trusted hosts who are likely to provide guests with a great experience, thus maintaining \n",
    "\n",
    "Assuming that feature importance can parse out specifics, if Airbnb shared which attributes are likely predictors for superhosts (aside from those already required to earn the designation, such as maintaining a high average rating and response rate), this could also benefit hosts striving for that status by suggesting what could be improved to increase the likelihood of receiving good reviews. Potential guests would likely include superhost itself as a criterion in their search. If superhosts in their needed location are unavailable, perhaps knowing other strong predictors for a good experience, aside from rating, could give them better confidence in making a choice.\n",
    "\n",
    "Specific feature importance revealed factors such as price, amenities, and host responsiveness to be key in a host's success on the platform. Airbnb could invest in a hosting toolkit for dedicated users, including things like determining price based on the features and amenities of the listing, and easier ways for hosts and guests to communicate. If these result in higher trustworthiness, and by extension revenue for the hosts and the company, this could be a strong return on investment for these models.\n",
    "\n",
    "Only six particular US cities are considered in the original data. Training data from other cities, or potentially even for other countries in which Airbnb operates, should be implemented before generalizing any predictions outside of these six cities. Since the main superhost component affected by guest input is average rating, sentiment or keyword analysis on review text itself could be useful at indicating what hosts are doing right or wrong, giving them additional opportunity to improve in order to attain superhost status or avoid losing it.\n",
    "\n",
    "Given the nature of this data, the model would likely need infrequent updates after being attuned. What constitutes a good guest experience is unlikely to change over time. The main deployment cost would likely be upfront, both with cleaning and implementing data for new locations Airbnb wants to predict on, as well as training the models. Tuning the model parameters is important for increasing predictive power, but it comes at a high potential computational cost. For instance, using GridSearch to find the optimal parameter set can take hours."
   ]
  },
  {
   "cell_type": "markdown",
   "metadata": {},
   "source": [
    "***"
   ]
  },
  {
   "cell_type": "markdown",
   "metadata": {},
   "source": [
    "# Exceptional Work\n",
    "\n",
    "<i><b>10 pts.</b> You have free reign to provide additional analyses. One idea: grid search parameters in a parallelized fashion and visualize the performances across attributes. Which parameters are most significant for making a good model for each classification algorithm?</i>"
   ]
  },
  {
   "cell_type": "markdown",
   "metadata": {},
   "source": [
    "From the work in the regular sections outlined above, we'd like to propose the following items for consideration as exceptional work:\n",
    "\n",
    "* Using GridSearch for KNN parameter tuning.\n",
    "\n",
    "In addition, some experimentation with models not explicitly covered by class materials is shown below. Unless stated, these are done for the grouped grade task (using X1 and y1) only."
   ]
  },
  {
   "cell_type": "markdown",
   "metadata": {},
   "source": [
    "## XGBoost"
   ]
  },
  {
   "cell_type": "code",
   "execution_count": null,
   "metadata": {},
   "outputs": [],
   "source": [
    "from xgboost import XGBClassifier"
   ]
  },
  {
   "cell_type": "code",
   "execution_count": null,
   "metadata": {
    "scrolled": true
   },
   "outputs": [],
   "source": [
    "%%time\n",
    "\n",
    "xgb_precisions = []\n",
    "\n",
    "# XGBoost on 10-fold CV\n",
    "for train, test in cv.split(X1,y1):\n",
    "    clf_xgb = XGBClassifier()\n",
    "    clf_xgb.fit(X1[train],y1[train])\n",
    "    yhat1[test] = clf_xgb.predict(X1[test])\n",
    "    xgb_precisions.append(precision_score(y1[test], yhat1[test]))\n",
    "    print(classification_report(y1[test], yhat1[test]))"
   ]
  },
  {
   "cell_type": "code",
   "execution_count": null,
   "metadata": {},
   "outputs": [],
   "source": [
    "xgb_precisions_np = np.asarray(xgb_precisions)\n",
    "xgb_precisions_np.mean()"
   ]
  },
  {
   "cell_type": "markdown",
   "metadata": {},
   "source": [
    "Using a similar stratified K-fold cross validator as shown above, an untuned XGBoost model returned comparable average precision. \n",
    "\n",
    "Shown below is a graph of relative feature importance, which indicates that features with indices 11, 7, and 6 seemed to be the top three most important. These correspond to amenities length, being instant bookable, and host response rate, respectively. Considering that having a high grade (related to this classification task, A or <A) is a prerequisite for the superhost designation, it's not surprising that response rate, another prerequisite, also gets included. For number one, the length of the amenities a site has, this makes sense as well. Having available features useful to guests, such as Wi-Fi, air conditioning, or laundry, increases the likelihood that guests will have good experiences and will then leave good reviews."
   ]
  },
  {
   "cell_type": "code",
   "execution_count": null,
   "metadata": {},
   "outputs": [],
   "source": [
    "plt.bar(range(len(clf_xgb.feature_importances_)), clf_xgb.feature_importances_)\n",
    "plt.show()"
   ]
  },
  {
   "cell_type": "markdown",
   "metadata": {},
   "source": [
    "## Neural Networks"
   ]
  },
  {
   "cell_type": "code",
   "execution_count": null,
   "metadata": {},
   "outputs": [],
   "source": [
    "from sklearn.model_selection import KFold\n",
    "from sklearn.linear_model import Perceptron\n",
    "from sklearn.neural_network import MLPClassifier"
   ]
  },
  {
   "cell_type": "code",
   "execution_count": null,
   "metadata": {
    "scrolled": true
   },
   "outputs": [],
   "source": [
    "%%time\n",
    "\n",
    "percep_precisions = []\n",
    "kf = KFold(n_splits=10)\n",
    "\n",
    "for train, test in kf.split(X1):\n",
    "    clf_per = Perceptron(tol=1e-3, random_state=0)\n",
    "    clf_per.fit(X1[train], y1[train])\n",
    "    yhat1[test] = clf_per.predict(X1[test])\n",
    "    percep_precisions.append(precision_score(y1[test], yhat1[test]))\n",
    "    print(classification_report(y1[test], yhat1[test]))"
   ]
  },
  {
   "cell_type": "code",
   "execution_count": null,
   "metadata": {},
   "outputs": [],
   "source": [
    "percep_precisions_np = np.asarray(percep_precisions)\n",
    "percep_precisions_np.mean()"
   ]
  },
  {
   "cell_type": "markdown",
   "metadata": {},
   "source": [
    "Using a similar stratified K-fold cross validator as those implemented in the main section, a single-layer perceptron without much tuning was able to post a comparable mean precision score with a blisteringly fast time."
   ]
  },
  {
   "cell_type": "code",
   "execution_count": null,
   "metadata": {
    "scrolled": true
   },
   "outputs": [],
   "source": [
    "%%time\n",
    "# Backpropagation neural network\n",
    "# Code adapted from https://stackoverflow.com/questions/44683197/implement-k-fold-cross-validation-in-mlpclassification-python\n",
    "bpnn_precisions = []\n",
    "\n",
    "clf_mlp = MLPClassifier(solver='lbfgs', alpha=1e-5, hidden_layer_sizes=(5,5,2),\n",
    "                   random_state=1)\n",
    "for train, test in kf.split(X1):\n",
    "    clf_mlp.fit(X1[train], y1[train])\n",
    "    yhat1[test] = clf_mlp.predict(X1[test])\n",
    "    bpnn_precisions.append(precision_score(y1[test], yhat1[test]))\n",
    "    print(classification_report(y1[test], yhat1[test]))"
   ]
  },
  {
   "cell_type": "code",
   "execution_count": null,
   "metadata": {},
   "outputs": [],
   "source": [
    "bpnn_precisions_np = np.asarray(bpnn_precisions)\n",
    "bpnn_precisions_np.mean()"
   ]
  },
  {
   "cell_type": "markdown",
   "metadata": {},
   "source": [
    "An attempt at a neural network using an ordinary backpropagation learning algorithm returns a similar, though slightly lower average precision. This could likely be improved with dedicated parameter tuning."
   ]
  },
  {
   "cell_type": "markdown",
   "metadata": {},
   "source": [
    "## Naive Bayes"
   ]
  },
  {
   "cell_type": "code",
   "execution_count": null,
   "metadata": {},
   "outputs": [],
   "source": [
    "from sklearn.naive_bayes import GaussianNB, MultinomialNB, BernoulliNB"
   ]
  },
  {
   "cell_type": "code",
   "execution_count": null,
   "metadata": {},
   "outputs": [],
   "source": [
    "clf_gnb = GaussianNB()\n",
    "clf_mnb = MultinomialNB(alpha=0.001)\n",
    "clf_bnb = BernoulliNB(alpha=0.001)\n",
    "\n",
    "gnb_precisions = []\n",
    "mnb_precisions = []\n",
    "bnb_precisions = []\n",
    "\n",
    "# GaussianNB\n",
    "for train, test in kf.split(X1):\n",
    "    clf_gnb.fit(X1[train], y1[train])\n",
    "    yhat1[test] = clf_gnb.predict(X1[test])\n",
    "    gnb_precisions.append(precision_score(y1[test], yhat1[test]))\n",
    "\n",
    "# MultinomialNB results in error due to a negative value in X1?\n",
    "# for train, test in kf.split(X1):\n",
    "#     clf_mnb.fit(X1[train], y1[train])\n",
    "#     yhat1[test] = clf_mnb.predict(X1[test])\n",
    "#     mnb_precisions.append(precision_score(y1[test], yhat1[test]))\n",
    "\n",
    "# BernoulliNB\n",
    "for train, test in kf.split(X1):\n",
    "    clf_bnb.fit(X1[train], y1[train])\n",
    "    yhat1[test] = clf_bnb.predict(X1[test])\n",
    "    bnb_precisions.append(precision_score(y1[test], yhat1[test]))"
   ]
  },
  {
   "cell_type": "code",
   "execution_count": null,
   "metadata": {},
   "outputs": [],
   "source": [
    "gnb_precisions_np = np.asarray(gnb_precisions)\n",
    "gnb_precisions_np.mean()"
   ]
  },
  {
   "cell_type": "code",
   "execution_count": null,
   "metadata": {},
   "outputs": [],
   "source": [
    "bnb_precisions_np = np.asarray(bnb_precisions)\n",
    "bnb_precisions_np.mean()"
   ]
  },
  {
   "cell_type": "markdown",
   "metadata": {},
   "source": [
    "Gaussian Naive Bayes and Bernoulli Naive Bayes also produced similar mean precisions, at approximately 0.84."
   ]
  },
  {
   "cell_type": "code",
   "execution_count": null,
   "metadata": {},
   "outputs": [],
   "source": []
  }
 ],
 "metadata": {
  "kernelspec": {
   "display_name": "Python 3",
   "language": "python",
   "name": "python3"
  },
  "language_info": {
   "codemirror_mode": {
    "name": "ipython",
    "version": 3
   },
   "file_extension": ".py",
   "mimetype": "text/x-python",
   "name": "python",
   "nbconvert_exporter": "python",
   "pygments_lexer": "ipython3",
   "version": "3.7.3"
  }
 },
 "nbformat": 4,
 "nbformat_minor": 2
}
