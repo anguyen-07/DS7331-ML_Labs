{
 "cells": [
  {
   "cell_type": "code",
   "execution_count": 1,
   "metadata": {},
   "outputs": [],
   "source": [
    "# Set-Up\n",
    "import pandas as pd\n",
    "import numpy as np\n",
    "import seaborn as sns"
   ]
  },
  {
   "cell_type": "code",
   "execution_count": 5,
   "metadata": {},
   "outputs": [],
   "source": [
    "# Load Data from CSV file as pandas dataframe\n",
    "df = pd.read_csv('DS7331-ML_Labs/data/airbnb_train.csv')"
   ]
  },
  {
   "cell_type": "code",
   "execution_count": 6,
   "metadata": {},
   "outputs": [
    {
     "data": {
      "text/html": [
       "<div>\n",
       "<style scoped>\n",
       "    .dataframe tbody tr th:only-of-type {\n",
       "        vertical-align: middle;\n",
       "    }\n",
       "\n",
       "    .dataframe tbody tr th {\n",
       "        vertical-align: top;\n",
       "    }\n",
       "\n",
       "    .dataframe thead th {\n",
       "        text-align: right;\n",
       "    }\n",
       "</style>\n",
       "<table border=\"1\" class=\"dataframe\">\n",
       "  <thead>\n",
       "    <tr style=\"text-align: right;\">\n",
       "      <th></th>\n",
       "      <th>id</th>\n",
       "      <th>log_price</th>\n",
       "      <th>property_type</th>\n",
       "      <th>room_type</th>\n",
       "      <th>amenities</th>\n",
       "      <th>accommodates</th>\n",
       "      <th>bathrooms</th>\n",
       "      <th>bed_type</th>\n",
       "      <th>cancellation_policy</th>\n",
       "      <th>cleaning_fee</th>\n",
       "      <th>city</th>\n",
       "      <th>description</th>\n",
       "      <th>first_review</th>\n",
       "      <th>host_has_profile_pic</th>\n",
       "      <th>host_identity_verified</th>\n",
       "      <th>host_response_rate</th>\n",
       "      <th>host_since</th>\n",
       "      <th>instant_bookable</th>\n",
       "      <th>last_review</th>\n",
       "      <th>latitude</th>\n",
       "      <th>longitude</th>\n",
       "      <th>name</th>\n",
       "      <th>neighbourhood</th>\n",
       "      <th>number_of_reviews</th>\n",
       "      <th>review_scores_rating</th>\n",
       "      <th>thumbnail_url</th>\n",
       "      <th>zipcode</th>\n",
       "      <th>bedrooms</th>\n",
       "      <th>beds</th>\n",
       "    </tr>\n",
       "  </thead>\n",
       "  <tbody>\n",
       "    <tr>\n",
       "      <th>0</th>\n",
       "      <td>6901257</td>\n",
       "      <td>5.010635</td>\n",
       "      <td>Apartment</td>\n",
       "      <td>Entire home/apt</td>\n",
       "      <td>{\"Wireless Internet\",\"Air conditioning\",Kitche...</td>\n",
       "      <td>3</td>\n",
       "      <td>1.0</td>\n",
       "      <td>Real Bed</td>\n",
       "      <td>strict</td>\n",
       "      <td>True</td>\n",
       "      <td>NYC</td>\n",
       "      <td>Beautiful, sunlit brownstone 1-bedroom in the ...</td>\n",
       "      <td>2016-06-18</td>\n",
       "      <td>t</td>\n",
       "      <td>t</td>\n",
       "      <td>NaN</td>\n",
       "      <td>2012-03-26</td>\n",
       "      <td>f</td>\n",
       "      <td>2016-07-18</td>\n",
       "      <td>40.696524</td>\n",
       "      <td>-73.991617</td>\n",
       "      <td>Beautiful brownstone 1-bedroom</td>\n",
       "      <td>Brooklyn Heights</td>\n",
       "      <td>2</td>\n",
       "      <td>100.0</td>\n",
       "      <td>https://a0.muscache.com/im/pictures/6d7cbbf7-c...</td>\n",
       "      <td>11201</td>\n",
       "      <td>1.0</td>\n",
       "      <td>1.0</td>\n",
       "    </tr>\n",
       "    <tr>\n",
       "      <th>1</th>\n",
       "      <td>6304928</td>\n",
       "      <td>5.129899</td>\n",
       "      <td>Apartment</td>\n",
       "      <td>Entire home/apt</td>\n",
       "      <td>{\"Wireless Internet\",\"Air conditioning\",Kitche...</td>\n",
       "      <td>7</td>\n",
       "      <td>1.0</td>\n",
       "      <td>Real Bed</td>\n",
       "      <td>strict</td>\n",
       "      <td>True</td>\n",
       "      <td>NYC</td>\n",
       "      <td>Enjoy travelling during your stay in Manhattan...</td>\n",
       "      <td>2017-08-05</td>\n",
       "      <td>t</td>\n",
       "      <td>f</td>\n",
       "      <td>100%</td>\n",
       "      <td>2017-06-19</td>\n",
       "      <td>t</td>\n",
       "      <td>2017-09-23</td>\n",
       "      <td>40.766115</td>\n",
       "      <td>-73.989040</td>\n",
       "      <td>Superb 3BR Apt Located Near Times Square</td>\n",
       "      <td>Hell's Kitchen</td>\n",
       "      <td>6</td>\n",
       "      <td>93.0</td>\n",
       "      <td>https://a0.muscache.com/im/pictures/348a55fe-4...</td>\n",
       "      <td>10019</td>\n",
       "      <td>3.0</td>\n",
       "      <td>3.0</td>\n",
       "    </tr>\n",
       "    <tr>\n",
       "      <th>2</th>\n",
       "      <td>7919400</td>\n",
       "      <td>4.976734</td>\n",
       "      <td>Apartment</td>\n",
       "      <td>Entire home/apt</td>\n",
       "      <td>{TV,\"Cable TV\",\"Wireless Internet\",\"Air condit...</td>\n",
       "      <td>5</td>\n",
       "      <td>1.0</td>\n",
       "      <td>Real Bed</td>\n",
       "      <td>moderate</td>\n",
       "      <td>True</td>\n",
       "      <td>NYC</td>\n",
       "      <td>The Oasis comes complete with a full backyard ...</td>\n",
       "      <td>2017-04-30</td>\n",
       "      <td>t</td>\n",
       "      <td>t</td>\n",
       "      <td>100%</td>\n",
       "      <td>2016-10-25</td>\n",
       "      <td>t</td>\n",
       "      <td>2017-09-14</td>\n",
       "      <td>40.808110</td>\n",
       "      <td>-73.943756</td>\n",
       "      <td>The Garden Oasis</td>\n",
       "      <td>Harlem</td>\n",
       "      <td>10</td>\n",
       "      <td>92.0</td>\n",
       "      <td>https://a0.muscache.com/im/pictures/6fae5362-9...</td>\n",
       "      <td>10027</td>\n",
       "      <td>1.0</td>\n",
       "      <td>3.0</td>\n",
       "    </tr>\n",
       "    <tr>\n",
       "      <th>3</th>\n",
       "      <td>13418779</td>\n",
       "      <td>6.620073</td>\n",
       "      <td>House</td>\n",
       "      <td>Entire home/apt</td>\n",
       "      <td>{TV,\"Cable TV\",Internet,\"Wireless Internet\",Ki...</td>\n",
       "      <td>4</td>\n",
       "      <td>1.0</td>\n",
       "      <td>Real Bed</td>\n",
       "      <td>flexible</td>\n",
       "      <td>True</td>\n",
       "      <td>SF</td>\n",
       "      <td>This light-filled home-away-from-home is super...</td>\n",
       "      <td>NaN</td>\n",
       "      <td>t</td>\n",
       "      <td>t</td>\n",
       "      <td>NaN</td>\n",
       "      <td>2015-04-19</td>\n",
       "      <td>f</td>\n",
       "      <td>NaN</td>\n",
       "      <td>37.772004</td>\n",
       "      <td>-122.431619</td>\n",
       "      <td>Beautiful Flat in the Heart of SF!</td>\n",
       "      <td>Lower Haight</td>\n",
       "      <td>0</td>\n",
       "      <td>NaN</td>\n",
       "      <td>https://a0.muscache.com/im/pictures/72208dad-9...</td>\n",
       "      <td>94117.0</td>\n",
       "      <td>2.0</td>\n",
       "      <td>2.0</td>\n",
       "    </tr>\n",
       "    <tr>\n",
       "      <th>4</th>\n",
       "      <td>3808709</td>\n",
       "      <td>4.744932</td>\n",
       "      <td>Apartment</td>\n",
       "      <td>Entire home/apt</td>\n",
       "      <td>{TV,Internet,\"Wireless Internet\",\"Air conditio...</td>\n",
       "      <td>2</td>\n",
       "      <td>1.0</td>\n",
       "      <td>Real Bed</td>\n",
       "      <td>moderate</td>\n",
       "      <td>True</td>\n",
       "      <td>DC</td>\n",
       "      <td>Cool, cozy, and comfortable studio located in ...</td>\n",
       "      <td>2015-05-12</td>\n",
       "      <td>t</td>\n",
       "      <td>t</td>\n",
       "      <td>100%</td>\n",
       "      <td>2015-03-01</td>\n",
       "      <td>t</td>\n",
       "      <td>2017-01-22</td>\n",
       "      <td>38.925627</td>\n",
       "      <td>-77.034596</td>\n",
       "      <td>Great studio in midtown DC</td>\n",
       "      <td>Columbia Heights</td>\n",
       "      <td>4</td>\n",
       "      <td>40.0</td>\n",
       "      <td>NaN</td>\n",
       "      <td>20009</td>\n",
       "      <td>0.0</td>\n",
       "      <td>1.0</td>\n",
       "    </tr>\n",
       "  </tbody>\n",
       "</table>\n",
       "</div>"
      ],
      "text/plain": [
       "         id  log_price property_type        room_type  \\\n",
       "0   6901257   5.010635     Apartment  Entire home/apt   \n",
       "1   6304928   5.129899     Apartment  Entire home/apt   \n",
       "2   7919400   4.976734     Apartment  Entire home/apt   \n",
       "3  13418779   6.620073         House  Entire home/apt   \n",
       "4   3808709   4.744932     Apartment  Entire home/apt   \n",
       "\n",
       "                                           amenities  accommodates  bathrooms  \\\n",
       "0  {\"Wireless Internet\",\"Air conditioning\",Kitche...             3        1.0   \n",
       "1  {\"Wireless Internet\",\"Air conditioning\",Kitche...             7        1.0   \n",
       "2  {TV,\"Cable TV\",\"Wireless Internet\",\"Air condit...             5        1.0   \n",
       "3  {TV,\"Cable TV\",Internet,\"Wireless Internet\",Ki...             4        1.0   \n",
       "4  {TV,Internet,\"Wireless Internet\",\"Air conditio...             2        1.0   \n",
       "\n",
       "   bed_type cancellation_policy  cleaning_fee city  \\\n",
       "0  Real Bed              strict          True  NYC   \n",
       "1  Real Bed              strict          True  NYC   \n",
       "2  Real Bed            moderate          True  NYC   \n",
       "3  Real Bed            flexible          True   SF   \n",
       "4  Real Bed            moderate          True   DC   \n",
       "\n",
       "                                         description first_review  \\\n",
       "0  Beautiful, sunlit brownstone 1-bedroom in the ...   2016-06-18   \n",
       "1  Enjoy travelling during your stay in Manhattan...   2017-08-05   \n",
       "2  The Oasis comes complete with a full backyard ...   2017-04-30   \n",
       "3  This light-filled home-away-from-home is super...          NaN   \n",
       "4  Cool, cozy, and comfortable studio located in ...   2015-05-12   \n",
       "\n",
       "  host_has_profile_pic host_identity_verified host_response_rate  host_since  \\\n",
       "0                    t                      t                NaN  2012-03-26   \n",
       "1                    t                      f               100%  2017-06-19   \n",
       "2                    t                      t               100%  2016-10-25   \n",
       "3                    t                      t                NaN  2015-04-19   \n",
       "4                    t                      t               100%  2015-03-01   \n",
       "\n",
       "  instant_bookable last_review   latitude   longitude  \\\n",
       "0                f  2016-07-18  40.696524  -73.991617   \n",
       "1                t  2017-09-23  40.766115  -73.989040   \n",
       "2                t  2017-09-14  40.808110  -73.943756   \n",
       "3                f         NaN  37.772004 -122.431619   \n",
       "4                t  2017-01-22  38.925627  -77.034596   \n",
       "\n",
       "                                       name     neighbourhood  \\\n",
       "0            Beautiful brownstone 1-bedroom  Brooklyn Heights   \n",
       "1  Superb 3BR Apt Located Near Times Square    Hell's Kitchen   \n",
       "2                          The Garden Oasis            Harlem   \n",
       "3        Beautiful Flat in the Heart of SF!      Lower Haight   \n",
       "4                Great studio in midtown DC  Columbia Heights   \n",
       "\n",
       "   number_of_reviews  review_scores_rating  \\\n",
       "0                  2                 100.0   \n",
       "1                  6                  93.0   \n",
       "2                 10                  92.0   \n",
       "3                  0                   NaN   \n",
       "4                  4                  40.0   \n",
       "\n",
       "                                       thumbnail_url  zipcode  bedrooms  beds  \n",
       "0  https://a0.muscache.com/im/pictures/6d7cbbf7-c...    11201       1.0   1.0  \n",
       "1  https://a0.muscache.com/im/pictures/348a55fe-4...    10019       3.0   3.0  \n",
       "2  https://a0.muscache.com/im/pictures/6fae5362-9...    10027       1.0   3.0  \n",
       "3  https://a0.muscache.com/im/pictures/72208dad-9...  94117.0       2.0   2.0  \n",
       "4                                                NaN    20009       0.0   1.0  "
      ]
     },
     "execution_count": 6,
     "metadata": {},
     "output_type": "execute_result"
    }
   ],
   "source": [
    "# Quick snapshot of Data\n",
    "pd.set_option('display.max_columns', None)\n",
    "pd.set_option('display.max_rows', None)\n",
    "df.head()"
   ]
  },
  {
   "cell_type": "code",
   "execution_count": 7,
   "metadata": {},
   "outputs": [],
   "source": [
    "del df['id']"
   ]
  },
  {
   "cell_type": "code",
   "execution_count": 8,
   "metadata": {},
   "outputs": [],
   "source": [
    "df['price'] = np.exp(df['log_price'])"
   ]
  },
  {
   "cell_type": "code",
   "execution_count": 9,
   "metadata": {},
   "outputs": [
    {
     "data": {
      "text/html": [
       "<div>\n",
       "<style scoped>\n",
       "    .dataframe tbody tr th:only-of-type {\n",
       "        vertical-align: middle;\n",
       "    }\n",
       "\n",
       "    .dataframe tbody tr th {\n",
       "        vertical-align: top;\n",
       "    }\n",
       "\n",
       "    .dataframe thead th {\n",
       "        text-align: right;\n",
       "    }\n",
       "</style>\n",
       "<table border=\"1\" class=\"dataframe\">\n",
       "  <thead>\n",
       "    <tr style=\"text-align: right;\">\n",
       "      <th></th>\n",
       "      <th>log_price</th>\n",
       "      <th>property_type</th>\n",
       "      <th>room_type</th>\n",
       "      <th>amenities</th>\n",
       "      <th>accommodates</th>\n",
       "      <th>bathrooms</th>\n",
       "      <th>bed_type</th>\n",
       "      <th>cancellation_policy</th>\n",
       "      <th>cleaning_fee</th>\n",
       "      <th>city</th>\n",
       "      <th>description</th>\n",
       "      <th>first_review</th>\n",
       "      <th>host_has_profile_pic</th>\n",
       "      <th>host_identity_verified</th>\n",
       "      <th>host_response_rate</th>\n",
       "      <th>host_since</th>\n",
       "      <th>instant_bookable</th>\n",
       "      <th>last_review</th>\n",
       "      <th>latitude</th>\n",
       "      <th>longitude</th>\n",
       "      <th>name</th>\n",
       "      <th>neighbourhood</th>\n",
       "      <th>number_of_reviews</th>\n",
       "      <th>review_scores_rating</th>\n",
       "      <th>thumbnail_url</th>\n",
       "      <th>zipcode</th>\n",
       "      <th>bedrooms</th>\n",
       "      <th>beds</th>\n",
       "      <th>price</th>\n",
       "    </tr>\n",
       "  </thead>\n",
       "  <tbody>\n",
       "    <tr>\n",
       "      <th>0</th>\n",
       "      <td>5.010635</td>\n",
       "      <td>Apartment</td>\n",
       "      <td>Entire home/apt</td>\n",
       "      <td>{\"Wireless Internet\",\"Air conditioning\",Kitche...</td>\n",
       "      <td>3</td>\n",
       "      <td>1.0</td>\n",
       "      <td>Real Bed</td>\n",
       "      <td>strict</td>\n",
       "      <td>True</td>\n",
       "      <td>NYC</td>\n",
       "      <td>Beautiful, sunlit brownstone 1-bedroom in the ...</td>\n",
       "      <td>2016-06-18</td>\n",
       "      <td>t</td>\n",
       "      <td>t</td>\n",
       "      <td>NaN</td>\n",
       "      <td>2012-03-26</td>\n",
       "      <td>f</td>\n",
       "      <td>2016-07-18</td>\n",
       "      <td>40.696524</td>\n",
       "      <td>-73.991617</td>\n",
       "      <td>Beautiful brownstone 1-bedroom</td>\n",
       "      <td>Brooklyn Heights</td>\n",
       "      <td>2</td>\n",
       "      <td>100.0</td>\n",
       "      <td>https://a0.muscache.com/im/pictures/6d7cbbf7-c...</td>\n",
       "      <td>11201</td>\n",
       "      <td>1.0</td>\n",
       "      <td>1.0</td>\n",
       "      <td>150.0</td>\n",
       "    </tr>\n",
       "    <tr>\n",
       "      <th>1</th>\n",
       "      <td>5.129899</td>\n",
       "      <td>Apartment</td>\n",
       "      <td>Entire home/apt</td>\n",
       "      <td>{\"Wireless Internet\",\"Air conditioning\",Kitche...</td>\n",
       "      <td>7</td>\n",
       "      <td>1.0</td>\n",
       "      <td>Real Bed</td>\n",
       "      <td>strict</td>\n",
       "      <td>True</td>\n",
       "      <td>NYC</td>\n",
       "      <td>Enjoy travelling during your stay in Manhattan...</td>\n",
       "      <td>2017-08-05</td>\n",
       "      <td>t</td>\n",
       "      <td>f</td>\n",
       "      <td>100%</td>\n",
       "      <td>2017-06-19</td>\n",
       "      <td>t</td>\n",
       "      <td>2017-09-23</td>\n",
       "      <td>40.766115</td>\n",
       "      <td>-73.989040</td>\n",
       "      <td>Superb 3BR Apt Located Near Times Square</td>\n",
       "      <td>Hell's Kitchen</td>\n",
       "      <td>6</td>\n",
       "      <td>93.0</td>\n",
       "      <td>https://a0.muscache.com/im/pictures/348a55fe-4...</td>\n",
       "      <td>10019</td>\n",
       "      <td>3.0</td>\n",
       "      <td>3.0</td>\n",
       "      <td>169.0</td>\n",
       "    </tr>\n",
       "    <tr>\n",
       "      <th>2</th>\n",
       "      <td>4.976734</td>\n",
       "      <td>Apartment</td>\n",
       "      <td>Entire home/apt</td>\n",
       "      <td>{TV,\"Cable TV\",\"Wireless Internet\",\"Air condit...</td>\n",
       "      <td>5</td>\n",
       "      <td>1.0</td>\n",
       "      <td>Real Bed</td>\n",
       "      <td>moderate</td>\n",
       "      <td>True</td>\n",
       "      <td>NYC</td>\n",
       "      <td>The Oasis comes complete with a full backyard ...</td>\n",
       "      <td>2017-04-30</td>\n",
       "      <td>t</td>\n",
       "      <td>t</td>\n",
       "      <td>100%</td>\n",
       "      <td>2016-10-25</td>\n",
       "      <td>t</td>\n",
       "      <td>2017-09-14</td>\n",
       "      <td>40.808110</td>\n",
       "      <td>-73.943756</td>\n",
       "      <td>The Garden Oasis</td>\n",
       "      <td>Harlem</td>\n",
       "      <td>10</td>\n",
       "      <td>92.0</td>\n",
       "      <td>https://a0.muscache.com/im/pictures/6fae5362-9...</td>\n",
       "      <td>10027</td>\n",
       "      <td>1.0</td>\n",
       "      <td>3.0</td>\n",
       "      <td>145.0</td>\n",
       "    </tr>\n",
       "    <tr>\n",
       "      <th>3</th>\n",
       "      <td>6.620073</td>\n",
       "      <td>House</td>\n",
       "      <td>Entire home/apt</td>\n",
       "      <td>{TV,\"Cable TV\",Internet,\"Wireless Internet\",Ki...</td>\n",
       "      <td>4</td>\n",
       "      <td>1.0</td>\n",
       "      <td>Real Bed</td>\n",
       "      <td>flexible</td>\n",
       "      <td>True</td>\n",
       "      <td>SF</td>\n",
       "      <td>This light-filled home-away-from-home is super...</td>\n",
       "      <td>NaN</td>\n",
       "      <td>t</td>\n",
       "      <td>t</td>\n",
       "      <td>NaN</td>\n",
       "      <td>2015-04-19</td>\n",
       "      <td>f</td>\n",
       "      <td>NaN</td>\n",
       "      <td>37.772004</td>\n",
       "      <td>-122.431619</td>\n",
       "      <td>Beautiful Flat in the Heart of SF!</td>\n",
       "      <td>Lower Haight</td>\n",
       "      <td>0</td>\n",
       "      <td>NaN</td>\n",
       "      <td>https://a0.muscache.com/im/pictures/72208dad-9...</td>\n",
       "      <td>94117.0</td>\n",
       "      <td>2.0</td>\n",
       "      <td>2.0</td>\n",
       "      <td>750.0</td>\n",
       "    </tr>\n",
       "    <tr>\n",
       "      <th>4</th>\n",
       "      <td>4.744932</td>\n",
       "      <td>Apartment</td>\n",
       "      <td>Entire home/apt</td>\n",
       "      <td>{TV,Internet,\"Wireless Internet\",\"Air conditio...</td>\n",
       "      <td>2</td>\n",
       "      <td>1.0</td>\n",
       "      <td>Real Bed</td>\n",
       "      <td>moderate</td>\n",
       "      <td>True</td>\n",
       "      <td>DC</td>\n",
       "      <td>Cool, cozy, and comfortable studio located in ...</td>\n",
       "      <td>2015-05-12</td>\n",
       "      <td>t</td>\n",
       "      <td>t</td>\n",
       "      <td>100%</td>\n",
       "      <td>2015-03-01</td>\n",
       "      <td>t</td>\n",
       "      <td>2017-01-22</td>\n",
       "      <td>38.925627</td>\n",
       "      <td>-77.034596</td>\n",
       "      <td>Great studio in midtown DC</td>\n",
       "      <td>Columbia Heights</td>\n",
       "      <td>4</td>\n",
       "      <td>40.0</td>\n",
       "      <td>NaN</td>\n",
       "      <td>20009</td>\n",
       "      <td>0.0</td>\n",
       "      <td>1.0</td>\n",
       "      <td>115.0</td>\n",
       "    </tr>\n",
       "  </tbody>\n",
       "</table>\n",
       "</div>"
      ],
      "text/plain": [
       "   log_price property_type        room_type  \\\n",
       "0   5.010635     Apartment  Entire home/apt   \n",
       "1   5.129899     Apartment  Entire home/apt   \n",
       "2   4.976734     Apartment  Entire home/apt   \n",
       "3   6.620073         House  Entire home/apt   \n",
       "4   4.744932     Apartment  Entire home/apt   \n",
       "\n",
       "                                           amenities  accommodates  bathrooms  \\\n",
       "0  {\"Wireless Internet\",\"Air conditioning\",Kitche...             3        1.0   \n",
       "1  {\"Wireless Internet\",\"Air conditioning\",Kitche...             7        1.0   \n",
       "2  {TV,\"Cable TV\",\"Wireless Internet\",\"Air condit...             5        1.0   \n",
       "3  {TV,\"Cable TV\",Internet,\"Wireless Internet\",Ki...             4        1.0   \n",
       "4  {TV,Internet,\"Wireless Internet\",\"Air conditio...             2        1.0   \n",
       "\n",
       "   bed_type cancellation_policy  cleaning_fee city  \\\n",
       "0  Real Bed              strict          True  NYC   \n",
       "1  Real Bed              strict          True  NYC   \n",
       "2  Real Bed            moderate          True  NYC   \n",
       "3  Real Bed            flexible          True   SF   \n",
       "4  Real Bed            moderate          True   DC   \n",
       "\n",
       "                                         description first_review  \\\n",
       "0  Beautiful, sunlit brownstone 1-bedroom in the ...   2016-06-18   \n",
       "1  Enjoy travelling during your stay in Manhattan...   2017-08-05   \n",
       "2  The Oasis comes complete with a full backyard ...   2017-04-30   \n",
       "3  This light-filled home-away-from-home is super...          NaN   \n",
       "4  Cool, cozy, and comfortable studio located in ...   2015-05-12   \n",
       "\n",
       "  host_has_profile_pic host_identity_verified host_response_rate  host_since  \\\n",
       "0                    t                      t                NaN  2012-03-26   \n",
       "1                    t                      f               100%  2017-06-19   \n",
       "2                    t                      t               100%  2016-10-25   \n",
       "3                    t                      t                NaN  2015-04-19   \n",
       "4                    t                      t               100%  2015-03-01   \n",
       "\n",
       "  instant_bookable last_review   latitude   longitude  \\\n",
       "0                f  2016-07-18  40.696524  -73.991617   \n",
       "1                t  2017-09-23  40.766115  -73.989040   \n",
       "2                t  2017-09-14  40.808110  -73.943756   \n",
       "3                f         NaN  37.772004 -122.431619   \n",
       "4                t  2017-01-22  38.925627  -77.034596   \n",
       "\n",
       "                                       name     neighbourhood  \\\n",
       "0            Beautiful brownstone 1-bedroom  Brooklyn Heights   \n",
       "1  Superb 3BR Apt Located Near Times Square    Hell's Kitchen   \n",
       "2                          The Garden Oasis            Harlem   \n",
       "3        Beautiful Flat in the Heart of SF!      Lower Haight   \n",
       "4                Great studio in midtown DC  Columbia Heights   \n",
       "\n",
       "   number_of_reviews  review_scores_rating  \\\n",
       "0                  2                 100.0   \n",
       "1                  6                  93.0   \n",
       "2                 10                  92.0   \n",
       "3                  0                   NaN   \n",
       "4                  4                  40.0   \n",
       "\n",
       "                                       thumbnail_url  zipcode  bedrooms  beds  \\\n",
       "0  https://a0.muscache.com/im/pictures/6d7cbbf7-c...    11201       1.0   1.0   \n",
       "1  https://a0.muscache.com/im/pictures/348a55fe-4...    10019       3.0   3.0   \n",
       "2  https://a0.muscache.com/im/pictures/6fae5362-9...    10027       1.0   3.0   \n",
       "3  https://a0.muscache.com/im/pictures/72208dad-9...  94117.0       2.0   2.0   \n",
       "4                                                NaN    20009       0.0   1.0   \n",
       "\n",
       "   price  \n",
       "0  150.0  \n",
       "1  169.0  \n",
       "2  145.0  \n",
       "3  750.0  \n",
       "4  115.0  "
      ]
     },
     "execution_count": 9,
     "metadata": {},
     "output_type": "execute_result"
    }
   ],
   "source": [
    "df.head()"
   ]
  },
  {
   "cell_type": "code",
   "execution_count": 10,
   "metadata": {},
   "outputs": [
    {
     "data": {
      "text/plain": [
       "array(['Apartment', 'House', 'Condominium', 'Loft', 'Townhouse', 'Hostel',\n",
       "       'Guest suite', 'Bed & Breakfast', 'Bungalow', 'Guesthouse', 'Dorm',\n",
       "       'Other', 'Camper/RV', 'Villa', 'Boutique hotel', 'Timeshare',\n",
       "       'In-law', 'Boat', 'Serviced apartment', 'Castle', 'Cabin',\n",
       "       'Treehouse', 'Tipi', 'Vacation home', 'Tent', 'Hut',\n",
       "       'Casa particular', 'Chalet', 'Yurt', 'Earth House',\n",
       "       'Parking Space', 'Train', 'Cave', 'Lighthouse', 'Island'],\n",
       "      dtype=object)"
      ]
     },
     "execution_count": 10,
     "metadata": {},
     "output_type": "execute_result"
    }
   ],
   "source": [
    "#maybe combine categories\n",
    "df.property_type.unique()"
   ]
  },
  {
   "cell_type": "code",
   "execution_count": 11,
   "metadata": {},
   "outputs": [
    {
     "data": {
      "text/plain": [
       "(array([ 0,  1,  2,  3,  4,  5,  6,  7,  8,  9, 10, 11, 12, 13, 14, 15, 16,\n",
       "        17, 18, 19, 20, 21, 22, 23, 24, 25, 26, 27, 28, 29, 30, 31, 32, 33,\n",
       "        34]), <a list of 35 Text xticklabel objects>)"
      ]
     },
     "execution_count": 11,
     "metadata": {},
     "output_type": "execute_result"
    },
    {
     "data": {
      "image/png": "[encoded data removed]",
      "text/plain": [
       "<Figure size 432x288 with 1 Axes>"
      ]
     },
     "metadata": {
      "needs_background": "light"
     },
     "output_type": "display_data"
    }
   ],
   "source": [
    "#possibly combine categories\n",
    "import matplotlib.pyplot as plt\n",
    "sns.countplot(x='property_type', data=df)\n",
    "plt.xticks(rotation=90)"
   ]
  },
  {
   "cell_type": "code",
   "execution_count": 12,
   "metadata": {},
   "outputs": [
    {
     "data": {
      "text/plain": [
       "array(['Entire home/apt', 'Private room', 'Shared room'], dtype=object)"
      ]
     },
     "execution_count": 12,
     "metadata": {},
     "output_type": "execute_result"
    }
   ],
   "source": [
    "#use this \n",
    "df.room_type.unique()"
   ]
  },
  {
   "cell_type": "code",
   "execution_count": 13,
   "metadata": {},
   "outputs": [
    {
     "data": {
      "text/plain": [
       "(array([0, 1, 2]), <a list of 3 Text xticklabel objects>)"
      ]
     },
     "execution_count": 13,
     "metadata": {},
     "output_type": "execute_result"
    },
    {
     "data": {
      "image/png": "[encoded data removed]",
      "text/plain": [
       "<Figure size 432x288 with 1 Axes>"
      ]
     },
     "metadata": {
      "needs_background": "light"
     },
     "output_type": "display_data"
    }
   ],
   "source": [
    "sns.countplot(x='room_type', data=df)\n",
    "plt.xticks(rotation=90)"
   ]
  },
  {
   "cell_type": "code",
   "execution_count": 14,
   "metadata": {},
   "outputs": [
    {
     "data": {
      "text/plain": [
       "True"
      ]
     },
     "execution_count": 14,
     "metadata": {},
     "output_type": "execute_result"
    }
   ],
   "source": [
    "#possibly split up\n",
    "'internet' in df.amenities.head()[0].lower()"
   ]
  },
  {
   "cell_type": "code",
   "execution_count": 15,
   "metadata": {},
   "outputs": [],
   "source": [
    "df['internet'] = df.apply(lambda row: 'internet' in row.amenities.lower(), axis=1)"
   ]
  },
  {
   "cell_type": "code",
   "execution_count": 16,
   "metadata": {},
   "outputs": [
    {
     "data": {
      "text/html": [
       "<div>\n",
       "<style scoped>\n",
       "    .dataframe tbody tr th:only-of-type {\n",
       "        vertical-align: middle;\n",
       "    }\n",
       "\n",
       "    .dataframe tbody tr th {\n",
       "        vertical-align: top;\n",
       "    }\n",
       "\n",
       "    .dataframe thead th {\n",
       "        text-align: right;\n",
       "    }\n",
       "</style>\n",
       "<table border=\"1\" class=\"dataframe\">\n",
       "  <thead>\n",
       "    <tr style=\"text-align: right;\">\n",
       "      <th></th>\n",
       "      <th>internet</th>\n",
       "      <th>amenities</th>\n",
       "    </tr>\n",
       "  </thead>\n",
       "  <tbody>\n",
       "    <tr>\n",
       "      <th>0</th>\n",
       "      <td>True</td>\n",
       "      <td>{\"Wireless Internet\",\"Air conditioning\",Kitche...</td>\n",
       "    </tr>\n",
       "    <tr>\n",
       "      <th>1</th>\n",
       "      <td>True</td>\n",
       "      <td>{\"Wireless Internet\",\"Air conditioning\",Kitche...</td>\n",
       "    </tr>\n",
       "    <tr>\n",
       "      <th>2</th>\n",
       "      <td>True</td>\n",
       "      <td>{TV,\"Cable TV\",\"Wireless Internet\",\"Air condit...</td>\n",
       "    </tr>\n",
       "    <tr>\n",
       "      <th>3</th>\n",
       "      <td>True</td>\n",
       "      <td>{TV,\"Cable TV\",Internet,\"Wireless Internet\",Ki...</td>\n",
       "    </tr>\n",
       "    <tr>\n",
       "      <th>4</th>\n",
       "      <td>True</td>\n",
       "      <td>{TV,Internet,\"Wireless Internet\",\"Air conditio...</td>\n",
       "    </tr>\n",
       "  </tbody>\n",
       "</table>\n",
       "</div>"
      ],
      "text/plain": [
       "   internet                                          amenities\n",
       "0      True  {\"Wireless Internet\",\"Air conditioning\",Kitche...\n",
       "1      True  {\"Wireless Internet\",\"Air conditioning\",Kitche...\n",
       "2      True  {TV,\"Cable TV\",\"Wireless Internet\",\"Air condit...\n",
       "3      True  {TV,\"Cable TV\",Internet,\"Wireless Internet\",Ki...\n",
       "4      True  {TV,Internet,\"Wireless Internet\",\"Air conditio..."
      ]
     },
     "execution_count": 16,
     "metadata": {},
     "output_type": "execute_result"
    }
   ],
   "source": [
    "df[['internet', 'amenities']].head()"
   ]
  },
  {
   "cell_type": "code",
   "execution_count": 17,
   "metadata": {},
   "outputs": [
    {
     "data": {
      "text/html": [
       "<div>\n",
       "<style scoped>\n",
       "    .dataframe tbody tr th:only-of-type {\n",
       "        vertical-align: middle;\n",
       "    }\n",
       "\n",
       "    .dataframe tbody tr th {\n",
       "        vertical-align: top;\n",
       "    }\n",
       "\n",
       "    .dataframe thead th {\n",
       "        text-align: right;\n",
       "    }\n",
       "</style>\n",
       "<table border=\"1\" class=\"dataframe\">\n",
       "  <thead>\n",
       "    <tr style=\"text-align: right;\">\n",
       "      <th></th>\n",
       "      <th>TV</th>\n",
       "      <th>amenities</th>\n",
       "    </tr>\n",
       "  </thead>\n",
       "  <tbody>\n",
       "    <tr>\n",
       "      <th>0</th>\n",
       "      <td>False</td>\n",
       "      <td>{\"Wireless Internet\",\"Air conditioning\",Kitche...</td>\n",
       "    </tr>\n",
       "    <tr>\n",
       "      <th>1</th>\n",
       "      <td>False</td>\n",
       "      <td>{\"Wireless Internet\",\"Air conditioning\",Kitche...</td>\n",
       "    </tr>\n",
       "    <tr>\n",
       "      <th>2</th>\n",
       "      <td>True</td>\n",
       "      <td>{TV,\"Cable TV\",\"Wireless Internet\",\"Air condit...</td>\n",
       "    </tr>\n",
       "    <tr>\n",
       "      <th>3</th>\n",
       "      <td>True</td>\n",
       "      <td>{TV,\"Cable TV\",Internet,\"Wireless Internet\",Ki...</td>\n",
       "    </tr>\n",
       "    <tr>\n",
       "      <th>4</th>\n",
       "      <td>True</td>\n",
       "      <td>{TV,Internet,\"Wireless Internet\",\"Air conditio...</td>\n",
       "    </tr>\n",
       "  </tbody>\n",
       "</table>\n",
       "</div>"
      ],
      "text/plain": [
       "      TV                                          amenities\n",
       "0  False  {\"Wireless Internet\",\"Air conditioning\",Kitche...\n",
       "1  False  {\"Wireless Internet\",\"Air conditioning\",Kitche...\n",
       "2   True  {TV,\"Cable TV\",\"Wireless Internet\",\"Air condit...\n",
       "3   True  {TV,\"Cable TV\",Internet,\"Wireless Internet\",Ki...\n",
       "4   True  {TV,Internet,\"Wireless Internet\",\"Air conditio..."
      ]
     },
     "execution_count": 17,
     "metadata": {},
     "output_type": "execute_result"
    }
   ],
   "source": [
    "df['TV'] = df.apply(lambda row: 'tv' in row.amenities.lower(), axis=1)\n",
    "df[['TV', 'amenities']].head()"
   ]
  },
  {
   "cell_type": "code",
   "execution_count": 18,
   "metadata": {},
   "outputs": [
    {
     "data": {
      "text/html": [
       "<div>\n",
       "<style scoped>\n",
       "    .dataframe tbody tr th:only-of-type {\n",
       "        vertical-align: middle;\n",
       "    }\n",
       "\n",
       "    .dataframe tbody tr th {\n",
       "        vertical-align: top;\n",
       "    }\n",
       "\n",
       "    .dataframe thead th {\n",
       "        text-align: right;\n",
       "    }\n",
       "</style>\n",
       "<table border=\"1\" class=\"dataframe\">\n",
       "  <thead>\n",
       "    <tr style=\"text-align: right;\">\n",
       "      <th></th>\n",
       "      <th>air_conditioning</th>\n",
       "      <th>amenities</th>\n",
       "    </tr>\n",
       "  </thead>\n",
       "  <tbody>\n",
       "    <tr>\n",
       "      <th>0</th>\n",
       "      <td>True</td>\n",
       "      <td>{\"Wireless Internet\",\"Air conditioning\",Kitche...</td>\n",
       "    </tr>\n",
       "    <tr>\n",
       "      <th>1</th>\n",
       "      <td>True</td>\n",
       "      <td>{\"Wireless Internet\",\"Air conditioning\",Kitche...</td>\n",
       "    </tr>\n",
       "    <tr>\n",
       "      <th>2</th>\n",
       "      <td>True</td>\n",
       "      <td>{TV,\"Cable TV\",\"Wireless Internet\",\"Air condit...</td>\n",
       "    </tr>\n",
       "    <tr>\n",
       "      <th>3</th>\n",
       "      <td>False</td>\n",
       "      <td>{TV,\"Cable TV\",Internet,\"Wireless Internet\",Ki...</td>\n",
       "    </tr>\n",
       "    <tr>\n",
       "      <th>4</th>\n",
       "      <td>True</td>\n",
       "      <td>{TV,Internet,\"Wireless Internet\",\"Air conditio...</td>\n",
       "    </tr>\n",
       "  </tbody>\n",
       "</table>\n",
       "</div>"
      ],
      "text/plain": [
       "   air_conditioning                                          amenities\n",
       "0              True  {\"Wireless Internet\",\"Air conditioning\",Kitche...\n",
       "1              True  {\"Wireless Internet\",\"Air conditioning\",Kitche...\n",
       "2              True  {TV,\"Cable TV\",\"Wireless Internet\",\"Air condit...\n",
       "3             False  {TV,\"Cable TV\",Internet,\"Wireless Internet\",Ki...\n",
       "4              True  {TV,Internet,\"Wireless Internet\",\"Air conditio..."
      ]
     },
     "execution_count": 18,
     "metadata": {},
     "output_type": "execute_result"
    }
   ],
   "source": [
    "df['air_conditioning'] = df.apply(lambda row: 'air conditioning' in row.amenities.lower(), axis=1)\n",
    "df[['air_conditioning', 'amenities']].head()"
   ]
  },
  {
   "cell_type": "code",
   "execution_count": 19,
   "metadata": {},
   "outputs": [
    {
     "data": {
      "text/html": [
       "<div>\n",
       "<style scoped>\n",
       "    .dataframe tbody tr th:only-of-type {\n",
       "        vertical-align: middle;\n",
       "    }\n",
       "\n",
       "    .dataframe tbody tr th {\n",
       "        vertical-align: top;\n",
       "    }\n",
       "\n",
       "    .dataframe thead th {\n",
       "        text-align: right;\n",
       "    }\n",
       "</style>\n",
       "<table border=\"1\" class=\"dataframe\">\n",
       "  <thead>\n",
       "    <tr style=\"text-align: right;\">\n",
       "      <th></th>\n",
       "      <th>kitchen</th>\n",
       "      <th>amenities</th>\n",
       "    </tr>\n",
       "  </thead>\n",
       "  <tbody>\n",
       "    <tr>\n",
       "      <th>0</th>\n",
       "      <td>True</td>\n",
       "      <td>{\"Wireless Internet\",\"Air conditioning\",Kitche...</td>\n",
       "    </tr>\n",
       "    <tr>\n",
       "      <th>1</th>\n",
       "      <td>True</td>\n",
       "      <td>{\"Wireless Internet\",\"Air conditioning\",Kitche...</td>\n",
       "    </tr>\n",
       "    <tr>\n",
       "      <th>2</th>\n",
       "      <td>True</td>\n",
       "      <td>{TV,\"Cable TV\",\"Wireless Internet\",\"Air condit...</td>\n",
       "    </tr>\n",
       "    <tr>\n",
       "      <th>3</th>\n",
       "      <td>True</td>\n",
       "      <td>{TV,\"Cable TV\",Internet,\"Wireless Internet\",Ki...</td>\n",
       "    </tr>\n",
       "    <tr>\n",
       "      <th>4</th>\n",
       "      <td>True</td>\n",
       "      <td>{TV,Internet,\"Wireless Internet\",\"Air conditio...</td>\n",
       "    </tr>\n",
       "  </tbody>\n",
       "</table>\n",
       "</div>"
      ],
      "text/plain": [
       "   kitchen                                          amenities\n",
       "0     True  {\"Wireless Internet\",\"Air conditioning\",Kitche...\n",
       "1     True  {\"Wireless Internet\",\"Air conditioning\",Kitche...\n",
       "2     True  {TV,\"Cable TV\",\"Wireless Internet\",\"Air condit...\n",
       "3     True  {TV,\"Cable TV\",Internet,\"Wireless Internet\",Ki...\n",
       "4     True  {TV,Internet,\"Wireless Internet\",\"Air conditio..."
      ]
     },
     "execution_count": 19,
     "metadata": {},
     "output_type": "execute_result"
    }
   ],
   "source": [
    "df['kitchen'] = df.apply(lambda row: 'kitchen' in row.amenities.lower(), axis=1)\n",
    "df[['kitchen', 'amenities']].head()"
   ]
  },
  {
   "cell_type": "code",
   "execution_count": 20,
   "metadata": {},
   "outputs": [
    {
     "data": {
      "text/html": [
       "<div>\n",
       "<style scoped>\n",
       "    .dataframe tbody tr th:only-of-type {\n",
       "        vertical-align: middle;\n",
       "    }\n",
       "\n",
       "    .dataframe tbody tr th {\n",
       "        vertical-align: top;\n",
       "    }\n",
       "\n",
       "    .dataframe thead th {\n",
       "        text-align: right;\n",
       "    }\n",
       "</style>\n",
       "<table border=\"1\" class=\"dataframe\">\n",
       "  <thead>\n",
       "    <tr style=\"text-align: right;\">\n",
       "      <th></th>\n",
       "      <th>pool</th>\n",
       "      <th>amenities</th>\n",
       "    </tr>\n",
       "  </thead>\n",
       "  <tbody>\n",
       "    <tr>\n",
       "      <th>0</th>\n",
       "      <td>False</td>\n",
       "      <td>{\"Wireless Internet\",\"Air conditioning\",Kitche...</td>\n",
       "    </tr>\n",
       "    <tr>\n",
       "      <th>1</th>\n",
       "      <td>False</td>\n",
       "      <td>{\"Wireless Internet\",\"Air conditioning\",Kitche...</td>\n",
       "    </tr>\n",
       "    <tr>\n",
       "      <th>2</th>\n",
       "      <td>False</td>\n",
       "      <td>{TV,\"Cable TV\",\"Wireless Internet\",\"Air condit...</td>\n",
       "    </tr>\n",
       "    <tr>\n",
       "      <th>3</th>\n",
       "      <td>False</td>\n",
       "      <td>{TV,\"Cable TV\",Internet,\"Wireless Internet\",Ki...</td>\n",
       "    </tr>\n",
       "    <tr>\n",
       "      <th>4</th>\n",
       "      <td>False</td>\n",
       "      <td>{TV,Internet,\"Wireless Internet\",\"Air conditio...</td>\n",
       "    </tr>\n",
       "  </tbody>\n",
       "</table>\n",
       "</div>"
      ],
      "text/plain": [
       "    pool                                          amenities\n",
       "0  False  {\"Wireless Internet\",\"Air conditioning\",Kitche...\n",
       "1  False  {\"Wireless Internet\",\"Air conditioning\",Kitche...\n",
       "2  False  {TV,\"Cable TV\",\"Wireless Internet\",\"Air condit...\n",
       "3  False  {TV,\"Cable TV\",Internet,\"Wireless Internet\",Ki...\n",
       "4  False  {TV,Internet,\"Wireless Internet\",\"Air conditio..."
      ]
     },
     "execution_count": 20,
     "metadata": {},
     "output_type": "execute_result"
    }
   ],
   "source": [
    "df['pool'] = df.apply(lambda row: 'pool' in row.amenities.lower(), axis=1)\n",
    "df[['pool', 'amenities']].head()"
   ]
  },
  {
   "cell_type": "code",
   "execution_count": 21,
   "metadata": {},
   "outputs": [
    {
     "data": {
      "text/html": [
       "<div>\n",
       "<style scoped>\n",
       "    .dataframe tbody tr th:only-of-type {\n",
       "        vertical-align: middle;\n",
       "    }\n",
       "\n",
       "    .dataframe tbody tr th {\n",
       "        vertical-align: top;\n",
       "    }\n",
       "\n",
       "    .dataframe thead th {\n",
       "        text-align: right;\n",
       "    }\n",
       "</style>\n",
       "<table border=\"1\" class=\"dataframe\">\n",
       "  <thead>\n",
       "    <tr style=\"text-align: right;\">\n",
       "      <th></th>\n",
       "      <th>parking</th>\n",
       "      <th>amenities</th>\n",
       "    </tr>\n",
       "  </thead>\n",
       "  <tbody>\n",
       "    <tr>\n",
       "      <th>0</th>\n",
       "      <td>False</td>\n",
       "      <td>{\"Wireless Internet\",\"Air conditioning\",Kitche...</td>\n",
       "    </tr>\n",
       "    <tr>\n",
       "      <th>1</th>\n",
       "      <td>False</td>\n",
       "      <td>{\"Wireless Internet\",\"Air conditioning\",Kitche...</td>\n",
       "    </tr>\n",
       "    <tr>\n",
       "      <th>2</th>\n",
       "      <td>False</td>\n",
       "      <td>{TV,\"Cable TV\",\"Wireless Internet\",\"Air condit...</td>\n",
       "    </tr>\n",
       "    <tr>\n",
       "      <th>3</th>\n",
       "      <td>False</td>\n",
       "      <td>{TV,\"Cable TV\",Internet,\"Wireless Internet\",Ki...</td>\n",
       "    </tr>\n",
       "    <tr>\n",
       "      <th>4</th>\n",
       "      <td>False</td>\n",
       "      <td>{TV,Internet,\"Wireless Internet\",\"Air conditio...</td>\n",
       "    </tr>\n",
       "  </tbody>\n",
       "</table>\n",
       "</div>"
      ],
      "text/plain": [
       "   parking                                          amenities\n",
       "0    False  {\"Wireless Internet\",\"Air conditioning\",Kitche...\n",
       "1    False  {\"Wireless Internet\",\"Air conditioning\",Kitche...\n",
       "2    False  {TV,\"Cable TV\",\"Wireless Internet\",\"Air condit...\n",
       "3    False  {TV,\"Cable TV\",Internet,\"Wireless Internet\",Ki...\n",
       "4    False  {TV,Internet,\"Wireless Internet\",\"Air conditio..."
      ]
     },
     "execution_count": 21,
     "metadata": {},
     "output_type": "execute_result"
    }
   ],
   "source": [
    "df['parking'] = df.apply(lambda row: 'parking' in row.amenities.lower(), axis=1)\n",
    "df[['parking', 'amenities']].head()"
   ]
  },
  {
   "cell_type": "code",
   "execution_count": 22,
   "metadata": {},
   "outputs": [
    {
     "data": {
      "text/plain": [
       "<matplotlib.axes._subplots.AxesSubplot at 0x1a23168be0>"
      ]
     },
     "execution_count": 22,
     "metadata": {},
     "output_type": "execute_result"
    },
    {
     "data": {
      "image/png": "[encoded data removed]",
      "text/plain": [
       "<Figure size 432x288 with 1 Axes>"
      ]
     },
     "metadata": {
      "needs_background": "light"
     },
     "output_type": "display_data"
    }
   ],
   "source": [
    "sns.kdeplot(df.price)"
   ]
  },
  {
   "cell_type": "code",
   "execution_count": 23,
   "metadata": {},
   "outputs": [
    {
     "data": {
      "text/plain": [
       "array([ 3,  7,  5,  4,  2,  6,  8,  1,  9, 10, 16, 11, 12, 14, 13, 15])"
      ]
     },
     "execution_count": 23,
     "metadata": {},
     "output_type": "execute_result"
    }
   ],
   "source": [
    "df.accommodates.unique()"
   ]
  },
  {
   "cell_type": "code",
   "execution_count": 24,
   "metadata": {},
   "outputs": [
    {
     "data": {
      "text/plain": [
       "array([1. , 1.5, 2. , nan, 2.5, 3. , 0.5, 4.5, 5. , 0. , 4. , 3.5, 5.5,\n",
       "       7.5, 6. , 8. , 7. , 6.5])"
      ]
     },
     "execution_count": 24,
     "metadata": {},
     "output_type": "execute_result"
    }
   ],
   "source": [
    "df.bathrooms.unique()"
   ]
  },
  {
   "cell_type": "code",
   "execution_count": 25,
   "metadata": {},
   "outputs": [
    {
     "data": {
      "text/plain": [
       "array(['Real Bed', 'Futon', 'Pull-out Sofa', 'Couch', 'Airbed'],\n",
       "      dtype=object)"
      ]
     },
     "execution_count": 25,
     "metadata": {},
     "output_type": "execute_result"
    }
   ],
   "source": [
    "df.bed_type.unique()"
   ]
  },
  {
   "cell_type": "code",
   "execution_count": 26,
   "metadata": {},
   "outputs": [
    {
     "data": {
      "text/plain": [
       "array(['strict', 'moderate', 'flexible', 'super_strict_30',\n",
       "       'super_strict_60'], dtype=object)"
      ]
     },
     "execution_count": 26,
     "metadata": {},
     "output_type": "execute_result"
    }
   ],
   "source": [
    "df.cancellation_policy.unique()"
   ]
  },
  {
   "cell_type": "code",
   "execution_count": 27,
   "metadata": {},
   "outputs": [
    {
     "data": {
      "text/plain": [
       "array([ True, False])"
      ]
     },
     "execution_count": 27,
     "metadata": {},
     "output_type": "execute_result"
    }
   ],
   "source": [
    "df.cleaning_fee.unique()"
   ]
  },
  {
   "cell_type": "code",
   "execution_count": 28,
   "metadata": {},
   "outputs": [
    {
     "data": {
      "text/plain": [
       "array(['NYC', 'SF', 'DC', 'LA', 'Chicago', 'Boston'], dtype=object)"
      ]
     },
     "execution_count": 28,
     "metadata": {},
     "output_type": "execute_result"
    }
   ],
   "source": [
    "df.city.unique()"
   ]
  },
  {
   "cell_type": "code",
   "execution_count": 29,
   "metadata": {},
   "outputs": [
    {
     "data": {
      "text/plain": [
       "0    2016-06-18\n",
       "1    2017-08-05\n",
       "2    2017-04-30\n",
       "3           NaN\n",
       "4    2015-05-12\n",
       "Name: first_review, dtype: object"
      ]
     },
     "execution_count": 29,
     "metadata": {},
     "output_type": "execute_result"
    }
   ],
   "source": [
    "df.first_review.head()"
   ]
  },
  {
   "cell_type": "code",
   "execution_count": 30,
   "metadata": {},
   "outputs": [
    {
     "data": {
      "text/plain": [
       "array([nan, '100%', '71%', '68%', '67%', '83%', '50%', '90%', '86%',\n",
       "       '92%', '82%', '80%', '89%', '93%', '99%', '0%', '88%', '96%',\n",
       "       '70%', '94%', '91%', '25%', '95%', '98%', '62%', '29%', '33%',\n",
       "       '81%', '63%', '38%', '60%', '79%', '78%', '75%', '65%', '97%',\n",
       "       '87%', '40%', '54%', '53%', '58%', '76%', '30%', '64%', '17%',\n",
       "       '20%', '77%', '73%', '41%', '59%', '57%', '85%', '56%', '42%',\n",
       "       '44%', '35%', '14%', '74%', '27%', '10%', '84%', '6%', '72%',\n",
       "       '36%', '55%', '43%', '13%', '39%', '46%', '26%', '61%', '52%',\n",
       "       '23%', '22%', '69%', '66%', '15%', '11%', '31%', '21%', '47%'],\n",
       "      dtype=object)"
      ]
     },
     "execution_count": 30,
     "metadata": {},
     "output_type": "execute_result"
    }
   ],
   "source": [
    "df.host_response_rate.unique()"
   ]
  },
  {
   "cell_type": "code",
   "execution_count": 31,
   "metadata": {},
   "outputs": [
    {
     "data": {
      "text/plain": [
       "array(['t', nan, 'f'], dtype=object)"
      ]
     },
     "execution_count": 31,
     "metadata": {},
     "output_type": "execute_result"
    }
   ],
   "source": [
    "df.host_has_profile_pic.unique()"
   ]
  },
  {
   "cell_type": "code",
   "execution_count": 32,
   "metadata": {},
   "outputs": [
    {
     "data": {
      "text/plain": [
       "array(['t', 'f', nan], dtype=object)"
      ]
     },
     "execution_count": 32,
     "metadata": {},
     "output_type": "execute_result"
    }
   ],
   "source": [
    "df.host_identity_verified.unique()"
   ]
  },
  {
   "cell_type": "code",
   "execution_count": 33,
   "metadata": {},
   "outputs": [
    {
     "data": {
      "text/plain": [
       "0    2012-03-26\n",
       "1    2017-06-19\n",
       "2    2016-10-25\n",
       "3    2015-04-19\n",
       "4    2015-03-01\n",
       "Name: host_since, dtype: object"
      ]
     },
     "execution_count": 33,
     "metadata": {},
     "output_type": "execute_result"
    }
   ],
   "source": [
    "df.host_since.head()"
   ]
  },
  {
   "cell_type": "code",
   "execution_count": 34,
   "metadata": {},
   "outputs": [
    {
     "data": {
      "text/plain": [
       "<matplotlib.axes._subplots.AxesSubplot at 0x1a25240940>"
      ]
     },
     "execution_count": 34,
     "metadata": {},
     "output_type": "execute_result"
    },
    {
     "data": {
      "image/png": "[encoded data removed]",
      "text/plain": [
       "<Figure size 432x288 with 1 Axes>"
      ]
     },
     "metadata": {
      "needs_background": "light"
     },
     "output_type": "display_data"
    }
   ],
   "source": [
    "sns.violinplot(df.review_scores_rating)"
   ]
  },
  {
   "cell_type": "code",
   "execution_count": 35,
   "metadata": {},
   "outputs": [
    {
     "data": {
      "text/plain": [
       "<matplotlib.axes._subplots.AxesSubplot at 0x1a25a210f0>"
      ]
     },
     "execution_count": 35,
     "metadata": {},
     "output_type": "execute_result"
    },
    {
     "data": {
      "image/png": "[encoded data removed]",
      "text/plain": [
       "<Figure size 432x288 with 1 Axes>"
      ]
     },
     "metadata": {
      "needs_background": "light"
     },
     "output_type": "display_data"
    }
   ],
   "source": [
    "sns.boxplot(df.review_scores_rating)"
   ]
  },
  {
   "cell_type": "code",
   "execution_count": 36,
   "metadata": {},
   "outputs": [],
   "source": [
    "df['grade'] = pd.cut(df.review_scores_rating, [0,60,70,80,90,101], right=False, labels = ['F', 'D', 'C', 'B', 'A'])"
   ]
  },
  {
   "cell_type": "code",
   "execution_count": 37,
   "metadata": {},
   "outputs": [
    {
     "data": {
      "text/html": [
       "<div>\n",
       "<style scoped>\n",
       "    .dataframe tbody tr th:only-of-type {\n",
       "        vertical-align: middle;\n",
       "    }\n",
       "\n",
       "    .dataframe tbody tr th {\n",
       "        vertical-align: top;\n",
       "    }\n",
       "\n",
       "    .dataframe thead th {\n",
       "        text-align: right;\n",
       "    }\n",
       "</style>\n",
       "<table border=\"1\" class=\"dataframe\">\n",
       "  <thead>\n",
       "    <tr style=\"text-align: right;\">\n",
       "      <th></th>\n",
       "      <th>grade</th>\n",
       "      <th>review_scores_rating</th>\n",
       "    </tr>\n",
       "  </thead>\n",
       "  <tbody>\n",
       "    <tr>\n",
       "      <th>0</th>\n",
       "      <td>A</td>\n",
       "      <td>100.0</td>\n",
       "    </tr>\n",
       "    <tr>\n",
       "      <th>1</th>\n",
       "      <td>A</td>\n",
       "      <td>93.0</td>\n",
       "    </tr>\n",
       "    <tr>\n",
       "      <th>2</th>\n",
       "      <td>A</td>\n",
       "      <td>92.0</td>\n",
       "    </tr>\n",
       "    <tr>\n",
       "      <th>3</th>\n",
       "      <td>NaN</td>\n",
       "      <td>NaN</td>\n",
       "    </tr>\n",
       "    <tr>\n",
       "      <th>4</th>\n",
       "      <td>F</td>\n",
       "      <td>40.0</td>\n",
       "    </tr>\n",
       "  </tbody>\n",
       "</table>\n",
       "</div>"
      ],
      "text/plain": [
       "  grade  review_scores_rating\n",
       "0     A                 100.0\n",
       "1     A                  93.0\n",
       "2     A                  92.0\n",
       "3   NaN                   NaN\n",
       "4     F                  40.0"
      ]
     },
     "execution_count": 37,
     "metadata": {},
     "output_type": "execute_result"
    }
   ],
   "source": [
    "df[['grade', 'review_scores_rating']].head()"
   ]
  },
  {
   "cell_type": "code",
   "execution_count": 38,
   "metadata": {},
   "outputs": [
    {
     "data": {
      "text/plain": [
       "<matplotlib.axes._subplots.AxesSubplot at 0x1a239feeb8>"
      ]
     },
     "execution_count": 38,
     "metadata": {},
     "output_type": "execute_result"
    },
    {
     "data": {
      "image/png": "[encoded data removed]",
      "text/plain": [
       "<Figure size 432x288 with 1 Axes>"
      ]
     },
     "metadata": {
      "needs_background": "light"
     },
     "output_type": "display_data"
    }
   ],
   "source": [
    "sns.countplot(df.grade)"
   ]
  },
  {
   "cell_type": "code",
   "execution_count": 39,
   "metadata": {},
   "outputs": [
    {
     "data": {
      "text/html": [
       "<div>\n",
       "<style scoped>\n",
       "    .dataframe tbody tr th:only-of-type {\n",
       "        vertical-align: middle;\n",
       "    }\n",
       "\n",
       "    .dataframe tbody tr th {\n",
       "        vertical-align: top;\n",
       "    }\n",
       "\n",
       "    .dataframe thead th {\n",
       "        text-align: right;\n",
       "    }\n",
       "</style>\n",
       "<table border=\"1\" class=\"dataframe\">\n",
       "  <thead>\n",
       "    <tr style=\"text-align: right;\">\n",
       "      <th></th>\n",
       "      <th>log_price</th>\n",
       "      <th>property_type</th>\n",
       "      <th>room_type</th>\n",
       "      <th>amenities</th>\n",
       "      <th>accommodates</th>\n",
       "      <th>bathrooms</th>\n",
       "      <th>bed_type</th>\n",
       "      <th>cancellation_policy</th>\n",
       "      <th>cleaning_fee</th>\n",
       "      <th>city</th>\n",
       "      <th>description</th>\n",
       "      <th>first_review</th>\n",
       "      <th>host_has_profile_pic</th>\n",
       "      <th>host_identity_verified</th>\n",
       "      <th>host_response_rate</th>\n",
       "      <th>host_since</th>\n",
       "      <th>instant_bookable</th>\n",
       "      <th>last_review</th>\n",
       "      <th>latitude</th>\n",
       "      <th>longitude</th>\n",
       "      <th>name</th>\n",
       "      <th>neighbourhood</th>\n",
       "      <th>number_of_reviews</th>\n",
       "      <th>review_scores_rating</th>\n",
       "      <th>thumbnail_url</th>\n",
       "      <th>zipcode</th>\n",
       "      <th>bedrooms</th>\n",
       "      <th>beds</th>\n",
       "      <th>price</th>\n",
       "      <th>internet</th>\n",
       "      <th>TV</th>\n",
       "      <th>air_conditioning</th>\n",
       "      <th>kitchen</th>\n",
       "      <th>pool</th>\n",
       "      <th>parking</th>\n",
       "    </tr>\n",
       "    <tr>\n",
       "      <th>grade</th>\n",
       "      <th></th>\n",
       "      <th></th>\n",
       "      <th></th>\n",
       "      <th></th>\n",
       "      <th></th>\n",
       "      <th></th>\n",
       "      <th></th>\n",
       "      <th></th>\n",
       "      <th></th>\n",
       "      <th></th>\n",
       "      <th></th>\n",
       "      <th></th>\n",
       "      <th></th>\n",
       "      <th></th>\n",
       "      <th></th>\n",
       "      <th></th>\n",
       "      <th></th>\n",
       "      <th></th>\n",
       "      <th></th>\n",
       "      <th></th>\n",
       "      <th></th>\n",
       "      <th></th>\n",
       "      <th></th>\n",
       "      <th></th>\n",
       "      <th></th>\n",
       "      <th></th>\n",
       "      <th></th>\n",
       "      <th></th>\n",
       "      <th></th>\n",
       "      <th></th>\n",
       "      <th></th>\n",
       "      <th></th>\n",
       "      <th></th>\n",
       "      <th></th>\n",
       "      <th></th>\n",
       "    </tr>\n",
       "  </thead>\n",
       "  <tbody>\n",
       "    <tr>\n",
       "      <th>F</th>\n",
       "      <td>249</td>\n",
       "      <td>249</td>\n",
       "      <td>249</td>\n",
       "      <td>249</td>\n",
       "      <td>249</td>\n",
       "      <td>249</td>\n",
       "      <td>249</td>\n",
       "      <td>249</td>\n",
       "      <td>249</td>\n",
       "      <td>249</td>\n",
       "      <td>249</td>\n",
       "      <td>248</td>\n",
       "      <td>249</td>\n",
       "      <td>249</td>\n",
       "      <td>162</td>\n",
       "      <td>249</td>\n",
       "      <td>249</td>\n",
       "      <td>248</td>\n",
       "      <td>249</td>\n",
       "      <td>249</td>\n",
       "      <td>249</td>\n",
       "      <td>210</td>\n",
       "      <td>249</td>\n",
       "      <td>249</td>\n",
       "      <td>215</td>\n",
       "      <td>241</td>\n",
       "      <td>249</td>\n",
       "      <td>247</td>\n",
       "      <td>249</td>\n",
       "      <td>249</td>\n",
       "      <td>249</td>\n",
       "      <td>249</td>\n",
       "      <td>249</td>\n",
       "      <td>249</td>\n",
       "      <td>249</td>\n",
       "    </tr>\n",
       "    <tr>\n",
       "      <th>D</th>\n",
       "      <td>598</td>\n",
       "      <td>598</td>\n",
       "      <td>598</td>\n",
       "      <td>598</td>\n",
       "      <td>598</td>\n",
       "      <td>596</td>\n",
       "      <td>598</td>\n",
       "      <td>598</td>\n",
       "      <td>598</td>\n",
       "      <td>598</td>\n",
       "      <td>598</td>\n",
       "      <td>598</td>\n",
       "      <td>597</td>\n",
       "      <td>597</td>\n",
       "      <td>379</td>\n",
       "      <td>597</td>\n",
       "      <td>598</td>\n",
       "      <td>598</td>\n",
       "      <td>598</td>\n",
       "      <td>598</td>\n",
       "      <td>598</td>\n",
       "      <td>534</td>\n",
       "      <td>598</td>\n",
       "      <td>598</td>\n",
       "      <td>502</td>\n",
       "      <td>592</td>\n",
       "      <td>598</td>\n",
       "      <td>595</td>\n",
       "      <td>598</td>\n",
       "      <td>598</td>\n",
       "      <td>598</td>\n",
       "      <td>598</td>\n",
       "      <td>598</td>\n",
       "      <td>598</td>\n",
       "      <td>598</td>\n",
       "    </tr>\n",
       "    <tr>\n",
       "      <th>C</th>\n",
       "      <td>872</td>\n",
       "      <td>872</td>\n",
       "      <td>872</td>\n",
       "      <td>872</td>\n",
       "      <td>872</td>\n",
       "      <td>869</td>\n",
       "      <td>872</td>\n",
       "      <td>872</td>\n",
       "      <td>872</td>\n",
       "      <td>872</td>\n",
       "      <td>872</td>\n",
       "      <td>872</td>\n",
       "      <td>869</td>\n",
       "      <td>869</td>\n",
       "      <td>717</td>\n",
       "      <td>869</td>\n",
       "      <td>872</td>\n",
       "      <td>872</td>\n",
       "      <td>872</td>\n",
       "      <td>872</td>\n",
       "      <td>872</td>\n",
       "      <td>771</td>\n",
       "      <td>872</td>\n",
       "      <td>872</td>\n",
       "      <td>747</td>\n",
       "      <td>862</td>\n",
       "      <td>867</td>\n",
       "      <td>869</td>\n",
       "      <td>872</td>\n",
       "      <td>872</td>\n",
       "      <td>872</td>\n",
       "      <td>872</td>\n",
       "      <td>872</td>\n",
       "      <td>872</td>\n",
       "      <td>872</td>\n",
       "    </tr>\n",
       "    <tr>\n",
       "      <th>B</th>\n",
       "      <td>7773</td>\n",
       "      <td>7773</td>\n",
       "      <td>7773</td>\n",
       "      <td>7773</td>\n",
       "      <td>7773</td>\n",
       "      <td>7732</td>\n",
       "      <td>7773</td>\n",
       "      <td>7773</td>\n",
       "      <td>7773</td>\n",
       "      <td>7773</td>\n",
       "      <td>7773</td>\n",
       "      <td>7773</td>\n",
       "      <td>7750</td>\n",
       "      <td>7750</td>\n",
       "      <td>6337</td>\n",
       "      <td>7750</td>\n",
       "      <td>7773</td>\n",
       "      <td>7773</td>\n",
       "      <td>7773</td>\n",
       "      <td>7773</td>\n",
       "      <td>7773</td>\n",
       "      <td>7119</td>\n",
       "      <td>7773</td>\n",
       "      <td>7773</td>\n",
       "      <td>6926</td>\n",
       "      <td>7702</td>\n",
       "      <td>7765</td>\n",
       "      <td>7762</td>\n",
       "      <td>7773</td>\n",
       "      <td>7773</td>\n",
       "      <td>7773</td>\n",
       "      <td>7773</td>\n",
       "      <td>7773</td>\n",
       "      <td>7773</td>\n",
       "      <td>7773</td>\n",
       "    </tr>\n",
       "    <tr>\n",
       "      <th>A</th>\n",
       "      <td>47897</td>\n",
       "      <td>47897</td>\n",
       "      <td>47897</td>\n",
       "      <td>47897</td>\n",
       "      <td>47897</td>\n",
       "      <td>47784</td>\n",
       "      <td>47897</td>\n",
       "      <td>47897</td>\n",
       "      <td>47897</td>\n",
       "      <td>47897</td>\n",
       "      <td>47897</td>\n",
       "      <td>47897</td>\n",
       "      <td>47783</td>\n",
       "      <td>47783</td>\n",
       "      <td>40408</td>\n",
       "      <td>47783</td>\n",
       "      <td>47897</td>\n",
       "      <td>47897</td>\n",
       "      <td>47897</td>\n",
       "      <td>47897</td>\n",
       "      <td>47897</td>\n",
       "      <td>43709</td>\n",
       "      <td>47897</td>\n",
       "      <td>47897</td>\n",
       "      <td>43202</td>\n",
       "      <td>47315</td>\n",
       "      <td>47840</td>\n",
       "      <td>47854</td>\n",
       "      <td>47897</td>\n",
       "      <td>47897</td>\n",
       "      <td>47897</td>\n",
       "      <td>47897</td>\n",
       "      <td>47897</td>\n",
       "      <td>47897</td>\n",
       "      <td>47897</td>\n",
       "    </tr>\n",
       "  </tbody>\n",
       "</table>\n",
       "</div>"
      ],
      "text/plain": [
       "       log_price  property_type  room_type  amenities  accommodates  \\\n",
       "grade                                                                 \n",
       "F            249            249        249        249           249   \n",
       "D            598            598        598        598           598   \n",
       "C            872            872        872        872           872   \n",
       "B           7773           7773       7773       7773          7773   \n",
       "A          47897          47897      47897      47897         47897   \n",
       "\n",
       "       bathrooms  bed_type  cancellation_policy  cleaning_fee   city  \\\n",
       "grade                                                                  \n",
       "F            249       249                  249           249    249   \n",
       "D            596       598                  598           598    598   \n",
       "C            869       872                  872           872    872   \n",
       "B           7732      7773                 7773          7773   7773   \n",
       "A          47784     47897                47897         47897  47897   \n",
       "\n",
       "       description  first_review  host_has_profile_pic  \\\n",
       "grade                                                    \n",
       "F              249           248                   249   \n",
       "D              598           598                   597   \n",
       "C              872           872                   869   \n",
       "B             7773          7773                  7750   \n",
       "A            47897         47897                 47783   \n",
       "\n",
       "       host_identity_verified  host_response_rate  host_since  \\\n",
       "grade                                                           \n",
       "F                         249                 162         249   \n",
       "D                         597                 379         597   \n",
       "C                         869                 717         869   \n",
       "B                        7750                6337        7750   \n",
       "A                       47783               40408       47783   \n",
       "\n",
       "       instant_bookable  last_review  latitude  longitude   name  \\\n",
       "grade                                                              \n",
       "F                   249          248       249        249    249   \n",
       "D                   598          598       598        598    598   \n",
       "C                   872          872       872        872    872   \n",
       "B                  7773         7773      7773       7773   7773   \n",
       "A                 47897        47897     47897      47897  47897   \n",
       "\n",
       "       neighbourhood  number_of_reviews  review_scores_rating  thumbnail_url  \\\n",
       "grade                                                                          \n",
       "F                210                249                   249            215   \n",
       "D                534                598                   598            502   \n",
       "C                771                872                   872            747   \n",
       "B               7119               7773                  7773           6926   \n",
       "A              43709              47897                 47897          43202   \n",
       "\n",
       "       zipcode  bedrooms   beds  price  internet     TV  air_conditioning  \\\n",
       "grade                                                                       \n",
       "F          241       249    247    249       249    249               249   \n",
       "D          592       598    595    598       598    598               598   \n",
       "C          862       867    869    872       872    872               872   \n",
       "B         7702      7765   7762   7773      7773   7773              7773   \n",
       "A        47315     47840  47854  47897     47897  47897             47897   \n",
       "\n",
       "       kitchen   pool  parking  \n",
       "grade                           \n",
       "F          249    249      249  \n",
       "D          598    598      598  \n",
       "C          872    872      872  \n",
       "B         7773   7773     7773  \n",
       "A        47897  47897    47897  "
      ]
     },
     "execution_count": 39,
     "metadata": {},
     "output_type": "execute_result"
    }
   ],
   "source": [
    "df.groupby('grade').count()"
   ]
  },
  {
   "cell_type": "code",
   "execution_count": null,
   "metadata": {},
   "outputs": [],
   "source": []
  }
 ],
 "metadata": {
  "kernelspec": {
   "display_name": "Python 3",
   "language": "python",
   "name": "python3"
  },
  "language_info": {
   "codemirror_mode": {
    "name": "ipython",
    "version": 3
   },
   "file_extension": ".py",
   "mimetype": "text/x-python",
   "name": "python",
   "nbconvert_exporter": "python",
   "pygments_lexer": "ipython3",
   "version": "3.7.3"
  }
 },
 "nbformat": 4,
 "nbformat_minor": 2
}
