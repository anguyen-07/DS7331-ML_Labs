{
 "cells": [
  {
   "cell_type": "code",
   "execution_count": 1,
   "metadata": {},
   "outputs": [],
   "source": [
    "import pandas as pd\n",
    "import numpy as np\n",
    "import seaborn as sns\n",
    "import datetime\n",
    "import csv\n",
    "import matplotlib.pyplot as plt\n",
    "import plotly.graph_objects as go\n",
    "import warnings\n",
    "\n",
    "%matplotlib inline\n",
    "warnings.filterwarnings('ignore')"
   ]
  },
  {
   "cell_type": "code",
   "execution_count": 2,
   "metadata": {},
   "outputs": [],
   "source": [
    "df = pd.read_csv('https://raw.githubusercontent.com/anguyen-07/DS7331-ML_Labs/master/data/airbnb_train.csv')"
   ]
  },
  {
   "cell_type": "code",
   "execution_count": 3,
   "metadata": {},
   "outputs": [
    {
     "data": {
      "text/html": [
       "<div>\n",
       "<style scoped>\n",
       "    .dataframe tbody tr th:only-of-type {\n",
       "        vertical-align: middle;\n",
       "    }\n",
       "\n",
       "    .dataframe tbody tr th {\n",
       "        vertical-align: top;\n",
       "    }\n",
       "\n",
       "    .dataframe thead th {\n",
       "        text-align: right;\n",
       "    }\n",
       "</style>\n",
       "<table border=\"1\" class=\"dataframe\">\n",
       "  <thead>\n",
       "    <tr style=\"text-align: right;\">\n",
       "      <th></th>\n",
       "      <th>id</th>\n",
       "      <th>log_price</th>\n",
       "      <th>property_type</th>\n",
       "      <th>room_type</th>\n",
       "      <th>amenities</th>\n",
       "      <th>accommodates</th>\n",
       "      <th>bathrooms</th>\n",
       "      <th>bed_type</th>\n",
       "      <th>cancellation_policy</th>\n",
       "      <th>cleaning_fee</th>\n",
       "      <th>city</th>\n",
       "      <th>description</th>\n",
       "      <th>first_review</th>\n",
       "      <th>host_has_profile_pic</th>\n",
       "      <th>host_identity_verified</th>\n",
       "      <th>host_response_rate</th>\n",
       "      <th>host_since</th>\n",
       "      <th>instant_bookable</th>\n",
       "      <th>last_review</th>\n",
       "      <th>latitude</th>\n",
       "      <th>longitude</th>\n",
       "      <th>name</th>\n",
       "      <th>neighbourhood</th>\n",
       "      <th>number_of_reviews</th>\n",
       "      <th>review_scores_rating</th>\n",
       "      <th>thumbnail_url</th>\n",
       "      <th>zipcode</th>\n",
       "      <th>bedrooms</th>\n",
       "      <th>beds</th>\n",
       "    </tr>\n",
       "  </thead>\n",
       "  <tbody>\n",
       "    <tr>\n",
       "      <td>0</td>\n",
       "      <td>6901257</td>\n",
       "      <td>5.010635</td>\n",
       "      <td>Apartment</td>\n",
       "      <td>Entire home/apt</td>\n",
       "      <td>{\"Wireless Internet\",\"Air conditioning\",Kitche...</td>\n",
       "      <td>3</td>\n",
       "      <td>1.0</td>\n",
       "      <td>Real Bed</td>\n",
       "      <td>strict</td>\n",
       "      <td>True</td>\n",
       "      <td>NYC</td>\n",
       "      <td>Beautiful, sunlit brownstone 1-bedroom in the ...</td>\n",
       "      <td>2016-06-18</td>\n",
       "      <td>t</td>\n",
       "      <td>t</td>\n",
       "      <td>NaN</td>\n",
       "      <td>2012-03-26</td>\n",
       "      <td>f</td>\n",
       "      <td>2016-07-18</td>\n",
       "      <td>40.696524</td>\n",
       "      <td>-73.991617</td>\n",
       "      <td>Beautiful brownstone 1-bedroom</td>\n",
       "      <td>Brooklyn Heights</td>\n",
       "      <td>2</td>\n",
       "      <td>100.0</td>\n",
       "      <td>https://a0.muscache.com/im/pictures/6d7cbbf7-c...</td>\n",
       "      <td>11201</td>\n",
       "      <td>1.0</td>\n",
       "      <td>1.0</td>\n",
       "    </tr>\n",
       "    <tr>\n",
       "      <td>1</td>\n",
       "      <td>6304928</td>\n",
       "      <td>5.129899</td>\n",
       "      <td>Apartment</td>\n",
       "      <td>Entire home/apt</td>\n",
       "      <td>{\"Wireless Internet\",\"Air conditioning\",Kitche...</td>\n",
       "      <td>7</td>\n",
       "      <td>1.0</td>\n",
       "      <td>Real Bed</td>\n",
       "      <td>strict</td>\n",
       "      <td>True</td>\n",
       "      <td>NYC</td>\n",
       "      <td>Enjoy travelling during your stay in Manhattan...</td>\n",
       "      <td>2017-08-05</td>\n",
       "      <td>t</td>\n",
       "      <td>f</td>\n",
       "      <td>100%</td>\n",
       "      <td>2017-06-19</td>\n",
       "      <td>t</td>\n",
       "      <td>2017-09-23</td>\n",
       "      <td>40.766115</td>\n",
       "      <td>-73.989040</td>\n",
       "      <td>Superb 3BR Apt Located Near Times Square</td>\n",
       "      <td>Hell's Kitchen</td>\n",
       "      <td>6</td>\n",
       "      <td>93.0</td>\n",
       "      <td>https://a0.muscache.com/im/pictures/348a55fe-4...</td>\n",
       "      <td>10019</td>\n",
       "      <td>3.0</td>\n",
       "      <td>3.0</td>\n",
       "    </tr>\n",
       "    <tr>\n",
       "      <td>2</td>\n",
       "      <td>7919400</td>\n",
       "      <td>4.976734</td>\n",
       "      <td>Apartment</td>\n",
       "      <td>Entire home/apt</td>\n",
       "      <td>{TV,\"Cable TV\",\"Wireless Internet\",\"Air condit...</td>\n",
       "      <td>5</td>\n",
       "      <td>1.0</td>\n",
       "      <td>Real Bed</td>\n",
       "      <td>moderate</td>\n",
       "      <td>True</td>\n",
       "      <td>NYC</td>\n",
       "      <td>The Oasis comes complete with a full backyard ...</td>\n",
       "      <td>2017-04-30</td>\n",
       "      <td>t</td>\n",
       "      <td>t</td>\n",
       "      <td>100%</td>\n",
       "      <td>2016-10-25</td>\n",
       "      <td>t</td>\n",
       "      <td>2017-09-14</td>\n",
       "      <td>40.808110</td>\n",
       "      <td>-73.943756</td>\n",
       "      <td>The Garden Oasis</td>\n",
       "      <td>Harlem</td>\n",
       "      <td>10</td>\n",
       "      <td>92.0</td>\n",
       "      <td>https://a0.muscache.com/im/pictures/6fae5362-9...</td>\n",
       "      <td>10027</td>\n",
       "      <td>1.0</td>\n",
       "      <td>3.0</td>\n",
       "    </tr>\n",
       "    <tr>\n",
       "      <td>3</td>\n",
       "      <td>13418779</td>\n",
       "      <td>6.620073</td>\n",
       "      <td>House</td>\n",
       "      <td>Entire home/apt</td>\n",
       "      <td>{TV,\"Cable TV\",Internet,\"Wireless Internet\",Ki...</td>\n",
       "      <td>4</td>\n",
       "      <td>1.0</td>\n",
       "      <td>Real Bed</td>\n",
       "      <td>flexible</td>\n",
       "      <td>True</td>\n",
       "      <td>SF</td>\n",
       "      <td>This light-filled home-away-from-home is super...</td>\n",
       "      <td>NaN</td>\n",
       "      <td>t</td>\n",
       "      <td>t</td>\n",
       "      <td>NaN</td>\n",
       "      <td>2015-04-19</td>\n",
       "      <td>f</td>\n",
       "      <td>NaN</td>\n",
       "      <td>37.772004</td>\n",
       "      <td>-122.431619</td>\n",
       "      <td>Beautiful Flat in the Heart of SF!</td>\n",
       "      <td>Lower Haight</td>\n",
       "      <td>0</td>\n",
       "      <td>NaN</td>\n",
       "      <td>https://a0.muscache.com/im/pictures/72208dad-9...</td>\n",
       "      <td>94117.0</td>\n",
       "      <td>2.0</td>\n",
       "      <td>2.0</td>\n",
       "    </tr>\n",
       "    <tr>\n",
       "      <td>4</td>\n",
       "      <td>3808709</td>\n",
       "      <td>4.744932</td>\n",
       "      <td>Apartment</td>\n",
       "      <td>Entire home/apt</td>\n",
       "      <td>{TV,Internet,\"Wireless Internet\",\"Air conditio...</td>\n",
       "      <td>2</td>\n",
       "      <td>1.0</td>\n",
       "      <td>Real Bed</td>\n",
       "      <td>moderate</td>\n",
       "      <td>True</td>\n",
       "      <td>DC</td>\n",
       "      <td>Cool, cozy, and comfortable studio located in ...</td>\n",
       "      <td>2015-05-12</td>\n",
       "      <td>t</td>\n",
       "      <td>t</td>\n",
       "      <td>100%</td>\n",
       "      <td>2015-03-01</td>\n",
       "      <td>t</td>\n",
       "      <td>2017-01-22</td>\n",
       "      <td>38.925627</td>\n",
       "      <td>-77.034596</td>\n",
       "      <td>Great studio in midtown DC</td>\n",
       "      <td>Columbia Heights</td>\n",
       "      <td>4</td>\n",
       "      <td>40.0</td>\n",
       "      <td>NaN</td>\n",
       "      <td>20009</td>\n",
       "      <td>0.0</td>\n",
       "      <td>1.0</td>\n",
       "    </tr>\n",
       "  </tbody>\n",
       "</table>\n",
       "</div>"
      ],
      "text/plain": [
       "         id  log_price property_type        room_type  \\\n",
       "0   6901257   5.010635     Apartment  Entire home/apt   \n",
       "1   6304928   5.129899     Apartment  Entire home/apt   \n",
       "2   7919400   4.976734     Apartment  Entire home/apt   \n",
       "3  13418779   6.620073         House  Entire home/apt   \n",
       "4   3808709   4.744932     Apartment  Entire home/apt   \n",
       "\n",
       "                                           amenities  accommodates  bathrooms  \\\n",
       "0  {\"Wireless Internet\",\"Air conditioning\",Kitche...             3        1.0   \n",
       "1  {\"Wireless Internet\",\"Air conditioning\",Kitche...             7        1.0   \n",
       "2  {TV,\"Cable TV\",\"Wireless Internet\",\"Air condit...             5        1.0   \n",
       "3  {TV,\"Cable TV\",Internet,\"Wireless Internet\",Ki...             4        1.0   \n",
       "4  {TV,Internet,\"Wireless Internet\",\"Air conditio...             2        1.0   \n",
       "\n",
       "   bed_type cancellation_policy  cleaning_fee city  \\\n",
       "0  Real Bed              strict          True  NYC   \n",
       "1  Real Bed              strict          True  NYC   \n",
       "2  Real Bed            moderate          True  NYC   \n",
       "3  Real Bed            flexible          True   SF   \n",
       "4  Real Bed            moderate          True   DC   \n",
       "\n",
       "                                         description first_review  \\\n",
       "0  Beautiful, sunlit brownstone 1-bedroom in the ...   2016-06-18   \n",
       "1  Enjoy travelling during your stay in Manhattan...   2017-08-05   \n",
       "2  The Oasis comes complete with a full backyard ...   2017-04-30   \n",
       "3  This light-filled home-away-from-home is super...          NaN   \n",
       "4  Cool, cozy, and comfortable studio located in ...   2015-05-12   \n",
       "\n",
       "  host_has_profile_pic host_identity_verified host_response_rate  host_since  \\\n",
       "0                    t                      t                NaN  2012-03-26   \n",
       "1                    t                      f               100%  2017-06-19   \n",
       "2                    t                      t               100%  2016-10-25   \n",
       "3                    t                      t                NaN  2015-04-19   \n",
       "4                    t                      t               100%  2015-03-01   \n",
       "\n",
       "  instant_bookable last_review   latitude   longitude  \\\n",
       "0                f  2016-07-18  40.696524  -73.991617   \n",
       "1                t  2017-09-23  40.766115  -73.989040   \n",
       "2                t  2017-09-14  40.808110  -73.943756   \n",
       "3                f         NaN  37.772004 -122.431619   \n",
       "4                t  2017-01-22  38.925627  -77.034596   \n",
       "\n",
       "                                       name     neighbourhood  \\\n",
       "0            Beautiful brownstone 1-bedroom  Brooklyn Heights   \n",
       "1  Superb 3BR Apt Located Near Times Square    Hell's Kitchen   \n",
       "2                          The Garden Oasis            Harlem   \n",
       "3        Beautiful Flat in the Heart of SF!      Lower Haight   \n",
       "4                Great studio in midtown DC  Columbia Heights   \n",
       "\n",
       "   number_of_reviews  review_scores_rating  \\\n",
       "0                  2                 100.0   \n",
       "1                  6                  93.0   \n",
       "2                 10                  92.0   \n",
       "3                  0                   NaN   \n",
       "4                  4                  40.0   \n",
       "\n",
       "                                       thumbnail_url  zipcode  bedrooms  beds  \n",
       "0  https://a0.muscache.com/im/pictures/6d7cbbf7-c...    11201       1.0   1.0  \n",
       "1  https://a0.muscache.com/im/pictures/348a55fe-4...    10019       3.0   3.0  \n",
       "2  https://a0.muscache.com/im/pictures/6fae5362-9...    10027       1.0   3.0  \n",
       "3  https://a0.muscache.com/im/pictures/72208dad-9...  94117.0       2.0   2.0  \n",
       "4                                                NaN    20009       0.0   1.0  "
      ]
     },
     "execution_count": 3,
     "metadata": {},
     "output_type": "execute_result"
    }
   ],
   "source": [
    "pd.set_option('display.max_columns', None)\n",
    "pd.set_option('display.max_rows', None)\n",
    "df.head()"
   ]
  },
  {
   "cell_type": "code",
   "execution_count": 4,
   "metadata": {},
   "outputs": [
    {
     "name": "stdout",
     "output_type": "stream",
     "text": [
      "<class 'pandas.core.frame.DataFrame'>\n",
      "RangeIndex: 74111 entries, 0 to 74110\n",
      "Data columns (total 29 columns):\n",
      "id                        74111 non-null int64\n",
      "log_price                 74111 non-null float64\n",
      "property_type             74111 non-null object\n",
      "room_type                 74111 non-null object\n",
      "amenities                 74111 non-null object\n",
      "accommodates              74111 non-null int64\n",
      "bathrooms                 73911 non-null float64\n",
      "bed_type                  74111 non-null object\n",
      "cancellation_policy       74111 non-null object\n",
      "cleaning_fee              74111 non-null bool\n",
      "city                      74111 non-null object\n",
      "description               74111 non-null object\n",
      "first_review              58247 non-null object\n",
      "host_has_profile_pic      73923 non-null object\n",
      "host_identity_verified    73923 non-null object\n",
      "host_response_rate        55812 non-null object\n",
      "host_since                73923 non-null object\n",
      "instant_bookable          74111 non-null object\n",
      "last_review               58284 non-null object\n",
      "latitude                  74111 non-null float64\n",
      "longitude                 74111 non-null float64\n",
      "name                      74111 non-null object\n",
      "neighbourhood             67239 non-null object\n",
      "number_of_reviews         74111 non-null int64\n",
      "review_scores_rating      57389 non-null float64\n",
      "thumbnail_url             65895 non-null object\n",
      "zipcode                   73145 non-null object\n",
      "bedrooms                  74020 non-null float64\n",
      "beds                      73980 non-null float64\n",
      "dtypes: bool(1), float64(7), int64(3), object(18)\n",
      "memory usage: 15.9+ MB\n"
     ]
    }
   ],
   "source": [
    "df.info()"
   ]
  },
  {
   "cell_type": "markdown",
   "metadata": {},
   "source": [
    "# Feature Creation"
   ]
  },
  {
   "cell_type": "code",
   "execution_count": 5,
   "metadata": {},
   "outputs": [],
   "source": [
    "#create unlogged price variable\n",
    "df['price'] = np.log(df['log_price'])"
   ]
  },
  {
   "cell_type": "code",
   "execution_count": 6,
   "metadata": {},
   "outputs": [
    {
     "data": {
      "text/html": [
       "<div>\n",
       "<style scoped>\n",
       "    .dataframe tbody tr th:only-of-type {\n",
       "        vertical-align: middle;\n",
       "    }\n",
       "\n",
       "    .dataframe tbody tr th {\n",
       "        vertical-align: top;\n",
       "    }\n",
       "\n",
       "    .dataframe thead th {\n",
       "        text-align: right;\n",
       "    }\n",
       "</style>\n",
       "<table border=\"1\" class=\"dataframe\">\n",
       "  <thead>\n",
       "    <tr style=\"text-align: right;\">\n",
       "      <th></th>\n",
       "      <th>grade</th>\n",
       "      <th>review_scores_rating</th>\n",
       "    </tr>\n",
       "  </thead>\n",
       "  <tbody>\n",
       "    <tr>\n",
       "      <td>0</td>\n",
       "      <td>A</td>\n",
       "      <td>100.0</td>\n",
       "    </tr>\n",
       "    <tr>\n",
       "      <td>1</td>\n",
       "      <td>A</td>\n",
       "      <td>93.0</td>\n",
       "    </tr>\n",
       "    <tr>\n",
       "      <td>2</td>\n",
       "      <td>A</td>\n",
       "      <td>92.0</td>\n",
       "    </tr>\n",
       "    <tr>\n",
       "      <td>3</td>\n",
       "      <td>NaN</td>\n",
       "      <td>NaN</td>\n",
       "    </tr>\n",
       "    <tr>\n",
       "      <td>4</td>\n",
       "      <td>F</td>\n",
       "      <td>40.0</td>\n",
       "    </tr>\n",
       "  </tbody>\n",
       "</table>\n",
       "</div>"
      ],
      "text/plain": [
       "  grade  review_scores_rating\n",
       "0     A                 100.0\n",
       "1     A                  93.0\n",
       "2     A                  92.0\n",
       "3   NaN                   NaN\n",
       "4     F                  40.0"
      ]
     },
     "execution_count": 6,
     "metadata": {},
     "output_type": "execute_result"
    }
   ],
   "source": [
    "#create grade variable\n",
    "df['grade'] = pd.cut(df.review_scores_rating, [0,60,70,80,90,101], right=False, labels = ['F', 'D', 'C', 'B', 'A'])\n",
    "df[['grade', 'review_scores_rating']].head()"
   ]
  },
  {
   "cell_type": "code",
   "execution_count": 7,
   "metadata": {},
   "outputs": [
    {
     "data": {
      "text/html": [
       "<div>\n",
       "<style scoped>\n",
       "    .dataframe tbody tr th:only-of-type {\n",
       "        vertical-align: middle;\n",
       "    }\n",
       "\n",
       "    .dataframe tbody tr th {\n",
       "        vertical-align: top;\n",
       "    }\n",
       "\n",
       "    .dataframe thead th {\n",
       "        text-align: right;\n",
       "    }\n",
       "</style>\n",
       "<table border=\"1\" class=\"dataframe\">\n",
       "  <thead>\n",
       "    <tr style=\"text-align: right;\">\n",
       "      <th></th>\n",
       "      <th>grade</th>\n",
       "      <th>grade_grouped</th>\n",
       "    </tr>\n",
       "  </thead>\n",
       "  <tbody>\n",
       "    <tr>\n",
       "      <td>0</td>\n",
       "      <td>A</td>\n",
       "      <td>A</td>\n",
       "    </tr>\n",
       "    <tr>\n",
       "      <td>1</td>\n",
       "      <td>A</td>\n",
       "      <td>A</td>\n",
       "    </tr>\n",
       "    <tr>\n",
       "      <td>2</td>\n",
       "      <td>A</td>\n",
       "      <td>A</td>\n",
       "    </tr>\n",
       "    <tr>\n",
       "      <td>3</td>\n",
       "      <td>NaN</td>\n",
       "      <td>NaN</td>\n",
       "    </tr>\n",
       "    <tr>\n",
       "      <td>4</td>\n",
       "      <td>F</td>\n",
       "      <td>&lt;A</td>\n",
       "    </tr>\n",
       "    <tr>\n",
       "      <td>5</td>\n",
       "      <td>A</td>\n",
       "      <td>A</td>\n",
       "    </tr>\n",
       "    <tr>\n",
       "      <td>6</td>\n",
       "      <td>A</td>\n",
       "      <td>A</td>\n",
       "    </tr>\n",
       "    <tr>\n",
       "      <td>7</td>\n",
       "      <td>A</td>\n",
       "      <td>A</td>\n",
       "    </tr>\n",
       "    <tr>\n",
       "      <td>8</td>\n",
       "      <td>A</td>\n",
       "      <td>A</td>\n",
       "    </tr>\n",
       "    <tr>\n",
       "      <td>9</td>\n",
       "      <td>A</td>\n",
       "      <td>A</td>\n",
       "    </tr>\n",
       "    <tr>\n",
       "      <td>10</td>\n",
       "      <td>A</td>\n",
       "      <td>A</td>\n",
       "    </tr>\n",
       "    <tr>\n",
       "      <td>11</td>\n",
       "      <td>A</td>\n",
       "      <td>A</td>\n",
       "    </tr>\n",
       "    <tr>\n",
       "      <td>12</td>\n",
       "      <td>NaN</td>\n",
       "      <td>NaN</td>\n",
       "    </tr>\n",
       "    <tr>\n",
       "      <td>13</td>\n",
       "      <td>B</td>\n",
       "      <td>&lt;A</td>\n",
       "    </tr>\n",
       "    <tr>\n",
       "      <td>14</td>\n",
       "      <td>A</td>\n",
       "      <td>A</td>\n",
       "    </tr>\n",
       "    <tr>\n",
       "      <td>15</td>\n",
       "      <td>NaN</td>\n",
       "      <td>NaN</td>\n",
       "    </tr>\n",
       "    <tr>\n",
       "      <td>16</td>\n",
       "      <td>A</td>\n",
       "      <td>A</td>\n",
       "    </tr>\n",
       "    <tr>\n",
       "      <td>17</td>\n",
       "      <td>B</td>\n",
       "      <td>&lt;A</td>\n",
       "    </tr>\n",
       "    <tr>\n",
       "      <td>18</td>\n",
       "      <td>B</td>\n",
       "      <td>&lt;A</td>\n",
       "    </tr>\n",
       "    <tr>\n",
       "      <td>19</td>\n",
       "      <td>C</td>\n",
       "      <td>&lt;A</td>\n",
       "    </tr>\n",
       "  </tbody>\n",
       "</table>\n",
       "</div>"
      ],
      "text/plain": [
       "   grade grade_grouped\n",
       "0      A             A\n",
       "1      A             A\n",
       "2      A             A\n",
       "3    NaN           NaN\n",
       "4      F            <A\n",
       "5      A             A\n",
       "6      A             A\n",
       "7      A             A\n",
       "8      A             A\n",
       "9      A             A\n",
       "10     A             A\n",
       "11     A             A\n",
       "12   NaN           NaN\n",
       "13     B            <A\n",
       "14     A             A\n",
       "15   NaN           NaN\n",
       "16     A             A\n",
       "17     B            <A\n",
       "18     B            <A\n",
       "19     C            <A"
      ]
     },
     "execution_count": 7,
     "metadata": {},
     "output_type": "execute_result"
    }
   ],
   "source": [
    "#create A/ not A variable\n",
    "# Create altnerative target variable grade_grouped\n",
    "new_grades = {\n",
    "    'A':'A',\n",
    "    'B':'<A',\n",
    "    'C':'<A',\n",
    "    'D':'<A',\n",
    "    'F':'<A'\n",
    "}\n",
    "df['grade_grouped'] = df['grade'].map(new_grades)\n",
    "df[['grade', 'grade_grouped']].head(20)"
   ]
  },
  {
   "cell_type": "code",
   "execution_count": 8,
   "metadata": {},
   "outputs": [],
   "source": [
    "#create description length variable\n",
    "df['description_length'] = df['description'].apply(len)"
   ]
  },
  {
   "cell_type": "code",
   "execution_count": 9,
   "metadata": {},
   "outputs": [
    {
     "data": {
      "text/html": [
       "<div>\n",
       "<style scoped>\n",
       "    .dataframe tbody tr th:only-of-type {\n",
       "        vertical-align: middle;\n",
       "    }\n",
       "\n",
       "    .dataframe tbody tr th {\n",
       "        vertical-align: top;\n",
       "    }\n",
       "\n",
       "    .dataframe thead th {\n",
       "        text-align: right;\n",
       "    }\n",
       "</style>\n",
       "<table border=\"1\" class=\"dataframe\">\n",
       "  <thead>\n",
       "    <tr style=\"text-align: right;\">\n",
       "      <th></th>\n",
       "      <th>amenities_new</th>\n",
       "      <th>length_amenities</th>\n",
       "    </tr>\n",
       "  </thead>\n",
       "  <tbody>\n",
       "    <tr>\n",
       "      <td>0</td>\n",
       "      <td>[wireless internet, air conditioning, kitchen,...</td>\n",
       "      <td>9</td>\n",
       "    </tr>\n",
       "    <tr>\n",
       "      <td>1</td>\n",
       "      <td>[wireless internet, air conditioning, kitchen,...</td>\n",
       "      <td>15</td>\n",
       "    </tr>\n",
       "    <tr>\n",
       "      <td>2</td>\n",
       "      <td>[tv, cable tv, wireless internet, air conditio...</td>\n",
       "      <td>19</td>\n",
       "    </tr>\n",
       "    <tr>\n",
       "      <td>3</td>\n",
       "      <td>[tv, cable tv, internet, wireless internet, ki...</td>\n",
       "      <td>15</td>\n",
       "    </tr>\n",
       "    <tr>\n",
       "      <td>4</td>\n",
       "      <td>[tv, internet, wireless internet, air conditio...</td>\n",
       "      <td>12</td>\n",
       "    </tr>\n",
       "  </tbody>\n",
       "</table>\n",
       "</div>"
      ],
      "text/plain": [
       "                                       amenities_new  length_amenities\n",
       "0  [wireless internet, air conditioning, kitchen,...                 9\n",
       "1  [wireless internet, air conditioning, kitchen,...                15\n",
       "2  [tv, cable tv, wireless internet, air conditio...                19\n",
       "3  [tv, cable tv, internet, wireless internet, ki...                15\n",
       "4  [tv, internet, wireless internet, air conditio...                12"
      ]
     },
     "execution_count": 9,
     "metadata": {},
     "output_type": "execute_result"
    }
   ],
   "source": [
    "#create amenities length variable\n",
    "import re\n",
    "df['amenities_new'] = df.apply(lambda row: re.sub(r'[{}\"\"]', '', row['amenities']), axis=1)\n",
    "df['amenities_new'] = df.apply(lambda row: row['amenities_new'].lower().split(','), axis=1)\n",
    "df = df.reset_index(drop=True)\n",
    "df['length_amenities'] = df.apply(lambda row: len(row['amenities_new']), axis=1)\n",
    "df[['amenities_new', 'length_amenities']].head()"
   ]
  },
  {
   "cell_type": "code",
   "execution_count": 10,
   "metadata": {},
   "outputs": [
    {
     "data": {
      "text/plain": [
       "0    2179.0\n",
       "1     268.0\n",
       "2     505.0\n",
       "3    1060.0\n",
       "4    1109.0\n",
       "Name: host_since_days, dtype: float64"
      ]
     },
     "execution_count": 10,
     "metadata": {},
     "output_type": "execute_result"
    }
   ],
   "source": [
    "#create number of days of being a host variable\n",
    "import datetime\n",
    "date_published = datetime.datetime(2018,3,14)\n",
    "df['host_since'] = pd.to_datetime(df['host_since'])\n",
    "df['host_since_days'] = df.apply(lambda row: (date_published - row['host_since']).days, axis=1)\n",
    "df['host_since_days'].head()"
   ]
  },
  {
   "cell_type": "code",
   "execution_count": 11,
   "metadata": {},
   "outputs": [],
   "source": [
    "#clean up host_response_rate\n",
    "df['host_response_rate'] = df['host_response_rate'].str.rstrip('%').astype(np.float64)"
   ]
  },
  {
   "cell_type": "markdown",
   "metadata": {},
   "source": [
    "# Clean up data types"
   ]
  },
  {
   "cell_type": "code",
   "execution_count": 12,
   "metadata": {},
   "outputs": [
    {
     "name": "stdout",
     "output_type": "stream",
     "text": [
      "<class 'pandas.core.frame.DataFrame'>\n",
      "RangeIndex: 74111 entries, 0 to 74110\n",
      "Data columns (total 36 columns):\n",
      "id                        74111 non-null int64\n",
      "log_price                 74111 non-null float64\n",
      "property_type             74111 non-null object\n",
      "room_type                 74111 non-null object\n",
      "amenities                 74111 non-null object\n",
      "accommodates              74111 non-null int64\n",
      "bathrooms                 73911 non-null float64\n",
      "bed_type                  74111 non-null object\n",
      "cancellation_policy       74111 non-null object\n",
      "cleaning_fee              74111 non-null bool\n",
      "city                      74111 non-null object\n",
      "description               74111 non-null object\n",
      "first_review              58247 non-null object\n",
      "host_has_profile_pic      73923 non-null object\n",
      "host_identity_verified    73923 non-null object\n",
      "host_response_rate        55812 non-null float64\n",
      "host_since                73923 non-null datetime64[ns]\n",
      "instant_bookable          74111 non-null object\n",
      "last_review               58284 non-null object\n",
      "latitude                  74111 non-null float64\n",
      "longitude                 74111 non-null float64\n",
      "name                      74111 non-null object\n",
      "neighbourhood             67239 non-null object\n",
      "number_of_reviews         74111 non-null int64\n",
      "review_scores_rating      57389 non-null float64\n",
      "thumbnail_url             65895 non-null object\n",
      "zipcode                   73145 non-null object\n",
      "bedrooms                  74020 non-null float64\n",
      "beds                      73980 non-null float64\n",
      "price                     74111 non-null float64\n",
      "grade                     57389 non-null category\n",
      "grade_grouped             57389 non-null object\n",
      "description_length        74111 non-null int64\n",
      "amenities_new             74111 non-null object\n",
      "length_amenities          74111 non-null int64\n",
      "host_since_days           73923 non-null float64\n",
      "dtypes: bool(1), category(1), datetime64[ns](1), float64(10), int64(5), object(18)\n",
      "memory usage: 19.4+ MB\n"
     ]
    }
   ],
   "source": [
    "df.info()"
   ]
  },
  {
   "cell_type": "markdown",
   "metadata": {},
   "source": [
    "# Performing PCA"
   ]
  },
  {
   "cell_type": "code",
   "execution_count": 13,
   "metadata": {},
   "outputs": [
    {
     "data": {
      "text/html": [
       "<div>\n",
       "<style scoped>\n",
       "    .dataframe tbody tr th:only-of-type {\n",
       "        vertical-align: middle;\n",
       "    }\n",
       "\n",
       "    .dataframe tbody tr th {\n",
       "        vertical-align: top;\n",
       "    }\n",
       "\n",
       "    .dataframe thead th {\n",
       "        text-align: right;\n",
       "    }\n",
       "</style>\n",
       "<table border=\"1\" class=\"dataframe\">\n",
       "  <thead>\n",
       "    <tr style=\"text-align: right;\">\n",
       "      <th></th>\n",
       "      <th>accommodates</th>\n",
       "      <th>bathrooms</th>\n",
       "      <th>host_response_rate</th>\n",
       "      <th>latitude</th>\n",
       "      <th>longitude</th>\n",
       "      <th>number_of_reviews</th>\n",
       "      <th>bedrooms</th>\n",
       "      <th>beds</th>\n",
       "      <th>price</th>\n",
       "      <th>grade</th>\n",
       "      <th>grade_grouped</th>\n",
       "      <th>description_length</th>\n",
       "      <th>length_amenities</th>\n",
       "      <th>host_since_days</th>\n",
       "    </tr>\n",
       "  </thead>\n",
       "  <tbody>\n",
       "    <tr>\n",
       "      <td>0</td>\n",
       "      <td>3</td>\n",
       "      <td>1.0</td>\n",
       "      <td>NaN</td>\n",
       "      <td>40.696524</td>\n",
       "      <td>-73.991617</td>\n",
       "      <td>2</td>\n",
       "      <td>1.0</td>\n",
       "      <td>1.0</td>\n",
       "      <td>1.611563</td>\n",
       "      <td>A</td>\n",
       "      <td>A</td>\n",
       "      <td>211</td>\n",
       "      <td>9</td>\n",
       "      <td>2179.0</td>\n",
       "    </tr>\n",
       "    <tr>\n",
       "      <td>1</td>\n",
       "      <td>7</td>\n",
       "      <td>1.0</td>\n",
       "      <td>100.0</td>\n",
       "      <td>40.766115</td>\n",
       "      <td>-73.989040</td>\n",
       "      <td>6</td>\n",
       "      <td>3.0</td>\n",
       "      <td>3.0</td>\n",
       "      <td>1.635086</td>\n",
       "      <td>A</td>\n",
       "      <td>A</td>\n",
       "      <td>1000</td>\n",
       "      <td>15</td>\n",
       "      <td>268.0</td>\n",
       "    </tr>\n",
       "    <tr>\n",
       "      <td>2</td>\n",
       "      <td>5</td>\n",
       "      <td>1.0</td>\n",
       "      <td>100.0</td>\n",
       "      <td>40.808110</td>\n",
       "      <td>-73.943756</td>\n",
       "      <td>10</td>\n",
       "      <td>1.0</td>\n",
       "      <td>3.0</td>\n",
       "      <td>1.604774</td>\n",
       "      <td>A</td>\n",
       "      <td>A</td>\n",
       "      <td>1000</td>\n",
       "      <td>19</td>\n",
       "      <td>505.0</td>\n",
       "    </tr>\n",
       "    <tr>\n",
       "      <td>3</td>\n",
       "      <td>4</td>\n",
       "      <td>1.0</td>\n",
       "      <td>NaN</td>\n",
       "      <td>37.772004</td>\n",
       "      <td>-122.431619</td>\n",
       "      <td>0</td>\n",
       "      <td>2.0</td>\n",
       "      <td>2.0</td>\n",
       "      <td>1.890106</td>\n",
       "      <td>NaN</td>\n",
       "      <td>NaN</td>\n",
       "      <td>468</td>\n",
       "      <td>15</td>\n",
       "      <td>1060.0</td>\n",
       "    </tr>\n",
       "    <tr>\n",
       "      <td>4</td>\n",
       "      <td>2</td>\n",
       "      <td>1.0</td>\n",
       "      <td>100.0</td>\n",
       "      <td>38.925627</td>\n",
       "      <td>-77.034596</td>\n",
       "      <td>4</td>\n",
       "      <td>0.0</td>\n",
       "      <td>1.0</td>\n",
       "      <td>1.557077</td>\n",
       "      <td>F</td>\n",
       "      <td>&lt;A</td>\n",
       "      <td>699</td>\n",
       "      <td>12</td>\n",
       "      <td>1109.0</td>\n",
       "    </tr>\n",
       "  </tbody>\n",
       "</table>\n",
       "</div>"
      ],
      "text/plain": [
       "   accommodates  bathrooms  host_response_rate   latitude   longitude  \\\n",
       "0             3        1.0                 NaN  40.696524  -73.991617   \n",
       "1             7        1.0               100.0  40.766115  -73.989040   \n",
       "2             5        1.0               100.0  40.808110  -73.943756   \n",
       "3             4        1.0                 NaN  37.772004 -122.431619   \n",
       "4             2        1.0               100.0  38.925627  -77.034596   \n",
       "\n",
       "   number_of_reviews  bedrooms  beds     price grade grade_grouped  \\\n",
       "0                  2       1.0   1.0  1.611563     A             A   \n",
       "1                  6       3.0   3.0  1.635086     A             A   \n",
       "2                 10       1.0   3.0  1.604774     A             A   \n",
       "3                  0       2.0   2.0  1.890106   NaN           NaN   \n",
       "4                  4       0.0   1.0  1.557077     F            <A   \n",
       "\n",
       "   description_length  length_amenities  host_since_days  \n",
       "0                 211                 9           2179.0  \n",
       "1                1000                15            268.0  \n",
       "2                1000                19            505.0  \n",
       "3                 468                15           1060.0  \n",
       "4                 699                12           1109.0  "
      ]
     },
     "execution_count": 13,
     "metadata": {},
     "output_type": "execute_result"
    }
   ],
   "source": [
    "#only keep numeric data types and our response variables(grade, grade_grouped)\n",
    "#for pca\n",
    "df_pca = df[['accommodates', 'bathrooms', 'host_response_rate', 'latitude',\n",
    "            'longitude', 'number_of_reviews', 'bedrooms', 'beds', 'price',\n",
    "            'grade', 'grade_grouped', 'description_length', 'length_amenities',\n",
    "            'host_since_days']]\n",
    "df_pca.head()"
   ]
  },
  {
   "cell_type": "code",
   "execution_count": 14,
   "metadata": {},
   "outputs": [
    {
     "data": {
      "text/plain": [
       "74111"
      ]
     },
     "execution_count": 14,
     "metadata": {},
     "output_type": "execute_result"
    }
   ],
   "source": [
    "#rows in original dataframe\n",
    "len(df_pca)"
   ]
  },
  {
   "cell_type": "code",
   "execution_count": 15,
   "metadata": {},
   "outputs": [
    {
     "name": "stdout",
     "output_type": "stream",
     "text": [
      "57389\n",
      "57389\n"
     ]
    }
   ],
   "source": [
    "#rows in dataframe after dropping either response variable\n",
    "print(len(df_pca.dropna(subset=['grade'])))\n",
    "print(len(df_pca.dropna(subset=['grade_grouped'])))"
   ]
  },
  {
   "cell_type": "code",
   "execution_count": 16,
   "metadata": {},
   "outputs": [],
   "source": [
    "df_pca = df_pca.dropna(subset=['grade'])"
   ]
  },
  {
   "cell_type": "code",
   "execution_count": 17,
   "metadata": {},
   "outputs": [
    {
     "name": "stdout",
     "output_type": "stream",
     "text": [
      "<class 'pandas.core.frame.DataFrame'>\n",
      "Int64Index: 57389 entries, 0 to 74110\n",
      "Data columns (total 14 columns):\n",
      "accommodates          57389 non-null int64\n",
      "bathrooms             57230 non-null float64\n",
      "host_response_rate    48003 non-null float64\n",
      "latitude              57389 non-null float64\n",
      "longitude             57389 non-null float64\n",
      "number_of_reviews     57389 non-null int64\n",
      "bedrooms              57319 non-null float64\n",
      "beds                  57327 non-null float64\n",
      "price                 57389 non-null float64\n",
      "grade                 57389 non-null category\n",
      "grade_grouped         57389 non-null object\n",
      "description_length    57389 non-null int64\n",
      "length_amenities      57389 non-null int64\n",
      "host_since_days       57248 non-null float64\n",
      "dtypes: category(1), float64(8), int64(4), object(1)\n",
      "memory usage: 6.2+ MB\n"
     ]
    }
   ],
   "source": [
    "df_pca.info()"
   ]
  },
  {
   "cell_type": "code",
   "execution_count": 18,
   "metadata": {},
   "outputs": [],
   "source": [
    "#lets just try to drop all the missing values and use the reponse variable\n",
    "#grade grouped\n",
    "df_pca2 = df_pca.dropna()"
   ]
  },
  {
   "cell_type": "code",
   "execution_count": 19,
   "metadata": {},
   "outputs": [
    {
     "name": "stdout",
     "output_type": "stream",
     "text": [
      "<class 'pandas.core.frame.DataFrame'>\n",
      "Int64Index: 47787 entries, 1 to 74110\n",
      "Data columns (total 14 columns):\n",
      "accommodates          47787 non-null int64\n",
      "bathrooms             47787 non-null float64\n",
      "host_response_rate    47787 non-null float64\n",
      "latitude              47787 non-null float64\n",
      "longitude             47787 non-null float64\n",
      "number_of_reviews     47787 non-null int64\n",
      "bedrooms              47787 non-null float64\n",
      "beds                  47787 non-null float64\n",
      "price                 47787 non-null float64\n",
      "grade                 47787 non-null category\n",
      "grade_grouped         47787 non-null object\n",
      "description_length    47787 non-null int64\n",
      "length_amenities      47787 non-null int64\n",
      "host_since_days       47787 non-null float64\n",
      "dtypes: category(1), float64(8), int64(4), object(1)\n",
      "memory usage: 5.1+ MB\n"
     ]
    }
   ],
   "source": [
    "df_pca2.info()"
   ]
  },
  {
   "cell_type": "code",
   "execution_count": 20,
   "metadata": {},
   "outputs": [
    {
     "data": {
      "text/html": [
       "<div>\n",
       "<style scoped>\n",
       "    .dataframe tbody tr th:only-of-type {\n",
       "        vertical-align: middle;\n",
       "    }\n",
       "\n",
       "    .dataframe tbody tr th {\n",
       "        vertical-align: top;\n",
       "    }\n",
       "\n",
       "    .dataframe thead th {\n",
       "        text-align: right;\n",
       "    }\n",
       "</style>\n",
       "<table border=\"1\" class=\"dataframe\">\n",
       "  <thead>\n",
       "    <tr style=\"text-align: right;\">\n",
       "      <th></th>\n",
       "      <th>accommodates</th>\n",
       "      <th>bathrooms</th>\n",
       "      <th>host_response_rate</th>\n",
       "      <th>latitude</th>\n",
       "      <th>longitude</th>\n",
       "      <th>number_of_reviews</th>\n",
       "      <th>bedrooms</th>\n",
       "      <th>beds</th>\n",
       "      <th>price</th>\n",
       "      <th>description_length</th>\n",
       "      <th>length_amenities</th>\n",
       "      <th>host_since_days</th>\n",
       "    </tr>\n",
       "  </thead>\n",
       "  <tbody>\n",
       "    <tr>\n",
       "      <td>count</td>\n",
       "      <td>47787.000000</td>\n",
       "      <td>47787.000000</td>\n",
       "      <td>47787.000000</td>\n",
       "      <td>47787.000000</td>\n",
       "      <td>47787.000000</td>\n",
       "      <td>47787.000000</td>\n",
       "      <td>47787.000000</td>\n",
       "      <td>47787.000000</td>\n",
       "      <td>4.778700e+04</td>\n",
       "      <td>47787.000000</td>\n",
       "      <td>47787.000000</td>\n",
       "      <td>47787.000000</td>\n",
       "    </tr>\n",
       "    <tr>\n",
       "      <td>mean</td>\n",
       "      <td>3.325005</td>\n",
       "      <td>1.239762</td>\n",
       "      <td>95.557034</td>\n",
       "      <td>38.364745</td>\n",
       "      <td>-93.207259</td>\n",
       "      <td>30.782891</td>\n",
       "      <td>1.281604</td>\n",
       "      <td>1.795153</td>\n",
       "      <td>-inf</td>\n",
       "      <td>833.920146</td>\n",
       "      <td>19.087325</td>\n",
       "      <td>1357.793291</td>\n",
       "    </tr>\n",
       "    <tr>\n",
       "      <td>std</td>\n",
       "      <td>2.236280</td>\n",
       "      <td>0.582529</td>\n",
       "      <td>13.296675</td>\n",
       "      <td>3.148342</td>\n",
       "      <td>21.704861</td>\n",
       "      <td>43.375046</td>\n",
       "      <td>0.865009</td>\n",
       "      <td>1.323257</td>\n",
       "      <td>NaN</td>\n",
       "      <td>275.443660</td>\n",
       "      <td>6.965131</td>\n",
       "      <td>671.459508</td>\n",
       "    </tr>\n",
       "    <tr>\n",
       "      <td>min</td>\n",
       "      <td>1.000000</td>\n",
       "      <td>0.000000</td>\n",
       "      <td>0.000000</td>\n",
       "      <td>33.338905</td>\n",
       "      <td>-122.511500</td>\n",
       "      <td>1.000000</td>\n",
       "      <td>0.000000</td>\n",
       "      <td>0.000000</td>\n",
       "      <td>-inf</td>\n",
       "      <td>1.000000</td>\n",
       "      <td>1.000000</td>\n",
       "      <td>170.000000</td>\n",
       "    </tr>\n",
       "    <tr>\n",
       "      <td>25%</td>\n",
       "      <td>2.000000</td>\n",
       "      <td>1.000000</td>\n",
       "      <td>100.000000</td>\n",
       "      <td>34.107511</td>\n",
       "      <td>-118.345159</td>\n",
       "      <td>5.000000</td>\n",
       "      <td>1.000000</td>\n",
       "      <td>1.000000</td>\n",
       "      <td>1.459560e+00</td>\n",
       "      <td>717.000000</td>\n",
       "      <td>14.000000</td>\n",
       "      <td>822.000000</td>\n",
       "    </tr>\n",
       "    <tr>\n",
       "      <td>50%</td>\n",
       "      <td>2.000000</td>\n",
       "      <td>1.000000</td>\n",
       "      <td>100.000000</td>\n",
       "      <td>40.650651</td>\n",
       "      <td>-77.025763</td>\n",
       "      <td>14.000000</td>\n",
       "      <td>1.000000</td>\n",
       "      <td>1.000000</td>\n",
       "      <td>1.547665e+00</td>\n",
       "      <td>1000.000000</td>\n",
       "      <td>19.000000</td>\n",
       "      <td>1295.000000</td>\n",
       "    </tr>\n",
       "    <tr>\n",
       "      <td>75%</td>\n",
       "      <td>4.000000</td>\n",
       "      <td>1.000000</td>\n",
       "      <td>100.000000</td>\n",
       "      <td>40.750911</td>\n",
       "      <td>-73.954705</td>\n",
       "      <td>39.000000</td>\n",
       "      <td>1.000000</td>\n",
       "      <td>2.000000</td>\n",
       "      <td>1.642966e+00</td>\n",
       "      <td>1000.000000</td>\n",
       "      <td>23.000000</td>\n",
       "      <td>1832.000000</td>\n",
       "    </tr>\n",
       "    <tr>\n",
       "      <td>max</td>\n",
       "      <td>16.000000</td>\n",
       "      <td>8.000000</td>\n",
       "      <td>100.000000</td>\n",
       "      <td>42.390437</td>\n",
       "      <td>-71.000462</td>\n",
       "      <td>605.000000</td>\n",
       "      <td>10.000000</td>\n",
       "      <td>18.000000</td>\n",
       "      <td>2.028201e+00</td>\n",
       "      <td>1000.000000</td>\n",
       "      <td>77.000000</td>\n",
       "      <td>3663.000000</td>\n",
       "    </tr>\n",
       "  </tbody>\n",
       "</table>\n",
       "</div>"
      ],
      "text/plain": [
       "       accommodates     bathrooms  host_response_rate      latitude  \\\n",
       "count  47787.000000  47787.000000        47787.000000  47787.000000   \n",
       "mean       3.325005      1.239762           95.557034     38.364745   \n",
       "std        2.236280      0.582529           13.296675      3.148342   \n",
       "min        1.000000      0.000000            0.000000     33.338905   \n",
       "25%        2.000000      1.000000          100.000000     34.107511   \n",
       "50%        2.000000      1.000000          100.000000     40.650651   \n",
       "75%        4.000000      1.000000          100.000000     40.750911   \n",
       "max       16.000000      8.000000          100.000000     42.390437   \n",
       "\n",
       "          longitude  number_of_reviews      bedrooms          beds  \\\n",
       "count  47787.000000       47787.000000  47787.000000  47787.000000   \n",
       "mean     -93.207259          30.782891      1.281604      1.795153   \n",
       "std       21.704861          43.375046      0.865009      1.323257   \n",
       "min     -122.511500           1.000000      0.000000      0.000000   \n",
       "25%     -118.345159           5.000000      1.000000      1.000000   \n",
       "50%      -77.025763          14.000000      1.000000      1.000000   \n",
       "75%      -73.954705          39.000000      1.000000      2.000000   \n",
       "max      -71.000462         605.000000     10.000000     18.000000   \n",
       "\n",
       "              price  description_length  length_amenities  host_since_days  \n",
       "count  4.778700e+04        47787.000000      47787.000000     47787.000000  \n",
       "mean           -inf          833.920146         19.087325      1357.793291  \n",
       "std             NaN          275.443660          6.965131       671.459508  \n",
       "min            -inf            1.000000          1.000000       170.000000  \n",
       "25%    1.459560e+00          717.000000         14.000000       822.000000  \n",
       "50%    1.547665e+00         1000.000000         19.000000      1295.000000  \n",
       "75%    1.642966e+00         1000.000000         23.000000      1832.000000  \n",
       "max    2.028201e+00         1000.000000         77.000000      3663.000000  "
      ]
     },
     "execution_count": 20,
     "metadata": {},
     "output_type": "execute_result"
    }
   ],
   "source": [
    "df_pca2.describe()"
   ]
  },
  {
   "cell_type": "code",
   "execution_count": 21,
   "metadata": {},
   "outputs": [],
   "source": [
    "#need to drop infinity values in price\n",
    "df_pca2.replace([np.inf, -np.inf], np.nan, inplace=True)\n"
   ]
  },
  {
   "cell_type": "code",
   "execution_count": 22,
   "metadata": {},
   "outputs": [],
   "source": [
    "df_pca2.dropna(inplace=True)"
   ]
  },
  {
   "cell_type": "markdown",
   "metadata": {},
   "source": [
    "# Standardize the Data"
   ]
  },
  {
   "cell_type": "code",
   "execution_count": 23,
   "metadata": {},
   "outputs": [],
   "source": [
    "from sklearn.preprocessing import StandardScaler"
   ]
  },
  {
   "cell_type": "code",
   "execution_count": 24,
   "metadata": {},
   "outputs": [
    {
     "data": {
      "text/plain": [
       "array([[7.000e+00, 1.000e+00, 1.000e+02, ..., 1.000e+03, 1.500e+01,\n",
       "        2.680e+02],\n",
       "       [5.000e+00, 1.000e+00, 1.000e+02, ..., 1.000e+03, 1.900e+01,\n",
       "        5.050e+02],\n",
       "       [2.000e+00, 1.000e+00, 1.000e+02, ..., 6.990e+02, 1.200e+01,\n",
       "        1.109e+03],\n",
       "       ...,\n",
       "       [4.000e+00, 2.000e+00, 1.000e+02, ..., 3.020e+02, 1.600e+01,\n",
       "        6.800e+02],\n",
       "       [5.000e+00, 1.000e+00, 1.000e+02, ..., 1.000e+03, 3.100e+01,\n",
       "        2.260e+03],\n",
       "       [4.000e+00, 1.000e+00, 1.000e+02, ..., 1.000e+03, 1.800e+01,\n",
       "        1.934e+03]])"
      ]
     },
     "execution_count": 24,
     "metadata": {},
     "output_type": "execute_result"
    }
   ],
   "source": [
    "#separating out the features\n",
    "x = df_pca2.drop(['grade', 'grade_grouped'], axis=1).values\n",
    "x"
   ]
  },
  {
   "cell_type": "code",
   "execution_count": 25,
   "metadata": {},
   "outputs": [
    {
     "data": {
      "text/plain": [
       "array(['A', 'A', '<A', ..., 'A', 'A', 'A'], dtype=object)"
      ]
     },
     "execution_count": 25,
     "metadata": {},
     "output_type": "execute_result"
    }
   ],
   "source": [
    "#separating out the target\n",
    "y = df_pca2.loc[:, 'grade_grouped'].values\n",
    "y"
   ]
  },
  {
   "cell_type": "code",
   "execution_count": 26,
   "metadata": {},
   "outputs": [
    {
     "data": {
      "text/plain": [
       "array([[ 1.64334873, -0.41159751,  0.33414849, ...,  0.6029689 ,\n",
       "        -0.58685438, -1.62310386],\n",
       "       [ 0.7489963 , -0.41159751,  0.33414849, ...,  0.6029689 ,\n",
       "        -0.01255888, -1.27013111],\n",
       "       [-0.59253235, -0.41159751,  0.33414849, ..., -0.48981771,\n",
       "        -1.017576  , -0.37057186],\n",
       "       ...,\n",
       "       [ 0.30182008,  1.30505957,  0.33414849, ..., -1.93113428,\n",
       "        -0.4432805 , -1.00949722],\n",
       "       [ 0.7489963 , -0.41159751,  0.33414849, ...,  0.6029689 ,\n",
       "         1.7103276 ,  1.34365445],\n",
       "       [ 0.30182008, -0.41159751,  0.33414849, ...,  0.6029689 ,\n",
       "        -0.15613276,  0.85813075]])"
      ]
     },
     "execution_count": 26,
     "metadata": {},
     "output_type": "execute_result"
    }
   ],
   "source": [
    "# Standardizing the features\n",
    "x = StandardScaler().fit_transform(x)\n",
    "x"
   ]
  },
  {
   "cell_type": "code",
   "execution_count": 27,
   "metadata": {},
   "outputs": [],
   "source": [
    "#projection onto 2D\n",
    "from sklearn.decomposition import PCA\n",
    "pca = PCA(n_components=2)\n",
    "principalComponents = pca.fit_transform(x)\n",
    "principalDf = pd.DataFrame(data = principalComponents\n",
    "             , columns = ['PCA1', 'PCA2'])"
   ]
  },
  {
   "cell_type": "code",
   "execution_count": 28,
   "metadata": {},
   "outputs": [
    {
     "data": {
      "text/html": [
       "<div>\n",
       "<style scoped>\n",
       "    .dataframe tbody tr th:only-of-type {\n",
       "        vertical-align: middle;\n",
       "    }\n",
       "\n",
       "    .dataframe tbody tr th {\n",
       "        vertical-align: top;\n",
       "    }\n",
       "\n",
       "    .dataframe thead th {\n",
       "        text-align: right;\n",
       "    }\n",
       "</style>\n",
       "<table border=\"1\" class=\"dataframe\">\n",
       "  <thead>\n",
       "    <tr style=\"text-align: right;\">\n",
       "      <th></th>\n",
       "      <th>PCA1</th>\n",
       "      <th>PCA2</th>\n",
       "    </tr>\n",
       "  </thead>\n",
       "  <tbody>\n",
       "    <tr>\n",
       "      <td>0</td>\n",
       "      <td>1.981484</td>\n",
       "      <td>1.605542</td>\n",
       "    </tr>\n",
       "    <tr>\n",
       "      <td>1</td>\n",
       "      <td>0.524251</td>\n",
       "      <td>1.336153</td>\n",
       "    </tr>\n",
       "    <tr>\n",
       "      <td>2</td>\n",
       "      <td>-1.707416</td>\n",
       "      <td>0.474011</td>\n",
       "    </tr>\n",
       "    <tr>\n",
       "      <td>3</td>\n",
       "      <td>-1.077550</td>\n",
       "      <td>-1.155479</td>\n",
       "    </tr>\n",
       "    <tr>\n",
       "      <td>4</td>\n",
       "      <td>-0.476998</td>\n",
       "      <td>-1.843933</td>\n",
       "    </tr>\n",
       "  </tbody>\n",
       "</table>\n",
       "</div>"
      ],
      "text/plain": [
       "       PCA1      PCA2\n",
       "0  1.981484  1.605542\n",
       "1  0.524251  1.336153\n",
       "2 -1.707416  0.474011\n",
       "3 -1.077550 -1.155479\n",
       "4 -0.476998 -1.843933"
      ]
     },
     "execution_count": 28,
     "metadata": {},
     "output_type": "execute_result"
    }
   ],
   "source": [
    "principalDf.head()"
   ]
  },
  {
   "cell_type": "code",
   "execution_count": 29,
   "metadata": {},
   "outputs": [
    {
     "data": {
      "text/plain": [
       "1     A\n",
       "2     A\n",
       "4    <A\n",
       "5     A\n",
       "6     A\n",
       "Name: grade_grouped, dtype: object"
      ]
     },
     "execution_count": 29,
     "metadata": {},
     "output_type": "execute_result"
    }
   ],
   "source": [
    "target = df_pca2.loc[:, 'grade_grouped']\n",
    "target.head()"
   ]
  },
  {
   "cell_type": "code",
   "execution_count": 30,
   "metadata": {},
   "outputs": [
    {
     "data": {
      "text/plain": [
       "1    blue\n",
       "2    blue\n",
       "4     red\n",
       "5    blue\n",
       "6    blue\n",
       "Name: grade_grouped, dtype: object"
      ]
     },
     "execution_count": 30,
     "metadata": {},
     "output_type": "execute_result"
    }
   ],
   "source": [
    "target_colors = target.map({'A':'blue', '<A':'red'})\n",
    "target_colors.head()"
   ]
  },
  {
   "cell_type": "code",
   "execution_count": 31,
   "metadata": {},
   "outputs": [
    {
     "data": {
      "text/plain": [
       "<matplotlib.collections.PathCollection at 0x1a2d9296d8>"
      ]
     },
     "execution_count": 31,
     "metadata": {},
     "output_type": "execute_result"
    },
    {
     "data": {
      "image/png": "[encoded data removed]",
      "text/plain": [
       "<Figure size 432x288 with 1 Axes>"
      ]
     },
     "metadata": {
      "needs_background": "light"
     },
     "output_type": "display_data"
    }
   ],
   "source": [
    "#Graphing the data\n",
    "fig, ax = plt.subplots()\n",
    "ax.set_xlabel('Principal Component 1')\n",
    "ax.set_ylabel('Principal Component 2')\n",
    "ax.set_title('2 component PCA')\n",
    "\n",
    "\n",
    "ax.scatter(principalDf.PCA1, principalDf.PCA2, c=target_colors)"
   ]
  },
  {
   "cell_type": "markdown",
   "metadata": {},
   "source": [
    "* does not separate out well"
   ]
  },
  {
   "cell_type": "code",
   "execution_count": 32,
   "metadata": {},
   "outputs": [
    {
     "data": {
      "text/plain": [
       "array([0.28568298, 0.15694207])"
      ]
     },
     "execution_count": 32,
     "metadata": {},
     "output_type": "execute_result"
    }
   ],
   "source": [
    "#the two principal components only explains less than 50% of the data\n",
    "pca.explained_variance_ratio_"
   ]
  },
  {
   "cell_type": "markdown",
   "metadata": {},
   "source": [
    "# K Means Clustering"
   ]
  },
  {
   "cell_type": "code",
   "execution_count": 33,
   "metadata": {},
   "outputs": [],
   "source": [
    "df_cluster = df_pca2.copy()"
   ]
  },
  {
   "cell_type": "code",
   "execution_count": 34,
   "metadata": {},
   "outputs": [],
   "source": [
    "df_cluster_x = df_pca2.drop(['grade', 'grade_grouped'], axis=1)"
   ]
  },
  {
   "cell_type": "code",
   "execution_count": 35,
   "metadata": {},
   "outputs": [
    {
     "data": {
      "text/html": [
       "<div>\n",
       "<style scoped>\n",
       "    .dataframe tbody tr th:only-of-type {\n",
       "        vertical-align: middle;\n",
       "    }\n",
       "\n",
       "    .dataframe tbody tr th {\n",
       "        vertical-align: top;\n",
       "    }\n",
       "\n",
       "    .dataframe thead th {\n",
       "        text-align: right;\n",
       "    }\n",
       "</style>\n",
       "<table border=\"1\" class=\"dataframe\">\n",
       "  <thead>\n",
       "    <tr style=\"text-align: right;\">\n",
       "      <th></th>\n",
       "      <th>accommodates</th>\n",
       "      <th>bathrooms</th>\n",
       "      <th>host_response_rate</th>\n",
       "      <th>latitude</th>\n",
       "      <th>longitude</th>\n",
       "      <th>number_of_reviews</th>\n",
       "      <th>bedrooms</th>\n",
       "      <th>beds</th>\n",
       "      <th>price</th>\n",
       "      <th>grade</th>\n",
       "      <th>grade_grouped</th>\n",
       "      <th>description_length</th>\n",
       "      <th>length_amenities</th>\n",
       "      <th>host_since_days</th>\n",
       "    </tr>\n",
       "  </thead>\n",
       "  <tbody>\n",
       "    <tr>\n",
       "      <td>1</td>\n",
       "      <td>7</td>\n",
       "      <td>1.0</td>\n",
       "      <td>100.0</td>\n",
       "      <td>40.766115</td>\n",
       "      <td>-73.989040</td>\n",
       "      <td>6</td>\n",
       "      <td>3.0</td>\n",
       "      <td>3.0</td>\n",
       "      <td>1.635086</td>\n",
       "      <td>A</td>\n",
       "      <td>A</td>\n",
       "      <td>1000</td>\n",
       "      <td>15</td>\n",
       "      <td>268.0</td>\n",
       "    </tr>\n",
       "    <tr>\n",
       "      <td>2</td>\n",
       "      <td>5</td>\n",
       "      <td>1.0</td>\n",
       "      <td>100.0</td>\n",
       "      <td>40.808110</td>\n",
       "      <td>-73.943756</td>\n",
       "      <td>10</td>\n",
       "      <td>1.0</td>\n",
       "      <td>3.0</td>\n",
       "      <td>1.604774</td>\n",
       "      <td>A</td>\n",
       "      <td>A</td>\n",
       "      <td>1000</td>\n",
       "      <td>19</td>\n",
       "      <td>505.0</td>\n",
       "    </tr>\n",
       "    <tr>\n",
       "      <td>4</td>\n",
       "      <td>2</td>\n",
       "      <td>1.0</td>\n",
       "      <td>100.0</td>\n",
       "      <td>38.925627</td>\n",
       "      <td>-77.034596</td>\n",
       "      <td>4</td>\n",
       "      <td>0.0</td>\n",
       "      <td>1.0</td>\n",
       "      <td>1.557077</td>\n",
       "      <td>F</td>\n",
       "      <td>&lt;A</td>\n",
       "      <td>699</td>\n",
       "      <td>12</td>\n",
       "      <td>1109.0</td>\n",
       "    </tr>\n",
       "    <tr>\n",
       "      <td>5</td>\n",
       "      <td>2</td>\n",
       "      <td>1.0</td>\n",
       "      <td>100.0</td>\n",
       "      <td>37.753164</td>\n",
       "      <td>-122.429526</td>\n",
       "      <td>3</td>\n",
       "      <td>1.0</td>\n",
       "      <td>1.0</td>\n",
       "      <td>1.491251</td>\n",
       "      <td>A</td>\n",
       "      <td>A</td>\n",
       "      <td>1000</td>\n",
       "      <td>10</td>\n",
       "      <td>280.0</td>\n",
       "    </tr>\n",
       "    <tr>\n",
       "      <td>6</td>\n",
       "      <td>3</td>\n",
       "      <td>1.0</td>\n",
       "      <td>100.0</td>\n",
       "      <td>33.980454</td>\n",
       "      <td>-118.462821</td>\n",
       "      <td>15</td>\n",
       "      <td>1.0</td>\n",
       "      <td>1.0</td>\n",
       "      <td>1.485877</td>\n",
       "      <td>A</td>\n",
       "      <td>A</td>\n",
       "      <td>1000</td>\n",
       "      <td>21</td>\n",
       "      <td>376.0</td>\n",
       "    </tr>\n",
       "  </tbody>\n",
       "</table>\n",
       "</div>"
      ],
      "text/plain": [
       "   accommodates  bathrooms  host_response_rate   latitude   longitude  \\\n",
       "1             7        1.0               100.0  40.766115  -73.989040   \n",
       "2             5        1.0               100.0  40.808110  -73.943756   \n",
       "4             2        1.0               100.0  38.925627  -77.034596   \n",
       "5             2        1.0               100.0  37.753164 -122.429526   \n",
       "6             3        1.0               100.0  33.980454 -118.462821   \n",
       "\n",
       "   number_of_reviews  bedrooms  beds     price grade grade_grouped  \\\n",
       "1                  6       3.0   3.0  1.635086     A             A   \n",
       "2                 10       1.0   3.0  1.604774     A             A   \n",
       "4                  4       0.0   1.0  1.557077     F            <A   \n",
       "5                  3       1.0   1.0  1.491251     A             A   \n",
       "6                 15       1.0   1.0  1.485877     A             A   \n",
       "\n",
       "   description_length  length_amenities  host_since_days  \n",
       "1                1000                15            268.0  \n",
       "2                1000                19            505.0  \n",
       "4                 699                12           1109.0  \n",
       "5                1000                10            280.0  \n",
       "6                1000                21            376.0  "
      ]
     },
     "execution_count": 35,
     "metadata": {},
     "output_type": "execute_result"
    }
   ],
   "source": [
    "df_cluster.head()"
   ]
  },
  {
   "cell_type": "code",
   "execution_count": 36,
   "metadata": {},
   "outputs": [],
   "source": [
    "from sklearn.cluster import KMeans"
   ]
  },
  {
   "cell_type": "code",
   "execution_count": 37,
   "metadata": {},
   "outputs": [],
   "source": [
    "kmeans = KMeans(n_clusters=2)"
   ]
  },
  {
   "cell_type": "markdown",
   "metadata": {},
   "source": [
    "### Try to get 2 clusters"
   ]
  },
  {
   "cell_type": "code",
   "execution_count": 38,
   "metadata": {},
   "outputs": [
    {
     "data": {
      "text/plain": [
       "KMeans(algorithm='auto', copy_x=True, init='k-means++', max_iter=300,\n",
       "       n_clusters=2, n_init=10, n_jobs=None, precompute_distances='auto',\n",
       "       random_state=None, tol=0.0001, verbose=0)"
      ]
     },
     "execution_count": 38,
     "metadata": {},
     "output_type": "execute_result"
    }
   ],
   "source": [
    "#see if we can get clusters to mirror A or not A\n",
    "kmeans.fit(df_cluster_x)"
   ]
  },
  {
   "cell_type": "code",
   "execution_count": 39,
   "metadata": {},
   "outputs": [],
   "source": [
    "labels = kmeans.predict(df_cluster_x)"
   ]
  },
  {
   "cell_type": "code",
   "execution_count": 41,
   "metadata": {},
   "outputs": [
    {
     "data": {
      "text/plain": [
       "<matplotlib.collections.PathCollection at 0x1a2d16cdd8>"
      ]
     },
     "execution_count": 41,
     "metadata": {},
     "output_type": "execute_result"
    },
    {
     "data": {
      "image/png": "[encoded data removed]",
      "text/plain": [
       "<Figure size 432x288 with 1 Axes>"
      ]
     },
     "metadata": {
      "needs_background": "light"
     },
     "output_type": "display_data"
    }
   ],
   "source": [
    "#look at original PCA plot\n",
    "fig, ax = plt.subplots()\n",
    "ax.set_xlabel('Principal Component 1')\n",
    "ax.set_ylabel('Principal Component 2')\n",
    "ax.set_title('2 component PCA')\n",
    "\n",
    "\n",
    "ax.scatter(principalDf.PCA1, principalDf.PCA2, c=labels)"
   ]
  },
  {
   "cell_type": "markdown",
   "metadata": {},
   "source": [
    "* did not do a good job with separation"
   ]
  },
  {
   "cell_type": "markdown",
   "metadata": {},
   "source": [
    "# Elbow Plot"
   ]
  },
  {
   "cell_type": "code",
   "execution_count": 43,
   "metadata": {},
   "outputs": [],
   "source": [
    "from sklearn.cluster import KMeans\n",
    "from sklearn import metrics\n",
    "from scipy.spatial.distance import cdist\n",
    "import numpy as np\n",
    "import matplotlib.pyplot as plt"
   ]
  },
  {
   "cell_type": "code",
   "execution_count": 48,
   "metadata": {},
   "outputs": [
    {
     "data": {
      "image/png": "[encoded data removed]",
      "text/plain": [
       "<Figure size 432x288 with 1 Axes>"
      ]
     },
     "metadata": {
      "needs_background": "light"
     },
     "output_type": "display_data"
    }
   ],
   "source": [
    "distortions = []\n",
    "K = range(1,10)\n",
    "for k in K:\n",
    "    kmeanModel = KMeans(n_clusters=k).fit(df_cluster_x)\n",
    "    kmeanModel.fit(df_cluster_x)\n",
    "    distortions.append(sum(np.min(cdist(df_cluster_x, kmeanModel.cluster_centers_, 'euclidean'), axis=1)) / df_cluster_x.shape[0])\n",
    "\n",
    "# Plot the elbow\n",
    "plt.plot(K, distortions, 'bx-')\n",
    "plt.xlabel('k')\n",
    "plt.ylabel('Distortion')\n",
    "plt.title('The Elbow Method showing the optimal k')\n",
    "plt.show()"
   ]
  },
  {
   "cell_type": "markdown",
   "metadata": {},
   "source": [
    "* optimal k is two?"
   ]
  },
  {
   "cell_type": "markdown",
   "metadata": {},
   "source": [
    "# Other clustering methods"
   ]
  },
  {
   "cell_type": "code",
   "execution_count": null,
   "metadata": {},
   "outputs": [],
   "source": []
  }
 ],
 "metadata": {
  "kernelspec": {
   "display_name": "Python 3",
   "language": "python",
   "name": "python3"
  },
  "language_info": {
   "codemirror_mode": {
    "name": "ipython",
    "version": 3
   },
   "file_extension": ".py",
   "mimetype": "text/x-python",
   "name": "python",
   "nbconvert_exporter": "python",
   "pygments_lexer": "ipython3",
   "version": "3.7.3"
  }
 },
 "nbformat": 4,
 "nbformat_minor": 2
}
