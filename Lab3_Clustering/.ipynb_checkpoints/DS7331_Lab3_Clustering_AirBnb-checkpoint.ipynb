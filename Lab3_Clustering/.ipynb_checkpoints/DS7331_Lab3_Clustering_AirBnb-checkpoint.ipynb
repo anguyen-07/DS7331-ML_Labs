{
 "cells": [
  {
   "cell_type": "markdown",
   "metadata": {},
   "source": [
    "Andy Nguyen, Michael Wolfe, Spencer Fogelman, Joseph Caguioa\n",
    "\n",
    "DS 7331-407\n",
    "\n",
    "Thursday 6:30 - 8:00 PM"
   ]
  },
  {
   "cell_type": "markdown",
   "metadata": {},
   "source": [
    "<center><h1>Lab 3: Cluster Analysis of AirBnb listings in major U.S. cities</h1></center>"
   ]
  },
  {
   "cell_type": "markdown",
   "metadata": {},
   "source": [
    "<a id='top'></a>\n",
    "# Rubric / Table of Contents\n",
    "\n",
    "* [Business Understanding 1](#business_understanding) (10 pts)\n",
    "* [Data Understanding 1](#data_understanding_1) (10 pts)\n",
    "* [Data Understanding 2](#data_understanding_2) (10 pts)\n",
    "* [Modeling and Evaluation 1](#modeling_evaluation_1) (10 pts)\n",
    "* [Modeling and Evaluation 2](#modeling_evaluation_2) (10 pts)\n",
    "* [Modeling and Evaluation 3](#modeling_evaluation_3) (10 pts)\n",
    "* [Modeling and Evaluation 4](#modeling_evaluation_4) (20 pts)\n",
    "* [Deployment](#deployment) (10 pts)\n",
    "* [Exceptional Work](#exceptional_work) (10 pts)"
   ]
  },
  {
   "cell_type": "markdown",
   "metadata": {},
   "source": [
    "## Introduction\n",
    "\n",
    "*Dataset Source: https://www.kaggle.com/rudymizrahi/airbnb-listings-in-major-us-cities-deloitte-ml*\n",
    "\n",
    "This Kaggle dataset contains data on AirBnb listings for 6 major U.S. cities (CHI, DC, LA, NYC, SF, BOS). The competition's original objective was to use the provided attributes to predict the price of a listing. However, the dataset can be adjusted to predict other variables as well.\n",
    "\n",
    "In this notebook, we will use the data on these AirBnb listings to practice clustering algorithms to extract new features from the available data. We will use these new features to build new classifiers and assess any improvements in performance compared to the classification models in our previous notebook."
   ]
  },
  {
   "cell_type": "markdown",
   "metadata": {},
   "source": [
    "### Setup"
   ]
  },
  {
   "cell_type": "code",
   "execution_count": 1,
   "metadata": {},
   "outputs": [],
   "source": [
    "import pandas as pd\n",
    "import numpy as np\n",
    "import seaborn as sns\n",
    "import datetime\n",
    "import csv\n",
    "import matplotlib.pyplot as plt\n",
    "import plotly.graph_objects as go\n",
    "import warnings\n",
    "\n",
    "#from plotnine import *\n",
    "%matplotlib inline\n",
    "warnings.filterwarnings('ignore')"
   ]
  },
  {
   "cell_type": "code",
   "execution_count": 2,
   "metadata": {},
   "outputs": [],
   "source": [
    "def EncodeCategory(col_to_encode):\n",
    "    distinct_cats = col_to_encode.unique()\n",
    "    encode_list = []\n",
    "    i = 1\n",
    "    for cat in distinct_cats:\n",
    "        encode_list.append([cat,i])    \n",
    "        i += 1\n",
    "    return(encode_list)"
   ]
  },
  {
   "cell_type": "markdown",
   "metadata": {},
   "source": [
    "### Data Preparation"
   ]
  },
  {
   "cell_type": "code",
   "execution_count": 3,
   "metadata": {},
   "outputs": [],
   "source": [
    "# Load dataset\n",
    "df = pd.read_csv('https://raw.githubusercontent.com/anguyen-07/DS7331-ML_Labs/master/data/airbnb_train.csv')"
   ]
  },
  {
   "cell_type": "code",
   "execution_count": 4,
   "metadata": {},
   "outputs": [
    {
     "data": {
      "text/html": [
       "<div>\n",
       "<style scoped>\n",
       "    .dataframe tbody tr th:only-of-type {\n",
       "        vertical-align: middle;\n",
       "    }\n",
       "\n",
       "    .dataframe tbody tr th {\n",
       "        vertical-align: top;\n",
       "    }\n",
       "\n",
       "    .dataframe thead th {\n",
       "        text-align: right;\n",
       "    }\n",
       "</style>\n",
       "<table border=\"1\" class=\"dataframe\">\n",
       "  <thead>\n",
       "    <tr style=\"text-align: right;\">\n",
       "      <th></th>\n",
       "      <th>id</th>\n",
       "      <th>log_price</th>\n",
       "      <th>property_type</th>\n",
       "      <th>room_type</th>\n",
       "      <th>amenities</th>\n",
       "      <th>accommodates</th>\n",
       "      <th>bathrooms</th>\n",
       "      <th>bed_type</th>\n",
       "      <th>cancellation_policy</th>\n",
       "      <th>cleaning_fee</th>\n",
       "      <th>city</th>\n",
       "      <th>description</th>\n",
       "      <th>first_review</th>\n",
       "      <th>host_has_profile_pic</th>\n",
       "      <th>host_identity_verified</th>\n",
       "      <th>host_response_rate</th>\n",
       "      <th>host_since</th>\n",
       "      <th>instant_bookable</th>\n",
       "      <th>last_review</th>\n",
       "      <th>latitude</th>\n",
       "      <th>longitude</th>\n",
       "      <th>name</th>\n",
       "      <th>neighbourhood</th>\n",
       "      <th>number_of_reviews</th>\n",
       "      <th>review_scores_rating</th>\n",
       "      <th>thumbnail_url</th>\n",
       "      <th>zipcode</th>\n",
       "      <th>bedrooms</th>\n",
       "      <th>beds</th>\n",
       "    </tr>\n",
       "  </thead>\n",
       "  <tbody>\n",
       "    <tr>\n",
       "      <th>0</th>\n",
       "      <td>6901257</td>\n",
       "      <td>5.010635</td>\n",
       "      <td>Apartment</td>\n",
       "      <td>Entire home/apt</td>\n",
       "      <td>{\"Wireless Internet\",\"Air conditioning\",Kitche...</td>\n",
       "      <td>3</td>\n",
       "      <td>1.0</td>\n",
       "      <td>Real Bed</td>\n",
       "      <td>strict</td>\n",
       "      <td>True</td>\n",
       "      <td>NYC</td>\n",
       "      <td>Beautiful, sunlit brownstone 1-bedroom in the ...</td>\n",
       "      <td>2016-06-18</td>\n",
       "      <td>t</td>\n",
       "      <td>t</td>\n",
       "      <td>NaN</td>\n",
       "      <td>2012-03-26</td>\n",
       "      <td>f</td>\n",
       "      <td>2016-07-18</td>\n",
       "      <td>40.696524</td>\n",
       "      <td>-73.991617</td>\n",
       "      <td>Beautiful brownstone 1-bedroom</td>\n",
       "      <td>Brooklyn Heights</td>\n",
       "      <td>2</td>\n",
       "      <td>100.0</td>\n",
       "      <td>https://a0.muscache.com/im/pictures/6d7cbbf7-c...</td>\n",
       "      <td>11201</td>\n",
       "      <td>1.0</td>\n",
       "      <td>1.0</td>\n",
       "    </tr>\n",
       "    <tr>\n",
       "      <th>1</th>\n",
       "      <td>6304928</td>\n",
       "      <td>5.129899</td>\n",
       "      <td>Apartment</td>\n",
       "      <td>Entire home/apt</td>\n",
       "      <td>{\"Wireless Internet\",\"Air conditioning\",Kitche...</td>\n",
       "      <td>7</td>\n",
       "      <td>1.0</td>\n",
       "      <td>Real Bed</td>\n",
       "      <td>strict</td>\n",
       "      <td>True</td>\n",
       "      <td>NYC</td>\n",
       "      <td>Enjoy travelling during your stay in Manhattan...</td>\n",
       "      <td>2017-08-05</td>\n",
       "      <td>t</td>\n",
       "      <td>f</td>\n",
       "      <td>100%</td>\n",
       "      <td>2017-06-19</td>\n",
       "      <td>t</td>\n",
       "      <td>2017-09-23</td>\n",
       "      <td>40.766115</td>\n",
       "      <td>-73.989040</td>\n",
       "      <td>Superb 3BR Apt Located Near Times Square</td>\n",
       "      <td>Hell's Kitchen</td>\n",
       "      <td>6</td>\n",
       "      <td>93.0</td>\n",
       "      <td>https://a0.muscache.com/im/pictures/348a55fe-4...</td>\n",
       "      <td>10019</td>\n",
       "      <td>3.0</td>\n",
       "      <td>3.0</td>\n",
       "    </tr>\n",
       "    <tr>\n",
       "      <th>2</th>\n",
       "      <td>7919400</td>\n",
       "      <td>4.976734</td>\n",
       "      <td>Apartment</td>\n",
       "      <td>Entire home/apt</td>\n",
       "      <td>{TV,\"Cable TV\",\"Wireless Internet\",\"Air condit...</td>\n",
       "      <td>5</td>\n",
       "      <td>1.0</td>\n",
       "      <td>Real Bed</td>\n",
       "      <td>moderate</td>\n",
       "      <td>True</td>\n",
       "      <td>NYC</td>\n",
       "      <td>The Oasis comes complete with a full backyard ...</td>\n",
       "      <td>2017-04-30</td>\n",
       "      <td>t</td>\n",
       "      <td>t</td>\n",
       "      <td>100%</td>\n",
       "      <td>2016-10-25</td>\n",
       "      <td>t</td>\n",
       "      <td>2017-09-14</td>\n",
       "      <td>40.808110</td>\n",
       "      <td>-73.943756</td>\n",
       "      <td>The Garden Oasis</td>\n",
       "      <td>Harlem</td>\n",
       "      <td>10</td>\n",
       "      <td>92.0</td>\n",
       "      <td>https://a0.muscache.com/im/pictures/6fae5362-9...</td>\n",
       "      <td>10027</td>\n",
       "      <td>1.0</td>\n",
       "      <td>3.0</td>\n",
       "    </tr>\n",
       "    <tr>\n",
       "      <th>3</th>\n",
       "      <td>13418779</td>\n",
       "      <td>6.620073</td>\n",
       "      <td>House</td>\n",
       "      <td>Entire home/apt</td>\n",
       "      <td>{TV,\"Cable TV\",Internet,\"Wireless Internet\",Ki...</td>\n",
       "      <td>4</td>\n",
       "      <td>1.0</td>\n",
       "      <td>Real Bed</td>\n",
       "      <td>flexible</td>\n",
       "      <td>True</td>\n",
       "      <td>SF</td>\n",
       "      <td>This light-filled home-away-from-home is super...</td>\n",
       "      <td>NaN</td>\n",
       "      <td>t</td>\n",
       "      <td>t</td>\n",
       "      <td>NaN</td>\n",
       "      <td>2015-04-19</td>\n",
       "      <td>f</td>\n",
       "      <td>NaN</td>\n",
       "      <td>37.772004</td>\n",
       "      <td>-122.431619</td>\n",
       "      <td>Beautiful Flat in the Heart of SF!</td>\n",
       "      <td>Lower Haight</td>\n",
       "      <td>0</td>\n",
       "      <td>NaN</td>\n",
       "      <td>https://a0.muscache.com/im/pictures/72208dad-9...</td>\n",
       "      <td>94117.0</td>\n",
       "      <td>2.0</td>\n",
       "      <td>2.0</td>\n",
       "    </tr>\n",
       "    <tr>\n",
       "      <th>4</th>\n",
       "      <td>3808709</td>\n",
       "      <td>4.744932</td>\n",
       "      <td>Apartment</td>\n",
       "      <td>Entire home/apt</td>\n",
       "      <td>{TV,Internet,\"Wireless Internet\",\"Air conditio...</td>\n",
       "      <td>2</td>\n",
       "      <td>1.0</td>\n",
       "      <td>Real Bed</td>\n",
       "      <td>moderate</td>\n",
       "      <td>True</td>\n",
       "      <td>DC</td>\n",
       "      <td>Cool, cozy, and comfortable studio located in ...</td>\n",
       "      <td>2015-05-12</td>\n",
       "      <td>t</td>\n",
       "      <td>t</td>\n",
       "      <td>100%</td>\n",
       "      <td>2015-03-01</td>\n",
       "      <td>t</td>\n",
       "      <td>2017-01-22</td>\n",
       "      <td>38.925627</td>\n",
       "      <td>-77.034596</td>\n",
       "      <td>Great studio in midtown DC</td>\n",
       "      <td>Columbia Heights</td>\n",
       "      <td>4</td>\n",
       "      <td>40.0</td>\n",
       "      <td>NaN</td>\n",
       "      <td>20009</td>\n",
       "      <td>0.0</td>\n",
       "      <td>1.0</td>\n",
       "    </tr>\n",
       "  </tbody>\n",
       "</table>\n",
       "</div>"
      ],
      "text/plain": [
       "         id  log_price property_type        room_type  \\\n",
       "0   6901257   5.010635     Apartment  Entire home/apt   \n",
       "1   6304928   5.129899     Apartment  Entire home/apt   \n",
       "2   7919400   4.976734     Apartment  Entire home/apt   \n",
       "3  13418779   6.620073         House  Entire home/apt   \n",
       "4   3808709   4.744932     Apartment  Entire home/apt   \n",
       "\n",
       "                                           amenities  accommodates  bathrooms  \\\n",
       "0  {\"Wireless Internet\",\"Air conditioning\",Kitche...             3        1.0   \n",
       "1  {\"Wireless Internet\",\"Air conditioning\",Kitche...             7        1.0   \n",
       "2  {TV,\"Cable TV\",\"Wireless Internet\",\"Air condit...             5        1.0   \n",
       "3  {TV,\"Cable TV\",Internet,\"Wireless Internet\",Ki...             4        1.0   \n",
       "4  {TV,Internet,\"Wireless Internet\",\"Air conditio...             2        1.0   \n",
       "\n",
       "   bed_type cancellation_policy  cleaning_fee city  \\\n",
       "0  Real Bed              strict          True  NYC   \n",
       "1  Real Bed              strict          True  NYC   \n",
       "2  Real Bed            moderate          True  NYC   \n",
       "3  Real Bed            flexible          True   SF   \n",
       "4  Real Bed            moderate          True   DC   \n",
       "\n",
       "                                         description first_review  \\\n",
       "0  Beautiful, sunlit brownstone 1-bedroom in the ...   2016-06-18   \n",
       "1  Enjoy travelling during your stay in Manhattan...   2017-08-05   \n",
       "2  The Oasis comes complete with a full backyard ...   2017-04-30   \n",
       "3  This light-filled home-away-from-home is super...          NaN   \n",
       "4  Cool, cozy, and comfortable studio located in ...   2015-05-12   \n",
       "\n",
       "  host_has_profile_pic host_identity_verified host_response_rate  host_since  \\\n",
       "0                    t                      t                NaN  2012-03-26   \n",
       "1                    t                      f               100%  2017-06-19   \n",
       "2                    t                      t               100%  2016-10-25   \n",
       "3                    t                      t                NaN  2015-04-19   \n",
       "4                    t                      t               100%  2015-03-01   \n",
       "\n",
       "  instant_bookable last_review   latitude   longitude  \\\n",
       "0                f  2016-07-18  40.696524  -73.991617   \n",
       "1                t  2017-09-23  40.766115  -73.989040   \n",
       "2                t  2017-09-14  40.808110  -73.943756   \n",
       "3                f         NaN  37.772004 -122.431619   \n",
       "4                t  2017-01-22  38.925627  -77.034596   \n",
       "\n",
       "                                       name     neighbourhood  \\\n",
       "0            Beautiful brownstone 1-bedroom  Brooklyn Heights   \n",
       "1  Superb 3BR Apt Located Near Times Square    Hell's Kitchen   \n",
       "2                          The Garden Oasis            Harlem   \n",
       "3        Beautiful Flat in the Heart of SF!      Lower Haight   \n",
       "4                Great studio in midtown DC  Columbia Heights   \n",
       "\n",
       "   number_of_reviews  review_scores_rating  \\\n",
       "0                  2                 100.0   \n",
       "1                  6                  93.0   \n",
       "2                 10                  92.0   \n",
       "3                  0                   NaN   \n",
       "4                  4                  40.0   \n",
       "\n",
       "                                       thumbnail_url  zipcode  bedrooms  beds  \n",
       "0  https://a0.muscache.com/im/pictures/6d7cbbf7-c...    11201       1.0   1.0  \n",
       "1  https://a0.muscache.com/im/pictures/348a55fe-4...    10019       3.0   3.0  \n",
       "2  https://a0.muscache.com/im/pictures/6fae5362-9...    10027       1.0   3.0  \n",
       "3  https://a0.muscache.com/im/pictures/72208dad-9...  94117.0       2.0   2.0  \n",
       "4                                                NaN    20009       0.0   1.0  "
      ]
     },
     "execution_count": 4,
     "metadata": {},
     "output_type": "execute_result"
    }
   ],
   "source": [
    "pd.set_option('display.max_columns', None)\n",
    "pd.set_option('display.max_rows', None)\n",
    "df.head()"
   ]
  },
  {
   "cell_type": "code",
   "execution_count": 5,
   "metadata": {},
   "outputs": [
    {
     "data": {
      "text/html": [
       "<div>\n",
       "<style scoped>\n",
       "    .dataframe tbody tr th:only-of-type {\n",
       "        vertical-align: middle;\n",
       "    }\n",
       "\n",
       "    .dataframe tbody tr th {\n",
       "        vertical-align: top;\n",
       "    }\n",
       "\n",
       "    .dataframe thead th {\n",
       "        text-align: right;\n",
       "    }\n",
       "</style>\n",
       "<table border=\"1\" class=\"dataframe\">\n",
       "  <thead>\n",
       "    <tr style=\"text-align: right;\">\n",
       "      <th></th>\n",
       "      <th>grade</th>\n",
       "      <th>review_scores_rating</th>\n",
       "    </tr>\n",
       "  </thead>\n",
       "  <tbody>\n",
       "    <tr>\n",
       "      <th>0</th>\n",
       "      <td>A</td>\n",
       "      <td>100.0</td>\n",
       "    </tr>\n",
       "    <tr>\n",
       "      <th>1</th>\n",
       "      <td>A</td>\n",
       "      <td>93.0</td>\n",
       "    </tr>\n",
       "    <tr>\n",
       "      <th>2</th>\n",
       "      <td>A</td>\n",
       "      <td>92.0</td>\n",
       "    </tr>\n",
       "    <tr>\n",
       "      <th>3</th>\n",
       "      <td>NaN</td>\n",
       "      <td>NaN</td>\n",
       "    </tr>\n",
       "    <tr>\n",
       "      <th>4</th>\n",
       "      <td>F</td>\n",
       "      <td>40.0</td>\n",
       "    </tr>\n",
       "  </tbody>\n",
       "</table>\n",
       "</div>"
      ],
      "text/plain": [
       "  grade  review_scores_rating\n",
       "0     A                 100.0\n",
       "1     A                  93.0\n",
       "2     A                  92.0\n",
       "3   NaN                   NaN\n",
       "4     F                  40.0"
      ]
     },
     "execution_count": 5,
     "metadata": {},
     "output_type": "execute_result"
    }
   ],
   "source": [
    "df['price'] = np.exp(df['log_price'])\n",
    "df['grade'] = pd.cut(df.review_scores_rating, [0,60,70,80,90,101], right=False, labels = ['F', 'D', 'C', 'B', 'A'])\n",
    "df[['grade', 'review_scores_rating']].head()"
   ]
  },
  {
   "cell_type": "code",
   "execution_count": 6,
   "metadata": {},
   "outputs": [],
   "source": [
    "# Clean up datatypes and duplicates\n",
    "df_ratings = df.dropna(subset=['review_scores_rating'])\n",
    "df_ratings.drop_duplicates(inplace=True)\n",
    "floats = ['log_price','bathrooms','latitude','longitude','review_scores_rating', 'price']\n",
    "df_ratings[floats] = df_ratings[floats].astype(np.float64)\n",
    "ints = ['id','accommodates','number_of_reviews','bedrooms','beds']\n",
    "df_ratings[\"host_response_rate\"] = df_ratings[\"host_response_rate\"].str.rstrip('%').astype(np.float64)/100\n",
    "date_time = ['first_review','host_since','last_review']\n",
    "df_ratings[date_time] = df_ratings[date_time].apply(pd.to_datetime)\n",
    "booleans = ['host_has_profile_pic','host_identity_verified','instant_bookable']\n",
    "df_ratings[booleans] = df_ratings[booleans].replace({'t':True,'f':False})\n",
    "df_ratings[booleans] = df_ratings[booleans].astype(np.bool)\n",
    "categorical = ['property_type','room_type','bed_type','cancellation_policy','city','neighbourhood','zipcode']\n",
    "df_ratings[categorical] = df_ratings[categorical].astype('category')\n",
    "df_ratings.drop_duplicates()\n",
    "df_ratings.host_since[df_ratings.host_since.isna()] = df_ratings.first_review[df_ratings.host_since.isna()]"
   ]
  },
  {
   "cell_type": "code",
   "execution_count": 7,
   "metadata": {},
   "outputs": [],
   "source": [
    "# Impute missing values\n",
    "df_imputed = df_ratings\n",
    "df_imputed[\"bathrooms\"] = df_imputed[\"bathrooms\"].fillna(df_imputed.groupby([\"property_type\",\"accommodates\"])[\"bathrooms\"].apply(lambda x : x.fillna(x.median())))\n",
    "df_imputed[\"bedrooms\"] = df_imputed[\"bedrooms\"].fillna(df_imputed.groupby([\"property_type\",\"accommodates\"])[\"bedrooms\"].apply(lambda x : x.fillna(x.median())))\n",
    "df_imputed[\"beds\"] = df_imputed[\"beds\"].fillna(df_imputed.groupby([\"property_type\",\"accommodates\"])[\"beds\"].apply(lambda x : x.fillna(x.median())))\n",
    "df_imputed[\"host_response_rate\"] = df_imputed[\"host_response_rate\"].fillna(df_imputed.groupby([\"number_of_reviews\"])[\"host_response_rate\"].apply(lambda x : x.fillna(x.mean())))\n",
    "# Impute Missing Value of for 100% Host Response Rate for Row 48194 - Private Room in Apartment\n",
    "df_imputed[\"host_response_rate\"][df_imputed[\"host_response_rate\"].isna()] = 1.0\n",
    "df_imputed[ints] = df_imputed[ints].astype(np.int64)"
   ]
  },
  {
   "cell_type": "code",
   "execution_count": 8,
   "metadata": {},
   "outputs": [],
   "source": [
    "import re\n",
    "#Create a new cleaned amenities column where all amenities are in list form\n",
    "df_imputed['amenities_new'] = df_imputed.apply(lambda row: re.sub(r'[{}\"\"]', '', row['amenities']), axis=1)\n",
    "df_imputed['amenities_new'] = df_imputed.apply(lambda row: row['amenities_new'].lower().split(','), axis=1)\n",
    "df_imputed = df_imputed.reset_index()\n",
    "df_imputed['length_amenities'] = df_imputed.apply(lambda row: len(row['amenities_new']), axis=1)\n",
    "\n",
    "# Create separate columns based on amenities\n",
    "df_imputed['internet'] = df_imputed.apply(lambda row: 'internet' in row.amenities.lower(), axis=1)\n",
    "df_imputed['TV'] = df_imputed.apply(lambda row: 'tv' in row.amenities.lower(), axis=1)\n",
    "df_imputed['air_conditioning'] = df_imputed.apply(lambda row: 'air conditioning' in row.amenities.lower(), axis=1)\n",
    "df_imputed['kitchen'] = df_imputed.apply(lambda row: 'kitchen' in row.amenities.lower(), axis=1)\n",
    "df_imputed['pool'] = df_imputed.apply(lambda row: 'pool' in row.amenities.lower(), axis=1)\n",
    "df_imputed['parking'] = df_imputed.apply(lambda row: 'parking' in row.amenities.lower(), axis=1)\n",
    "\n",
    "# Get information from description based on length in characters\n",
    "df_imputed['description_length'] = df_imputed['description'].apply(len)\n",
    "\n",
    "# Create the target variable superuser\n",
    "df_imputed['superuser'] = False\n",
    "df_imputed.loc[df.review_scores_rating >=96, 'superuser'] = True\n",
    "\n",
    "# Create altnerative target variable grade_grouped\n",
    "new_grades = {\n",
    "    'A':'A',\n",
    "    'B':'<A',\n",
    "    'C':'<A',\n",
    "    'D':'<A',\n",
    "    'F':'<A'\n",
    "}\n",
    "df_imputed['grade_grouped'] = df_imputed['grade'].map(new_grades)"
   ]
  },
  {
   "cell_type": "code",
   "execution_count": 9,
   "metadata": {},
   "outputs": [],
   "source": [
    "import datetime\n",
    "date_published = datetime.datetime(2018,3,14)\n",
    "df_imputed['host_since'] = pd.to_datetime(df_imputed['host_since'])\n",
    "df_imputed['host_since_days'] = df_imputed.apply(lambda row: (date_published - row['host_since']).days, axis=1)"
   ]
  },
  {
   "cell_type": "markdown",
   "metadata": {},
   "source": [
    "**Removed columns that are not meaningful in a modeling context (i.e., index,id), redundant with newly engineered features (i.e., amenities, description), or are likenly not useful in predicting the target variable grade_grouped.**"
   ]
  },
  {
   "cell_type": "code",
   "execution_count": 10,
   "metadata": {},
   "outputs": [],
   "source": [
    "# delete useless columns\n",
    "df_logistic = df_imputed.drop(['index','id','amenities','description','zipcode','description_length',\n",
    "                               'latitude','longitude','name','neighbourhood','review_scores_rating','thumbnail_url',\n",
    "                               'zipcode'], axis=1)\n",
    "\n",
    "# delete other redundant variables\n",
    "del df_logistic['amenities_new']\n",
    "del df_logistic['host_since']\n",
    "# del df_logistic['grade']\n",
    "del df_logistic['first_review']\n",
    "del df_logistic['last_review']\n",
    "\n",
    "# Remove factor with unncessarily large number of levels\n",
    "df_logistic.drop(['property_type'], axis=1, inplace=True)"
   ]
  },
  {
   "cell_type": "markdown",
   "metadata": {},
   "source": [
    "**One-Hot Encode Categorical Variables with multiple levels.**"
   ]
  },
  {
   "cell_type": "code",
   "execution_count": 11,
   "metadata": {},
   "outputs": [],
   "source": [
    "categorical_vars = ['room_type','bed_type','cancellation_policy','city']\n",
    "\n",
    "# Create Dummy Variables\n",
    "multiCategorical_vars = ['city','cancellation_policy','bed_type','room_type']\n",
    "\n",
    "dummy_df = pd.get_dummies(df_logistic[multiCategorical_vars], drop_first = True)\n",
    "df_final = pd.concat([df_logistic, dummy_df], axis=1)\n",
    "del df_final['grade']\n",
    "\n",
    "# Delete non-dummy categorical variables\n",
    "for x in categorical_vars:\n",
    "    if x in df_final:\n",
    "        del df_final[x]"
   ]
  },
  {
   "cell_type": "code",
   "execution_count": 12,
   "metadata": {},
   "outputs": [
    {
     "name": "stdout",
     "output_type": "stream",
     "text": [
      "<class 'pandas.core.frame.DataFrame'>\n",
      "RangeIndex: 57389 entries, 0 to 57388\n",
      "Data columns (total 37 columns):\n",
      "log_price                              57389 non-null float64\n",
      "accommodates                           57389 non-null int64\n",
      "bathrooms                              57389 non-null float64\n",
      "cleaning_fee                           57389 non-null bool\n",
      "host_has_profile_pic                   57389 non-null bool\n",
      "host_identity_verified                 57389 non-null bool\n",
      "host_response_rate                     57389 non-null float64\n",
      "instant_bookable                       57389 non-null bool\n",
      "number_of_reviews                      57389 non-null int64\n",
      "bedrooms                               57389 non-null int64\n",
      "beds                                   57389 non-null int64\n",
      "price                                  57389 non-null float64\n",
      "length_amenities                       57389 non-null int64\n",
      "internet                               57389 non-null bool\n",
      "TV                                     57389 non-null bool\n",
      "air_conditioning                       57389 non-null bool\n",
      "kitchen                                57389 non-null bool\n",
      "pool                                   57389 non-null bool\n",
      "parking                                57389 non-null bool\n",
      "superuser                              57389 non-null bool\n",
      "grade_grouped                          57389 non-null object\n",
      "host_since_days                        57389 non-null int64\n",
      "city_Chicago                           57389 non-null uint8\n",
      "city_DC                                57389 non-null uint8\n",
      "city_LA                                57389 non-null uint8\n",
      "city_NYC                               57389 non-null uint8\n",
      "city_SF                                57389 non-null uint8\n",
      "cancellation_policy_moderate           57389 non-null uint8\n",
      "cancellation_policy_strict             57389 non-null uint8\n",
      "cancellation_policy_super_strict_30    57389 non-null uint8\n",
      "cancellation_policy_super_strict_60    57389 non-null uint8\n",
      "bed_type_Couch                         57389 non-null uint8\n",
      "bed_type_Futon                         57389 non-null uint8\n",
      "bed_type_Pull-out Sofa                 57389 non-null uint8\n",
      "bed_type_Real Bed                      57389 non-null uint8\n",
      "room_type_Private room                 57389 non-null uint8\n",
      "room_type_Shared room                  57389 non-null uint8\n",
      "dtypes: bool(11), float64(4), int64(6), object(1), uint8(15)\n",
      "memory usage: 6.2+ MB\n"
     ]
    }
   ],
   "source": [
    "#df_final = df_final.loc[df_imputed['grade'] == 'A'].reset_index()\n",
    "df_final.info()"
   ]
  },
  {
   "cell_type": "markdown",
   "metadata": {},
   "source": [
    "## <a id='business_understanding'>Business Understanding</a> (10 pts)\n",
    "[Return to top](#top)"
   ]
  },
  {
   "cell_type": "markdown",
   "metadata": {},
   "source": [
    "<i><span style='color:gray'>\n",
    "Describe the purpose of the data set you selected (i.e., why was this data collected in the first place?). How will you measure the effective of a good algorithm? Why does your chosen validation method make sense for this specific dataset and the stakeholders needs?\n",
    "</span></i>"
   ]
  },
  {
   "cell_type": "code",
   "execution_count": 13,
   "metadata": {},
   "outputs": [
    {
     "data": {
      "text/html": [
       "<div>\n",
       "<style scoped>\n",
       "    .dataframe tbody tr th:only-of-type {\n",
       "        vertical-align: middle;\n",
       "    }\n",
       "\n",
       "    .dataframe tbody tr th {\n",
       "        vertical-align: top;\n",
       "    }\n",
       "\n",
       "    .dataframe thead th {\n",
       "        text-align: right;\n",
       "    }\n",
       "</style>\n",
       "<table border=\"1\" class=\"dataframe\">\n",
       "  <thead>\n",
       "    <tr style=\"text-align: right;\">\n",
       "      <th></th>\n",
       "      <th>log_price</th>\n",
       "      <th>accommodates</th>\n",
       "      <th>bathrooms</th>\n",
       "      <th>host_response_rate</th>\n",
       "      <th>number_of_reviews</th>\n",
       "      <th>bedrooms</th>\n",
       "      <th>beds</th>\n",
       "      <th>price</th>\n",
       "      <th>length_amenities</th>\n",
       "      <th>host_since_days</th>\n",
       "      <th>city_Chicago</th>\n",
       "      <th>city_DC</th>\n",
       "      <th>city_LA</th>\n",
       "      <th>city_NYC</th>\n",
       "      <th>city_SF</th>\n",
       "      <th>cancellation_policy_moderate</th>\n",
       "      <th>cancellation_policy_strict</th>\n",
       "      <th>cancellation_policy_super_strict_30</th>\n",
       "      <th>cancellation_policy_super_strict_60</th>\n",
       "      <th>bed_type_Couch</th>\n",
       "      <th>bed_type_Futon</th>\n",
       "      <th>bed_type_Pull-out Sofa</th>\n",
       "      <th>bed_type_Real Bed</th>\n",
       "      <th>room_type_Private room</th>\n",
       "      <th>room_type_Shared room</th>\n",
       "    </tr>\n",
       "  </thead>\n",
       "  <tbody>\n",
       "    <tr>\n",
       "      <th>count</th>\n",
       "      <td>57389.000000</td>\n",
       "      <td>57389.000000</td>\n",
       "      <td>57389.000000</td>\n",
       "      <td>57389.000000</td>\n",
       "      <td>57389.000000</td>\n",
       "      <td>57389.000000</td>\n",
       "      <td>57389.000000</td>\n",
       "      <td>57389.000000</td>\n",
       "      <td>57389.000000</td>\n",
       "      <td>57389.000000</td>\n",
       "      <td>57389.000000</td>\n",
       "      <td>57389.000000</td>\n",
       "      <td>57389.000000</td>\n",
       "      <td>57389.000000</td>\n",
       "      <td>57389.000000</td>\n",
       "      <td>57389.000000</td>\n",
       "      <td>57389.000000</td>\n",
       "      <td>57389.000000</td>\n",
       "      <td>57389.000000</td>\n",
       "      <td>57389.000000</td>\n",
       "      <td>57389.000000</td>\n",
       "      <td>57389.000000</td>\n",
       "      <td>57389.000000</td>\n",
       "      <td>57389.000000</td>\n",
       "      <td>57389.000000</td>\n",
       "    </tr>\n",
       "    <tr>\n",
       "      <th>mean</th>\n",
       "      <td>4.749232</td>\n",
       "      <td>3.218247</td>\n",
       "      <td>1.225967</td>\n",
       "      <td>0.952633</td>\n",
       "      <td>26.957326</td>\n",
       "      <td>1.260904</td>\n",
       "      <td>1.737546</td>\n",
       "      <td>147.748297</td>\n",
       "      <td>18.357943</td>\n",
       "      <td>1373.129380</td>\n",
       "      <td>0.055899</td>\n",
       "      <td>0.071442</td>\n",
       "      <td>0.299465</td>\n",
       "      <td>0.436111</td>\n",
       "      <td>0.087944</td>\n",
       "      <td>0.287355</td>\n",
       "      <td>0.484884</td>\n",
       "      <td>0.001446</td>\n",
       "      <td>0.000174</td>\n",
       "      <td>0.002771</td>\n",
       "      <td>0.010560</td>\n",
       "      <td>0.008608</td>\n",
       "      <td>0.972068</td>\n",
       "      <td>0.399536</td>\n",
       "      <td>0.025144</td>\n",
       "    </tr>\n",
       "    <tr>\n",
       "      <th>std</th>\n",
       "      <td>0.668700</td>\n",
       "      <td>2.144154</td>\n",
       "      <td>0.561473</td>\n",
       "      <td>0.122000</td>\n",
       "      <td>41.043449</td>\n",
       "      <td>0.841280</td>\n",
       "      <td>1.265311</td>\n",
       "      <td>134.512852</td>\n",
       "      <td>6.907464</td>\n",
       "      <td>662.667741</td>\n",
       "      <td>0.229729</td>\n",
       "      <td>0.257564</td>\n",
       "      <td>0.458028</td>\n",
       "      <td>0.495906</td>\n",
       "      <td>0.283215</td>\n",
       "      <td>0.452532</td>\n",
       "      <td>0.499776</td>\n",
       "      <td>0.038003</td>\n",
       "      <td>0.013199</td>\n",
       "      <td>0.052564</td>\n",
       "      <td>0.102216</td>\n",
       "      <td>0.092380</td>\n",
       "      <td>0.164780</td>\n",
       "      <td>0.489807</td>\n",
       "      <td>0.156564</td>\n",
       "    </tr>\n",
       "    <tr>\n",
       "      <th>min</th>\n",
       "      <td>0.000000</td>\n",
       "      <td>1.000000</td>\n",
       "      <td>0.000000</td>\n",
       "      <td>0.000000</td>\n",
       "      <td>1.000000</td>\n",
       "      <td>0.000000</td>\n",
       "      <td>0.000000</td>\n",
       "      <td>1.000000</td>\n",
       "      <td>1.000000</td>\n",
       "      <td>167.000000</td>\n",
       "      <td>0.000000</td>\n",
       "      <td>0.000000</td>\n",
       "      <td>0.000000</td>\n",
       "      <td>0.000000</td>\n",
       "      <td>0.000000</td>\n",
       "      <td>0.000000</td>\n",
       "      <td>0.000000</td>\n",
       "      <td>0.000000</td>\n",
       "      <td>0.000000</td>\n",
       "      <td>0.000000</td>\n",
       "      <td>0.000000</td>\n",
       "      <td>0.000000</td>\n",
       "      <td>0.000000</td>\n",
       "      <td>0.000000</td>\n",
       "      <td>0.000000</td>\n",
       "    </tr>\n",
       "    <tr>\n",
       "      <th>25%</th>\n",
       "      <td>4.304065</td>\n",
       "      <td>2.000000</td>\n",
       "      <td>1.000000</td>\n",
       "      <td>0.940000</td>\n",
       "      <td>3.000000</td>\n",
       "      <td>1.000000</td>\n",
       "      <td>1.000000</td>\n",
       "      <td>74.000000</td>\n",
       "      <td>14.000000</td>\n",
       "      <td>851.000000</td>\n",
       "      <td>0.000000</td>\n",
       "      <td>0.000000</td>\n",
       "      <td>0.000000</td>\n",
       "      <td>0.000000</td>\n",
       "      <td>0.000000</td>\n",
       "      <td>0.000000</td>\n",
       "      <td>0.000000</td>\n",
       "      <td>0.000000</td>\n",
       "      <td>0.000000</td>\n",
       "      <td>0.000000</td>\n",
       "      <td>0.000000</td>\n",
       "      <td>0.000000</td>\n",
       "      <td>1.000000</td>\n",
       "      <td>0.000000</td>\n",
       "      <td>0.000000</td>\n",
       "    </tr>\n",
       "    <tr>\n",
       "      <th>50%</th>\n",
       "      <td>4.700480</td>\n",
       "      <td>2.000000</td>\n",
       "      <td>1.000000</td>\n",
       "      <td>1.000000</td>\n",
       "      <td>11.000000</td>\n",
       "      <td>1.000000</td>\n",
       "      <td>1.000000</td>\n",
       "      <td>110.000000</td>\n",
       "      <td>18.000000</td>\n",
       "      <td>1312.000000</td>\n",
       "      <td>0.000000</td>\n",
       "      <td>0.000000</td>\n",
       "      <td>0.000000</td>\n",
       "      <td>0.000000</td>\n",
       "      <td>0.000000</td>\n",
       "      <td>0.000000</td>\n",
       "      <td>0.000000</td>\n",
       "      <td>0.000000</td>\n",
       "      <td>0.000000</td>\n",
       "      <td>0.000000</td>\n",
       "      <td>0.000000</td>\n",
       "      <td>0.000000</td>\n",
       "      <td>1.000000</td>\n",
       "      <td>0.000000</td>\n",
       "      <td>0.000000</td>\n",
       "    </tr>\n",
       "    <tr>\n",
       "      <th>75%</th>\n",
       "      <td>5.164786</td>\n",
       "      <td>4.000000</td>\n",
       "      <td>1.000000</td>\n",
       "      <td>1.000000</td>\n",
       "      <td>33.000000</td>\n",
       "      <td>1.000000</td>\n",
       "      <td>2.000000</td>\n",
       "      <td>175.000000</td>\n",
       "      <td>22.000000</td>\n",
       "      <td>1841.000000</td>\n",
       "      <td>0.000000</td>\n",
       "      <td>0.000000</td>\n",
       "      <td>1.000000</td>\n",
       "      <td>1.000000</td>\n",
       "      <td>0.000000</td>\n",
       "      <td>1.000000</td>\n",
       "      <td>1.000000</td>\n",
       "      <td>0.000000</td>\n",
       "      <td>0.000000</td>\n",
       "      <td>0.000000</td>\n",
       "      <td>0.000000</td>\n",
       "      <td>0.000000</td>\n",
       "      <td>1.000000</td>\n",
       "      <td>1.000000</td>\n",
       "      <td>0.000000</td>\n",
       "    </tr>\n",
       "    <tr>\n",
       "      <th>max</th>\n",
       "      <td>7.600402</td>\n",
       "      <td>16.000000</td>\n",
       "      <td>8.000000</td>\n",
       "      <td>1.000000</td>\n",
       "      <td>605.000000</td>\n",
       "      <td>10.000000</td>\n",
       "      <td>18.000000</td>\n",
       "      <td>1999.000000</td>\n",
       "      <td>77.000000</td>\n",
       "      <td>3663.000000</td>\n",
       "      <td>1.000000</td>\n",
       "      <td>1.000000</td>\n",
       "      <td>1.000000</td>\n",
       "      <td>1.000000</td>\n",
       "      <td>1.000000</td>\n",
       "      <td>1.000000</td>\n",
       "      <td>1.000000</td>\n",
       "      <td>1.000000</td>\n",
       "      <td>1.000000</td>\n",
       "      <td>1.000000</td>\n",
       "      <td>1.000000</td>\n",
       "      <td>1.000000</td>\n",
       "      <td>1.000000</td>\n",
       "      <td>1.000000</td>\n",
       "      <td>1.000000</td>\n",
       "    </tr>\n",
       "  </tbody>\n",
       "</table>\n",
       "</div>"
      ],
      "text/plain": [
       "          log_price  accommodates     bathrooms  host_response_rate  \\\n",
       "count  57389.000000  57389.000000  57389.000000        57389.000000   \n",
       "mean       4.749232      3.218247      1.225967            0.952633   \n",
       "std        0.668700      2.144154      0.561473            0.122000   \n",
       "min        0.000000      1.000000      0.000000            0.000000   \n",
       "25%        4.304065      2.000000      1.000000            0.940000   \n",
       "50%        4.700480      2.000000      1.000000            1.000000   \n",
       "75%        5.164786      4.000000      1.000000            1.000000   \n",
       "max        7.600402     16.000000      8.000000            1.000000   \n",
       "\n",
       "       number_of_reviews      bedrooms          beds         price  \\\n",
       "count       57389.000000  57389.000000  57389.000000  57389.000000   \n",
       "mean           26.957326      1.260904      1.737546    147.748297   \n",
       "std            41.043449      0.841280      1.265311    134.512852   \n",
       "min             1.000000      0.000000      0.000000      1.000000   \n",
       "25%             3.000000      1.000000      1.000000     74.000000   \n",
       "50%            11.000000      1.000000      1.000000    110.000000   \n",
       "75%            33.000000      1.000000      2.000000    175.000000   \n",
       "max           605.000000     10.000000     18.000000   1999.000000   \n",
       "\n",
       "       length_amenities  host_since_days  city_Chicago       city_DC  \\\n",
       "count      57389.000000     57389.000000  57389.000000  57389.000000   \n",
       "mean          18.357943      1373.129380      0.055899      0.071442   \n",
       "std            6.907464       662.667741      0.229729      0.257564   \n",
       "min            1.000000       167.000000      0.000000      0.000000   \n",
       "25%           14.000000       851.000000      0.000000      0.000000   \n",
       "50%           18.000000      1312.000000      0.000000      0.000000   \n",
       "75%           22.000000      1841.000000      0.000000      0.000000   \n",
       "max           77.000000      3663.000000      1.000000      1.000000   \n",
       "\n",
       "            city_LA      city_NYC       city_SF  cancellation_policy_moderate  \\\n",
       "count  57389.000000  57389.000000  57389.000000                  57389.000000   \n",
       "mean       0.299465      0.436111      0.087944                      0.287355   \n",
       "std        0.458028      0.495906      0.283215                      0.452532   \n",
       "min        0.000000      0.000000      0.000000                      0.000000   \n",
       "25%        0.000000      0.000000      0.000000                      0.000000   \n",
       "50%        0.000000      0.000000      0.000000                      0.000000   \n",
       "75%        1.000000      1.000000      0.000000                      1.000000   \n",
       "max        1.000000      1.000000      1.000000                      1.000000   \n",
       "\n",
       "       cancellation_policy_strict  cancellation_policy_super_strict_30  \\\n",
       "count                57389.000000                         57389.000000   \n",
       "mean                     0.484884                             0.001446   \n",
       "std                      0.499776                             0.038003   \n",
       "min                      0.000000                             0.000000   \n",
       "25%                      0.000000                             0.000000   \n",
       "50%                      0.000000                             0.000000   \n",
       "75%                      1.000000                             0.000000   \n",
       "max                      1.000000                             1.000000   \n",
       "\n",
       "       cancellation_policy_super_strict_60  bed_type_Couch  bed_type_Futon  \\\n",
       "count                         57389.000000    57389.000000    57389.000000   \n",
       "mean                              0.000174        0.002771        0.010560   \n",
       "std                               0.013199        0.052564        0.102216   \n",
       "min                               0.000000        0.000000        0.000000   \n",
       "25%                               0.000000        0.000000        0.000000   \n",
       "50%                               0.000000        0.000000        0.000000   \n",
       "75%                               0.000000        0.000000        0.000000   \n",
       "max                               1.000000        1.000000        1.000000   \n",
       "\n",
       "       bed_type_Pull-out Sofa  bed_type_Real Bed  room_type_Private room  \\\n",
       "count            57389.000000       57389.000000            57389.000000   \n",
       "mean                 0.008608           0.972068                0.399536   \n",
       "std                  0.092380           0.164780                0.489807   \n",
       "min                  0.000000           0.000000                0.000000   \n",
       "25%                  0.000000           1.000000                0.000000   \n",
       "50%                  0.000000           1.000000                0.000000   \n",
       "75%                  0.000000           1.000000                1.000000   \n",
       "max                  1.000000           1.000000                1.000000   \n",
       "\n",
       "       room_type_Shared room  \n",
       "count           57389.000000  \n",
       "mean                0.025144  \n",
       "std                 0.156564  \n",
       "min                 0.000000  \n",
       "25%                 0.000000  \n",
       "50%                 0.000000  \n",
       "75%                 0.000000  \n",
       "max                 1.000000  "
      ]
     },
     "execution_count": 13,
     "metadata": {},
     "output_type": "execute_result"
    }
   ],
   "source": [
    "df_final.describe()"
   ]
  },
  {
   "cell_type": "markdown",
   "metadata": {},
   "source": [
    "This data is provided through Kaggle with the objective to predict the price of AirBnb listings in major cities in the United States. Each record in the original dataset is one AirBnB listing from 2018 with 29 attributes that describe the listing and what it offers to guests. \n",
    "\n",
    "A model predicting listing price could be extremely beneficial for new AirBnb hosts to guide them in setting an initial price for their listings based on location, amenities, and other features that they offered with their listing. Furthermore, the price perdiction model could help ensure that AirBnb guests are not overcharged for their stay and that hosts are adequately compensated for their hospitality. The performance of this model would be measured by the root mean square error (RMSE) to determine how far predictions deviate from actual values. Using the RMSE metric is most appropriate within this context because it heavily penalizes large errors and we want to avoid significant prediction errors in listing prices.  \n",
    "\n",
    "In our previous analyses, we investigated the review scores rating to better understand which features of an AirBnb listing influence a higher score using a binary classification model. The goal was to differentiate between listings with an average review score rating below a 90% from listings with a rating above a 90%. With this classification model, we sought to provide valuable insight into how AirBnB hosts could improve their hospitality standards and better market their listings by increasing their listings average rating in order to become eligible for Superhost status.\n",
    "\n",
    "In this analysis, we will cluster a subset of our dataset's features using different clustering algorithms and evaluate which of our clusters is the best using the **Silhoutte cofficient**. We will then replace those old subsetted features with new labels from our best clusters and build a classifier using these newly clustered features. Our goal is to investigate if this new classifier performs better than our previous classification model. **(Random Forest/Logistic Regression)??**\n",
    "\n",
    "We will use precision to evaluate our classification model (**grade_grouped target variable?**) since there is a large majority for the class with a 90% or higher for the review scores rating. With an abundance of instances for this class, we want to miniize the false positives in order to determine which hosts have Superhost potential. We may also want to evaluate the classifier with the F-measure to minimize the false negative predictions as well since we do not want to miss out on any hosts that could potentially benefit from the Superhost program. In other words, we seek to penalize the misclassification of listings with a rating lower than 90% much more than the misclassification of listings with a rating 90% or higher.\n",
    "\n",
    "Finally, we will use a Stratified 5-Fold cross validation method to evaluate our two classification models on the precision/F-measure metrics since our classes are heavily imbalanced. We will only use 5 folds since we believe the size of our dataset is sufficient and to avoid unnecessarily long run times.\n",
    "\n",
    "<font color = 'red'> What validation method should we use?\n",
    "    <br>\n",
    "    -Stratified/Non-stratified? Shuffle-Split/K-fold CV?\n",
    "    <br>\n",
    "    How do we evaluate clusters? \n",
    "    <br>\n",
    "    -Silhoutte coefficient?\n",
    "</font>\n",
    "\n",
    "\n",
    "**NOTE: The Superhost program requires listings to meet certain benchmarks before becoming eligible; such as 4.8/5 star rating, a 90% response rate, <1% cancellation rate, and a minimum of 10 guest stays.**"
   ]
  },
  {
   "cell_type": "markdown",
   "metadata": {},
   "source": [
    "***"
   ]
  },
  {
   "cell_type": "markdown",
   "metadata": {},
   "source": [
    "## <a id='data_understanding_1'>Data Understanding 1</a> (10 pts)\n",
    "[Return to top](#top)"
   ]
  },
  {
   "cell_type": "markdown",
   "metadata": {},
   "source": [
    "<i><span style='color:gray'>\n",
    "Describe the meaning and type of data (scale, values, etc.) for each attribute in the data file. Verify data quality: Are there missing values? Duplicate data? Outliers? Are those mistakes? How do you deal with these problems?\n",
    "</span></i>"
   ]
  },
  {
   "cell_type": "markdown",
   "metadata": {},
   "source": [
    "This dataset originally contained 74,111 records and 29 columns. After we cleaned the data to remove attributes that contained repetitive information, imputed missing values to improve the data quality, and one hot encoded our categorical variables multiples levels, our final dataset contains 57,389 records and 37 columns. "
   ]
  },
  {
   "cell_type": "markdown",
   "metadata": {},
   "source": [
    "#### Data Types for Attributes of the Original Dataset\n",
    "\n",
    "| Attribute | Measurement Scale | Data Type | Description | %_DataMissing |\n",
    "| :-------: | :---------------: | :-------: | :---------: | :-----------: | \n",
    "| id |  Nominal | int64 | Unique Identifier for listing | 0% |\n",
    "| log_price | Interval | float64 | natural logarithm of the listing price | 0% |\n",
    "| property_type | Nominal | object | The listing's property type (i.e. House, Apartment, Condominium, etc.) | 0% |\n",
    "| room_type | Nominal | object | The type of room provided by the listing (i.e. Private Room, Entire home/apt, etc.) | 0% |\n",
    "| amenities | Nominal | object | Amenities the listing provides (i.e. TV, WIFI, A/C, Parking, Kitchen, etc.) | 0% |\n",
    "| accommodates | Interval | int64 | Number of guests the listing can accommodate | 0% |\n",
    "| bathrooms | Interval | float64 | Number of bathrooms the listing provides |\n",
    "| bed_type | Nominal | object | The type of beds the listing provides (i.e. Real Bed, Air Mattress, Futon, etc.) | 0.3% |\n",
    "| cancellation_policy | Ordinal | object | Level of cancellation policy regarding refunds for reservations at the listing (i.e. flexible, moderate, strict) | 0% |\n",
    "| cleaning_fee | Nominal | bool | Does the listing charge a cleaning fee? (i.e. True or False) | 0% |\n",
    "| city | Nominal | object | The United States city where the listing is located | \n",
    "| description | Nominal | object | A description of the listing provided by the host | 0% |\n",
    "| first_review | Ordinal | datetime | The date of the listing's first review (e.g. 2017-01-01) | 21% |\n",
    "| host_has_profile_pic | Nominal | bool | Does the listing's host provide a profile picture? (i.e. True or False) | 0.3% |\n",
    "| host_identity_verified | Nominal | bool | Has the listing's host verified their identification with AirBnb? (i.e. True or False) | 0.3% |\n",
    "| host_response_rate | Ratio | float64 | Host's response rate to all guest inquiries (i.e. 0-100%) |  25% |\n",
    "| host_since | Ordinal | datetime | Date when host first listed their property with Airbnb (e.g. 2017-01-01) | 0.3% | \n",
    "| instant_bookable | Nominal | bool | Can the listing be instantly booked (i.e. True or False) | 0% |\n",
    "| last_review | Ordinal | datetime | Date of the listing's last review from an AirBnb guest | 21% |\n",
    "| latitude | Interval | float64 | Latitude Coordinates of the listing | 0% | \n",
    "| longitude | Interval | float64| Longitude Coordinates of the listing | 0% |\n",
    "| name | Nominal | object | The name identifying the listing in AirBnb property searches | 0% |\n",
    "| neighbourhood | Nominal | object | The neighborhood in the United States where the listing is located | 9% |\n",
    "| number_of_reviews | Interval | int64 | The number of reviews the listing has received from previous guests | 0% |\n",
    "| review_scores_rating | Ratio | float64 | The AirBnB rating score compiled from all the listing's reviews | 23 % |\n",
    "| thumbnail_url | Nominal | object | The thumbnail url associated with the listing | 11% |\n",
    "| zipcode | Nominal | object | The United States zipcode where the listing is located in | 1.3% |\n",
    "| bedrooms | Interval | int64 | The number of bedrooms the listing provides |  0.1% |\n",
    "| beds | Interval | int64 | The number of beds the listing provides | 0.2% |\n",
    "| grade | Ordinal | category | The grade assigned to the listing based on its reviews rating score | 23% |\n",
    "| price | Ratio | float64 | The listing's price in U.S. dollars ($) | 0% |"
   ]
  },
  {
   "cell_type": "markdown",
   "metadata": {},
   "source": [
    "We removed all listings with missing values for the review_scores_rating field because our target variable is based off the 90% cutoff value for this variable. \n",
    "\n",
    "As shown in the table above, there are a few fields in the dataset that have missing values we believe may have resulted from data entry errors. We imputed those missing values with either the median or mean depending on the attribute following these guidelines:\n",
    "<br>\n",
    "\n",
    "**Impute Missing Values for Bathrooms with median values based on Property Type & Accomodates**\n",
    "* 159 missing values for bathrooms\n",
    "    * Impute Apartments accommodating (1-5) w/ 1 bathroom (100 values)\n",
    "    * Impute Bed & Breakfast accommodating (1-2) w/ 1 bathroom (3 values)\n",
    "    * Impute Camper/RV accomodating 2 w/ 1 bathroom (1 value)\n",
    "    * Impute Dorm accomodating (1-2) w/ 1 bathroom (8 values)\n",
    "    * Impute House accomodating (1-4) w/ 1 bathroom (39 values)\n",
    "    * Impute House accomodating 6 w/ 2 bathrooms (1 value)\n",
    "    * Impute House accomodating 8 w/ 2.5 bathrooms (1 value)\n",
    "    * Impute House accomodating 16 w/ 3 bathrooms (1 value)\n",
    "    * Impute Loft accomodating 2 w/ 1 bathroom (1 value)\n",
    "    * Impute Other accomodating (2-4) w/ 1 bathroom (4 values)\n",
    "<br>\n",
    "\n",
    "**Impute Missing Values for Bedrooms with median values based on Property Type & Accomodates**\n",
    "* 70 missing values for bedrooms\n",
    "    * Impute Apartments accomodating (1-4) w/ 1 bedroom (57 values)\n",
    "    * Impute Bungalow accomodating 3 w/ 1 bedroom (1 value)\n",
    "    * Impute House accomodating 2 w/ 1 bedroom (7 values)\n",
    "    * Impute House accomodating 6 w/ 3 bedroom (1 value)\n",
    "    * Impute Loft accomodating 4 w/ 1 bedroom (3 values)\n",
    "    * Impute Other accomodating 1 w/ 1 bedroom (1 value)\n",
    "<br>\n",
    "\n",
    "**Impute Missing Values for Beds with median values based on Property Type & Accomodates**\n",
    "* 62 missing values for beds\n",
    "    * Impute Apartments accomodating (1-3) w/ 1 bed (38 values)\n",
    "    * Impute Apartments accomoodating 4 w/ 2 beds (1 value)\n",
    "    * Impute Condominium accomodating 2 w/ 1 bed (1 value)\n",
    "    * Impute Dorm accomodating 1 w/ 1 bed (1 value)\n",
    "    * Impute Guesthouse accomodating 1 w/ 1 bed (1 value)\n",
    "    * Impute House accomodating (1-2) w/ 1 bed (14 values)\n",
    "    * Impute House accomodating 3 w/ 2 beds (1 values)\n",
    "    * Impute House accomodating 5 w/ 3 beds (1 value)\n",
    "    * Impute House accomodating 16 w/ 8 beds (1 value)\n",
    "    * Impute Other accomodating (1-2) w/ 1 bed (2 values)\n",
    "    * Impute Townhouse accomodating 2 w/ 1 bed (1 value)\n",
    "<br>\n",
    "\n",
    "**Impute Missing Values of host_response_rate Variable with mean value based on number of reviews and host response rate**\n",
    "* 26,107 missing values for host_response_rate\n",
    "<br>\n",
    "\n",
    "We found no duplicated instances in our dataset, but did find an outlier data point for log_price with a value of 0. This expression results in an undefined value and does not make sense within the context of a price range. We will proceed by dropping this instance from our dataset."
   ]
  },
  {
   "cell_type": "code",
   "execution_count": 14,
   "metadata": {},
   "outputs": [
    {
     "data": {
      "text/html": [
       "<div>\n",
       "<style scoped>\n",
       "    .dataframe tbody tr th:only-of-type {\n",
       "        vertical-align: middle;\n",
       "    }\n",
       "\n",
       "    .dataframe tbody tr th {\n",
       "        vertical-align: top;\n",
       "    }\n",
       "\n",
       "    .dataframe thead th {\n",
       "        text-align: right;\n",
       "    }\n",
       "</style>\n",
       "<table border=\"1\" class=\"dataframe\">\n",
       "  <thead>\n",
       "    <tr style=\"text-align: right;\">\n",
       "      <th></th>\n",
       "      <th>log_price</th>\n",
       "      <th>accommodates</th>\n",
       "      <th>bathrooms</th>\n",
       "      <th>cleaning_fee</th>\n",
       "      <th>host_has_profile_pic</th>\n",
       "      <th>host_identity_verified</th>\n",
       "      <th>host_response_rate</th>\n",
       "      <th>instant_bookable</th>\n",
       "      <th>number_of_reviews</th>\n",
       "      <th>bedrooms</th>\n",
       "      <th>beds</th>\n",
       "      <th>price</th>\n",
       "      <th>length_amenities</th>\n",
       "      <th>internet</th>\n",
       "      <th>TV</th>\n",
       "      <th>air_conditioning</th>\n",
       "      <th>kitchen</th>\n",
       "      <th>pool</th>\n",
       "      <th>parking</th>\n",
       "      <th>superuser</th>\n",
       "      <th>grade_grouped</th>\n",
       "      <th>host_since_days</th>\n",
       "      <th>city_Chicago</th>\n",
       "      <th>city_DC</th>\n",
       "      <th>city_LA</th>\n",
       "      <th>city_NYC</th>\n",
       "      <th>city_SF</th>\n",
       "      <th>cancellation_policy_moderate</th>\n",
       "      <th>cancellation_policy_strict</th>\n",
       "      <th>cancellation_policy_super_strict_30</th>\n",
       "      <th>cancellation_policy_super_strict_60</th>\n",
       "      <th>bed_type_Couch</th>\n",
       "      <th>bed_type_Futon</th>\n",
       "      <th>bed_type_Pull-out Sofa</th>\n",
       "      <th>bed_type_Real Bed</th>\n",
       "      <th>room_type_Private room</th>\n",
       "      <th>room_type_Shared room</th>\n",
       "    </tr>\n",
       "  </thead>\n",
       "  <tbody>\n",
       "    <tr>\n",
       "      <th>8968</th>\n",
       "      <td>0.0</td>\n",
       "      <td>1</td>\n",
       "      <td>1.0</td>\n",
       "      <td>True</td>\n",
       "      <td>True</td>\n",
       "      <td>False</td>\n",
       "      <td>1.0</td>\n",
       "      <td>True</td>\n",
       "      <td>3</td>\n",
       "      <td>1</td>\n",
       "      <td>1</td>\n",
       "      <td>1.0</td>\n",
       "      <td>12</td>\n",
       "      <td>True</td>\n",
       "      <td>True</td>\n",
       "      <td>True</td>\n",
       "      <td>True</td>\n",
       "      <td>False</td>\n",
       "      <td>False</td>\n",
       "      <td>False</td>\n",
       "      <td>&lt;A</td>\n",
       "      <td>237</td>\n",
       "      <td>0</td>\n",
       "      <td>0</td>\n",
       "      <td>0</td>\n",
       "      <td>1</td>\n",
       "      <td>0</td>\n",
       "      <td>0</td>\n",
       "      <td>1</td>\n",
       "      <td>0</td>\n",
       "      <td>0</td>\n",
       "      <td>0</td>\n",
       "      <td>0</td>\n",
       "      <td>0</td>\n",
       "      <td>1</td>\n",
       "      <td>0</td>\n",
       "      <td>1</td>\n",
       "    </tr>\n",
       "  </tbody>\n",
       "</table>\n",
       "</div>"
      ],
      "text/plain": [
       "      log_price  accommodates  bathrooms  cleaning_fee  host_has_profile_pic  \\\n",
       "8968        0.0             1        1.0          True                  True   \n",
       "\n",
       "      host_identity_verified  host_response_rate  instant_bookable  \\\n",
       "8968                   False                 1.0              True   \n",
       "\n",
       "      number_of_reviews  bedrooms  beds  price  length_amenities  internet  \\\n",
       "8968                  3         1     1    1.0                12      True   \n",
       "\n",
       "        TV  air_conditioning  kitchen   pool  parking  superuser  \\\n",
       "8968  True              True     True  False    False      False   \n",
       "\n",
       "     grade_grouped  host_since_days  city_Chicago  city_DC  city_LA  city_NYC  \\\n",
       "8968            <A              237             0        0        0         1   \n",
       "\n",
       "      city_SF  cancellation_policy_moderate  cancellation_policy_strict  \\\n",
       "8968        0                             0                           1   \n",
       "\n",
       "      cancellation_policy_super_strict_30  \\\n",
       "8968                                    0   \n",
       "\n",
       "      cancellation_policy_super_strict_60  bed_type_Couch  bed_type_Futon  \\\n",
       "8968                                    0               0               0   \n",
       "\n",
       "      bed_type_Pull-out Sofa  bed_type_Real Bed  room_type_Private room  \\\n",
       "8968                       0                  1                       0   \n",
       "\n",
       "      room_type_Shared room  \n",
       "8968                      1  "
      ]
     },
     "execution_count": 14,
     "metadata": {},
     "output_type": "execute_result"
    }
   ],
   "source": [
    "# Instance 8968 inside the dataset\n",
    "df_final[df_final[\"log_price\"] == 0]"
   ]
  },
  {
   "cell_type": "markdown",
   "metadata": {},
   "source": [
    "After dropping that instance, our final dataset that will be used to perform cluster analysis and model building contains 57,388 records and 38 attributes. There are more columns in this cleaned version despite the removal of irrelevant and highly correlated attributes due to our One-Hot Encoding of the categorical variables with multiple levels.\n",
    "\n",
    "We also created new features that were extracted from the original amenities field that contained a list of the amenities that the AirBnb listing provided. We thought that internet, TV, air_conditioning, kitchen, pool, and parking amenities would be important factors that influence rating so we created each as a new binary variable in our dataset.\n",
    "\n",
    "Our logic behind the methods in which we cleaned our dataset to remove instances/attributes, impute missing values, and create new features can be found in the Data Preparation section."
   ]
  },
  {
   "cell_type": "code",
   "execution_count": 15,
   "metadata": {},
   "outputs": [
    {
     "name": "stdout",
     "output_type": "stream",
     "text": [
      "<class 'pandas.core.frame.DataFrame'>\n",
      "RangeIndex: 57388 entries, 0 to 57387\n",
      "Data columns (total 38 columns):\n",
      "index                                  57388 non-null int64\n",
      "log_price                              57388 non-null float64\n",
      "accommodates                           57388 non-null int64\n",
      "bathrooms                              57388 non-null float64\n",
      "cleaning_fee                           57388 non-null bool\n",
      "host_has_profile_pic                   57388 non-null bool\n",
      "host_identity_verified                 57388 non-null bool\n",
      "host_response_rate                     57388 non-null float64\n",
      "instant_bookable                       57388 non-null bool\n",
      "number_of_reviews                      57388 non-null int64\n",
      "bedrooms                               57388 non-null int64\n",
      "beds                                   57388 non-null int64\n",
      "price                                  57388 non-null float64\n",
      "length_amenities                       57388 non-null int64\n",
      "internet                               57388 non-null bool\n",
      "TV                                     57388 non-null bool\n",
      "air_conditioning                       57388 non-null bool\n",
      "kitchen                                57388 non-null bool\n",
      "pool                                   57388 non-null bool\n",
      "parking                                57388 non-null bool\n",
      "superuser                              57388 non-null bool\n",
      "grade_grouped                          57388 non-null object\n",
      "host_since_days                        57388 non-null int64\n",
      "city_Chicago                           57388 non-null uint8\n",
      "city_DC                                57388 non-null uint8\n",
      "city_LA                                57388 non-null uint8\n",
      "city_NYC                               57388 non-null uint8\n",
      "city_SF                                57388 non-null uint8\n",
      "cancellation_policy_moderate           57388 non-null uint8\n",
      "cancellation_policy_strict             57388 non-null uint8\n",
      "cancellation_policy_super_strict_30    57388 non-null uint8\n",
      "cancellation_policy_super_strict_60    57388 non-null uint8\n",
      "bed_type_Couch                         57388 non-null uint8\n",
      "bed_type_Futon                         57388 non-null uint8\n",
      "bed_type_Pull-out Sofa                 57388 non-null uint8\n",
      "bed_type_Real Bed                      57388 non-null uint8\n",
      "room_type_Private room                 57388 non-null uint8\n",
      "room_type_Shared room                  57388 non-null uint8\n",
      "dtypes: bool(11), float64(4), int64(7), object(1), uint8(15)\n",
      "memory usage: 6.7+ MB\n"
     ]
    }
   ],
   "source": [
    "df_final = df_final[df_final[\"log_price\"] > 0].reset_index()\n",
    "df_final.info()"
   ]
  },
  {
   "cell_type": "markdown",
   "metadata": {},
   "source": [
    "As shown in the violin plot below, the removal of the instance with a log_price of 0 results in an even distribution for the AirBnb listings in each of the major U.S. cities (Boston, Chicago, D.C., Los Angeles, New York, San Francisco) without the presence of any glaring outliers."
   ]
  },
  {
   "cell_type": "code",
   "execution_count": 16,
   "metadata": {},
   "outputs": [
    {
     "data": {
      "text/plain": [
       "<matplotlib.axes._subplots.AxesSubplot at 0x199118193c8>"
      ]
     },
     "execution_count": 16,
     "metadata": {},
     "output_type": "execute_result"
    },
    {
     "data": {
      "image/png": "[encoded data removed]",
      "text/plain": [
       "<Figure size 432x288 with 1 Axes>"
      ]
     },
     "metadata": {
      "needs_background": "light"
     },
     "output_type": "display_data"
    }
   ],
   "source": [
    "sns.violinplot(x=\"city\", y=\"log_price\", data = df_logistic[df_logistic[\"log_price\"] > 0])"
   ]
  },
  {
   "cell_type": "markdown",
   "metadata": {},
   "source": [
    "***"
   ]
  },
  {
   "cell_type": "markdown",
   "metadata": {},
   "source": [
    "## <a id='data_understanding_2'>Data Understanding 2</a> (10 pts)\n",
    "[Return to top](#top)"
   ]
  },
  {
   "cell_type": "markdown",
   "metadata": {},
   "source": [
    "<i><span style='color:gray'>\n",
    "Visualize any important attributes appropriately. Important: Provide an interpretation for any charts or graphs.\n",
    "</span></i>"
   ]
  },
  {
   "cell_type": "code",
   "execution_count": 1,
   "metadata": {},
   "outputs": [
    {
     "ename": "NameError",
     "evalue": "name 'df_imputed' is not defined",
     "output_type": "error",
     "traceback": [
      "\u001b[0;31m---------------------------------------------------------------------------\u001b[0m",
      "\u001b[0;31mNameError\u001b[0m                                 Traceback (most recent call last)",
      "\u001b[0;32m<ipython-input-1-e2a08048d67f>\u001b[0m in \u001b[0;36m<module>\u001b[0;34m\u001b[0m\n\u001b[1;32m      1\u001b[0m \u001b[0;31m# df_imputed is the dataset before dropping redundant variables\u001b[0m\u001b[0;34m\u001b[0m\u001b[0;34m\u001b[0m\u001b[0;34m\u001b[0m\u001b[0m\n\u001b[0;32m----> 2\u001b[0;31m \u001b[0mdf_imputed\u001b[0m \u001b[0;34m=\u001b[0m \u001b[0mdf_imputed\u001b[0m\u001b[0;34m[\u001b[0m\u001b[0mdf_imputed\u001b[0m\u001b[0;34m[\u001b[0m\u001b[0;34m\"log_price\"\u001b[0m\u001b[0;34m]\u001b[0m \u001b[0;34m>\u001b[0m \u001b[0;36m0\u001b[0m\u001b[0;34m]\u001b[0m\u001b[0;34m.\u001b[0m\u001b[0mreset_index\u001b[0m\u001b[0;34m(\u001b[0m\u001b[0;34m)\u001b[0m\u001b[0;34m\u001b[0m\u001b[0;34m\u001b[0m\u001b[0m\n\u001b[0m\u001b[1;32m      3\u001b[0m \u001b[0msns\u001b[0m\u001b[0;34m.\u001b[0m\u001b[0mdistplot\u001b[0m\u001b[0;34m(\u001b[0m\u001b[0mdf_imputed\u001b[0m\u001b[0;34m[\u001b[0m\u001b[0;34m\"review_scores_rating\"\u001b[0m\u001b[0;34m]\u001b[0m\u001b[0;34m)\u001b[0m\u001b[0;34m\u001b[0m\u001b[0;34m\u001b[0m\u001b[0m\n",
      "\u001b[0;31mNameError\u001b[0m: name 'df_imputed' is not defined"
     ]
    }
   ],
   "source": [
    "# df_imputed is the dataset before dropping redundant variables\n",
    "df_imputed = df_imputed[df_imputed[\"log_price\"] > 0].reset_index()\n",
    "sns.distplot(df_imputed[\"review_scores_rating\"])"
   ]
  },
  {
   "cell_type": "markdown",
   "metadata": {},
   "source": [
    "The bulk of the listing review score averages are concentrated around 80-100, which corresponds to an average of 4-5 stars. By default, most guests will usually leave perfect ratings unless they have significant problems with their experience. "
   ]
  },
  {
   "cell_type": "code",
   "execution_count": 18,
   "metadata": {},
   "outputs": [
    {
     "data": {
      "text/plain": [
       "<matplotlib.axes._subplots.AxesSubplot at 0x1991db98208>"
      ]
     },
     "execution_count": 18,
     "metadata": {},
     "output_type": "execute_result"
    },
    {
     "data": {
      "image/png": "[encoded data removed]",
      "text/plain": [
       "<Figure size 432x288 with 1 Axes>"
      ]
     },
     "metadata": {
      "needs_background": "light"
     },
     "output_type": "display_data"
    }
   ],
   "source": [
    "# Bar Graph for Frequency by City\n",
    "# df_logistic is the dataset before One-Hot Encoding\n",
    "df_logistic = df_logistic[df_logistic[\"log_price\"] > 0].reset_index()\n",
    "sns.countplot(x=\"city\", data=df_logistic)"
   ]
  },
  {
   "cell_type": "markdown",
   "metadata": {},
   "source": [
    "Most of the listings in this dataset come from either New York City or Los Angeles. In total, only six cities are represented in the original dataset, and all of them are major metropolitan areas."
   ]
  },
  {
   "cell_type": "code",
   "execution_count": 19,
   "metadata": {},
   "outputs": [
    {
     "data": {
      "text/plain": [
       "<matplotlib.axes._subplots.AxesSubplot at 0x1991c91b6c8>"
      ]
     },
     "execution_count": 19,
     "metadata": {},
     "output_type": "execute_result"
    },
    {
     "data": {
      "image/png": "[encoded data removed]",
      "text/plain": [
       "<Figure size 432x288 with 1 Axes>"
      ]
     },
     "metadata": {
      "needs_background": "light"
     },
     "output_type": "display_data"
    }
   ],
   "source": [
    "# Histogram for Natural Log of Price\n",
    "sns.distplot(df_final[\"log_price\"])"
   ]
  },
  {
   "cell_type": "markdown",
   "metadata": {},
   "source": [
    "The logged price variable, the target for the original Kaggle problem where the objective was to predict listing price, appears normally distributed."
   ]
  },
  {
   "cell_type": "code",
   "execution_count": 20,
   "metadata": {},
   "outputs": [
    {
     "data": {
      "text/plain": [
       "<matplotlib.axes._subplots.AxesSubplot at 0x19910dd8908>"
      ]
     },
     "execution_count": 20,
     "metadata": {},
     "output_type": "execute_result"
    },
    {
     "data": {
      "image/png": "[encoded data removed]",
      "text/plain": [
       "<Figure size 432x288 with 1 Axes>"
      ]
     },
     "metadata": {
      "needs_background": "light"
     },
     "output_type": "display_data"
    }
   ],
   "source": [
    "df_final.boxplot(column=\"accommodates\")"
   ]
  },
  {
   "cell_type": "markdown",
   "metadata": {},
   "source": [
    "The number of guests an average listing can accommodate likely lies between 1 and 7, with some outlier properties able to accommodate even more. This variable is correlated with the numbers of bedrooms, beds, and bathrooms, as all of those are directly linked to how many extra people a property can feasibly and comfortably accommodate."
   ]
  },
  {
   "cell_type": "code",
   "execution_count": 21,
   "metadata": {},
   "outputs": [
    {
     "data": {
      "text/plain": [
       "<matplotlib.axes._subplots.AxesSubplot at 0x199110881c8>"
      ]
     },
     "execution_count": 21,
     "metadata": {},
     "output_type": "execute_result"
    },
    {
     "data": {
      "image/png": "[encoded data removed]",
      "text/plain": [
       "<Figure size 432x288 with 1 Axes>"
      ]
     },
     "metadata": {
      "needs_background": "light"
     },
     "output_type": "display_data"
    }
   ],
   "source": [
    "sns.countplot(df_final[\"grade_grouped\"])"
   ]
  },
  {
   "cell_type": "markdown",
   "metadata": {},
   "source": [
    "Review scores have been mapped to a simplified, grouped scale of academic grades, where a 90 or better is an A and anything less is <A. Because most guests will leave 5-star reviews unless there are issues, most listings carry average review score ratings in the high 4- to 5-star range, which translates to most listings having an A."
   ]
  },
  {
   "cell_type": "code",
   "execution_count": 22,
   "metadata": {},
   "outputs": [
    {
     "data": {
      "text/plain": [
       "<matplotlib.axes._subplots.AxesSubplot at 0x19919b07ec8>"
      ]
     },
     "execution_count": 22,
     "metadata": {},
     "output_type": "execute_result"
    },
    {
     "data": {
      "image/png": "[encoded data removed]",
      "text/plain": [
       "<Figure size 432x288 with 1 Axes>"
      ]
     },
     "metadata": {
      "needs_background": "light"
     },
     "output_type": "display_data"
    }
   ],
   "source": [
    "sns.countplot(df_final[\"superuser\"])"
   ]
  },
  {
   "cell_type": "markdown",
   "metadata": {},
   "source": [
    "In contrast to the A and <A threshold, the average grade required for Airbnb Superhost status is more stringent--the 4.8 overall rating translates to a 96 on a 100-point scale. Due to this, the distribution between Superhost and not is more even than that between A and <A."
   ]
  },
  {
   "cell_type": "code",
   "execution_count": 34,
   "metadata": {},
   "outputs": [],
   "source": [
    "df_final = df_final.drop([\"index\",\"price\"], axis=1)"
   ]
  },
  {
   "cell_type": "code",
   "execution_count": 36,
   "metadata": {},
   "outputs": [
    {
     "ename": "TypeError",
     "evalue": "'(slice(None, None, None), 0)' is an invalid key",
     "output_type": "error",
     "traceback": [
      "\u001b[1;31m---------------------------------------------------------------------------\u001b[0m",
      "\u001b[1;31mTypeError\u001b[0m                                 Traceback (most recent call last)",
      "\u001b[1;32m<ipython-input-36-50969efb97df>\u001b[0m in \u001b[0;36m<module>\u001b[1;34m\u001b[0m\n\u001b[0;32m      1\u001b[0m \u001b[0mplt\u001b[0m\u001b[1;33m.\u001b[0m\u001b[0mfigure\u001b[0m\u001b[1;33m(\u001b[0m\u001b[0mfigsize\u001b[0m\u001b[1;33m=\u001b[0m\u001b[1;33m(\u001b[0m\u001b[1;36m15\u001b[0m\u001b[1;33m,\u001b[0m\u001b[1;36m5\u001b[0m\u001b[1;33m)\u001b[0m\u001b[1;33m)\u001b[0m\u001b[1;33m\u001b[0m\u001b[1;33m\u001b[0m\u001b[0m\n\u001b[1;32m----> 2\u001b[1;33m \u001b[0mplt\u001b[0m\u001b[1;33m.\u001b[0m\u001b[0mplot\u001b[0m\u001b[1;33m(\u001b[0m\u001b[0mdf_final\u001b[0m\u001b[1;33m[\u001b[0m\u001b[1;33m:\u001b[0m\u001b[1;33m,\u001b[0m \u001b[1;36m0\u001b[0m\u001b[1;33m]\u001b[0m\u001b[1;33m,\u001b[0m \u001b[0mdf_final\u001b[0m\u001b[1;33m[\u001b[0m\u001b[1;33m:\u001b[0m\u001b[1;33m,\u001b[0m\u001b[1;33m]\u001b[0m\u001b[1;33m,\u001b[0m \u001b[1;34m'r.'\u001b[0m\u001b[1;33m,\u001b[0m \u001b[0mmarkersize\u001b[0m\u001b[1;33m=\u001b[0m\u001b[1;36m2\u001b[0m\u001b[1;33m)\u001b[0m\u001b[1;33m\u001b[0m\u001b[1;33m\u001b[0m\u001b[0m\n\u001b[0m\u001b[0;32m      3\u001b[0m \u001b[0mplt\u001b[0m\u001b[1;33m.\u001b[0m\u001b[0mtitle\u001b[0m\u001b[1;33m(\u001b[0m\u001b[1;34m'Cluster Plot of AirBnB data'\u001b[0m\u001b[1;33m)\u001b[0m\u001b[1;33m\u001b[0m\u001b[1;33m\u001b[0m\u001b[0m\n\u001b[0;32m      4\u001b[0m \u001b[0mplt\u001b[0m\u001b[1;33m.\u001b[0m\u001b[0mxlabel\u001b[0m\u001b[1;33m(\u001b[0m\u001b[1;34m'Target'\u001b[0m\u001b[1;33m)\u001b[0m\u001b[1;33m\u001b[0m\u001b[1;33m\u001b[0m\u001b[0m\n\u001b[0;32m      5\u001b[0m \u001b[0mplt\u001b[0m\u001b[1;33m.\u001b[0m\u001b[0mylabel\u001b[0m\u001b[1;33m(\u001b[0m\u001b[1;34m'Variables'\u001b[0m\u001b[1;33m)\u001b[0m\u001b[1;33m\u001b[0m\u001b[1;33m\u001b[0m\u001b[0m\n",
      "\u001b[1;32m~\\Anaconda3\\envs\\ML1_env\\lib\\site-packages\\pandas\\core\\frame.py\u001b[0m in \u001b[0;36m__getitem__\u001b[1;34m(self, key)\u001b[0m\n\u001b[0;32m   2993\u001b[0m             \u001b[1;32mif\u001b[0m \u001b[0mself\u001b[0m\u001b[1;33m.\u001b[0m\u001b[0mcolumns\u001b[0m\u001b[1;33m.\u001b[0m\u001b[0mnlevels\u001b[0m \u001b[1;33m>\u001b[0m \u001b[1;36m1\u001b[0m\u001b[1;33m:\u001b[0m\u001b[1;33m\u001b[0m\u001b[1;33m\u001b[0m\u001b[0m\n\u001b[0;32m   2994\u001b[0m                 \u001b[1;32mreturn\u001b[0m \u001b[0mself\u001b[0m\u001b[1;33m.\u001b[0m\u001b[0m_getitem_multilevel\u001b[0m\u001b[1;33m(\u001b[0m\u001b[0mkey\u001b[0m\u001b[1;33m)\u001b[0m\u001b[1;33m\u001b[0m\u001b[1;33m\u001b[0m\u001b[0m\n\u001b[1;32m-> 2995\u001b[1;33m             \u001b[0mindexer\u001b[0m \u001b[1;33m=\u001b[0m \u001b[0mself\u001b[0m\u001b[1;33m.\u001b[0m\u001b[0mcolumns\u001b[0m\u001b[1;33m.\u001b[0m\u001b[0mget_loc\u001b[0m\u001b[1;33m(\u001b[0m\u001b[0mkey\u001b[0m\u001b[1;33m)\u001b[0m\u001b[1;33m\u001b[0m\u001b[1;33m\u001b[0m\u001b[0m\n\u001b[0m\u001b[0;32m   2996\u001b[0m             \u001b[1;32mif\u001b[0m \u001b[0mis_integer\u001b[0m\u001b[1;33m(\u001b[0m\u001b[0mindexer\u001b[0m\u001b[1;33m)\u001b[0m\u001b[1;33m:\u001b[0m\u001b[1;33m\u001b[0m\u001b[1;33m\u001b[0m\u001b[0m\n\u001b[0;32m   2997\u001b[0m                 \u001b[0mindexer\u001b[0m \u001b[1;33m=\u001b[0m \u001b[1;33m[\u001b[0m\u001b[0mindexer\u001b[0m\u001b[1;33m]\u001b[0m\u001b[1;33m\u001b[0m\u001b[1;33m\u001b[0m\u001b[0m\n",
      "\u001b[1;32m~\\Anaconda3\\envs\\ML1_env\\lib\\site-packages\\pandas\\core\\indexes\\base.py\u001b[0m in \u001b[0;36mget_loc\u001b[1;34m(self, key, method, tolerance)\u001b[0m\n\u001b[0;32m   2895\u001b[0m                 )\n\u001b[0;32m   2896\u001b[0m             \u001b[1;32mtry\u001b[0m\u001b[1;33m:\u001b[0m\u001b[1;33m\u001b[0m\u001b[1;33m\u001b[0m\u001b[0m\n\u001b[1;32m-> 2897\u001b[1;33m                 \u001b[1;32mreturn\u001b[0m \u001b[0mself\u001b[0m\u001b[1;33m.\u001b[0m\u001b[0m_engine\u001b[0m\u001b[1;33m.\u001b[0m\u001b[0mget_loc\u001b[0m\u001b[1;33m(\u001b[0m\u001b[0mkey\u001b[0m\u001b[1;33m)\u001b[0m\u001b[1;33m\u001b[0m\u001b[1;33m\u001b[0m\u001b[0m\n\u001b[0m\u001b[0;32m   2898\u001b[0m             \u001b[1;32mexcept\u001b[0m \u001b[0mKeyError\u001b[0m\u001b[1;33m:\u001b[0m\u001b[1;33m\u001b[0m\u001b[1;33m\u001b[0m\u001b[0m\n\u001b[0;32m   2899\u001b[0m                 \u001b[1;32mreturn\u001b[0m \u001b[0mself\u001b[0m\u001b[1;33m.\u001b[0m\u001b[0m_engine\u001b[0m\u001b[1;33m.\u001b[0m\u001b[0mget_loc\u001b[0m\u001b[1;33m(\u001b[0m\u001b[0mself\u001b[0m\u001b[1;33m.\u001b[0m\u001b[0m_maybe_cast_indexer\u001b[0m\u001b[1;33m(\u001b[0m\u001b[0mkey\u001b[0m\u001b[1;33m)\u001b[0m\u001b[1;33m)\u001b[0m\u001b[1;33m\u001b[0m\u001b[1;33m\u001b[0m\u001b[0m\n",
      "\u001b[1;32mpandas\\_libs\\index.pyx\u001b[0m in \u001b[0;36mpandas._libs.index.IndexEngine.get_loc\u001b[1;34m()\u001b[0m\n",
      "\u001b[1;32mpandas\\_libs\\index.pyx\u001b[0m in \u001b[0;36mpandas._libs.index.IndexEngine.get_loc\u001b[1;34m()\u001b[0m\n",
      "\u001b[1;31mTypeError\u001b[0m: '(slice(None, None, None), 0)' is an invalid key"
     ]
    },
    {
     "data": {
      "text/plain": [
       "<Figure size 1080x360 with 0 Axes>"
      ]
     },
     "metadata": {},
     "output_type": "display_data"
    }
   ],
   "source": [
    "plt.figure(figsize=(15,5))\n",
    "plt.plot(df_final[:, 0], df_final[:,], 'r.', markersize=2)\n",
    "plt.title('Cluster Plot of AirBnB data')\n",
    "plt.xlabel('Target')\n",
    "plt.ylabel('Variables')\n",
    "plt.grid()\n",
    "\n",
    "plt.show()"
   ]
  },
  {
   "cell_type": "markdown",
   "metadata": {},
   "source": [
    "***"
   ]
  },
  {
   "cell_type": "markdown",
   "metadata": {},
   "source": [
    "## Modeling and Evaluation\n",
    "\n",
    "Be as thorough as possible when analyzing the data you have chosen and use visualizations of the results to explain performance and expected outcomes whenever possible. Guide the reader through your analysis with plenty of discussion of the results.\n",
    "\n",
    "**Cluster Analysis**\n",
    "+ Perform cluster analysis using several clustering methods\n",
    "+ How did you determine a suitable number of clusters for each method?\n",
    "+ Use internal and/or external validation measures to describe and compare the clusterings and the clusters (some visual methods would be good.)\n",
    "+ Describe your results. What findings are the most interesting and why?"
   ]
  },
  {
   "cell_type": "markdown",
   "metadata": {},
   "source": [
    "## <a id='modeling_evaluation_1'>Modeling and Evaluation 1</a> (10 pts)\n",
    "[Return to top](#top)"
   ]
  },
  {
   "cell_type": "markdown",
   "metadata": {},
   "source": [
    "<i><span style='color:gray'>\n",
    "Train and adjust parameters.\n",
    "</span></i>"
   ]
  },
  {
   "cell_type": "markdown",
   "metadata": {},
   "source": [
    "***"
   ]
  },
  {
   "cell_type": "markdown",
   "metadata": {},
   "source": [
    "## <a id='modeling_evaluation_2'>Modeling and Evaluation 2</a> (10 pts)\n",
    "[Return to top](#top)"
   ]
  },
  {
   "cell_type": "markdown",
   "metadata": {},
   "source": [
    "<i><span style='color:gray'>\n",
    "Evaluate and compare.\n",
    "</span></i>"
   ]
  },
  {
   "cell_type": "code",
   "execution_count": null,
   "metadata": {},
   "outputs": [],
   "source": []
  },
  {
   "cell_type": "markdown",
   "metadata": {},
   "source": [
    "***"
   ]
  },
  {
   "cell_type": "markdown",
   "metadata": {},
   "source": [
    "## <a id='modeling_evaluation_3'>Modeling and Evaluation 3</a> (10 pts)\n",
    "[Return to top](#top)"
   ]
  },
  {
   "cell_type": "markdown",
   "metadata": {},
   "source": [
    "<i><span style='color:gray'>\n",
    "Visualize results.\n",
    "</span></i>"
   ]
  },
  {
   "cell_type": "code",
   "execution_count": null,
   "metadata": {},
   "outputs": [],
   "source": []
  },
  {
   "cell_type": "markdown",
   "metadata": {},
   "source": [
    "***"
   ]
  },
  {
   "cell_type": "markdown",
   "metadata": {},
   "source": [
    "## <a id='modeling_evaluation_4'>Modeling and Evaluation 4</a> (20 pts)\n",
    "[Return to top](#top)"
   ]
  },
  {
   "cell_type": "markdown",
   "metadata": {},
   "source": [
    "<i><span style='color:gray'>\n",
    "Summarize the ramifications.\n",
    "</span></i>"
   ]
  },
  {
   "cell_type": "code",
   "execution_count": null,
   "metadata": {},
   "outputs": [],
   "source": []
  },
  {
   "cell_type": "markdown",
   "metadata": {},
   "source": [
    "***"
   ]
  },
  {
   "cell_type": "markdown",
   "metadata": {},
   "source": [
    "## <a id='deployment'>Deployment</a> (20 pts)\n",
    "[Return to top](#top)"
   ]
  },
  {
   "cell_type": "markdown",
   "metadata": {},
   "source": [
    "<i><span style='color:gray'>\n",
    "Be critical of your performance and tell the reader how your current model might be usable by other parties. Did you achieve your goals? If not, can you reign in the utility of your modeling? How useful is your model for interested parties (i.e., the companies or organizations that might want to use it?) How would you deploy your model for interested parties? What other data should be collected? How often would the model need to be updated, etc.?\n",
    "</span></i>"
   ]
  },
  {
   "cell_type": "markdown",
   "metadata": {},
   "source": [
    "{HOLDING FOR RESPONSE TEXT}"
   ]
  },
  {
   "cell_type": "markdown",
   "metadata": {},
   "source": [
    "***"
   ]
  },
  {
   "cell_type": "markdown",
   "metadata": {},
   "source": [
    "## <a id='exceptional_work'>Exceptional Work</a> (10 pts)\n",
    "[Return to top](#top)"
   ]
  },
  {
   "cell_type": "markdown",
   "metadata": {},
   "source": [
    "<i><span style='color:gray'>\n",
    "You have free reign to provide additional analyses or combine analyses.\n",
    "</span></i>"
   ]
  },
  {
   "cell_type": "markdown",
   "metadata": {},
   "source": [
    "From the content already in the notebook above, we would like to propose the following for exceptional work credit:\n",
    "\n",
    "* A\n",
    "* B\n",
    "* C\n",
    "\n",
    "In addition, the below content introduces additional analysis."
   ]
  },
  {
   "cell_type": "markdown",
   "metadata": {},
   "source": [
    "### Deriving Cities or Regions from Geographic Coordinates\n",
    "\n",
    "One natural clustering variable in this dataset is city. In the following code, we demonstrate  that it is possible to recapture the original city labels using the provided geographic coordinates of each listing. While this is a simple thought exercise, it could potentially be expanded into clustering geographically similar regions in a dataset that involves many different Airbnb cities."
   ]
  },
  {
   "cell_type": "code",
   "execution_count": 23,
   "metadata": {},
   "outputs": [
    {
     "data": {
      "text/html": [
       "<div>\n",
       "<style scoped>\n",
       "    .dataframe tbody tr th:only-of-type {\n",
       "        vertical-align: middle;\n",
       "    }\n",
       "\n",
       "    .dataframe tbody tr th {\n",
       "        vertical-align: top;\n",
       "    }\n",
       "\n",
       "    .dataframe thead th {\n",
       "        text-align: right;\n",
       "    }\n",
       "</style>\n",
       "<table border=\"1\" class=\"dataframe\">\n",
       "  <thead>\n",
       "    <tr style=\"text-align: right;\">\n",
       "      <th></th>\n",
       "      <th>longitude</th>\n",
       "      <th>latitude</th>\n",
       "      <th>city</th>\n",
       "      <th>city_codes</th>\n",
       "    </tr>\n",
       "  </thead>\n",
       "  <tbody>\n",
       "    <tr>\n",
       "      <th>0</th>\n",
       "      <td>-73.991617</td>\n",
       "      <td>40.696524</td>\n",
       "      <td>NYC</td>\n",
       "      <td>4</td>\n",
       "    </tr>\n",
       "    <tr>\n",
       "      <th>1</th>\n",
       "      <td>-73.989040</td>\n",
       "      <td>40.766115</td>\n",
       "      <td>NYC</td>\n",
       "      <td>4</td>\n",
       "    </tr>\n",
       "    <tr>\n",
       "      <th>2</th>\n",
       "      <td>-73.943756</td>\n",
       "      <td>40.808110</td>\n",
       "      <td>NYC</td>\n",
       "      <td>4</td>\n",
       "    </tr>\n",
       "    <tr>\n",
       "      <th>3</th>\n",
       "      <td>-122.431619</td>\n",
       "      <td>37.772004</td>\n",
       "      <td>SF</td>\n",
       "      <td>5</td>\n",
       "    </tr>\n",
       "    <tr>\n",
       "      <th>4</th>\n",
       "      <td>-77.034596</td>\n",
       "      <td>38.925627</td>\n",
       "      <td>DC</td>\n",
       "      <td>2</td>\n",
       "    </tr>\n",
       "  </tbody>\n",
       "</table>\n",
       "</div>"
      ],
      "text/plain": [
       "    longitude   latitude city  city_codes\n",
       "0  -73.991617  40.696524  NYC           4\n",
       "1  -73.989040  40.766115  NYC           4\n",
       "2  -73.943756  40.808110  NYC           4\n",
       "3 -122.431619  37.772004   SF           5\n",
       "4  -77.034596  38.925627   DC           2"
      ]
     },
     "execution_count": 23,
     "metadata": {},
     "output_type": "execute_result"
    }
   ],
   "source": [
    "# Subset to the coordinates and city labels.\n",
    "df_coordinates = df.loc[:,['longitude', 'latitude', 'city']]\n",
    "\n",
    "# Create a numeric city code for use with plt.scatter().\n",
    "df_cc = pd.Categorical(df_coordinates.city)\n",
    "df_coordinates['city_codes'] = df_cc.codes\n",
    "\n",
    "df_coordinates.head()"
   ]
  },
  {
   "cell_type": "code",
   "execution_count": 24,
   "metadata": {},
   "outputs": [
    {
     "data": {
      "image/png": "[encoded data removed]",
      "text/plain": [
       "<Figure size 432x288 with 1 Axes>"
      ]
     },
     "metadata": {
      "needs_background": "light"
     },
     "output_type": "display_data"
    }
   ],
   "source": [
    "from sklearn.cluster import KMeans\n",
    "\n",
    "# 6 cities are expected. \n",
    "kmeans = KMeans(init='k-means++', n_clusters=6, n_init=1, n_jobs=-1)\n",
    "\n",
    "# Run clustering algorithm on only coordinates.\n",
    "kmeans.fit(df_coordinates.loc[:, ['longitude', 'latitude']])\n",
    "\n",
    "# Visualize coordinates, color-coded by city, with centroids to check clustering.\n",
    "centroids = kmeans.cluster_centers_\n",
    "plt.scatter(df_coordinates.loc[:,'longitude'], df_coordinates.loc[:,'latitude'], \n",
    "            c=df_coordinates.loc[:,'city_codes'])\n",
    "plt.scatter(centroids[:, 0], centroids[:, 1],\n",
    "            marker='x', s=200, linewidths=3, color='k')\n",
    "plt.title('K-means Clustering on Geographic Coordinates: Cities')\n",
    "plt.xlabel('Longitude')\n",
    "plt.ylabel('Latitude')\n",
    "plt.grid()\n",
    "plt.show()"
   ]
  },
  {
   "cell_type": "markdown",
   "metadata": {},
   "source": [
    "In the above plot, each concentration of colored city points receives one centroid as expected. \n",
    "\n",
    "* Two on the West Coast near longitude 120°W for San Francisco and Los Angeles\n",
    "* One in the Midwest near longitude 90°W for Chicago\n",
    "* Three along the East Coast between 80°W and 70°W for Washington DC, New York City, and Boston\n",
    "\n",
    "The idea suggested in the introduction to this section can be implemented by entering a given number of regions to the n_clusters argument instead of the known number of cities. This is demonstrated below, where the graph displays centroids for the three US regions mentioned in the bullet points."
   ]
  },
  {
   "cell_type": "code",
   "execution_count": 25,
   "metadata": {},
   "outputs": [
    {
     "data": {
      "image/png": "[encoded data removed]",
      "text/plain": [
       "<Figure size 432x288 with 1 Axes>"
      ]
     },
     "metadata": {
      "needs_background": "light"
     },
     "output_type": "display_data"
    }
   ],
   "source": [
    "# 3 regions of the US.\n",
    "kmeans = KMeans(init='k-means++', n_clusters=3, n_init=1, n_jobs=-1)\n",
    "\n",
    "# Run clustering algorithm on only coordinates.\n",
    "kmeans.fit(df_coordinates.loc[:, ['longitude', 'latitude']])\n",
    "\n",
    "# Visualize coordinates, color-coded by k-means cluster labels and centroids.\n",
    "centroids = kmeans.cluster_centers_\n",
    "plt.scatter(df_coordinates.loc[:,'longitude'], df_coordinates.loc[:,'latitude'], \n",
    "            c=kmeans.labels_)\n",
    "plt.scatter(centroids[:, 0], centroids[:, 1],\n",
    "            marker='x', s=200, linewidths=3, color='k')\n",
    "plt.title('K-means Clustering on Geographic Coordinates: Regions')\n",
    "plt.xlabel('Longitude')\n",
    "plt.ylabel('Latitude')\n",
    "plt.grid()\n",
    "plt.show()"
   ]
  },
  {
   "cell_type": "code",
   "execution_count": null,
   "metadata": {},
   "outputs": [],
   "source": []
  }
 ],
 "metadata": {
  "kernelspec": {
   "display_name": "Python 3",
   "language": "python",
   "name": "python3"
  },
  "language_info": {
   "codemirror_mode": {
    "name": "ipython",
    "version": 3
   },
   "file_extension": ".py",
   "mimetype": "text/x-python",
   "name": "python",
   "nbconvert_exporter": "python",
   "pygments_lexer": "ipython3",
   "version": "3.7.4"
  }
 },
 "nbformat": 4,
 "nbformat_minor": 2
}
