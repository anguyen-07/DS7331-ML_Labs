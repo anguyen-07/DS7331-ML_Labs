{
 "cells": [
  {
   "cell_type": "markdown",
   "metadata": {},
   "source": [
    "Andy Nguyen, Michael Wolfe, Spencer Fogelman, & Joseph Caguioa\n",
    "\n",
    "DS 7331.407\n",
    "\n",
    "Thursday 6:30pm - 8:00pm"
   ]
  },
  {
   "cell_type": "markdown",
   "metadata": {},
   "source": [
    "# Logistic Regression and SVMs of AirBnB Data"
   ]
  },
  {
   "cell_type": "markdown",
   "metadata": {},
   "source": [
    "### Instructions\n",
    "[50 Points]\n",
    "* Assess performance of each model using 80/20 training-test split\n",
    "* Adjust model parameters to optimize accuracy\n",
    "    * if dataset size requires stochastic gradient descent, then only linear kernel is appropriate\n",
    "    \n",
    "[10 Points]\n",
    "* Discuss advantages of each model for each classification task\n",
    "* Does one type of model offer superior performance over another in terms of prediction accuracy?\n",
    "    * In terms of training time or efficiency? Explain.\n",
    "\n",
    "[30 points]\n",
    "* Use weights from logistic regression to interpret importance of different features for each classification task. Explain interpretation in detail.\n",
    "    * Why do you think some variables are more important?\n",
    "    \n",
    "[10 points]\n",
    "* Look at the chosen support vectors for the classifcation task. Do these provide any insight into the data? Explain."
   ]
  },
  {
   "cell_type": "markdown",
   "metadata": {},
   "source": [
    "## Introduction"
   ]
  },
  {
   "cell_type": "markdown",
   "metadata": {},
   "source": [
    "*Dataset Source: https://www.kaggle.com/rudymizrahi/airbnb-listings-in-major-us-cities-deloitte-ml*"
   ]
  },
  {
   "cell_type": "markdown",
   "metadata": {},
   "source": [
    "This Kaggle dataset contains data on Airbnb listings for six major U.S. cities. The competition's original goal was to use available attributes to predict listing price. However, the inherent richness of the variables also allows\n",
    "\n",
    "Airbnb Superhosts are experienced property owners who guests have helped rate as the best of the best. Earning this designation requires obtaining a minimum number of yearly stays, maintaining a high response rate, keeping above a certain score average, and avoiding cancellations. However, is it possible to predict Superhost status off of other attributes on the listing? For simplicity we define a Superhost as someone with a score average greater than or equal to 96%."
   ]
  },
  {
   "cell_type": "markdown",
   "metadata": {},
   "source": [
    "**Setup**"
   ]
  },
  {
   "cell_type": "code",
   "execution_count": 1,
   "metadata": {},
   "outputs": [],
   "source": [
    "import pandas as pd\n",
    "import numpy as np\n",
    "import seaborn as sns\n",
    "#import plotly.graph_objects as go\n",
    "import datetime\n",
    "import csv\n",
    "from sklearn.linear_model import LogisticRegression\n",
    "from sklearn.model_selection import train_test_split\n",
    "import warnings\n",
    "import matplotlib.pyplot as plt"
   ]
  },
  {
   "cell_type": "code",
   "execution_count": 2,
   "metadata": {},
   "outputs": [
    {
     "data": {
      "text/plain": [
       "id                           int64\n",
       "log_price                  float64\n",
       "property_type               object\n",
       "room_type                   object\n",
       "amenities                   object\n",
       "accommodates                 int64\n",
       "bathrooms                  float64\n",
       "bed_type                    object\n",
       "cancellation_policy         object\n",
       "cleaning_fee                  bool\n",
       "city                        object\n",
       "description                 object\n",
       "first_review                object\n",
       "host_has_profile_pic        object\n",
       "host_identity_verified      object\n",
       "host_response_rate          object\n",
       "host_since                  object\n",
       "instant_bookable            object\n",
       "last_review                 object\n",
       "latitude                   float64\n",
       "longitude                  float64\n",
       "name                        object\n",
       "neighbourhood               object\n",
       "number_of_reviews            int64\n",
       "review_scores_rating       float64\n",
       "thumbnail_url               object\n",
       "zipcode                     object\n",
       "bedrooms                   float64\n",
       "beds                       float64\n",
       "grade                     category\n",
       "dtype: object"
      ]
     },
     "execution_count": 2,
     "metadata": {},
     "output_type": "execute_result"
    }
   ],
   "source": [
    "df = pd.read_csv('https://raw.githubusercontent.com/anguyen-07/DS7331-ML_Labs/master/data/airbnb_train.csv')\n",
    "df['grade'] = pd.cut(df.review_scores_rating, [0,60,70,80,90,101], right=False, labels = ['F', 'D', 'C', 'B', 'A'])\n",
    "df.dtypes"
   ]
  },
  {
   "cell_type": "markdown",
   "metadata": {},
   "source": [
    "The first step to preparing the Airbnb dataset for use with logistic regression and support vector machines is to remove or impute missing data and change the variables to compatible datatypes. Much of the logic behind this work was covered in Lab 1."
   ]
  },
  {
   "cell_type": "markdown",
   "metadata": {},
   "source": [
    "**Cleanup (from first project)**"
   ]
  },
  {
   "cell_type": "code",
   "execution_count": 3,
   "metadata": {},
   "outputs": [
    {
     "name": "stderr",
     "output_type": "stream",
     "text": [
      "/anaconda3/lib/python3.6/site-packages/pandas/core/frame.py:3137: SettingWithCopyWarning: \n",
      "A value is trying to be set on a copy of a slice from a DataFrame.\n",
      "Try using .loc[row_indexer,col_indexer] = value instead\n",
      "\n",
      "See the caveats in the documentation: http://pandas.pydata.org/pandas-docs/stable/indexing.html#indexing-view-versus-copy\n",
      "  self[k1] = value[k2]\n",
      "/anaconda3/lib/python3.6/site-packages/ipykernel_launcher.py:6: SettingWithCopyWarning: \n",
      "A value is trying to be set on a copy of a slice from a DataFrame.\n",
      "Try using .loc[row_indexer,col_indexer] = value instead\n",
      "\n",
      "See the caveats in the documentation: http://pandas.pydata.org/pandas-docs/stable/indexing.html#indexing-view-versus-copy\n",
      "  \n",
      "/anaconda3/lib/python3.6/site-packages/ipykernel_launcher.py:15: SettingWithCopyWarning: \n",
      "A value is trying to be set on a copy of a slice from a DataFrame\n",
      "\n",
      "See the caveats in the documentation: http://pandas.pydata.org/pandas-docs/stable/indexing.html#indexing-view-versus-copy\n",
      "  from ipykernel import kernelapp as app\n",
      "/anaconda3/lib/python3.6/site-packages/pandas/core/generic.py:7620: SettingWithCopyWarning: \n",
      "A value is trying to be set on a copy of a slice from a DataFrame\n",
      "\n",
      "See the caveats in the documentation: http://pandas.pydata.org/pandas-docs/stable/indexing.html#indexing-view-versus-copy\n",
      "  self._update_inplace(new_data)\n",
      "/anaconda3/lib/python3.6/site-packages/IPython/core/interactiveshell.py:2963: SettingWithCopyWarning: \n",
      "A value is trying to be set on a copy of a slice from a DataFrame\n",
      "\n",
      "See the caveats in the documentation: http://pandas.pydata.org/pandas-docs/stable/indexing.html#indexing-view-versus-copy\n",
      "  exec(code_obj, self.user_global_ns, self.user_ns)\n"
     ]
    }
   ],
   "source": [
    "##Clean up datatypes and duplicates\n",
    "df_ratings = df.dropna(subset=['review_scores_rating'])\n",
    "floats = ['log_price','bathrooms','latitude','longitude','review_scores_rating']\n",
    "df_ratings[floats] = df_ratings[floats].astype(np.float64)\n",
    "ints = ['id','accommodates','number_of_reviews','bedrooms','beds']\n",
    "df_ratings[\"host_response_rate\"] = df_ratings[\"host_response_rate\"].str.rstrip('%').astype(np.float64)/100\n",
    "date_time = ['first_review','host_since','last_review']\n",
    "df_ratings[date_time] = df_ratings[date_time].apply(pd.to_datetime)\n",
    "booleans = ['host_has_profile_pic','host_identity_verified','instant_bookable']\n",
    "df_ratings[booleans] = df_ratings[booleans].replace({'t':True,'f':False})\n",
    "df_ratings[booleans] = df_ratings[booleans].astype(np.bool)\n",
    "categorical = ['property_type','room_type','bed_type','cancellation_policy','city','neighbourhood','zipcode']\n",
    "df_ratings[categorical] = df_ratings[categorical].astype('category')\n",
    "df_ratings.drop_duplicates()\n",
    "df_ratings.host_since[df_ratings.host_since.isna()] = df_ratings.first_review[df_ratings.host_since.isna()]"
   ]
  },
  {
   "cell_type": "code",
   "execution_count": 4,
   "metadata": {},
   "outputs": [
    {
     "name": "stderr",
     "output_type": "stream",
     "text": [
      "/anaconda3/lib/python3.6/site-packages/ipykernel_launcher.py:3: SettingWithCopyWarning: \n",
      "A value is trying to be set on a copy of a slice from a DataFrame.\n",
      "Try using .loc[row_indexer,col_indexer] = value instead\n",
      "\n",
      "See the caveats in the documentation: http://pandas.pydata.org/pandas-docs/stable/indexing.html#indexing-view-versus-copy\n",
      "  This is separate from the ipykernel package so we can avoid doing imports until\n",
      "/anaconda3/lib/python3.6/site-packages/ipykernel_launcher.py:4: SettingWithCopyWarning: \n",
      "A value is trying to be set on a copy of a slice from a DataFrame.\n",
      "Try using .loc[row_indexer,col_indexer] = value instead\n",
      "\n",
      "See the caveats in the documentation: http://pandas.pydata.org/pandas-docs/stable/indexing.html#indexing-view-versus-copy\n",
      "  after removing the cwd from sys.path.\n",
      "/anaconda3/lib/python3.6/site-packages/ipykernel_launcher.py:5: SettingWithCopyWarning: \n",
      "A value is trying to be set on a copy of a slice from a DataFrame.\n",
      "Try using .loc[row_indexer,col_indexer] = value instead\n",
      "\n",
      "See the caveats in the documentation: http://pandas.pydata.org/pandas-docs/stable/indexing.html#indexing-view-versus-copy\n",
      "  \"\"\"\n",
      "/anaconda3/lib/python3.6/site-packages/ipykernel_launcher.py:6: SettingWithCopyWarning: \n",
      "A value is trying to be set on a copy of a slice from a DataFrame.\n",
      "Try using .loc[row_indexer,col_indexer] = value instead\n",
      "\n",
      "See the caveats in the documentation: http://pandas.pydata.org/pandas-docs/stable/indexing.html#indexing-view-versus-copy\n",
      "  \n",
      "/anaconda3/lib/python3.6/site-packages/ipykernel_launcher.py:8: SettingWithCopyWarning: \n",
      "A value is trying to be set on a copy of a slice from a DataFrame\n",
      "\n",
      "See the caveats in the documentation: http://pandas.pydata.org/pandas-docs/stable/indexing.html#indexing-view-versus-copy\n",
      "  \n",
      "/anaconda3/lib/python3.6/site-packages/pandas/core/generic.py:7620: SettingWithCopyWarning: \n",
      "A value is trying to be set on a copy of a slice from a DataFrame\n",
      "\n",
      "See the caveats in the documentation: http://pandas.pydata.org/pandas-docs/stable/indexing.html#indexing-view-versus-copy\n",
      "  self._update_inplace(new_data)\n",
      "/anaconda3/lib/python3.6/site-packages/IPython/core/interactiveshell.py:2963: SettingWithCopyWarning: \n",
      "A value is trying to be set on a copy of a slice from a DataFrame\n",
      "\n",
      "See the caveats in the documentation: http://pandas.pydata.org/pandas-docs/stable/indexing.html#indexing-view-versus-copy\n",
      "  exec(code_obj, self.user_global_ns, self.user_ns)\n",
      "/anaconda3/lib/python3.6/site-packages/pandas/core/frame.py:3137: SettingWithCopyWarning: \n",
      "A value is trying to be set on a copy of a slice from a DataFrame.\n",
      "Try using .loc[row_indexer,col_indexer] = value instead\n",
      "\n",
      "See the caveats in the documentation: http://pandas.pydata.org/pandas-docs/stable/indexing.html#indexing-view-versus-copy\n",
      "  self[k1] = value[k2]\n"
     ]
    }
   ],
   "source": [
    "# Impute missing values\n",
    "df_imputed = df_ratings\n",
    "df_imputed[\"bathrooms\"] = df_imputed[\"bathrooms\"].fillna(df_imputed.groupby([\"property_type\",\"accommodates\"])[\"bathrooms\"].apply(lambda x : x.fillna(x.median())))\n",
    "df_imputed[\"bedrooms\"] = df_imputed[\"bedrooms\"].fillna(df_imputed.groupby([\"property_type\",\"accommodates\"])[\"bedrooms\"].apply(lambda x : x.fillna(x.median())))\n",
    "df_imputed[\"beds\"] = df_imputed[\"beds\"].fillna(df_imputed.groupby([\"property_type\",\"accommodates\"])[\"beds\"].apply(lambda x : x.fillna(x.median())))\n",
    "df_imputed[\"host_response_rate\"] = df_imputed[\"host_response_rate\"].fillna(df_imputed.groupby([\"number_of_reviews\"])[\"host_response_rate\"].apply(lambda x : x.fillna(x.mean())))\n",
    "# Impute Missing Value of for 100% Host Response Rate for Row 48194 - Private Room in Apartment\n",
    "df_imputed[\"host_response_rate\"][df_imputed[\"host_response_rate\"].isna()] = 1.0\n",
    "df_imputed[ints] = df_imputed[ints].astype(np.int64)"
   ]
  },
  {
   "cell_type": "markdown",
   "metadata": {},
   "source": [
    "Additionally, some of the existing attributes can be transformed into a potentially more useful datatype."
   ]
  },
  {
   "cell_type": "code",
   "execution_count": 5,
   "metadata": {},
   "outputs": [
    {
     "name": "stderr",
     "output_type": "stream",
     "text": [
      "/anaconda3/lib/python3.6/site-packages/ipykernel_launcher.py:1: SettingWithCopyWarning: \n",
      "A value is trying to be set on a copy of a slice from a DataFrame.\n",
      "Try using .loc[row_indexer,col_indexer] = value instead\n",
      "\n",
      "See the caveats in the documentation: http://pandas.pydata.org/pandas-docs/stable/indexing.html#indexing-view-versus-copy\n",
      "  \"\"\"Entry point for launching an IPython kernel.\n"
     ]
    }
   ],
   "source": [
    "df_imputed['price'] = np.exp(df_imputed['log_price'])"
   ]
  },
  {
   "cell_type": "code",
   "execution_count": 6,
   "metadata": {},
   "outputs": [
    {
     "name": "stderr",
     "output_type": "stream",
     "text": [
      "/anaconda3/lib/python3.6/site-packages/ipykernel_launcher.py:3: SettingWithCopyWarning: \n",
      "A value is trying to be set on a copy of a slice from a DataFrame.\n",
      "Try using .loc[row_indexer,col_indexer] = value instead\n",
      "\n",
      "See the caveats in the documentation: http://pandas.pydata.org/pandas-docs/stable/indexing.html#indexing-view-versus-copy\n",
      "  This is separate from the ipykernel package so we can avoid doing imports until\n",
      "/anaconda3/lib/python3.6/site-packages/ipykernel_launcher.py:4: SettingWithCopyWarning: \n",
      "A value is trying to be set on a copy of a slice from a DataFrame.\n",
      "Try using .loc[row_indexer,col_indexer] = value instead\n",
      "\n",
      "See the caveats in the documentation: http://pandas.pydata.org/pandas-docs/stable/indexing.html#indexing-view-versus-copy\n",
      "  after removing the cwd from sys.path.\n"
     ]
    }
   ],
   "source": [
    "import re\n",
    "#Create a new cleaned amenities column where all amenities are in list form\n",
    "df_imputed['amenities_new'] = df_imputed.apply(lambda row: re.sub(r'[{}\"\"]', '', row['amenities']), axis=1)\n",
    "df_imputed['amenities_new'] = df_imputed.apply(lambda row: row['amenities_new'].lower().split(','), axis=1)\n",
    "df_imputed = df_imputed.reset_index()\n",
    "df_imputed['length_amenities'] = df_imputed.apply(lambda row: len(row['amenities_new']), axis=1)\n",
    "\n",
    "# Create separate columns based on amenities\n",
    "df_imputed['internet'] = df_imputed.apply(lambda row: 'internet' in row.amenities.lower(), axis=1)\n",
    "df_imputed['TV'] = df_imputed.apply(lambda row: 'tv' in row.amenities.lower(), axis=1)\n",
    "df_imputed['air_conditioning'] = df_imputed.apply(lambda row: 'air conditioning' in row.amenities.lower(), axis=1)\n",
    "df_imputed['kitchen'] = df_imputed.apply(lambda row: 'kitchen' in row.amenities.lower(), axis=1)\n",
    "df_imputed['pool'] = df_imputed.apply(lambda row: 'pool' in row.amenities.lower(), axis=1)\n",
    "df_imputed['parking'] = df_imputed.apply(lambda row: 'parking' in row.amenities.lower(), axis=1)\n",
    "\n",
    "# Get information from description based on length in characters\n",
    "df_imputed['description_length'] = df_imputed['description'].apply(len)\n",
    "\n",
    "# Create the target variable superuser\n",
    "df_imputed['superuser'] = False\n",
    "df_imputed.loc[df.review_scores_rating >=96, 'superuser'] = True"
   ]
  },
  {
   "cell_type": "code",
   "execution_count": 7,
   "metadata": {},
   "outputs": [],
   "source": [
    "import datetime\n",
    "date_published = datetime.datetime(2018,3,14)\n",
    "df_imputed['host_since'] = pd.to_datetime(df_imputed['host_since'])\n",
    "df_imputed['host_since_days'] = df_imputed.apply(lambda row: (date_published - row['host_since']).days, axis=1)"
   ]
  },
  {
   "cell_type": "markdown",
   "metadata": {},
   "source": [
    "Columns that are not meaningful in a modeling context (e.g., index, id), redundant with newly engineered features (e.g., amenities, description), or likely not useful in predicting the target variable superuser (e.g., zipcode, thumbnail_url) are removed. "
   ]
  },
  {
   "cell_type": "code",
   "execution_count": 8,
   "metadata": {},
   "outputs": [],
   "source": [
    "# delete useless columns\n",
    "df_logistic = df_imputed.drop(['index', 'id', 'log_price', 'amenities', 'description', 'zipcode', 'description',\n",
    "                      'latitude', 'longitude', 'name', 'neighbourhood', 'review_scores_rating',\n",
    "                      'thumbnail_url', 'zipcode'], axis=1)\n",
    "\n",
    "# Delete other redundant variables\n",
    "del df_logistic['amenities_new']\n",
    "del df_logistic['host_since']\n",
    "del df_logistic['grade']\n",
    "del df_logistic['first_review']\n",
    "del df_logistic['last_review']"
   ]
  },
  {
   "cell_type": "code",
   "execution_count": 9,
   "metadata": {},
   "outputs": [
    {
     "data": {
      "text/plain": [
       "property_type          32\n",
       "room_type               3\n",
       "bed_type                5\n",
       "cancellation_policy     5\n",
       "city                    6\n",
       "dtype: int64"
      ]
     },
     "execution_count": 9,
     "metadata": {},
     "output_type": "execute_result"
    }
   ],
   "source": [
    "categorical_vars = ['property_type', 'room_type', 'bed_type', 'cancellation_policy', 'city']\n",
    "df_logistic[categorical_vars].apply(lambda x: len(x.value_counts()), axis=0)"
   ]
  },
  {
   "cell_type": "code",
   "execution_count": 10,
   "metadata": {},
   "outputs": [],
   "source": [
    "# Remove factor with unnecessarily large number of levels\n",
    "df_logistic.drop(['property_type'], axis=1, inplace=True)"
   ]
  },
  {
   "cell_type": "code",
   "execution_count": 11,
   "metadata": {},
   "outputs": [
    {
     "name": "stdout",
     "output_type": "stream",
     "text": [
      "<class 'pandas.core.frame.DataFrame'>\n",
      "RangeIndex: 57389 entries, 0 to 57388\n",
      "Data columns (total 25 columns):\n",
      "room_type                 57389 non-null category\n",
      "accommodates              57389 non-null int64\n",
      "bathrooms                 57389 non-null float64\n",
      "bed_type                  57389 non-null category\n",
      "cancellation_policy       57389 non-null category\n",
      "cleaning_fee              57389 non-null bool\n",
      "city                      57389 non-null category\n",
      "host_has_profile_pic      57389 non-null bool\n",
      "host_identity_verified    57389 non-null bool\n",
      "host_response_rate        57389 non-null float64\n",
      "instant_bookable          57389 non-null bool\n",
      "number_of_reviews         57389 non-null int64\n",
      "bedrooms                  57389 non-null int64\n",
      "beds                      57389 non-null int64\n",
      "price                     57389 non-null float64\n",
      "length_amenities          57389 non-null int64\n",
      "internet                  57389 non-null bool\n",
      "TV                        57389 non-null bool\n",
      "air_conditioning          57389 non-null bool\n",
      "kitchen                   57389 non-null bool\n",
      "pool                      57389 non-null bool\n",
      "parking                   57389 non-null bool\n",
      "description_length        57389 non-null int64\n",
      "superuser                 57389 non-null bool\n",
      "host_since_days           57389 non-null int64\n",
      "dtypes: bool(11), category(4), float64(3), int64(7)\n",
      "memory usage: 5.2 MB\n"
     ]
    }
   ],
   "source": [
    "df_logistic.info()"
   ]
  },
  {
   "cell_type": "markdown",
   "metadata": {},
   "source": [
    "#### Checking Class Imbalances & Collinearity"
   ]
  },
  {
   "cell_type": "code",
   "execution_count": 12,
   "metadata": {},
   "outputs": [
    {
     "data": {
      "text/plain": [
       "<matplotlib.axes._subplots.AxesSubplot at 0x1a27841b38>"
      ]
     },
     "execution_count": 12,
     "metadata": {},
     "output_type": "execute_result"
    },
    {
     "data": {
      "image/png": "[encoded data removed]",
      "text/plain": [
       "<Figure size 432x288 with 1 Axes>"
      ]
     },
     "metadata": {},
     "output_type": "display_data"
    }
   ],
   "source": [
    "sns.countplot(data=df_logistic, x='superuser')"
   ]
  },
  {
   "cell_type": "markdown",
   "metadata": {},
   "source": [
    "A simple bar chart of the counts shows that both classes of Superuser, the target variable, are well-represented in the remaining data."
   ]
  },
  {
   "cell_type": "code",
   "execution_count": 13,
   "metadata": {},
   "outputs": [
    {
     "data": {
      "image/png": "[encoded data removed]",
      "text/plain": [
       "<Figure size 432x288 with 1 Axes>"
      ]
     },
     "metadata": {},
     "output_type": "display_data"
    }
   ],
   "source": [
    "sns.countplot(data=df_logistic, x='superuser', hue='city')\n",
    "plt.title('Superuser vs City')\n",
    "plt.show()"
   ]
  },
  {
   "cell_type": "markdown",
   "metadata": {},
   "source": [
    "One of the multi-level categorical variables retained in building the models, city, doesn't appear to have major imbalances when accounting for Superuser status. It is worth noting that New York City and Los Angeles are more strongly represented than the other four."
   ]
  },
  {
   "cell_type": "code",
   "execution_count": 14,
   "metadata": {},
   "outputs": [
    {
     "data": {
      "text/plain": [
       "<matplotlib.axes._subplots.AxesSubplot at 0x1a26ef6f28>"
      ]
     },
     "execution_count": 14,
     "metadata": {},
     "output_type": "execute_result"
    },
    {
     "data": {
      "image/png": "[encoded data removed]",
      "text/plain": [
       "<Figure size 432x288 with 2 Axes>"
      ]
     },
     "metadata": {},
     "output_type": "display_data"
    }
   ],
   "source": [
    "numerical_features = ['host_since_days', 'description_length', 'length_amenities', 'price', 'beds',\n",
    "                     'bedrooms', 'number_of_reviews', 'bathrooms', 'accommodates', 'host_response_rate']\n",
    "sns.heatmap(df_logistic[numerical_features])"
   ]
  },
  {
   "cell_type": "markdown",
   "metadata": {},
   "source": [
    "Collinearity does not appear to be a concern based on the numeric variables. However, it is worth noting that there are vast scaling differences. For example, host_since_days counts the number of days a listing existed until a given date, resulting in a mean in the thousands because many listings have been active for several years. In contrast, host_response_rate is a percentage. Standardizing these values to account for this may be useful, and is explored later on."
   ]
  },
  {
   "cell_type": "code",
   "execution_count": 15,
   "metadata": {},
   "outputs": [
    {
     "name": "stdout",
     "output_type": "stream",
     "text": [
      "<class 'pandas.core.frame.DataFrame'>\n",
      "RangeIndex: 57389 entries, 0 to 57388\n",
      "Data columns (total 26 columns):\n",
      "accommodates                           57389 non-null int64\n",
      "bathrooms                              57389 non-null float64\n",
      "host_response_rate                     57389 non-null float64\n",
      "number_of_reviews                      57389 non-null int64\n",
      "bedrooms                               57389 non-null int64\n",
      "beds                                   57389 non-null int64\n",
      "price                                  57389 non-null float64\n",
      "length_amenities                       57389 non-null int64\n",
      "description_length                     57389 non-null int64\n",
      "superuser                              57389 non-null bool\n",
      "host_since_days                        57389 non-null int64\n",
      "city_Chicago                           57389 non-null uint8\n",
      "city_DC                                57389 non-null uint8\n",
      "city_LA                                57389 non-null uint8\n",
      "city_NYC                               57389 non-null uint8\n",
      "city_SF                                57389 non-null uint8\n",
      "cancellation_policy_moderate           57389 non-null uint8\n",
      "cancellation_policy_strict             57389 non-null uint8\n",
      "cancellation_policy_super_strict_30    57389 non-null uint8\n",
      "cancellation_policy_super_strict_60    57389 non-null uint8\n",
      "bed_type_Couch                         57389 non-null uint8\n",
      "bed_type_Futon                         57389 non-null uint8\n",
      "bed_type_Pull-out Sofa                 57389 non-null uint8\n",
      "bed_type_Real Bed                      57389 non-null uint8\n",
      "room_type_Private room                 57389 non-null uint8\n",
      "room_type_Shared room                  57389 non-null uint8\n",
      "dtypes: bool(1), float64(3), int64(7), uint8(15)\n",
      "memory usage: 5.3 MB\n"
     ]
    }
   ],
   "source": [
    "# Create dummy variables\n",
    "categorical_vars = ['parking', 'pool', 'kitchen', 'air_conditioning', 'TV', 'internet', 'instant_bookable',\n",
    "                   'host_identity_verified', 'host_has_profile_pic', 'city', 'cleaning_fee', 'cancellation_policy',\n",
    "                   'bed_type', 'room_type']\n",
    "dummy_df = pd.get_dummies(df_logistic[categorical_vars], drop_first=True)\n",
    "df_logistic_dummy = pd.concat([df_logistic, dummy_df], axis=1)\n",
    "\n",
    "# Delete non-dummy categorical variables\n",
    "for x in categorical_vars:\n",
    "    if x in df_logistic_dummy:\n",
    "        del df_logistic_dummy[x]\n",
    "\n",
    "df_logistic_dummy.info()"
   ]
  },
  {
   "cell_type": "markdown",
   "metadata": {},
   "source": [
    "### Training/Test Data Split"
   ]
  },
  {
   "cell_type": "code",
   "execution_count": 16,
   "metadata": {},
   "outputs": [],
   "source": [
    "y = df_logistic_dummy['superuser'].values\n",
    "X = df_logistic_dummy.drop(['superuser'], axis=1).values"
   ]
  },
  {
   "cell_type": "code",
   "execution_count": 17,
   "metadata": {},
   "outputs": [
    {
     "data": {
      "text/plain": [
       "ShuffleSplit(n_splits=10, random_state=123, test_size=0.2, train_size=None)"
      ]
     },
     "execution_count": 17,
     "metadata": {},
     "output_type": "execute_result"
    }
   ],
   "source": [
    "from sklearn.model_selection import ShuffleSplit\n",
    "# Use X to predict the binary class of y\n",
    "## X and Y are numpy matricies - .values call converts the data type to simple matrices\n",
    "if 'superuser' in df_logistic_dummy:\n",
    "    y = df_logistic_dummy['superuser'].values # retrieve binary value for class distinction\n",
    "    del df_logistic_dummy['superuser'] # get rid of True/False label\n",
    "    X = df_logistic_dummy.values # use all other attribute values to predict\n",
    "    \n",
    "num_cv_iterations = 10\n",
    "num_instances = len(y)\n",
    "cv_object = ShuffleSplit(n_splits = num_cv_iterations,\n",
    "                        test_size = 0.2,\n",
    "                        random_state = 123) # set random number seed\n",
    "cv_object"
   ]
  },
  {
   "cell_type": "markdown",
   "metadata": {},
   "source": [
    "## Create Models"
   ]
  },
  {
   "cell_type": "markdown",
   "metadata": {},
   "source": [
    "### Logistic Regression Model"
   ]
  },
  {
   "cell_type": "markdown",
   "metadata": {},
   "source": [
    "#### Without Scaling"
   ]
  },
  {
   "cell_type": "code",
   "execution_count": 18,
   "metadata": {},
   "outputs": [],
   "source": [
    "##Basic model, all numeric data\n",
    "#x_train, x_test, y_train, y_test = train_test_split(df_imputed.loc[:,['log_price','accommodates','bathrooms','number_of_reviews','review_scores_rating','bedrooms','beds']]\n",
    "#                                                    , df_imputed.loc[:,['grade']], test_size=0.2, random_state=0)\n",
    "#LogisticRegression().fit(x_train,y_train).predict(x_test[0].reshape(1,-1))\n"
   ]
  },
  {
   "cell_type": "code",
   "execution_count": 19,
   "metadata": {},
   "outputs": [],
   "source": [
    "from sklearn.linear_model import LogisticRegression\n",
    "from sklearn import metrics as mt\n",
    "from sklearn.model_selection import cross_val_score\n",
    "from sklearn.model_selection import ShuffleSplit\n",
    "\n",
    "#create logistic regression object\n",
    "lr_clf = LogisticRegression(penalty='l2', C=1.0, class_weight=None, solver='liblinear' ) # get object\n"
   ]
  },
  {
   "cell_type": "code",
   "execution_count": 20,
   "metadata": {},
   "outputs": [
    {
     "data": {
      "text/plain": [
       "array([0.57727827, 0.56961143, 0.57727827, 0.57022129, 0.57257362,\n",
       "       0.57074403, 0.57091828, 0.57631992, 0.57152814, 0.57501307])"
      ]
     },
     "execution_count": 20,
     "metadata": {},
     "output_type": "execute_result"
    }
   ],
   "source": [
    "accuracies = cross_val_score(lr_clf, X, y=y, cv=cv_object) # this also can help with parallelism\n",
    "accuracies"
   ]
  },
  {
   "cell_type": "markdown",
   "metadata": {},
   "source": [
    "#### With Scaling"
   ]
  },
  {
   "cell_type": "code",
   "execution_count": 21,
   "metadata": {},
   "outputs": [],
   "source": [
    "from sklearn.preprocessing import StandardScaler\n",
    "from sklearn.pipeline import Pipeline\n",
    "from sklearn import metrics as mt\n",
    "from sklearn.metrics import accuracy_score, recall_score, precision_score, f1_score\n",
    "import statistics"
   ]
  },
  {
   "cell_type": "code",
   "execution_count": 22,
   "metadata": {},
   "outputs": [],
   "source": [
    "std_scl = StandardScaler()\n",
    "lr_clf = LogisticRegression(penalty='l2', C=0.05, solver='liblinear') \n",
    "\n",
    "# create the pipline\n",
    "piped_object = Pipeline([('scale', std_scl),  # do this\n",
    "                         ('logit_model', lr_clf)]) # and then do this\n",
    "#Pipeline takes in a list of tuples, where each tuple is (object name, object)"
   ]
  },
  {
   "cell_type": "code",
   "execution_count": 23,
   "metadata": {},
   "outputs": [
    {
     "name": "stdout",
     "output_type": "stream",
     "text": [
      "#### Iteration 0 ####\n",
      "accuracy: 0.5775396410524481\n",
      "recall: 0.00247320692497939\n",
      "precision: 0.5714285714285714\n",
      "f1 score: 0.004925097475887543\n",
      "confusion matrix:\n",
      " [[6617    9]\n",
      " [4840   12]]\n",
      "#### Iteration 1 ####\n",
      "accuracy: 0.5695243073706221\n",
      "recall: 0.002631578947368421\n",
      "precision: 0.48148148148148145\n",
      "f1 score: 0.0052345480169116165\n",
      "confusion matrix:\n",
      " [[6524   14]\n",
      " [4927   13]]\n",
      "#### Iteration 2 ####\n",
      "accuracy: 0.5775396410524481\n",
      "recall: 0.003503709810387469\n",
      "precision: 0.5483870967741935\n",
      "f1 score: 0.006962932623387262\n",
      "confusion matrix:\n",
      " [[6612   14]\n",
      " [4835   17]]\n",
      "#### Iteration 3 ####\n",
      "accuracy: 0.5701341697159784\n",
      "recall: 0.003851611595378066\n",
      "precision: 0.48717948717948717\n",
      "f1 score: 0.007642799678197908\n",
      "confusion matrix:\n",
      " [[6525   20]\n",
      " [4914   19]]\n",
      "#### Iteration 4 ####\n",
      "accuracy: 0.5722251263286287\n",
      "recall: 0.003465144720750102\n",
      "precision: 0.4473684210526316\n",
      "f1 score: 0.006877022653721683\n",
      "confusion matrix:\n",
      " [[6551   21]\n",
      " [4889   17]]\n",
      "#### Iteration 5 ####\n",
      "accuracy: 0.5710925248301097\n",
      "recall: 0.0012177795818956768\n",
      "precision: 0.75\n",
      "f1 score: 0.00243161094224924\n",
      "confusion matrix:\n",
      " [[6549    2]\n",
      " [4921    6]]\n",
      "#### Iteration 6 ####\n",
      "accuracy: 0.5704826624847534\n",
      "recall: 0.002843216896831844\n",
      "precision: 0.4117647058823529\n",
      "f1 score: 0.005647438483259378\n",
      "confusion matrix:\n",
      " [[6534   20]\n",
      " [4910   14]]\n",
      "#### Iteration 7 ####\n",
      "accuracy: 0.5767555323227043\n",
      "recall: 0.001851090086384204\n",
      "precision: 0.6428571428571429\n",
      "f1 score: 0.0036915504511894994\n",
      "confusion matrix:\n",
      " [[6611    5]\n",
      " [4853    9]]\n",
      "#### Iteration 8 ####\n",
      "accuracy: 0.5712667712144973\n",
      "recall: 0.0022366815778771857\n",
      "precision: 0.44\n",
      "f1 score: 0.004450738417964797\n",
      "confusion matrix:\n",
      " [[6546   14]\n",
      " [4907   11]]\n",
      "#### Iteration 9 ####\n",
      "accuracy: 0.5748388220944416\n",
      "recall: 0.002870028700287003\n",
      "precision: 0.4666666666666667\n",
      "f1 score: 0.0057049714751426246\n",
      "confusion matrix:\n",
      " [[6584   16]\n",
      " [4864   14]]\n",
      "#### 10-Fold Averages ####\n",
      "average accuracy: 0.5731399198466631\n",
      "average recall: 0.002694404884213936\n",
      "average precision: 0.5247133573322528\n",
      "average f1 score: 0.005356871021791155\n"
     ]
    }
   ],
   "source": [
    "weights = []\n",
    "accuracy_average = []\n",
    "recall_average = []\n",
    "precision_average = []\n",
    "f1_average = []\n",
    "# run the pipline cross validated\n",
    "for iter_num, (train_indices, test_indices) in enumerate(cv_object.split(X,y)):\n",
    "    X_train = X[train_indices]\n",
    "    y_train = y[train_indices]\n",
    "    \n",
    "    X_test = X[test_indices]\n",
    "    y_test = y[test_indices]\n",
    "    \n",
    "    piped_object.fit(X_train, y_train)  # train object\n",
    "    # it is a little odd getting trained objects from a  pipeline:\n",
    "    weights.append(piped_object.named_steps['logit_model'].coef_[0])\n",
    "    \n",
    "    y_hat = piped_object.predict(X_test)\n",
    "    acc_iter = mt.accuracy_score(y_test, y_hat)\n",
    "    rec_iter = mt.recall_score(y_test, y_hat)\n",
    "    pre_iter = mt.precision_score(y_test, y_hat)\n",
    "    f1_iter = mt.f1_score(y_test, y_hat)\n",
    "    conf_iter = mt.confusion_matrix(y_test, y_hat)\n",
    "    \n",
    "    accuracy_average.append(acc_iter)\n",
    "    recall_average.append(rec_iter)\n",
    "    precision_average.append(pre_iter)\n",
    "    f1_average.append(f1_iter)\n",
    "    \n",
    "    print(\"#### Iteration\", iter_num, \"####\")\n",
    "    print(\"accuracy:\", acc_iter)\n",
    "    print(\"recall:\", rec_iter)\n",
    "    print(\"precision:\", pre_iter)\n",
    "    print(\"f1 score:\", f1_iter)\n",
    "    print(\"confusion matrix:\\n\", conf_iter)\n",
    "\n",
    "weights = np.array(weights)\n",
    "print(\"#### 10-Fold Averages ####\")\n",
    "print(\"average accuracy:\", statistics.mean(accuracy_average))\n",
    "print(\"average recall:\", statistics.mean(recall_average))\n",
    "print(\"average precision:\", statistics.mean(precision_average))\n",
    "print(\"average f1 score:\", statistics.mean(f1_average))"
   ]
  },
  {
   "cell_type": "markdown",
   "metadata": {},
   "source": [
    "As shown by the confusion matrices, these models overwhelmingly label most postings as Superusers, resulting in almost all actual negatives being classified as false positives. Whether this bias towards precision is problematic depends on intangible costs. If guests stay at incorrectly labeled Superuser listings that don't meet expectations, that could dilute benefits associated with being a Superuser."
   ]
  },
  {
   "cell_type": "markdown",
   "metadata": {},
   "source": [
    "### Interpretation of Feature Importance"
   ]
  },
  {
   "cell_type": "markdown",
   "metadata": {},
   "source": [
    "<i>[30 points]\n",
    "* Use weights from logistic regression to interpret importance of different features for each classification task. Explain interpretation in detail.\n",
    "    * Why do you think some variables are more important?</i>"
   ]
  },
  {
   "cell_type": "code",
   "execution_count": 24,
   "metadata": {},
   "outputs": [
    {
     "name": "stdout",
     "output_type": "stream",
     "text": [
      "bathrooms has this weight: -0.019790787769317156\n",
      "number_of_reviews has this weight: -0.0182481493860735\n",
      "cancellation_policy_super_strict_60 has this weight: -0.018168786274572295\n",
      "cancellation_policy_strict has this weight: -0.005409526839261715\n",
      "accommodates has this weight: -0.003741322518468576\n",
      "cancellation_policy_super_strict_30 has this weight: -0.003152931439130895\n",
      "host_response_rate has this weight: -0.0022864826291992798\n",
      "host_since_days has this weight: -0.0018263156317891917\n",
      "room_type_Private room has this weight: 0.0004837418445519001\n",
      "price has this weight: 0.001173708001557994\n",
      "bedrooms has this weight: 0.00211321519675861\n",
      "city_Chicago has this weight: 0.006078143255663068\n",
      "room_type_Shared room has this weight: 0.006427027291399722\n",
      "description_length has this weight: 0.011858107308539114\n",
      "beds has this weight: 0.012606802699415737\n",
      "cancellation_policy_moderate has this weight: 0.013007202820080556\n",
      "length_amenities has this weight: 0.014162361097063146\n",
      "bed_type_Futon has this weight: 0.02195295521957209\n",
      "bed_type_Pull-out Sofa has this weight: 0.02260256323412246\n",
      "city_DC has this weight: 0.025504705112594235\n",
      "city_LA has this weight: 0.02568969041366095\n",
      "bed_type_Real Bed has this weight: 0.029889018945183633\n",
      "bed_type_Couch has this weight: 0.030133233965480375\n",
      "city_SF has this weight: 0.03240694758834161\n",
      "city_NYC has this weight: 0.04103496102220733\n"
     ]
    }
   ],
   "source": [
    "# Print out weights\n",
    "zip_vars = zip(lr_clf.coef_.T, df_logistic_dummy.columns)\n",
    "zip_vars = sorted(zip_vars)\n",
    "for coef, name in zip_vars:\n",
    "    print(name, 'has this weight:', coef[0])"
   ]
  },
  {
   "cell_type": "code",
   "execution_count": 25,
   "metadata": {},
   "outputs": [
    {
     "data": {
      "image/png": "[encoded data removed]",
      "text/plain": [
       "<Figure size 432x288 with 1 Axes>"
      ]
     },
     "metadata": {},
     "output_type": "display_data"
    }
   ],
   "source": [
    "from matplotlib import pyplot as plt\n",
    "%matplotlib inline\n",
    "plt.style.use('ggplot')\n",
    "\n",
    "weights = pd.Series(lr_clf.coef_[0], df_logistic_dummy.columns)\n",
    "weights.plot(kind='bar')\n",
    "plt.show()"
   ]
  },
  {
   "cell_type": "markdown",
   "metadata": {},
   "source": [
    "As mentioned before, average review score rating was the sole variable used to classify Superusers for this task, but cancellations are also involved in the true Airbnb designation. \n",
    "\n",
    "Of the included variables, number_of_reviews is one of the strongest negatively weighted variables for Superuser. It is highly likely that the more reviews a listing accrues, the greater the chances of people leaving negative reviews that tank the average score below our Superuser threshold. Whether through an off-day with a genuinely bad experience or a hard-to-please customer, simply having more reviews invites the possibility of a lower score because dissatisfied guests are often more likely to post negative reviews than satisfied guests with positive ones.\n",
    "\n",
    "Both variables for character length about the property, description_length and length_amenities, have mild positive weights. It is possible that properties with lots of amenities available and detailed descriptions about a property's attributes that aren't captured cleanly in the regular amenities checklist (such as proximity to areas of interest) allow guests to make well-informed decisions to their own needs, which would translate to good stays and five-star reviews."
   ]
  },
  {
   "cell_type": "code",
   "execution_count": 26,
   "metadata": {},
   "outputs": [
    {
     "data": {
      "text/plain": [
       "{'type': 'data', 'array': 0.0163619852067034, 'visible': True}"
      ]
     },
     "execution_count": 26,
     "metadata": {},
     "output_type": "execute_result"
    }
   ],
   "source": [
    "error_y=dict(\n",
    "            type='data',\n",
    "            array=np.std(weights,axis=0),\n",
    "            visible=True\n",
    "        )\n",
    "error_y"
   ]
  },
  {
   "cell_type": "code",
   "execution_count": 27,
   "metadata": {},
   "outputs": [
    {
     "data": {
      "text/plain": [
       "{'x': Index(['accommodates', 'bathrooms', 'host_response_rate', 'number_of_reviews',\n",
       "        'bedrooms', 'beds', 'price', 'length_amenities', 'description_length',\n",
       "        'host_since_days', 'city_Chicago', 'city_DC', 'city_LA', 'city_NYC',\n",
       "        'city_SF', 'cancellation_policy_moderate', 'cancellation_policy_strict',\n",
       "        'cancellation_policy_super_strict_30',\n",
       "        'cancellation_policy_super_strict_60', 'bed_type_Couch',\n",
       "        'bed_type_Futon', 'bed_type_Pull-out Sofa', 'bed_type_Real Bed',\n",
       "        'room_type_Private room', 'room_type_Shared room'],\n",
       "       dtype='object'),\n",
       " 'y': 0.008980003301135197,\n",
       " 'error_y': {'type': 'data', 'array': 0.0163619852067034, 'visible': True},\n",
       " 'type': 'bar'}"
      ]
     },
     "execution_count": 27,
     "metadata": {},
     "output_type": "execute_result"
    }
   ],
   "source": [
    "graph1 = {'x': df_logistic_dummy.columns,\n",
    "          'y': np.mean(weights,axis=0),\n",
    "    'error_y':error_y,\n",
    "       'type': 'bar'}\n",
    "graph1"
   ]
  },
  {
   "cell_type": "code",
   "execution_count": 28,
   "metadata": {},
   "outputs": [
    {
     "ename": "NameError",
     "evalue": "name 'plotly' is not defined",
     "output_type": "error",
     "traceback": [
      "\u001b[0;31m---------------------------------------------------------------------------\u001b[0m",
      "\u001b[0;31mNameError\u001b[0m                                 Traceback (most recent call last)",
      "\u001b[0;32m<ipython-input-28-aaf7ad6a0444>\u001b[0m in \u001b[0;36m<module>\u001b[0;34m()\u001b[0m\n\u001b[1;32m      3\u001b[0m \u001b[0mfig\u001b[0m\u001b[0;34m[\u001b[0m\u001b[0;34m'layout'\u001b[0m\u001b[0;34m]\u001b[0m \u001b[0;34m=\u001b[0m \u001b[0;34m{\u001b[0m\u001b[0;34m'title'\u001b[0m\u001b[0;34m:\u001b[0m \u001b[0;34m'Logistic Regression Weights, with error bars'\u001b[0m\u001b[0;34m}\u001b[0m\u001b[0;34m\u001b[0m\u001b[0m\n\u001b[1;32m      4\u001b[0m \u001b[0;34m\u001b[0m\u001b[0m\n\u001b[0;32m----> 5\u001b[0;31m \u001b[0mplotly\u001b[0m\u001b[0;34m.\u001b[0m\u001b[0moffline\u001b[0m\u001b[0;34m.\u001b[0m\u001b[0miplot\u001b[0m\u001b[0;34m(\u001b[0m\u001b[0mfig\u001b[0m\u001b[0;34m)\u001b[0m\u001b[0;34m\u001b[0m\u001b[0m\n\u001b[0m",
      "\u001b[0;31mNameError\u001b[0m: name 'plotly' is not defined"
     ]
    }
   ],
   "source": [
    "fig = dict()\n",
    "fig['data'] = [graph1]\n",
    "fig['layout'] = {'title': 'Logistic Regression Weights, with error bars'}\n",
    "\n",
    "plotly.offline.iplot(fig)"
   ]
  },
  {
   "cell_type": "markdown",
   "metadata": {},
   "source": [
    "### Support Vector Machine Model"
   ]
  },
  {
   "cell_type": "code",
   "execution_count": null,
   "metadata": {},
   "outputs": [],
   "source": []
  },
  {
   "cell_type": "markdown",
   "metadata": {},
   "source": [
    "### Interpretation of Support Vectors"
   ]
  },
  {
   "cell_type": "markdown",
   "metadata": {},
   "source": [
    "<i>[10 pts] Look at the chosen support vectors for the classification task. Do these provide any insight into the data? Explain. If you used stochastic gradient descent (and therefore did not explicitly solve for support vectors), try subsampling your data to train the SVC model— then analyze the support vectors from the subsampled dataset.</i>"
   ]
  },
  {
   "cell_type": "code",
   "execution_count": null,
   "metadata": {},
   "outputs": [],
   "source": []
  },
  {
   "cell_type": "markdown",
   "metadata": {},
   "source": [
    "## Model Comparisons: Advantages, Performance, Efficiency"
   ]
  },
  {
   "cell_type": "markdown",
   "metadata": {},
   "source": [
    "<i>[10 Points]\n",
    "* Discuss advantages of each model for each classification task\n",
    "* Does one type of model offer superior performance over another in terms of prediction accuracy?\n",
    "    * In terms of training time or efficiency? Explain.</i>"
   ]
  },
  {
   "cell_type": "code",
   "execution_count": null,
   "metadata": {},
   "outputs": [],
   "source": []
  }
 ],
 "metadata": {
  "kernelspec": {
   "display_name": "Python 3",
   "language": "python",
   "name": "python3"
  },
  "language_info": {
   "codemirror_mode": {
    "name": "ipython",
    "version": 3
   },
   "file_extension": ".py",
   "mimetype": "text/x-python",
   "name": "python",
   "nbconvert_exporter": "python",
   "pygments_lexer": "ipython3",
   "version": "3.6.5"
  }
 },
 "nbformat": 4,
 "nbformat_minor": 2
}
