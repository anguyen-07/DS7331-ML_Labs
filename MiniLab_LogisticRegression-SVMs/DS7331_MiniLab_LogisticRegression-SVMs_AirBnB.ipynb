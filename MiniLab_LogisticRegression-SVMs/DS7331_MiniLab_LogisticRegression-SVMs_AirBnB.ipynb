{
 "cells": [
  {
   "cell_type": "markdown",
   "metadata": {},
   "source": [
    "Andy Nguyen, Michael Wolfe, Spencer Fogelman, & Joseph Caguioa\n",
    "\n",
    "DS 7331.407\n",
    "\n",
    "Thursday 6:30pm - 8:00pm"
   ]
  },
  {
   "cell_type": "markdown",
   "metadata": {},
   "source": [
    "# Logistic Regression and SVMs of AirBnB Data"
   ]
  },
  {
   "cell_type": "markdown",
   "metadata": {},
   "source": [
    "### Instructions\n",
    "[50 Points]\n",
    "* Assess performance of each model using 80/20 training-test split\n",
    "* Adjust model parameters to optimize accuracy\n",
    "    * if dataset size requires stochastic gradient descent, then only linear kernel is appropriate\n",
    "    \n",
    "[10 Points]\n",
    "* Discuss advantages of each model for each classification task\n",
    "* Does one type of model offer superior performance over another in terms of prediction accuracy?\n",
    "    * In terms of training time or efficiency? Explain.\n",
    "\n",
    "[30 points]\n",
    "* Use weights from logistic regression to interpret importance of different features for each classification task. Explain interpretation in detail.\n",
    "    * Why do you think some variables are more important?\n",
    "    \n",
    "[10 points]\n",
    "* Look at the chosen support vectors for the classifcation task. Do these provide any insight into the data? Explain."
   ]
  },
  {
   "cell_type": "markdown",
   "metadata": {},
   "source": [
    "### Logistic Regression Model"
   ]
  },
  {
   "cell_type": "code",
   "execution_count": null,
   "metadata": {},
   "outputs": [],
   "source": []
  },
  {
   "cell_type": "markdown",
   "metadata": {},
   "source": [
    "#### Interpretation of Feature Importance"
   ]
  },
  {
   "cell_type": "code",
   "execution_count": null,
   "metadata": {},
   "outputs": [],
   "source": []
  },
  {
   "cell_type": "markdown",
   "metadata": {},
   "source": [
    "### Support Vector Machine Model"
   ]
  },
  {
   "cell_type": "code",
   "execution_count": null,
   "metadata": {},
   "outputs": [],
   "source": []
  },
  {
   "cell_type": "markdown",
   "metadata": {},
   "source": [
    "#### Interpretation of Support Vectors"
   ]
  },
  {
   "cell_type": "code",
   "execution_count": null,
   "metadata": {},
   "outputs": [],
   "source": []
  },
  {
   "cell_type": "markdown",
   "metadata": {},
   "source": [
    "### Model Comparisons: Advantages, Performance, Efficiency"
   ]
  },
  {
   "cell_type": "code",
   "execution_count": null,
   "metadata": {},
   "outputs": [],
   "source": []
  }
 ],
 "metadata": {
  "kernelspec": {
   "display_name": "Python 3",
   "language": "python",
   "name": "python3"
  },
  "language_info": {
   "codemirror_mode": {
    "name": "ipython",
    "version": 3
   },
   "file_extension": ".py",
   "mimetype": "text/x-python",
   "name": "python",
   "nbconvert_exporter": "python",
   "pygments_lexer": "ipython3",
   "version": "3.7.4"
  }
 },
 "nbformat": 4,
 "nbformat_minor": 2
}
