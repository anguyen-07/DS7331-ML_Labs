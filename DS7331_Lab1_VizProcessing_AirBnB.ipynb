{
 "cells": [
  {
   "cell_type": "markdown",
   "metadata": {},
   "source": [
    "Andy Nguyen, Michael Wolfe, Spencer Fogelman, & Joseph Caguioa\n",
    "\n",
    "DS 7331.407\n",
    "\n",
    "Thursday 6:30pm - 8:00pm"
   ]
  },
  {
   "cell_type": "markdown",
   "metadata": {},
   "source": [
    "# Visualization and Preprocessing of AirBnB Data"
   ]
  },
  {
   "cell_type": "code",
   "execution_count": 5,
   "metadata": {},
   "outputs": [
    {
     "ename": "ModuleNotFoundError",
     "evalue": "No module named 'plotly'",
     "output_type": "error",
     "traceback": [
      "\u001b[0;31m---------------------------------------------------------------------------\u001b[0m",
      "\u001b[0;31mModuleNotFoundError\u001b[0m                       Traceback (most recent call last)",
      "\u001b[0;32m<ipython-input-5-53cac444ee75>\u001b[0m in \u001b[0;36m<module>\u001b[0;34m()\u001b[0m\n\u001b[1;32m      3\u001b[0m \u001b[0;32mimport\u001b[0m \u001b[0mnumpy\u001b[0m \u001b[0;32mas\u001b[0m \u001b[0mnp\u001b[0m\u001b[0;34m\u001b[0m\u001b[0m\n\u001b[1;32m      4\u001b[0m \u001b[0;32mimport\u001b[0m \u001b[0mseaborn\u001b[0m \u001b[0;32mas\u001b[0m \u001b[0msns\u001b[0m\u001b[0;34m\u001b[0m\u001b[0m\n\u001b[0;32m----> 5\u001b[0;31m \u001b[0;32mimport\u001b[0m \u001b[0mplotly\u001b[0m\u001b[0;34m.\u001b[0m\u001b[0mgraph_objects\u001b[0m \u001b[0;32mas\u001b[0m \u001b[0mgo\u001b[0m\u001b[0;34m\u001b[0m\u001b[0m\n\u001b[0m\u001b[1;32m      6\u001b[0m \u001b[0;32mimport\u001b[0m \u001b[0mdatetime\u001b[0m\u001b[0;34m\u001b[0m\u001b[0m\n",
      "\u001b[0;31mModuleNotFoundError\u001b[0m: No module named 'plotly'"
     ]
    }
   ],
   "source": [
    "# Set-Up\n",
    "import pandas as pd\n",
    "import numpy as np\n",
    "import seaborn as sns\n",
    "import plotly.graph_objects as go\n",
    "import datetime"
   ]
  },
  {
   "cell_type": "code",
   "execution_count": 6,
   "metadata": {},
   "outputs": [],
   "source": [
    "# Load Data from CSV file as pandas dataframe\n",
    "df = pd.read_csv('data/airbnb_train.csv')"
   ]
  },
  {
   "cell_type": "markdown",
   "metadata": {},
   "source": [
    "*Dataset Source: https://www.kaggle.com/rudymizrahi/airbnb-listings-in-major-us-cities-deloitte-ml*"
   ]
  },
  {
   "cell_type": "markdown",
   "metadata": {},
   "source": [
    "## Business Understanding"
   ]
  },
  {
   "cell_type": "markdown",
   "metadata": {},
   "source": [
    "This dataset is provided by Kaggle and aims to predict the price of AirBnb listings in major cities in the United States. Each record is one AirBnB listing from 2018 with 29 attributes that describe the listing and what it offers to guests. A linear regression model would be a strong choice for predicting the continuous value of the listing price. This model could be extremely beneficial for new AirBnb hosts to guide them in setting an initial price for their listings based on location, amenities, and other features that they offered with their listing. Furthermore, the price perdiction model could help ensure that AirBnb guests are not overcharged for their stay and that hosts are adequately compensated for their hospitality. The performance of this model would be measured by the root mean square error (RMSE) to determine how far predictions deviate from actual values. Using the RMSE metric is most appropriate within this context because it heavily penalizes large errors and we want to avoid significant prediction errors in listing prices.  \n",
    "\n",
    "\n",
    "In addition, the rating score from the listing reviews is a potential variable of interest that can predict if a certain listing provided guests with a positive experience during their stay. AirBnB currently employs a \"Superhost\" program that rewards the hosts with the most experience and highest-rated reviews.A model aimed at classifying review rating scores could provide valuable insight into how AirBnB hosts could improve their hospitality standards and provide a better experience for their guests. It would could also help new hosts better market their listings and attain superhost status. We would use misclassification rate as our performance evaluation metric with the goal of maximizing the classficiation accuracy for this type of model. A minimal misclassifcation error rate would adequately captures the attributes influencing highly-rated reviews and be useful to further our understanding of what consumers look for when searching for an AirBnb listing to book.\n",
    "\n",
    "* **Recall vs. Precision?** I think we should prioritize recall for the context of this classification model."
   ]
  },
  {
   "cell_type": "code",
   "execution_count": 7,
   "metadata": {},
   "outputs": [
    {
     "data": {
      "text/html": [
       "<div>\n",
       "<style scoped>\n",
       "    .dataframe tbody tr th:only-of-type {\n",
       "        vertical-align: middle;\n",
       "    }\n",
       "\n",
       "    .dataframe tbody tr th {\n",
       "        vertical-align: top;\n",
       "    }\n",
       "\n",
       "    .dataframe thead th {\n",
       "        text-align: right;\n",
       "    }\n",
       "</style>\n",
       "<table border=\"1\" class=\"dataframe\">\n",
       "  <thead>\n",
       "    <tr style=\"text-align: right;\">\n",
       "      <th></th>\n",
       "      <th>id</th>\n",
       "      <th>log_price</th>\n",
       "      <th>property_type</th>\n",
       "      <th>room_type</th>\n",
       "      <th>amenities</th>\n",
       "      <th>accommodates</th>\n",
       "      <th>bathrooms</th>\n",
       "      <th>bed_type</th>\n",
       "      <th>cancellation_policy</th>\n",
       "      <th>cleaning_fee</th>\n",
       "      <th>city</th>\n",
       "      <th>description</th>\n",
       "      <th>first_review</th>\n",
       "      <th>host_has_profile_pic</th>\n",
       "      <th>host_identity_verified</th>\n",
       "      <th>host_response_rate</th>\n",
       "      <th>host_since</th>\n",
       "      <th>instant_bookable</th>\n",
       "      <th>last_review</th>\n",
       "      <th>latitude</th>\n",
       "      <th>longitude</th>\n",
       "      <th>name</th>\n",
       "      <th>neighbourhood</th>\n",
       "      <th>number_of_reviews</th>\n",
       "      <th>review_scores_rating</th>\n",
       "      <th>thumbnail_url</th>\n",
       "      <th>zipcode</th>\n",
       "      <th>bedrooms</th>\n",
       "      <th>beds</th>\n",
       "    </tr>\n",
       "  </thead>\n",
       "  <tbody>\n",
       "    <tr>\n",
       "      <th>0</th>\n",
       "      <td>6901257</td>\n",
       "      <td>5.010635</td>\n",
       "      <td>Apartment</td>\n",
       "      <td>Entire home/apt</td>\n",
       "      <td>{\"Wireless Internet\",\"Air conditioning\",Kitche...</td>\n",
       "      <td>3</td>\n",
       "      <td>1.0</td>\n",
       "      <td>Real Bed</td>\n",
       "      <td>strict</td>\n",
       "      <td>True</td>\n",
       "      <td>NYC</td>\n",
       "      <td>Beautiful, sunlit brownstone 1-bedroom in the ...</td>\n",
       "      <td>2016-06-18</td>\n",
       "      <td>t</td>\n",
       "      <td>t</td>\n",
       "      <td>NaN</td>\n",
       "      <td>2012-03-26</td>\n",
       "      <td>f</td>\n",
       "      <td>2016-07-18</td>\n",
       "      <td>40.696524</td>\n",
       "      <td>-73.991617</td>\n",
       "      <td>Beautiful brownstone 1-bedroom</td>\n",
       "      <td>Brooklyn Heights</td>\n",
       "      <td>2</td>\n",
       "      <td>100.0</td>\n",
       "      <td>https://a0.muscache.com/im/pictures/6d7cbbf7-c...</td>\n",
       "      <td>11201</td>\n",
       "      <td>1.0</td>\n",
       "      <td>1.0</td>\n",
       "    </tr>\n",
       "    <tr>\n",
       "      <th>1</th>\n",
       "      <td>6304928</td>\n",
       "      <td>5.129899</td>\n",
       "      <td>Apartment</td>\n",
       "      <td>Entire home/apt</td>\n",
       "      <td>{\"Wireless Internet\",\"Air conditioning\",Kitche...</td>\n",
       "      <td>7</td>\n",
       "      <td>1.0</td>\n",
       "      <td>Real Bed</td>\n",
       "      <td>strict</td>\n",
       "      <td>True</td>\n",
       "      <td>NYC</td>\n",
       "      <td>Enjoy travelling during your stay in Manhattan...</td>\n",
       "      <td>2017-08-05</td>\n",
       "      <td>t</td>\n",
       "      <td>f</td>\n",
       "      <td>100%</td>\n",
       "      <td>2017-06-19</td>\n",
       "      <td>t</td>\n",
       "      <td>2017-09-23</td>\n",
       "      <td>40.766115</td>\n",
       "      <td>-73.989040</td>\n",
       "      <td>Superb 3BR Apt Located Near Times Square</td>\n",
       "      <td>Hell's Kitchen</td>\n",
       "      <td>6</td>\n",
       "      <td>93.0</td>\n",
       "      <td>https://a0.muscache.com/im/pictures/348a55fe-4...</td>\n",
       "      <td>10019</td>\n",
       "      <td>3.0</td>\n",
       "      <td>3.0</td>\n",
       "    </tr>\n",
       "    <tr>\n",
       "      <th>2</th>\n",
       "      <td>7919400</td>\n",
       "      <td>4.976734</td>\n",
       "      <td>Apartment</td>\n",
       "      <td>Entire home/apt</td>\n",
       "      <td>{TV,\"Cable TV\",\"Wireless Internet\",\"Air condit...</td>\n",
       "      <td>5</td>\n",
       "      <td>1.0</td>\n",
       "      <td>Real Bed</td>\n",
       "      <td>moderate</td>\n",
       "      <td>True</td>\n",
       "      <td>NYC</td>\n",
       "      <td>The Oasis comes complete with a full backyard ...</td>\n",
       "      <td>2017-04-30</td>\n",
       "      <td>t</td>\n",
       "      <td>t</td>\n",
       "      <td>100%</td>\n",
       "      <td>2016-10-25</td>\n",
       "      <td>t</td>\n",
       "      <td>2017-09-14</td>\n",
       "      <td>40.808110</td>\n",
       "      <td>-73.943756</td>\n",
       "      <td>The Garden Oasis</td>\n",
       "      <td>Harlem</td>\n",
       "      <td>10</td>\n",
       "      <td>92.0</td>\n",
       "      <td>https://a0.muscache.com/im/pictures/6fae5362-9...</td>\n",
       "      <td>10027</td>\n",
       "      <td>1.0</td>\n",
       "      <td>3.0</td>\n",
       "    </tr>\n",
       "    <tr>\n",
       "      <th>3</th>\n",
       "      <td>13418779</td>\n",
       "      <td>6.620073</td>\n",
       "      <td>House</td>\n",
       "      <td>Entire home/apt</td>\n",
       "      <td>{TV,\"Cable TV\",Internet,\"Wireless Internet\",Ki...</td>\n",
       "      <td>4</td>\n",
       "      <td>1.0</td>\n",
       "      <td>Real Bed</td>\n",
       "      <td>flexible</td>\n",
       "      <td>True</td>\n",
       "      <td>SF</td>\n",
       "      <td>This light-filled home-away-from-home is super...</td>\n",
       "      <td>NaN</td>\n",
       "      <td>t</td>\n",
       "      <td>t</td>\n",
       "      <td>NaN</td>\n",
       "      <td>2015-04-19</td>\n",
       "      <td>f</td>\n",
       "      <td>NaN</td>\n",
       "      <td>37.772004</td>\n",
       "      <td>-122.431619</td>\n",
       "      <td>Beautiful Flat in the Heart of SF!</td>\n",
       "      <td>Lower Haight</td>\n",
       "      <td>0</td>\n",
       "      <td>NaN</td>\n",
       "      <td>https://a0.muscache.com/im/pictures/72208dad-9...</td>\n",
       "      <td>94117.0</td>\n",
       "      <td>2.0</td>\n",
       "      <td>2.0</td>\n",
       "    </tr>\n",
       "    <tr>\n",
       "      <th>4</th>\n",
       "      <td>3808709</td>\n",
       "      <td>4.744932</td>\n",
       "      <td>Apartment</td>\n",
       "      <td>Entire home/apt</td>\n",
       "      <td>{TV,Internet,\"Wireless Internet\",\"Air conditio...</td>\n",
       "      <td>2</td>\n",
       "      <td>1.0</td>\n",
       "      <td>Real Bed</td>\n",
       "      <td>moderate</td>\n",
       "      <td>True</td>\n",
       "      <td>DC</td>\n",
       "      <td>Cool, cozy, and comfortable studio located in ...</td>\n",
       "      <td>2015-05-12</td>\n",
       "      <td>t</td>\n",
       "      <td>t</td>\n",
       "      <td>100%</td>\n",
       "      <td>2015-03-01</td>\n",
       "      <td>t</td>\n",
       "      <td>2017-01-22</td>\n",
       "      <td>38.925627</td>\n",
       "      <td>-77.034596</td>\n",
       "      <td>Great studio in midtown DC</td>\n",
       "      <td>Columbia Heights</td>\n",
       "      <td>4</td>\n",
       "      <td>40.0</td>\n",
       "      <td>NaN</td>\n",
       "      <td>20009</td>\n",
       "      <td>0.0</td>\n",
       "      <td>1.0</td>\n",
       "    </tr>\n",
       "  </tbody>\n",
       "</table>\n",
       "</div>"
      ],
      "text/plain": [
       "         id  log_price property_type        room_type  \\\n",
       "0   6901257   5.010635     Apartment  Entire home/apt   \n",
       "1   6304928   5.129899     Apartment  Entire home/apt   \n",
       "2   7919400   4.976734     Apartment  Entire home/apt   \n",
       "3  13418779   6.620073         House  Entire home/apt   \n",
       "4   3808709   4.744932     Apartment  Entire home/apt   \n",
       "\n",
       "                                           amenities  accommodates  bathrooms  \\\n",
       "0  {\"Wireless Internet\",\"Air conditioning\",Kitche...             3        1.0   \n",
       "1  {\"Wireless Internet\",\"Air conditioning\",Kitche...             7        1.0   \n",
       "2  {TV,\"Cable TV\",\"Wireless Internet\",\"Air condit...             5        1.0   \n",
       "3  {TV,\"Cable TV\",Internet,\"Wireless Internet\",Ki...             4        1.0   \n",
       "4  {TV,Internet,\"Wireless Internet\",\"Air conditio...             2        1.0   \n",
       "\n",
       "   bed_type cancellation_policy  cleaning_fee city  \\\n",
       "0  Real Bed              strict          True  NYC   \n",
       "1  Real Bed              strict          True  NYC   \n",
       "2  Real Bed            moderate          True  NYC   \n",
       "3  Real Bed            flexible          True   SF   \n",
       "4  Real Bed            moderate          True   DC   \n",
       "\n",
       "                                         description first_review  \\\n",
       "0  Beautiful, sunlit brownstone 1-bedroom in the ...   2016-06-18   \n",
       "1  Enjoy travelling during your stay in Manhattan...   2017-08-05   \n",
       "2  The Oasis comes complete with a full backyard ...   2017-04-30   \n",
       "3  This light-filled home-away-from-home is super...          NaN   \n",
       "4  Cool, cozy, and comfortable studio located in ...   2015-05-12   \n",
       "\n",
       "  host_has_profile_pic host_identity_verified host_response_rate  host_since  \\\n",
       "0                    t                      t                NaN  2012-03-26   \n",
       "1                    t                      f               100%  2017-06-19   \n",
       "2                    t                      t               100%  2016-10-25   \n",
       "3                    t                      t                NaN  2015-04-19   \n",
       "4                    t                      t               100%  2015-03-01   \n",
       "\n",
       "  instant_bookable last_review   latitude   longitude  \\\n",
       "0                f  2016-07-18  40.696524  -73.991617   \n",
       "1                t  2017-09-23  40.766115  -73.989040   \n",
       "2                t  2017-09-14  40.808110  -73.943756   \n",
       "3                f         NaN  37.772004 -122.431619   \n",
       "4                t  2017-01-22  38.925627  -77.034596   \n",
       "\n",
       "                                       name     neighbourhood  \\\n",
       "0            Beautiful brownstone 1-bedroom  Brooklyn Heights   \n",
       "1  Superb 3BR Apt Located Near Times Square    Hell's Kitchen   \n",
       "2                          The Garden Oasis            Harlem   \n",
       "3        Beautiful Flat in the Heart of SF!      Lower Haight   \n",
       "4                Great studio in midtown DC  Columbia Heights   \n",
       "\n",
       "   number_of_reviews  review_scores_rating  \\\n",
       "0                  2                 100.0   \n",
       "1                  6                  93.0   \n",
       "2                 10                  92.0   \n",
       "3                  0                   NaN   \n",
       "4                  4                  40.0   \n",
       "\n",
       "                                       thumbnail_url  zipcode  bedrooms  beds  \n",
       "0  https://a0.muscache.com/im/pictures/6d7cbbf7-c...    11201       1.0   1.0  \n",
       "1  https://a0.muscache.com/im/pictures/348a55fe-4...    10019       3.0   3.0  \n",
       "2  https://a0.muscache.com/im/pictures/6fae5362-9...    10027       1.0   3.0  \n",
       "3  https://a0.muscache.com/im/pictures/72208dad-9...  94117.0       2.0   2.0  \n",
       "4                                                NaN    20009       0.0   1.0  "
      ]
     },
     "execution_count": 7,
     "metadata": {},
     "output_type": "execute_result"
    }
   ],
   "source": [
    "# Quick snapshot of Data\n",
    "pd.set_option('display.max_columns', None)\n",
    "pd.set_option('display.max_rows', None)\n",
    "df.head()"
   ]
  },
  {
   "cell_type": "code",
   "execution_count": 8,
   "metadata": {},
   "outputs": [
    {
     "data": {
      "text/plain": [
       "<matplotlib.axes._subplots.AxesSubplot at 0x114a19390>"
      ]
     },
     "execution_count": 8,
     "metadata": {},
     "output_type": "execute_result"
    },
    {
     "data": {
      "image/png": "[encoded data removed]",
      "text/plain": [
       "<Figure size 432x288 with 1 Axes>"
      ]
     },
     "metadata": {},
     "output_type": "display_data"
    }
   ],
   "source": [
    "#Creating a categorical variable to predict based on the rating percentage\n",
    "df['grade'] = pd.cut(df.review_scores_rating, [0,60,70,80,90,101], right=False, labels = ['F', 'D', 'C', 'B', 'A'])\n",
    "df[['grade', 'review_scores_rating']].head()\n",
    "\n",
    "#Visuals\n",
    "sns.countplot(df.grade)"
   ]
  },
  {
   "cell_type": "code",
   "execution_count": null,
   "metadata": {},
   "outputs": [],
   "source": [
    "df.groupby('grade').count()"
   ]
  },
  {
   "cell_type": "markdown",
   "metadata": {},
   "source": [
    "The data shows that the majority of these listings have been reviewed with a rating score of at least 80 on a scale of 100. Following the typical rating system employed by AirBnb, 75% of these listings were rated at least 4 out of 5 stars.\n",
    "* 64.6% rated at least 90 out of 100\n",
    "* 10.5% rated between 80-89 out of 100\n",
    "* 1.2% rated between 70-79 out of 100\n",
    "* 0.8% rated between 60-69 out of 100\n",
    "* 0.3% rated between 0-59 out of 100\n",
    "\n",
    "**Note: Not all listings in this dataset were given a rating score from reviews. This issue of missing data should be resolved before building a classification model for recommended listings.**"
   ]
  },
  {
   "cell_type": "code",
   "execution_count": 9,
   "metadata": {},
   "outputs": [],
   "source": [
    "df['price'] = np.exp(df['log_price'])"
   ]
  },
  {
   "cell_type": "markdown",
   "metadata": {},
   "source": [
    "The objective of the original Kaggle competition was to predict the target variable log(price). We have back-transformed this target variable to the original scale in terms of U.S. dollars ($) for easier interpretation of listing prices."
   ]
  },
  {
   "cell_type": "markdown",
   "metadata": {},
   "source": [
    "## Data Meaning Type"
   ]
  },
  {
   "cell_type": "code",
   "execution_count": null,
   "metadata": {},
   "outputs": [],
   "source": [
    "# Description of Dataset Variables (74111x29)\n",
    "df.info()"
   ]
  },
  {
   "cell_type": "markdown",
   "metadata": {},
   "source": [
    "This dataset originally contains 74,111 records and 29 columns. The addition of the 'grade' and 'price' variable brings the total number of columns to 31 variable."
   ]
  },
  {
   "cell_type": "code",
   "execution_count": null,
   "metadata": {},
   "outputs": [],
   "source": [
    "# Summary Table describing each variable with its measurement scale, data type, brief interpretation of the attribute,\n",
    "# and the percentage of missing data records\n",
    "\n",
    "fig = go.Figure(data=[go.Table(\n",
    "                    header = dict(values = [\"Attribute\",\"Measurement Scale\",\n",
    "                                            \"Data Type\",\"Description\",\"%datamissing\"],\n",
    "                                  fill_color = 'paleturquoise',\n",
    "                                  align = 'left'),\n",
    "                    cells = dict(values = [df.columns, # Attributes\n",
    "                        # Measurement Scale  \n",
    "                        [\"Nominal\",\"Interval\",\"Nominal\",\"Nominal\",\"Nominal\",\"Interval\",\"Interval\",\n",
    "                        \"Nominal\",\"Ordinal\",\"Nominal\",\"Nominal\",\"Nominal\",\"Ordinal\",\"Nominal\",\n",
    "                        \"Nominal\",\"Ratio\",\"Ordinal\",\"Nominal\",\"Ordinal\",\"Interval\",\"Interval\",\n",
    "                        \"Nominal\",\"Nominal\",\"Interval\",\"Ratio\",\"Nominal\",\"Nominal\",\"Interval\",\n",
    "                        \"Interval\",\"Ordinal\",\"Ratio\"],\n",
    "                        # Data Type                    \n",
    "                        [\"int64\",\"float64\",\"object\",\"object\",\"object\",\"int64\",\"float64\",\"object\",\"object\",\n",
    "                        \"bool\",\"object\",\"object\",\"datetime\",\"bool\",\"bool\",\"float64\",\"datetime\",\"bool\",\n",
    "                        \"datetime\",\"float64\",\"float64\",\"object\",\"object\",\"int64\",\"float64\",\"object\",\n",
    "                        \"object\",\"int64\",\"int64\",\"category\",\"float64\"],\n",
    "                        # Description\n",
    "                        [\"Unique Identifier for listing\",\"natural logarithm of the listing price\",\n",
    "                        \"The listing's property type (i.e. House, Apartment, Condominium, etc.)\",\n",
    "                        \"The type of room provided by the listing (i.e. Private Room, Entire home/apt, etc.)\",\n",
    "                        \"Amenities the listing provides (i.e. TV, WIFI, A/C, Parking, Kitchen, etc.)\",\n",
    "                        \"Number of guests the listing can accomodate\",\n",
    "                        \"Number of bathrooms the listing provides\", \n",
    "                        \"The type of beds the listing provides (i.e. Real Bed, Air Mattress, Futon, etc.)\",\n",
    "                        \"Level of cancellation policy regarding refunds for reservations at the listing (i.e. flexible, moderate, strict)\",\n",
    "                        \"Does the listing charge a cleaning fee? (i.e. True or False)\",\n",
    "                        \"The United States city where the listing is located\",\n",
    "                        \"A description of the listing provided by the host\",\n",
    "                        \"The date of the listing's first review (e.g. 2017-01-01)\",\n",
    "                        \"Does the listing's host provide a profile picture? (i.e. True or False)\",\n",
    "                        \"Has the listing's host verified their identification with AirBnb? (i.e. True or False)\",\n",
    "                        \"Host's response rate to all guest inquiries (i.e. 0-100%)\",\n",
    "                        \"Date when host first listed their property with Airbnb (e.g. 2017-01-01)\",\n",
    "                        \"Can the listing be instantly booked (i.e. True or False)\",\n",
    "                        \"Date of the listing's last review from an AirBnb guest\",\n",
    "                        \"Latitude Coordinates of the listing\",\n",
    "                        \"Longitude Coordinates of the listing\",\n",
    "                        \"The name identifying the listing in AirBnb property searches\",\n",
    "                        \"The neighborhood in the United States where the listing is located\",\n",
    "                        \"The number of reviews the listing has received from previous guests\",\n",
    "                        \"The AirBnB rating score compiled from all the listing's reviews\",\n",
    "                        \"The thumbnail url associated with the listing\",\n",
    "                        \"The United States zipcode where the listing is located in\",\n",
    "                        \"The number of bedrooms the listing provides\",\n",
    "                        \"The number of beds the listing provides\",\n",
    "                        \"The grade assigned to the listing based on its reviews rating score\",\n",
    "                        \"The listing's price in U.S. dollars ($)\"],\n",
    "                        # %datamissing\n",
    "                        [\"0%\",\"0%\",\"0%\",\"0%\",\"0%\",\"0%\",\"0.3%\",\"0%\",\"0%\",\"0%\",\"0%\",\"0%\",\"21%\",\n",
    "                        \"0.3%\",\"0.3%\",\"25%\",\"0.3%\",\"0%\",\"21%\",\"0%\",\"0%\",\"0%\",\"9%\",\"0%\",\"23%\",\n",
    "                        \"11%\",\"1.3%\",\"0.1%\",\"0.2%\",\"23%\",\"0%\"]],\n",
    "                                 fill_color = 'lavender',\n",
    "                                 align = 'left')\n",
    ")])\n",
    "fig.show()"
   ]
  },
  {
   "cell_type": "markdown",
   "metadata": {},
   "source": [
    "AirBnb defines their Superhost program as system that rewards Airbnb hosts with the highest-rated reviews and most experience. It offers Superhosts enchanced opportunities to earn extra money, attract more guests, and access to exclusive rewards as incentive to continue providing exceptional hospitality to guests.\n",
    "\n",
    "The requirements for Superhost eligibility are: a **4.8+ overall rating, 10+ stays, <1% cancellation rate, and 90% response rate**. This criteria establishes our baseline understanding for how these listings and hosts should be recommended to future AirBnb guests.\n",
    "\n",
    "Given the unbalanced levels of the review rating scores as seen in the grade variable visualization, we will consider extracting a new binary response variable from the data with 96/100 as a potential cutoff threshold (4.8/5 overall stars). This value may be changed to optimize the classification model once we actually begin the training steps."
   ]
  },
  {
   "cell_type": "markdown",
   "metadata": {},
   "source": [
    "## Data Quality"
   ]
  },
  {
   "cell_type": "markdown",
   "metadata": {},
   "source": [
    "We have decided to remove all instances with missing values for review_scores_rating (the variable we will be deriving our categorial response variable from) to avoid any complications introducted into a classification model by imputing values into the target response variable. This results in 57,389 listings remaining, and we believe a dataset of this size provides sufficient information to train a high-performing model."
   ]
  },
  {
   "cell_type": "code",
   "execution_count": 10,
   "metadata": {},
   "outputs": [],
   "source": [
    "df_ratings = df.dropna(subset=['review_scores_rating'])"
   ]
  },
  {
   "cell_type": "markdown",
   "metadata": {},
   "source": [
    "**Variables with Float Data Types**\n",
    "* log_price, latitude, longitude, review_scores_rating, price\n",
    "\n",
    "**Variables with Integer Data Types**\n",
    "* id, accomodates, bathrooms, number_of_reviews, bedrooms, beds\n",
    "\n",
    "**Categortical Variables (Multiple levels/factors)**\n",
    "* property_type, room_type, bed_type, cancellation_policy, city, neighbourhood, zipcode, grade\n",
    "\n",
    "**Variables with Boolean Data Types**\n",
    "* cleaning_fee, host_has_profile_pic, host_identity_verified\n",
    "\n",
    "**Variables with Date-Time Data Types**\n",
    "* first_review, host_since, last_review\n",
    "\n",
    "**Variables with String Data Types**\n",
    "* amenities (list of strings), description, name, thumbnail_url\n"
   ]
  },
  {
   "cell_type": "code",
   "execution_count": 11,
   "metadata": {},
   "outputs": [
    {
     "name": "stderr",
     "output_type": "stream",
     "text": [
      "/anaconda3/lib/python3.6/site-packages/pandas/core/frame.py:3137: SettingWithCopyWarning: \n",
      "A value is trying to be set on a copy of a slice from a DataFrame.\n",
      "Try using .loc[row_indexer,col_indexer] = value instead\n",
      "\n",
      "See the caveats in the documentation: http://pandas.pydata.org/pandas-docs/stable/indexing.html#indexing-view-versus-copy\n",
      "  self[k1] = value[k2]\n",
      "/anaconda3/lib/python3.6/site-packages/ipykernel_launcher.py:7: SettingWithCopyWarning: \n",
      "A value is trying to be set on a copy of a slice from a DataFrame.\n",
      "Try using .loc[row_indexer,col_indexer] = value instead\n",
      "\n",
      "See the caveats in the documentation: http://pandas.pydata.org/pandas-docs/stable/indexing.html#indexing-view-versus-copy\n",
      "  import sys\n"
     ]
    }
   ],
   "source": [
    "# Data Type Manipulation\n",
    "# Float Data Types\n",
    "## Bathrooms is Interval Measurement Scale but Float Data Type to account for 1/2 bathrooms\n",
    "floats = ['log_price','bathrooms','latitude','longitude','review_scores_rating']\n",
    "df_ratings[floats] = df_ratings[floats].astype(np.float64)\n",
    "# Drop % in host_response_rate values and transform to float value (100% = 1.0)\n",
    "df_ratings[\"host_response_rate\"] = df_ratings[\"host_response_rate\"].str.rstrip('%').astype(np.float64)/100\n",
    "\n",
    "# Int Data Types\n",
    "## We are unable to transform the bedrooms and beds variables to an integer data type due to missing values\n",
    "ints = ['id','accommodates','number_of_reviews','bedrooms','beds']\n",
    "# df_ratings[ints][df_ratings[ints].notna()] = df_ratings[ints][df_ratings[ints].notna()].astype(np.int64)\n",
    "\n",
    "# Datetime Types\n",
    "date_time = ['first_review','host_since','last_review']\n",
    "df_ratings[date_time] = df_ratings[date_time].apply(pd.to_datetime)\n",
    "\n",
    "# Bool Types\n",
    "booleans = ['host_has_profile_pic','host_identity_verified','instant_bookable']\n",
    "df_ratings[booleans] = df_ratings[booleans].replace({'t':True,'f':False})\n",
    "df_ratings[booleans] = df_ratings[booleans].astype(np.bool)\n",
    "\n",
    "# Categorical Features\n",
    "categorical = ['property_type','room_type','bed_type','cancellation_policy','city','neighbourhood','zipcode']\n",
    "df_ratings[categorical] = df_ratings[categorical].astype('category')\n"
   ]
  },
  {
   "cell_type": "code",
   "execution_count": 29,
   "metadata": {},
   "outputs": [
    {
     "name": "stdout",
     "output_type": "stream",
     "text": [
      "<class 'pandas.core.frame.DataFrame'>\n",
      "Int64Index: 57389 entries, 0 to 74110\n",
      "Data columns (total 31 columns):\n",
      "id                        57389 non-null int64\n",
      "log_price                 57389 non-null float64\n",
      "property_type             57389 non-null category\n",
      "room_type                 57389 non-null category\n",
      "amenities                 57389 non-null object\n",
      "accommodates              57389 non-null int64\n",
      "bathrooms                 57230 non-null float64\n",
      "bed_type                  57389 non-null category\n",
      "cancellation_policy       57389 non-null category\n",
      "cleaning_fee              57389 non-null bool\n",
      "city                      57389 non-null category\n",
      "description               57389 non-null object\n",
      "first_review              57388 non-null datetime64[ns]\n",
      "host_has_profile_pic      57389 non-null bool\n",
      "host_identity_verified    57389 non-null bool\n",
      "host_response_rate        48003 non-null float64\n",
      "host_since                57248 non-null datetime64[ns]\n",
      "instant_bookable          57389 non-null bool\n",
      "last_review               57388 non-null datetime64[ns]\n",
      "latitude                  57389 non-null float64\n",
      "longitude                 57389 non-null float64\n",
      "name                      57389 non-null object\n",
      "neighbourhood             52343 non-null category\n",
      "number_of_reviews         57389 non-null int64\n",
      "review_scores_rating      57389 non-null float64\n",
      "thumbnail_url             51592 non-null object\n",
      "zipcode                   56712 non-null category\n",
      "bedrooms                  57319 non-null float64\n",
      "beds                      57327 non-null float64\n",
      "grade                     57389 non-null category\n",
      "price                     57389 non-null float64\n",
      "dtypes: bool(4), category(8), datetime64[ns](3), float64(9), int64(3), object(4)\n",
      "memory usage: 9.6+ MB\n"
     ]
    }
   ],
   "source": [
    "df_ratings.drop_duplicates().info()"
   ]
  },
  {
   "cell_type": "markdown",
   "metadata": {},
   "source": [
    "There were no duplicate records found after dropping all records with missing values for review_scores_rating.\n",
    "\n",
    "Missing values for the neighbourhood, zipcode, and thumbnail_url attributes may have been the result of data scraping or collection errors. Since the city, latitude, and longitude variables do not contain missing values, we decided against imputing values for the neighbourhood and zipcode attributes to avoid introducing unnecessary complications into our model. We believe that the city, latitude, and longitude variables provide sufficient information pertaining to the location of the listing. As a result, we will potentially exclude the the neighbourhood and zipcode attributes when training our model. Furthemore, the thumbnail_url attribute does not provide much value in predicting either of our potential target response variables. We will not impute values for the missing data and will also exclude this attribute when training our model."
   ]
  },
  {
   "cell_type": "code",
   "execution_count": 12,
   "metadata": {
    "scrolled": false
   },
   "outputs": [
    {
     "data": {
      "text/html": [
       "<div>\n",
       "<style scoped>\n",
       "    .dataframe tbody tr th:only-of-type {\n",
       "        vertical-align: middle;\n",
       "    }\n",
       "\n",
       "    .dataframe tbody tr th {\n",
       "        vertical-align: top;\n",
       "    }\n",
       "\n",
       "    .dataframe thead th {\n",
       "        text-align: right;\n",
       "    }\n",
       "</style>\n",
       "<table border=\"1\" class=\"dataframe\">\n",
       "  <thead>\n",
       "    <tr style=\"text-align: right;\">\n",
       "      <th></th>\n",
       "      <th>id</th>\n",
       "      <th>log_price</th>\n",
       "      <th>property_type</th>\n",
       "      <th>room_type</th>\n",
       "      <th>amenities</th>\n",
       "      <th>accommodates</th>\n",
       "      <th>bathrooms</th>\n",
       "      <th>bed_type</th>\n",
       "      <th>cancellation_policy</th>\n",
       "      <th>cleaning_fee</th>\n",
       "      <th>city</th>\n",
       "      <th>description</th>\n",
       "      <th>first_review</th>\n",
       "      <th>host_has_profile_pic</th>\n",
       "      <th>host_identity_verified</th>\n",
       "      <th>host_response_rate</th>\n",
       "      <th>host_since</th>\n",
       "      <th>instant_bookable</th>\n",
       "      <th>last_review</th>\n",
       "      <th>latitude</th>\n",
       "      <th>longitude</th>\n",
       "      <th>name</th>\n",
       "      <th>neighbourhood</th>\n",
       "      <th>number_of_reviews</th>\n",
       "      <th>review_scores_rating</th>\n",
       "      <th>thumbnail_url</th>\n",
       "      <th>zipcode</th>\n",
       "      <th>bedrooms</th>\n",
       "      <th>beds</th>\n",
       "      <th>grade</th>\n",
       "      <th>price</th>\n",
       "    </tr>\n",
       "  </thead>\n",
       "  <tbody>\n",
       "    <tr>\n",
       "      <th>33984</th>\n",
       "      <td>7765579</td>\n",
       "      <td>4.59512</td>\n",
       "      <td>House</td>\n",
       "      <td>Private room</td>\n",
       "      <td>{TV,\"Wireless Internet\",Kitchen,\"Free parking ...</td>\n",
       "      <td>2</td>\n",
       "      <td>1.0</td>\n",
       "      <td>Real Bed</td>\n",
       "      <td>strict</td>\n",
       "      <td>True</td>\n",
       "      <td>NYC</td>\n",
       "      <td>Our super comfortable, clean and cool room, wi...</td>\n",
       "      <td>NaT</td>\n",
       "      <td>True</td>\n",
       "      <td>True</td>\n",
       "      <td>1.0</td>\n",
       "      <td>2013-09-29</td>\n",
       "      <td>False</td>\n",
       "      <td>NaT</td>\n",
       "      <td>40.663137</td>\n",
       "      <td>-73.932994</td>\n",
       "      <td>The Heights Rentals III</td>\n",
       "      <td>East Flatbush</td>\n",
       "      <td>1</td>\n",
       "      <td>20.0</td>\n",
       "      <td>https://a0.muscache.com/im/pictures/632b80ab-d...</td>\n",
       "      <td>11203.0</td>\n",
       "      <td>1.0</td>\n",
       "      <td>1.0</td>\n",
       "      <td>F</td>\n",
       "      <td>99.0</td>\n",
       "    </tr>\n",
       "  </tbody>\n",
       "</table>\n",
       "</div>"
      ],
      "text/plain": [
       "            id  log_price property_type     room_type  \\\n",
       "33984  7765579    4.59512         House  Private room   \n",
       "\n",
       "                                               amenities  accommodates  \\\n",
       "33984  {TV,\"Wireless Internet\",Kitchen,\"Free parking ...             2   \n",
       "\n",
       "       bathrooms  bed_type cancellation_policy  cleaning_fee city  \\\n",
       "33984        1.0  Real Bed              strict          True  NYC   \n",
       "\n",
       "                                             description first_review  \\\n",
       "33984  Our super comfortable, clean and cool room, wi...          NaT   \n",
       "\n",
       "       host_has_profile_pic  host_identity_verified  host_response_rate  \\\n",
       "33984                  True                    True                 1.0   \n",
       "\n",
       "      host_since  instant_bookable last_review   latitude  longitude  \\\n",
       "33984 2013-09-29             False         NaT  40.663137 -73.932994   \n",
       "\n",
       "                          name  neighbourhood  number_of_reviews  \\\n",
       "33984  The Heights Rentals III  East Flatbush                  1   \n",
       "\n",
       "       review_scores_rating  \\\n",
       "33984                  20.0   \n",
       "\n",
       "                                           thumbnail_url  zipcode  bedrooms  \\\n",
       "33984  https://a0.muscache.com/im/pictures/632b80ab-d...  11203.0       1.0   \n",
       "\n",
       "       beds grade  price  \n",
       "33984   1.0     F   99.0  "
      ]
     },
     "execution_count": 12,
     "metadata": {},
     "output_type": "execute_result"
    }
   ],
   "source": [
    "# Record with missing value for first_review and last_review\n",
    "df_ratings[df_ratings.first_review.isna()]"
   ]
  },
  {
   "cell_type": "markdown",
   "metadata": {},
   "source": [
    "The record with the missing value for first_review and last_review is the same (id#33984 - Name: \"The Heights Rentals III\"). A closer look at this data record shows that it only has one review with a review_scores_rating of 20. Given that this dataset has been most recently updated in 2018 and the host originally listed the property on 2013-09-29, we have reason to believe that this AirBnb listing is no longer active and that those data values were inaccesible. We will consider dropping this record from the dataset when training our models."
   ]
  },
  {
   "cell_type": "code",
   "execution_count": 113,
   "metadata": {},
   "outputs": [
    {
     "name": "stderr",
     "output_type": "stream",
     "text": [
      "C:\\Users\\k\\Anaconda3\\envs\\DS7331_MachineLearningI\\lib\\site-packages\\ipykernel_launcher.py:2: SettingWithCopyWarning:\n",
      "\n",
      "\n",
      "A value is trying to be set on a copy of a slice from a DataFrame\n",
      "\n",
      "See the caveats in the documentation: http://pandas.pydata.org/pandas-docs/stable/user_guide/indexing.html#returning-a-view-versus-a-copy\n",
      "\n"
     ]
    }
   ],
   "source": [
    "# Impute Missing Values of host_since variable with first_review data value from same record\n",
    "df_ratings.host_since[df_ratings.host_since.isna()] = df_ratings.first_review[df_ratings.host_since.isna()]"
   ]
  },
  {
   "cell_type": "markdown",
   "metadata": {},
   "source": [
    "We believe that the listings with missing values for the host_since variable may be the result of a host that has multiple AirBnB listings where the data value for this particular attribute is only associated with the first listing they originally began hosting through AirBnb. We found that a suitable strategy to address these missing values would be to impute them with the value from the first_review variable for that corresponding listing. The best estimate to minimize the loss of information from missing values of the host_since variable would be the date of the first review because these two attributes should be intuitively close in time. An imputation based on statistical averages such as mean, median, or mode would be arbitrary and may even conflict with the information provided from the first_review data value. For example, it would not make sense to impute a date for the host_since variable for a certain listing that is more recent in time than its first_review date value."
   ]
  },
  {
   "cell_type": "markdown",
   "metadata": {},
   "source": [
    "The missing values for the bathrooms, bedrooms, and beds attributes may have been a result of host input error. We believe that the hosts for these respective listings forgot to include this data when posting their property as an AirBnb listing. Thus, resulting in the omission of this information in the dataset for these certain listings. Based on our reasoning, we believed that the best imputation method for these missing values should be based on the property type and the number of guests the listing can accomodate. These variables generally provide a great determination of how many bathrooms, bedrooms, and beds are avaiable with the AirBnb listing. We decided to impute these missing values with the median because the mean value would not be a whole number and would thus not make sense in the context of bedrooms or beds."
   ]
  },
  {
   "cell_type": "code",
   "execution_count": 11,
   "metadata": {},
   "outputs": [],
   "source": [
    "# Code to determine missing values and imputation value for bathrooms by property type and accommodation number\n",
    "## df_ratings[df_ratings.bathrooms.isna()].groupby([\"property_type\",\"accommodates\"])[\"property_type\"].count()\n",
    "## df_ratings.groupby([\"property_type\",\"accommodates\"])['bathrooms'].describe()\n",
    "\n",
    "# Code to determine missing values and imputation value for bedrooms by property type and accommodation number\n",
    "## df_ratings[df_ratings.bedrooms.isna()].groupby([\"property_type\",\"accommodates\"])[\"property_type\"].count()\n",
    "## df_ratings.groupby([\"property_type\",\"accommodates\"])['bedrooms'].median()\n",
    "\n",
    "# Code to determine missing values and imputation value for beds by property type and accommodation number\n",
    "## df_ratings[df_ratings.beds.isna()].groupby([\"property_type\",\"accommodates\"])[\"property_type\"].count()\n",
    "## df_ratings.groupby([\"property_type\",\"accommodates\"])['beds'].median()"
   ]
  },
  {
   "cell_type": "code",
   "execution_count": 14,
   "metadata": {},
   "outputs": [
    {
     "name": "stderr",
     "output_type": "stream",
     "text": [
      "/anaconda3/lib/python3.6/site-packages/ipykernel_launcher.py:3: SettingWithCopyWarning: \n",
      "A value is trying to be set on a copy of a slice from a DataFrame.\n",
      "Try using .loc[row_indexer,col_indexer] = value instead\n",
      "\n",
      "See the caveats in the documentation: http://pandas.pydata.org/pandas-docs/stable/indexing.html#indexing-view-versus-copy\n",
      "  This is separate from the ipykernel package so we can avoid doing imports until\n"
     ]
    }
   ],
   "source": [
    "# Impute Missing Values of Bathroom Variable\n",
    "df_imputed = df_ratings\n",
    "df_imputed[\"bathrooms\"] = df_imputed[\"bathrooms\"].fillna(df_imputed.groupby([\"property_type\",\"accommodates\"])[\"bathrooms\"].apply(lambda x : x.fillna(x.median())))"
   ]
  },
  {
   "cell_type": "markdown",
   "metadata": {},
   "source": [
    "**Impute Missing Values for Bathrooms with median values based on Property Type & Accomodates**\n",
    "* 159 missing values for bathrooms\n",
    "    * Impute Apartments accommodating (1-5) w/ 1 bathroom (100 values)\n",
    "    * Impute Bed & Breakfast accommodating (1-2) w/ 1 bathroom (3 values)\n",
    "    * Impute Camper/RV accomodating 2 w/ 1 bathroom (1 value)\n",
    "    * Impute Dorm accomodating (1-2) w/ 1 bathroom (8 values)\n",
    "    * Impute House accomodating (1-4) w/ 1 bathroom (39 values)\n",
    "    * Impute House accomodating 6 w/ 2 bathrooms (1 value)\n",
    "    * Impute House accomodating 8 w/ 2.5 bathrooms (1 value)\n",
    "    * Impute House accomodating 16 w/ 3 bathrooms (1 value)\n",
    "    * Impute Loft accomodating 2 w/ 1 bathroom (1 value)\n",
    "    * Impute Other accomodating (2-4) w/ 1 bathroom (4 values) "
   ]
  },
  {
   "cell_type": "code",
   "execution_count": 16,
   "metadata": {},
   "outputs": [
    {
     "name": "stderr",
     "output_type": "stream",
     "text": [
      "/anaconda3/lib/python3.6/site-packages/ipykernel_launcher.py:2: SettingWithCopyWarning: \n",
      "A value is trying to be set on a copy of a slice from a DataFrame.\n",
      "Try using .loc[row_indexer,col_indexer] = value instead\n",
      "\n",
      "See the caveats in the documentation: http://pandas.pydata.org/pandas-docs/stable/indexing.html#indexing-view-versus-copy\n",
      "  \n"
     ]
    }
   ],
   "source": [
    "# Impute Missing Values of Bedrooms Variable\n",
    "df_imputed[\"bedrooms\"] = df_imputed[\"bedrooms\"].fillna(df_imputed.groupby([\"property_type\",\"accommodates\"])[\"bedrooms\"].apply(lambda x : x.fillna(x.median())))"
   ]
  },
  {
   "cell_type": "markdown",
   "metadata": {},
   "source": [
    "**Impute Missing Values for Bedrooms with median values based on Property Type & Accomodates**\n",
    "* 70 missing values for bedrooms\n",
    "    * Impute Apartments accomodating (1-4) w/ 1 bedroom (57 values)\n",
    "    * Impute Bungalow accomodating 3 w/ 1 bedroom (1 value)\n",
    "    * Impute House accomodating 2 w/ 1 bedroom (7 values)\n",
    "    * Impute House accomodating 6 w/ 3 bedroom (1 value)\n",
    "    * Impute Loft accomodating 4 w/ 1 bedroom (3 values)\n",
    "    * Impute Other accomodating 1 w/ 1 bedroom (1 value)"
   ]
  },
  {
   "cell_type": "code",
   "execution_count": 17,
   "metadata": {},
   "outputs": [
    {
     "name": "stderr",
     "output_type": "stream",
     "text": [
      "/anaconda3/lib/python3.6/site-packages/ipykernel_launcher.py:2: SettingWithCopyWarning: \n",
      "A value is trying to be set on a copy of a slice from a DataFrame.\n",
      "Try using .loc[row_indexer,col_indexer] = value instead\n",
      "\n",
      "See the caveats in the documentation: http://pandas.pydata.org/pandas-docs/stable/indexing.html#indexing-view-versus-copy\n",
      "  \n"
     ]
    }
   ],
   "source": [
    "# Impute Missing Values of Beds Variable\n",
    "df_imputed[\"beds\"] = df_imputed[\"beds\"].fillna(df_imputed.groupby([\"property_type\",\"accommodates\"])[\"beds\"].apply(lambda x : x.fillna(x.median())))"
   ]
  },
  {
   "cell_type": "markdown",
   "metadata": {},
   "source": [
    "**Impute Missing Values for Beds with median values based on Property Type & Accomodates**\n",
    "* 62 missing values for beds\n",
    "    * Impute Apartments accomodating (1-3) w/ 1 bed (38 values)\n",
    "    * Impute Apartments accomoodating 4 w/ 2 beds (1 value)\n",
    "    * Impute Condominium accomodating 2 w/ 1 bed (1 value)\n",
    "    * Impute Dorm accomodating 1 w/ 1 bed (1 value)\n",
    "    * Impute Guesthouse accomodating 1 w/ 1 bed (1 value)\n",
    "    * Impute House accomodating (1-2) w/ 1 bed (14 values)\n",
    "    * Impute House accomodating 3 w/ 2 beds (1 values)\n",
    "    * Impute House accomodating 5 w/ 3 beds (1 value)\n",
    "    * Impute House accomodating 16 w/ 8 beds (1 value)\n",
    "    * Impute Other accomodating (1-2) w/ 1 bed (2 values)\n",
    "    * Impute Townhouse accomodating 2 w/ 1 bed (1 value)"
   ]
  },
  {
   "cell_type": "code",
   "execution_count": 18,
   "metadata": {},
   "outputs": [
    {
     "name": "stderr",
     "output_type": "stream",
     "text": [
      "/anaconda3/lib/python3.6/site-packages/ipykernel_launcher.py:2: SettingWithCopyWarning: \n",
      "A value is trying to be set on a copy of a slice from a DataFrame.\n",
      "Try using .loc[row_indexer,col_indexer] = value instead\n",
      "\n",
      "See the caveats in the documentation: http://pandas.pydata.org/pandas-docs/stable/indexing.html#indexing-view-versus-copy\n",
      "  \n"
     ]
    }
   ],
   "source": [
    "# Impute Missing Values of host_response_rate Variable\n",
    "df_imputed[\"host_response_rate\"] = df_imputed[\"host_response_rate\"].fillna(df_imputed.groupby([\"number_of_reviews\"])[\"host_response_rate\"].apply(lambda x : x.fillna(x.mean())))"
   ]
  },
  {
   "cell_type": "markdown",
   "metadata": {},
   "source": [
    "We found that most of the missing values for the host_response_rate variable came from listings that only had a few reviews. This suggests that these first few guests may have not interacted with the host much so there is not enough information to provide data regarding the host_response_rate for these listings. We decided to impute these missing values with the mean based on the number of reviews and avoid using the review_rating_score data since it is a potential target variable we could predict."
   ]
  },
  {
   "cell_type": "code",
   "execution_count": 19,
   "metadata": {},
   "outputs": [
    {
     "name": "stderr",
     "output_type": "stream",
     "text": [
      "/anaconda3/lib/python3.6/site-packages/pandas/core/frame.py:3137: SettingWithCopyWarning: \n",
      "A value is trying to be set on a copy of a slice from a DataFrame.\n",
      "Try using .loc[row_indexer,col_indexer] = value instead\n",
      "\n",
      "See the caveats in the documentation: http://pandas.pydata.org/pandas-docs/stable/indexing.html#indexing-view-versus-copy\n",
      "  self[k1] = value[k2]\n"
     ]
    },
    {
     "name": "stdout",
     "output_type": "stream",
     "text": [
      "<class 'pandas.core.frame.DataFrame'>\n",
      "Int64Index: 57389 entries, 0 to 74110\n",
      "Data columns (total 31 columns):\n",
      "id                        57389 non-null int64\n",
      "log_price                 57389 non-null float64\n",
      "property_type             57389 non-null category\n",
      "room_type                 57389 non-null category\n",
      "amenities                 57389 non-null object\n",
      "accommodates              57389 non-null int64\n",
      "bathrooms                 57389 non-null float64\n",
      "bed_type                  57389 non-null category\n",
      "cancellation_policy       57389 non-null category\n",
      "cleaning_fee              57389 non-null bool\n",
      "city                      57389 non-null category\n",
      "description               57389 non-null object\n",
      "first_review              57388 non-null datetime64[ns]\n",
      "host_has_profile_pic      57389 non-null bool\n",
      "host_identity_verified    57389 non-null bool\n",
      "host_response_rate        57388 non-null float64\n",
      "host_since                57248 non-null datetime64[ns]\n",
      "instant_bookable          57389 non-null bool\n",
      "last_review               57388 non-null datetime64[ns]\n",
      "latitude                  57389 non-null float64\n",
      "longitude                 57389 non-null float64\n",
      "name                      57389 non-null object\n",
      "neighbourhood             52343 non-null category\n",
      "number_of_reviews         57389 non-null int64\n",
      "review_scores_rating      57389 non-null float64\n",
      "thumbnail_url             51592 non-null object\n",
      "zipcode                   56712 non-null category\n",
      "bedrooms                  57389 non-null int64\n",
      "beds                      57389 non-null int64\n",
      "grade                     57389 non-null category\n",
      "price                     57389 non-null float64\n",
      "dtypes: bool(4), category(8), datetime64[ns](3), float64(7), int64(5), object(4)\n",
      "memory usage: 9.6+ MB\n"
     ]
    }
   ],
   "source": [
    "# We can now change bedrooms and beds data type to integers now that we have addressed the missing values\n",
    "df_imputed[ints] = df_imputed[ints].astype(np.int64)\n",
    "df_imputed.info()"
   ]
  },
  {
   "cell_type": "code",
   "execution_count": 20,
   "metadata": {},
   "outputs": [
    {
     "data": {
      "text/html": [
       "<div>\n",
       "<style scoped>\n",
       "    .dataframe tbody tr th:only-of-type {\n",
       "        vertical-align: middle;\n",
       "    }\n",
       "\n",
       "    .dataframe tbody tr th {\n",
       "        vertical-align: top;\n",
       "    }\n",
       "\n",
       "    .dataframe thead th {\n",
       "        text-align: right;\n",
       "    }\n",
       "</style>\n",
       "<table border=\"1\" class=\"dataframe\">\n",
       "  <thead>\n",
       "    <tr style=\"text-align: right;\">\n",
       "      <th></th>\n",
       "      <th>id</th>\n",
       "      <th>log_price</th>\n",
       "      <th>property_type</th>\n",
       "      <th>room_type</th>\n",
       "      <th>amenities</th>\n",
       "      <th>accommodates</th>\n",
       "      <th>bathrooms</th>\n",
       "      <th>bed_type</th>\n",
       "      <th>cancellation_policy</th>\n",
       "      <th>cleaning_fee</th>\n",
       "      <th>city</th>\n",
       "      <th>description</th>\n",
       "      <th>first_review</th>\n",
       "      <th>host_has_profile_pic</th>\n",
       "      <th>host_identity_verified</th>\n",
       "      <th>host_response_rate</th>\n",
       "      <th>host_since</th>\n",
       "      <th>instant_bookable</th>\n",
       "      <th>last_review</th>\n",
       "      <th>latitude</th>\n",
       "      <th>longitude</th>\n",
       "      <th>name</th>\n",
       "      <th>neighbourhood</th>\n",
       "      <th>number_of_reviews</th>\n",
       "      <th>review_scores_rating</th>\n",
       "      <th>thumbnail_url</th>\n",
       "      <th>zipcode</th>\n",
       "      <th>bedrooms</th>\n",
       "      <th>beds</th>\n",
       "      <th>grade</th>\n",
       "      <th>price</th>\n",
       "    </tr>\n",
       "  </thead>\n",
       "  <tbody>\n",
       "    <tr>\n",
       "      <th>48194</th>\n",
       "      <td>19947126</td>\n",
       "      <td>4.094345</td>\n",
       "      <td>Apartment</td>\n",
       "      <td>Private room</td>\n",
       "      <td>{TV,\"Cable TV\",Internet,\"Wireless Internet\",\"A...</td>\n",
       "      <td>2</td>\n",
       "      <td>1.0</td>\n",
       "      <td>Real Bed</td>\n",
       "      <td>flexible</td>\n",
       "      <td>False</td>\n",
       "      <td>Boston</td>\n",
       "      <td>Comfy queen-size bed, free breakfast, clean sh...</td>\n",
       "      <td>2013-06-08</td>\n",
       "      <td>True</td>\n",
       "      <td>True</td>\n",
       "      <td>NaN</td>\n",
       "      <td>2011-12-07</td>\n",
       "      <td>True</td>\n",
       "      <td>2017-06-20</td>\n",
       "      <td>42.294442</td>\n",
       "      <td>-71.119945</td>\n",
       "      <td>Boston Room/Free Transit/ By Subway</td>\n",
       "      <td>Jamaica Plain</td>\n",
       "      <td>344</td>\n",
       "      <td>96.0</td>\n",
       "      <td>https://a0.muscache.com/im/pictures/31278262/b...</td>\n",
       "      <td>02131</td>\n",
       "      <td>1</td>\n",
       "      <td>1</td>\n",
       "      <td>A</td>\n",
       "      <td>60.0</td>\n",
       "    </tr>\n",
       "  </tbody>\n",
       "</table>\n",
       "</div>"
      ],
      "text/plain": [
       "             id  log_price property_type     room_type  \\\n",
       "48194  19947126   4.094345     Apartment  Private room   \n",
       "\n",
       "                                               amenities  accommodates  \\\n",
       "48194  {TV,\"Cable TV\",Internet,\"Wireless Internet\",\"A...             2   \n",
       "\n",
       "       bathrooms  bed_type cancellation_policy  cleaning_fee    city  \\\n",
       "48194        1.0  Real Bed            flexible         False  Boston   \n",
       "\n",
       "                                             description first_review  \\\n",
       "48194  Comfy queen-size bed, free breakfast, clean sh...   2013-06-08   \n",
       "\n",
       "       host_has_profile_pic  host_identity_verified  host_response_rate  \\\n",
       "48194                  True                    True                 NaN   \n",
       "\n",
       "      host_since  instant_bookable last_review   latitude  longitude  \\\n",
       "48194 2011-12-07              True  2017-06-20  42.294442 -71.119945   \n",
       "\n",
       "                                      name  neighbourhood  number_of_reviews  \\\n",
       "48194  Boston Room/Free Transit/ By Subway  Jamaica Plain                344   \n",
       "\n",
       "       review_scores_rating  \\\n",
       "48194                  96.0   \n",
       "\n",
       "                                           thumbnail_url zipcode  bedrooms  \\\n",
       "48194  https://a0.muscache.com/im/pictures/31278262/b...   02131         1   \n",
       "\n",
       "       beds grade  price  \n",
       "48194     1     A   60.0  "
      ]
     },
     "execution_count": 20,
     "metadata": {},
     "output_type": "execute_result"
    }
   ],
   "source": [
    "# Records with missing value for host_response_rate\n",
    "df_ratings[df_ratings.host_response_rate.isna()]"
   ]
  },
  {
   "cell_type": "markdown",
   "metadata": {},
   "source": [
    "## Simple Statistics"
   ]
  },
  {
   "cell_type": "code",
   "execution_count": 118,
   "metadata": {},
   "outputs": [
    {
     "data": {
      "text/html": [
       "<div>\n",
       "<style scoped>\n",
       "    .dataframe tbody tr th:only-of-type {\n",
       "        vertical-align: middle;\n",
       "    }\n",
       "\n",
       "    .dataframe tbody tr th {\n",
       "        vertical-align: top;\n",
       "    }\n",
       "\n",
       "    .dataframe thead th {\n",
       "        text-align: right;\n",
       "    }\n",
       "</style>\n",
       "<table border=\"1\" class=\"dataframe\">\n",
       "  <thead>\n",
       "    <tr style=\"text-align: right;\">\n",
       "      <th></th>\n",
       "      <th>id</th>\n",
       "      <th>log_price</th>\n",
       "      <th>accommodates</th>\n",
       "      <th>bathrooms</th>\n",
       "      <th>host_response_rate</th>\n",
       "      <th>latitude</th>\n",
       "      <th>longitude</th>\n",
       "      <th>number_of_reviews</th>\n",
       "      <th>review_scores_rating</th>\n",
       "      <th>bedrooms</th>\n",
       "      <th>beds</th>\n",
       "      <th>price</th>\n",
       "    </tr>\n",
       "  </thead>\n",
       "  <tbody>\n",
       "    <tr>\n",
       "      <td>count</td>\n",
       "      <td>5.738900e+04</td>\n",
       "      <td>57389.000000</td>\n",
       "      <td>57389.000000</td>\n",
       "      <td>57389.000000</td>\n",
       "      <td>57388.000000</td>\n",
       "      <td>57389.000000</td>\n",
       "      <td>57389.000000</td>\n",
       "      <td>57389.000000</td>\n",
       "      <td>57389.000000</td>\n",
       "      <td>57389.000000</td>\n",
       "      <td>57389.000000</td>\n",
       "      <td>57389.000000</td>\n",
       "    </tr>\n",
       "    <tr>\n",
       "      <td>mean</td>\n",
       "      <td>1.125208e+07</td>\n",
       "      <td>4.749232</td>\n",
       "      <td>3.218247</td>\n",
       "      <td>1.225967</td>\n",
       "      <td>0.952632</td>\n",
       "      <td>38.485767</td>\n",
       "      <td>-92.352714</td>\n",
       "      <td>26.957326</td>\n",
       "      <td>94.067365</td>\n",
       "      <td>1.260904</td>\n",
       "      <td>1.737546</td>\n",
       "      <td>147.748297</td>\n",
       "    </tr>\n",
       "    <tr>\n",
       "      <td>std</td>\n",
       "      <td>6.082797e+06</td>\n",
       "      <td>0.668700</td>\n",
       "      <td>2.144154</td>\n",
       "      <td>0.561473</td>\n",
       "      <td>0.122001</td>\n",
       "      <td>3.085702</td>\n",
       "      <td>21.670682</td>\n",
       "      <td>41.043449</td>\n",
       "      <td>7.836556</td>\n",
       "      <td>0.841280</td>\n",
       "      <td>1.265311</td>\n",
       "      <td>134.512852</td>\n",
       "    </tr>\n",
       "    <tr>\n",
       "      <td>min</td>\n",
       "      <td>3.440000e+02</td>\n",
       "      <td>0.000000</td>\n",
       "      <td>1.000000</td>\n",
       "      <td>0.000000</td>\n",
       "      <td>0.000000</td>\n",
       "      <td>33.338905</td>\n",
       "      <td>-122.511500</td>\n",
       "      <td>1.000000</td>\n",
       "      <td>20.000000</td>\n",
       "      <td>0.000000</td>\n",
       "      <td>0.000000</td>\n",
       "      <td>1.000000</td>\n",
       "    </tr>\n",
       "    <tr>\n",
       "      <td>25%</td>\n",
       "      <td>6.248838e+06</td>\n",
       "      <td>4.304065</td>\n",
       "      <td>2.000000</td>\n",
       "      <td>1.000000</td>\n",
       "      <td>0.940000</td>\n",
       "      <td>34.127760</td>\n",
       "      <td>-118.340924</td>\n",
       "      <td>3.000000</td>\n",
       "      <td>92.000000</td>\n",
       "      <td>1.000000</td>\n",
       "      <td>1.000000</td>\n",
       "      <td>74.000000</td>\n",
       "    </tr>\n",
       "    <tr>\n",
       "      <td>50%</td>\n",
       "      <td>1.222387e+07</td>\n",
       "      <td>4.700480</td>\n",
       "      <td>2.000000</td>\n",
       "      <td>1.000000</td>\n",
       "      <td>1.000000</td>\n",
       "      <td>40.668884</td>\n",
       "      <td>-76.995077</td>\n",
       "      <td>11.000000</td>\n",
       "      <td>96.000000</td>\n",
       "      <td>1.000000</td>\n",
       "      <td>1.000000</td>\n",
       "      <td>110.000000</td>\n",
       "    </tr>\n",
       "    <tr>\n",
       "      <td>75%</td>\n",
       "      <td>1.639709e+07</td>\n",
       "      <td>5.164786</td>\n",
       "      <td>4.000000</td>\n",
       "      <td>1.000000</td>\n",
       "      <td>1.000000</td>\n",
       "      <td>40.749182</td>\n",
       "      <td>-73.954325</td>\n",
       "      <td>33.000000</td>\n",
       "      <td>100.000000</td>\n",
       "      <td>1.000000</td>\n",
       "      <td>2.000000</td>\n",
       "      <td>175.000000</td>\n",
       "    </tr>\n",
       "    <tr>\n",
       "      <td>max</td>\n",
       "      <td>2.123090e+07</td>\n",
       "      <td>7.600402</td>\n",
       "      <td>16.000000</td>\n",
       "      <td>8.000000</td>\n",
       "      <td>1.000000</td>\n",
       "      <td>42.390437</td>\n",
       "      <td>-71.000261</td>\n",
       "      <td>605.000000</td>\n",
       "      <td>100.000000</td>\n",
       "      <td>10.000000</td>\n",
       "      <td>18.000000</td>\n",
       "      <td>1999.000000</td>\n",
       "    </tr>\n",
       "  </tbody>\n",
       "</table>\n",
       "</div>"
      ],
      "text/plain": [
       "                 id     log_price  accommodates     bathrooms  \\\n",
       "count  5.738900e+04  57389.000000  57389.000000  57389.000000   \n",
       "mean   1.125208e+07      4.749232      3.218247      1.225967   \n",
       "std    6.082797e+06      0.668700      2.144154      0.561473   \n",
       "min    3.440000e+02      0.000000      1.000000      0.000000   \n",
       "25%    6.248838e+06      4.304065      2.000000      1.000000   \n",
       "50%    1.222387e+07      4.700480      2.000000      1.000000   \n",
       "75%    1.639709e+07      5.164786      4.000000      1.000000   \n",
       "max    2.123090e+07      7.600402     16.000000      8.000000   \n",
       "\n",
       "       host_response_rate      latitude     longitude  number_of_reviews  \\\n",
       "count        57388.000000  57389.000000  57389.000000       57389.000000   \n",
       "mean             0.952632     38.485767    -92.352714          26.957326   \n",
       "std              0.122001      3.085702     21.670682          41.043449   \n",
       "min              0.000000     33.338905   -122.511500           1.000000   \n",
       "25%              0.940000     34.127760   -118.340924           3.000000   \n",
       "50%              1.000000     40.668884    -76.995077          11.000000   \n",
       "75%              1.000000     40.749182    -73.954325          33.000000   \n",
       "max              1.000000     42.390437    -71.000261         605.000000   \n",
       "\n",
       "       review_scores_rating      bedrooms          beds         price  \n",
       "count          57389.000000  57389.000000  57389.000000  57389.000000  \n",
       "mean              94.067365      1.260904      1.737546    147.748297  \n",
       "std                7.836556      0.841280      1.265311    134.512852  \n",
       "min               20.000000      0.000000      0.000000      1.000000  \n",
       "25%               92.000000      1.000000      1.000000     74.000000  \n",
       "50%               96.000000      1.000000      1.000000    110.000000  \n",
       "75%              100.000000      1.000000      2.000000    175.000000  \n",
       "max              100.000000     10.000000     18.000000   1999.000000  "
      ]
     },
     "execution_count": 118,
     "metadata": {},
     "output_type": "execute_result"
    }
   ],
   "source": [
    "df_imputed.describe()"
   ]
  },
  {
   "cell_type": "markdown",
   "metadata": {},
   "source": [
    "The above call provides summary statistics on all integer and float variables. For ID, latitude, and longitude, these are not particularly meaningful.\n",
    "\n",
    "As aforementioned, log(price) was not easily interpretable and the log scale obscures some interesting details more readily apparent in the derived price variable. For one, the cheapest named price is one dollar. The actual cities where these postings were taken from, discussed in a later section, are typically expensive tourist destinations. Very cheap prices are not unheard of, and while this could be a data collection error, the other columns associated with the entry seem legitimate."
   ]
  },
  {
   "cell_type": "code",
   "execution_count": null,
   "metadata": {},
   "outputs": [],
   "source": [
    "df_imputed.loc[df['price'] == 1]"
   ]
  },
  {
   "cell_type": "code",
   "execution_count": null,
   "metadata": {},
   "outputs": [],
   "source": [
    "df_imputed.loc[df['price'] > 1995].head(3)"
   ]
  },
  {
   "cell_type": "markdown",
   "metadata": {},
   "source": [
    "On the other end of the scale is the maximum price, at nearly two thousand dollars per night. Multiple properties aim to differentiate themselves with such a high price point, likely for a correspondingly luxurious experience. Predictably, considering that AirBnB guests generally aim to save money on accommodations, these properties are in low demand, most with no reviews at the point of collection. Overall the average per-night cost sits near \\\\$160 with the 75th percentile at \\\\$185. This hammers home how competitive pricing is, as well as where AirBnB trends on the pricing scale compared to other lodging options such as hostels and hotels.\n",
    "\n",
    "In terms of rooms this dataset's properties provide, on average, 1-2 bedrooms with 1-2 beds and access to one bathroom. The mean value for the accommodates variable sits slightly higher at three, suggesting most provided beds are doubles. Some anomalous entries exist here as well, such as postings for entire homes with at least one bed yet bedrooms at zero, or a handful of entries describing zero real beds. These are likely errors or misunderstandings on the part of the host.\n",
    "\n",
    "Reviews are discussed further alongside graphs to better visualize distributions related to their quantity and score, but the summary statistics alone provide some insight as well. The median number of reviews is 6, a relatively low number that could be attributable to some combination of unreviewed listings, the fact that not all guests write reviews, and the part-time side gig nature of AirBnB for some hosts. Average ratings out of 100 look overwhelmingly high, with the 25th percentile being 92."
   ]
  },
  {
   "cell_type": "markdown",
   "metadata": {},
   "source": [
    "## Visualize Attributes"
   ]
  },
  {
   "cell_type": "code",
   "execution_count": 1,
   "metadata": {},
   "outputs": [],
   "source": [
    "# Import visualization packages\n",
    "%matplotlib inline\n",
    "import matplotlib.pyplot as plt\n",
    "import seaborn as sns\n",
    "from pandas.plotting import parallel_coordinates"
   ]
  },
  {
   "cell_type": "code",
   "execution_count": 22,
   "metadata": {},
   "outputs": [
    {
     "name": "stderr",
     "output_type": "stream",
     "text": [
      "/anaconda3/lib/python3.6/site-packages/matplotlib/axes/_axes.py:6462: UserWarning: The 'normed' kwarg is deprecated, and has been replaced by the 'density' kwarg.\n",
      "  warnings.warn(\"The 'normed' kwarg is deprecated, and has been \"\n"
     ]
    },
    {
     "data": {
      "text/plain": [
       "Text(0,0.5,'Density')"
      ]
     },
     "execution_count": 22,
     "metadata": {},
     "output_type": "execute_result"
    },
    {
     "data": {
      "image/png": "[encoded data removed]",
      "text/plain": [
       "<Figure size 432x288 with 1 Axes>"
      ]
     },
     "metadata": {},
     "output_type": "display_data"
    }
   ],
   "source": [
    "# Histogram for review_scores_rating, a float\n",
    "sns.distplot(df_imputed['review_scores_rating'])\n",
    "plt.title('Distribution of Ratings', fontsize=16)\n",
    "plt.xlabel('Review Scores Rating', fontsize=12)\n",
    "plt.ylabel('Density', fontsize=12)"
   ]
  },
  {
   "cell_type": "markdown",
   "metadata": {},
   "source": [
    "Plotting the ratings reveals a long left tail, with most ratings concentrated in the 80-100 score range. This is likely due to AirBnb's rating system, where guests rate their stay on a scale of 1 to 5 stars. Furthermore, properties that fall below a certain rating average get delisted. Combined, this likely results in an artificially biased sample where consistently strong performers are overrepresented. This is explored further in a later section."
   ]
  },
  {
   "cell_type": "code",
   "execution_count": 23,
   "metadata": {},
   "outputs": [
    {
     "name": "stderr",
     "output_type": "stream",
     "text": [
      "/anaconda3/lib/python3.6/site-packages/matplotlib/axes/_axes.py:6462: UserWarning: The 'normed' kwarg is deprecated, and has been replaced by the 'density' kwarg.\n",
      "  warnings.warn(\"The 'normed' kwarg is deprecated, and has been \"\n"
     ]
    },
    {
     "data": {
      "text/plain": [
       "Text(0,0.5,'Density')"
      ]
     },
     "execution_count": 23,
     "metadata": {},
     "output_type": "execute_result"
    },
    {
     "data": {
      "image/png": "[encoded data removed]",
      "text/plain": [
       "<Figure size 432x288 with 1 Axes>"
      ]
     },
     "metadata": {},
     "output_type": "display_data"
    }
   ],
   "source": [
    "sns.distplot(df_imputed['log_price'])\n",
    "plt.title('Distribution of log(Price)', fontsize=16)\n",
    "plt.xlabel('log(Price)', fontsize=12)\n",
    "plt.ylabel('Density', fontsize=12)"
   ]
  },
  {
   "cell_type": "code",
   "execution_count": 25,
   "metadata": {},
   "outputs": [
    {
     "data": {
      "text/plain": [
       "Text(0,0.5,'Frequency')"
      ]
     },
     "execution_count": 25,
     "metadata": {},
     "output_type": "execute_result"
    },
    {
     "data": {
      "image/png": "[encoded data removed]",
      "text/plain": [
       "<Figure size 432x288 with 1 Axes>"
      ]
     },
     "metadata": {},
     "output_type": "display_data"
    }
   ],
   "source": [
    "# Bar graph for city, a factor\n",
    "sns.countplot(x=\"city\", data=df_imputed)\n",
    "plt.title('Listings by City', fontsize=16)\n",
    "plt.xlabel('City', fontsize=12)\n",
    "plt.ylabel('Frequency', fontsize=12)"
   ]
  },
  {
   "cell_type": "code",
   "execution_count": 47,
   "metadata": {},
   "outputs": [
    {
     "data": {
      "text/plain": [
       "Text(0.5,1,'Host Has Profile Picture')"
      ]
     },
     "execution_count": 47,
     "metadata": {},
     "output_type": "execute_result"
    },
    {
     "data": {
      "image/png": "[encoded data removed]",
      "text/plain": [
       "<Figure size 432x288 with 1 Axes>"
      ]
     },
     "metadata": {},
     "output_type": "display_data"
    }
   ],
   "source": [
    "# Pie chart of host_has_profile_pic, a binary variable\n",
    "explode_profile = (0, 0.1)\n",
    "labels_profile = (\"True\", \"False\")\n",
    "profile_pics = df_imputed['host_has_profile_pic'].value_counts()\n",
    "plt.pie(profile_pics, explode=explode_profile, labels=labels_profile,\n",
    "       autopct='%1.1f%%')\n",
    "plt.title('Host Has Profile Picture')"
   ]
  },
  {
   "cell_type": "code",
   "execution_count": 53,
   "metadata": {},
   "outputs": [
    {
     "data": {
      "text/plain": [
       "Text(0.5,1,'Host Identity Verified')"
      ]
     },
     "execution_count": 53,
     "metadata": {},
     "output_type": "execute_result"
    },
    {
     "data": {
      "image/png": "[encoded data removed]",
      "text/plain": [
       "<Figure size 432x288 with 1 Axes>"
      ]
     },
     "metadata": {},
     "output_type": "display_data"
    }
   ],
   "source": [
    "# Pie chart of host_identity_verified\n",
    "identity_verified = df_imputed['host_identity_verified'].value_counts()\n",
    "labels_verified = (\"True\", \"False\")\n",
    "explode_verified = (0, 0.1)\n",
    "plt.pie(identity_verified, autopct='%1.1f%%', explode=explode_verified,\n",
    "       labels=labels_verified)\n",
    "plt.title('Host Identity Verified')\n"
   ]
  },
  {
   "cell_type": "markdown",
   "metadata": {},
   "source": [
    "## Explore Joint Attributes"
   ]
  },
  {
   "cell_type": "code",
   "execution_count": null,
   "metadata": {},
   "outputs": [],
   "source": [
    "#need to resize this\n",
    "%matplotlib inline\n",
    "fig, ax = plt.subplots(figsize=(10,10)) \n",
    "corr = df_ratings.corr()\n",
    "sns.heatmap(corr, \n",
    "            xticklabels=corr.columns.values,\n",
    "            yticklabels=corr.columns.values,\n",
    "           annot=True,\n",
    "           ax=ax)"
   ]
  },
  {
   "cell_type": "markdown",
   "metadata": {},
   "source": [
    "A heatmap of all the attributes reveals a few positive correlations between certain attributes. Log price and accomodation numbers are positively correlated according to the heatmap, with a coefficient of 0.82. This might indicate a higher price for listings that accommodate more people."
   ]
  },
  {
   "cell_type": "code",
   "execution_count": null,
   "metadata": {},
   "outputs": [],
   "source": [
    "sns.scatterplot('log_price', 'accommodates', data=df_ratings)"
   ]
  },
  {
   "cell_type": "markdown",
   "metadata": {},
   "source": [
    "## Explore Attributes & Class"
   ]
  },
  {
   "cell_type": "code",
   "execution_count": null,
   "metadata": {},
   "outputs": [],
   "source": [
    "# Scatterplot between rating and number of reviews\n",
    "sns.regplot(x='review_scores_rating', \n",
    "            y='number_of_reviews',\n",
    "            data=df_ratings,\n",
    "            scatter_kws={'alpha':0.1})\n",
    "plt.title('Reviews: Quantity and Average', fontsize=16)\n",
    "plt.xlabel('Review Scores Rating', fontsize=12)\n",
    "plt.ylabel('Number of Reviews', fontsize=12)"
   ]
  },
  {
   "cell_type": "markdown",
   "metadata": {},
   "source": [
    "Due to the sheer amount of data, introducing transparency to individual points in the scatterplot helps show some nuance about the distribution. While the concentration of scores in the 70-100 score range is high, there are also darkened overlapping concentrations on the lower end. This is likely an artifact of the 5-star scoring system, which suggests a decent number of properties had an average of 1, 2, 2.5, or 3 stars.\n",
    "\n",
    "As suggested earlier, properties that maintain high-quality as judged by guests are permitted to remain listed on AirBnB, resulting in said properties continuing to accumulate reviews. While one interpretation is that guests simply filter for highly rated properties, it is more likely that poor performers get a limited opportunity to get their act together before being dropped in order to maintain quality across the site."
   ]
  },
  {
   "cell_type": "code",
   "execution_count": null,
   "metadata": {},
   "outputs": [],
   "source": [
    "np.average(df_ratings['number_of_reviews'], weights=(df_ratings['review_scores_rating'] <= 60))"
   ]
  },
  {
   "cell_type": "code",
   "execution_count": null,
   "metadata": {},
   "outputs": [],
   "source": [
    "(df_ratings['review_scores_rating'] <= 60).sum()"
   ]
  },
  {
   "cell_type": "markdown",
   "metadata": {},
   "source": [
    "Some quick calculations show that listings earning 3 stars and below usually had only 1-2 reviews."
   ]
  },
  {
   "cell_type": "code",
   "execution_count": null,
   "metadata": {},
   "outputs": [],
   "source": [
    "# Violin plots of price by city\n",
    "sns.violinplot(x=\"city\", y=\"price\", data=df_ratings)\n",
    "plt.title('Price by City', fontsize=16)\n",
    "plt.xlabel('City', fontsize=12)\n",
    "plt.ylabel('Price, USD', fontsize=12)"
   ]
  },
  {
   "cell_type": "markdown",
   "metadata": {},
   "source": [
    "Violin plots of untransformed price among the six cities in the dataset reveals long tails caused by the expensive outliers. All six cities have at least one listing going for around \\\\$1,500 a night. In order to better see the data, we can cut down to a value slightly above the 75th percentile at \\\\$185."
   ]
  },
  {
   "cell_type": "code",
   "execution_count": null,
   "metadata": {},
   "outputs": [],
   "source": [
    "# Violin plots of price by city, removing outliers\n",
    "sns.violinplot(x=\"city\", y=\"price\", data=df_ratings[df_ratings.price < 300])\n",
    "plt.title('Closer Look at Price by City', fontsize=16)\n",
    "plt.xlabel('City', fontsize=12)\n",
    "plt.ylabel('Price, USD (axis zoomed in)', fontsize=12)"
   ]
  },
  {
   "cell_type": "markdown",
   "metadata": {},
   "source": [
    "This view enables us to see the slightly higher price distribution of San Francisco and the higher density of sub-\\\\$100 postings in New York City, Los Angeles, and Chicago."
   ]
  },
  {
   "cell_type": "code",
   "execution_count": null,
   "metadata": {},
   "outputs": [],
   "source": [
    "plt.figure(figsize = (10, 200))\n",
    "sns.boxplot(x=\"log_price\", y=\"neighbourhood\", hue=\"city\", data=df_ratings,\n",
    "           width=0.8, fliersize=2, dodge=False)"
   ]
  },
  {
   "cell_type": "markdown",
   "metadata": {},
   "source": [
    "Plotting log(price) against neighborhood names is an easier visualization to handle than using regular price. Of note, some neighborhood names have two or more box colors appear (*e.g.*, Downtown, Chinatown), which makes sense because the same neighborhood name can be shared across different cities."
   ]
  },
  {
   "cell_type": "markdown",
   "metadata": {},
   "source": [
    "## New Features"
   ]
  },
  {
   "cell_type": "markdown",
   "metadata": {},
   "source": [
    "Additional potential features could be engineered from existing attributes or derived from the original AirBnB listings.\n",
    "\n",
    "* <s>While log price is the original target variable, it would make sense to create a price variable that simply back-transforms the value into something more easily human-readable and business-relevant.</s>\n",
    "* A general sense for the size of the listing could be obtained from principal component analysis on accommodates, bathrooms, bedrooms, and beds. This would also likely need to account for the property and room type factors, which mention what kind and how much of the property is available to guests.\n",
    "* Clustering could be performed using some combination of latitude, longitude, city, and neighborhood to get a sense for pricing trends based on physical location.\n",
    "* On a related note, hosts frequently use description and name to advertise a property's proximity to popular tourist destinations, public transportation, or restaurants and nightlife. Sentiment analysis on the significance of a property's physical location could give clues about pricing.\n",
    "    * For a less subjective alternative, one could bring in the latitude-longitude coordinates of known highlights in a given city and then calculate distance from the property. This could be captured in binary variables, such as whether a property is located within 0.25 miles of a public transport stop or within a city's tourist district.\n",
    "* Current variables related to reviews are about quantity, scores, or dates. Sentiment analysis could be performed on select reviews (e.g., first, most recent, highest rating, lowest rating) to gain an understanding of why certain guests submitted a given score. For example, perhaps a listing's major strength is its host, and multiple reviews mention the host's hospitality and knowledge about the area. Such details are not currently captured by host-related variables in the dataset. \n",
    "    * Review text may also support a host's claims made about proximity in the description and name."
   ]
  },
  {
   "cell_type": "markdown",
   "metadata": {},
   "source": [
    "## Exceptional Work"
   ]
  },
  {
   "cell_type": "code",
   "execution_count": null,
   "metadata": {},
   "outputs": [],
   "source": [
    "#New attributes by exploring the attributes column\n",
    "df['internet'] = df.apply(lambda row: 'internet' in row.amenities.lower(), axis=1)\n",
    "print(df[['internet', 'amenities']].head())\n",
    "\n",
    "df['TV'] = df.apply(lambda row: 'tv' in row.amenities.lower(), axis=1)\n",
    "print(df[['TV', 'amenities']].head())\n",
    "\n",
    "df['air_conditioning'] = df.apply(lambda row: 'air conditioning' in row.amenities.lower(), axis=1)\n",
    "print(df[['air_conditioning', 'amenities']].head())\n",
    "\n",
    "df['kitchen'] = df.apply(lambda row: 'kitchen' in row.amenities.lower(), axis=1)\n",
    "print(df[['kitchen', 'amenities']].head())\n",
    "\n",
    "df['pool'] = df.apply(lambda row: 'pool' in row.amenities.lower(), axis=1)\n",
    "print(df[['pool', 'amenities']].head())\n",
    "\n",
    "df['parking'] = df.apply(lambda row: 'parking' in row.amenities.lower(), axis=1)\n",
    "print(df[['parking', 'amenities']].head())\n",
    "\n",
    "#We will also make a new price variable that is not logged\n",
    "df['price'] = np.exp(df['log_price'])"
   ]
  },
  {
   "cell_type": "code",
   "execution_count": null,
   "metadata": {},
   "outputs": [],
   "source": []
  }
 ],
 "metadata": {
  "kernelspec": {
   "display_name": "Python 3",
   "language": "python",
   "name": "python3"
  },
  "language_info": {
   "codemirror_mode": {
    "name": "ipython",
    "version": 3
   },
   "file_extension": ".py",
   "mimetype": "text/x-python",
   "name": "python",
   "nbconvert_exporter": "python",
   "pygments_lexer": "ipython3",
   "version": "3.6.5"
  }
 },
 "nbformat": 4,
 "nbformat_minor": 2
}
